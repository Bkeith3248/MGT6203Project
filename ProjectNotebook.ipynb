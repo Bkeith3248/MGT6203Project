{
 "cells": [
  {
   "cell_type": "markdown",
   "source": "## Library Import",
   "metadata": {
    "cell_id": "8be1e445-88bb-435f-adcf-f3e2a6ab142e",
    "tags": [],
    "deepnote_cell_type": "markdown",
    "deepnote_cell_height": 70
   }
  },
  {
   "cell_type": "code",
   "metadata": {
    "tags": [],
    "cell_id": "1f9b91b7-656d-4a6c-bef0-a6df52b203cd",
    "deepnote_to_be_reexecuted": false,
    "source_hash": "f62e5aea",
    "execution_start": 1647877555777,
    "execution_millis": 0,
    "deepnote_cell_type": "code",
    "deepnote_cell_height": 135
   },
   "source": "import pandas as pd\nimport warnings\nwarnings.simplefilter('ignore')\n",
   "execution_count": 14,
   "outputs": []
  },
  {
   "cell_type": "code",
   "source": "df_cpi = pd.read_excel('CPIRawData.xlsx',engine='openpyxl',sheet_name = 'BLS Data Series',skiprows=11)\ndf_cpi.head()",
   "metadata": {
    "cell_id": "9d3b4dd3-e802-4ab5-8837-da79c34be81c",
    "tags": [],
    "deepnote_to_be_reexecuted": false,
    "source_hash": "237e2c3b",
    "execution_start": 1647877520823,
    "execution_millis": 109,
    "deepnote_cell_type": "code",
    "deepnote_cell_height": 494.375
   },
   "outputs": [
    {
     "name": "stderr",
     "text": "/root/venv/lib/python3.7/site-packages/openpyxl/styles/stylesheet.py:226: UserWarning: Workbook contains no default style, apply openpyxl's default\n  warn(\"Workbook contains no default style, apply openpyxl's default\")\n",
     "output_type": "stream"
    },
    {
     "output_type": "execute_result",
     "execution_count": 13,
     "data": {
      "application/vnd.deepnote.dataframe.v3+json": {
       "column_count": 16,
       "row_count": 5,
       "columns": [
        {
         "name": "Year",
         "dtype": "float64",
         "stats": {
          "unique_count": 5,
          "nan_count": 0,
          "min": "1913.0",
          "max": "1917.0",
          "histogram": [
           {
            "bin_start": 1913,
            "bin_end": 1913.4,
            "count": 1
           },
           {
            "bin_start": 1913.4,
            "bin_end": 1913.8,
            "count": 0
           },
           {
            "bin_start": 1913.8,
            "bin_end": 1914.2,
            "count": 1
           },
           {
            "bin_start": 1914.2,
            "bin_end": 1914.6,
            "count": 0
           },
           {
            "bin_start": 1914.6,
            "bin_end": 1915,
            "count": 0
           },
           {
            "bin_start": 1915,
            "bin_end": 1915.4,
            "count": 1
           },
           {
            "bin_start": 1915.4,
            "bin_end": 1915.8,
            "count": 0
           },
           {
            "bin_start": 1915.8,
            "bin_end": 1916.2,
            "count": 1
           },
           {
            "bin_start": 1916.2,
            "bin_end": 1916.6,
            "count": 0
           },
           {
            "bin_start": 1916.6,
            "bin_end": 1917,
            "count": 1
           }
          ]
         }
        },
        {
         "name": "Jan",
         "dtype": "float64",
         "stats": {
          "unique_count": 5,
          "nan_count": 0,
          "min": "9.8",
          "max": "11.7",
          "histogram": [
           {
            "bin_start": 9.8,
            "bin_end": 9.99,
            "count": 1
           },
           {
            "bin_start": 9.99,
            "bin_end": 10.18,
            "count": 2
           },
           {
            "bin_start": 10.18,
            "bin_end": 10.370000000000001,
            "count": 0
           },
           {
            "bin_start": 10.370000000000001,
            "bin_end": 10.56,
            "count": 1
           },
           {
            "bin_start": 10.56,
            "bin_end": 10.75,
            "count": 0
           },
           {
            "bin_start": 10.75,
            "bin_end": 10.94,
            "count": 0
           },
           {
            "bin_start": 10.94,
            "bin_end": 11.129999999999999,
            "count": 0
           },
           {
            "bin_start": 11.129999999999999,
            "bin_end": 11.32,
            "count": 0
           },
           {
            "bin_start": 11.32,
            "bin_end": 11.51,
            "count": 0
           },
           {
            "bin_start": 11.51,
            "bin_end": 11.7,
            "count": 1
           }
          ]
         }
        },
        {
         "name": "Feb",
         "dtype": "float64",
         "stats": {
          "unique_count": 5,
          "nan_count": 0,
          "min": "9.8",
          "max": "12.0",
          "histogram": [
           {
            "bin_start": 9.8,
            "bin_end": 10.020000000000001,
            "count": 3
           },
           {
            "bin_start": 10.020000000000001,
            "bin_end": 10.24,
            "count": 0
           },
           {
            "bin_start": 10.24,
            "bin_end": 10.46,
            "count": 1
           },
           {
            "bin_start": 10.46,
            "bin_end": 10.68,
            "count": 0
           },
           {
            "bin_start": 10.68,
            "bin_end": 10.9,
            "count": 0
           },
           {
            "bin_start": 10.9,
            "bin_end": 11.120000000000001,
            "count": 0
           },
           {
            "bin_start": 11.120000000000001,
            "bin_end": 11.34,
            "count": 0
           },
           {
            "bin_start": 11.34,
            "bin_end": 11.56,
            "count": 0
           },
           {
            "bin_start": 11.56,
            "bin_end": 11.78,
            "count": 0
           },
           {
            "bin_start": 11.78,
            "bin_end": 12,
            "count": 1
           }
          ]
         }
        },
        {
         "name": "Mar",
         "dtype": "float64",
         "stats": {
          "unique_count": 4,
          "nan_count": 0,
          "min": "9.8",
          "max": "12.0",
          "histogram": [
           {
            "bin_start": 9.8,
            "bin_end": 10.020000000000001,
            "count": 3
           },
           {
            "bin_start": 10.020000000000001,
            "bin_end": 10.24,
            "count": 0
           },
           {
            "bin_start": 10.24,
            "bin_end": 10.46,
            "count": 0
           },
           {
            "bin_start": 10.46,
            "bin_end": 10.68,
            "count": 1
           },
           {
            "bin_start": 10.68,
            "bin_end": 10.9,
            "count": 0
           },
           {
            "bin_start": 10.9,
            "bin_end": 11.120000000000001,
            "count": 0
           },
           {
            "bin_start": 11.120000000000001,
            "bin_end": 11.34,
            "count": 0
           },
           {
            "bin_start": 11.34,
            "bin_end": 11.56,
            "count": 0
           },
           {
            "bin_start": 11.56,
            "bin_end": 11.78,
            "count": 0
           },
           {
            "bin_start": 11.78,
            "bin_end": 12,
            "count": 1
           }
          ]
         }
        },
        {
         "name": "Apr",
         "dtype": "float64",
         "stats": {
          "unique_count": 4,
          "nan_count": 0,
          "min": "9.8",
          "max": "12.6",
          "histogram": [
           {
            "bin_start": 9.8,
            "bin_end": 10.08,
            "count": 3
           },
           {
            "bin_start": 10.08,
            "bin_end": 10.360000000000001,
            "count": 0
           },
           {
            "bin_start": 10.360000000000001,
            "bin_end": 10.64,
            "count": 1
           },
           {
            "bin_start": 10.64,
            "bin_end": 10.92,
            "count": 0
           },
           {
            "bin_start": 10.92,
            "bin_end": 11.2,
            "count": 0
           },
           {
            "bin_start": 11.2,
            "bin_end": 11.48,
            "count": 0
           },
           {
            "bin_start": 11.48,
            "bin_end": 11.76,
            "count": 0
           },
           {
            "bin_start": 11.76,
            "bin_end": 12.04,
            "count": 0
           },
           {
            "bin_start": 12.04,
            "bin_end": 12.32,
            "count": 0
           },
           {
            "bin_start": 12.32,
            "bin_end": 12.6,
            "count": 1
           }
          ]
         }
        },
        {
         "name": "May",
         "dtype": "float64",
         "stats": {
          "unique_count": 5,
          "nan_count": 0,
          "min": "9.7",
          "max": "12.8",
          "histogram": [
           {
            "bin_start": 9.7,
            "bin_end": 10.01,
            "count": 2
           },
           {
            "bin_start": 10.01,
            "bin_end": 10.32,
            "count": 1
           },
           {
            "bin_start": 10.32,
            "bin_end": 10.629999999999999,
            "count": 0
           },
           {
            "bin_start": 10.629999999999999,
            "bin_end": 10.94,
            "count": 1
           },
           {
            "bin_start": 10.94,
            "bin_end": 11.25,
            "count": 0
           },
           {
            "bin_start": 11.25,
            "bin_end": 11.56,
            "count": 0
           },
           {
            "bin_start": 11.56,
            "bin_end": 11.870000000000001,
            "count": 0
           },
           {
            "bin_start": 11.870000000000001,
            "bin_end": 12.18,
            "count": 0
           },
           {
            "bin_start": 12.18,
            "bin_end": 12.49,
            "count": 0
           },
           {
            "bin_start": 12.49,
            "bin_end": 12.8,
            "count": 1
           }
          ]
         }
        },
        {
         "name": "Jun",
         "dtype": "float64",
         "stats": {
          "unique_count": 5,
          "nan_count": 0,
          "min": "9.8",
          "max": "13.0",
          "histogram": [
           {
            "bin_start": 9.8,
            "bin_end": 10.120000000000001,
            "count": 3
           },
           {
            "bin_start": 10.120000000000001,
            "bin_end": 10.440000000000001,
            "count": 0
           },
           {
            "bin_start": 10.440000000000001,
            "bin_end": 10.76,
            "count": 0
           },
           {
            "bin_start": 10.76,
            "bin_end": 11.08,
            "count": 1
           },
           {
            "bin_start": 11.08,
            "bin_end": 11.4,
            "count": 0
           },
           {
            "bin_start": 11.4,
            "bin_end": 11.72,
            "count": 0
           },
           {
            "bin_start": 11.72,
            "bin_end": 12.040000000000001,
            "count": 0
           },
           {
            "bin_start": 12.040000000000001,
            "bin_end": 12.36,
            "count": 0
           },
           {
            "bin_start": 12.36,
            "bin_end": 12.68,
            "count": 0
           },
           {
            "bin_start": 12.68,
            "bin_end": 13,
            "count": 1
           }
          ]
         }
        },
        {
         "name": "Jul",
         "dtype": "float64",
         "stats": {
          "unique_count": 5,
          "nan_count": 0,
          "min": "9.9",
          "max": "12.8",
          "histogram": [
           {
            "bin_start": 9.9,
            "bin_end": 10.190000000000001,
            "count": 3
           },
           {
            "bin_start": 10.190000000000001,
            "bin_end": 10.48,
            "count": 0
           },
           {
            "bin_start": 10.48,
            "bin_end": 10.77,
            "count": 0
           },
           {
            "bin_start": 10.77,
            "bin_end": 11.06,
            "count": 1
           },
           {
            "bin_start": 11.06,
            "bin_end": 11.350000000000001,
            "count": 0
           },
           {
            "bin_start": 11.350000000000001,
            "bin_end": 11.64,
            "count": 0
           },
           {
            "bin_start": 11.64,
            "bin_end": 11.93,
            "count": 0
           },
           {
            "bin_start": 11.93,
            "bin_end": 12.22,
            "count": 0
           },
           {
            "bin_start": 12.22,
            "bin_end": 12.510000000000002,
            "count": 0
           },
           {
            "bin_start": 12.510000000000002,
            "bin_end": 12.8,
            "count": 1
           }
          ]
         }
        },
        {
         "name": "Aug",
         "dtype": "float64",
         "stats": {
          "unique_count": 5,
          "nan_count": 0,
          "min": "9.9",
          "max": "13.0",
          "histogram": [
           {
            "bin_start": 9.9,
            "bin_end": 10.21,
            "count": 3
           },
           {
            "bin_start": 10.21,
            "bin_end": 10.52,
            "count": 0
           },
           {
            "bin_start": 10.52,
            "bin_end": 10.83,
            "count": 0
           },
           {
            "bin_start": 10.83,
            "bin_end": 11.14,
            "count": 1
           },
           {
            "bin_start": 11.14,
            "bin_end": 11.45,
            "count": 0
           },
           {
            "bin_start": 11.45,
            "bin_end": 11.76,
            "count": 0
           },
           {
            "bin_start": 11.76,
            "bin_end": 12.07,
            "count": 0
           },
           {
            "bin_start": 12.07,
            "bin_end": 12.379999999999999,
            "count": 0
           },
           {
            "bin_start": 12.379999999999999,
            "bin_end": 12.69,
            "count": 0
           },
           {
            "bin_start": 12.69,
            "bin_end": 13,
            "count": 1
           }
          ]
         }
        },
        {
         "name": "Sep",
         "dtype": "float64",
         "stats": {
          "unique_count": 5,
          "nan_count": 0,
          "min": "10.0",
          "max": "13.3",
          "histogram": [
           {
            "bin_start": 10,
            "bin_end": 10.33,
            "count": 3
           },
           {
            "bin_start": 10.33,
            "bin_end": 10.66,
            "count": 0
           },
           {
            "bin_start": 10.66,
            "bin_end": 10.99,
            "count": 0
           },
           {
            "bin_start": 10.99,
            "bin_end": 11.32,
            "count": 1
           },
           {
            "bin_start": 11.32,
            "bin_end": 11.65,
            "count": 0
           },
           {
            "bin_start": 11.65,
            "bin_end": 11.98,
            "count": 0
           },
           {
            "bin_start": 11.98,
            "bin_end": 12.31,
            "count": 0
           },
           {
            "bin_start": 12.31,
            "bin_end": 12.64,
            "count": 0
           },
           {
            "bin_start": 12.64,
            "bin_end": 12.97,
            "count": 0
           },
           {
            "bin_start": 12.97,
            "bin_end": 13.3,
            "count": 1
           }
          ]
         }
        },
        {
         "name": "Oct",
         "dtype": "float64",
         "stats": {
          "unique_count": 5,
          "nan_count": 0,
          "min": "10.0",
          "max": "13.5",
          "histogram": [
           {
            "bin_start": 10,
            "bin_end": 10.35,
            "count": 3
           },
           {
            "bin_start": 10.35,
            "bin_end": 10.7,
            "count": 0
           },
           {
            "bin_start": 10.7,
            "bin_end": 11.05,
            "count": 0
           },
           {
            "bin_start": 11.05,
            "bin_end": 11.4,
            "count": 1
           },
           {
            "bin_start": 11.4,
            "bin_end": 11.75,
            "count": 0
           },
           {
            "bin_start": 11.75,
            "bin_end": 12.1,
            "count": 0
           },
           {
            "bin_start": 12.1,
            "bin_end": 12.45,
            "count": 0
           },
           {
            "bin_start": 12.45,
            "bin_end": 12.8,
            "count": 0
           },
           {
            "bin_start": 12.8,
            "bin_end": 13.15,
            "count": 0
           },
           {
            "bin_start": 13.15,
            "bin_end": 13.5,
            "count": 1
           }
          ]
         }
        },
        {
         "name": "Nov",
         "dtype": "float64",
         "stats": {
          "unique_count": 5,
          "nan_count": 0,
          "min": "10.1",
          "max": "13.5",
          "histogram": [
           {
            "bin_start": 10.1,
            "bin_end": 10.44,
            "count": 3
           },
           {
            "bin_start": 10.44,
            "bin_end": 10.78,
            "count": 0
           },
           {
            "bin_start": 10.78,
            "bin_end": 11.12,
            "count": 0
           },
           {
            "bin_start": 11.12,
            "bin_end": 11.459999999999999,
            "count": 0
           },
           {
            "bin_start": 11.459999999999999,
            "bin_end": 11.8,
            "count": 1
           },
           {
            "bin_start": 11.8,
            "bin_end": 12.14,
            "count": 0
           },
           {
            "bin_start": 12.14,
            "bin_end": 12.48,
            "count": 0
           },
           {
            "bin_start": 12.48,
            "bin_end": 12.82,
            "count": 0
           },
           {
            "bin_start": 12.82,
            "bin_end": 13.16,
            "count": 0
           },
           {
            "bin_start": 13.16,
            "bin_end": 13.5,
            "count": 1
           }
          ]
         }
        },
        {
         "name": "Dec",
         "dtype": "float64",
         "stats": {
          "unique_count": 5,
          "nan_count": 0,
          "min": "10.0",
          "max": "13.7",
          "histogram": [
           {
            "bin_start": 10,
            "bin_end": 10.37,
            "count": 3
           },
           {
            "bin_start": 10.37,
            "bin_end": 10.74,
            "count": 0
           },
           {
            "bin_start": 10.74,
            "bin_end": 11.11,
            "count": 0
           },
           {
            "bin_start": 11.11,
            "bin_end": 11.48,
            "count": 0
           },
           {
            "bin_start": 11.48,
            "bin_end": 11.85,
            "count": 1
           },
           {
            "bin_start": 11.85,
            "bin_end": 12.219999999999999,
            "count": 0
           },
           {
            "bin_start": 12.219999999999999,
            "bin_end": 12.59,
            "count": 0
           },
           {
            "bin_start": 12.59,
            "bin_end": 12.959999999999999,
            "count": 0
           },
           {
            "bin_start": 12.959999999999999,
            "bin_end": 13.33,
            "count": 0
           },
           {
            "bin_start": 13.33,
            "bin_end": 13.7,
            "count": 1
           }
          ]
         }
        },
        {
         "name": "Annual",
         "dtype": "float64",
         "stats": {
          "unique_count": 5,
          "nan_count": 0,
          "min": "9.9",
          "max": "12.8",
          "histogram": [
           {
            "bin_start": 9.9,
            "bin_end": 10.190000000000001,
            "count": 3
           },
           {
            "bin_start": 10.190000000000001,
            "bin_end": 10.48,
            "count": 0
           },
           {
            "bin_start": 10.48,
            "bin_end": 10.77,
            "count": 0
           },
           {
            "bin_start": 10.77,
            "bin_end": 11.06,
            "count": 1
           },
           {
            "bin_start": 11.06,
            "bin_end": 11.350000000000001,
            "count": 0
           },
           {
            "bin_start": 11.350000000000001,
            "bin_end": 11.64,
            "count": 0
           },
           {
            "bin_start": 11.64,
            "bin_end": 11.93,
            "count": 0
           },
           {
            "bin_start": 11.93,
            "bin_end": 12.22,
            "count": 0
           },
           {
            "bin_start": 12.22,
            "bin_end": 12.510000000000002,
            "count": 0
           },
           {
            "bin_start": 12.510000000000002,
            "bin_end": 12.8,
            "count": 1
           }
          ]
         }
        },
        {
         "name": "HALF1",
         "dtype": "float64",
         "stats": {
          "unique_count": 0,
          "nan_count": 5,
          "min": null,
          "max": null,
          "histogram": [
           {
            "bin_start": 0,
            "bin_end": 0.1,
            "count": 0
           },
           {
            "bin_start": 0.1,
            "bin_end": 0.2,
            "count": 0
           },
           {
            "bin_start": 0.2,
            "bin_end": 0.30000000000000004,
            "count": 0
           },
           {
            "bin_start": 0.30000000000000004,
            "bin_end": 0.4,
            "count": 0
           },
           {
            "bin_start": 0.4,
            "bin_end": 0.5,
            "count": 0
           },
           {
            "bin_start": 0.5,
            "bin_end": 0.6000000000000001,
            "count": 0
           },
           {
            "bin_start": 0.6000000000000001,
            "bin_end": 0.7000000000000001,
            "count": 0
           },
           {
            "bin_start": 0.7000000000000001,
            "bin_end": 0.8,
            "count": 0
           },
           {
            "bin_start": 0.8,
            "bin_end": 0.9,
            "count": 0
           },
           {
            "bin_start": 0.9,
            "bin_end": 1,
            "count": 0
           }
          ]
         }
        },
        {
         "name": "HALF2",
         "dtype": "float64",
         "stats": {
          "unique_count": 0,
          "nan_count": 5,
          "min": null,
          "max": null,
          "histogram": [
           {
            "bin_start": 0,
            "bin_end": 0.1,
            "count": 0
           },
           {
            "bin_start": 0.1,
            "bin_end": 0.2,
            "count": 0
           },
           {
            "bin_start": 0.2,
            "bin_end": 0.30000000000000004,
            "count": 0
           },
           {
            "bin_start": 0.30000000000000004,
            "bin_end": 0.4,
            "count": 0
           },
           {
            "bin_start": 0.4,
            "bin_end": 0.5,
            "count": 0
           },
           {
            "bin_start": 0.5,
            "bin_end": 0.6000000000000001,
            "count": 0
           },
           {
            "bin_start": 0.6000000000000001,
            "bin_end": 0.7000000000000001,
            "count": 0
           },
           {
            "bin_start": 0.7000000000000001,
            "bin_end": 0.8,
            "count": 0
           },
           {
            "bin_start": 0.8,
            "bin_end": 0.9,
            "count": 0
           },
           {
            "bin_start": 0.9,
            "bin_end": 1,
            "count": 0
           }
          ]
         }
        },
        {
         "name": "_deepnote_index_column",
         "dtype": "int64"
        }
       ],
       "rows": [
        {
         "Year": 1913,
         "Jan": 9.8,
         "Feb": 9.8,
         "Mar": 9.8,
         "Apr": 9.8,
         "May": 9.7,
         "Jun": 9.8,
         "Jul": 9.9,
         "Aug": 9.9,
         "Sep": 10,
         "Oct": 10,
         "Nov": 10.1,
         "Dec": 10,
         "Annual": 9.9,
         "HALF1": "nan",
         "HALF2": "nan",
         "_deepnote_index_column": 0
        },
        {
         "Year": 1914,
         "Jan": 10,
         "Feb": 9.9,
         "Mar": 9.9,
         "Apr": 9.8,
         "May": 9.9,
         "Jun": 9.9,
         "Jul": 10,
         "Aug": 10.2,
         "Sep": 10.2,
         "Oct": 10.1,
         "Nov": 10.2,
         "Dec": 10.1,
         "Annual": 10,
         "HALF1": "nan",
         "HALF2": "nan",
         "_deepnote_index_column": 1
        },
        {
         "Year": 1915,
         "Jan": 10.1,
         "Feb": 10,
         "Mar": 9.9,
         "Apr": 10,
         "May": 10.1,
         "Jun": 10.1,
         "Jul": 10.1,
         "Aug": 10.1,
         "Sep": 10.1,
         "Oct": 10.2,
         "Nov": 10.3,
         "Dec": 10.3,
         "Annual": 10.1,
         "HALF1": "nan",
         "HALF2": "nan",
         "_deepnote_index_column": 2
        },
        {
         "Year": 1916,
         "Jan": 10.4,
         "Feb": 10.4,
         "Mar": 10.5,
         "Apr": 10.6,
         "May": 10.7,
         "Jun": 10.8,
         "Jul": 10.8,
         "Aug": 10.9,
         "Sep": 11.1,
         "Oct": 11.3,
         "Nov": 11.5,
         "Dec": 11.6,
         "Annual": 10.9,
         "HALF1": "nan",
         "HALF2": "nan",
         "_deepnote_index_column": 3
        },
        {
         "Year": 1917,
         "Jan": 11.7,
         "Feb": 12,
         "Mar": 12,
         "Apr": 12.6,
         "May": 12.8,
         "Jun": 13,
         "Jul": 12.8,
         "Aug": 13,
         "Sep": 13.3,
         "Oct": 13.5,
         "Nov": 13.5,
         "Dec": 13.7,
         "Annual": 12.8,
         "HALF1": "nan",
         "HALF2": "nan",
         "_deepnote_index_column": 4
        }
       ]
      },
      "text/plain": "     Year   Jan   Feb   Mar   Apr   May   Jun   Jul   Aug   Sep   Oct   Nov  \\\n0  1913.0   9.8   9.8   9.8   9.8   9.7   9.8   9.9   9.9  10.0  10.0  10.1   \n1  1914.0  10.0   9.9   9.9   9.8   9.9   9.9  10.0  10.2  10.2  10.1  10.2   \n2  1915.0  10.1  10.0   9.9  10.0  10.1  10.1  10.1  10.1  10.1  10.2  10.3   \n3  1916.0  10.4  10.4  10.5  10.6  10.7  10.8  10.8  10.9  11.1  11.3  11.5   \n4  1917.0  11.7  12.0  12.0  12.6  12.8  13.0  12.8  13.0  13.3  13.5  13.5   \n\n    Dec  Annual  HALF1  HALF2  \n0  10.0     9.9    NaN    NaN  \n1  10.1    10.0    NaN    NaN  \n2  10.3    10.1    NaN    NaN  \n3  11.6    10.9    NaN    NaN  \n4  13.7    12.8    NaN    NaN  ",
      "text/html": "<div>\n<style scoped>\n    .dataframe tbody tr th:only-of-type {\n        vertical-align: middle;\n    }\n\n    .dataframe tbody tr th {\n        vertical-align: top;\n    }\n\n    .dataframe thead th {\n        text-align: right;\n    }\n</style>\n<table border=\"1\" class=\"dataframe\">\n  <thead>\n    <tr style=\"text-align: right;\">\n      <th></th>\n      <th>Year</th>\n      <th>Jan</th>\n      <th>Feb</th>\n      <th>Mar</th>\n      <th>Apr</th>\n      <th>May</th>\n      <th>Jun</th>\n      <th>Jul</th>\n      <th>Aug</th>\n      <th>Sep</th>\n      <th>Oct</th>\n      <th>Nov</th>\n      <th>Dec</th>\n      <th>Annual</th>\n      <th>HALF1</th>\n      <th>HALF2</th>\n    </tr>\n  </thead>\n  <tbody>\n    <tr>\n      <th>0</th>\n      <td>1913.0</td>\n      <td>9.8</td>\n      <td>9.8</td>\n      <td>9.8</td>\n      <td>9.8</td>\n      <td>9.7</td>\n      <td>9.8</td>\n      <td>9.9</td>\n      <td>9.9</td>\n      <td>10.0</td>\n      <td>10.0</td>\n      <td>10.1</td>\n      <td>10.0</td>\n      <td>9.9</td>\n      <td>NaN</td>\n      <td>NaN</td>\n    </tr>\n    <tr>\n      <th>1</th>\n      <td>1914.0</td>\n      <td>10.0</td>\n      <td>9.9</td>\n      <td>9.9</td>\n      <td>9.8</td>\n      <td>9.9</td>\n      <td>9.9</td>\n      <td>10.0</td>\n      <td>10.2</td>\n      <td>10.2</td>\n      <td>10.1</td>\n      <td>10.2</td>\n      <td>10.1</td>\n      <td>10.0</td>\n      <td>NaN</td>\n      <td>NaN</td>\n    </tr>\n    <tr>\n      <th>2</th>\n      <td>1915.0</td>\n      <td>10.1</td>\n      <td>10.0</td>\n      <td>9.9</td>\n      <td>10.0</td>\n      <td>10.1</td>\n      <td>10.1</td>\n      <td>10.1</td>\n      <td>10.1</td>\n      <td>10.1</td>\n      <td>10.2</td>\n      <td>10.3</td>\n      <td>10.3</td>\n      <td>10.1</td>\n      <td>NaN</td>\n      <td>NaN</td>\n    </tr>\n    <tr>\n      <th>3</th>\n      <td>1916.0</td>\n      <td>10.4</td>\n      <td>10.4</td>\n      <td>10.5</td>\n      <td>10.6</td>\n      <td>10.7</td>\n      <td>10.8</td>\n      <td>10.8</td>\n      <td>10.9</td>\n      <td>11.1</td>\n      <td>11.3</td>\n      <td>11.5</td>\n      <td>11.6</td>\n      <td>10.9</td>\n      <td>NaN</td>\n      <td>NaN</td>\n    </tr>\n    <tr>\n      <th>4</th>\n      <td>1917.0</td>\n      <td>11.7</td>\n      <td>12.0</td>\n      <td>12.0</td>\n      <td>12.6</td>\n      <td>12.8</td>\n      <td>13.0</td>\n      <td>12.8</td>\n      <td>13.0</td>\n      <td>13.3</td>\n      <td>13.5</td>\n      <td>13.5</td>\n      <td>13.7</td>\n      <td>12.8</td>\n      <td>NaN</td>\n      <td>NaN</td>\n    </tr>\n  </tbody>\n</table>\n</div>"
     },
     "metadata": {}
    }
   ],
   "execution_count": 13
  },
  {
   "cell_type": "code",
   "source": "df_inflation = pd.read_excel('CPIPctChangeData.xlsx',engine='openpyxl',sheet_name = 'BLS Data Series',skiprows=11)\ndf_inflation.head()",
   "metadata": {
    "cell_id": "15b6c426-ac2f-4681-b2c2-369a5a215ee4",
    "tags": [],
    "deepnote_to_be_reexecuted": false,
    "source_hash": "20ca3f7a",
    "execution_start": 1647877482169,
    "execution_millis": 94,
    "deepnote_cell_type": "code",
    "deepnote_cell_height": 681.375
   },
   "outputs": [
    {
     "name": "stderr",
     "text": "/root/venv/lib/python3.7/site-packages/openpyxl/styles/stylesheet.py:226: UserWarning: Workbook contains no default style, apply openpyxl's default\n  warn(\"Workbook contains no default style, apply openpyxl's default\")\n",
     "output_type": "stream"
    },
    {
     "output_type": "execute_result",
     "execution_count": 10,
     "data": {
      "application/vnd.deepnote.dataframe.v3+json": {
       "column_count": 16,
       "row_count": 109,
       "columns": [
        {
         "name": "Year",
         "dtype": "float64",
         "stats": {
          "unique_count": 109,
          "nan_count": 0,
          "min": "1914.0",
          "max": "2022.0",
          "histogram": [
           {
            "bin_start": 1914,
            "bin_end": 1924.8,
            "count": 11
           },
           {
            "bin_start": 1924.8,
            "bin_end": 1935.6,
            "count": 11
           },
           {
            "bin_start": 1935.6,
            "bin_end": 1946.4,
            "count": 11
           },
           {
            "bin_start": 1946.4,
            "bin_end": 1957.2,
            "count": 11
           },
           {
            "bin_start": 1957.2,
            "bin_end": 1968,
            "count": 10
           },
           {
            "bin_start": 1968,
            "bin_end": 1978.8,
            "count": 11
           },
           {
            "bin_start": 1978.8,
            "bin_end": 1989.6,
            "count": 11
           },
           {
            "bin_start": 1989.6,
            "bin_end": 2000.4,
            "count": 11
           },
           {
            "bin_start": 2000.4,
            "bin_end": 2011.2,
            "count": 11
           },
           {
            "bin_start": 2011.2,
            "bin_end": 2022,
            "count": 11
           }
          ]
         }
        },
        {
         "name": "Jan",
         "dtype": "float64",
         "stats": {
          "unique_count": 65,
          "nan_count": 0,
          "min": "-11.1",
          "max": "19.7",
          "histogram": [
           {
            "bin_start": -11.1,
            "bin_end": -8.02,
            "count": 3
           },
           {
            "bin_start": -8.02,
            "bin_end": -4.94,
            "count": 1
           },
           {
            "bin_start": -4.94,
            "bin_end": -1.8600000000000012,
            "count": 2
           },
           {
            "bin_start": -1.8600000000000012,
            "bin_end": 1.2199999999999989,
            "count": 20
           },
           {
            "bin_start": 1.2199999999999989,
            "bin_end": 4.299999999999999,
            "count": 56
           },
           {
            "bin_start": 4.299999999999999,
            "bin_end": 7.379999999999997,
            "count": 11
           },
           {
            "bin_start": 7.379999999999997,
            "bin_end": 10.459999999999999,
            "count": 7
           },
           {
            "bin_start": 10.459999999999999,
            "bin_end": 13.539999999999997,
            "count": 4
           },
           {
            "bin_start": 13.539999999999997,
            "bin_end": 16.619999999999997,
            "count": 1
           },
           {
            "bin_start": 16.619999999999997,
            "bin_end": 19.7,
            "count": 4
           }
          ]
         }
        },
        {
         "name": "Feb",
         "dtype": "float64",
         "stats": {
          "unique_count": 67,
          "nan_count": 0,
          "min": "-10.2",
          "max": "20.4",
          "histogram": [
           {
            "bin_start": -10.2,
            "bin_end": -7.14,
            "count": 4
           },
           {
            "bin_start": -7.14,
            "bin_end": -4.08,
            "count": 1
           },
           {
            "bin_start": -4.08,
            "bin_end": -1.0199999999999996,
            "count": 4
           },
           {
            "bin_start": -1.0199999999999996,
            "bin_end": 2.039999999999999,
            "count": 34
           },
           {
            "bin_start": 2.039999999999999,
            "bin_end": 5.099999999999998,
            "count": 44
           },
           {
            "bin_start": 5.099999999999998,
            "bin_end": 8.16,
            "count": 9
           },
           {
            "bin_start": 8.16,
            "bin_end": 11.219999999999999,
            "count": 5
           },
           {
            "bin_start": 11.219999999999999,
            "bin_end": 14.279999999999998,
            "count": 3
           },
           {
            "bin_start": 14.279999999999998,
            "bin_end": 17.339999999999996,
            "count": 2
           },
           {
            "bin_start": 17.339999999999996,
            "bin_end": 20.4,
            "count": 3
           }
          ]
         }
        },
        {
         "name": "Mar",
         "dtype": "float64",
         "stats": {
          "unique_count": 70,
          "nan_count": 1,
          "min": "-10.3",
          "max": "20.1",
          "histogram": [
           {
            "bin_start": -10.3,
            "bin_end": -7.260000000000001,
            "count": 4
           },
           {
            "bin_start": -7.260000000000001,
            "bin_end": -4.220000000000001,
            "count": 1
           },
           {
            "bin_start": -4.220000000000001,
            "bin_end": -1.1799999999999997,
            "count": 3
           },
           {
            "bin_start": -1.1799999999999997,
            "bin_end": 1.8599999999999994,
            "count": 35
           },
           {
            "bin_start": 1.8599999999999994,
            "bin_end": 4.899999999999999,
            "count": 40
           },
           {
            "bin_start": 4.899999999999999,
            "bin_end": 7.940000000000001,
            "count": 13
           },
           {
            "bin_start": 7.940000000000001,
            "bin_end": 10.98,
            "count": 5
           },
           {
            "bin_start": 10.98,
            "bin_end": 14.02,
            "count": 1
           },
           {
            "bin_start": 14.02,
            "bin_end": 17.06,
            "count": 3
           },
           {
            "bin_start": 17.06,
            "bin_end": 20.1,
            "count": 3
           }
          ]
         }
        },
        {
         "name": "Apr",
         "dtype": "float64",
         "stats": {
          "unique_count": 69,
          "nan_count": 1,
          "min": "-10.8",
          "max": "21.6",
          "histogram": [
           {
            "bin_start": -10.8,
            "bin_end": -7.5600000000000005,
            "count": 5
           },
           {
            "bin_start": -7.5600000000000005,
            "bin_end": -4.319999999999999,
            "count": 0
           },
           {
            "bin_start": -4.319999999999999,
            "bin_end": -1.0799999999999983,
            "count": 5
           },
           {
            "bin_start": -1.0799999999999983,
            "bin_end": 2.160000000000002,
            "count": 34
           },
           {
            "bin_start": 2.160000000000002,
            "bin_end": 5.400000000000002,
            "count": 42
           },
           {
            "bin_start": 5.400000000000002,
            "bin_end": 8.640000000000004,
            "count": 9
           },
           {
            "bin_start": 8.640000000000004,
            "bin_end": 11.880000000000003,
            "count": 6
           },
           {
            "bin_start": 11.880000000000003,
            "bin_end": 15.120000000000005,
            "count": 3
           },
           {
            "bin_start": 15.120000000000005,
            "bin_end": 18.360000000000007,
            "count": 1
           },
           {
            "bin_start": 18.360000000000007,
            "bin_end": 21.6,
            "count": 3
           }
          ]
         }
        },
        {
         "name": "May",
         "dtype": "float64",
         "stats": {
          "unique_count": 70,
          "nan_count": 1,
          "min": "-14.1",
          "max": "21.9",
          "histogram": [
           {
            "bin_start": -14.1,
            "bin_end": -10.5,
            "count": 1
           },
           {
            "bin_start": -10.5,
            "bin_end": -6.8999999999999995,
            "count": 3
           },
           {
            "bin_start": -6.8999999999999995,
            "bin_end": -3.299999999999999,
            "count": 1
           },
           {
            "bin_start": -3.299999999999999,
            "bin_end": 0.3000000000000007,
            "count": 15
           },
           {
            "bin_start": 0.3000000000000007,
            "bin_end": 3.9000000000000004,
            "count": 56
           },
           {
            "bin_start": 3.9000000000000004,
            "bin_end": 7.500000000000002,
            "count": 19
           },
           {
            "bin_start": 7.500000000000002,
            "bin_end": 11.1,
            "count": 6
           },
           {
            "bin_start": 11.1,
            "bin_end": 14.700000000000001,
            "count": 3
           },
           {
            "bin_start": 14.700000000000001,
            "bin_end": 18.299999999999997,
            "count": 1
           },
           {
            "bin_start": 18.299999999999997,
            "bin_end": 21.9,
            "count": 3
           }
          ]
         }
        },
        {
         "name": "Jun",
         "dtype": "float64",
         "stats": {
          "unique_count": 65,
          "nan_count": 1,
          "min": "-15.8",
          "max": "23.7",
          "histogram": [
           {
            "bin_start": -15.8,
            "bin_end": -11.850000000000001,
            "count": 1
           },
           {
            "bin_start": -11.850000000000001,
            "bin_end": -7.9,
            "count": 2
           },
           {
            "bin_start": -7.9,
            "bin_end": -3.9499999999999993,
            "count": 2
           },
           {
            "bin_start": -3.9499999999999993,
            "bin_end": 0,
            "count": 9
           },
           {
            "bin_start": 0,
            "bin_end": 3.9499999999999993,
            "count": 59
           },
           {
            "bin_start": 3.9499999999999993,
            "bin_end": 7.900000000000002,
            "count": 22
           },
           {
            "bin_start": 7.900000000000002,
            "bin_end": 11.850000000000001,
            "count": 7
           },
           {
            "bin_start": 11.850000000000001,
            "bin_end": 15.8,
            "count": 3
           },
           {
            "bin_start": 15.8,
            "bin_end": 19.750000000000004,
            "count": 1
           },
           {
            "bin_start": 19.750000000000004,
            "bin_end": 23.7,
            "count": 2
           }
          ]
         }
        },
        {
         "name": "Jul",
         "dtype": "float64",
         "stats": {
          "unique_count": 72,
          "nan_count": 1,
          "min": "-14.9",
          "max": "19.5",
          "histogram": [
           {
            "bin_start": -14.9,
            "bin_end": -11.46,
            "count": 1
           },
           {
            "bin_start": -11.46,
            "bin_end": -8.02,
            "count": 2
           },
           {
            "bin_start": -8.02,
            "bin_end": -4.58,
            "count": 1
           },
           {
            "bin_start": -4.58,
            "bin_end": -1.1400000000000006,
            "count": 7
           },
           {
            "bin_start": -1.1400000000000006,
            "bin_end": 2.299999999999999,
            "count": 37
           },
           {
            "bin_start": 2.299999999999999,
            "bin_end": 5.74,
            "count": 40
           },
           {
            "bin_start": 5.74,
            "bin_end": 9.179999999999998,
            "count": 7
           },
           {
            "bin_start": 9.179999999999998,
            "bin_end": 12.62,
            "count": 8
           },
           {
            "bin_start": 12.62,
            "bin_end": 16.060000000000002,
            "count": 2
           },
           {
            "bin_start": 16.060000000000002,
            "bin_end": 19.5,
            "count": 3
           }
          ]
         }
        },
        {
         "name": "Aug",
         "dtype": "float64",
         "stats": {
          "unique_count": 75,
          "nan_count": 1,
          "min": "-12.8",
          "max": "19.3",
          "histogram": [
           {
            "bin_start": -12.8,
            "bin_end": -9.59,
            "count": 2
           },
           {
            "bin_start": -9.59,
            "bin_end": -6.380000000000001,
            "count": 1
           },
           {
            "bin_start": -6.380000000000001,
            "bin_end": -3.1700000000000017,
            "count": 2
           },
           {
            "bin_start": -3.1700000000000017,
            "bin_end": 0.03999999999999915,
            "count": 12
           },
           {
            "bin_start": 0.03999999999999915,
            "bin_end": 3.25,
            "count": 48
           },
           {
            "bin_start": 3.25,
            "bin_end": 6.459999999999997,
            "count": 25
           },
           {
            "bin_start": 6.459999999999997,
            "bin_end": 9.669999999999998,
            "count": 7
           },
           {
            "bin_start": 9.669999999999998,
            "bin_end": 12.879999999999999,
            "count": 6
           },
           {
            "bin_start": 12.879999999999999,
            "bin_end": 16.09,
            "count": 3
           },
           {
            "bin_start": 16.09,
            "bin_end": 19.3,
            "count": 2
           }
          ]
         }
        },
        {
         "name": "Sep",
         "dtype": "float64",
         "stats": {
          "unique_count": 73,
          "nan_count": 1,
          "min": "-12.5",
          "max": "19.8",
          "histogram": [
           {
            "bin_start": -12.5,
            "bin_end": -9.27,
            "count": 3
           },
           {
            "bin_start": -9.27,
            "bin_end": -6.040000000000001,
            "count": 0
           },
           {
            "bin_start": -6.040000000000001,
            "bin_end": -2.8100000000000023,
            "count": 3
           },
           {
            "bin_start": -2.8100000000000023,
            "bin_end": 0.41999999999999815,
            "count": 14
           },
           {
            "bin_start": 0.41999999999999815,
            "bin_end": 3.6499999999999986,
            "count": 52
           },
           {
            "bin_start": 3.6499999999999986,
            "bin_end": 6.8799999999999955,
            "count": 19
           },
           {
            "bin_start": 6.8799999999999955,
            "bin_end": 10.109999999999996,
            "count": 7
           },
           {
            "bin_start": 10.109999999999996,
            "bin_end": 13.339999999999996,
            "count": 7
           },
           {
            "bin_start": 13.339999999999996,
            "bin_end": 16.569999999999997,
            "count": 1
           },
           {
            "bin_start": 16.569999999999997,
            "bin_end": 19.8,
            "count": 2
           }
          ]
         }
        },
        {
         "name": "Oct",
         "dtype": "float64",
         "stats": {
          "unique_count": 70,
          "nan_count": 1,
          "min": "-12.1",
          "max": "19.5",
          "histogram": [
           {
            "bin_start": -12.1,
            "bin_end": -8.94,
            "count": 3
           },
           {
            "bin_start": -8.94,
            "bin_end": -5.779999999999999,
            "count": 0
           },
           {
            "bin_start": -5.779999999999999,
            "bin_end": -2.619999999999999,
            "count": 4
           },
           {
            "bin_start": -2.619999999999999,
            "bin_end": 0.5400000000000009,
            "count": 11
           },
           {
            "bin_start": 0.5400000000000009,
            "bin_end": 3.700000000000001,
            "count": 54
           },
           {
            "bin_start": 3.700000000000001,
            "bin_end": 6.860000000000001,
            "count": 20
           },
           {
            "bin_start": 6.860000000000001,
            "bin_end": 10.020000000000001,
            "count": 6
           },
           {
            "bin_start": 10.020000000000001,
            "bin_end": 13.180000000000001,
            "count": 7
           },
           {
            "bin_start": 13.180000000000001,
            "bin_end": 16.340000000000003,
            "count": 1
           },
           {
            "bin_start": 16.340000000000003,
            "bin_end": 19.5,
            "count": 2
           }
          ]
         }
        },
        {
         "name": "Nov",
         "dtype": "float64",
         "stats": {
          "unique_count": 66,
          "nan_count": 1,
          "min": "-12.1",
          "max": "20.7",
          "histogram": [
           {
            "bin_start": -12.1,
            "bin_end": -8.82,
            "count": 3
           },
           {
            "bin_start": -8.82,
            "bin_end": -5.54,
            "count": 0
           },
           {
            "bin_start": -5.54,
            "bin_end": -2.26,
            "count": 4
           },
           {
            "bin_start": -2.26,
            "bin_end": 1.0199999999999996,
            "count": 15
           },
           {
            "bin_start": 1.0199999999999996,
            "bin_end": 4.299999999999999,
            "count": 56
           },
           {
            "bin_start": 4.299999999999999,
            "bin_end": 7.58,
            "count": 16
           },
           {
            "bin_start": 7.58,
            "bin_end": 10.859999999999998,
            "count": 6
           },
           {
            "bin_start": 10.859999999999998,
            "bin_end": 14.139999999999999,
            "count": 5
           },
           {
            "bin_start": 14.139999999999999,
            "bin_end": 17.42,
            "count": 1
           },
           {
            "bin_start": 17.42,
            "bin_end": 20.7,
            "count": 2
           }
          ]
         }
        },
        {
         "name": "Dec",
         "dtype": "float64",
         "stats": {
          "unique_count": 66,
          "nan_count": 1,
          "min": "-10.8",
          "max": "20.4",
          "histogram": [
           {
            "bin_start": -10.8,
            "bin_end": -7.680000000000001,
            "count": 3
           },
           {
            "bin_start": -7.680000000000001,
            "bin_end": -4.5600000000000005,
            "count": 1
           },
           {
            "bin_start": -4.5600000000000005,
            "bin_end": -1.4400000000000013,
            "count": 4
           },
           {
            "bin_start": -1.4400000000000013,
            "bin_end": 1.6799999999999997,
            "count": 28
           },
           {
            "bin_start": 1.6799999999999997,
            "bin_end": 4.800000000000001,
            "count": 49
           },
           {
            "bin_start": 4.800000000000001,
            "bin_end": 7.919999999999998,
            "count": 9
           },
           {
            "bin_start": 7.919999999999998,
            "bin_end": 11.04,
            "count": 6
           },
           {
            "bin_start": 11.04,
            "bin_end": 14.16,
            "count": 4
           },
           {
            "bin_start": 14.16,
            "bin_end": 17.28,
            "count": 1
           },
           {
            "bin_start": 17.28,
            "bin_end": 20.4,
            "count": 3
           }
          ]
         }
        },
        {
         "name": "Annual",
         "dtype": "float64",
         "stats": {
          "unique_count": 68,
          "nan_count": 1,
          "min": "-10.5",
          "max": "18.0",
          "histogram": [
           {
            "bin_start": -10.5,
            "bin_end": -7.65,
            "count": 3
           },
           {
            "bin_start": -7.65,
            "bin_end": -4.8,
            "count": 2
           },
           {
            "bin_start": -4.8,
            "bin_end": -1.9499999999999993,
            "count": 2
           },
           {
            "bin_start": -1.9499999999999993,
            "bin_end": 0.9000000000000004,
            "count": 13
           },
           {
            "bin_start": 0.9000000000000004,
            "bin_end": 3.75,
            "count": 55
           },
           {
            "bin_start": 3.75,
            "bin_end": 6.600000000000001,
            "count": 17
           },
           {
            "bin_start": 6.600000000000001,
            "bin_end": 9.45,
            "count": 6
           },
           {
            "bin_start": 9.45,
            "bin_end": 12.3,
            "count": 4
           },
           {
            "bin_start": 12.3,
            "bin_end": 15.150000000000002,
            "count": 3
           },
           {
            "bin_start": 15.150000000000002,
            "bin_end": 18,
            "count": 3
           }
          ]
         }
        },
        {
         "name": "HALF1",
         "dtype": "float64",
         "stats": {
          "unique_count": 26,
          "nan_count": 72,
          "min": "-0.6",
          "max": "5.1",
          "histogram": [
           {
            "bin_start": -0.6,
            "bin_end": -0.030000000000000027,
            "count": 2
           },
           {
            "bin_start": -0.030000000000000027,
            "bin_end": 0.5399999999999999,
            "count": 0
           },
           {
            "bin_start": 0.5399999999999999,
            "bin_end": 1.1099999999999999,
            "count": 1
           },
           {
            "bin_start": 1.1099999999999999,
            "bin_end": 1.6799999999999997,
            "count": 4
           },
           {
            "bin_start": 1.6799999999999997,
            "bin_end": 2.2499999999999996,
            "count": 5
           },
           {
            "bin_start": 2.2499999999999996,
            "bin_end": 2.82,
            "count": 10
           },
           {
            "bin_start": 2.82,
            "bin_end": 3.3899999999999997,
            "count": 6
           },
           {
            "bin_start": 3.3899999999999997,
            "bin_end": 3.9599999999999995,
            "count": 5
           },
           {
            "bin_start": 3.9599999999999995,
            "bin_end": 4.53,
            "count": 1
           },
           {
            "bin_start": 4.53,
            "bin_end": 5.1,
            "count": 3
           }
          ]
         }
        },
        {
         "name": "HALF2",
         "dtype": "float64",
         "stats": {
          "unique_count": 25,
          "nan_count": 72,
          "min": "-0.1",
          "max": "6.0",
          "histogram": [
           {
            "bin_start": -0.1,
            "bin_end": 0.51,
            "count": 2
           },
           {
            "bin_start": 0.51,
            "bin_end": 1.1199999999999999,
            "count": 0
           },
           {
            "bin_start": 1.1199999999999999,
            "bin_end": 1.73,
            "count": 7
           },
           {
            "bin_start": 1.73,
            "bin_end": 2.34,
            "count": 7
           },
           {
            "bin_start": 2.34,
            "bin_end": 2.9499999999999997,
            "count": 6
           },
           {
            "bin_start": 2.9499999999999997,
            "bin_end": 3.56,
            "count": 9
           },
           {
            "bin_start": 3.56,
            "bin_end": 4.17,
            "count": 1
           },
           {
            "bin_start": 4.17,
            "bin_end": 4.78,
            "count": 3
           },
           {
            "bin_start": 4.78,
            "bin_end": 5.390000000000001,
            "count": 0
           },
           {
            "bin_start": 5.390000000000001,
            "bin_end": 6,
            "count": 2
           }
          ]
         }
        },
        {
         "name": "_deepnote_index_column",
         "dtype": "int64"
        }
       ],
       "rows": [
        {
         "Year": 1914,
         "Jan": 2,
         "Feb": 1,
         "Mar": 1,
         "Apr": 0,
         "May": 2.1,
         "Jun": 1,
         "Jul": 1,
         "Aug": 3,
         "Sep": 2,
         "Oct": 1,
         "Nov": 1,
         "Dec": 1,
         "Annual": 1,
         "HALF1": "nan",
         "HALF2": "nan",
         "_deepnote_index_column": 0
        },
        {
         "Year": 1915,
         "Jan": 1,
         "Feb": 1,
         "Mar": 0,
         "Apr": 2,
         "May": 2,
         "Jun": 2,
         "Jul": 1,
         "Aug": -1,
         "Sep": -1,
         "Oct": 1,
         "Nov": 1,
         "Dec": 2,
         "Annual": 1,
         "HALF1": "nan",
         "HALF2": "nan",
         "_deepnote_index_column": 1
        },
        {
         "Year": 1916,
         "Jan": 3,
         "Feb": 4,
         "Mar": 6.1,
         "Apr": 6,
         "May": 5.9,
         "Jun": 6.9,
         "Jul": 6.9,
         "Aug": 7.9,
         "Sep": 9.9,
         "Oct": 10.8,
         "Nov": 11.7,
         "Dec": 12.6,
         "Annual": 7.9,
         "HALF1": "nan",
         "HALF2": "nan",
         "_deepnote_index_column": 2
        },
        {
         "Year": 1917,
         "Jan": 12.5,
         "Feb": 15.4,
         "Mar": 14.3,
         "Apr": 18.9,
         "May": 19.6,
         "Jun": 20.4,
         "Jul": 18.5,
         "Aug": 19.3,
         "Sep": 19.8,
         "Oct": 19.5,
         "Nov": 17.4,
         "Dec": 18.1,
         "Annual": 17.4,
         "HALF1": "nan",
         "HALF2": "nan",
         "_deepnote_index_column": 3
        },
        {
         "Year": 1918,
         "Jan": 19.7,
         "Feb": 17.5,
         "Mar": 16.7,
         "Apr": 12.7,
         "May": 13.3,
         "Jun": 13.1,
         "Jul": 18,
         "Aug": 18.5,
         "Sep": 18,
         "Oct": 18.5,
         "Nov": 20.7,
         "Dec": 20.4,
         "Annual": 18,
         "HALF1": "nan",
         "HALF2": "nan",
         "_deepnote_index_column": 4
        },
        {
         "Year": 1919,
         "Jan": 17.9,
         "Feb": 14.9,
         "Mar": 17.1,
         "Apr": 17.6,
         "May": 16.6,
         "Jun": 15,
         "Jul": 15.2,
         "Aug": 14.9,
         "Sep": 13.4,
         "Oct": 13.1,
         "Nov": 13.5,
         "Dec": 14.5,
         "Annual": 14.6,
         "HALF1": "nan",
         "HALF2": "nan",
         "_deepnote_index_column": 5
        },
        {
         "Year": 1920,
         "Jan": 17,
         "Feb": 20.4,
         "Mar": 20.1,
         "Apr": 21.6,
         "May": 21.9,
         "Jun": 23.7,
         "Jul": 19.5,
         "Aug": 14.7,
         "Sep": 12.4,
         "Oct": 9.9,
         "Nov": 7,
         "Dec": 2.6,
         "Annual": 15.6,
         "HALF1": "nan",
         "HALF2": "nan",
         "_deepnote_index_column": 6
        },
        {
         "Year": 1921,
         "Jan": -1.6,
         "Feb": -5.6,
         "Mar": -7.1,
         "Apr": -10.8,
         "May": -14.1,
         "Jun": -15.8,
         "Jul": -14.9,
         "Aug": -12.8,
         "Sep": -12.5,
         "Oct": -12.1,
         "Nov": -12.1,
         "Dec": -10.8,
         "Annual": -10.5,
         "HALF1": "nan",
         "HALF2": "nan",
         "_deepnote_index_column": 7
        },
        {
         "Year": 1922,
         "Jan": -11.1,
         "Feb": -8.2,
         "Mar": -8.7,
         "Apr": -7.7,
         "May": -5.6,
         "Jun": -5.1,
         "Jul": -5.1,
         "Aug": -6.2,
         "Sep": -5.1,
         "Oct": -4.6,
         "Nov": -3.4,
         "Dec": -2.3,
         "Annual": -6.1,
         "HALF1": "nan",
         "HALF2": "nan",
         "_deepnote_index_column": 8
        },
        {
         "Year": 1923,
         "Jan": -0.6,
         "Feb": -0.6,
         "Mar": 0.6,
         "Apr": 1.2,
         "May": 1.2,
         "Jun": 1.8,
         "Jul": 2.4,
         "Aug": 3,
         "Sep": 3.6,
         "Oct": 3.6,
         "Nov": 3,
         "Dec": 2.4,
         "Annual": 1.8,
         "HALF1": "nan",
         "HALF2": "nan",
         "_deepnote_index_column": 9
        }
       ]
      },
      "text/plain": "       Year   Jan   Feb   Mar   Apr   May   Jun   Jul   Aug   Sep   Oct   Nov  \\\n0    1914.0   2.0   1.0   1.0   0.0   2.1   1.0   1.0   3.0   2.0   1.0   1.0   \n1    1915.0   1.0   1.0   0.0   2.0   2.0   2.0   1.0  -1.0  -1.0   1.0   1.0   \n2    1916.0   3.0   4.0   6.1   6.0   5.9   6.9   6.9   7.9   9.9  10.8  11.7   \n3    1917.0  12.5  15.4  14.3  18.9  19.6  20.4  18.5  19.3  19.8  19.5  17.4   \n4    1918.0  19.7  17.5  16.7  12.7  13.3  13.1  18.0  18.5  18.0  18.5  20.7   \n..      ...   ...   ...   ...   ...   ...   ...   ...   ...   ...   ...   ...   \n104  2018.0   2.1   2.2   2.4   2.5   2.8   2.9   2.9   2.7   2.3   2.5   2.2   \n105  2019.0   1.6   1.5   1.9   2.0   1.8   1.6   1.8   1.7   1.7   1.8   2.1   \n106  2020.0   2.5   2.3   1.5   0.3   0.1   0.6   1.0   1.3   1.4   1.2   1.2   \n107  2021.0   1.4   1.7   2.6   4.2   5.0   5.4   5.4   5.3   5.4   6.2   6.8   \n108  2022.0   7.5   7.9   NaN   NaN   NaN   NaN   NaN   NaN   NaN   NaN   NaN   \n\n      Dec  Annual  HALF1  HALF2  \n0     1.0     1.0    NaN    NaN  \n1     2.0     1.0    NaN    NaN  \n2    12.6     7.9    NaN    NaN  \n3    18.1    17.4    NaN    NaN  \n4    20.4    18.0    NaN    NaN  \n..    ...     ...    ...    ...  \n104   1.9     2.4    2.5    2.4  \n105   2.3     1.8    1.7    1.9  \n106   1.4     1.2    1.2    1.2  \n107   7.0     4.7    3.4    6.0  \n108   NaN     NaN    NaN    NaN  \n\n[109 rows x 16 columns]",
      "text/html": "<div>\n<style scoped>\n    .dataframe tbody tr th:only-of-type {\n        vertical-align: middle;\n    }\n\n    .dataframe tbody tr th {\n        vertical-align: top;\n    }\n\n    .dataframe thead th {\n        text-align: right;\n    }\n</style>\n<table border=\"1\" class=\"dataframe\">\n  <thead>\n    <tr style=\"text-align: right;\">\n      <th></th>\n      <th>Year</th>\n      <th>Jan</th>\n      <th>Feb</th>\n      <th>Mar</th>\n      <th>Apr</th>\n      <th>May</th>\n      <th>Jun</th>\n      <th>Jul</th>\n      <th>Aug</th>\n      <th>Sep</th>\n      <th>Oct</th>\n      <th>Nov</th>\n      <th>Dec</th>\n      <th>Annual</th>\n      <th>HALF1</th>\n      <th>HALF2</th>\n    </tr>\n  </thead>\n  <tbody>\n    <tr>\n      <th>0</th>\n      <td>1914.0</td>\n      <td>2.0</td>\n      <td>1.0</td>\n      <td>1.0</td>\n      <td>0.0</td>\n      <td>2.1</td>\n      <td>1.0</td>\n      <td>1.0</td>\n      <td>3.0</td>\n      <td>2.0</td>\n      <td>1.0</td>\n      <td>1.0</td>\n      <td>1.0</td>\n      <td>1.0</td>\n      <td>NaN</td>\n      <td>NaN</td>\n    </tr>\n    <tr>\n      <th>1</th>\n      <td>1915.0</td>\n      <td>1.0</td>\n      <td>1.0</td>\n      <td>0.0</td>\n      <td>2.0</td>\n      <td>2.0</td>\n      <td>2.0</td>\n      <td>1.0</td>\n      <td>-1.0</td>\n      <td>-1.0</td>\n      <td>1.0</td>\n      <td>1.0</td>\n      <td>2.0</td>\n      <td>1.0</td>\n      <td>NaN</td>\n      <td>NaN</td>\n    </tr>\n    <tr>\n      <th>2</th>\n      <td>1916.0</td>\n      <td>3.0</td>\n      <td>4.0</td>\n      <td>6.1</td>\n      <td>6.0</td>\n      <td>5.9</td>\n      <td>6.9</td>\n      <td>6.9</td>\n      <td>7.9</td>\n      <td>9.9</td>\n      <td>10.8</td>\n      <td>11.7</td>\n      <td>12.6</td>\n      <td>7.9</td>\n      <td>NaN</td>\n      <td>NaN</td>\n    </tr>\n    <tr>\n      <th>3</th>\n      <td>1917.0</td>\n      <td>12.5</td>\n      <td>15.4</td>\n      <td>14.3</td>\n      <td>18.9</td>\n      <td>19.6</td>\n      <td>20.4</td>\n      <td>18.5</td>\n      <td>19.3</td>\n      <td>19.8</td>\n      <td>19.5</td>\n      <td>17.4</td>\n      <td>18.1</td>\n      <td>17.4</td>\n      <td>NaN</td>\n      <td>NaN</td>\n    </tr>\n    <tr>\n      <th>4</th>\n      <td>1918.0</td>\n      <td>19.7</td>\n      <td>17.5</td>\n      <td>16.7</td>\n      <td>12.7</td>\n      <td>13.3</td>\n      <td>13.1</td>\n      <td>18.0</td>\n      <td>18.5</td>\n      <td>18.0</td>\n      <td>18.5</td>\n      <td>20.7</td>\n      <td>20.4</td>\n      <td>18.0</td>\n      <td>NaN</td>\n      <td>NaN</td>\n    </tr>\n    <tr>\n      <th>...</th>\n      <td>...</td>\n      <td>...</td>\n      <td>...</td>\n      <td>...</td>\n      <td>...</td>\n      <td>...</td>\n      <td>...</td>\n      <td>...</td>\n      <td>...</td>\n      <td>...</td>\n      <td>...</td>\n      <td>...</td>\n      <td>...</td>\n      <td>...</td>\n      <td>...</td>\n      <td>...</td>\n    </tr>\n    <tr>\n      <th>104</th>\n      <td>2018.0</td>\n      <td>2.1</td>\n      <td>2.2</td>\n      <td>2.4</td>\n      <td>2.5</td>\n      <td>2.8</td>\n      <td>2.9</td>\n      <td>2.9</td>\n      <td>2.7</td>\n      <td>2.3</td>\n      <td>2.5</td>\n      <td>2.2</td>\n      <td>1.9</td>\n      <td>2.4</td>\n      <td>2.5</td>\n      <td>2.4</td>\n    </tr>\n    <tr>\n      <th>105</th>\n      <td>2019.0</td>\n      <td>1.6</td>\n      <td>1.5</td>\n      <td>1.9</td>\n      <td>2.0</td>\n      <td>1.8</td>\n      <td>1.6</td>\n      <td>1.8</td>\n      <td>1.7</td>\n      <td>1.7</td>\n      <td>1.8</td>\n      <td>2.1</td>\n      <td>2.3</td>\n      <td>1.8</td>\n      <td>1.7</td>\n      <td>1.9</td>\n    </tr>\n    <tr>\n      <th>106</th>\n      <td>2020.0</td>\n      <td>2.5</td>\n      <td>2.3</td>\n      <td>1.5</td>\n      <td>0.3</td>\n      <td>0.1</td>\n      <td>0.6</td>\n      <td>1.0</td>\n      <td>1.3</td>\n      <td>1.4</td>\n      <td>1.2</td>\n      <td>1.2</td>\n      <td>1.4</td>\n      <td>1.2</td>\n      <td>1.2</td>\n      <td>1.2</td>\n    </tr>\n    <tr>\n      <th>107</th>\n      <td>2021.0</td>\n      <td>1.4</td>\n      <td>1.7</td>\n      <td>2.6</td>\n      <td>4.2</td>\n      <td>5.0</td>\n      <td>5.4</td>\n      <td>5.4</td>\n      <td>5.3</td>\n      <td>5.4</td>\n      <td>6.2</td>\n      <td>6.8</td>\n      <td>7.0</td>\n      <td>4.7</td>\n      <td>3.4</td>\n      <td>6.0</td>\n    </tr>\n    <tr>\n      <th>108</th>\n      <td>2022.0</td>\n      <td>7.5</td>\n      <td>7.9</td>\n      <td>NaN</td>\n      <td>NaN</td>\n      <td>NaN</td>\n      <td>NaN</td>\n      <td>NaN</td>\n      <td>NaN</td>\n      <td>NaN</td>\n      <td>NaN</td>\n      <td>NaN</td>\n      <td>NaN</td>\n      <td>NaN</td>\n      <td>NaN</td>\n      <td>NaN</td>\n    </tr>\n  </tbody>\n</table>\n<p>109 rows × 16 columns</p>\n</div>"
     },
     "metadata": {}
    }
   ],
   "execution_count": 10
  },
  {
   "cell_type": "code",
   "source": "",
   "metadata": {
    "cell_id": "2dd9ebe2-c4e9-4eb6-a3bb-decc397137e6",
    "tags": [],
    "deepnote_cell_type": "code",
    "deepnote_cell_height": 66
   },
   "outputs": [],
   "execution_count": null
  },
  {
   "cell_type": "markdown",
   "source": "<a style='text-decoration:none;line-height:16px;display:flex;color:#5B5B62;padding:10px;justify-content:end;' href='https://deepnote.com?utm_source=created-in-deepnote-cell&projectId=c5ceaca9-e365-4132-a867-b543164c96b0' target=\"_blank\">\n<img alt='Created in deepnote.com' style='display:inline;max-height:16px;margin:0px;margin-right:7.5px;' src='data:image/svg+xml;base64,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' > </img>\nCreated in <span style='font-weight:600;margin-left:4px;'>Deepnote</span></a>",
   "metadata": {
    "tags": [],
    "created_in_deepnote_cell": true,
    "deepnote_cell_type": "markdown"
   }
  }
 ],
 "nbformat": 4,
 "nbformat_minor": 2,
 "metadata": {
  "orig_nbformat": 2,
  "deepnote": {
   "is_reactive": false
  },
  "deepnote_notebook_id": "d7942de4-27d6-4677-b121-f637072e7e30",
  "deepnote_execution_queue": []
 }
}