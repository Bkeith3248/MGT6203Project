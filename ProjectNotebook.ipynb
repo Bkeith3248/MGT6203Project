{
 "cells": [
  {
   "cell_type": "markdown",
   "source": "## Library Import",
   "metadata": {
    "cell_id": "8be1e445-88bb-435f-adcf-f3e2a6ab142e",
    "tags": [],
    "deepnote_cell_type": "markdown",
    "deepnote_cell_height": 70.171875
   }
  },
  {
   "cell_type": "code",
   "metadata": {
    "tags": [],
    "cell_id": "1f9b91b7-656d-4a6c-bef0-a6df52b203cd",
    "deepnote_to_be_reexecuted": false,
    "source_hash": "bd67e489",
    "execution_start": 1649177955691,
    "execution_millis": 1725,
    "deepnote_cell_type": "code",
    "deepnote_cell_height": 729.15625
   },
   "source": "import pandas as pd\nfrom matplotlib import pyplot\nfrom pandas.plotting import lag_plot\nfrom IPython.display import display,Markdown\nimport plotly\nimport plotly.graph_objects as go\nimport plotly.express as px\nimport numpy as np\nimport statistics as stats\nimport warnings\nwarnings.simplefilter('ignore')\nimport datetime as dt\n\n'''\nimport fbprophet\nfrom fbprophet import Prophet\nfrom fbprophet.plot import add_changepoints_to_plot\nfrom fbprophet.plot import plot_forecast_component\nfrom prophet_plots_plotly import plot_model_components, plot_model\n'''\nbuttons_to_remove = ['zoom2d','zoomIn2d','zoomOut2d',\n                     'sendDataToCloud',\n                     'editInChartStudio',\n                     'select2d',\n                     'lasso2d',]\n\nscatter_config = {'displayModeBar': 'Always',\n                 \"displaylogo\": False,\n                 'modeBarButtons': 'toggleHover ',\n                 'modeBarButtonsToRemove': buttons_to_remove,}\n\nlegend_config = dict(orientation = 'h',\n                 yanchor=\"bottom\",\n                 y=1.05,\n                 xanchor=\"left\",\n                 x=0.01)\n",
   "execution_count": 1,
   "outputs": []
  },
  {
   "cell_type": "markdown",
   "source": "## Import & Modify CPI Data",
   "metadata": {
    "cell_id": "37784a736abe4ce28c6e66c2c7a27a3f",
    "tags": [],
    "deepnote_cell_type": "markdown",
    "deepnote_cell_height": 70.171875
   }
  },
  {
   "cell_type": "code",
   "metadata": {
    "cell_id": "9d3b4dd3-e802-4ab5-8837-da79c34be81c",
    "tags": [],
    "deepnote_to_be_reexecuted": false,
    "source_hash": "bdcf6fd3",
    "execution_start": 1649177957433,
    "execution_millis": 560,
    "deepnote_cell_type": "code",
    "deepnote_cell_height": 2209.3125,
    "deepnote_output_heights": [
     48.765625,
     177.671875,
     48.765625,
     177.671875,
     48.765625,
     177.671875,
     21.171875
    ]
   },
   "source": "'''\nRaw CPI Data\n'''\n\ncpi_raw = pd.read_excel('AllItems_CPIRawData.xlsx',engine='openpyxl',sheet_name = 'BLS Data Series',skiprows=11)\ncpi_raw = cpi_raw.loc[:,~cpi_raw.columns.str.startswith('HALF')]\n\ncpi_raw.set_index('Year',inplace = True)\ncpi_raw['Annual'] = cpi_raw.mean(numeric_only=True, axis=1)\ncpi_raw.reset_index(inplace = True)\ndisplay(Markdown('<h2>Raw CPI Data w/ Calculated Annual CPI</h2>'))\ndisplay(cpi_raw.head())\n\n'''\nImport CPI data, remove monthly data, calculate inflation, and find rolling avg of CPI and inflation\n'''\n\ncpi_yearly = cpi_raw.copy()\n\ncpi_yearly = cpi_yearly[['Year','Annual']]\ncpi_yearly.rename(columns={\"Annual\": \"CPI\",'Year': 'Date'},inplace=True)\n\nwindow_yearly = 3\n\ncpi_yearly['RollingAvgCPI'] = cpi_yearly.CPI.rolling(window_yearly).mean()\ncpi_yearly['RollingAvgCPI_low'] = cpi_yearly.CPI.rolling(window_yearly).min()\ncpi_yearly['RollingAvgCPI_high'] = cpi_yearly.CPI.rolling(window_yearly).max()\n\ncpi_yearly['Inflation'] = (cpi_yearly.CPI.diff()/ cpi_yearly['CPI'].shift(1))*100\ncpi_yearly['RollingAvgInflation'] = cpi_yearly.Inflation.rolling(window_yearly).mean()\ncpi_yearly['RollingAvgInflation_low'] = cpi_yearly.Inflation.rolling(window_yearly).min()\ncpi_yearly['RollingAvgInflation_high'] = cpi_yearly.Inflation.rolling(window_yearly).max()\n\ndisplay(Markdown('<h2>Yearly CPI and Inflation Data</h2>'))\ndisplay(cpi_yearly.head())\n\n\n'''\nTransform CPI data into monthly format and calculate inflation\n'''\ncpi_monthly =  cpi_raw.copy()\n#drop unnecessary columns\ncpi_monthly.drop(columns = ['Annual'], inplace = True)\n\nwindow_monthly = 6\n\n#use pd.melt to combine columns and rows\ncpi_monthly = pd.melt(cpi_monthly, id_vars=[\"Year\"], var_name=\"Month\", value_name = \"CPI\")\n#modify columns to get usable format and calculate inflation\ncpi_monthly['Date'] = cpi_monthly.Month + \" \" + cpi_monthly.Year.map(str)\ncpi_monthly = cpi_monthly[['Date','CPI']]\ncpi_monthly[\"Date\"] = pd.to_datetime(cpi_monthly.Date, format=\"%b %Y\", dayfirst=True)\ncpi_monthly = cpi_monthly.sort_values(\"Date\")\n#cpi_monthly ['Date'] = cpi_monthly['Date'].dt.strftime('%m/%d/%Y')\ncpi_monthly ['Date'] = cpi_monthly['Date'].dt.date\ncpi_monthly['Inflation'] = (cpi_monthly.CPI.diff()/ cpi_monthly['CPI'].shift(1))*100\n\ncpi_monthly['RollingAvgCPI'] = cpi_monthly.CPI.rolling(window_monthly).mean()\ncpi_monthly['RollingAvgCPI_low'] = cpi_monthly.CPI.rolling(window_monthly).min()\ncpi_monthly['RollingAvgCPI_high'] = cpi_monthly.CPI.rolling(window_monthly).max()\n\ncpi_monthly['Inflation'] = (cpi_monthly.CPI.diff()/ cpi_monthly['CPI'].shift(1))*100\ncpi_monthly['RollingAvgInflation'] = cpi_monthly.Inflation.rolling(window_monthly).mean()\ncpi_monthly['RollingAvgInflation_low'] = cpi_monthly.Inflation.rolling(window_monthly).min()\ncpi_monthly['RollingAvgInflation_high'] = cpi_monthly.Inflation.rolling(window_monthly).max()\n\ndisplay(Markdown('<h2>Monthly CPI and Inflation Data</h2>'))\ndisplay(cpi_monthly.head())\ndisplay('')",
   "execution_count": 2,
   "outputs": [
    {
     "data": {
      "text/plain": "<IPython.core.display.Markdown object>",
      "text/markdown": "<h2>Raw CPI Data w/ Calculated Annual CPI</h2>"
     },
     "metadata": {},
     "output_type": "display_data"
    },
    {
     "data": {
      "text/plain": "   Year    Jan    Feb    Mar    Apr    May    Jun    Jul    Aug    Sep    Oct  \\\n0  1947  21.48  21.62  22.00  22.00  21.95  22.08  22.23  22.40  22.84  22.91   \n1  1948  23.68  23.67  23.50  23.82  24.01  24.15  24.40  24.43  24.36  24.31   \n2  1949  24.01  23.91  23.91  23.92  23.91  23.92  23.70  23.70  23.75  23.67   \n3  1950  23.51  23.61  23.64  23.65  23.77  23.88  24.07  24.20  24.34  24.50   \n4  1951  25.38  25.83  25.88  25.92  25.99  25.93  25.91  25.86  26.03  26.16   \n\n     Nov    Dec     Annual  \n0  23.06  23.41  22.331667  \n1  24.16  24.05  24.045000  \n2  23.70  23.61  23.809167  \n3  24.60  24.98  24.062500  \n4  26.32  26.47  25.973333  ",
      "text/html": "<div>\n<style scoped>\n    .dataframe tbody tr th:only-of-type {\n        vertical-align: middle;\n    }\n\n    .dataframe tbody tr th {\n        vertical-align: top;\n    }\n\n    .dataframe thead th {\n        text-align: right;\n    }\n</style>\n<table border=\"1\" class=\"dataframe\">\n  <thead>\n    <tr style=\"text-align: right;\">\n      <th></th>\n      <th>Year</th>\n      <th>Jan</th>\n      <th>Feb</th>\n      <th>Mar</th>\n      <th>Apr</th>\n      <th>May</th>\n      <th>Jun</th>\n      <th>Jul</th>\n      <th>Aug</th>\n      <th>Sep</th>\n      <th>Oct</th>\n      <th>Nov</th>\n      <th>Dec</th>\n      <th>Annual</th>\n    </tr>\n  </thead>\n  <tbody>\n    <tr>\n      <th>0</th>\n      <td>1947</td>\n      <td>21.48</td>\n      <td>21.62</td>\n      <td>22.00</td>\n      <td>22.00</td>\n      <td>21.95</td>\n      <td>22.08</td>\n      <td>22.23</td>\n      <td>22.40</td>\n      <td>22.84</td>\n      <td>22.91</td>\n      <td>23.06</td>\n      <td>23.41</td>\n      <td>22.331667</td>\n    </tr>\n    <tr>\n      <th>1</th>\n      <td>1948</td>\n      <td>23.68</td>\n      <td>23.67</td>\n      <td>23.50</td>\n      <td>23.82</td>\n      <td>24.01</td>\n      <td>24.15</td>\n      <td>24.40</td>\n      <td>24.43</td>\n      <td>24.36</td>\n      <td>24.31</td>\n      <td>24.16</td>\n      <td>24.05</td>\n      <td>24.045000</td>\n    </tr>\n    <tr>\n      <th>2</th>\n      <td>1949</td>\n      <td>24.01</td>\n      <td>23.91</td>\n      <td>23.91</td>\n      <td>23.92</td>\n      <td>23.91</td>\n      <td>23.92</td>\n      <td>23.70</td>\n      <td>23.70</td>\n      <td>23.75</td>\n      <td>23.67</td>\n      <td>23.70</td>\n      <td>23.61</td>\n      <td>23.809167</td>\n    </tr>\n    <tr>\n      <th>3</th>\n      <td>1950</td>\n      <td>23.51</td>\n      <td>23.61</td>\n      <td>23.64</td>\n      <td>23.65</td>\n      <td>23.77</td>\n      <td>23.88</td>\n      <td>24.07</td>\n      <td>24.20</td>\n      <td>24.34</td>\n      <td>24.50</td>\n      <td>24.60</td>\n      <td>24.98</td>\n      <td>24.062500</td>\n    </tr>\n    <tr>\n      <th>4</th>\n      <td>1951</td>\n      <td>25.38</td>\n      <td>25.83</td>\n      <td>25.88</td>\n      <td>25.92</td>\n      <td>25.99</td>\n      <td>25.93</td>\n      <td>25.91</td>\n      <td>25.86</td>\n      <td>26.03</td>\n      <td>26.16</td>\n      <td>26.32</td>\n      <td>26.47</td>\n      <td>25.973333</td>\n    </tr>\n  </tbody>\n</table>\n</div>"
     },
     "metadata": {},
     "output_type": "display_data"
    },
    {
     "data": {
      "text/plain": "<IPython.core.display.Markdown object>",
      "text/markdown": "<h2>Yearly CPI and Inflation Data</h2>"
     },
     "metadata": {},
     "output_type": "display_data"
    },
    {
     "data": {
      "text/plain": "   Date        CPI  RollingAvgCPI  RollingAvgCPI_low  RollingAvgCPI_high  \\\n0  1947  22.331667            NaN                NaN                 NaN   \n1  1948  24.045000            NaN                NaN                 NaN   \n2  1949  23.809167      23.395278          22.331667           24.045000   \n3  1950  24.062500      23.972222          23.809167           24.062500   \n4  1951  25.973333      24.615000          23.809167           25.973333   \n\n   Inflation  RollingAvgInflation  RollingAvgInflation_low  \\\n0        NaN                  NaN                      NaN   \n1   7.672214                  NaN                      NaN   \n2  -0.980800                  NaN                      NaN   \n3   1.064016             2.585143                  -0.9808   \n4   7.941126             2.674781                  -0.9808   \n\n   RollingAvgInflation_high  \n0                       NaN  \n1                       NaN  \n2                       NaN  \n3                  7.672214  \n4                  7.941126  ",
      "text/html": "<div>\n<style scoped>\n    .dataframe tbody tr th:only-of-type {\n        vertical-align: middle;\n    }\n\n    .dataframe tbody tr th {\n        vertical-align: top;\n    }\n\n    .dataframe thead th {\n        text-align: right;\n    }\n</style>\n<table border=\"1\" class=\"dataframe\">\n  <thead>\n    <tr style=\"text-align: right;\">\n      <th></th>\n      <th>Date</th>\n      <th>CPI</th>\n      <th>RollingAvgCPI</th>\n      <th>RollingAvgCPI_low</th>\n      <th>RollingAvgCPI_high</th>\n      <th>Inflation</th>\n      <th>RollingAvgInflation</th>\n      <th>RollingAvgInflation_low</th>\n      <th>RollingAvgInflation_high</th>\n    </tr>\n  </thead>\n  <tbody>\n    <tr>\n      <th>0</th>\n      <td>1947</td>\n      <td>22.331667</td>\n      <td>NaN</td>\n      <td>NaN</td>\n      <td>NaN</td>\n      <td>NaN</td>\n      <td>NaN</td>\n      <td>NaN</td>\n      <td>NaN</td>\n    </tr>\n    <tr>\n      <th>1</th>\n      <td>1948</td>\n      <td>24.045000</td>\n      <td>NaN</td>\n      <td>NaN</td>\n      <td>NaN</td>\n      <td>7.672214</td>\n      <td>NaN</td>\n      <td>NaN</td>\n      <td>NaN</td>\n    </tr>\n    <tr>\n      <th>2</th>\n      <td>1949</td>\n      <td>23.809167</td>\n      <td>23.395278</td>\n      <td>22.331667</td>\n      <td>24.045000</td>\n      <td>-0.980800</td>\n      <td>NaN</td>\n      <td>NaN</td>\n      <td>NaN</td>\n    </tr>\n    <tr>\n      <th>3</th>\n      <td>1950</td>\n      <td>24.062500</td>\n      <td>23.972222</td>\n      <td>23.809167</td>\n      <td>24.062500</td>\n      <td>1.064016</td>\n      <td>2.585143</td>\n      <td>-0.9808</td>\n      <td>7.672214</td>\n    </tr>\n    <tr>\n      <th>4</th>\n      <td>1951</td>\n      <td>25.973333</td>\n      <td>24.615000</td>\n      <td>23.809167</td>\n      <td>25.973333</td>\n      <td>7.941126</td>\n      <td>2.674781</td>\n      <td>-0.9808</td>\n      <td>7.941126</td>\n    </tr>\n  </tbody>\n</table>\n</div>"
     },
     "metadata": {},
     "output_type": "display_data"
    },
    {
     "data": {
      "text/plain": "<IPython.core.display.Markdown object>",
      "text/markdown": "<h2>Monthly CPI and Inflation Data</h2>"
     },
     "metadata": {},
     "output_type": "display_data"
    },
    {
     "data": {
      "text/plain": "           Date    CPI  Inflation  RollingAvgCPI  RollingAvgCPI_low  \\\n0    1947-01-01  21.48        NaN            NaN                NaN   \n76   1947-02-01  21.62   0.651769            NaN                NaN   \n152  1947-03-01  22.00   1.757632            NaN                NaN   \n228  1947-04-01  22.00   0.000000            NaN                NaN   \n304  1947-05-01  21.95  -0.227273            NaN                NaN   \n\n     RollingAvgCPI_high  RollingAvgInflation  RollingAvgInflation_low  \\\n0                   NaN                  NaN                      NaN   \n76                  NaN                  NaN                      NaN   \n152                 NaN                  NaN                      NaN   \n228                 NaN                  NaN                      NaN   \n304                 NaN                  NaN                      NaN   \n\n     RollingAvgInflation_high  \n0                         NaN  \n76                        NaN  \n152                       NaN  \n228                       NaN  \n304                       NaN  ",
      "text/html": "<div>\n<style scoped>\n    .dataframe tbody tr th:only-of-type {\n        vertical-align: middle;\n    }\n\n    .dataframe tbody tr th {\n        vertical-align: top;\n    }\n\n    .dataframe thead th {\n        text-align: right;\n    }\n</style>\n<table border=\"1\" class=\"dataframe\">\n  <thead>\n    <tr style=\"text-align: right;\">\n      <th></th>\n      <th>Date</th>\n      <th>CPI</th>\n      <th>Inflation</th>\n      <th>RollingAvgCPI</th>\n      <th>RollingAvgCPI_low</th>\n      <th>RollingAvgCPI_high</th>\n      <th>RollingAvgInflation</th>\n      <th>RollingAvgInflation_low</th>\n      <th>RollingAvgInflation_high</th>\n    </tr>\n  </thead>\n  <tbody>\n    <tr>\n      <th>0</th>\n      <td>1947-01-01</td>\n      <td>21.48</td>\n      <td>NaN</td>\n      <td>NaN</td>\n      <td>NaN</td>\n      <td>NaN</td>\n      <td>NaN</td>\n      <td>NaN</td>\n      <td>NaN</td>\n    </tr>\n    <tr>\n      <th>76</th>\n      <td>1947-02-01</td>\n      <td>21.62</td>\n      <td>0.651769</td>\n      <td>NaN</td>\n      <td>NaN</td>\n      <td>NaN</td>\n      <td>NaN</td>\n      <td>NaN</td>\n      <td>NaN</td>\n    </tr>\n    <tr>\n      <th>152</th>\n      <td>1947-03-01</td>\n      <td>22.00</td>\n      <td>1.757632</td>\n      <td>NaN</td>\n      <td>NaN</td>\n      <td>NaN</td>\n      <td>NaN</td>\n      <td>NaN</td>\n      <td>NaN</td>\n    </tr>\n    <tr>\n      <th>228</th>\n      <td>1947-04-01</td>\n      <td>22.00</td>\n      <td>0.000000</td>\n      <td>NaN</td>\n      <td>NaN</td>\n      <td>NaN</td>\n      <td>NaN</td>\n      <td>NaN</td>\n      <td>NaN</td>\n    </tr>\n    <tr>\n      <th>304</th>\n      <td>1947-05-01</td>\n      <td>21.95</td>\n      <td>-0.227273</td>\n      <td>NaN</td>\n      <td>NaN</td>\n      <td>NaN</td>\n      <td>NaN</td>\n      <td>NaN</td>\n      <td>NaN</td>\n    </tr>\n  </tbody>\n</table>\n</div>"
     },
     "metadata": {},
     "output_type": "display_data"
    },
    {
     "data": {
      "text/plain": "''"
     },
     "metadata": {},
     "output_type": "display_data"
    }
   ]
  },
  {
   "cell_type": "markdown",
   "source": "## Plot CPI and inflation data with rolling avg",
   "metadata": {
    "cell_id": "6ed990121b1d419a9efe20f984debe7a",
    "tags": [],
    "deepnote_cell_type": "markdown",
    "deepnote_cell_height": 70.171875
   }
  },
  {
   "cell_type": "code",
   "metadata": {
    "cell_id": "218d2e5990f042c1836253db160e2264",
    "tags": [],
    "deepnote_to_be_reexecuted": false,
    "source_hash": "8486b22a",
    "execution_start": 1649177958051,
    "execution_millis": 1043,
    "deepnote_cell_type": "code",
    "deepnote_cell_height": 5454.15625,
    "deepnote_output_heights": [
     48.765625,
     501.984375,
     48.765625,
     501.984375,
     48.765625,
     501.984375,
     48.765625,
     501.984375
    ]
   },
   "source": "'''\nCPI Yearly\n'''\n\nfig = go.Figure()\n\ny = cpi_yearly['CPI']\nx = cpi_yearly['Date']\ny_roll = cpi_yearly['RollingAvgCPI']\ny_rollmin = cpi_yearly['RollingAvgCPI_low']\ny_rollmax = cpi_yearly['RollingAvgCPI_high']\n\nfig.add_trace(go.Scatter(x=x, y=y,\n                         marker=dict(color='#005100',size = 5),\n                         line = dict(color='#005100',width = 1),\n                         mode='markers+lines',\n                         name='Yearly CPI'))\n\nfig.add_trace(go.Scatter(x=x, y=y_roll,\n                         line = dict(color='#FF3333',width = 1),\n                         mode='lines',\n                         name=f'{window_yearly} Year Rolling Avg'))\n\nfig.add_trace(go.Scatter(x=x, y=y_rollmin,\n                         line = dict(color='#bf9fa2',width = 1),\n                         mode='lines',\n                         name=f'{window_yearly} Year Rolling Low'))\n\nfig.add_trace(go.Scatter(x=x, y=y_rollmax,\n                         line = dict(color='#bf9fa2',width = 1),\n                         mode='lines',\n                         fill='tonexty',\n                         name=f'{window_yearly} Year Rolling High'))\n\nfig.update_xaxes(tickangle=-45, tickfont = dict(family = 'Arial', size = 14,color = 'black'))\nfig.update_layout(hovermode=\"x unified\",clickmode ='select',height=500,width=1100,)\nfig.update_layout(legend=legend_config)\n\ndisplay(Markdown('<h2>Yearly CPI Data</h2>'))\nfig.show(config=scatter_config)\n\n'''\nCPI Monthly\n'''\n\nfig = go.Figure()\n\ny = cpi_monthly['CPI']\nx = cpi_monthly['Date']\ny_roll = cpi_monthly['RollingAvgCPI']\ny_rollmin = cpi_monthly['RollingAvgCPI_low']\ny_rollmax = cpi_monthly['RollingAvgCPI_high']\n\nfig.add_trace(go.Scatter(x=x, y=y,\n                         marker=dict(color='#005100',size = 5),\n                         line = dict(color='#005100',width = 1),\n                         mode='markers+lines',\n                         name='Monthly CPI'))\n\nfig.add_trace(go.Scatter(x=x, y=y_roll,\n                         line = dict(color='#FF3333',width = 1),\n                         mode='lines',\n                         name=f'{window_monthly} Month Rolling Avg'))\n\nfig.add_trace(go.Scatter(x=x, y=y_rollmin,\n                         line = dict(color='#bf9fa2',width = 1),\n                         mode='lines',\n                         name=f'{window_monthly} Month Rolling Low'))\n\nfig.add_trace(go.Scatter(x=x, y=y_rollmax,\n                         line = dict(color='#bf9fa2',width = 1),\n                         mode='lines',\n                         fill='tonexty',\n                         name=f'{window_monthly} Month Rolling High'))\n\nfig.update_xaxes(tickangle=-45, tickfont = dict(family = 'Arial', size = 14,color = 'black'))\nfig.update_layout(hovermode=\"x unified\",clickmode ='select',height=500,width=1100,)\nfig.update_layout(legend=legend_config)\n\ndisplay(Markdown('<h2>Monthly CPI Data</h2>'))\nfig.show(config=scatter_config)\n\n'''\nInflation Yearly\n'''\n\nfig = go.Figure()\n\ny = cpi_yearly['Inflation']\nx = cpi_yearly['Date']\ny_roll = cpi_yearly['RollingAvgInflation']\ny_rollmin = cpi_yearly['RollingAvgInflation_low']\ny_rollmax = cpi_yearly['RollingAvgInflation_high']\n\nfig.add_trace(go.Scatter(x=x, y=y,\n                         marker=dict(color='#005100',size = 5),\n                         line = dict(color='#005100',width = 1),\n                         mode='markers+lines',\n                         name='Yearly Inflation'))\n\nfig.add_trace(go.Scatter(x=x, y=y_roll,\n                         line = dict(color='#FF3333',width = 1),\n                         mode='lines',\n                         name=f'{window_yearly} Year Rolling Avg'))\n\nfig.add_trace(go.Scatter(x=x, y=y_rollmin,\n                         line = dict(color='#bf9fa2',width = 1),\n                         mode='lines',\n                         name=f'{window_yearly} Year Rolling Low'))\n\nfig.add_trace(go.Scatter(x=x, y=y_rollmax,\n                         line = dict(color='#bf9fa2',width = 1),\n                         mode='lines',\n                         fill='tonexty',\n                         name=f'{window_yearly} Year Rolling High'))\n\nfig.update_xaxes(tickangle=-45, tickfont = dict(family = 'Arial', size = 14,color = 'black'))\nfig.update_layout(hovermode=\"x unified\",clickmode ='select',height=500,width=1100,)\nfig.update_layout(legend=legend_config)\n\ndisplay(Markdown('<h2>Yearly Inflation Data</h2>'))\nfig.show(config=scatter_config)\n\n\n'''\nInflation Monthly\n'''\n\nfig = go.Figure()\n\ny = cpi_monthly['Inflation']\nx = cpi_monthly['Date']\ny_roll = cpi_monthly['RollingAvgInflation']\ny_rollmin = cpi_monthly['RollingAvgInflation_low']\ny_rollmax = cpi_monthly['RollingAvgInflation_high']\n\nfig.add_trace(go.Scatter(x=x, y=y,\n                         marker=dict(color='#005100',size = 5),\n                         line = dict(color='#005100',width = 1),\n                         mode='markers+lines',\n                         name='Monthly Inflation'))\n\nfig.add_trace(go.Scatter(x=x, y=y_roll,\n                         line = dict(color='#FF3333',width = 1),\n                         mode='lines',\n                         name=f'{window_monthly} Month Rolling Avg'))\n\nfig.add_trace(go.Scatter(x=x, y=y_rollmin,\n                         line = dict(color='#bf9fa2',width = 1),\n                         mode='lines',\n                         name=f'{window_monthly} Month Rolling Low'))\n\nfig.add_trace(go.Scatter(x=x, y=y_rollmax,\n                         line = dict(color='#bf9fa2',width = 1),\n                         mode='lines',\n                         fill='tonexty',\n                         name=f'{window_monthly} Month Rolling High'))\n\nfig.update_xaxes(tickangle=-45, tickfont = dict(family = 'Arial', size = 14,color = 'black'))\nfig.update_layout(hovermode=\"x unified\",clickmode ='select',height=500,width=1100,)\nfig.update_layout(legend=legend_config)\n\ndisplay(Markdown('<h2>Monthly Inflation Data</h2>'))\nfig.show(config=scatter_config)",
   "execution_count": 3,
   "outputs": [
    {
     "data": {
      "text/plain": "<IPython.core.display.Markdown object>",
      "text/markdown": "<h2>Yearly CPI Data</h2>"
     },
     "metadata": {},
     "output_type": "display_data"
    },
    {
     "data": {
      "text/html": "<html>\n<head><meta charset=\"utf-8\" /></head>\n<body>\n    <div>            <script src=\"https://cdnjs.cloudflare.com/ajax/libs/mathjax/2.7.5/MathJax.js?config=TeX-AMS-MML_SVG\"></script><script type=\"text/javascript\">if (window.MathJax) {MathJax.Hub.Config({SVG: {font: \"STIX-Web\"}});}</script>                <script type=\"text/javascript\">window.PlotlyConfig = {MathJaxConfig: 'local'};</script>\n        <script src=\"https://cdn.plot.ly/plotly-2.9.0.min.js\"></script>                <div id=\"84d6a15b-5cf7-424a-b1a1-0f9b514096bb\" class=\"plotly-graph-div\" style=\"height:500px; width:1100px;\"></div>            <script type=\"text/javascript\">                                    window.PLOTLYENV=window.PLOTLYENV || {};                                    if (document.getElementById(\"84d6a15b-5cf7-424a-b1a1-0f9b514096bb\")) {                    Plotly.newPlot(                        \"84d6a15b-5cf7-424a-b1a1-0f9b514096bb\",                        [{\"line\":{\"color\":\"#005100\",\"width\":1},\"marker\":{\"color\":\"#005100\",\"size\":5},\"mode\":\"markers+lines\",\"name\":\"Yearly CPI\",\"x\":[1947,1948,1949,1950,1951,1952,1953,1954,1955,1956,1957,1958,1959,1960,1961,1962,1963,1964,1965,1966,1967,1968,1969,1970,1971,1972,1973,1974,1975,1976,1977,1978,1979,1980,1981,1982,1983,1984,1985,1986,1987,1988,1989,1990,1991,1992,1993,1994,1995,1996,1997,1998,1999,2000,2001,2002,2003,2004,2005,2006,2007,2008,2009,2010,2011,2012,2013,2014,2015,2016,2017,2018,2019,2020,2021,2022],\"y\":[22.331666666666667,24.045,23.809166666666666,24.0625,25.97333333333333,26.566666666666666,26.768333333333334,26.865,26.795833333333334,27.19083333333333,28.113333333333333,28.88083333333334,29.150000000000006,29.585000000000004,29.90166666666667,30.253333333333334,30.633333333333336,31.03833333333333,31.528333333333332,32.47083333333334,33.375,34.79166666666667,36.68333333333334,38.84166666666667,40.483333333333334,41.80833333333333,44.425000000000004,49.31666666666666,53.824999999999996,56.93333333333333,60.61666666666667,65.24166666666666,72.58333333333333,82.38333333333334,90.93333333333332,96.53333333333336,99.58333333333333,103.93333333333332,107.60000000000001,109.69166666666668,113.61666666666667,118.27500000000002,123.94166666666668,130.65833333333333,136.16666666666666,140.3083333333333,144.475,148.225,152.38333333333335,156.85833333333332,160.525,163.00833333333335,166.58333333333334,172.1916666666667,177.04166666666666,179.86666666666667,184.0,188.9083333333333,195.26666666666665,201.55833333333337,207.34416666666667,215.25424999999998,214.56466666666668,218.0761666666667,224.923,229.58608333333333,232.95174999999998,236.715,237.00175000000002,240.00541666666666,245.121,251.0989166666667,255.64649999999997,258.83824999999996,270.96541666666667,283.0575],\"type\":\"scatter\"},{\"line\":{\"color\":\"#FF3333\",\"width\":1},\"mode\":\"lines\",\"name\":\"3 Year Rolling Avg\",\"x\":[1947,1948,1949,1950,1951,1952,1953,1954,1955,1956,1957,1958,1959,1960,1961,1962,1963,1964,1965,1966,1967,1968,1969,1970,1971,1972,1973,1974,1975,1976,1977,1978,1979,1980,1981,1982,1983,1984,1985,1986,1987,1988,1989,1990,1991,1992,1993,1994,1995,1996,1997,1998,1999,2000,2001,2002,2003,2004,2005,2006,2007,2008,2009,2010,2011,2012,2013,2014,2015,2016,2017,2018,2019,2020,2021,2022],\"y\":[null,null,23.39527777777778,23.972222222222225,24.615,25.534166666666664,26.436111111111114,26.733333333333334,26.809722222222224,26.950555555555553,27.366666666666664,28.061666666666667,28.714722222222225,29.20527777777778,29.545555555555563,29.913333333333338,30.26277777777778,30.641666666666666,31.066666666666666,31.679166666666664,32.45805555555555,33.54583333333334,34.95000000000001,36.77222222222223,38.669444444444444,40.37777777777777,42.23888888888889,45.18333333333334,49.18888888888889,53.35833333333333,57.125,60.93055555555555,66.14722222222223,73.40277777777777,81.96666666666665,89.95,95.68333333333334,100.01666666666667,103.70555555555556,107.075,110.30277777777779,113.86111111111113,118.61111111111113,124.29166666666669,130.25555555555556,135.7111111111111,140.31666666666663,144.3361111111111,148.36111111111111,152.48888888888888,156.58888888888887,160.13055555555556,163.37222222222223,167.26111111111115,171.9388888888889,176.36666666666667,180.30277777777778,184.25833333333333,189.39166666666665,195.24444444444444,201.38972222222222,208.05225000000004,212.38769444444446,215.96502777777778,219.18794444444447,224.19508333333337,229.1536111111111,233.08427777777777,235.55616666666666,237.9073888888889,240.70938888888887,245.40844444444443,250.6221388888889,255.19455555555555,261.8167222222222,270.9537222222222],\"type\":\"scatter\"},{\"line\":{\"color\":\"#bf9fa2\",\"width\":1},\"mode\":\"lines\",\"name\":\"3 Year Rolling Low\",\"x\":[1947,1948,1949,1950,1951,1952,1953,1954,1955,1956,1957,1958,1959,1960,1961,1962,1963,1964,1965,1966,1967,1968,1969,1970,1971,1972,1973,1974,1975,1976,1977,1978,1979,1980,1981,1982,1983,1984,1985,1986,1987,1988,1989,1990,1991,1992,1993,1994,1995,1996,1997,1998,1999,2000,2001,2002,2003,2004,2005,2006,2007,2008,2009,2010,2011,2012,2013,2014,2015,2016,2017,2018,2019,2020,2021,2022],\"y\":[null,null,22.331666666666667,23.809166666666666,23.809166666666666,24.0625,25.97333333333333,26.566666666666666,26.768333333333334,26.795833333333334,26.795833333333334,27.19083333333333,28.113333333333333,28.88083333333334,29.150000000000006,29.585000000000004,29.90166666666667,30.253333333333334,30.633333333333336,31.03833333333333,31.528333333333332,32.47083333333334,33.375,34.79166666666667,36.68333333333334,38.84166666666667,40.483333333333334,41.80833333333333,44.425000000000004,49.31666666666666,53.824999999999996,56.93333333333333,60.61666666666667,65.24166666666666,72.58333333333333,82.38333333333334,90.93333333333332,96.53333333333336,99.58333333333333,103.93333333333332,107.60000000000001,109.69166666666668,113.61666666666667,118.27500000000002,123.94166666666668,130.65833333333333,136.16666666666666,140.3083333333333,144.475,148.225,152.38333333333335,156.85833333333332,160.525,163.00833333333335,166.58333333333334,172.1916666666667,177.04166666666666,179.86666666666667,184.0,188.9083333333333,195.26666666666665,201.55833333333337,207.34416666666667,214.56466666666668,214.56466666666668,218.0761666666667,224.923,229.58608333333333,232.95174999999998,236.715,237.00175000000002,240.00541666666666,245.121,251.0989166666667,255.64649999999997,258.83824999999996],\"type\":\"scatter\"},{\"fill\":\"tonexty\",\"line\":{\"color\":\"#bf9fa2\",\"width\":1},\"mode\":\"lines\",\"name\":\"3 Year Rolling High\",\"x\":[1947,1948,1949,1950,1951,1952,1953,1954,1955,1956,1957,1958,1959,1960,1961,1962,1963,1964,1965,1966,1967,1968,1969,1970,1971,1972,1973,1974,1975,1976,1977,1978,1979,1980,1981,1982,1983,1984,1985,1986,1987,1988,1989,1990,1991,1992,1993,1994,1995,1996,1997,1998,1999,2000,2001,2002,2003,2004,2005,2006,2007,2008,2009,2010,2011,2012,2013,2014,2015,2016,2017,2018,2019,2020,2021,2022],\"y\":[null,null,24.045,24.0625,25.97333333333333,26.566666666666666,26.768333333333334,26.865,26.865,27.19083333333333,28.113333333333333,28.88083333333334,29.150000000000006,29.585000000000004,29.90166666666667,30.253333333333334,30.633333333333336,31.03833333333333,31.528333333333332,32.47083333333334,33.375,34.79166666666667,36.68333333333334,38.84166666666667,40.483333333333334,41.80833333333333,44.425000000000004,49.31666666666666,53.824999999999996,56.93333333333333,60.61666666666667,65.24166666666666,72.58333333333333,82.38333333333334,90.93333333333332,96.53333333333336,99.58333333333333,103.93333333333332,107.60000000000001,109.69166666666668,113.61666666666667,118.27500000000002,123.94166666666668,130.65833333333333,136.16666666666666,140.3083333333333,144.475,148.225,152.38333333333335,156.85833333333332,160.525,163.00833333333335,166.58333333333334,172.1916666666667,177.04166666666666,179.86666666666667,184.0,188.9083333333333,195.26666666666665,201.55833333333337,207.34416666666667,215.25424999999998,215.25424999999998,218.0761666666667,224.923,229.58608333333333,232.95174999999998,236.715,237.00175000000002,240.00541666666666,245.121,251.0989166666667,255.64649999999997,258.83824999999996,270.96541666666667,283.0575],\"type\":\"scatter\"}],                        {\"template\":{\"data\":{\"bar\":[{\"error_x\":{\"color\":\"#2a3f5f\"},\"error_y\":{\"color\":\"#2a3f5f\"},\"marker\":{\"line\":{\"color\":\"#E5ECF6\",\"width\":0.5},\"pattern\":{\"fillmode\":\"overlay\",\"size\":10,\"solidity\":0.2}},\"type\":\"bar\"}],\"barpolar\":[{\"marker\":{\"line\":{\"color\":\"#E5ECF6\",\"width\":0.5},\"pattern\":{\"fillmode\":\"overlay\",\"size\":10,\"solidity\":0.2}},\"type\":\"barpolar\"}],\"carpet\":[{\"aaxis\":{\"endlinecolor\":\"#2a3f5f\",\"gridcolor\":\"white\",\"linecolor\":\"white\",\"minorgridcolor\":\"white\",\"startlinecolor\":\"#2a3f5f\"},\"baxis\":{\"endlinecolor\":\"#2a3f5f\",\"gridcolor\":\"white\",\"linecolor\":\"white\",\"minorgridcolor\":\"white\",\"startlinecolor\":\"#2a3f5f\"},\"type\":\"carpet\"}],\"choropleth\":[{\"colorbar\":{\"outlinewidth\":0,\"ticks\":\"\"},\"type\":\"choropleth\"}],\"contour\":[{\"colorbar\":{\"outlinewidth\":0,\"ticks\":\"\"},\"colorscale\":[[0.0,\"#0d0887\"],[0.1111111111111111,\"#46039f\"],[0.2222222222222222,\"#7201a8\"],[0.3333333333333333,\"#9c179e\"],[0.4444444444444444,\"#bd3786\"],[0.5555555555555556,\"#d8576b\"],[0.6666666666666666,\"#ed7953\"],[0.7777777777777778,\"#fb9f3a\"],[0.8888888888888888,\"#fdca26\"],[1.0,\"#f0f921\"]],\"type\":\"contour\"}],\"contourcarpet\":[{\"colorbar\":{\"outlinewidth\":0,\"ticks\":\"\"},\"type\":\"contourcarpet\"}],\"heatmap\":[{\"colorbar\":{\"outlinewidth\":0,\"ticks\":\"\"},\"colorscale\":[[0.0,\"#0d0887\"],[0.1111111111111111,\"#46039f\"],[0.2222222222222222,\"#7201a8\"],[0.3333333333333333,\"#9c179e\"],[0.4444444444444444,\"#bd3786\"],[0.5555555555555556,\"#d8576b\"],[0.6666666666666666,\"#ed7953\"],[0.7777777777777778,\"#fb9f3a\"],[0.8888888888888888,\"#fdca26\"],[1.0,\"#f0f921\"]],\"type\":\"heatmap\"}],\"heatmapgl\":[{\"colorbar\":{\"outlinewidth\":0,\"ticks\":\"\"},\"colorscale\":[[0.0,\"#0d0887\"],[0.1111111111111111,\"#46039f\"],[0.2222222222222222,\"#7201a8\"],[0.3333333333333333,\"#9c179e\"],[0.4444444444444444,\"#bd3786\"],[0.5555555555555556,\"#d8576b\"],[0.6666666666666666,\"#ed7953\"],[0.7777777777777778,\"#fb9f3a\"],[0.8888888888888888,\"#fdca26\"],[1.0,\"#f0f921\"]],\"type\":\"heatmapgl\"}],\"histogram\":[{\"marker\":{\"pattern\":{\"fillmode\":\"overlay\",\"size\":10,\"solidity\":0.2}},\"type\":\"histogram\"}],\"histogram2d\":[{\"colorbar\":{\"outlinewidth\":0,\"ticks\":\"\"},\"colorscale\":[[0.0,\"#0d0887\"],[0.1111111111111111,\"#46039f\"],[0.2222222222222222,\"#7201a8\"],[0.3333333333333333,\"#9c179e\"],[0.4444444444444444,\"#bd3786\"],[0.5555555555555556,\"#d8576b\"],[0.6666666666666666,\"#ed7953\"],[0.7777777777777778,\"#fb9f3a\"],[0.8888888888888888,\"#fdca26\"],[1.0,\"#f0f921\"]],\"type\":\"histogram2d\"}],\"histogram2dcontour\":[{\"colorbar\":{\"outlinewidth\":0,\"ticks\":\"\"},\"colorscale\":[[0.0,\"#0d0887\"],[0.1111111111111111,\"#46039f\"],[0.2222222222222222,\"#7201a8\"],[0.3333333333333333,\"#9c179e\"],[0.4444444444444444,\"#bd3786\"],[0.5555555555555556,\"#d8576b\"],[0.6666666666666666,\"#ed7953\"],[0.7777777777777778,\"#fb9f3a\"],[0.8888888888888888,\"#fdca26\"],[1.0,\"#f0f921\"]],\"type\":\"histogram2dcontour\"}],\"mesh3d\":[{\"colorbar\":{\"outlinewidth\":0,\"ticks\":\"\"},\"type\":\"mesh3d\"}],\"parcoords\":[{\"line\":{\"colorbar\":{\"outlinewidth\":0,\"ticks\":\"\"}},\"type\":\"parcoords\"}],\"pie\":[{\"automargin\":true,\"type\":\"pie\"}],\"scatter\":[{\"marker\":{\"colorbar\":{\"outlinewidth\":0,\"ticks\":\"\"}},\"type\":\"scatter\"}],\"scatter3d\":[{\"line\":{\"colorbar\":{\"outlinewidth\":0,\"ticks\":\"\"}},\"marker\":{\"colorbar\":{\"outlinewidth\":0,\"ticks\":\"\"}},\"type\":\"scatter3d\"}],\"scattercarpet\":[{\"marker\":{\"colorbar\":{\"outlinewidth\":0,\"ticks\":\"\"}},\"type\":\"scattercarpet\"}],\"scattergeo\":[{\"marker\":{\"colorbar\":{\"outlinewidth\":0,\"ticks\":\"\"}},\"type\":\"scattergeo\"}],\"scattergl\":[{\"marker\":{\"colorbar\":{\"outlinewidth\":0,\"ticks\":\"\"}},\"type\":\"scattergl\"}],\"scattermapbox\":[{\"marker\":{\"colorbar\":{\"outlinewidth\":0,\"ticks\":\"\"}},\"type\":\"scattermapbox\"}],\"scatterpolar\":[{\"marker\":{\"colorbar\":{\"outlinewidth\":0,\"ticks\":\"\"}},\"type\":\"scatterpolar\"}],\"scatterpolargl\":[{\"marker\":{\"colorbar\":{\"outlinewidth\":0,\"ticks\":\"\"}},\"type\":\"scatterpolargl\"}],\"scatterternary\":[{\"marker\":{\"colorbar\":{\"outlinewidth\":0,\"ticks\":\"\"}},\"type\":\"scatterternary\"}],\"surface\":[{\"colorbar\":{\"outlinewidth\":0,\"ticks\":\"\"},\"colorscale\":[[0.0,\"#0d0887\"],[0.1111111111111111,\"#46039f\"],[0.2222222222222222,\"#7201a8\"],[0.3333333333333333,\"#9c179e\"],[0.4444444444444444,\"#bd3786\"],[0.5555555555555556,\"#d8576b\"],[0.6666666666666666,\"#ed7953\"],[0.7777777777777778,\"#fb9f3a\"],[0.8888888888888888,\"#fdca26\"],[1.0,\"#f0f921\"]],\"type\":\"surface\"}],\"table\":[{\"cells\":{\"fill\":{\"color\":\"#EBF0F8\"},\"line\":{\"color\":\"white\"}},\"header\":{\"fill\":{\"color\":\"#C8D4E3\"},\"line\":{\"color\":\"white\"}},\"type\":\"table\"}]},\"layout\":{\"annotationdefaults\":{\"arrowcolor\":\"#2a3f5f\",\"arrowhead\":0,\"arrowwidth\":1},\"autotypenumbers\":\"strict\",\"coloraxis\":{\"colorbar\":{\"outlinewidth\":0,\"ticks\":\"\"}},\"colorscale\":{\"diverging\":[[0,\"#8e0152\"],[0.1,\"#c51b7d\"],[0.2,\"#de77ae\"],[0.3,\"#f1b6da\"],[0.4,\"#fde0ef\"],[0.5,\"#f7f7f7\"],[0.6,\"#e6f5d0\"],[0.7,\"#b8e186\"],[0.8,\"#7fbc41\"],[0.9,\"#4d9221\"],[1,\"#276419\"]],\"sequential\":[[0.0,\"#0d0887\"],[0.1111111111111111,\"#46039f\"],[0.2222222222222222,\"#7201a8\"],[0.3333333333333333,\"#9c179e\"],[0.4444444444444444,\"#bd3786\"],[0.5555555555555556,\"#d8576b\"],[0.6666666666666666,\"#ed7953\"],[0.7777777777777778,\"#fb9f3a\"],[0.8888888888888888,\"#fdca26\"],[1.0,\"#f0f921\"]],\"sequentialminus\":[[0.0,\"#0d0887\"],[0.1111111111111111,\"#46039f\"],[0.2222222222222222,\"#7201a8\"],[0.3333333333333333,\"#9c179e\"],[0.4444444444444444,\"#bd3786\"],[0.5555555555555556,\"#d8576b\"],[0.6666666666666666,\"#ed7953\"],[0.7777777777777778,\"#fb9f3a\"],[0.8888888888888888,\"#fdca26\"],[1.0,\"#f0f921\"]]},\"colorway\":[\"#636efa\",\"#EF553B\",\"#00cc96\",\"#ab63fa\",\"#FFA15A\",\"#19d3f3\",\"#FF6692\",\"#B6E880\",\"#FF97FF\",\"#FECB52\"],\"font\":{\"color\":\"#2a3f5f\"},\"geo\":{\"bgcolor\":\"white\",\"lakecolor\":\"white\",\"landcolor\":\"#E5ECF6\",\"showlakes\":true,\"showland\":true,\"subunitcolor\":\"white\"},\"hoverlabel\":{\"align\":\"left\"},\"hovermode\":\"closest\",\"mapbox\":{\"style\":\"light\"},\"paper_bgcolor\":\"white\",\"plot_bgcolor\":\"#E5ECF6\",\"polar\":{\"angularaxis\":{\"gridcolor\":\"white\",\"linecolor\":\"white\",\"ticks\":\"\"},\"bgcolor\":\"#E5ECF6\",\"radialaxis\":{\"gridcolor\":\"white\",\"linecolor\":\"white\",\"ticks\":\"\"}},\"scene\":{\"xaxis\":{\"backgroundcolor\":\"#E5ECF6\",\"gridcolor\":\"white\",\"gridwidth\":2,\"linecolor\":\"white\",\"showbackground\":true,\"ticks\":\"\",\"zerolinecolor\":\"white\"},\"yaxis\":{\"backgroundcolor\":\"#E5ECF6\",\"gridcolor\":\"white\",\"gridwidth\":2,\"linecolor\":\"white\",\"showbackground\":true,\"ticks\":\"\",\"zerolinecolor\":\"white\"},\"zaxis\":{\"backgroundcolor\":\"#E5ECF6\",\"gridcolor\":\"white\",\"gridwidth\":2,\"linecolor\":\"white\",\"showbackground\":true,\"ticks\":\"\",\"zerolinecolor\":\"white\"}},\"shapedefaults\":{\"line\":{\"color\":\"#2a3f5f\"}},\"ternary\":{\"aaxis\":{\"gridcolor\":\"white\",\"linecolor\":\"white\",\"ticks\":\"\"},\"baxis\":{\"gridcolor\":\"white\",\"linecolor\":\"white\",\"ticks\":\"\"},\"bgcolor\":\"#E5ECF6\",\"caxis\":{\"gridcolor\":\"white\",\"linecolor\":\"white\",\"ticks\":\"\"}},\"title\":{\"x\":0.05},\"xaxis\":{\"automargin\":true,\"gridcolor\":\"white\",\"linecolor\":\"white\",\"ticks\":\"\",\"title\":{\"standoff\":15},\"zerolinecolor\":\"white\",\"zerolinewidth\":2},\"yaxis\":{\"automargin\":true,\"gridcolor\":\"white\",\"linecolor\":\"white\",\"ticks\":\"\",\"title\":{\"standoff\":15},\"zerolinecolor\":\"white\",\"zerolinewidth\":2}}},\"xaxis\":{\"tickfont\":{\"family\":\"Arial\",\"size\":14,\"color\":\"black\"},\"tickangle\":-45},\"hovermode\":\"x unified\",\"clickmode\":\"select\",\"height\":500,\"width\":1100,\"legend\":{\"orientation\":\"h\",\"yanchor\":\"bottom\",\"y\":1.05,\"xanchor\":\"left\",\"x\":0.01}},                        {\"displayModeBar\": \"Always\", \"displaylogo\": false, \"modeBarButtons\": \"toggleHover \", \"modeBarButtonsToRemove\": [\"zoom2d\", \"zoomIn2d\", \"zoomOut2d\", \"sendDataToCloud\", \"editInChartStudio\", \"select2d\", \"lasso2d\"], \"responsive\": true}                    ).then(function(){\n                            \nvar gd = document.getElementById('84d6a15b-5cf7-424a-b1a1-0f9b514096bb');\nvar x = new MutationObserver(function (mutations, observer) {{\n        var display = window.getComputedStyle(gd).display;\n        if (!display || display === 'none') {{\n            console.log([gd, 'removed!']);\n            Plotly.purge(gd);\n            observer.disconnect();\n        }}\n}});\n\n// Listen for the removal of the full notebook cells\nvar notebookContainer = gd.closest('#notebook-container');\nif (notebookContainer) {{\n    x.observe(notebookContainer, {childList: true});\n}}\n\n// Listen for the clearing of the current output cell\nvar outputEl = gd.closest('.output');\nif (outputEl) {{\n    x.observe(outputEl, {childList: true});\n}}\n\n                        })                };                            </script>        </div>\n</body>\n</html>"
     },
     "metadata": {},
     "output_type": "display_data"
    },
    {
     "data": {
      "text/plain": "<IPython.core.display.Markdown object>",
      "text/markdown": "<h2>Monthly CPI Data</h2>"
     },
     "metadata": {},
     "output_type": "display_data"
    },
    {
     "data": {
      "text/html": "<html>\n<head><meta charset=\"utf-8\" /></head>\n<body>\n    <div>            <script src=\"https://cdnjs.cloudflare.com/ajax/libs/mathjax/2.7.5/MathJax.js?config=TeX-AMS-MML_SVG\"></script><script type=\"text/javascript\">if (window.MathJax) {MathJax.Hub.Config({SVG: {font: \"STIX-Web\"}});}</script>                <script type=\"text/javascript\">window.PlotlyConfig = {MathJaxConfig: 'local'};</script>\n        <script src=\"https://cdn.plot.ly/plotly-2.9.0.min.js\"></script>                <div id=\"0d8ae5cf-0f0c-439f-8a8f-5553ea40df4c\" class=\"plotly-graph-div\" style=\"height:500px; width:1100px;\"></div>            <script type=\"text/javascript\">                                    window.PLOTLYENV=window.PLOTLYENV || {};                                    if (document.getElementById(\"0d8ae5cf-0f0c-439f-8a8f-5553ea40df4c\")) {                    Plotly.newPlot(                        \"0d8ae5cf-0f0c-439f-8a8f-5553ea40df4c\",                        [{\"line\":{\"color\":\"#005100\",\"width\":1},\"marker\":{\"color\":\"#005100\",\"size\":5},\"mode\":\"markers+lines\",\"name\":\"Monthly CPI\",\"x\":[\"1947-01-01\",\"1947-02-01\",\"1947-03-01\",\"1947-04-01\",\"1947-05-01\",\"1947-06-01\",\"1947-07-01\",\"1947-08-01\",\"1947-09-01\",\"1947-10-01\",\"1947-11-01\",\"1947-12-01\",\"1948-01-01\",\"1948-02-01\",\"1948-03-01\",\"1948-04-01\",\"1948-05-01\",\"1948-06-01\",\"1948-07-01\",\"1948-08-01\",\"1948-09-01\",\"1948-10-01\",\"1948-11-01\",\"1948-12-01\",\"1949-01-01\",\"1949-02-01\",\"1949-03-01\",\"1949-04-01\",\"1949-05-01\",\"1949-06-01\",\"1949-07-01\",\"1949-08-01\",\"1949-09-01\",\"1949-10-01\",\"1949-11-01\",\"1949-12-01\",\"1950-01-01\",\"1950-02-01\",\"1950-03-01\",\"1950-04-01\",\"1950-05-01\",\"1950-06-01\",\"1950-07-01\",\"1950-08-01\",\"1950-09-01\",\"1950-10-01\",\"1950-11-01\",\"1950-12-01\",\"1951-01-01\",\"1951-02-01\",\"1951-03-01\",\"1951-04-01\",\"1951-05-01\",\"1951-06-01\",\"1951-07-01\",\"1951-08-01\",\"1951-09-01\",\"1951-10-01\",\"1951-11-01\",\"1951-12-01\",\"1952-01-01\",\"1952-02-01\",\"1952-03-01\",\"1952-04-01\",\"1952-05-01\",\"1952-06-01\",\"1952-07-01\",\"1952-08-01\",\"1952-09-01\",\"1952-10-01\",\"1952-11-01\",\"1952-12-01\",\"1953-01-01\",\"1953-02-01\",\"1953-03-01\",\"1953-04-01\",\"1953-05-01\",\"1953-06-01\",\"1953-07-01\",\"1953-08-01\",\"1953-09-01\",\"1953-10-01\",\"1953-11-01\",\"1953-12-01\",\"1954-01-01\",\"1954-02-01\",\"1954-03-01\",\"1954-04-01\",\"1954-05-01\",\"1954-06-01\",\"1954-07-01\",\"1954-08-01\",\"1954-09-01\",\"1954-10-01\",\"1954-11-01\",\"1954-12-01\",\"1955-01-01\",\"1955-02-01\",\"1955-03-01\",\"1955-04-01\",\"1955-05-01\",\"1955-06-01\",\"1955-07-01\",\"1955-08-01\",\"1955-09-01\",\"1955-10-01\",\"1955-11-01\",\"1955-12-01\",\"1956-01-01\",\"1956-02-01\",\"1956-03-01\",\"1956-04-01\",\"1956-05-01\",\"1956-06-01\",\"1956-07-01\",\"1956-08-01\",\"1956-09-01\",\"1956-10-01\",\"1956-11-01\",\"1956-12-01\",\"1957-01-01\",\"1957-02-01\",\"1957-03-01\",\"1957-04-01\",\"1957-05-01\",\"1957-06-01\",\"1957-07-01\",\"1957-08-01\",\"1957-09-01\",\"1957-10-01\",\"1957-11-01\",\"1957-12-01\",\"1958-01-01\",\"1958-02-01\",\"1958-03-01\",\"1958-04-01\",\"1958-05-01\",\"1958-06-01\",\"1958-07-01\",\"1958-08-01\",\"1958-09-01\",\"1958-10-01\",\"1958-11-01\",\"1958-12-01\",\"1959-01-01\",\"1959-02-01\",\"1959-03-01\",\"1959-04-01\",\"1959-05-01\",\"1959-06-01\",\"1959-07-01\",\"1959-08-01\",\"1959-09-01\",\"1959-10-01\",\"1959-11-01\",\"1959-12-01\",\"1960-01-01\",\"1960-02-01\",\"1960-03-01\",\"1960-04-01\",\"1960-05-01\",\"1960-06-01\",\"1960-07-01\",\"1960-08-01\",\"1960-09-01\",\"1960-10-01\",\"1960-11-01\",\"1960-12-01\",\"1961-01-01\",\"1961-02-01\",\"1961-03-01\",\"1961-04-01\",\"1961-05-01\",\"1961-06-01\",\"1961-07-01\",\"1961-08-01\",\"1961-09-01\",\"1961-10-01\",\"1961-11-01\",\"1961-12-01\",\"1962-01-01\",\"1962-02-01\",\"1962-03-01\",\"1962-04-01\",\"1962-05-01\",\"1962-06-01\",\"1962-07-01\",\"1962-08-01\",\"1962-09-01\",\"1962-10-01\",\"1962-11-01\",\"1962-12-01\",\"1963-01-01\",\"1963-02-01\",\"1963-03-01\",\"1963-04-01\",\"1963-05-01\",\"1963-06-01\",\"1963-07-01\",\"1963-08-01\",\"1963-09-01\",\"1963-10-01\",\"1963-11-01\",\"1963-12-01\",\"1964-01-01\",\"1964-02-01\",\"1964-03-01\",\"1964-04-01\",\"1964-05-01\",\"1964-06-01\",\"1964-07-01\",\"1964-08-01\",\"1964-09-01\",\"1964-10-01\",\"1964-11-01\",\"1964-12-01\",\"1965-01-01\",\"1965-02-01\",\"1965-03-01\",\"1965-04-01\",\"1965-05-01\",\"1965-06-01\",\"1965-07-01\",\"1965-08-01\",\"1965-09-01\",\"1965-10-01\",\"1965-11-01\",\"1965-12-01\",\"1966-01-01\",\"1966-02-01\",\"1966-03-01\",\"1966-04-01\",\"1966-05-01\",\"1966-06-01\",\"1966-07-01\",\"1966-08-01\",\"1966-09-01\",\"1966-10-01\",\"1966-11-01\",\"1966-12-01\",\"1967-01-01\",\"1967-02-01\",\"1967-03-01\",\"1967-04-01\",\"1967-05-01\",\"1967-06-01\",\"1967-07-01\",\"1967-08-01\",\"1967-09-01\",\"1967-10-01\",\"1967-11-01\",\"1967-12-01\",\"1968-01-01\",\"1968-02-01\",\"1968-03-01\",\"1968-04-01\",\"1968-05-01\",\"1968-06-01\",\"1968-07-01\",\"1968-08-01\",\"1968-09-01\",\"1968-10-01\",\"1968-11-01\",\"1968-12-01\",\"1969-01-01\",\"1969-02-01\",\"1969-03-01\",\"1969-04-01\",\"1969-05-01\",\"1969-06-01\",\"1969-07-01\",\"1969-08-01\",\"1969-09-01\",\"1969-10-01\",\"1969-11-01\",\"1969-12-01\",\"1970-01-01\",\"1970-02-01\",\"1970-03-01\",\"1970-04-01\",\"1970-05-01\",\"1970-06-01\",\"1970-07-01\",\"1970-08-01\",\"1970-09-01\",\"1970-10-01\",\"1970-11-01\",\"1970-12-01\",\"1971-01-01\",\"1971-02-01\",\"1971-03-01\",\"1971-04-01\",\"1971-05-01\",\"1971-06-01\",\"1971-07-01\",\"1971-08-01\",\"1971-09-01\",\"1971-10-01\",\"1971-11-01\",\"1971-12-01\",\"1972-01-01\",\"1972-02-01\",\"1972-03-01\",\"1972-04-01\",\"1972-05-01\",\"1972-06-01\",\"1972-07-01\",\"1972-08-01\",\"1972-09-01\",\"1972-10-01\",\"1972-11-01\",\"1972-12-01\",\"1973-01-01\",\"1973-02-01\",\"1973-03-01\",\"1973-04-01\",\"1973-05-01\",\"1973-06-01\",\"1973-07-01\",\"1973-08-01\",\"1973-09-01\",\"1973-10-01\",\"1973-11-01\",\"1973-12-01\",\"1974-01-01\",\"1974-02-01\",\"1974-03-01\",\"1974-04-01\",\"1974-05-01\",\"1974-06-01\",\"1974-07-01\",\"1974-08-01\",\"1974-09-01\",\"1974-10-01\",\"1974-11-01\",\"1974-12-01\",\"1975-01-01\",\"1975-02-01\",\"1975-03-01\",\"1975-04-01\",\"1975-05-01\",\"1975-06-01\",\"1975-07-01\",\"1975-08-01\",\"1975-09-01\",\"1975-10-01\",\"1975-11-01\",\"1975-12-01\",\"1976-01-01\",\"1976-02-01\",\"1976-03-01\",\"1976-04-01\",\"1976-05-01\",\"1976-06-01\",\"1976-07-01\",\"1976-08-01\",\"1976-09-01\",\"1976-10-01\",\"1976-11-01\",\"1976-12-01\",\"1977-01-01\",\"1977-02-01\",\"1977-03-01\",\"1977-04-01\",\"1977-05-01\",\"1977-06-01\",\"1977-07-01\",\"1977-08-01\",\"1977-09-01\",\"1977-10-01\",\"1977-11-01\",\"1977-12-01\",\"1978-01-01\",\"1978-02-01\",\"1978-03-01\",\"1978-04-01\",\"1978-05-01\",\"1978-06-01\",\"1978-07-01\",\"1978-08-01\",\"1978-09-01\",\"1978-10-01\",\"1978-11-01\",\"1978-12-01\",\"1979-01-01\",\"1979-02-01\",\"1979-03-01\",\"1979-04-01\",\"1979-05-01\",\"1979-06-01\",\"1979-07-01\",\"1979-08-01\",\"1979-09-01\",\"1979-10-01\",\"1979-11-01\",\"1979-12-01\",\"1980-01-01\",\"1980-02-01\",\"1980-03-01\",\"1980-04-01\",\"1980-05-01\",\"1980-06-01\",\"1980-07-01\",\"1980-08-01\",\"1980-09-01\",\"1980-10-01\",\"1980-11-01\",\"1980-12-01\",\"1981-01-01\",\"1981-02-01\",\"1981-03-01\",\"1981-04-01\",\"1981-05-01\",\"1981-06-01\",\"1981-07-01\",\"1981-08-01\",\"1981-09-01\",\"1981-10-01\",\"1981-11-01\",\"1981-12-01\",\"1982-01-01\",\"1982-02-01\",\"1982-03-01\",\"1982-04-01\",\"1982-05-01\",\"1982-06-01\",\"1982-07-01\",\"1982-08-01\",\"1982-09-01\",\"1982-10-01\",\"1982-11-01\",\"1982-12-01\",\"1983-01-01\",\"1983-02-01\",\"1983-03-01\",\"1983-04-01\",\"1983-05-01\",\"1983-06-01\",\"1983-07-01\",\"1983-08-01\",\"1983-09-01\",\"1983-10-01\",\"1983-11-01\",\"1983-12-01\",\"1984-01-01\",\"1984-02-01\",\"1984-03-01\",\"1984-04-01\",\"1984-05-01\",\"1984-06-01\",\"1984-07-01\",\"1984-08-01\",\"1984-09-01\",\"1984-10-01\",\"1984-11-01\",\"1984-12-01\",\"1985-01-01\",\"1985-02-01\",\"1985-03-01\",\"1985-04-01\",\"1985-05-01\",\"1985-06-01\",\"1985-07-01\",\"1985-08-01\",\"1985-09-01\",\"1985-10-01\",\"1985-11-01\",\"1985-12-01\",\"1986-01-01\",\"1986-02-01\",\"1986-03-01\",\"1986-04-01\",\"1986-05-01\",\"1986-06-01\",\"1986-07-01\",\"1986-08-01\",\"1986-09-01\",\"1986-10-01\",\"1986-11-01\",\"1986-12-01\",\"1987-01-01\",\"1987-02-01\",\"1987-03-01\",\"1987-04-01\",\"1987-05-01\",\"1987-06-01\",\"1987-07-01\",\"1987-08-01\",\"1987-09-01\",\"1987-10-01\",\"1987-11-01\",\"1987-12-01\",\"1988-01-01\",\"1988-02-01\",\"1988-03-01\",\"1988-04-01\",\"1988-05-01\",\"1988-06-01\",\"1988-07-01\",\"1988-08-01\",\"1988-09-01\",\"1988-10-01\",\"1988-11-01\",\"1988-12-01\",\"1989-01-01\",\"1989-02-01\",\"1989-03-01\",\"1989-04-01\",\"1989-05-01\",\"1989-06-01\",\"1989-07-01\",\"1989-08-01\",\"1989-09-01\",\"1989-10-01\",\"1989-11-01\",\"1989-12-01\",\"1990-01-01\",\"1990-02-01\",\"1990-03-01\",\"1990-04-01\",\"1990-05-01\",\"1990-06-01\",\"1990-07-01\",\"1990-08-01\",\"1990-09-01\",\"1990-10-01\",\"1990-11-01\",\"1990-12-01\",\"1991-01-01\",\"1991-02-01\",\"1991-03-01\",\"1991-04-01\",\"1991-05-01\",\"1991-06-01\",\"1991-07-01\",\"1991-08-01\",\"1991-09-01\",\"1991-10-01\",\"1991-11-01\",\"1991-12-01\",\"1992-01-01\",\"1992-02-01\",\"1992-03-01\",\"1992-04-01\",\"1992-05-01\",\"1992-06-01\",\"1992-07-01\",\"1992-08-01\",\"1992-09-01\",\"1992-10-01\",\"1992-11-01\",\"1992-12-01\",\"1993-01-01\",\"1993-02-01\",\"1993-03-01\",\"1993-04-01\",\"1993-05-01\",\"1993-06-01\",\"1993-07-01\",\"1993-08-01\",\"1993-09-01\",\"1993-10-01\",\"1993-11-01\",\"1993-12-01\",\"1994-01-01\",\"1994-02-01\",\"1994-03-01\",\"1994-04-01\",\"1994-05-01\",\"1994-06-01\",\"1994-07-01\",\"1994-08-01\",\"1994-09-01\",\"1994-10-01\",\"1994-11-01\",\"1994-12-01\",\"1995-01-01\",\"1995-02-01\",\"1995-03-01\",\"1995-04-01\",\"1995-05-01\",\"1995-06-01\",\"1995-07-01\",\"1995-08-01\",\"1995-09-01\",\"1995-10-01\",\"1995-11-01\",\"1995-12-01\",\"1996-01-01\",\"1996-02-01\",\"1996-03-01\",\"1996-04-01\",\"1996-05-01\",\"1996-06-01\",\"1996-07-01\",\"1996-08-01\",\"1996-09-01\",\"1996-10-01\",\"1996-11-01\",\"1996-12-01\",\"1997-01-01\",\"1997-02-01\",\"1997-03-01\",\"1997-04-01\",\"1997-05-01\",\"1997-06-01\",\"1997-07-01\",\"1997-08-01\",\"1997-09-01\",\"1997-10-01\",\"1997-11-01\",\"1997-12-01\",\"1998-01-01\",\"1998-02-01\",\"1998-03-01\",\"1998-04-01\",\"1998-05-01\",\"1998-06-01\",\"1998-07-01\",\"1998-08-01\",\"1998-09-01\",\"1998-10-01\",\"1998-11-01\",\"1998-12-01\",\"1999-01-01\",\"1999-02-01\",\"1999-03-01\",\"1999-04-01\",\"1999-05-01\",\"1999-06-01\",\"1999-07-01\",\"1999-08-01\",\"1999-09-01\",\"1999-10-01\",\"1999-11-01\",\"1999-12-01\",\"2000-01-01\",\"2000-02-01\",\"2000-03-01\",\"2000-04-01\",\"2000-05-01\",\"2000-06-01\",\"2000-07-01\",\"2000-08-01\",\"2000-09-01\",\"2000-10-01\",\"2000-11-01\",\"2000-12-01\",\"2001-01-01\",\"2001-02-01\",\"2001-03-01\",\"2001-04-01\",\"2001-05-01\",\"2001-06-01\",\"2001-07-01\",\"2001-08-01\",\"2001-09-01\",\"2001-10-01\",\"2001-11-01\",\"2001-12-01\",\"2002-01-01\",\"2002-02-01\",\"2002-03-01\",\"2002-04-01\",\"2002-05-01\",\"2002-06-01\",\"2002-07-01\",\"2002-08-01\",\"2002-09-01\",\"2002-10-01\",\"2002-11-01\",\"2002-12-01\",\"2003-01-01\",\"2003-02-01\",\"2003-03-01\",\"2003-04-01\",\"2003-05-01\",\"2003-06-01\",\"2003-07-01\",\"2003-08-01\",\"2003-09-01\",\"2003-10-01\",\"2003-11-01\",\"2003-12-01\",\"2004-01-01\",\"2004-02-01\",\"2004-03-01\",\"2004-04-01\",\"2004-05-01\",\"2004-06-01\",\"2004-07-01\",\"2004-08-01\",\"2004-09-01\",\"2004-10-01\",\"2004-11-01\",\"2004-12-01\",\"2005-01-01\",\"2005-02-01\",\"2005-03-01\",\"2005-04-01\",\"2005-05-01\",\"2005-06-01\",\"2005-07-01\",\"2005-08-01\",\"2005-09-01\",\"2005-10-01\",\"2005-11-01\",\"2005-12-01\",\"2006-01-01\",\"2006-02-01\",\"2006-03-01\",\"2006-04-01\",\"2006-05-01\",\"2006-06-01\",\"2006-07-01\",\"2006-08-01\",\"2006-09-01\",\"2006-10-01\",\"2006-11-01\",\"2006-12-01\",\"2007-01-01\",\"2007-02-01\",\"2007-03-01\",\"2007-04-01\",\"2007-05-01\",\"2007-06-01\",\"2007-07-01\",\"2007-08-01\",\"2007-09-01\",\"2007-10-01\",\"2007-11-01\",\"2007-12-01\",\"2008-01-01\",\"2008-02-01\",\"2008-03-01\",\"2008-04-01\",\"2008-05-01\",\"2008-06-01\",\"2008-07-01\",\"2008-08-01\",\"2008-09-01\",\"2008-10-01\",\"2008-11-01\",\"2008-12-01\",\"2009-01-01\",\"2009-02-01\",\"2009-03-01\",\"2009-04-01\",\"2009-05-01\",\"2009-06-01\",\"2009-07-01\",\"2009-08-01\",\"2009-09-01\",\"2009-10-01\",\"2009-11-01\",\"2009-12-01\",\"2010-01-01\",\"2010-02-01\",\"2010-03-01\",\"2010-04-01\",\"2010-05-01\",\"2010-06-01\",\"2010-07-01\",\"2010-08-01\",\"2010-09-01\",\"2010-10-01\",\"2010-11-01\",\"2010-12-01\",\"2011-01-01\",\"2011-02-01\",\"2011-03-01\",\"2011-04-01\",\"2011-05-01\",\"2011-06-01\",\"2011-07-01\",\"2011-08-01\",\"2011-09-01\",\"2011-10-01\",\"2011-11-01\",\"2011-12-01\",\"2012-01-01\",\"2012-02-01\",\"2012-03-01\",\"2012-04-01\",\"2012-05-01\",\"2012-06-01\",\"2012-07-01\",\"2012-08-01\",\"2012-09-01\",\"2012-10-01\",\"2012-11-01\",\"2012-12-01\",\"2013-01-01\",\"2013-02-01\",\"2013-03-01\",\"2013-04-01\",\"2013-05-01\",\"2013-06-01\",\"2013-07-01\",\"2013-08-01\",\"2013-09-01\",\"2013-10-01\",\"2013-11-01\",\"2013-12-01\",\"2014-01-01\",\"2014-02-01\",\"2014-03-01\",\"2014-04-01\",\"2014-05-01\",\"2014-06-01\",\"2014-07-01\",\"2014-08-01\",\"2014-09-01\",\"2014-10-01\",\"2014-11-01\",\"2014-12-01\",\"2015-01-01\",\"2015-02-01\",\"2015-03-01\",\"2015-04-01\",\"2015-05-01\",\"2015-06-01\",\"2015-07-01\",\"2015-08-01\",\"2015-09-01\",\"2015-10-01\",\"2015-11-01\",\"2015-12-01\",\"2016-01-01\",\"2016-02-01\",\"2016-03-01\",\"2016-04-01\",\"2016-05-01\",\"2016-06-01\",\"2016-07-01\",\"2016-08-01\",\"2016-09-01\",\"2016-10-01\",\"2016-11-01\",\"2016-12-01\",\"2017-01-01\",\"2017-02-01\",\"2017-03-01\",\"2017-04-01\",\"2017-05-01\",\"2017-06-01\",\"2017-07-01\",\"2017-08-01\",\"2017-09-01\",\"2017-10-01\",\"2017-11-01\",\"2017-12-01\",\"2018-01-01\",\"2018-02-01\",\"2018-03-01\",\"2018-04-01\",\"2018-05-01\",\"2018-06-01\",\"2018-07-01\",\"2018-08-01\",\"2018-09-01\",\"2018-10-01\",\"2018-11-01\",\"2018-12-01\",\"2019-01-01\",\"2019-02-01\",\"2019-03-01\",\"2019-04-01\",\"2019-05-01\",\"2019-06-01\",\"2019-07-01\",\"2019-08-01\",\"2019-09-01\",\"2019-10-01\",\"2019-11-01\",\"2019-12-01\",\"2020-01-01\",\"2020-02-01\",\"2020-03-01\",\"2020-04-01\",\"2020-05-01\",\"2020-06-01\",\"2020-07-01\",\"2020-08-01\",\"2020-09-01\",\"2020-10-01\",\"2020-11-01\",\"2020-12-01\",\"2021-01-01\",\"2021-02-01\",\"2021-03-01\",\"2021-04-01\",\"2021-05-01\",\"2021-06-01\",\"2021-07-01\",\"2021-08-01\",\"2021-09-01\",\"2021-10-01\",\"2021-11-01\",\"2021-12-01\",\"2022-01-01\",\"2022-02-01\",\"2022-03-01\",\"2022-04-01\",\"2022-05-01\",\"2022-06-01\",\"2022-07-01\",\"2022-08-01\",\"2022-09-01\",\"2022-10-01\",\"2022-11-01\",\"2022-12-01\"],\"y\":[21.48,21.62,22.0,22.0,21.95,22.08,22.23,22.4,22.84,22.91,23.06,23.41,23.68,23.67,23.5,23.82,24.01,24.15,24.4,24.43,24.36,24.31,24.16,24.05,24.01,23.91,23.91,23.92,23.91,23.92,23.7,23.7,23.75,23.67,23.7,23.61,23.51,23.61,23.64,23.65,23.77,23.88,24.07,24.2,24.34,24.5,24.6,24.98,25.38,25.83,25.88,25.92,25.99,25.93,25.91,25.86,26.03,26.16,26.32,26.47,26.45,26.41,26.39,26.46,26.47,26.53,26.68,26.69,26.63,26.69,26.69,26.71,26.64,26.59,26.63,26.69,26.7,26.77,26.79,26.85,26.89,26.95,26.85,26.87,26.94,26.99,26.93,26.86,26.93,26.94,26.86,26.85,26.81,26.72,26.78,26.77,26.77,26.82,26.79,26.79,26.77,26.71,26.76,26.72,26.85,26.82,26.88,26.87,26.83,26.86,26.89,26.93,27.03,27.15,27.29,27.31,27.35,27.51,27.51,27.63,27.67,27.8,27.86,27.93,28.0,28.11,28.19,28.28,28.32,28.32,28.41,28.47,28.64,28.7,28.87,28.94,28.94,28.91,28.89,28.94,28.91,28.91,28.95,28.97,29.01,29.0,28.97,28.98,29.04,29.11,29.15,29.18,29.25,29.35,29.35,29.41,29.37,29.41,29.41,29.54,29.57,29.61,29.55,29.61,29.61,29.75,29.78,29.81,29.84,29.84,29.84,29.81,29.84,29.84,29.92,29.94,29.98,29.98,29.98,30.01,30.04,30.11,30.17,30.21,30.24,30.21,30.22,30.28,30.42,30.38,30.38,30.38,30.44,30.48,30.51,30.48,30.51,30.61,30.69,30.75,30.72,30.75,30.78,30.88,30.94,30.91,30.94,30.95,30.98,31.01,31.02,31.05,31.08,31.12,31.21,31.25,31.28,31.28,31.31,31.38,31.48,31.61,31.58,31.55,31.62,31.65,31.75,31.85,31.88,32.08,32.18,32.28,32.35,32.38,32.45,32.65,32.75,32.85,32.88,32.92,32.9,33.0,33.0,33.1,33.1,33.3,33.4,33.5,33.6,33.7,33.9,34.0,34.1,34.2,34.3,34.4,34.5,34.7,34.9,35.0,35.1,35.3,35.4,35.6,35.7,35.8,36.1,36.3,36.4,36.6,36.8,36.9,37.1,37.3,37.5,37.7,37.9,38.1,38.3,38.5,38.6,38.8,38.9,39.0,39.2,39.4,39.6,39.8,39.9,39.9,40.0,40.1,40.3,40.5,40.6,40.7,40.8,40.9,41.0,41.1,41.2,41.4,41.4,41.5,41.6,41.7,41.8,41.9,42.1,42.2,42.4,42.5,42.7,43.0,43.4,43.7,43.9,44.2,44.2,45.0,45.2,45.6,45.9,46.3,46.8,47.3,47.8,48.1,48.6,49.0,49.3,49.9,50.6,51.0,51.5,51.9,52.3,52.6,52.8,53.0,53.1,53.5,54.0,54.2,54.6,54.9,55.3,55.6,55.8,55.9,56.0,56.1,56.4,56.7,57.0,57.3,57.6,57.9,58.1,58.4,58.7,59.3,59.6,60.0,60.2,60.5,60.8,61.1,61.3,61.6,62.0,62.3,62.7,63.0,63.4,63.9,64.5,65.0,65.5,65.9,66.5,67.1,67.5,67.9,68.5,69.2,69.9,70.6,71.4,72.2,73.0,73.7,74.4,75.2,76.0,76.9,78.0,79.0,80.1,80.9,81.7,82.5,82.6,83.2,83.9,84.7,85.6,86.4,87.2,88.0,88.6,89.1,89.7,90.5,91.5,92.2,93.1,93.4,93.8,94.1,94.4,94.7,94.7,95.0,95.9,97.0,97.5,97.7,97.7,98.1,98.0,97.7,97.9,98.0,98.1,98.8,99.2,99.4,99.8,100.1,100.4,100.8,101.1,101.4,102.1,102.6,102.9,103.3,103.5,103.7,104.1,104.4,104.7,105.1,105.3,105.5,105.7,106.3,106.8,107.0,107.2,107.5,107.7,107.9,108.1,108.5,109.0,109.5,109.9,109.7,109.1,108.7,109.0,109.4,109.5,109.6,110.0,110.2,110.4,110.8,111.4,111.8,112.2,112.7,113.0,113.5,113.8,114.3,114.7,115.0,115.4,115.6,116.0,116.2,116.5,117.2,117.5,118.0,118.5,119.0,119.5,119.9,120.3,120.7,121.2,121.6,122.2,123.1,123.7,124.1,124.5,124.5,124.8,125.4,125.9,126.3,127.5,128.0,128.6,128.9,129.1,129.9,130.5,131.6,132.5,133.4,133.7,134.2,134.7,134.8,134.8,135.1,135.6,136.0,136.2,136.6,137.0,137.2,137.8,138.2,138.3,138.6,139.1,139.4,139.7,140.1,140.5,140.8,141.1,141.7,142.1,142.3,142.8,143.1,143.3,143.8,144.2,144.3,144.5,144.8,145.0,145.6,146.0,146.3,146.3,146.7,147.1,147.2,147.5,147.9,148.4,149.0,149.3,149.4,149.8,150.1,150.5,150.9,151.2,151.8,152.1,152.4,152.6,152.9,153.1,153.5,153.7,153.9,154.7,155.0,155.5,156.1,156.4,156.7,157.0,157.2,157.7,158.2,158.7,159.1,159.4,159.7,159.8,159.9,159.9,160.2,160.4,160.8,161.2,161.5,161.7,161.8,162.0,162.0,162.0,162.2,162.6,162.8,163.2,163.4,163.5,163.9,164.1,164.4,164.7,164.7,164.8,165.9,166.0,166.0,166.7,167.1,167.8,168.1,168.4,168.8,169.3,170.0,171.0,170.9,171.2,172.2,172.7,172.7,173.6,173.9,174.2,174.6,175.6,176.0,176.1,176.4,177.3,177.7,177.4,177.4,178.1,177.6,177.5,177.4,177.7,178.0,178.5,179.3,179.5,179.6,180.0,180.5,180.8,181.2,181.5,181.8,182.6,183.6,183.9,183.2,182.9,183.1,183.7,184.5,185.1,184.9,185.0,185.5,186.3,186.7,187.1,187.4,188.2,188.9,189.1,189.2,189.8,190.8,191.7,191.7,191.6,192.4,193.1,193.7,193.6,193.7,194.9,196.1,198.8,199.1,198.1,198.1,199.3,199.4,199.7,200.7,201.3,201.8,202.9,203.8,202.8,201.9,202.0,203.1,203.437,204.226,205.288,205.904,206.755,207.234,207.603,207.667,208.547,209.19,210.834,211.445,212.174,212.687,213.448,213.942,215.208,217.463,219.016,218.69,218.877,216.995,213.153,211.398,211.933,212.705,212.495,212.709,213.022,214.79,214.726,215.445,215.861,216.509,217.234,217.347,217.488,217.281,217.353,217.403,217.29,217.199,217.605,217.923,218.275,219.035,219.59,220.472,221.187,221.898,223.046,224.093,224.806,224.806,225.395,226.106,226.597,226.75,227.169,227.223,227.842,228.329,228.807,229.187,228.713,228.524,228.59,229.918,231.015,231.638,231.249,231.221,231.679,232.937,232.282,231.797,231.893,232.445,232.9,233.456,233.544,233.669,234.1,234.719,235.288,235.547,236.028,236.468,236.918,237.231,237.498,237.46,237.477,237.43,236.983,236.252,234.747,235.342,235.976,236.222,237.001,237.657,238.034,238.033,237.498,237.733,238.017,237.761,237.652,237.336,238.08,238.992,239.557,240.222,240.101,240.545,241.176,241.741,242.026,242.637,243.618,244.006,243.892,244.193,244.004,244.163,244.243,245.183,246.435,246.626,247.284,247.805,248.743,249.439,249.581,250.146,250.779,251.118,251.323,251.749,252.239,252.862,252.657,252.551,252.47,253.135,254.273,255.163,255.325,255.361,255.9,256.179,256.596,257.305,257.788,258.263,258.682,259.007,258.165,256.094,255.944,257.217,258.543,259.58,260.19,260.352,260.721,261.564,262.2,263.346,265.028,266.727,268.599,270.955,272.184,273.092,274.214,276.59,278.524,280.126,281.933,284.182,null,null,null,null,null,null,null,null,null,null],\"type\":\"scatter\"},{\"line\":{\"color\":\"#FF3333\",\"width\":1},\"mode\":\"lines\",\"name\":\"6 Month Rolling Avg\",\"x\":[\"1947-01-01\",\"1947-02-01\",\"1947-03-01\",\"1947-04-01\",\"1947-05-01\",\"1947-06-01\",\"1947-07-01\",\"1947-08-01\",\"1947-09-01\",\"1947-10-01\",\"1947-11-01\",\"1947-12-01\",\"1948-01-01\",\"1948-02-01\",\"1948-03-01\",\"1948-04-01\",\"1948-05-01\",\"1948-06-01\",\"1948-07-01\",\"1948-08-01\",\"1948-09-01\",\"1948-10-01\",\"1948-11-01\",\"1948-12-01\",\"1949-01-01\",\"1949-02-01\",\"1949-03-01\",\"1949-04-01\",\"1949-05-01\",\"1949-06-01\",\"1949-07-01\",\"1949-08-01\",\"1949-09-01\",\"1949-10-01\",\"1949-11-01\",\"1949-12-01\",\"1950-01-01\",\"1950-02-01\",\"1950-03-01\",\"1950-04-01\",\"1950-05-01\",\"1950-06-01\",\"1950-07-01\",\"1950-08-01\",\"1950-09-01\",\"1950-10-01\",\"1950-11-01\",\"1950-12-01\",\"1951-01-01\",\"1951-02-01\",\"1951-03-01\",\"1951-04-01\",\"1951-05-01\",\"1951-06-01\",\"1951-07-01\",\"1951-08-01\",\"1951-09-01\",\"1951-10-01\",\"1951-11-01\",\"1951-12-01\",\"1952-01-01\",\"1952-02-01\",\"1952-03-01\",\"1952-04-01\",\"1952-05-01\",\"1952-06-01\",\"1952-07-01\",\"1952-08-01\",\"1952-09-01\",\"1952-10-01\",\"1952-11-01\",\"1952-12-01\",\"1953-01-01\",\"1953-02-01\",\"1953-03-01\",\"1953-04-01\",\"1953-05-01\",\"1953-06-01\",\"1953-07-01\",\"1953-08-01\",\"1953-09-01\",\"1953-10-01\",\"1953-11-01\",\"1953-12-01\",\"1954-01-01\",\"1954-02-01\",\"1954-03-01\",\"1954-04-01\",\"1954-05-01\",\"1954-06-01\",\"1954-07-01\",\"1954-08-01\",\"1954-09-01\",\"1954-10-01\",\"1954-11-01\",\"1954-12-01\",\"1955-01-01\",\"1955-02-01\",\"1955-03-01\",\"1955-04-01\",\"1955-05-01\",\"1955-06-01\",\"1955-07-01\",\"1955-08-01\",\"1955-09-01\",\"1955-10-01\",\"1955-11-01\",\"1955-12-01\",\"1956-01-01\",\"1956-02-01\",\"1956-03-01\",\"1956-04-01\",\"1956-05-01\",\"1956-06-01\",\"1956-07-01\",\"1956-08-01\",\"1956-09-01\",\"1956-10-01\",\"1956-11-01\",\"1956-12-01\",\"1957-01-01\",\"1957-02-01\",\"1957-03-01\",\"1957-04-01\",\"1957-05-01\",\"1957-06-01\",\"1957-07-01\",\"1957-08-01\",\"1957-09-01\",\"1957-10-01\",\"1957-11-01\",\"1957-12-01\",\"1958-01-01\",\"1958-02-01\",\"1958-03-01\",\"1958-04-01\",\"1958-05-01\",\"1958-06-01\",\"1958-07-01\",\"1958-08-01\",\"1958-09-01\",\"1958-10-01\",\"1958-11-01\",\"1958-12-01\",\"1959-01-01\",\"1959-02-01\",\"1959-03-01\",\"1959-04-01\",\"1959-05-01\",\"1959-06-01\",\"1959-07-01\",\"1959-08-01\",\"1959-09-01\",\"1959-10-01\",\"1959-11-01\",\"1959-12-01\",\"1960-01-01\",\"1960-02-01\",\"1960-03-01\",\"1960-04-01\",\"1960-05-01\",\"1960-06-01\",\"1960-07-01\",\"1960-08-01\",\"1960-09-01\",\"1960-10-01\",\"1960-11-01\",\"1960-12-01\",\"1961-01-01\",\"1961-02-01\",\"1961-03-01\",\"1961-04-01\",\"1961-05-01\",\"1961-06-01\",\"1961-07-01\",\"1961-08-01\",\"1961-09-01\",\"1961-10-01\",\"1961-11-01\",\"1961-12-01\",\"1962-01-01\",\"1962-02-01\",\"1962-03-01\",\"1962-04-01\",\"1962-05-01\",\"1962-06-01\",\"1962-07-01\",\"1962-08-01\",\"1962-09-01\",\"1962-10-01\",\"1962-11-01\",\"1962-12-01\",\"1963-01-01\",\"1963-02-01\",\"1963-03-01\",\"1963-04-01\",\"1963-05-01\",\"1963-06-01\",\"1963-07-01\",\"1963-08-01\",\"1963-09-01\",\"1963-10-01\",\"1963-11-01\",\"1963-12-01\",\"1964-01-01\",\"1964-02-01\",\"1964-03-01\",\"1964-04-01\",\"1964-05-01\",\"1964-06-01\",\"1964-07-01\",\"1964-08-01\",\"1964-09-01\",\"1964-10-01\",\"1964-11-01\",\"1964-12-01\",\"1965-01-01\",\"1965-02-01\",\"1965-03-01\",\"1965-04-01\",\"1965-05-01\",\"1965-06-01\",\"1965-07-01\",\"1965-08-01\",\"1965-09-01\",\"1965-10-01\",\"1965-11-01\",\"1965-12-01\",\"1966-01-01\",\"1966-02-01\",\"1966-03-01\",\"1966-04-01\",\"1966-05-01\",\"1966-06-01\",\"1966-07-01\",\"1966-08-01\",\"1966-09-01\",\"1966-10-01\",\"1966-11-01\",\"1966-12-01\",\"1967-01-01\",\"1967-02-01\",\"1967-03-01\",\"1967-04-01\",\"1967-05-01\",\"1967-06-01\",\"1967-07-01\",\"1967-08-01\",\"1967-09-01\",\"1967-10-01\",\"1967-11-01\",\"1967-12-01\",\"1968-01-01\",\"1968-02-01\",\"1968-03-01\",\"1968-04-01\",\"1968-05-01\",\"1968-06-01\",\"1968-07-01\",\"1968-08-01\",\"1968-09-01\",\"1968-10-01\",\"1968-11-01\",\"1968-12-01\",\"1969-01-01\",\"1969-02-01\",\"1969-03-01\",\"1969-04-01\",\"1969-05-01\",\"1969-06-01\",\"1969-07-01\",\"1969-08-01\",\"1969-09-01\",\"1969-10-01\",\"1969-11-01\",\"1969-12-01\",\"1970-01-01\",\"1970-02-01\",\"1970-03-01\",\"1970-04-01\",\"1970-05-01\",\"1970-06-01\",\"1970-07-01\",\"1970-08-01\",\"1970-09-01\",\"1970-10-01\",\"1970-11-01\",\"1970-12-01\",\"1971-01-01\",\"1971-02-01\",\"1971-03-01\",\"1971-04-01\",\"1971-05-01\",\"1971-06-01\",\"1971-07-01\",\"1971-08-01\",\"1971-09-01\",\"1971-10-01\",\"1971-11-01\",\"1971-12-01\",\"1972-01-01\",\"1972-02-01\",\"1972-03-01\",\"1972-04-01\",\"1972-05-01\",\"1972-06-01\",\"1972-07-01\",\"1972-08-01\",\"1972-09-01\",\"1972-10-01\",\"1972-11-01\",\"1972-12-01\",\"1973-01-01\",\"1973-02-01\",\"1973-03-01\",\"1973-04-01\",\"1973-05-01\",\"1973-06-01\",\"1973-07-01\",\"1973-08-01\",\"1973-09-01\",\"1973-10-01\",\"1973-11-01\",\"1973-12-01\",\"1974-01-01\",\"1974-02-01\",\"1974-03-01\",\"1974-04-01\",\"1974-05-01\",\"1974-06-01\",\"1974-07-01\",\"1974-08-01\",\"1974-09-01\",\"1974-10-01\",\"1974-11-01\",\"1974-12-01\",\"1975-01-01\",\"1975-02-01\",\"1975-03-01\",\"1975-04-01\",\"1975-05-01\",\"1975-06-01\",\"1975-07-01\",\"1975-08-01\",\"1975-09-01\",\"1975-10-01\",\"1975-11-01\",\"1975-12-01\",\"1976-01-01\",\"1976-02-01\",\"1976-03-01\",\"1976-04-01\",\"1976-05-01\",\"1976-06-01\",\"1976-07-01\",\"1976-08-01\",\"1976-09-01\",\"1976-10-01\",\"1976-11-01\",\"1976-12-01\",\"1977-01-01\",\"1977-02-01\",\"1977-03-01\",\"1977-04-01\",\"1977-05-01\",\"1977-06-01\",\"1977-07-01\",\"1977-08-01\",\"1977-09-01\",\"1977-10-01\",\"1977-11-01\",\"1977-12-01\",\"1978-01-01\",\"1978-02-01\",\"1978-03-01\",\"1978-04-01\",\"1978-05-01\",\"1978-06-01\",\"1978-07-01\",\"1978-08-01\",\"1978-09-01\",\"1978-10-01\",\"1978-11-01\",\"1978-12-01\",\"1979-01-01\",\"1979-02-01\",\"1979-03-01\",\"1979-04-01\",\"1979-05-01\",\"1979-06-01\",\"1979-07-01\",\"1979-08-01\",\"1979-09-01\",\"1979-10-01\",\"1979-11-01\",\"1979-12-01\",\"1980-01-01\",\"1980-02-01\",\"1980-03-01\",\"1980-04-01\",\"1980-05-01\",\"1980-06-01\",\"1980-07-01\",\"1980-08-01\",\"1980-09-01\",\"1980-10-01\",\"1980-11-01\",\"1980-12-01\",\"1981-01-01\",\"1981-02-01\",\"1981-03-01\",\"1981-04-01\",\"1981-05-01\",\"1981-06-01\",\"1981-07-01\",\"1981-08-01\",\"1981-09-01\",\"1981-10-01\",\"1981-11-01\",\"1981-12-01\",\"1982-01-01\",\"1982-02-01\",\"1982-03-01\",\"1982-04-01\",\"1982-05-01\",\"1982-06-01\",\"1982-07-01\",\"1982-08-01\",\"1982-09-01\",\"1982-10-01\",\"1982-11-01\",\"1982-12-01\",\"1983-01-01\",\"1983-02-01\",\"1983-03-01\",\"1983-04-01\",\"1983-05-01\",\"1983-06-01\",\"1983-07-01\",\"1983-08-01\",\"1983-09-01\",\"1983-10-01\",\"1983-11-01\",\"1983-12-01\",\"1984-01-01\",\"1984-02-01\",\"1984-03-01\",\"1984-04-01\",\"1984-05-01\",\"1984-06-01\",\"1984-07-01\",\"1984-08-01\",\"1984-09-01\",\"1984-10-01\",\"1984-11-01\",\"1984-12-01\",\"1985-01-01\",\"1985-02-01\",\"1985-03-01\",\"1985-04-01\",\"1985-05-01\",\"1985-06-01\",\"1985-07-01\",\"1985-08-01\",\"1985-09-01\",\"1985-10-01\",\"1985-11-01\",\"1985-12-01\",\"1986-01-01\",\"1986-02-01\",\"1986-03-01\",\"1986-04-01\",\"1986-05-01\",\"1986-06-01\",\"1986-07-01\",\"1986-08-01\",\"1986-09-01\",\"1986-10-01\",\"1986-11-01\",\"1986-12-01\",\"1987-01-01\",\"1987-02-01\",\"1987-03-01\",\"1987-04-01\",\"1987-05-01\",\"1987-06-01\",\"1987-07-01\",\"1987-08-01\",\"1987-09-01\",\"1987-10-01\",\"1987-11-01\",\"1987-12-01\",\"1988-01-01\",\"1988-02-01\",\"1988-03-01\",\"1988-04-01\",\"1988-05-01\",\"1988-06-01\",\"1988-07-01\",\"1988-08-01\",\"1988-09-01\",\"1988-10-01\",\"1988-11-01\",\"1988-12-01\",\"1989-01-01\",\"1989-02-01\",\"1989-03-01\",\"1989-04-01\",\"1989-05-01\",\"1989-06-01\",\"1989-07-01\",\"1989-08-01\",\"1989-09-01\",\"1989-10-01\",\"1989-11-01\",\"1989-12-01\",\"1990-01-01\",\"1990-02-01\",\"1990-03-01\",\"1990-04-01\",\"1990-05-01\",\"1990-06-01\",\"1990-07-01\",\"1990-08-01\",\"1990-09-01\",\"1990-10-01\",\"1990-11-01\",\"1990-12-01\",\"1991-01-01\",\"1991-02-01\",\"1991-03-01\",\"1991-04-01\",\"1991-05-01\",\"1991-06-01\",\"1991-07-01\",\"1991-08-01\",\"1991-09-01\",\"1991-10-01\",\"1991-11-01\",\"1991-12-01\",\"1992-01-01\",\"1992-02-01\",\"1992-03-01\",\"1992-04-01\",\"1992-05-01\",\"1992-06-01\",\"1992-07-01\",\"1992-08-01\",\"1992-09-01\",\"1992-10-01\",\"1992-11-01\",\"1992-12-01\",\"1993-01-01\",\"1993-02-01\",\"1993-03-01\",\"1993-04-01\",\"1993-05-01\",\"1993-06-01\",\"1993-07-01\",\"1993-08-01\",\"1993-09-01\",\"1993-10-01\",\"1993-11-01\",\"1993-12-01\",\"1994-01-01\",\"1994-02-01\",\"1994-03-01\",\"1994-04-01\",\"1994-05-01\",\"1994-06-01\",\"1994-07-01\",\"1994-08-01\",\"1994-09-01\",\"1994-10-01\",\"1994-11-01\",\"1994-12-01\",\"1995-01-01\",\"1995-02-01\",\"1995-03-01\",\"1995-04-01\",\"1995-05-01\",\"1995-06-01\",\"1995-07-01\",\"1995-08-01\",\"1995-09-01\",\"1995-10-01\",\"1995-11-01\",\"1995-12-01\",\"1996-01-01\",\"1996-02-01\",\"1996-03-01\",\"1996-04-01\",\"1996-05-01\",\"1996-06-01\",\"1996-07-01\",\"1996-08-01\",\"1996-09-01\",\"1996-10-01\",\"1996-11-01\",\"1996-12-01\",\"1997-01-01\",\"1997-02-01\",\"1997-03-01\",\"1997-04-01\",\"1997-05-01\",\"1997-06-01\",\"1997-07-01\",\"1997-08-01\",\"1997-09-01\",\"1997-10-01\",\"1997-11-01\",\"1997-12-01\",\"1998-01-01\",\"1998-02-01\",\"1998-03-01\",\"1998-04-01\",\"1998-05-01\",\"1998-06-01\",\"1998-07-01\",\"1998-08-01\",\"1998-09-01\",\"1998-10-01\",\"1998-11-01\",\"1998-12-01\",\"1999-01-01\",\"1999-02-01\",\"1999-03-01\",\"1999-04-01\",\"1999-05-01\",\"1999-06-01\",\"1999-07-01\",\"1999-08-01\",\"1999-09-01\",\"1999-10-01\",\"1999-11-01\",\"1999-12-01\",\"2000-01-01\",\"2000-02-01\",\"2000-03-01\",\"2000-04-01\",\"2000-05-01\",\"2000-06-01\",\"2000-07-01\",\"2000-08-01\",\"2000-09-01\",\"2000-10-01\",\"2000-11-01\",\"2000-12-01\",\"2001-01-01\",\"2001-02-01\",\"2001-03-01\",\"2001-04-01\",\"2001-05-01\",\"2001-06-01\",\"2001-07-01\",\"2001-08-01\",\"2001-09-01\",\"2001-10-01\",\"2001-11-01\",\"2001-12-01\",\"2002-01-01\",\"2002-02-01\",\"2002-03-01\",\"2002-04-01\",\"2002-05-01\",\"2002-06-01\",\"2002-07-01\",\"2002-08-01\",\"2002-09-01\",\"2002-10-01\",\"2002-11-01\",\"2002-12-01\",\"2003-01-01\",\"2003-02-01\",\"2003-03-01\",\"2003-04-01\",\"2003-05-01\",\"2003-06-01\",\"2003-07-01\",\"2003-08-01\",\"2003-09-01\",\"2003-10-01\",\"2003-11-01\",\"2003-12-01\",\"2004-01-01\",\"2004-02-01\",\"2004-03-01\",\"2004-04-01\",\"2004-05-01\",\"2004-06-01\",\"2004-07-01\",\"2004-08-01\",\"2004-09-01\",\"2004-10-01\",\"2004-11-01\",\"2004-12-01\",\"2005-01-01\",\"2005-02-01\",\"2005-03-01\",\"2005-04-01\",\"2005-05-01\",\"2005-06-01\",\"2005-07-01\",\"2005-08-01\",\"2005-09-01\",\"2005-10-01\",\"2005-11-01\",\"2005-12-01\",\"2006-01-01\",\"2006-02-01\",\"2006-03-01\",\"2006-04-01\",\"2006-05-01\",\"2006-06-01\",\"2006-07-01\",\"2006-08-01\",\"2006-09-01\",\"2006-10-01\",\"2006-11-01\",\"2006-12-01\",\"2007-01-01\",\"2007-02-01\",\"2007-03-01\",\"2007-04-01\",\"2007-05-01\",\"2007-06-01\",\"2007-07-01\",\"2007-08-01\",\"2007-09-01\",\"2007-10-01\",\"2007-11-01\",\"2007-12-01\",\"2008-01-01\",\"2008-02-01\",\"2008-03-01\",\"2008-04-01\",\"2008-05-01\",\"2008-06-01\",\"2008-07-01\",\"2008-08-01\",\"2008-09-01\",\"2008-10-01\",\"2008-11-01\",\"2008-12-01\",\"2009-01-01\",\"2009-02-01\",\"2009-03-01\",\"2009-04-01\",\"2009-05-01\",\"2009-06-01\",\"2009-07-01\",\"2009-08-01\",\"2009-09-01\",\"2009-10-01\",\"2009-11-01\",\"2009-12-01\",\"2010-01-01\",\"2010-02-01\",\"2010-03-01\",\"2010-04-01\",\"2010-05-01\",\"2010-06-01\",\"2010-07-01\",\"2010-08-01\",\"2010-09-01\",\"2010-10-01\",\"2010-11-01\",\"2010-12-01\",\"2011-01-01\",\"2011-02-01\",\"2011-03-01\",\"2011-04-01\",\"2011-05-01\",\"2011-06-01\",\"2011-07-01\",\"2011-08-01\",\"2011-09-01\",\"2011-10-01\",\"2011-11-01\",\"2011-12-01\",\"2012-01-01\",\"2012-02-01\",\"2012-03-01\",\"2012-04-01\",\"2012-05-01\",\"2012-06-01\",\"2012-07-01\",\"2012-08-01\",\"2012-09-01\",\"2012-10-01\",\"2012-11-01\",\"2012-12-01\",\"2013-01-01\",\"2013-02-01\",\"2013-03-01\",\"2013-04-01\",\"2013-05-01\",\"2013-06-01\",\"2013-07-01\",\"2013-08-01\",\"2013-09-01\",\"2013-10-01\",\"2013-11-01\",\"2013-12-01\",\"2014-01-01\",\"2014-02-01\",\"2014-03-01\",\"2014-04-01\",\"2014-05-01\",\"2014-06-01\",\"2014-07-01\",\"2014-08-01\",\"2014-09-01\",\"2014-10-01\",\"2014-11-01\",\"2014-12-01\",\"2015-01-01\",\"2015-02-01\",\"2015-03-01\",\"2015-04-01\",\"2015-05-01\",\"2015-06-01\",\"2015-07-01\",\"2015-08-01\",\"2015-09-01\",\"2015-10-01\",\"2015-11-01\",\"2015-12-01\",\"2016-01-01\",\"2016-02-01\",\"2016-03-01\",\"2016-04-01\",\"2016-05-01\",\"2016-06-01\",\"2016-07-01\",\"2016-08-01\",\"2016-09-01\",\"2016-10-01\",\"2016-11-01\",\"2016-12-01\",\"2017-01-01\",\"2017-02-01\",\"2017-03-01\",\"2017-04-01\",\"2017-05-01\",\"2017-06-01\",\"2017-07-01\",\"2017-08-01\",\"2017-09-01\",\"2017-10-01\",\"2017-11-01\",\"2017-12-01\",\"2018-01-01\",\"2018-02-01\",\"2018-03-01\",\"2018-04-01\",\"2018-05-01\",\"2018-06-01\",\"2018-07-01\",\"2018-08-01\",\"2018-09-01\",\"2018-10-01\",\"2018-11-01\",\"2018-12-01\",\"2019-01-01\",\"2019-02-01\",\"2019-03-01\",\"2019-04-01\",\"2019-05-01\",\"2019-06-01\",\"2019-07-01\",\"2019-08-01\",\"2019-09-01\",\"2019-10-01\",\"2019-11-01\",\"2019-12-01\",\"2020-01-01\",\"2020-02-01\",\"2020-03-01\",\"2020-04-01\",\"2020-05-01\",\"2020-06-01\",\"2020-07-01\",\"2020-08-01\",\"2020-09-01\",\"2020-10-01\",\"2020-11-01\",\"2020-12-01\",\"2021-01-01\",\"2021-02-01\",\"2021-03-01\",\"2021-04-01\",\"2021-05-01\",\"2021-06-01\",\"2021-07-01\",\"2021-08-01\",\"2021-09-01\",\"2021-10-01\",\"2021-11-01\",\"2021-12-01\",\"2022-01-01\",\"2022-02-01\",\"2022-03-01\",\"2022-04-01\",\"2022-05-01\",\"2022-06-01\",\"2022-07-01\",\"2022-08-01\",\"2022-09-01\",\"2022-10-01\",\"2022-11-01\",\"2022-12-01\"],\"y\":[null,null,null,null,null,21.855,21.98,22.11,22.25,22.401666666666667,22.58666666666667,22.808333333333334,23.05,23.261666666666667,23.37166666666667,23.523333333333337,23.68166666666667,23.805000000000003,23.925,24.051666666666666,24.194999999999997,24.276666666666667,24.301666666666666,24.284999999999997,24.22,24.133333333333336,24.058333333333334,23.993333333333336,23.951666666666668,23.930000000000003,23.878333333333334,23.843333333333334,23.816666666666666,23.775000000000002,23.74,23.688333333333333,23.656666666666666,23.641666666666666,23.623333333333335,23.62,23.631666666666664,23.676666666666666,23.77,23.86833333333333,23.985,24.126666666666665,24.265,24.448333333333334,24.666666666666668,24.938333333333333,25.194999999999997,25.43166666666667,25.66333333333333,25.82166666666667,25.91,25.915000000000003,25.94,25.98,26.035,26.125,26.215,26.30666666666666,26.366666666666664,26.416666666666668,26.441666666666666,26.451666666666668,26.49,26.536666666666665,26.576666666666668,26.615,26.651666666666667,26.68166666666667,26.675,26.65833333333333,26.65833333333333,26.65833333333333,26.66,26.669999999999998,26.695000000000004,26.738333333333333,26.781666666666666,26.825000000000003,26.849999999999998,26.86666666666667,26.891666666666666,26.915000000000003,26.921666666666667,26.906666666666666,26.92,26.93166666666667,26.918333333333333,26.895,26.875,26.851666666666663,26.826666666666664,26.798333333333332,26.783333333333335,26.778333333333336,26.775000000000002,26.786666666666665,26.785,26.775000000000002,26.77333333333333,26.756666666666664,26.766666666666666,26.771666666666672,26.790000000000003,26.816666666666666,26.828333333333333,26.85166666666667,26.858333333333334,26.876666666666665,26.901666666666667,26.948333333333334,27.025000000000002,27.099999999999998,27.176666666666666,27.27333333333333,27.353333333333335,27.433333333333334,27.496666666666666,27.578333333333333,27.663333333333338,27.733333333333334,27.814999999999998,27.895,27.98166666666667,28.061666666666667,28.138333333333332,28.203333333333333,28.271666666666665,28.331666666666667,28.406666666666666,28.476666666666663,28.56833333333333,28.671666666666667,28.76,28.833333333333332,28.875,28.915000000000003,28.921666666666667,28.916666666666668,28.918333333333337,28.92833333333333,28.948333333333334,28.958333333333332,28.968333333333334,28.98,28.995,29.01833333333333,29.041666666666668,29.07166666666667,29.118333333333336,29.179999999999996,29.231666666666666,29.281666666666666,29.31833333333333,29.356666666666666,29.383333333333336,29.415000000000003,29.451666666666668,29.485000000000003,29.515,29.548333333333336,29.581666666666663,29.616666666666664,29.651666666666667,29.685,29.733333333333334,29.771666666666665,29.810000000000002,29.820000000000004,29.830000000000002,29.834999999999997,29.848333333333333,29.865,29.888333333333332,29.916666666666668,29.94,29.968333333333334,29.988333333333333,30.016666666666666,30.048333333333336,30.086666666666662,30.13,30.16333333333333,30.19333333333333,30.221666666666668,30.263333333333332,30.291666666666668,30.315,30.343333333333334,30.38,30.41333333333333,30.428333333333338,30.444999999999997,30.466666666666665,30.505,30.546666666666667,30.59166666666667,30.626666666666665,30.671666666666667,30.71666666666667,30.761666666666667,30.80333333333333,30.83,30.866666666666664,30.900000000000002,30.933333333333334,30.955000000000002,30.968333333333334,30.99166666666667,31.014999999999997,31.043333333333333,31.081666666666667,31.121666666666666,31.165000000000003,31.203333333333333,31.24166666666667,31.285,31.33,31.39,31.439999999999998,31.485,31.536666666666665,31.581666666666667,31.62666666666667,31.666666666666668,31.71666666666667,31.804999999999996,31.89833333333333,32.00333333333333,32.10333333333333,32.19166666666667,32.28666666666667,32.38166666666667,32.47666666666667,32.571666666666665,32.66,32.75,32.825,32.88333333333333,32.925000000000004,32.96666666666667,33.00333333333334,33.06666666666667,33.15,33.23333333333333,33.333333333333336,33.43333333333333,33.56666666666667,33.68333333333333,33.8,33.91666666666667,34.03333333333333,34.15,34.25,34.36666666666667,34.5,34.63333333333333,34.76666666666667,34.916666666666664,35.06666666666667,35.21666666666666,35.35,35.483333333333334,35.65,35.81666666666667,35.98333333333333,36.15,36.33333333333333,36.516666666666666,36.68333333333333,36.85,37.03333333333333,37.21666666666666,37.4,37.6,37.800000000000004,38.0,38.18333333333333,38.36666666666667,38.53333333333333,38.68333333333333,38.833333333333336,38.98333333333333,39.15,39.31666666666667,39.483333333333334,39.63333333333333,39.766666666666666,39.88333333333333,40.0,40.11666666666667,40.233333333333334,40.36666666666667,40.5,40.63333333333333,40.75,40.85,40.949999999999996,41.06666666666667,41.166666666666664,41.26666666666667,41.36666666666667,41.46666666666667,41.56666666666667,41.65,41.766666666666666,41.88333333333333,42.016666666666666,42.15,42.300000000000004,42.483333333333334,42.699999999999996,42.95000000000001,43.199999999999996,43.48333333333334,43.73333333333333,44.06666666666666,44.366666666666674,44.68333333333334,45.01666666666667,45.36666666666667,45.800000000000004,46.18333333333333,46.61666666666667,47.03333333333333,47.48333333333333,47.93333333333333,48.35,48.78333333333333,49.25,49.73333333333333,50.21666666666667,50.699999999999996,51.199999999999996,51.65,52.01666666666667,52.35,52.61666666666667,52.883333333333326,53.166666666666664,53.43333333333334,53.73333333333333,54.04999999999999,54.416666666666664,54.76666666666667,55.06666666666667,55.35,55.583333333333336,55.78333333333334,55.96666666666667,56.15,56.349999999999994,56.583333333333336,56.85,57.15,57.43333333333334,57.71666666666667,58.0,58.333333333333336,58.666666666666664,59.01666666666667,59.36666666666667,59.71666666666667,60.06666666666667,60.36666666666667,60.65,60.916666666666664,61.21666666666667,61.51666666666666,61.833333333333336,62.150000000000006,62.5,62.883333333333326,63.29999999999999,63.75,64.21666666666665,64.7,65.21666666666667,65.75,66.25,66.73333333333333,67.23333333333333,67.78333333333333,68.35000000000001,68.93333333333332,69.58333333333334,70.3,71.05,71.8,72.55,73.31666666666668,74.08333333333333,74.86666666666667,75.7,76.58333333333333,77.53333333333333,78.48333333333333,79.43333333333334,80.36666666666667,81.13333333333334,81.83333333333333,82.46666666666667,83.1,83.75,84.39999999999999,85.16666666666667,85.96666666666665,86.75,87.48333333333333,88.16666666666667,88.85000000000001,89.56666666666666,90.26666666666665,91.01666666666667,91.73333333333333,92.41666666666667,93.01666666666667,93.5,93.91666666666667,94.18333333333334,94.45,94.8,95.28333333333335,95.8,96.3,96.80000000000001,97.31666666666666,97.66666666666667,97.78333333333335,97.85000000000001,97.89999999999999,97.96666666666665,98.08333333333333,98.28333333333335,98.56666666666666,98.88333333333334,99.23333333333333,99.61666666666667,99.95,100.26666666666667,100.60000000000001,100.98333333333333,101.39999999999999,101.81666666666666,102.23333333333333,102.63333333333333,103.01666666666667,103.34999999999998,103.65000000000002,103.94999999999999,104.25,104.55,104.84999999999998,105.11666666666667,105.43333333333332,105.78333333333335,106.10000000000001,106.41666666666667,106.75,107.08333333333333,107.35000000000001,107.56666666666666,107.81666666666666,108.11666666666667,108.45,108.81666666666666,109.11666666666667,109.28333333333335,109.31666666666666,109.31666666666666,109.30000000000001,109.23333333333335,109.21666666666665,109.36666666666666,109.61666666666667,109.85000000000001,110.08333333333333,110.39999999999999,110.76666666666667,111.13333333333334,111.55,111.98333333333335,112.43333333333332,112.83333333333333,113.25,113.66666666666667,114.05,114.44999999999999,114.80000000000001,115.16666666666667,115.48333333333335,115.78333333333335,116.14999999999999,116.5,116.89999999999999,117.31666666666666,117.78333333333335,118.28333333333335,118.73333333333333,119.2,119.64999999999999,120.10000000000001,120.53333333333335,120.98333333333333,121.51666666666667,122.08333333333333,122.65000000000002,123.2,123.68333333333332,124.11666666666667,124.5,124.86666666666666,125.23333333333333,125.73333333333335,126.31666666666668,126.95,127.53333333333335,128.0666666666667,128.66666666666666,129.16666666666666,129.76666666666665,130.41666666666666,131.16666666666666,131.93333333333334,132.65,133.35,133.88333333333335,134.26666666666665,134.54999999999998,134.86666666666667,135.16666666666666,135.41666666666666,135.71666666666667,136.08333333333334,136.4333333333333,136.79999999999998,137.16666666666666,137.51666666666668,137.85,138.20000000000002,138.56666666666666,138.88333333333333,139.2,139.56666666666666,139.9333333333333,140.26666666666668,140.65,141.04999999999998,141.41666666666666,141.79999999999998,142.18333333333334,142.55,142.9,143.25,143.58333333333334,143.86666666666667,144.15,144.43333333333334,144.73333333333335,145.03333333333333,145.36666666666667,145.66666666666666,145.98333333333332,146.33333333333334,146.6,146.85,147.11666666666667,147.46666666666667,147.85,148.21666666666667,148.58333333333334,148.96666666666667,149.33333333333334,149.68333333333334,150.0,150.3166666666667,150.71666666666667,151.1,151.48333333333332,151.83333333333334,152.16666666666666,152.48333333333332,152.76666666666668,153.03333333333333,153.28333333333333,153.63333333333333,153.98333333333332,154.38333333333333,154.81666666666666,155.26666666666668,155.73333333333335,156.11666666666667,156.48333333333332,156.85,157.2,157.58333333333334,157.98333333333332,158.38333333333333,158.79999999999998,159.14999999999998,159.43333333333334,159.63333333333335,159.8166666666667,159.98333333333332,160.16666666666666,160.4,160.66666666666666,160.96666666666667,161.23333333333332,161.5,161.70000000000002,161.83333333333334,161.95,162.1,162.26666666666665,162.46666666666667,162.7,162.95,163.23333333333335,163.48333333333332,163.75,164.0,164.21666666666667,164.43333333333334,164.76666666666668,165.08333333333334,165.35,165.68333333333334,166.08333333333334,166.58333333333334,166.95000000000002,167.35,167.8166666666667,168.25,168.73333333333335,169.26666666666668,169.73333333333332,170.20000000000002,170.76666666666668,171.33333333333334,171.78333333333333,172.21666666666667,172.71666666666667,173.21666666666667,173.61666666666667,174.1,174.65,175.0666666666667,175.48333333333335,176.0,176.51666666666668,176.8166666666667,177.04999999999998,177.38333333333333,177.58333333333334,177.61666666666667,177.5666666666667,177.61666666666665,177.71666666666667,177.78333333333333,178.0666666666667,178.4,178.76666666666665,179.15,179.5666666666667,179.95000000000002,180.26666666666668,180.60000000000002,180.96666666666667,181.4,181.91666666666666,182.4333333333333,182.76666666666665,183.0,183.21666666666667,183.4,183.54999999999998,183.75,184.03333333333333,184.38333333333333,184.78333333333333,185.21666666666667,185.58333333333334,185.91666666666666,186.33333333333334,186.86666666666665,187.4333333333333,187.9,188.31666666666663,188.76666666666665,189.33333333333334,189.91666666666666,190.38333333333333,190.79999999999998,191.33333333333334,191.88333333333333,192.36666666666667,192.6833333333333,193.01666666666665,193.5666666666667,194.1833333333333,195.13333333333333,196.03333333333333,196.78333333333333,197.51666666666665,198.25,198.79999999999998,198.95000000000002,199.21666666666667,199.75,200.36666666666667,200.96666666666667,201.70000000000002,202.21666666666667,202.41666666666666,202.53333333333333,202.75,202.83950000000002,202.91049999999998,203.32516666666666,203.99249999999998,204.785,205.47400000000002,206.16833333333332,206.74183333333335,207.285,207.83266666666668,208.51250000000002,209.21433333333334,209.97616666666667,210.81283333333337,211.62966666666668,212.42166666666665,213.15066666666667,214.15366666666668,215.294,216.29449999999997,217.19933333333336,217.70816666666667,217.36566666666667,216.35483333333332,215.1743333333333,214.17683333333335,213.11316666666664,212.39883333333333,212.37699999999998,212.94233333333332,213.40783333333334,213.8645,214.42550000000003,215.05883333333335,215.76083333333335,216.187,216.64733333333334,216.95333333333335,217.202,217.351,217.36033333333333,217.3356666666667,217.35516666666663,217.46216666666666,217.6158333333333,217.88783333333333,218.27116666666666,218.81666666666663,219.4136666666667,220.0761666666667,220.87133333333335,221.71433333333331,222.58366666666666,223.306,224.00733333333332,224.70866666666666,225.30049999999997,225.74333333333334,226.13716666666667,226.54,226.94783333333336,227.31833333333336,227.6866666666667,228.09283333333337,228.3501666666667,228.567,228.6916666666667,228.9565,229.32450000000003,229.73300000000003,230.15566666666666,230.6051666666667,231.12,231.62316666666666,231.83433333333335,231.86083333333332,231.96816666666666,232.17216666666664,232.3756666666667,232.46216666666666,232.6725,232.98450000000003,233.35233333333335,233.73133333333337,234.12933333333334,234.47783333333336,234.89183333333332,235.35833333333332,235.82799999999997,236.24666666666667,236.61499999999998,236.93383333333335,237.17533333333336,237.3356666666667,237.3465,237.1833333333333,236.72483333333335,236.37183333333334,236.12166666666667,235.92033333333336,235.92333333333332,236.15750000000003,236.70533333333333,237.15383333333332,237.4075,237.6593333333333,237.82866666666666,237.846,237.78233333333333,237.66616666666667,237.76316666666665,237.97300000000004,238.22966666666665,238.6398333333333,239.048,239.58283333333335,240.09883333333335,240.55700000000002,240.96850000000003,241.37099999999998,241.95716666666667,242.534,242.98666666666668,243.39533333333335,243.725,243.97933333333333,244.0835,244.27966666666666,244.7035,245.109,245.65566666666666,246.26266666666666,247.01266666666666,247.722,248.2463333333333,248.83299999999997,249.41549999999998,249.96766666666667,250.39766666666665,250.78266666666664,251.22566666666668,251.67833333333337,251.99133333333336,252.23016666666663,252.42133333333334,252.65233333333333,252.9913333333333,253.3748333333333,253.81949999999998,254.28783333333334,254.8595,255.36683333333335,255.754,256.111,256.5215,257.00516666666664,257.46883333333335,257.9401666666667,258.20166666666665,257.99983333333336,257.6925,257.5181666666667,257.495,257.59049999999996,257.928,258.6376666666667,259.4338333333333,260.1583333333333,260.76783333333333,261.3955,262.20183333333335,263.2643333333333,264.57733333333334,266.1425,267.80649999999997,269.43083333333334,270.96183333333335,272.60566666666665,274.25983333333335,275.78833333333336,277.41316666666665,279.2615,null,null,null,null,null,null,null,null,null,null],\"type\":\"scatter\"},{\"line\":{\"color\":\"#bf9fa2\",\"width\":1},\"mode\":\"lines\",\"name\":\"6 Month Rolling Low\",\"x\":[\"1947-01-01\",\"1947-02-01\",\"1947-03-01\",\"1947-04-01\",\"1947-05-01\",\"1947-06-01\",\"1947-07-01\",\"1947-08-01\",\"1947-09-01\",\"1947-10-01\",\"1947-11-01\",\"1947-12-01\",\"1948-01-01\",\"1948-02-01\",\"1948-03-01\",\"1948-04-01\",\"1948-05-01\",\"1948-06-01\",\"1948-07-01\",\"1948-08-01\",\"1948-09-01\",\"1948-10-01\",\"1948-11-01\",\"1948-12-01\",\"1949-01-01\",\"1949-02-01\",\"1949-03-01\",\"1949-04-01\",\"1949-05-01\",\"1949-06-01\",\"1949-07-01\",\"1949-08-01\",\"1949-09-01\",\"1949-10-01\",\"1949-11-01\",\"1949-12-01\",\"1950-01-01\",\"1950-02-01\",\"1950-03-01\",\"1950-04-01\",\"1950-05-01\",\"1950-06-01\",\"1950-07-01\",\"1950-08-01\",\"1950-09-01\",\"1950-10-01\",\"1950-11-01\",\"1950-12-01\",\"1951-01-01\",\"1951-02-01\",\"1951-03-01\",\"1951-04-01\",\"1951-05-01\",\"1951-06-01\",\"1951-07-01\",\"1951-08-01\",\"1951-09-01\",\"1951-10-01\",\"1951-11-01\",\"1951-12-01\",\"1952-01-01\",\"1952-02-01\",\"1952-03-01\",\"1952-04-01\",\"1952-05-01\",\"1952-06-01\",\"1952-07-01\",\"1952-08-01\",\"1952-09-01\",\"1952-10-01\",\"1952-11-01\",\"1952-12-01\",\"1953-01-01\",\"1953-02-01\",\"1953-03-01\",\"1953-04-01\",\"1953-05-01\",\"1953-06-01\",\"1953-07-01\",\"1953-08-01\",\"1953-09-01\",\"1953-10-01\",\"1953-11-01\",\"1953-12-01\",\"1954-01-01\",\"1954-02-01\",\"1954-03-01\",\"1954-04-01\",\"1954-05-01\",\"1954-06-01\",\"1954-07-01\",\"1954-08-01\",\"1954-09-01\",\"1954-10-01\",\"1954-11-01\",\"1954-12-01\",\"1955-01-01\",\"1955-02-01\",\"1955-03-01\",\"1955-04-01\",\"1955-05-01\",\"1955-06-01\",\"1955-07-01\",\"1955-08-01\",\"1955-09-01\",\"1955-10-01\",\"1955-11-01\",\"1955-12-01\",\"1956-01-01\",\"1956-02-01\",\"1956-03-01\",\"1956-04-01\",\"1956-05-01\",\"1956-06-01\",\"1956-07-01\",\"1956-08-01\",\"1956-09-01\",\"1956-10-01\",\"1956-11-01\",\"1956-12-01\",\"1957-01-01\",\"1957-02-01\",\"1957-03-01\",\"1957-04-01\",\"1957-05-01\",\"1957-06-01\",\"1957-07-01\",\"1957-08-01\",\"1957-09-01\",\"1957-10-01\",\"1957-11-01\",\"1957-12-01\",\"1958-01-01\",\"1958-02-01\",\"1958-03-01\",\"1958-04-01\",\"1958-05-01\",\"1958-06-01\",\"1958-07-01\",\"1958-08-01\",\"1958-09-01\",\"1958-10-01\",\"1958-11-01\",\"1958-12-01\",\"1959-01-01\",\"1959-02-01\",\"1959-03-01\",\"1959-04-01\",\"1959-05-01\",\"1959-06-01\",\"1959-07-01\",\"1959-08-01\",\"1959-09-01\",\"1959-10-01\",\"1959-11-01\",\"1959-12-01\",\"1960-01-01\",\"1960-02-01\",\"1960-03-01\",\"1960-04-01\",\"1960-05-01\",\"1960-06-01\",\"1960-07-01\",\"1960-08-01\",\"1960-09-01\",\"1960-10-01\",\"1960-11-01\",\"1960-12-01\",\"1961-01-01\",\"1961-02-01\",\"1961-03-01\",\"1961-04-01\",\"1961-05-01\",\"1961-06-01\",\"1961-07-01\",\"1961-08-01\",\"1961-09-01\",\"1961-10-01\",\"1961-11-01\",\"1961-12-01\",\"1962-01-01\",\"1962-02-01\",\"1962-03-01\",\"1962-04-01\",\"1962-05-01\",\"1962-06-01\",\"1962-07-01\",\"1962-08-01\",\"1962-09-01\",\"1962-10-01\",\"1962-11-01\",\"1962-12-01\",\"1963-01-01\",\"1963-02-01\",\"1963-03-01\",\"1963-04-01\",\"1963-05-01\",\"1963-06-01\",\"1963-07-01\",\"1963-08-01\",\"1963-09-01\",\"1963-10-01\",\"1963-11-01\",\"1963-12-01\",\"1964-01-01\",\"1964-02-01\",\"1964-03-01\",\"1964-04-01\",\"1964-05-01\",\"1964-06-01\",\"1964-07-01\",\"1964-08-01\",\"1964-09-01\",\"1964-10-01\",\"1964-11-01\",\"1964-12-01\",\"1965-01-01\",\"1965-02-01\",\"1965-03-01\",\"1965-04-01\",\"1965-05-01\",\"1965-06-01\",\"1965-07-01\",\"1965-08-01\",\"1965-09-01\",\"1965-10-01\",\"1965-11-01\",\"1965-12-01\",\"1966-01-01\",\"1966-02-01\",\"1966-03-01\",\"1966-04-01\",\"1966-05-01\",\"1966-06-01\",\"1966-07-01\",\"1966-08-01\",\"1966-09-01\",\"1966-10-01\",\"1966-11-01\",\"1966-12-01\",\"1967-01-01\",\"1967-02-01\",\"1967-03-01\",\"1967-04-01\",\"1967-05-01\",\"1967-06-01\",\"1967-07-01\",\"1967-08-01\",\"1967-09-01\",\"1967-10-01\",\"1967-11-01\",\"1967-12-01\",\"1968-01-01\",\"1968-02-01\",\"1968-03-01\",\"1968-04-01\",\"1968-05-01\",\"1968-06-01\",\"1968-07-01\",\"1968-08-01\",\"1968-09-01\",\"1968-10-01\",\"1968-11-01\",\"1968-12-01\",\"1969-01-01\",\"1969-02-01\",\"1969-03-01\",\"1969-04-01\",\"1969-05-01\",\"1969-06-01\",\"1969-07-01\",\"1969-08-01\",\"1969-09-01\",\"1969-10-01\",\"1969-11-01\",\"1969-12-01\",\"1970-01-01\",\"1970-02-01\",\"1970-03-01\",\"1970-04-01\",\"1970-05-01\",\"1970-06-01\",\"1970-07-01\",\"1970-08-01\",\"1970-09-01\",\"1970-10-01\",\"1970-11-01\",\"1970-12-01\",\"1971-01-01\",\"1971-02-01\",\"1971-03-01\",\"1971-04-01\",\"1971-05-01\",\"1971-06-01\",\"1971-07-01\",\"1971-08-01\",\"1971-09-01\",\"1971-10-01\",\"1971-11-01\",\"1971-12-01\",\"1972-01-01\",\"1972-02-01\",\"1972-03-01\",\"1972-04-01\",\"1972-05-01\",\"1972-06-01\",\"1972-07-01\",\"1972-08-01\",\"1972-09-01\",\"1972-10-01\",\"1972-11-01\",\"1972-12-01\",\"1973-01-01\",\"1973-02-01\",\"1973-03-01\",\"1973-04-01\",\"1973-05-01\",\"1973-06-01\",\"1973-07-01\",\"1973-08-01\",\"1973-09-01\",\"1973-10-01\",\"1973-11-01\",\"1973-12-01\",\"1974-01-01\",\"1974-02-01\",\"1974-03-01\",\"1974-04-01\",\"1974-05-01\",\"1974-06-01\",\"1974-07-01\",\"1974-08-01\",\"1974-09-01\",\"1974-10-01\",\"1974-11-01\",\"1974-12-01\",\"1975-01-01\",\"1975-02-01\",\"1975-03-01\",\"1975-04-01\",\"1975-05-01\",\"1975-06-01\",\"1975-07-01\",\"1975-08-01\",\"1975-09-01\",\"1975-10-01\",\"1975-11-01\",\"1975-12-01\",\"1976-01-01\",\"1976-02-01\",\"1976-03-01\",\"1976-04-01\",\"1976-05-01\",\"1976-06-01\",\"1976-07-01\",\"1976-08-01\",\"1976-09-01\",\"1976-10-01\",\"1976-11-01\",\"1976-12-01\",\"1977-01-01\",\"1977-02-01\",\"1977-03-01\",\"1977-04-01\",\"1977-05-01\",\"1977-06-01\",\"1977-07-01\",\"1977-08-01\",\"1977-09-01\",\"1977-10-01\",\"1977-11-01\",\"1977-12-01\",\"1978-01-01\",\"1978-02-01\",\"1978-03-01\",\"1978-04-01\",\"1978-05-01\",\"1978-06-01\",\"1978-07-01\",\"1978-08-01\",\"1978-09-01\",\"1978-10-01\",\"1978-11-01\",\"1978-12-01\",\"1979-01-01\",\"1979-02-01\",\"1979-03-01\",\"1979-04-01\",\"1979-05-01\",\"1979-06-01\",\"1979-07-01\",\"1979-08-01\",\"1979-09-01\",\"1979-10-01\",\"1979-11-01\",\"1979-12-01\",\"1980-01-01\",\"1980-02-01\",\"1980-03-01\",\"1980-04-01\",\"1980-05-01\",\"1980-06-01\",\"1980-07-01\",\"1980-08-01\",\"1980-09-01\",\"1980-10-01\",\"1980-11-01\",\"1980-12-01\",\"1981-01-01\",\"1981-02-01\",\"1981-03-01\",\"1981-04-01\",\"1981-05-01\",\"1981-06-01\",\"1981-07-01\",\"1981-08-01\",\"1981-09-01\",\"1981-10-01\",\"1981-11-01\",\"1981-12-01\",\"1982-01-01\",\"1982-02-01\",\"1982-03-01\",\"1982-04-01\",\"1982-05-01\",\"1982-06-01\",\"1982-07-01\",\"1982-08-01\",\"1982-09-01\",\"1982-10-01\",\"1982-11-01\",\"1982-12-01\",\"1983-01-01\",\"1983-02-01\",\"1983-03-01\",\"1983-04-01\",\"1983-05-01\",\"1983-06-01\",\"1983-07-01\",\"1983-08-01\",\"1983-09-01\",\"1983-10-01\",\"1983-11-01\",\"1983-12-01\",\"1984-01-01\",\"1984-02-01\",\"1984-03-01\",\"1984-04-01\",\"1984-05-01\",\"1984-06-01\",\"1984-07-01\",\"1984-08-01\",\"1984-09-01\",\"1984-10-01\",\"1984-11-01\",\"1984-12-01\",\"1985-01-01\",\"1985-02-01\",\"1985-03-01\",\"1985-04-01\",\"1985-05-01\",\"1985-06-01\",\"1985-07-01\",\"1985-08-01\",\"1985-09-01\",\"1985-10-01\",\"1985-11-01\",\"1985-12-01\",\"1986-01-01\",\"1986-02-01\",\"1986-03-01\",\"1986-04-01\",\"1986-05-01\",\"1986-06-01\",\"1986-07-01\",\"1986-08-01\",\"1986-09-01\",\"1986-10-01\",\"1986-11-01\",\"1986-12-01\",\"1987-01-01\",\"1987-02-01\",\"1987-03-01\",\"1987-04-01\",\"1987-05-01\",\"1987-06-01\",\"1987-07-01\",\"1987-08-01\",\"1987-09-01\",\"1987-10-01\",\"1987-11-01\",\"1987-12-01\",\"1988-01-01\",\"1988-02-01\",\"1988-03-01\",\"1988-04-01\",\"1988-05-01\",\"1988-06-01\",\"1988-07-01\",\"1988-08-01\",\"1988-09-01\",\"1988-10-01\",\"1988-11-01\",\"1988-12-01\",\"1989-01-01\",\"1989-02-01\",\"1989-03-01\",\"1989-04-01\",\"1989-05-01\",\"1989-06-01\",\"1989-07-01\",\"1989-08-01\",\"1989-09-01\",\"1989-10-01\",\"1989-11-01\",\"1989-12-01\",\"1990-01-01\",\"1990-02-01\",\"1990-03-01\",\"1990-04-01\",\"1990-05-01\",\"1990-06-01\",\"1990-07-01\",\"1990-08-01\",\"1990-09-01\",\"1990-10-01\",\"1990-11-01\",\"1990-12-01\",\"1991-01-01\",\"1991-02-01\",\"1991-03-01\",\"1991-04-01\",\"1991-05-01\",\"1991-06-01\",\"1991-07-01\",\"1991-08-01\",\"1991-09-01\",\"1991-10-01\",\"1991-11-01\",\"1991-12-01\",\"1992-01-01\",\"1992-02-01\",\"1992-03-01\",\"1992-04-01\",\"1992-05-01\",\"1992-06-01\",\"1992-07-01\",\"1992-08-01\",\"1992-09-01\",\"1992-10-01\",\"1992-11-01\",\"1992-12-01\",\"1993-01-01\",\"1993-02-01\",\"1993-03-01\",\"1993-04-01\",\"1993-05-01\",\"1993-06-01\",\"1993-07-01\",\"1993-08-01\",\"1993-09-01\",\"1993-10-01\",\"1993-11-01\",\"1993-12-01\",\"1994-01-01\",\"1994-02-01\",\"1994-03-01\",\"1994-04-01\",\"1994-05-01\",\"1994-06-01\",\"1994-07-01\",\"1994-08-01\",\"1994-09-01\",\"1994-10-01\",\"1994-11-01\",\"1994-12-01\",\"1995-01-01\",\"1995-02-01\",\"1995-03-01\",\"1995-04-01\",\"1995-05-01\",\"1995-06-01\",\"1995-07-01\",\"1995-08-01\",\"1995-09-01\",\"1995-10-01\",\"1995-11-01\",\"1995-12-01\",\"1996-01-01\",\"1996-02-01\",\"1996-03-01\",\"1996-04-01\",\"1996-05-01\",\"1996-06-01\",\"1996-07-01\",\"1996-08-01\",\"1996-09-01\",\"1996-10-01\",\"1996-11-01\",\"1996-12-01\",\"1997-01-01\",\"1997-02-01\",\"1997-03-01\",\"1997-04-01\",\"1997-05-01\",\"1997-06-01\",\"1997-07-01\",\"1997-08-01\",\"1997-09-01\",\"1997-10-01\",\"1997-11-01\",\"1997-12-01\",\"1998-01-01\",\"1998-02-01\",\"1998-03-01\",\"1998-04-01\",\"1998-05-01\",\"1998-06-01\",\"1998-07-01\",\"1998-08-01\",\"1998-09-01\",\"1998-10-01\",\"1998-11-01\",\"1998-12-01\",\"1999-01-01\",\"1999-02-01\",\"1999-03-01\",\"1999-04-01\",\"1999-05-01\",\"1999-06-01\",\"1999-07-01\",\"1999-08-01\",\"1999-09-01\",\"1999-10-01\",\"1999-11-01\",\"1999-12-01\",\"2000-01-01\",\"2000-02-01\",\"2000-03-01\",\"2000-04-01\",\"2000-05-01\",\"2000-06-01\",\"2000-07-01\",\"2000-08-01\",\"2000-09-01\",\"2000-10-01\",\"2000-11-01\",\"2000-12-01\",\"2001-01-01\",\"2001-02-01\",\"2001-03-01\",\"2001-04-01\",\"2001-05-01\",\"2001-06-01\",\"2001-07-01\",\"2001-08-01\",\"2001-09-01\",\"2001-10-01\",\"2001-11-01\",\"2001-12-01\",\"2002-01-01\",\"2002-02-01\",\"2002-03-01\",\"2002-04-01\",\"2002-05-01\",\"2002-06-01\",\"2002-07-01\",\"2002-08-01\",\"2002-09-01\",\"2002-10-01\",\"2002-11-01\",\"2002-12-01\",\"2003-01-01\",\"2003-02-01\",\"2003-03-01\",\"2003-04-01\",\"2003-05-01\",\"2003-06-01\",\"2003-07-01\",\"2003-08-01\",\"2003-09-01\",\"2003-10-01\",\"2003-11-01\",\"2003-12-01\",\"2004-01-01\",\"2004-02-01\",\"2004-03-01\",\"2004-04-01\",\"2004-05-01\",\"2004-06-01\",\"2004-07-01\",\"2004-08-01\",\"2004-09-01\",\"2004-10-01\",\"2004-11-01\",\"2004-12-01\",\"2005-01-01\",\"2005-02-01\",\"2005-03-01\",\"2005-04-01\",\"2005-05-01\",\"2005-06-01\",\"2005-07-01\",\"2005-08-01\",\"2005-09-01\",\"2005-10-01\",\"2005-11-01\",\"2005-12-01\",\"2006-01-01\",\"2006-02-01\",\"2006-03-01\",\"2006-04-01\",\"2006-05-01\",\"2006-06-01\",\"2006-07-01\",\"2006-08-01\",\"2006-09-01\",\"2006-10-01\",\"2006-11-01\",\"2006-12-01\",\"2007-01-01\",\"2007-02-01\",\"2007-03-01\",\"2007-04-01\",\"2007-05-01\",\"2007-06-01\",\"2007-07-01\",\"2007-08-01\",\"2007-09-01\",\"2007-10-01\",\"2007-11-01\",\"2007-12-01\",\"2008-01-01\",\"2008-02-01\",\"2008-03-01\",\"2008-04-01\",\"2008-05-01\",\"2008-06-01\",\"2008-07-01\",\"2008-08-01\",\"2008-09-01\",\"2008-10-01\",\"2008-11-01\",\"2008-12-01\",\"2009-01-01\",\"2009-02-01\",\"2009-03-01\",\"2009-04-01\",\"2009-05-01\",\"2009-06-01\",\"2009-07-01\",\"2009-08-01\",\"2009-09-01\",\"2009-10-01\",\"2009-11-01\",\"2009-12-01\",\"2010-01-01\",\"2010-02-01\",\"2010-03-01\",\"2010-04-01\",\"2010-05-01\",\"2010-06-01\",\"2010-07-01\",\"2010-08-01\",\"2010-09-01\",\"2010-10-01\",\"2010-11-01\",\"2010-12-01\",\"2011-01-01\",\"2011-02-01\",\"2011-03-01\",\"2011-04-01\",\"2011-05-01\",\"2011-06-01\",\"2011-07-01\",\"2011-08-01\",\"2011-09-01\",\"2011-10-01\",\"2011-11-01\",\"2011-12-01\",\"2012-01-01\",\"2012-02-01\",\"2012-03-01\",\"2012-04-01\",\"2012-05-01\",\"2012-06-01\",\"2012-07-01\",\"2012-08-01\",\"2012-09-01\",\"2012-10-01\",\"2012-11-01\",\"2012-12-01\",\"2013-01-01\",\"2013-02-01\",\"2013-03-01\",\"2013-04-01\",\"2013-05-01\",\"2013-06-01\",\"2013-07-01\",\"2013-08-01\",\"2013-09-01\",\"2013-10-01\",\"2013-11-01\",\"2013-12-01\",\"2014-01-01\",\"2014-02-01\",\"2014-03-01\",\"2014-04-01\",\"2014-05-01\",\"2014-06-01\",\"2014-07-01\",\"2014-08-01\",\"2014-09-01\",\"2014-10-01\",\"2014-11-01\",\"2014-12-01\",\"2015-01-01\",\"2015-02-01\",\"2015-03-01\",\"2015-04-01\",\"2015-05-01\",\"2015-06-01\",\"2015-07-01\",\"2015-08-01\",\"2015-09-01\",\"2015-10-01\",\"2015-11-01\",\"2015-12-01\",\"2016-01-01\",\"2016-02-01\",\"2016-03-01\",\"2016-04-01\",\"2016-05-01\",\"2016-06-01\",\"2016-07-01\",\"2016-08-01\",\"2016-09-01\",\"2016-10-01\",\"2016-11-01\",\"2016-12-01\",\"2017-01-01\",\"2017-02-01\",\"2017-03-01\",\"2017-04-01\",\"2017-05-01\",\"2017-06-01\",\"2017-07-01\",\"2017-08-01\",\"2017-09-01\",\"2017-10-01\",\"2017-11-01\",\"2017-12-01\",\"2018-01-01\",\"2018-02-01\",\"2018-03-01\",\"2018-04-01\",\"2018-05-01\",\"2018-06-01\",\"2018-07-01\",\"2018-08-01\",\"2018-09-01\",\"2018-10-01\",\"2018-11-01\",\"2018-12-01\",\"2019-01-01\",\"2019-02-01\",\"2019-03-01\",\"2019-04-01\",\"2019-05-01\",\"2019-06-01\",\"2019-07-01\",\"2019-08-01\",\"2019-09-01\",\"2019-10-01\",\"2019-11-01\",\"2019-12-01\",\"2020-01-01\",\"2020-02-01\",\"2020-03-01\",\"2020-04-01\",\"2020-05-01\",\"2020-06-01\",\"2020-07-01\",\"2020-08-01\",\"2020-09-01\",\"2020-10-01\",\"2020-11-01\",\"2020-12-01\",\"2021-01-01\",\"2021-02-01\",\"2021-03-01\",\"2021-04-01\",\"2021-05-01\",\"2021-06-01\",\"2021-07-01\",\"2021-08-01\",\"2021-09-01\",\"2021-10-01\",\"2021-11-01\",\"2021-12-01\",\"2022-01-01\",\"2022-02-01\",\"2022-03-01\",\"2022-04-01\",\"2022-05-01\",\"2022-06-01\",\"2022-07-01\",\"2022-08-01\",\"2022-09-01\",\"2022-10-01\",\"2022-11-01\",\"2022-12-01\"],\"y\":[null,null,null,null,null,21.48,21.62,21.95,21.95,21.95,22.08,22.23,22.4,22.84,22.91,23.06,23.41,23.5,23.5,23.5,23.82,24.01,24.15,24.05,24.01,23.91,23.91,23.91,23.91,23.91,23.7,23.7,23.7,23.67,23.67,23.61,23.51,23.51,23.51,23.51,23.51,23.51,23.61,23.64,23.65,23.77,23.88,24.07,24.2,24.34,24.5,24.6,24.98,25.38,25.83,25.86,25.86,25.86,25.86,25.86,25.86,26.03,26.16,26.32,26.39,26.39,26.39,26.39,26.46,26.47,26.53,26.63,26.63,26.59,26.59,26.59,26.59,26.59,26.59,26.63,26.69,26.7,26.77,26.79,26.85,26.85,26.85,26.85,26.86,26.86,26.86,26.85,26.81,26.72,26.72,26.72,26.72,26.72,26.72,26.77,26.77,26.71,26.71,26.71,26.71,26.71,26.71,26.72,26.72,26.82,26.82,26.83,26.83,26.83,26.86,26.89,26.93,27.03,27.15,27.29,27.31,27.35,27.51,27.51,27.63,27.67,27.8,27.86,27.93,28.0,28.11,28.19,28.28,28.32,28.32,28.41,28.47,28.64,28.7,28.87,28.89,28.89,28.89,28.89,28.91,28.91,28.91,28.95,28.97,28.97,28.97,28.97,28.98,29.04,29.11,29.15,29.18,29.25,29.35,29.35,29.37,29.37,29.41,29.41,29.54,29.55,29.55,29.55,29.61,29.61,29.75,29.78,29.81,29.81,29.81,29.81,29.81,29.84,29.84,29.92,29.94,29.98,29.98,29.98,30.01,30.04,30.11,30.17,30.21,30.21,30.21,30.22,30.28,30.38,30.38,30.38,30.38,30.44,30.48,30.48,30.48,30.51,30.61,30.69,30.72,30.72,30.75,30.78,30.88,30.91,30.91,30.94,30.95,30.98,31.01,31.02,31.05,31.08,31.12,31.21,31.25,31.28,31.28,31.31,31.38,31.48,31.55,31.55,31.55,31.62,31.65,31.75,31.85,31.88,32.08,32.18,32.28,32.35,32.38,32.45,32.65,32.75,32.85,32.88,32.9,32.9,33.0,33.0,33.1,33.1,33.3,33.4,33.5,33.6,33.7,33.9,34.0,34.1,34.2,34.3,34.4,34.5,34.7,34.9,35.0,35.1,35.3,35.4,35.6,35.7,35.8,36.1,36.3,36.4,36.6,36.8,36.9,37.1,37.3,37.5,37.7,37.9,38.1,38.3,38.5,38.6,38.8,38.9,39.0,39.2,39.4,39.6,39.8,39.9,39.9,40.0,40.1,40.3,40.5,40.6,40.7,40.8,40.9,41.0,41.1,41.2,41.4,41.4,41.5,41.6,41.7,41.8,41.9,42.1,42.2,42.4,42.5,42.7,43.0,43.4,43.7,43.9,44.2,44.2,45.0,45.2,45.6,45.9,46.3,46.8,47.3,47.8,48.1,48.6,49.0,49.3,49.9,50.6,51.0,51.5,51.9,52.3,52.6,52.8,53.0,53.1,53.5,54.0,54.2,54.6,54.9,55.3,55.6,55.8,55.9,56.0,56.1,56.4,56.7,57.0,57.3,57.6,57.9,58.1,58.4,58.7,59.3,59.6,60.0,60.2,60.5,60.8,61.1,61.3,61.6,62.0,62.3,62.7,63.0,63.4,63.9,64.5,65.0,65.5,65.9,66.5,67.1,67.5,67.9,68.5,69.2,69.9,70.6,71.4,72.2,73.0,73.7,74.4,75.2,76.0,76.9,78.0,79.0,80.1,80.9,81.7,82.5,82.6,83.2,83.9,84.7,85.6,86.4,87.2,88.0,88.6,89.1,89.7,90.5,91.5,92.2,93.1,93.4,93.8,94.1,94.4,94.7,94.7,95.0,95.9,97.0,97.5,97.7,97.7,97.7,97.7,97.7,97.9,98.0,98.1,98.8,99.2,99.4,99.8,100.1,100.4,100.8,101.1,101.4,102.1,102.6,102.9,103.3,103.5,103.7,104.1,104.4,104.7,105.1,105.3,105.5,105.7,106.3,106.8,107.0,107.2,107.5,107.7,107.9,108.1,108.5,108.7,108.7,108.7,108.7,108.7,108.7,109.0,109.4,109.5,109.6,110.0,110.2,110.4,110.8,111.4,111.8,112.2,112.7,113.0,113.5,113.8,114.3,114.7,115.0,115.4,115.6,116.0,116.2,116.5,117.2,117.5,118.0,118.5,119.0,119.5,119.9,120.3,120.7,121.2,121.6,122.2,123.1,123.7,124.1,124.5,124.5,124.8,125.4,125.9,126.3,127.5,128.0,128.6,128.9,129.1,129.9,130.5,131.6,132.5,133.4,133.7,134.2,134.7,134.8,134.8,135.1,135.6,136.0,136.2,136.6,137.0,137.2,137.8,138.2,138.3,138.6,139.1,139.4,139.7,140.1,140.5,140.8,141.1,141.7,142.1,142.3,142.8,143.1,143.3,143.8,144.2,144.3,144.5,144.8,145.0,145.6,146.0,146.3,146.3,146.7,147.1,147.2,147.5,147.9,148.4,149.0,149.3,149.4,149.8,150.1,150.5,150.9,151.2,151.8,152.1,152.4,152.6,152.9,153.1,153.5,153.7,153.9,154.7,155.0,155.5,156.1,156.4,156.7,157.0,157.2,157.7,158.2,158.7,159.1,159.4,159.7,159.8,159.9,159.9,160.2,160.4,160.8,161.2,161.5,161.7,161.8,162.0,162.0,162.0,162.2,162.6,162.8,163.2,163.4,163.5,163.9,164.1,164.4,164.7,164.7,164.8,165.9,166.0,166.0,166.7,167.1,167.8,168.1,168.4,168.8,169.3,170.0,170.9,170.9,171.2,172.2,172.7,172.7,173.6,173.9,174.2,174.6,175.6,176.0,176.1,176.4,177.3,177.4,177.4,177.4,177.4,177.4,177.4,177.4,177.7,178.0,178.5,179.3,179.5,179.6,180.0,180.5,180.8,181.2,181.5,181.8,182.6,182.9,182.9,182.9,182.9,183.1,183.7,184.5,184.9,184.9,185.0,185.5,186.3,186.7,187.1,187.4,188.2,188.9,189.1,189.2,189.8,190.8,191.6,191.6,191.6,192.4,193.1,193.6,193.6,193.7,194.9,196.1,198.1,198.1,198.1,198.1,199.3,199.4,199.7,200.7,201.3,201.8,201.9,201.9,201.9,201.9,202.0,203.1,203.437,204.226,205.288,205.904,206.755,207.234,207.603,207.667,208.547,209.19,210.834,211.445,212.174,212.687,213.448,213.942,215.208,213.153,211.398,211.398,211.398,211.398,211.398,211.398,211.933,212.495,212.495,212.709,213.022,214.726,214.726,215.445,215.861,216.509,217.234,217.281,217.199,217.199,217.199,217.199,217.199,217.199,217.605,217.923,218.275,219.035,219.59,220.472,221.187,221.898,223.046,224.093,224.806,224.806,225.395,226.106,226.597,226.75,227.169,227.223,227.842,228.329,228.524,228.524,228.524,228.524,228.59,229.918,231.015,231.221,231.221,231.221,231.679,231.797,231.797,231.797,231.893,232.445,232.9,233.456,233.544,233.669,234.1,234.719,235.288,235.547,236.028,236.468,236.918,236.983,236.252,234.747,234.747,234.747,234.747,234.747,234.747,235.342,235.976,236.222,237.001,237.498,237.498,237.498,237.336,237.336,237.336,237.336,237.336,237.336,238.08,238.992,239.557,240.101,240.101,240.545,241.176,241.741,242.026,242.637,243.618,243.892,243.892,244.004,244.004,244.163,244.243,245.183,246.435,246.626,247.284,247.805,248.743,249.439,249.581,250.146,250.779,251.118,251.323,251.749,252.239,252.47,252.47,252.47,252.47,253.135,254.273,255.163,255.325,255.361,255.9,256.179,256.596,257.305,256.094,255.944,255.944,255.944,255.944,255.944,255.944,257.217,258.543,259.58,260.19,260.352,260.721,261.564,262.2,263.346,265.028,266.727,268.599,270.955,272.184,273.092,274.214,null,null,null,null,null,null,null,null,null,null],\"type\":\"scatter\"},{\"fill\":\"tonexty\",\"line\":{\"color\":\"#bf9fa2\",\"width\":1},\"mode\":\"lines\",\"name\":\"6 Month Rolling High\",\"x\":[\"1947-01-01\",\"1947-02-01\",\"1947-03-01\",\"1947-04-01\",\"1947-05-01\",\"1947-06-01\",\"1947-07-01\",\"1947-08-01\",\"1947-09-01\",\"1947-10-01\",\"1947-11-01\",\"1947-12-01\",\"1948-01-01\",\"1948-02-01\",\"1948-03-01\",\"1948-04-01\",\"1948-05-01\",\"1948-06-01\",\"1948-07-01\",\"1948-08-01\",\"1948-09-01\",\"1948-10-01\",\"1948-11-01\",\"1948-12-01\",\"1949-01-01\",\"1949-02-01\",\"1949-03-01\",\"1949-04-01\",\"1949-05-01\",\"1949-06-01\",\"1949-07-01\",\"1949-08-01\",\"1949-09-01\",\"1949-10-01\",\"1949-11-01\",\"1949-12-01\",\"1950-01-01\",\"1950-02-01\",\"1950-03-01\",\"1950-04-01\",\"1950-05-01\",\"1950-06-01\",\"1950-07-01\",\"1950-08-01\",\"1950-09-01\",\"1950-10-01\",\"1950-11-01\",\"1950-12-01\",\"1951-01-01\",\"1951-02-01\",\"1951-03-01\",\"1951-04-01\",\"1951-05-01\",\"1951-06-01\",\"1951-07-01\",\"1951-08-01\",\"1951-09-01\",\"1951-10-01\",\"1951-11-01\",\"1951-12-01\",\"1952-01-01\",\"1952-02-01\",\"1952-03-01\",\"1952-04-01\",\"1952-05-01\",\"1952-06-01\",\"1952-07-01\",\"1952-08-01\",\"1952-09-01\",\"1952-10-01\",\"1952-11-01\",\"1952-12-01\",\"1953-01-01\",\"1953-02-01\",\"1953-03-01\",\"1953-04-01\",\"1953-05-01\",\"1953-06-01\",\"1953-07-01\",\"1953-08-01\",\"1953-09-01\",\"1953-10-01\",\"1953-11-01\",\"1953-12-01\",\"1954-01-01\",\"1954-02-01\",\"1954-03-01\",\"1954-04-01\",\"1954-05-01\",\"1954-06-01\",\"1954-07-01\",\"1954-08-01\",\"1954-09-01\",\"1954-10-01\",\"1954-11-01\",\"1954-12-01\",\"1955-01-01\",\"1955-02-01\",\"1955-03-01\",\"1955-04-01\",\"1955-05-01\",\"1955-06-01\",\"1955-07-01\",\"1955-08-01\",\"1955-09-01\",\"1955-10-01\",\"1955-11-01\",\"1955-12-01\",\"1956-01-01\",\"1956-02-01\",\"1956-03-01\",\"1956-04-01\",\"1956-05-01\",\"1956-06-01\",\"1956-07-01\",\"1956-08-01\",\"1956-09-01\",\"1956-10-01\",\"1956-11-01\",\"1956-12-01\",\"1957-01-01\",\"1957-02-01\",\"1957-03-01\",\"1957-04-01\",\"1957-05-01\",\"1957-06-01\",\"1957-07-01\",\"1957-08-01\",\"1957-09-01\",\"1957-10-01\",\"1957-11-01\",\"1957-12-01\",\"1958-01-01\",\"1958-02-01\",\"1958-03-01\",\"1958-04-01\",\"1958-05-01\",\"1958-06-01\",\"1958-07-01\",\"1958-08-01\",\"1958-09-01\",\"1958-10-01\",\"1958-11-01\",\"1958-12-01\",\"1959-01-01\",\"1959-02-01\",\"1959-03-01\",\"1959-04-01\",\"1959-05-01\",\"1959-06-01\",\"1959-07-01\",\"1959-08-01\",\"1959-09-01\",\"1959-10-01\",\"1959-11-01\",\"1959-12-01\",\"1960-01-01\",\"1960-02-01\",\"1960-03-01\",\"1960-04-01\",\"1960-05-01\",\"1960-06-01\",\"1960-07-01\",\"1960-08-01\",\"1960-09-01\",\"1960-10-01\",\"1960-11-01\",\"1960-12-01\",\"1961-01-01\",\"1961-02-01\",\"1961-03-01\",\"1961-04-01\",\"1961-05-01\",\"1961-06-01\",\"1961-07-01\",\"1961-08-01\",\"1961-09-01\",\"1961-10-01\",\"1961-11-01\",\"1961-12-01\",\"1962-01-01\",\"1962-02-01\",\"1962-03-01\",\"1962-04-01\",\"1962-05-01\",\"1962-06-01\",\"1962-07-01\",\"1962-08-01\",\"1962-09-01\",\"1962-10-01\",\"1962-11-01\",\"1962-12-01\",\"1963-01-01\",\"1963-02-01\",\"1963-03-01\",\"1963-04-01\",\"1963-05-01\",\"1963-06-01\",\"1963-07-01\",\"1963-08-01\",\"1963-09-01\",\"1963-10-01\",\"1963-11-01\",\"1963-12-01\",\"1964-01-01\",\"1964-02-01\",\"1964-03-01\",\"1964-04-01\",\"1964-05-01\",\"1964-06-01\",\"1964-07-01\",\"1964-08-01\",\"1964-09-01\",\"1964-10-01\",\"1964-11-01\",\"1964-12-01\",\"1965-01-01\",\"1965-02-01\",\"1965-03-01\",\"1965-04-01\",\"1965-05-01\",\"1965-06-01\",\"1965-07-01\",\"1965-08-01\",\"1965-09-01\",\"1965-10-01\",\"1965-11-01\",\"1965-12-01\",\"1966-01-01\",\"1966-02-01\",\"1966-03-01\",\"1966-04-01\",\"1966-05-01\",\"1966-06-01\",\"1966-07-01\",\"1966-08-01\",\"1966-09-01\",\"1966-10-01\",\"1966-11-01\",\"1966-12-01\",\"1967-01-01\",\"1967-02-01\",\"1967-03-01\",\"1967-04-01\",\"1967-05-01\",\"1967-06-01\",\"1967-07-01\",\"1967-08-01\",\"1967-09-01\",\"1967-10-01\",\"1967-11-01\",\"1967-12-01\",\"1968-01-01\",\"1968-02-01\",\"1968-03-01\",\"1968-04-01\",\"1968-05-01\",\"1968-06-01\",\"1968-07-01\",\"1968-08-01\",\"1968-09-01\",\"1968-10-01\",\"1968-11-01\",\"1968-12-01\",\"1969-01-01\",\"1969-02-01\",\"1969-03-01\",\"1969-04-01\",\"1969-05-01\",\"1969-06-01\",\"1969-07-01\",\"1969-08-01\",\"1969-09-01\",\"1969-10-01\",\"1969-11-01\",\"1969-12-01\",\"1970-01-01\",\"1970-02-01\",\"1970-03-01\",\"1970-04-01\",\"1970-05-01\",\"1970-06-01\",\"1970-07-01\",\"1970-08-01\",\"1970-09-01\",\"1970-10-01\",\"1970-11-01\",\"1970-12-01\",\"1971-01-01\",\"1971-02-01\",\"1971-03-01\",\"1971-04-01\",\"1971-05-01\",\"1971-06-01\",\"1971-07-01\",\"1971-08-01\",\"1971-09-01\",\"1971-10-01\",\"1971-11-01\",\"1971-12-01\",\"1972-01-01\",\"1972-02-01\",\"1972-03-01\",\"1972-04-01\",\"1972-05-01\",\"1972-06-01\",\"1972-07-01\",\"1972-08-01\",\"1972-09-01\",\"1972-10-01\",\"1972-11-01\",\"1972-12-01\",\"1973-01-01\",\"1973-02-01\",\"1973-03-01\",\"1973-04-01\",\"1973-05-01\",\"1973-06-01\",\"1973-07-01\",\"1973-08-01\",\"1973-09-01\",\"1973-10-01\",\"1973-11-01\",\"1973-12-01\",\"1974-01-01\",\"1974-02-01\",\"1974-03-01\",\"1974-04-01\",\"1974-05-01\",\"1974-06-01\",\"1974-07-01\",\"1974-08-01\",\"1974-09-01\",\"1974-10-01\",\"1974-11-01\",\"1974-12-01\",\"1975-01-01\",\"1975-02-01\",\"1975-03-01\",\"1975-04-01\",\"1975-05-01\",\"1975-06-01\",\"1975-07-01\",\"1975-08-01\",\"1975-09-01\",\"1975-10-01\",\"1975-11-01\",\"1975-12-01\",\"1976-01-01\",\"1976-02-01\",\"1976-03-01\",\"1976-04-01\",\"1976-05-01\",\"1976-06-01\",\"1976-07-01\",\"1976-08-01\",\"1976-09-01\",\"1976-10-01\",\"1976-11-01\",\"1976-12-01\",\"1977-01-01\",\"1977-02-01\",\"1977-03-01\",\"1977-04-01\",\"1977-05-01\",\"1977-06-01\",\"1977-07-01\",\"1977-08-01\",\"1977-09-01\",\"1977-10-01\",\"1977-11-01\",\"1977-12-01\",\"1978-01-01\",\"1978-02-01\",\"1978-03-01\",\"1978-04-01\",\"1978-05-01\",\"1978-06-01\",\"1978-07-01\",\"1978-08-01\",\"1978-09-01\",\"1978-10-01\",\"1978-11-01\",\"1978-12-01\",\"1979-01-01\",\"1979-02-01\",\"1979-03-01\",\"1979-04-01\",\"1979-05-01\",\"1979-06-01\",\"1979-07-01\",\"1979-08-01\",\"1979-09-01\",\"1979-10-01\",\"1979-11-01\",\"1979-12-01\",\"1980-01-01\",\"1980-02-01\",\"1980-03-01\",\"1980-04-01\",\"1980-05-01\",\"1980-06-01\",\"1980-07-01\",\"1980-08-01\",\"1980-09-01\",\"1980-10-01\",\"1980-11-01\",\"1980-12-01\",\"1981-01-01\",\"1981-02-01\",\"1981-03-01\",\"1981-04-01\",\"1981-05-01\",\"1981-06-01\",\"1981-07-01\",\"1981-08-01\",\"1981-09-01\",\"1981-10-01\",\"1981-11-01\",\"1981-12-01\",\"1982-01-01\",\"1982-02-01\",\"1982-03-01\",\"1982-04-01\",\"1982-05-01\",\"1982-06-01\",\"1982-07-01\",\"1982-08-01\",\"1982-09-01\",\"1982-10-01\",\"1982-11-01\",\"1982-12-01\",\"1983-01-01\",\"1983-02-01\",\"1983-03-01\",\"1983-04-01\",\"1983-05-01\",\"1983-06-01\",\"1983-07-01\",\"1983-08-01\",\"1983-09-01\",\"1983-10-01\",\"1983-11-01\",\"1983-12-01\",\"1984-01-01\",\"1984-02-01\",\"1984-03-01\",\"1984-04-01\",\"1984-05-01\",\"1984-06-01\",\"1984-07-01\",\"1984-08-01\",\"1984-09-01\",\"1984-10-01\",\"1984-11-01\",\"1984-12-01\",\"1985-01-01\",\"1985-02-01\",\"1985-03-01\",\"1985-04-01\",\"1985-05-01\",\"1985-06-01\",\"1985-07-01\",\"1985-08-01\",\"1985-09-01\",\"1985-10-01\",\"1985-11-01\",\"1985-12-01\",\"1986-01-01\",\"1986-02-01\",\"1986-03-01\",\"1986-04-01\",\"1986-05-01\",\"1986-06-01\",\"1986-07-01\",\"1986-08-01\",\"1986-09-01\",\"1986-10-01\",\"1986-11-01\",\"1986-12-01\",\"1987-01-01\",\"1987-02-01\",\"1987-03-01\",\"1987-04-01\",\"1987-05-01\",\"1987-06-01\",\"1987-07-01\",\"1987-08-01\",\"1987-09-01\",\"1987-10-01\",\"1987-11-01\",\"1987-12-01\",\"1988-01-01\",\"1988-02-01\",\"1988-03-01\",\"1988-04-01\",\"1988-05-01\",\"1988-06-01\",\"1988-07-01\",\"1988-08-01\",\"1988-09-01\",\"1988-10-01\",\"1988-11-01\",\"1988-12-01\",\"1989-01-01\",\"1989-02-01\",\"1989-03-01\",\"1989-04-01\",\"1989-05-01\",\"1989-06-01\",\"1989-07-01\",\"1989-08-01\",\"1989-09-01\",\"1989-10-01\",\"1989-11-01\",\"1989-12-01\",\"1990-01-01\",\"1990-02-01\",\"1990-03-01\",\"1990-04-01\",\"1990-05-01\",\"1990-06-01\",\"1990-07-01\",\"1990-08-01\",\"1990-09-01\",\"1990-10-01\",\"1990-11-01\",\"1990-12-01\",\"1991-01-01\",\"1991-02-01\",\"1991-03-01\",\"1991-04-01\",\"1991-05-01\",\"1991-06-01\",\"1991-07-01\",\"1991-08-01\",\"1991-09-01\",\"1991-10-01\",\"1991-11-01\",\"1991-12-01\",\"1992-01-01\",\"1992-02-01\",\"1992-03-01\",\"1992-04-01\",\"1992-05-01\",\"1992-06-01\",\"1992-07-01\",\"1992-08-01\",\"1992-09-01\",\"1992-10-01\",\"1992-11-01\",\"1992-12-01\",\"1993-01-01\",\"1993-02-01\",\"1993-03-01\",\"1993-04-01\",\"1993-05-01\",\"1993-06-01\",\"1993-07-01\",\"1993-08-01\",\"1993-09-01\",\"1993-10-01\",\"1993-11-01\",\"1993-12-01\",\"1994-01-01\",\"1994-02-01\",\"1994-03-01\",\"1994-04-01\",\"1994-05-01\",\"1994-06-01\",\"1994-07-01\",\"1994-08-01\",\"1994-09-01\",\"1994-10-01\",\"1994-11-01\",\"1994-12-01\",\"1995-01-01\",\"1995-02-01\",\"1995-03-01\",\"1995-04-01\",\"1995-05-01\",\"1995-06-01\",\"1995-07-01\",\"1995-08-01\",\"1995-09-01\",\"1995-10-01\",\"1995-11-01\",\"1995-12-01\",\"1996-01-01\",\"1996-02-01\",\"1996-03-01\",\"1996-04-01\",\"1996-05-01\",\"1996-06-01\",\"1996-07-01\",\"1996-08-01\",\"1996-09-01\",\"1996-10-01\",\"1996-11-01\",\"1996-12-01\",\"1997-01-01\",\"1997-02-01\",\"1997-03-01\",\"1997-04-01\",\"1997-05-01\",\"1997-06-01\",\"1997-07-01\",\"1997-08-01\",\"1997-09-01\",\"1997-10-01\",\"1997-11-01\",\"1997-12-01\",\"1998-01-01\",\"1998-02-01\",\"1998-03-01\",\"1998-04-01\",\"1998-05-01\",\"1998-06-01\",\"1998-07-01\",\"1998-08-01\",\"1998-09-01\",\"1998-10-01\",\"1998-11-01\",\"1998-12-01\",\"1999-01-01\",\"1999-02-01\",\"1999-03-01\",\"1999-04-01\",\"1999-05-01\",\"1999-06-01\",\"1999-07-01\",\"1999-08-01\",\"1999-09-01\",\"1999-10-01\",\"1999-11-01\",\"1999-12-01\",\"2000-01-01\",\"2000-02-01\",\"2000-03-01\",\"2000-04-01\",\"2000-05-01\",\"2000-06-01\",\"2000-07-01\",\"2000-08-01\",\"2000-09-01\",\"2000-10-01\",\"2000-11-01\",\"2000-12-01\",\"2001-01-01\",\"2001-02-01\",\"2001-03-01\",\"2001-04-01\",\"2001-05-01\",\"2001-06-01\",\"2001-07-01\",\"2001-08-01\",\"2001-09-01\",\"2001-10-01\",\"2001-11-01\",\"2001-12-01\",\"2002-01-01\",\"2002-02-01\",\"2002-03-01\",\"2002-04-01\",\"2002-05-01\",\"2002-06-01\",\"2002-07-01\",\"2002-08-01\",\"2002-09-01\",\"2002-10-01\",\"2002-11-01\",\"2002-12-01\",\"2003-01-01\",\"2003-02-01\",\"2003-03-01\",\"2003-04-01\",\"2003-05-01\",\"2003-06-01\",\"2003-07-01\",\"2003-08-01\",\"2003-09-01\",\"2003-10-01\",\"2003-11-01\",\"2003-12-01\",\"2004-01-01\",\"2004-02-01\",\"2004-03-01\",\"2004-04-01\",\"2004-05-01\",\"2004-06-01\",\"2004-07-01\",\"2004-08-01\",\"2004-09-01\",\"2004-10-01\",\"2004-11-01\",\"2004-12-01\",\"2005-01-01\",\"2005-02-01\",\"2005-03-01\",\"2005-04-01\",\"2005-05-01\",\"2005-06-01\",\"2005-07-01\",\"2005-08-01\",\"2005-09-01\",\"2005-10-01\",\"2005-11-01\",\"2005-12-01\",\"2006-01-01\",\"2006-02-01\",\"2006-03-01\",\"2006-04-01\",\"2006-05-01\",\"2006-06-01\",\"2006-07-01\",\"2006-08-01\",\"2006-09-01\",\"2006-10-01\",\"2006-11-01\",\"2006-12-01\",\"2007-01-01\",\"2007-02-01\",\"2007-03-01\",\"2007-04-01\",\"2007-05-01\",\"2007-06-01\",\"2007-07-01\",\"2007-08-01\",\"2007-09-01\",\"2007-10-01\",\"2007-11-01\",\"2007-12-01\",\"2008-01-01\",\"2008-02-01\",\"2008-03-01\",\"2008-04-01\",\"2008-05-01\",\"2008-06-01\",\"2008-07-01\",\"2008-08-01\",\"2008-09-01\",\"2008-10-01\",\"2008-11-01\",\"2008-12-01\",\"2009-01-01\",\"2009-02-01\",\"2009-03-01\",\"2009-04-01\",\"2009-05-01\",\"2009-06-01\",\"2009-07-01\",\"2009-08-01\",\"2009-09-01\",\"2009-10-01\",\"2009-11-01\",\"2009-12-01\",\"2010-01-01\",\"2010-02-01\",\"2010-03-01\",\"2010-04-01\",\"2010-05-01\",\"2010-06-01\",\"2010-07-01\",\"2010-08-01\",\"2010-09-01\",\"2010-10-01\",\"2010-11-01\",\"2010-12-01\",\"2011-01-01\",\"2011-02-01\",\"2011-03-01\",\"2011-04-01\",\"2011-05-01\",\"2011-06-01\",\"2011-07-01\",\"2011-08-01\",\"2011-09-01\",\"2011-10-01\",\"2011-11-01\",\"2011-12-01\",\"2012-01-01\",\"2012-02-01\",\"2012-03-01\",\"2012-04-01\",\"2012-05-01\",\"2012-06-01\",\"2012-07-01\",\"2012-08-01\",\"2012-09-01\",\"2012-10-01\",\"2012-11-01\",\"2012-12-01\",\"2013-01-01\",\"2013-02-01\",\"2013-03-01\",\"2013-04-01\",\"2013-05-01\",\"2013-06-01\",\"2013-07-01\",\"2013-08-01\",\"2013-09-01\",\"2013-10-01\",\"2013-11-01\",\"2013-12-01\",\"2014-01-01\",\"2014-02-01\",\"2014-03-01\",\"2014-04-01\",\"2014-05-01\",\"2014-06-01\",\"2014-07-01\",\"2014-08-01\",\"2014-09-01\",\"2014-10-01\",\"2014-11-01\",\"2014-12-01\",\"2015-01-01\",\"2015-02-01\",\"2015-03-01\",\"2015-04-01\",\"2015-05-01\",\"2015-06-01\",\"2015-07-01\",\"2015-08-01\",\"2015-09-01\",\"2015-10-01\",\"2015-11-01\",\"2015-12-01\",\"2016-01-01\",\"2016-02-01\",\"2016-03-01\",\"2016-04-01\",\"2016-05-01\",\"2016-06-01\",\"2016-07-01\",\"2016-08-01\",\"2016-09-01\",\"2016-10-01\",\"2016-11-01\",\"2016-12-01\",\"2017-01-01\",\"2017-02-01\",\"2017-03-01\",\"2017-04-01\",\"2017-05-01\",\"2017-06-01\",\"2017-07-01\",\"2017-08-01\",\"2017-09-01\",\"2017-10-01\",\"2017-11-01\",\"2017-12-01\",\"2018-01-01\",\"2018-02-01\",\"2018-03-01\",\"2018-04-01\",\"2018-05-01\",\"2018-06-01\",\"2018-07-01\",\"2018-08-01\",\"2018-09-01\",\"2018-10-01\",\"2018-11-01\",\"2018-12-01\",\"2019-01-01\",\"2019-02-01\",\"2019-03-01\",\"2019-04-01\",\"2019-05-01\",\"2019-06-01\",\"2019-07-01\",\"2019-08-01\",\"2019-09-01\",\"2019-10-01\",\"2019-11-01\",\"2019-12-01\",\"2020-01-01\",\"2020-02-01\",\"2020-03-01\",\"2020-04-01\",\"2020-05-01\",\"2020-06-01\",\"2020-07-01\",\"2020-08-01\",\"2020-09-01\",\"2020-10-01\",\"2020-11-01\",\"2020-12-01\",\"2021-01-01\",\"2021-02-01\",\"2021-03-01\",\"2021-04-01\",\"2021-05-01\",\"2021-06-01\",\"2021-07-01\",\"2021-08-01\",\"2021-09-01\",\"2021-10-01\",\"2021-11-01\",\"2021-12-01\",\"2022-01-01\",\"2022-02-01\",\"2022-03-01\",\"2022-04-01\",\"2022-05-01\",\"2022-06-01\",\"2022-07-01\",\"2022-08-01\",\"2022-09-01\",\"2022-10-01\",\"2022-11-01\",\"2022-12-01\"],\"y\":[null,null,null,null,null,22.08,22.23,22.4,22.84,22.91,23.06,23.41,23.68,23.68,23.68,23.82,24.01,24.15,24.4,24.43,24.43,24.43,24.43,24.43,24.43,24.36,24.31,24.16,24.05,24.01,23.92,23.92,23.92,23.92,23.92,23.75,23.75,23.75,23.7,23.7,23.77,23.88,24.07,24.2,24.34,24.5,24.6,24.98,25.38,25.83,25.88,25.92,25.99,25.99,25.99,25.99,26.03,26.16,26.32,26.47,26.47,26.47,26.47,26.47,26.47,26.53,26.68,26.69,26.69,26.69,26.69,26.71,26.71,26.71,26.71,26.71,26.71,26.77,26.79,26.85,26.89,26.95,26.95,26.95,26.95,26.99,26.99,26.99,26.99,26.99,26.99,26.94,26.94,26.94,26.94,26.86,26.85,26.82,26.82,26.82,26.82,26.82,26.82,26.79,26.85,26.85,26.88,26.88,26.88,26.88,26.89,26.93,27.03,27.15,27.29,27.31,27.35,27.51,27.51,27.63,27.67,27.8,27.86,27.93,28.0,28.11,28.19,28.28,28.32,28.32,28.41,28.47,28.64,28.7,28.87,28.94,28.94,28.94,28.94,28.94,28.94,28.94,28.95,28.97,29.01,29.01,29.01,29.01,29.04,29.11,29.15,29.18,29.25,29.35,29.35,29.41,29.41,29.41,29.41,29.54,29.57,29.61,29.61,29.61,29.61,29.75,29.78,29.81,29.84,29.84,29.84,29.84,29.84,29.84,29.92,29.94,29.98,29.98,29.98,30.01,30.04,30.11,30.17,30.21,30.24,30.24,30.24,30.28,30.42,30.42,30.42,30.42,30.44,30.48,30.51,30.51,30.51,30.61,30.69,30.75,30.75,30.75,30.78,30.88,30.94,30.94,30.94,30.95,30.98,31.01,31.02,31.05,31.08,31.12,31.21,31.25,31.28,31.28,31.31,31.38,31.48,31.61,31.61,31.61,31.62,31.65,31.75,31.85,31.88,32.08,32.18,32.28,32.35,32.38,32.45,32.65,32.75,32.85,32.88,32.92,32.92,33.0,33.0,33.1,33.1,33.3,33.4,33.5,33.6,33.7,33.9,34.0,34.1,34.2,34.3,34.4,34.5,34.7,34.9,35.0,35.1,35.3,35.4,35.6,35.7,35.8,36.1,36.3,36.4,36.6,36.8,36.9,37.1,37.3,37.5,37.7,37.9,38.1,38.3,38.5,38.6,38.8,38.9,39.0,39.2,39.4,39.6,39.8,39.9,39.9,40.0,40.1,40.3,40.5,40.6,40.7,40.8,40.9,41.0,41.1,41.2,41.4,41.4,41.5,41.6,41.7,41.8,41.9,42.1,42.2,42.4,42.5,42.7,43.0,43.4,43.7,43.9,44.2,44.2,45.0,45.2,45.6,45.9,46.3,46.8,47.3,47.8,48.1,48.6,49.0,49.3,49.9,50.6,51.0,51.5,51.9,52.3,52.6,52.8,53.0,53.1,53.5,54.0,54.2,54.6,54.9,55.3,55.6,55.8,55.9,56.0,56.1,56.4,56.7,57.0,57.3,57.6,57.9,58.1,58.4,58.7,59.3,59.6,60.0,60.2,60.5,60.8,61.1,61.3,61.6,62.0,62.3,62.7,63.0,63.4,63.9,64.5,65.0,65.5,65.9,66.5,67.1,67.5,67.9,68.5,69.2,69.9,70.6,71.4,72.2,73.0,73.7,74.4,75.2,76.0,76.9,78.0,79.0,80.1,80.9,81.7,82.5,82.6,83.2,83.9,84.7,85.6,86.4,87.2,88.0,88.6,89.1,89.7,90.5,91.5,92.2,93.1,93.4,93.8,94.1,94.4,94.7,94.7,95.0,95.9,97.0,97.5,97.7,97.7,98.1,98.1,98.1,98.1,98.1,98.1,98.8,99.2,99.4,99.8,100.1,100.4,100.8,101.1,101.4,102.1,102.6,102.9,103.3,103.5,103.7,104.1,104.4,104.7,105.1,105.3,105.5,105.7,106.3,106.8,107.0,107.2,107.5,107.7,107.9,108.1,108.5,109.0,109.5,109.9,109.9,109.9,109.9,109.9,109.9,109.7,109.6,110.0,110.2,110.4,110.8,111.4,111.8,112.2,112.7,113.0,113.5,113.8,114.3,114.7,115.0,115.4,115.6,116.0,116.2,116.5,117.2,117.5,118.0,118.5,119.0,119.5,119.9,120.3,120.7,121.2,121.6,122.2,123.1,123.7,124.1,124.5,124.5,124.8,125.4,125.9,126.3,127.5,128.0,128.6,128.9,129.1,129.9,130.5,131.6,132.5,133.4,133.7,134.2,134.7,134.8,134.8,135.1,135.6,136.0,136.2,136.6,137.0,137.2,137.8,138.2,138.3,138.6,139.1,139.4,139.7,140.1,140.5,140.8,141.1,141.7,142.1,142.3,142.8,143.1,143.3,143.8,144.2,144.3,144.5,144.8,145.0,145.6,146.0,146.3,146.3,146.7,147.1,147.2,147.5,147.9,148.4,149.0,149.3,149.4,149.8,150.1,150.5,150.9,151.2,151.8,152.1,152.4,152.6,152.9,153.1,153.5,153.7,153.9,154.7,155.0,155.5,156.1,156.4,156.7,157.0,157.2,157.7,158.2,158.7,159.1,159.4,159.7,159.8,159.9,159.9,160.2,160.4,160.8,161.2,161.5,161.7,161.8,162.0,162.0,162.0,162.2,162.6,162.8,163.2,163.4,163.5,163.9,164.1,164.4,164.7,164.7,164.8,165.9,166.0,166.0,166.7,167.1,167.8,168.1,168.4,168.8,169.3,170.0,171.0,171.0,171.2,172.2,172.7,172.7,173.6,173.9,174.2,174.6,175.6,176.0,176.1,176.4,177.3,177.7,177.7,177.7,178.1,178.1,178.1,178.1,178.1,178.1,178.5,179.3,179.5,179.6,180.0,180.5,180.8,181.2,181.5,181.8,182.6,183.6,183.9,183.9,183.9,183.9,183.9,184.5,185.1,185.1,185.1,185.5,186.3,186.7,187.1,187.4,188.2,188.9,189.1,189.2,189.8,190.8,191.7,191.7,191.7,192.4,193.1,193.7,193.7,193.7,194.9,196.1,198.8,199.1,199.1,199.1,199.3,199.4,199.7,200.7,201.3,201.8,202.9,203.8,203.8,203.8,203.8,203.8,203.8,204.226,205.288,205.904,206.755,207.234,207.603,207.667,208.547,209.19,210.834,211.445,212.174,212.687,213.448,213.942,215.208,217.463,219.016,219.016,219.016,219.016,219.016,219.016,218.877,218.877,216.995,213.153,213.022,214.79,214.79,215.445,215.861,216.509,217.234,217.347,217.488,217.488,217.488,217.488,217.488,217.488,217.605,217.923,218.275,219.035,219.59,220.472,221.187,221.898,223.046,224.093,224.806,224.806,225.395,226.106,226.597,226.75,227.169,227.223,227.842,228.329,228.807,229.187,229.187,229.187,229.187,229.918,231.015,231.638,231.638,231.638,231.679,232.937,232.937,232.937,232.937,232.937,232.937,233.456,233.544,233.669,234.1,234.719,235.288,235.547,236.028,236.468,236.918,237.231,237.498,237.498,237.498,237.498,237.498,237.498,237.477,237.477,237.43,236.983,237.001,237.657,238.034,238.034,238.034,238.034,238.034,238.034,238.033,238.017,238.08,238.992,239.557,240.222,240.222,240.545,241.176,241.741,242.026,242.637,243.618,244.006,244.006,244.193,244.193,244.193,244.243,245.183,246.435,246.626,247.284,247.805,248.743,249.439,249.581,250.146,250.779,251.118,251.323,251.749,252.239,252.862,252.862,252.862,252.862,253.135,254.273,255.163,255.325,255.361,255.9,256.179,256.596,257.305,257.788,258.263,258.682,259.007,259.007,259.007,259.007,259.007,259.007,259.58,260.19,260.352,260.721,261.564,262.2,263.346,265.028,266.727,268.599,270.955,272.184,273.092,274.214,276.59,278.524,280.126,281.933,284.182,null,null,null,null,null,null,null,null,null,null],\"type\":\"scatter\"}],                        {\"template\":{\"data\":{\"bar\":[{\"error_x\":{\"color\":\"#2a3f5f\"},\"error_y\":{\"color\":\"#2a3f5f\"},\"marker\":{\"line\":{\"color\":\"#E5ECF6\",\"width\":0.5},\"pattern\":{\"fillmode\":\"overlay\",\"size\":10,\"solidity\":0.2}},\"type\":\"bar\"}],\"barpolar\":[{\"marker\":{\"line\":{\"color\":\"#E5ECF6\",\"width\":0.5},\"pattern\":{\"fillmode\":\"overlay\",\"size\":10,\"solidity\":0.2}},\"type\":\"barpolar\"}],\"carpet\":[{\"aaxis\":{\"endlinecolor\":\"#2a3f5f\",\"gridcolor\":\"white\",\"linecolor\":\"white\",\"minorgridcolor\":\"white\",\"startlinecolor\":\"#2a3f5f\"},\"baxis\":{\"endlinecolor\":\"#2a3f5f\",\"gridcolor\":\"white\",\"linecolor\":\"white\",\"minorgridcolor\":\"white\",\"startlinecolor\":\"#2a3f5f\"},\"type\":\"carpet\"}],\"choropleth\":[{\"colorbar\":{\"outlinewidth\":0,\"ticks\":\"\"},\"type\":\"choropleth\"}],\"contour\":[{\"colorbar\":{\"outlinewidth\":0,\"ticks\":\"\"},\"colorscale\":[[0.0,\"#0d0887\"],[0.1111111111111111,\"#46039f\"],[0.2222222222222222,\"#7201a8\"],[0.3333333333333333,\"#9c179e\"],[0.4444444444444444,\"#bd3786\"],[0.5555555555555556,\"#d8576b\"],[0.6666666666666666,\"#ed7953\"],[0.7777777777777778,\"#fb9f3a\"],[0.8888888888888888,\"#fdca26\"],[1.0,\"#f0f921\"]],\"type\":\"contour\"}],\"contourcarpet\":[{\"colorbar\":{\"outlinewidth\":0,\"ticks\":\"\"},\"type\":\"contourcarpet\"}],\"heatmap\":[{\"colorbar\":{\"outlinewidth\":0,\"ticks\":\"\"},\"colorscale\":[[0.0,\"#0d0887\"],[0.1111111111111111,\"#46039f\"],[0.2222222222222222,\"#7201a8\"],[0.3333333333333333,\"#9c179e\"],[0.4444444444444444,\"#bd3786\"],[0.5555555555555556,\"#d8576b\"],[0.6666666666666666,\"#ed7953\"],[0.7777777777777778,\"#fb9f3a\"],[0.8888888888888888,\"#fdca26\"],[1.0,\"#f0f921\"]],\"type\":\"heatmap\"}],\"heatmapgl\":[{\"colorbar\":{\"outlinewidth\":0,\"ticks\":\"\"},\"colorscale\":[[0.0,\"#0d0887\"],[0.1111111111111111,\"#46039f\"],[0.2222222222222222,\"#7201a8\"],[0.3333333333333333,\"#9c179e\"],[0.4444444444444444,\"#bd3786\"],[0.5555555555555556,\"#d8576b\"],[0.6666666666666666,\"#ed7953\"],[0.7777777777777778,\"#fb9f3a\"],[0.8888888888888888,\"#fdca26\"],[1.0,\"#f0f921\"]],\"type\":\"heatmapgl\"}],\"histogram\":[{\"marker\":{\"pattern\":{\"fillmode\":\"overlay\",\"size\":10,\"solidity\":0.2}},\"type\":\"histogram\"}],\"histogram2d\":[{\"colorbar\":{\"outlinewidth\":0,\"ticks\":\"\"},\"colorscale\":[[0.0,\"#0d0887\"],[0.1111111111111111,\"#46039f\"],[0.2222222222222222,\"#7201a8\"],[0.3333333333333333,\"#9c179e\"],[0.4444444444444444,\"#bd3786\"],[0.5555555555555556,\"#d8576b\"],[0.6666666666666666,\"#ed7953\"],[0.7777777777777778,\"#fb9f3a\"],[0.8888888888888888,\"#fdca26\"],[1.0,\"#f0f921\"]],\"type\":\"histogram2d\"}],\"histogram2dcontour\":[{\"colorbar\":{\"outlinewidth\":0,\"ticks\":\"\"},\"colorscale\":[[0.0,\"#0d0887\"],[0.1111111111111111,\"#46039f\"],[0.2222222222222222,\"#7201a8\"],[0.3333333333333333,\"#9c179e\"],[0.4444444444444444,\"#bd3786\"],[0.5555555555555556,\"#d8576b\"],[0.6666666666666666,\"#ed7953\"],[0.7777777777777778,\"#fb9f3a\"],[0.8888888888888888,\"#fdca26\"],[1.0,\"#f0f921\"]],\"type\":\"histogram2dcontour\"}],\"mesh3d\":[{\"colorbar\":{\"outlinewidth\":0,\"ticks\":\"\"},\"type\":\"mesh3d\"}],\"parcoords\":[{\"line\":{\"colorbar\":{\"outlinewidth\":0,\"ticks\":\"\"}},\"type\":\"parcoords\"}],\"pie\":[{\"automargin\":true,\"type\":\"pie\"}],\"scatter\":[{\"marker\":{\"colorbar\":{\"outlinewidth\":0,\"ticks\":\"\"}},\"type\":\"scatter\"}],\"scatter3d\":[{\"line\":{\"colorbar\":{\"outlinewidth\":0,\"ticks\":\"\"}},\"marker\":{\"colorbar\":{\"outlinewidth\":0,\"ticks\":\"\"}},\"type\":\"scatter3d\"}],\"scattercarpet\":[{\"marker\":{\"colorbar\":{\"outlinewidth\":0,\"ticks\":\"\"}},\"type\":\"scattercarpet\"}],\"scattergeo\":[{\"marker\":{\"colorbar\":{\"outlinewidth\":0,\"ticks\":\"\"}},\"type\":\"scattergeo\"}],\"scattergl\":[{\"marker\":{\"colorbar\":{\"outlinewidth\":0,\"ticks\":\"\"}},\"type\":\"scattergl\"}],\"scattermapbox\":[{\"marker\":{\"colorbar\":{\"outlinewidth\":0,\"ticks\":\"\"}},\"type\":\"scattermapbox\"}],\"scatterpolar\":[{\"marker\":{\"colorbar\":{\"outlinewidth\":0,\"ticks\":\"\"}},\"type\":\"scatterpolar\"}],\"scatterpolargl\":[{\"marker\":{\"colorbar\":{\"outlinewidth\":0,\"ticks\":\"\"}},\"type\":\"scatterpolargl\"}],\"scatterternary\":[{\"marker\":{\"colorbar\":{\"outlinewidth\":0,\"ticks\":\"\"}},\"type\":\"scatterternary\"}],\"surface\":[{\"colorbar\":{\"outlinewidth\":0,\"ticks\":\"\"},\"colorscale\":[[0.0,\"#0d0887\"],[0.1111111111111111,\"#46039f\"],[0.2222222222222222,\"#7201a8\"],[0.3333333333333333,\"#9c179e\"],[0.4444444444444444,\"#bd3786\"],[0.5555555555555556,\"#d8576b\"],[0.6666666666666666,\"#ed7953\"],[0.7777777777777778,\"#fb9f3a\"],[0.8888888888888888,\"#fdca26\"],[1.0,\"#f0f921\"]],\"type\":\"surface\"}],\"table\":[{\"cells\":{\"fill\":{\"color\":\"#EBF0F8\"},\"line\":{\"color\":\"white\"}},\"header\":{\"fill\":{\"color\":\"#C8D4E3\"},\"line\":{\"color\":\"white\"}},\"type\":\"table\"}]},\"layout\":{\"annotationdefaults\":{\"arrowcolor\":\"#2a3f5f\",\"arrowhead\":0,\"arrowwidth\":1},\"autotypenumbers\":\"strict\",\"coloraxis\":{\"colorbar\":{\"outlinewidth\":0,\"ticks\":\"\"}},\"colorscale\":{\"diverging\":[[0,\"#8e0152\"],[0.1,\"#c51b7d\"],[0.2,\"#de77ae\"],[0.3,\"#f1b6da\"],[0.4,\"#fde0ef\"],[0.5,\"#f7f7f7\"],[0.6,\"#e6f5d0\"],[0.7,\"#b8e186\"],[0.8,\"#7fbc41\"],[0.9,\"#4d9221\"],[1,\"#276419\"]],\"sequential\":[[0.0,\"#0d0887\"],[0.1111111111111111,\"#46039f\"],[0.2222222222222222,\"#7201a8\"],[0.3333333333333333,\"#9c179e\"],[0.4444444444444444,\"#bd3786\"],[0.5555555555555556,\"#d8576b\"],[0.6666666666666666,\"#ed7953\"],[0.7777777777777778,\"#fb9f3a\"],[0.8888888888888888,\"#fdca26\"],[1.0,\"#f0f921\"]],\"sequentialminus\":[[0.0,\"#0d0887\"],[0.1111111111111111,\"#46039f\"],[0.2222222222222222,\"#7201a8\"],[0.3333333333333333,\"#9c179e\"],[0.4444444444444444,\"#bd3786\"],[0.5555555555555556,\"#d8576b\"],[0.6666666666666666,\"#ed7953\"],[0.7777777777777778,\"#fb9f3a\"],[0.8888888888888888,\"#fdca26\"],[1.0,\"#f0f921\"]]},\"colorway\":[\"#636efa\",\"#EF553B\",\"#00cc96\",\"#ab63fa\",\"#FFA15A\",\"#19d3f3\",\"#FF6692\",\"#B6E880\",\"#FF97FF\",\"#FECB52\"],\"font\":{\"color\":\"#2a3f5f\"},\"geo\":{\"bgcolor\":\"white\",\"lakecolor\":\"white\",\"landcolor\":\"#E5ECF6\",\"showlakes\":true,\"showland\":true,\"subunitcolor\":\"white\"},\"hoverlabel\":{\"align\":\"left\"},\"hovermode\":\"closest\",\"mapbox\":{\"style\":\"light\"},\"paper_bgcolor\":\"white\",\"plot_bgcolor\":\"#E5ECF6\",\"polar\":{\"angularaxis\":{\"gridcolor\":\"white\",\"linecolor\":\"white\",\"ticks\":\"\"},\"bgcolor\":\"#E5ECF6\",\"radialaxis\":{\"gridcolor\":\"white\",\"linecolor\":\"white\",\"ticks\":\"\"}},\"scene\":{\"xaxis\":{\"backgroundcolor\":\"#E5ECF6\",\"gridcolor\":\"white\",\"gridwidth\":2,\"linecolor\":\"white\",\"showbackground\":true,\"ticks\":\"\",\"zerolinecolor\":\"white\"},\"yaxis\":{\"backgroundcolor\":\"#E5ECF6\",\"gridcolor\":\"white\",\"gridwidth\":2,\"linecolor\":\"white\",\"showbackground\":true,\"ticks\":\"\",\"zerolinecolor\":\"white\"},\"zaxis\":{\"backgroundcolor\":\"#E5ECF6\",\"gridcolor\":\"white\",\"gridwidth\":2,\"linecolor\":\"white\",\"showbackground\":true,\"ticks\":\"\",\"zerolinecolor\":\"white\"}},\"shapedefaults\":{\"line\":{\"color\":\"#2a3f5f\"}},\"ternary\":{\"aaxis\":{\"gridcolor\":\"white\",\"linecolor\":\"white\",\"ticks\":\"\"},\"baxis\":{\"gridcolor\":\"white\",\"linecolor\":\"white\",\"ticks\":\"\"},\"bgcolor\":\"#E5ECF6\",\"caxis\":{\"gridcolor\":\"white\",\"linecolor\":\"white\",\"ticks\":\"\"}},\"title\":{\"x\":0.05},\"xaxis\":{\"automargin\":true,\"gridcolor\":\"white\",\"linecolor\":\"white\",\"ticks\":\"\",\"title\":{\"standoff\":15},\"zerolinecolor\":\"white\",\"zerolinewidth\":2},\"yaxis\":{\"automargin\":true,\"gridcolor\":\"white\",\"linecolor\":\"white\",\"ticks\":\"\",\"title\":{\"standoff\":15},\"zerolinecolor\":\"white\",\"zerolinewidth\":2}}},\"xaxis\":{\"tickfont\":{\"family\":\"Arial\",\"size\":14,\"color\":\"black\"},\"tickangle\":-45},\"hovermode\":\"x unified\",\"clickmode\":\"select\",\"height\":500,\"width\":1100,\"legend\":{\"orientation\":\"h\",\"yanchor\":\"bottom\",\"y\":1.05,\"xanchor\":\"left\",\"x\":0.01}},                        {\"displayModeBar\": \"Always\", \"displaylogo\": false, \"modeBarButtons\": \"toggleHover \", \"modeBarButtonsToRemove\": [\"zoom2d\", \"zoomIn2d\", \"zoomOut2d\", \"sendDataToCloud\", \"editInChartStudio\", \"select2d\", \"lasso2d\"], \"responsive\": true}                    ).then(function(){\n                            \nvar gd = document.getElementById('0d8ae5cf-0f0c-439f-8a8f-5553ea40df4c');\nvar x = new MutationObserver(function (mutations, observer) {{\n        var display = window.getComputedStyle(gd).display;\n        if (!display || display === 'none') {{\n            console.log([gd, 'removed!']);\n            Plotly.purge(gd);\n            observer.disconnect();\n        }}\n}});\n\n// Listen for the removal of the full notebook cells\nvar notebookContainer = gd.closest('#notebook-container');\nif (notebookContainer) {{\n    x.observe(notebookContainer, {childList: true});\n}}\n\n// Listen for the clearing of the current output cell\nvar outputEl = gd.closest('.output');\nif (outputEl) {{\n    x.observe(outputEl, {childList: true});\n}}\n\n                        })                };                            </script>        </div>\n</body>\n</html>"
     },
     "metadata": {},
     "output_type": "display_data"
    },
    {
     "data": {
      "text/plain": "<IPython.core.display.Markdown object>",
      "text/markdown": "<h2>Yearly Inflation Data</h2>"
     },
     "metadata": {},
     "output_type": "display_data"
    },
    {
     "data": {
      "text/html": "<html>\n<head><meta charset=\"utf-8\" /></head>\n<body>\n    <div>            <script src=\"https://cdnjs.cloudflare.com/ajax/libs/mathjax/2.7.5/MathJax.js?config=TeX-AMS-MML_SVG\"></script><script type=\"text/javascript\">if (window.MathJax) {MathJax.Hub.Config({SVG: {font: \"STIX-Web\"}});}</script>                <script type=\"text/javascript\">window.PlotlyConfig = {MathJaxConfig: 'local'};</script>\n        <script src=\"https://cdn.plot.ly/plotly-2.9.0.min.js\"></script>                <div id=\"16711130-7f16-4dd3-a8be-d0ec1fbf92f8\" class=\"plotly-graph-div\" style=\"height:500px; width:1100px;\"></div>            <script type=\"text/javascript\">                                    window.PLOTLYENV=window.PLOTLYENV || {};                                    if (document.getElementById(\"16711130-7f16-4dd3-a8be-d0ec1fbf92f8\")) {                    Plotly.newPlot(                        \"16711130-7f16-4dd3-a8be-d0ec1fbf92f8\",                        [{\"line\":{\"color\":\"#005100\",\"width\":1},\"marker\":{\"color\":\"#005100\",\"size\":5},\"mode\":\"markers+lines\",\"name\":\"Yearly Inflation\",\"x\":[1947,1948,1949,1950,1951,1952,1953,1954,1955,1956,1957,1958,1959,1960,1961,1962,1963,1964,1965,1966,1967,1968,1969,1970,1971,1972,1973,1974,1975,1976,1977,1978,1979,1980,1981,1982,1983,1984,1985,1986,1987,1988,1989,1990,1991,1992,1993,1994,1995,1996,1997,1998,1999,2000,2001,2002,2003,2004,2005,2006,2007,2008,2009,2010,2011,2012,2013,2014,2015,2016,2017,2018,2019,2020,2021,2022],\"y\":[null,7.672214344354063,-0.9807998890968416,1.0640159602394057,7.9411255411255235,2.2843942505133623,0.7590966122961155,0.3611232177323853,-0.25746014020719954,1.4741097807494796,3.3926874865916936,2.7300213421864075,0.9319906512392888,1.4922813036020535,1.0703622331136264,1.1760771417423654,1.2560599382988185,1.3220892274210905,1.5786930140149344,2.9893746365703002,2.7845502373925153,4.244694132334597,5.43712574850299,5.883689232167191,4.226560823857539,3.272951832029631,6.258720350807274,11.01106734196209,9.141601892531261,5.774887753522219,6.4695550351288125,7.629914764916128,11.25303359305148,13.501722158438593,10.378312765526987,6.158357771261038,3.159530386740298,4.368200836820078,3.5279025016036107,1.9439281288723682,3.5782116538782924,4.100044007627999,4.791094201366862,5.419216029045912,4.215830091204791,3.0416156670746526,2.9696501752093747,2.5956047759127876,2.8054196885365896,2.9366728644864692,2.3375657440365636,1.5470072159061508,2.1931394100506036,3.3666833416708446,2.8166287567148807,1.595669569310436,2.297998517420307,2.6675724637680998,3.36582998808947,3.2220894503243676,2.8705502956133295,3.8149533987371966,-0.3203575926297869,1.6365695501278616,3.1396522774535076,2.0731909735035248,1.465971550975966,1.6154632879984925,0.12113723253702217,1.2673605433996358,2.1314449500271753,2.438761536819239,1.8110724624790742,1.2485013485418284,4.6852297396797855,4.4625928585597485],\"type\":\"scatter\"},{\"line\":{\"color\":\"#FF3333\",\"width\":1},\"mode\":\"lines\",\"name\":\"3 Year Rolling Avg\",\"x\":[1947,1948,1949,1950,1951,1952,1953,1954,1955,1956,1957,1958,1959,1960,1961,1962,1963,1964,1965,1966,1967,1968,1969,1970,1971,1972,1973,1974,1975,1976,1977,1978,1979,1980,1981,1982,1983,1984,1985,1986,1987,1988,1989,1990,1991,1992,1993,1994,1995,1996,1997,1998,1999,2000,2001,2002,2003,2004,2005,2006,2007,2008,2009,2010,2011,2012,2013,2014,2015,2016,2017,2018,2019,2020,2021,2022],\"y\":[null,null,null,2.585143471832209,2.6747805374226963,3.7631785839594305,3.6615388013116674,1.134871360180621,0.2875865632737671,0.5259242860915552,1.536445709044658,2.532272869842527,2.35156649333913,1.7180977656759167,1.1648780626516562,1.2462402261526817,1.1674997710516035,1.2514087691540914,1.3856140599116145,1.9633856260021083,2.4508726293259167,3.339539668765804,4.155456706076701,5.188503037668259,5.18245860150924,4.461067296018119,4.586077668898148,6.847579841599664,8.803796528433542,8.64251899600519,7.128681560394097,6.624785851189053,8.450834464365473,10.794890172135402,11.711022839005686,10.01279756507554,6.565400307842773,4.5620296649404715,3.6852112417213294,3.280010489098686,3.0166807614514237,3.2073945967928865,4.156449954291051,4.770118079346925,4.808713440539188,4.225553929108451,3.4090319778296063,2.8689568727322716,2.790224879886251,2.7792324429786155,2.693219432353207,2.273748608143061,2.025904123331106,2.368943322542533,2.7921505028121096,2.5929938892320537,2.236765614481875,2.187080183499614,2.7771336564259586,3.0851639673939792,3.152823244675723,3.302531048224965,2.1217153672402467,1.7103884520784238,1.4852880783171944,2.2831376003616315,2.226271600644333,1.7182086041593283,1.0675240238371606,1.0013203546450504,1.1733142419879448,1.9458556767486836,2.1270929831084966,1.8327784492800474,2.5816011835668964,3.465441315593788],\"type\":\"scatter\"},{\"line\":{\"color\":\"#bf9fa2\",\"width\":1},\"mode\":\"lines\",\"name\":\"3 Year Rolling Low\",\"x\":[1947,1948,1949,1950,1951,1952,1953,1954,1955,1956,1957,1958,1959,1960,1961,1962,1963,1964,1965,1966,1967,1968,1969,1970,1971,1972,1973,1974,1975,1976,1977,1978,1979,1980,1981,1982,1983,1984,1985,1986,1987,1988,1989,1990,1991,1992,1993,1994,1995,1996,1997,1998,1999,2000,2001,2002,2003,2004,2005,2006,2007,2008,2009,2010,2011,2012,2013,2014,2015,2016,2017,2018,2019,2020,2021,2022],\"y\":[null,null,null,-0.9807998890968416,-0.9807998890968416,1.0640159602394057,0.7590966122961155,0.3611232177323853,-0.25746014020719954,-0.25746014020719954,-0.25746014020719954,1.4741097807494796,0.9319906512392888,0.9319906512392888,0.9319906512392888,1.0703622331136264,1.0703622331136264,1.1760771417423654,1.2560599382988185,1.3220892274210905,1.5786930140149344,2.7845502373925153,2.7845502373925153,4.244694132334597,4.226560823857539,3.272951832029631,3.272951832029631,3.272951832029631,6.258720350807274,5.774887753522219,5.774887753522219,5.774887753522219,6.4695550351288125,7.629914764916128,10.378312765526987,6.158357771261038,3.159530386740298,3.159530386740298,3.159530386740298,1.9439281288723682,1.9439281288723682,1.9439281288723682,3.5782116538782924,4.100044007627999,4.215830091204791,3.0416156670746526,2.9696501752093747,2.5956047759127876,2.5956047759127876,2.5956047759127876,2.3375657440365636,1.5470072159061508,1.5470072159061508,1.5470072159061508,2.1931394100506036,1.595669569310436,1.595669569310436,1.595669569310436,2.297998517420307,2.6675724637680998,2.8705502956133295,2.8705502956133295,-0.3203575926297869,-0.3203575926297869,-0.3203575926297869,1.6365695501278616,1.465971550975966,1.465971550975966,0.12113723253702217,0.12113723253702217,0.12113723253702217,1.2673605433996358,1.8110724624790742,1.2485013485418284,1.2485013485418284,1.2485013485418284],\"type\":\"scatter\"},{\"fill\":\"tonexty\",\"line\":{\"color\":\"#bf9fa2\",\"width\":1},\"mode\":\"lines\",\"name\":\"3 Year Rolling High\",\"x\":[1947,1948,1949,1950,1951,1952,1953,1954,1955,1956,1957,1958,1959,1960,1961,1962,1963,1964,1965,1966,1967,1968,1969,1970,1971,1972,1973,1974,1975,1976,1977,1978,1979,1980,1981,1982,1983,1984,1985,1986,1987,1988,1989,1990,1991,1992,1993,1994,1995,1996,1997,1998,1999,2000,2001,2002,2003,2004,2005,2006,2007,2008,2009,2010,2011,2012,2013,2014,2015,2016,2017,2018,2019,2020,2021,2022],\"y\":[null,null,null,7.672214344354063,7.9411255411255235,7.9411255411255235,7.9411255411255235,2.2843942505133623,0.7590966122961155,1.4741097807494796,3.3926874865916936,3.3926874865916936,3.3926874865916936,2.7300213421864075,1.4922813036020535,1.4922813036020535,1.2560599382988185,1.3220892274210905,1.5786930140149344,2.9893746365703002,2.9893746365703002,4.244694132334597,5.43712574850299,5.883689232167191,5.883689232167191,5.883689232167191,6.258720350807274,11.01106734196209,11.01106734196209,11.01106734196209,9.141601892531261,7.629914764916128,11.25303359305148,13.501722158438593,13.501722158438593,13.501722158438593,10.378312765526987,6.158357771261038,4.368200836820078,4.368200836820078,3.5782116538782924,4.100044007627999,4.791094201366862,5.419216029045912,5.419216029045912,5.419216029045912,4.215830091204791,3.0416156670746526,2.9696501752093747,2.9366728644864692,2.9366728644864692,2.9366728644864692,2.3375657440365636,3.3666833416708446,3.3666833416708446,3.3666833416708446,2.8166287567148807,2.6675724637680998,3.36582998808947,3.36582998808947,3.36582998808947,3.8149533987371966,3.8149533987371966,3.8149533987371966,3.1396522774535076,3.1396522774535076,3.1396522774535076,2.0731909735035248,1.6154632879984925,1.6154632879984925,2.1314449500271753,2.438761536819239,2.438761536819239,2.438761536819239,4.6852297396797855,4.6852297396797855],\"type\":\"scatter\"}],                        {\"template\":{\"data\":{\"bar\":[{\"error_x\":{\"color\":\"#2a3f5f\"},\"error_y\":{\"color\":\"#2a3f5f\"},\"marker\":{\"line\":{\"color\":\"#E5ECF6\",\"width\":0.5},\"pattern\":{\"fillmode\":\"overlay\",\"size\":10,\"solidity\":0.2}},\"type\":\"bar\"}],\"barpolar\":[{\"marker\":{\"line\":{\"color\":\"#E5ECF6\",\"width\":0.5},\"pattern\":{\"fillmode\":\"overlay\",\"size\":10,\"solidity\":0.2}},\"type\":\"barpolar\"}],\"carpet\":[{\"aaxis\":{\"endlinecolor\":\"#2a3f5f\",\"gridcolor\":\"white\",\"linecolor\":\"white\",\"minorgridcolor\":\"white\",\"startlinecolor\":\"#2a3f5f\"},\"baxis\":{\"endlinecolor\":\"#2a3f5f\",\"gridcolor\":\"white\",\"linecolor\":\"white\",\"minorgridcolor\":\"white\",\"startlinecolor\":\"#2a3f5f\"},\"type\":\"carpet\"}],\"choropleth\":[{\"colorbar\":{\"outlinewidth\":0,\"ticks\":\"\"},\"type\":\"choropleth\"}],\"contour\":[{\"colorbar\":{\"outlinewidth\":0,\"ticks\":\"\"},\"colorscale\":[[0.0,\"#0d0887\"],[0.1111111111111111,\"#46039f\"],[0.2222222222222222,\"#7201a8\"],[0.3333333333333333,\"#9c179e\"],[0.4444444444444444,\"#bd3786\"],[0.5555555555555556,\"#d8576b\"],[0.6666666666666666,\"#ed7953\"],[0.7777777777777778,\"#fb9f3a\"],[0.8888888888888888,\"#fdca26\"],[1.0,\"#f0f921\"]],\"type\":\"contour\"}],\"contourcarpet\":[{\"colorbar\":{\"outlinewidth\":0,\"ticks\":\"\"},\"type\":\"contourcarpet\"}],\"heatmap\":[{\"colorbar\":{\"outlinewidth\":0,\"ticks\":\"\"},\"colorscale\":[[0.0,\"#0d0887\"],[0.1111111111111111,\"#46039f\"],[0.2222222222222222,\"#7201a8\"],[0.3333333333333333,\"#9c179e\"],[0.4444444444444444,\"#bd3786\"],[0.5555555555555556,\"#d8576b\"],[0.6666666666666666,\"#ed7953\"],[0.7777777777777778,\"#fb9f3a\"],[0.8888888888888888,\"#fdca26\"],[1.0,\"#f0f921\"]],\"type\":\"heatmap\"}],\"heatmapgl\":[{\"colorbar\":{\"outlinewidth\":0,\"ticks\":\"\"},\"colorscale\":[[0.0,\"#0d0887\"],[0.1111111111111111,\"#46039f\"],[0.2222222222222222,\"#7201a8\"],[0.3333333333333333,\"#9c179e\"],[0.4444444444444444,\"#bd3786\"],[0.5555555555555556,\"#d8576b\"],[0.6666666666666666,\"#ed7953\"],[0.7777777777777778,\"#fb9f3a\"],[0.8888888888888888,\"#fdca26\"],[1.0,\"#f0f921\"]],\"type\":\"heatmapgl\"}],\"histogram\":[{\"marker\":{\"pattern\":{\"fillmode\":\"overlay\",\"size\":10,\"solidity\":0.2}},\"type\":\"histogram\"}],\"histogram2d\":[{\"colorbar\":{\"outlinewidth\":0,\"ticks\":\"\"},\"colorscale\":[[0.0,\"#0d0887\"],[0.1111111111111111,\"#46039f\"],[0.2222222222222222,\"#7201a8\"],[0.3333333333333333,\"#9c179e\"],[0.4444444444444444,\"#bd3786\"],[0.5555555555555556,\"#d8576b\"],[0.6666666666666666,\"#ed7953\"],[0.7777777777777778,\"#fb9f3a\"],[0.8888888888888888,\"#fdca26\"],[1.0,\"#f0f921\"]],\"type\":\"histogram2d\"}],\"histogram2dcontour\":[{\"colorbar\":{\"outlinewidth\":0,\"ticks\":\"\"},\"colorscale\":[[0.0,\"#0d0887\"],[0.1111111111111111,\"#46039f\"],[0.2222222222222222,\"#7201a8\"],[0.3333333333333333,\"#9c179e\"],[0.4444444444444444,\"#bd3786\"],[0.5555555555555556,\"#d8576b\"],[0.6666666666666666,\"#ed7953\"],[0.7777777777777778,\"#fb9f3a\"],[0.8888888888888888,\"#fdca26\"],[1.0,\"#f0f921\"]],\"type\":\"histogram2dcontour\"}],\"mesh3d\":[{\"colorbar\":{\"outlinewidth\":0,\"ticks\":\"\"},\"type\":\"mesh3d\"}],\"parcoords\":[{\"line\":{\"colorbar\":{\"outlinewidth\":0,\"ticks\":\"\"}},\"type\":\"parcoords\"}],\"pie\":[{\"automargin\":true,\"type\":\"pie\"}],\"scatter\":[{\"marker\":{\"colorbar\":{\"outlinewidth\":0,\"ticks\":\"\"}},\"type\":\"scatter\"}],\"scatter3d\":[{\"line\":{\"colorbar\":{\"outlinewidth\":0,\"ticks\":\"\"}},\"marker\":{\"colorbar\":{\"outlinewidth\":0,\"ticks\":\"\"}},\"type\":\"scatter3d\"}],\"scattercarpet\":[{\"marker\":{\"colorbar\":{\"outlinewidth\":0,\"ticks\":\"\"}},\"type\":\"scattercarpet\"}],\"scattergeo\":[{\"marker\":{\"colorbar\":{\"outlinewidth\":0,\"ticks\":\"\"}},\"type\":\"scattergeo\"}],\"scattergl\":[{\"marker\":{\"colorbar\":{\"outlinewidth\":0,\"ticks\":\"\"}},\"type\":\"scattergl\"}],\"scattermapbox\":[{\"marker\":{\"colorbar\":{\"outlinewidth\":0,\"ticks\":\"\"}},\"type\":\"scattermapbox\"}],\"scatterpolar\":[{\"marker\":{\"colorbar\":{\"outlinewidth\":0,\"ticks\":\"\"}},\"type\":\"scatterpolar\"}],\"scatterpolargl\":[{\"marker\":{\"colorbar\":{\"outlinewidth\":0,\"ticks\":\"\"}},\"type\":\"scatterpolargl\"}],\"scatterternary\":[{\"marker\":{\"colorbar\":{\"outlinewidth\":0,\"ticks\":\"\"}},\"type\":\"scatterternary\"}],\"surface\":[{\"colorbar\":{\"outlinewidth\":0,\"ticks\":\"\"},\"colorscale\":[[0.0,\"#0d0887\"],[0.1111111111111111,\"#46039f\"],[0.2222222222222222,\"#7201a8\"],[0.3333333333333333,\"#9c179e\"],[0.4444444444444444,\"#bd3786\"],[0.5555555555555556,\"#d8576b\"],[0.6666666666666666,\"#ed7953\"],[0.7777777777777778,\"#fb9f3a\"],[0.8888888888888888,\"#fdca26\"],[1.0,\"#f0f921\"]],\"type\":\"surface\"}],\"table\":[{\"cells\":{\"fill\":{\"color\":\"#EBF0F8\"},\"line\":{\"color\":\"white\"}},\"header\":{\"fill\":{\"color\":\"#C8D4E3\"},\"line\":{\"color\":\"white\"}},\"type\":\"table\"}]},\"layout\":{\"annotationdefaults\":{\"arrowcolor\":\"#2a3f5f\",\"arrowhead\":0,\"arrowwidth\":1},\"autotypenumbers\":\"strict\",\"coloraxis\":{\"colorbar\":{\"outlinewidth\":0,\"ticks\":\"\"}},\"colorscale\":{\"diverging\":[[0,\"#8e0152\"],[0.1,\"#c51b7d\"],[0.2,\"#de77ae\"],[0.3,\"#f1b6da\"],[0.4,\"#fde0ef\"],[0.5,\"#f7f7f7\"],[0.6,\"#e6f5d0\"],[0.7,\"#b8e186\"],[0.8,\"#7fbc41\"],[0.9,\"#4d9221\"],[1,\"#276419\"]],\"sequential\":[[0.0,\"#0d0887\"],[0.1111111111111111,\"#46039f\"],[0.2222222222222222,\"#7201a8\"],[0.3333333333333333,\"#9c179e\"],[0.4444444444444444,\"#bd3786\"],[0.5555555555555556,\"#d8576b\"],[0.6666666666666666,\"#ed7953\"],[0.7777777777777778,\"#fb9f3a\"],[0.8888888888888888,\"#fdca26\"],[1.0,\"#f0f921\"]],\"sequentialminus\":[[0.0,\"#0d0887\"],[0.1111111111111111,\"#46039f\"],[0.2222222222222222,\"#7201a8\"],[0.3333333333333333,\"#9c179e\"],[0.4444444444444444,\"#bd3786\"],[0.5555555555555556,\"#d8576b\"],[0.6666666666666666,\"#ed7953\"],[0.7777777777777778,\"#fb9f3a\"],[0.8888888888888888,\"#fdca26\"],[1.0,\"#f0f921\"]]},\"colorway\":[\"#636efa\",\"#EF553B\",\"#00cc96\",\"#ab63fa\",\"#FFA15A\",\"#19d3f3\",\"#FF6692\",\"#B6E880\",\"#FF97FF\",\"#FECB52\"],\"font\":{\"color\":\"#2a3f5f\"},\"geo\":{\"bgcolor\":\"white\",\"lakecolor\":\"white\",\"landcolor\":\"#E5ECF6\",\"showlakes\":true,\"showland\":true,\"subunitcolor\":\"white\"},\"hoverlabel\":{\"align\":\"left\"},\"hovermode\":\"closest\",\"mapbox\":{\"style\":\"light\"},\"paper_bgcolor\":\"white\",\"plot_bgcolor\":\"#E5ECF6\",\"polar\":{\"angularaxis\":{\"gridcolor\":\"white\",\"linecolor\":\"white\",\"ticks\":\"\"},\"bgcolor\":\"#E5ECF6\",\"radialaxis\":{\"gridcolor\":\"white\",\"linecolor\":\"white\",\"ticks\":\"\"}},\"scene\":{\"xaxis\":{\"backgroundcolor\":\"#E5ECF6\",\"gridcolor\":\"white\",\"gridwidth\":2,\"linecolor\":\"white\",\"showbackground\":true,\"ticks\":\"\",\"zerolinecolor\":\"white\"},\"yaxis\":{\"backgroundcolor\":\"#E5ECF6\",\"gridcolor\":\"white\",\"gridwidth\":2,\"linecolor\":\"white\",\"showbackground\":true,\"ticks\":\"\",\"zerolinecolor\":\"white\"},\"zaxis\":{\"backgroundcolor\":\"#E5ECF6\",\"gridcolor\":\"white\",\"gridwidth\":2,\"linecolor\":\"white\",\"showbackground\":true,\"ticks\":\"\",\"zerolinecolor\":\"white\"}},\"shapedefaults\":{\"line\":{\"color\":\"#2a3f5f\"}},\"ternary\":{\"aaxis\":{\"gridcolor\":\"white\",\"linecolor\":\"white\",\"ticks\":\"\"},\"baxis\":{\"gridcolor\":\"white\",\"linecolor\":\"white\",\"ticks\":\"\"},\"bgcolor\":\"#E5ECF6\",\"caxis\":{\"gridcolor\":\"white\",\"linecolor\":\"white\",\"ticks\":\"\"}},\"title\":{\"x\":0.05},\"xaxis\":{\"automargin\":true,\"gridcolor\":\"white\",\"linecolor\":\"white\",\"ticks\":\"\",\"title\":{\"standoff\":15},\"zerolinecolor\":\"white\",\"zerolinewidth\":2},\"yaxis\":{\"automargin\":true,\"gridcolor\":\"white\",\"linecolor\":\"white\",\"ticks\":\"\",\"title\":{\"standoff\":15},\"zerolinecolor\":\"white\",\"zerolinewidth\":2}}},\"xaxis\":{\"tickfont\":{\"family\":\"Arial\",\"size\":14,\"color\":\"black\"},\"tickangle\":-45},\"hovermode\":\"x unified\",\"clickmode\":\"select\",\"height\":500,\"width\":1100,\"legend\":{\"orientation\":\"h\",\"yanchor\":\"bottom\",\"y\":1.05,\"xanchor\":\"left\",\"x\":0.01}},                        {\"displayModeBar\": \"Always\", \"displaylogo\": false, \"modeBarButtons\": \"toggleHover \", \"modeBarButtonsToRemove\": [\"zoom2d\", \"zoomIn2d\", \"zoomOut2d\", \"sendDataToCloud\", \"editInChartStudio\", \"select2d\", \"lasso2d\"], \"responsive\": true}                    ).then(function(){\n                            \nvar gd = document.getElementById('16711130-7f16-4dd3-a8be-d0ec1fbf92f8');\nvar x = new MutationObserver(function (mutations, observer) {{\n        var display = window.getComputedStyle(gd).display;\n        if (!display || display === 'none') {{\n            console.log([gd, 'removed!']);\n            Plotly.purge(gd);\n            observer.disconnect();\n        }}\n}});\n\n// Listen for the removal of the full notebook cells\nvar notebookContainer = gd.closest('#notebook-container');\nif (notebookContainer) {{\n    x.observe(notebookContainer, {childList: true});\n}}\n\n// Listen for the clearing of the current output cell\nvar outputEl = gd.closest('.output');\nif (outputEl) {{\n    x.observe(outputEl, {childList: true});\n}}\n\n                        })                };                            </script>        </div>\n</body>\n</html>"
     },
     "metadata": {},
     "output_type": "display_data"
    },
    {
     "data": {
      "text/plain": "<IPython.core.display.Markdown object>",
      "text/markdown": "<h2>Monthly Inflation Data</h2>"
     },
     "metadata": {},
     "output_type": "display_data"
    },
    {
     "data": {
      "text/html": "<html>\n<head><meta charset=\"utf-8\" /></head>\n<body>\n    <div>            <script src=\"https://cdnjs.cloudflare.com/ajax/libs/mathjax/2.7.5/MathJax.js?config=TeX-AMS-MML_SVG\"></script><script type=\"text/javascript\">if (window.MathJax) {MathJax.Hub.Config({SVG: {font: \"STIX-Web\"}});}</script>                <script type=\"text/javascript\">window.PlotlyConfig = {MathJaxConfig: 'local'};</script>\n        <script src=\"https://cdn.plot.ly/plotly-2.9.0.min.js\"></script>                <div id=\"1f8f444f-eae9-446f-aa8a-4f70c268b510\" class=\"plotly-graph-div\" style=\"height:500px; width:1100px;\"></div>            <script type=\"text/javascript\">                                    window.PLOTLYENV=window.PLOTLYENV || {};                                    if (document.getElementById(\"1f8f444f-eae9-446f-aa8a-4f70c268b510\")) {                    Plotly.newPlot(                        \"1f8f444f-eae9-446f-aa8a-4f70c268b510\",                        [{\"line\":{\"color\":\"#005100\",\"width\":1},\"marker\":{\"color\":\"#005100\",\"size\":5},\"mode\":\"markers+lines\",\"name\":\"Monthly Inflation\",\"x\":[\"1947-01-01\",\"1947-02-01\",\"1947-03-01\",\"1947-04-01\",\"1947-05-01\",\"1947-06-01\",\"1947-07-01\",\"1947-08-01\",\"1947-09-01\",\"1947-10-01\",\"1947-11-01\",\"1947-12-01\",\"1948-01-01\",\"1948-02-01\",\"1948-03-01\",\"1948-04-01\",\"1948-05-01\",\"1948-06-01\",\"1948-07-01\",\"1948-08-01\",\"1948-09-01\",\"1948-10-01\",\"1948-11-01\",\"1948-12-01\",\"1949-01-01\",\"1949-02-01\",\"1949-03-01\",\"1949-04-01\",\"1949-05-01\",\"1949-06-01\",\"1949-07-01\",\"1949-08-01\",\"1949-09-01\",\"1949-10-01\",\"1949-11-01\",\"1949-12-01\",\"1950-01-01\",\"1950-02-01\",\"1950-03-01\",\"1950-04-01\",\"1950-05-01\",\"1950-06-01\",\"1950-07-01\",\"1950-08-01\",\"1950-09-01\",\"1950-10-01\",\"1950-11-01\",\"1950-12-01\",\"1951-01-01\",\"1951-02-01\",\"1951-03-01\",\"1951-04-01\",\"1951-05-01\",\"1951-06-01\",\"1951-07-01\",\"1951-08-01\",\"1951-09-01\",\"1951-10-01\",\"1951-11-01\",\"1951-12-01\",\"1952-01-01\",\"1952-02-01\",\"1952-03-01\",\"1952-04-01\",\"1952-05-01\",\"1952-06-01\",\"1952-07-01\",\"1952-08-01\",\"1952-09-01\",\"1952-10-01\",\"1952-11-01\",\"1952-12-01\",\"1953-01-01\",\"1953-02-01\",\"1953-03-01\",\"1953-04-01\",\"1953-05-01\",\"1953-06-01\",\"1953-07-01\",\"1953-08-01\",\"1953-09-01\",\"1953-10-01\",\"1953-11-01\",\"1953-12-01\",\"1954-01-01\",\"1954-02-01\",\"1954-03-01\",\"1954-04-01\",\"1954-05-01\",\"1954-06-01\",\"1954-07-01\",\"1954-08-01\",\"1954-09-01\",\"1954-10-01\",\"1954-11-01\",\"1954-12-01\",\"1955-01-01\",\"1955-02-01\",\"1955-03-01\",\"1955-04-01\",\"1955-05-01\",\"1955-06-01\",\"1955-07-01\",\"1955-08-01\",\"1955-09-01\",\"1955-10-01\",\"1955-11-01\",\"1955-12-01\",\"1956-01-01\",\"1956-02-01\",\"1956-03-01\",\"1956-04-01\",\"1956-05-01\",\"1956-06-01\",\"1956-07-01\",\"1956-08-01\",\"1956-09-01\",\"1956-10-01\",\"1956-11-01\",\"1956-12-01\",\"1957-01-01\",\"1957-02-01\",\"1957-03-01\",\"1957-04-01\",\"1957-05-01\",\"1957-06-01\",\"1957-07-01\",\"1957-08-01\",\"1957-09-01\",\"1957-10-01\",\"1957-11-01\",\"1957-12-01\",\"1958-01-01\",\"1958-02-01\",\"1958-03-01\",\"1958-04-01\",\"1958-05-01\",\"1958-06-01\",\"1958-07-01\",\"1958-08-01\",\"1958-09-01\",\"1958-10-01\",\"1958-11-01\",\"1958-12-01\",\"1959-01-01\",\"1959-02-01\",\"1959-03-01\",\"1959-04-01\",\"1959-05-01\",\"1959-06-01\",\"1959-07-01\",\"1959-08-01\",\"1959-09-01\",\"1959-10-01\",\"1959-11-01\",\"1959-12-01\",\"1960-01-01\",\"1960-02-01\",\"1960-03-01\",\"1960-04-01\",\"1960-05-01\",\"1960-06-01\",\"1960-07-01\",\"1960-08-01\",\"1960-09-01\",\"1960-10-01\",\"1960-11-01\",\"1960-12-01\",\"1961-01-01\",\"1961-02-01\",\"1961-03-01\",\"1961-04-01\",\"1961-05-01\",\"1961-06-01\",\"1961-07-01\",\"1961-08-01\",\"1961-09-01\",\"1961-10-01\",\"1961-11-01\",\"1961-12-01\",\"1962-01-01\",\"1962-02-01\",\"1962-03-01\",\"1962-04-01\",\"1962-05-01\",\"1962-06-01\",\"1962-07-01\",\"1962-08-01\",\"1962-09-01\",\"1962-10-01\",\"1962-11-01\",\"1962-12-01\",\"1963-01-01\",\"1963-02-01\",\"1963-03-01\",\"1963-04-01\",\"1963-05-01\",\"1963-06-01\",\"1963-07-01\",\"1963-08-01\",\"1963-09-01\",\"1963-10-01\",\"1963-11-01\",\"1963-12-01\",\"1964-01-01\",\"1964-02-01\",\"1964-03-01\",\"1964-04-01\",\"1964-05-01\",\"1964-06-01\",\"1964-07-01\",\"1964-08-01\",\"1964-09-01\",\"1964-10-01\",\"1964-11-01\",\"1964-12-01\",\"1965-01-01\",\"1965-02-01\",\"1965-03-01\",\"1965-04-01\",\"1965-05-01\",\"1965-06-01\",\"1965-07-01\",\"1965-08-01\",\"1965-09-01\",\"1965-10-01\",\"1965-11-01\",\"1965-12-01\",\"1966-01-01\",\"1966-02-01\",\"1966-03-01\",\"1966-04-01\",\"1966-05-01\",\"1966-06-01\",\"1966-07-01\",\"1966-08-01\",\"1966-09-01\",\"1966-10-01\",\"1966-11-01\",\"1966-12-01\",\"1967-01-01\",\"1967-02-01\",\"1967-03-01\",\"1967-04-01\",\"1967-05-01\",\"1967-06-01\",\"1967-07-01\",\"1967-08-01\",\"1967-09-01\",\"1967-10-01\",\"1967-11-01\",\"1967-12-01\",\"1968-01-01\",\"1968-02-01\",\"1968-03-01\",\"1968-04-01\",\"1968-05-01\",\"1968-06-01\",\"1968-07-01\",\"1968-08-01\",\"1968-09-01\",\"1968-10-01\",\"1968-11-01\",\"1968-12-01\",\"1969-01-01\",\"1969-02-01\",\"1969-03-01\",\"1969-04-01\",\"1969-05-01\",\"1969-06-01\",\"1969-07-01\",\"1969-08-01\",\"1969-09-01\",\"1969-10-01\",\"1969-11-01\",\"1969-12-01\",\"1970-01-01\",\"1970-02-01\",\"1970-03-01\",\"1970-04-01\",\"1970-05-01\",\"1970-06-01\",\"1970-07-01\",\"1970-08-01\",\"1970-09-01\",\"1970-10-01\",\"1970-11-01\",\"1970-12-01\",\"1971-01-01\",\"1971-02-01\",\"1971-03-01\",\"1971-04-01\",\"1971-05-01\",\"1971-06-01\",\"1971-07-01\",\"1971-08-01\",\"1971-09-01\",\"1971-10-01\",\"1971-11-01\",\"1971-12-01\",\"1972-01-01\",\"1972-02-01\",\"1972-03-01\",\"1972-04-01\",\"1972-05-01\",\"1972-06-01\",\"1972-07-01\",\"1972-08-01\",\"1972-09-01\",\"1972-10-01\",\"1972-11-01\",\"1972-12-01\",\"1973-01-01\",\"1973-02-01\",\"1973-03-01\",\"1973-04-01\",\"1973-05-01\",\"1973-06-01\",\"1973-07-01\",\"1973-08-01\",\"1973-09-01\",\"1973-10-01\",\"1973-11-01\",\"1973-12-01\",\"1974-01-01\",\"1974-02-01\",\"1974-03-01\",\"1974-04-01\",\"1974-05-01\",\"1974-06-01\",\"1974-07-01\",\"1974-08-01\",\"1974-09-01\",\"1974-10-01\",\"1974-11-01\",\"1974-12-01\",\"1975-01-01\",\"1975-02-01\",\"1975-03-01\",\"1975-04-01\",\"1975-05-01\",\"1975-06-01\",\"1975-07-01\",\"1975-08-01\",\"1975-09-01\",\"1975-10-01\",\"1975-11-01\",\"1975-12-01\",\"1976-01-01\",\"1976-02-01\",\"1976-03-01\",\"1976-04-01\",\"1976-05-01\",\"1976-06-01\",\"1976-07-01\",\"1976-08-01\",\"1976-09-01\",\"1976-10-01\",\"1976-11-01\",\"1976-12-01\",\"1977-01-01\",\"1977-02-01\",\"1977-03-01\",\"1977-04-01\",\"1977-05-01\",\"1977-06-01\",\"1977-07-01\",\"1977-08-01\",\"1977-09-01\",\"1977-10-01\",\"1977-11-01\",\"1977-12-01\",\"1978-01-01\",\"1978-02-01\",\"1978-03-01\",\"1978-04-01\",\"1978-05-01\",\"1978-06-01\",\"1978-07-01\",\"1978-08-01\",\"1978-09-01\",\"1978-10-01\",\"1978-11-01\",\"1978-12-01\",\"1979-01-01\",\"1979-02-01\",\"1979-03-01\",\"1979-04-01\",\"1979-05-01\",\"1979-06-01\",\"1979-07-01\",\"1979-08-01\",\"1979-09-01\",\"1979-10-01\",\"1979-11-01\",\"1979-12-01\",\"1980-01-01\",\"1980-02-01\",\"1980-03-01\",\"1980-04-01\",\"1980-05-01\",\"1980-06-01\",\"1980-07-01\",\"1980-08-01\",\"1980-09-01\",\"1980-10-01\",\"1980-11-01\",\"1980-12-01\",\"1981-01-01\",\"1981-02-01\",\"1981-03-01\",\"1981-04-01\",\"1981-05-01\",\"1981-06-01\",\"1981-07-01\",\"1981-08-01\",\"1981-09-01\",\"1981-10-01\",\"1981-11-01\",\"1981-12-01\",\"1982-01-01\",\"1982-02-01\",\"1982-03-01\",\"1982-04-01\",\"1982-05-01\",\"1982-06-01\",\"1982-07-01\",\"1982-08-01\",\"1982-09-01\",\"1982-10-01\",\"1982-11-01\",\"1982-12-01\",\"1983-01-01\",\"1983-02-01\",\"1983-03-01\",\"1983-04-01\",\"1983-05-01\",\"1983-06-01\",\"1983-07-01\",\"1983-08-01\",\"1983-09-01\",\"1983-10-01\",\"1983-11-01\",\"1983-12-01\",\"1984-01-01\",\"1984-02-01\",\"1984-03-01\",\"1984-04-01\",\"1984-05-01\",\"1984-06-01\",\"1984-07-01\",\"1984-08-01\",\"1984-09-01\",\"1984-10-01\",\"1984-11-01\",\"1984-12-01\",\"1985-01-01\",\"1985-02-01\",\"1985-03-01\",\"1985-04-01\",\"1985-05-01\",\"1985-06-01\",\"1985-07-01\",\"1985-08-01\",\"1985-09-01\",\"1985-10-01\",\"1985-11-01\",\"1985-12-01\",\"1986-01-01\",\"1986-02-01\",\"1986-03-01\",\"1986-04-01\",\"1986-05-01\",\"1986-06-01\",\"1986-07-01\",\"1986-08-01\",\"1986-09-01\",\"1986-10-01\",\"1986-11-01\",\"1986-12-01\",\"1987-01-01\",\"1987-02-01\",\"1987-03-01\",\"1987-04-01\",\"1987-05-01\",\"1987-06-01\",\"1987-07-01\",\"1987-08-01\",\"1987-09-01\",\"1987-10-01\",\"1987-11-01\",\"1987-12-01\",\"1988-01-01\",\"1988-02-01\",\"1988-03-01\",\"1988-04-01\",\"1988-05-01\",\"1988-06-01\",\"1988-07-01\",\"1988-08-01\",\"1988-09-01\",\"1988-10-01\",\"1988-11-01\",\"1988-12-01\",\"1989-01-01\",\"1989-02-01\",\"1989-03-01\",\"1989-04-01\",\"1989-05-01\",\"1989-06-01\",\"1989-07-01\",\"1989-08-01\",\"1989-09-01\",\"1989-10-01\",\"1989-11-01\",\"1989-12-01\",\"1990-01-01\",\"1990-02-01\",\"1990-03-01\",\"1990-04-01\",\"1990-05-01\",\"1990-06-01\",\"1990-07-01\",\"1990-08-01\",\"1990-09-01\",\"1990-10-01\",\"1990-11-01\",\"1990-12-01\",\"1991-01-01\",\"1991-02-01\",\"1991-03-01\",\"1991-04-01\",\"1991-05-01\",\"1991-06-01\",\"1991-07-01\",\"1991-08-01\",\"1991-09-01\",\"1991-10-01\",\"1991-11-01\",\"1991-12-01\",\"1992-01-01\",\"1992-02-01\",\"1992-03-01\",\"1992-04-01\",\"1992-05-01\",\"1992-06-01\",\"1992-07-01\",\"1992-08-01\",\"1992-09-01\",\"1992-10-01\",\"1992-11-01\",\"1992-12-01\",\"1993-01-01\",\"1993-02-01\",\"1993-03-01\",\"1993-04-01\",\"1993-05-01\",\"1993-06-01\",\"1993-07-01\",\"1993-08-01\",\"1993-09-01\",\"1993-10-01\",\"1993-11-01\",\"1993-12-01\",\"1994-01-01\",\"1994-02-01\",\"1994-03-01\",\"1994-04-01\",\"1994-05-01\",\"1994-06-01\",\"1994-07-01\",\"1994-08-01\",\"1994-09-01\",\"1994-10-01\",\"1994-11-01\",\"1994-12-01\",\"1995-01-01\",\"1995-02-01\",\"1995-03-01\",\"1995-04-01\",\"1995-05-01\",\"1995-06-01\",\"1995-07-01\",\"1995-08-01\",\"1995-09-01\",\"1995-10-01\",\"1995-11-01\",\"1995-12-01\",\"1996-01-01\",\"1996-02-01\",\"1996-03-01\",\"1996-04-01\",\"1996-05-01\",\"1996-06-01\",\"1996-07-01\",\"1996-08-01\",\"1996-09-01\",\"1996-10-01\",\"1996-11-01\",\"1996-12-01\",\"1997-01-01\",\"1997-02-01\",\"1997-03-01\",\"1997-04-01\",\"1997-05-01\",\"1997-06-01\",\"1997-07-01\",\"1997-08-01\",\"1997-09-01\",\"1997-10-01\",\"1997-11-01\",\"1997-12-01\",\"1998-01-01\",\"1998-02-01\",\"1998-03-01\",\"1998-04-01\",\"1998-05-01\",\"1998-06-01\",\"1998-07-01\",\"1998-08-01\",\"1998-09-01\",\"1998-10-01\",\"1998-11-01\",\"1998-12-01\",\"1999-01-01\",\"1999-02-01\",\"1999-03-01\",\"1999-04-01\",\"1999-05-01\",\"1999-06-01\",\"1999-07-01\",\"1999-08-01\",\"1999-09-01\",\"1999-10-01\",\"1999-11-01\",\"1999-12-01\",\"2000-01-01\",\"2000-02-01\",\"2000-03-01\",\"2000-04-01\",\"2000-05-01\",\"2000-06-01\",\"2000-07-01\",\"2000-08-01\",\"2000-09-01\",\"2000-10-01\",\"2000-11-01\",\"2000-12-01\",\"2001-01-01\",\"2001-02-01\",\"2001-03-01\",\"2001-04-01\",\"2001-05-01\",\"2001-06-01\",\"2001-07-01\",\"2001-08-01\",\"2001-09-01\",\"2001-10-01\",\"2001-11-01\",\"2001-12-01\",\"2002-01-01\",\"2002-02-01\",\"2002-03-01\",\"2002-04-01\",\"2002-05-01\",\"2002-06-01\",\"2002-07-01\",\"2002-08-01\",\"2002-09-01\",\"2002-10-01\",\"2002-11-01\",\"2002-12-01\",\"2003-01-01\",\"2003-02-01\",\"2003-03-01\",\"2003-04-01\",\"2003-05-01\",\"2003-06-01\",\"2003-07-01\",\"2003-08-01\",\"2003-09-01\",\"2003-10-01\",\"2003-11-01\",\"2003-12-01\",\"2004-01-01\",\"2004-02-01\",\"2004-03-01\",\"2004-04-01\",\"2004-05-01\",\"2004-06-01\",\"2004-07-01\",\"2004-08-01\",\"2004-09-01\",\"2004-10-01\",\"2004-11-01\",\"2004-12-01\",\"2005-01-01\",\"2005-02-01\",\"2005-03-01\",\"2005-04-01\",\"2005-05-01\",\"2005-06-01\",\"2005-07-01\",\"2005-08-01\",\"2005-09-01\",\"2005-10-01\",\"2005-11-01\",\"2005-12-01\",\"2006-01-01\",\"2006-02-01\",\"2006-03-01\",\"2006-04-01\",\"2006-05-01\",\"2006-06-01\",\"2006-07-01\",\"2006-08-01\",\"2006-09-01\",\"2006-10-01\",\"2006-11-01\",\"2006-12-01\",\"2007-01-01\",\"2007-02-01\",\"2007-03-01\",\"2007-04-01\",\"2007-05-01\",\"2007-06-01\",\"2007-07-01\",\"2007-08-01\",\"2007-09-01\",\"2007-10-01\",\"2007-11-01\",\"2007-12-01\",\"2008-01-01\",\"2008-02-01\",\"2008-03-01\",\"2008-04-01\",\"2008-05-01\",\"2008-06-01\",\"2008-07-01\",\"2008-08-01\",\"2008-09-01\",\"2008-10-01\",\"2008-11-01\",\"2008-12-01\",\"2009-01-01\",\"2009-02-01\",\"2009-03-01\",\"2009-04-01\",\"2009-05-01\",\"2009-06-01\",\"2009-07-01\",\"2009-08-01\",\"2009-09-01\",\"2009-10-01\",\"2009-11-01\",\"2009-12-01\",\"2010-01-01\",\"2010-02-01\",\"2010-03-01\",\"2010-04-01\",\"2010-05-01\",\"2010-06-01\",\"2010-07-01\",\"2010-08-01\",\"2010-09-01\",\"2010-10-01\",\"2010-11-01\",\"2010-12-01\",\"2011-01-01\",\"2011-02-01\",\"2011-03-01\",\"2011-04-01\",\"2011-05-01\",\"2011-06-01\",\"2011-07-01\",\"2011-08-01\",\"2011-09-01\",\"2011-10-01\",\"2011-11-01\",\"2011-12-01\",\"2012-01-01\",\"2012-02-01\",\"2012-03-01\",\"2012-04-01\",\"2012-05-01\",\"2012-06-01\",\"2012-07-01\",\"2012-08-01\",\"2012-09-01\",\"2012-10-01\",\"2012-11-01\",\"2012-12-01\",\"2013-01-01\",\"2013-02-01\",\"2013-03-01\",\"2013-04-01\",\"2013-05-01\",\"2013-06-01\",\"2013-07-01\",\"2013-08-01\",\"2013-09-01\",\"2013-10-01\",\"2013-11-01\",\"2013-12-01\",\"2014-01-01\",\"2014-02-01\",\"2014-03-01\",\"2014-04-01\",\"2014-05-01\",\"2014-06-01\",\"2014-07-01\",\"2014-08-01\",\"2014-09-01\",\"2014-10-01\",\"2014-11-01\",\"2014-12-01\",\"2015-01-01\",\"2015-02-01\",\"2015-03-01\",\"2015-04-01\",\"2015-05-01\",\"2015-06-01\",\"2015-07-01\",\"2015-08-01\",\"2015-09-01\",\"2015-10-01\",\"2015-11-01\",\"2015-12-01\",\"2016-01-01\",\"2016-02-01\",\"2016-03-01\",\"2016-04-01\",\"2016-05-01\",\"2016-06-01\",\"2016-07-01\",\"2016-08-01\",\"2016-09-01\",\"2016-10-01\",\"2016-11-01\",\"2016-12-01\",\"2017-01-01\",\"2017-02-01\",\"2017-03-01\",\"2017-04-01\",\"2017-05-01\",\"2017-06-01\",\"2017-07-01\",\"2017-08-01\",\"2017-09-01\",\"2017-10-01\",\"2017-11-01\",\"2017-12-01\",\"2018-01-01\",\"2018-02-01\",\"2018-03-01\",\"2018-04-01\",\"2018-05-01\",\"2018-06-01\",\"2018-07-01\",\"2018-08-01\",\"2018-09-01\",\"2018-10-01\",\"2018-11-01\",\"2018-12-01\",\"2019-01-01\",\"2019-02-01\",\"2019-03-01\",\"2019-04-01\",\"2019-05-01\",\"2019-06-01\",\"2019-07-01\",\"2019-08-01\",\"2019-09-01\",\"2019-10-01\",\"2019-11-01\",\"2019-12-01\",\"2020-01-01\",\"2020-02-01\",\"2020-03-01\",\"2020-04-01\",\"2020-05-01\",\"2020-06-01\",\"2020-07-01\",\"2020-08-01\",\"2020-09-01\",\"2020-10-01\",\"2020-11-01\",\"2020-12-01\",\"2021-01-01\",\"2021-02-01\",\"2021-03-01\",\"2021-04-01\",\"2021-05-01\",\"2021-06-01\",\"2021-07-01\",\"2021-08-01\",\"2021-09-01\",\"2021-10-01\",\"2021-11-01\",\"2021-12-01\",\"2022-01-01\",\"2022-02-01\",\"2022-03-01\",\"2022-04-01\",\"2022-05-01\",\"2022-06-01\",\"2022-07-01\",\"2022-08-01\",\"2022-09-01\",\"2022-10-01\",\"2022-11-01\",\"2022-12-01\"],\"y\":[null,0.6517690875232801,1.7576318223866743,0.0,-0.2272727272727305,0.5922551252847335,0.6793478260869662,0.7647323436797038,1.9642857142857202,0.30647985989492244,0.6547359231776455,1.5177797051170923,1.153353267834257,-0.04222972972972133,-0.7182087029995847,1.3617021276595758,0.7976490344248583,0.5830903790087338,1.0351966873706004,0.12295081967213582,-0.28653295128939943,-0.2052545155993461,-0.6170300287947289,-0.4552980132450308,-0.16632016632016278,-0.41649312786339615,0.0,0.04182350480970959,-0.04180602006689616,0.04182350480970959,-0.9197324414715818,0.0,0.21097046413502413,-0.3368421052631507,0.12674271229403286,-0.3797468354430374,-0.42354934349850853,0.4253509145044571,0.12706480304956008,0.04230118443315571,0.5073995771670232,0.4627681952040363,0.7956448911222834,0.5400914000830868,0.5785123966942173,0.6573541495480696,0.40816326530612823,1.5447154471544675,1.6012810248198501,1.7730496453900684,0.19357336430507438,0.15455950540959315,0.2700617283950491,-0.2308580223162706,-0.07713073659853287,-0.1929756850636847,0.6573859242072765,0.49942374183633886,0.6116207951070342,0.5699088145896603,-0.07555723460521184,-0.15122873345935406,-0.0757288905717515,0.2652519893899215,0.03779289493574456,0.22667170381564894,0.5653976630229874,0.0374812593703207,-0.22480329711503286,0.225309800976351,0.0,0.07493443237167317,-0.2620741295394994,-0.18768768768769034,0.1504324934185752,0.225309800976351,0.03746721618582994,0.26217228464419584,0.0747104968248023,0.22396416573349115,0.1489757914338888,0.2231312755671206,-0.37105751391464886,0.0744878957169444,0.2605135839225913,0.18559762435039776,-0.22230455724341877,-0.259933160044561,0.26061057334326243,0.03713330857780009,-0.29695619896066017,-0.03723008190617279,-0.14897579143390205,-0.335695635956732,0.22455089820360136,-0.03734129947722764,0.0,0.18677624206201235,-0.11185682326622348,0.0,-0.0746547219111593,-0.22413149047440686,0.18719580681393003,-0.14947683109119095,0.486526946107794,-0.1117318435754232,0.2237136465324337,-0.03720238095237355,-0.14886490509863304,0.11181513231457749,0.1116902457185448,0.14875418371141372,0.3713330857779481,0.4439511653717997,0.5156537753222857,0.07328691828508455,0.14646649578909815,0.585009140767825,0.0,0.4362050163576788,0.14477017734347702,0.46982291290205636,0.21582733812949179,0.2512562814070362,0.25062656641604114,0.3928571428571408,0.284596229099971,0.3192621496984741,0.14144271570013842,0.0,0.317796610169491,0.2111932418162574,0.597119775201973,0.20949720670390615,0.5923344947735251,0.24246622791825523,0.0,-0.10366275051831768,-0.06918021445866335,0.17307026652821292,-0.10366275051831768,0.0,0.1383604289173267,0.06908462867011943,0.13807386952020262,-0.03447087211306985,-0.10344827586207289,0.03451846738005372,0.20703933747411568,0.24104683195592386,0.13740982480247046,0.10291595197255965,0.23989033584647115,0.3418803418803467,0.0,0.2044293015332154,-0.13600816048962647,0.136193394620358,0.0,0.4420265215912921,0.10155721056195376,0.13527223537368666,-0.20263424518743237,0.20304568527918349,0.0,0.4728132387706875,0.1008403361344576,0.10073875083948147,0.10063737001006756,0.0,0.0,-0.10053619302949443,0.10063737001006756,0.0,0.26809651474531454,0.06684491978609483,0.13360053440213476,0.0,0.0,0.10006671114076429,0.09996667777406726,0.23302263648468804,0.19926934573232238,0.13258203513423647,0.09930486593842298,-0.09920634920634122,0.033101621979470405,0.19854401058902144,0.462351387054163,-0.13149243918475575,0.0,0.0,0.1974983541803893,0.13140604467805236,0.09842519685039743,-0.09832841691249142,0.09842519685039743,0.3277613897082854,0.26135249918327946,0.19550342130986875,-0.09756097560975979,0.0976562500000037,0.09756097560975979,0.32488628979856354,0.1943005181347224,-0.09696186166774769,0.09705596894209362,0.032320620555908244,0.09693053311793581,0.09683666881859632,0.03224766204449536,0.09671179883946208,0.09661835748791492,0.1287001287001374,0.2892030848329044,0.12816404998397676,0.09600000000000364,0.0,0.09590792838873907,0.22357074417119221,0.3186743148502276,0.4129606099110515,-0.09490667510281917,-0.09499683343887773,0.2218700475435825,0.09487666034154833,0.3159557661927375,0.3149606299212643,0.09419152276294374,0.6273525721455435,0.31172069825436854,0.3107520198881337,0.2168525402726155,0.09273570324575311,0.2161828289067334,0.6163328197226371,0.3062787136294071,0.305343511450386,0.09132420091324546,0.12165450121654241,-0.06075334143378835,0.30395136778115933,0.0,0.3030303030303073,0.0,0.6042296072507424,0.3003003003003046,0.29940119760479467,0.2985074626865714,0.29761904761905184,0.5934718100890081,0.29498525073746734,0.2941176470588277,0.29325513196481356,0.29239766081869684,0.29154518950437736,0.29069767441860883,0.5797101449275445,0.5763688760806793,0.28653295128940237,0.2857142857142898,0.5698005698005576,0.28328611898017403,0.5649717514124375,0.28089887640449834,0.2801120448179112,0.8379888268156545,0.5540166204986031,0.2754820936639158,0.5494505494505573,0.5464480874316823,0.2717391304347865,0.5420054200542083,0.539083557951471,0.5361930294906243,0.533333333333341,0.5305039787798295,0.5277044854881342,0.5249343832020885,0.5221932114882581,0.25974025974026343,0.5181347150258957,0.2577319587628903,0.25706940874036355,0.5128205128205201,0.5102040816326422,0.5076142131979768,0.5050505050504942,0.25125628140703876,0.0,0.2506265664160437,0.25000000000000355,0.49875311720697185,0.49627791563276147,0.2469135802469171,0.2463054187192153,0.24570024570023172,0.2450980392156898,0.24449877750611593,0.2439024390243937,0.24330900243309345,0.4854368932038731,0.0,0.24154589371981022,0.24096385542169016,0.24038461538461878,0.23980815347720458,0.23923444976076896,0.4773269689737538,0.23752969121140477,0.47393364928908943,0.23584905660377695,0.47058823529412436,0.7025761124121713,0.9302325581395315,0.6912442396313463,0.4576659038901504,0.6833712984054767,0.0,1.8099547511312153,0.44444444444445075,0.8849557522123862,0.657894736842099,0.8714596949891037,1.0799136069114472,1.0683760683760684,1.0570824524312896,0.6276150627615152,1.0395010395010393,0.8230452674897091,0.6122448979591778,1.2170385395537555,1.4028056112224507,0.7905138339920921,0.9803921568627451,0.7766990291262109,0.7707129094412304,0.5736137667304098,0.38022813688212115,0.37878787878788417,0.18867924528302155,0.7532956685499032,0.9345794392523363,0.3703703703703756,0.7380073800737981,0.5494505494505442,0.7285974499089227,0.5424954792043477,0.35971223021581966,0.17921146953405273,0.1788908765652977,0.1785714285714311,0.534759358288765,0.5319148936170288,0.5291005291005241,0.5263157894736793,0.5235602094240912,0.5208333333333284,0.3454231433506094,0.5163511187607525,0.5136986301369937,1.022146507666089,0.5059021922428403,0.671140939597313,0.3333333333333381,0.49833887043188896,0.49586776859503656,0.4934210526315859,0.3273322422258523,0.4893964110929923,0.649350649350647,0.4838709677419309,0.6420545746388535,0.47846889952152655,0.6349206349206327,0.7886435331230284,0.938967136150237,0.7751937984496124,0.7692307692307693,0.610687022900772,0.9104704097116757,0.9022556390977358,0.5961251862891292,0.592592592592601,0.8836524300441742,1.0218978102189822,1.0115606936416226,1.0014306151645045,1.1331444759206961,1.1204481792717045,1.108033240997226,0.9589041095890449,0.9497964721845357,1.0752688172042972,1.0638297872340388,1.184210526315797,1.4304291287386142,1.282051282051282,1.392405063291132,0.9987515605493276,0.9888751545117394,0.9791921664626647,0.12121212121211432,0.726392251815991,0.8413461538461573,0.9535160905840251,1.0625737898465069,0.9345794392523498,0.9259259259259226,0.9174311926605472,0.6818181818181753,0.5643340857787811,0.673400673400683,0.8918617614269757,1.1049723756906076,0.7650273224043747,0.9761388286333963,0.3222341568206352,0.4282655246252585,0.3198294243070332,0.3188097768331683,0.3177966101694885,0.0,0.3167898627243898,0.9473684210526375,1.1470281543274186,0.5154639175257731,0.20512820512820804,0.0,0.4094165813715368,-0.10193679918449983,-0.3061224489795889,0.20470829068577567,0.10214504596526487,0.10204081632652481,0.7135575942915422,0.4048582995951474,0.2016129032258093,0.40241448692152054,0.3006012024048068,0.2997002997003111,0.3984063745019835,0.29761904761904484,0.29673590504452163,0.6903353057199099,0.4897159647404506,0.29239766081872454,0.38872691933915593,0.19361084220716637,0.19323671497584816,0.38572806171648166,0.28818443804035676,0.2873563218390777,0.3820439350525229,0.19029495718363734,0.1899335232668593,0.18957345971564252,0.5676442762535424,0.4703668861712136,0.18726591760299893,0.18691588785046995,0.279850746268654,0.1860465116279096,0.18570102135562008,0.18535681186282543,0.37002775208141137,0.4608294930875576,0.45871559633027525,0.36529680365297323,-0.18198362147406993,-0.5469462169553405,-0.36663611365718746,0.2759889604415797,0.3669724770642254,0.09140767824496737,0.09132420091323681,0.36496350364964025,0.1818181818181844,0.18148820326679024,0.3623188405797024,0.5415162454873723,0.3590664272890408,0.3577817531305954,0.4456327985739751,0.2661934338952947,0.4424778761061947,0.2643171806167376,0.4393673110720563,0.34995625546807146,0.26155187445509775,0.34782608695652667,0.17331022530328305,0.3460207612456797,0.17241379310345073,0.25817555938037623,0.6008583690987149,0.2559726962457314,0.425531914893617,0.423728813559322,0.42194092827004215,0.42016806722689076,0.3347280334728081,0.3336113427856476,0.3325020781379931,0.4142502071251036,0.33003300330032304,0.4934210526315859,0.7364975450081763,0.48740861088546594,0.3233629749393625,0.3223207091055646,0.0,0.24096385542168447,0.48076923076923767,0.3987240829346092,0.31771247021444915,0.950118764845608,0.39215686274509803,0.46874999999999556,0.2332814930015641,0.15515903801395547,0.6196746707978399,0.46189376443417574,0.8429118773946316,0.6838905775076032,0.6792452830188722,0.22488755622187626,0.3739715781600599,0.3725782414307005,0.07423904974018021,0.0,0.22255192878337013,0.3700962250185048,0.29498525073746734,0.14705882352940342,0.2936857562408265,0.2928257686676469,0.14598540145984573,0.43731778425657636,0.2902757619738587,0.07235890014473427,0.21691973969630002,0.36075036075036077,0.2156721782890089,0.21520803443327327,0.2863278453829676,0.2855103497501825,0.21352313167260595,0.2130681818181697,0.42523033309709024,0.282286520818635,0.14074595355384734,0.35137034434293746,0.2100840336134334,0.13976240391335923,0.3489183531053733,0.27816411682891323,0.06934812760057056,0.1386001386001307,0.20761245674741272,0.13812154696131812,0.41379310344827197,0.27472527472527863,0.2054794520548023,0.0,0.2734107997265737,0.2726653033401539,0.06798096532970382,0.20380434782609472,0.27118644067796993,0.3380662609871535,0.40431266846360797,0.20134228187920225,0.06697923643670081,0.2677376171352113,0.20026702269691785,0.2664890073284515,0.26578073089701376,0.1988071570576428,0.3968253968254119,0.19762845849801247,0.1972386587771278,0.13123359580051747,0.19659239842726825,0.1308044473512025,0.26126714565643744,0.1302931596091131,0.13012361743657586,0.5198180636777017,0.1939237233354954,0.3225806451612903,0.3858520900321507,0.19218449711723984,0.1918158567774827,0.19144862795150694,0.1273885350318399,0.31806615776081426,0.31705770450221943,0.31605562579013907,0.2520478890989324,0.18856065367693992,0.188205771643653,0.06261740763933797,0.06257822277846953,0.0,0.18761726078798183,0.12484394506867481,0.24937655860349484,0.2487562189054585,0.18610421836228994,0.12383900928791866,0.061842918985790196,0.12360939431396083,0.0,0.0,0.12345679012344976,0.2466091245376114,0.12300123001231063,0.24570024570023172,0.12254901960785358,0.06119951040391328,0.24464831804281695,0.12202562538132314,0.1828153564899521,0.18248175182480714,0.0,0.06071645415909092,0.6674757281553363,0.06027727546714546,0.0,0.42168674698794495,0.2399520095980838,0.41891083183723343,0.17878426698449518,0.17846519928614596,0.23752969121140477,0.2962085308056872,0.41346721795628383,0.5882352941176471,-0.05847953216373936,0.17554125219425568,0.5841121495327104,0.29036004645760743,0.0,0.521134916039378,0.17281105990784065,0.17251293847037547,0.22962112514351646,0.5727376861397481,0.22779043280182557,0.05681818181817858,0.1703577512776896,0.5102040816326562,0.22560631697686248,-0.16882386043893244,0.0,0.39458850056369144,-0.2807411566535654,-0.05630630630630311,-0.05633802816901088,0.16910935738443234,0.16882386043894845,0.2808988764044944,0.4481792717086899,0.11154489682096409,0.05571030640668207,0.22271714922049313,0.2777777777777778,0.16620498614959078,0.22123893805308475,0.16556291390729105,0.16528925619835336,0.4400440044004307,0.547645125958379,0.16339869281046374,-0.38064165307233117,-0.16375545851527457,0.10934937124110913,0.32768978700163537,0.4354926510615195,0.32520325203251726,-0.10804970286331099,0.05408328826392337,0.2702702702702703,0.4312668463611921,0.21470746108426045,0.21424745581146531,0.16034206306788423,0.42689434364993756,0.3719447396386913,0.1058761249338214,0.05288207297725771,0.3171247357293989,0.5268703898840885,0.4716981132075352,0.0,-0.0521648408972323,0.41753653444677,0.3638253638253579,0.31071983428275207,-0.051626226122867484,0.05165289256198054,0.6195147134744539,0.6157003591585369,1.376848546659876,0.15090543259556485,-0.5022601707684581,0.0,0.6057546693589183,0.05017561465127662,0.150451354062178,0.5007511266900351,0.29895366218237307,0.24838549428713363,0.5450941526263599,0.4435682602267154,-0.4906771344455348,-0.4437869822485235,0.04952947003466781,0.5445544554455417,0.16592811422945225,0.38783505458691747,0.5200121434097578,0.3000662483924951,0.41329940166291046,0.23167517109623148,0.17805958481716308,0.030828070885292092,0.4237553390765001,0.3083237831280243,0.7858884267890461,0.28980145517325956,0.3447705076970434,0.24178268779398285,0.35780278061188303,0.23143810202016407,0.5917491656617172,1.0478235009850914,0.7141444751520936,-0.14884757278006785,0.08550916822900537,-0.8598436564828671,-1.7705477084725516,-0.8233522399403224,0.2530771341261491,0.3642660652187341,-0.09872828565384356,0.10070825195886898,0.14714939189220397,0.8299612246622419,-0.029796545463007102,0.3348453377793067,0.1930887233400621,0.3001931798703778,0.3348590589767736,0.05201763996427794,0.06487322116246884,-0.09517766497461637,0.03313681361923165,0.023004053314186115,-0.05197720362644469,-0.04187951585437884,0.1869253541682869,0.1461363479699511,0.1615249422961339,0.3481846294811549,0.25338416234848626,0.40165763468282023,0.32430422003701304,0.32144746300640825,0.5173548206833753,0.46940989750992934,0.3181714734507648,0.0,0.2620036831757153,0.3154462166418884,0.21715478580843225,0.06752075270192967,0.18478500551268406,0.02377084901549157,0.2724196054096635,0.21374461249462118,0.20934703870291563,0.16607883500068787,-0.20681801323810597,-0.08263631713107386,0.028880992806008345,0.5809527975851975,0.47712662775423414,0.2696794580438582,-0.16793444944266916,-0.012108160467717304,0.19807889421808506,0.542992675210101,-0.28119191025899753,-0.2087979266581197,0.041415548950160544,0.23804082055085427,0.19574523005442684,0.2387290682696364,0.0376944691933479,0.05352310485390333,0.18444894273522938,0.26441691584792815,0.24241752904537633,0.11007786202440674,0.20420553010651574,0.18641856050976907,0.19030059035472752,0.13211322060796907,0.11254852864928948,-0.01600013473796937,0.007159100480079132,-0.019791390324114352,-0.18826601524660014,-0.30846094445592914,-0.6370316441765553,0.25346436802174205,0.26939517808125457,0.1042478896158971,0.3297745341246778,0.276792081046074,0.15863197801873336,-0.0004201080517929266,-0.2247587519377551,0.09894820166907244,0.11946174910508504,-0.10755534268560658,-0.04584435630738804,-0.1329675323582272,0.3134796238244513,0.38306451612902287,0.2364095869317792,0.27759572878272,-0.05037007434789874,0.18492217858317475,0.2623209794425161,0.23426874979269335,0.11789477167712409,0.25245221587762884,0.404307669481569,0.15926573570097663,-0.046720162618953766,0.12341528217408367,-0.07739779600562725,0.0651628661825299,0.03276499715353435,0.38486261632881913,0.5106389920997825,0.07750522450139083,0.2668007428251632,0.21068892447550794,0.37852343576602093,0.2798068689370145,0.05692774586171205,0.226379411894334,0.253052217504981,0.13517878291244428,0.0816349285993089,0.16950299017598378,0.1946383103805811,0.24698797568971906,-0.08107188901455502,-0.041954111700852524,-0.03207272986445861,0.26339763140174755,0.4495624864202917,0.35001750087504957,0.06348882870948284,0.014099676882405314,0.21107373483030523,0.10902696365766626,0.16277680840351083,0.2763098411510714,0.18771496861701253,0.18425993451982478,0.16223771891445526,0.12563688234975323,-0.32508773894141263,-0.8022001433192052,-0.058572243004523995,0.4973744256556107,0.5155180256359502,0.40109382191742865,0.23499499191001377,0.06226219301278978,0.14173119469027634,0.32333413879204886,0.24315272743954336,0.43707093821510873,0.6387034547705362,0.6410643403715665,0.7018412084265988,0.8771439953238823,0.45358085290917016,0.33359786027097793,0.41085055585663954,0.8664765475139767,0.699229907082695,0.5751748502821931,0.6450668627689027,0.7977072566886543,null,null,null,null,null,null,null,null,null,null],\"type\":\"scatter\"},{\"line\":{\"color\":\"#FF3333\",\"width\":1},\"mode\":\"lines\",\"name\":\"6 Month Rolling Avg\",\"x\":[\"1947-01-01\",\"1947-02-01\",\"1947-03-01\",\"1947-04-01\",\"1947-05-01\",\"1947-06-01\",\"1947-07-01\",\"1947-08-01\",\"1947-09-01\",\"1947-10-01\",\"1947-11-01\",\"1947-12-01\",\"1948-01-01\",\"1948-02-01\",\"1948-03-01\",\"1948-04-01\",\"1948-05-01\",\"1948-06-01\",\"1948-07-01\",\"1948-08-01\",\"1948-09-01\",\"1948-10-01\",\"1948-11-01\",\"1948-12-01\",\"1949-01-01\",\"1949-02-01\",\"1949-03-01\",\"1949-04-01\",\"1949-05-01\",\"1949-06-01\",\"1949-07-01\",\"1949-08-01\",\"1949-09-01\",\"1949-10-01\",\"1949-11-01\",\"1949-12-01\",\"1950-01-01\",\"1950-02-01\",\"1950-03-01\",\"1950-04-01\",\"1950-05-01\",\"1950-06-01\",\"1950-07-01\",\"1950-08-01\",\"1950-09-01\",\"1950-10-01\",\"1950-11-01\",\"1950-12-01\",\"1951-01-01\",\"1951-02-01\",\"1951-03-01\",\"1951-04-01\",\"1951-05-01\",\"1951-06-01\",\"1951-07-01\",\"1951-08-01\",\"1951-09-01\",\"1951-10-01\",\"1951-11-01\",\"1951-12-01\",\"1952-01-01\",\"1952-02-01\",\"1952-03-01\",\"1952-04-01\",\"1952-05-01\",\"1952-06-01\",\"1952-07-01\",\"1952-08-01\",\"1952-09-01\",\"1952-10-01\",\"1952-11-01\",\"1952-12-01\",\"1953-01-01\",\"1953-02-01\",\"1953-03-01\",\"1953-04-01\",\"1953-05-01\",\"1953-06-01\",\"1953-07-01\",\"1953-08-01\",\"1953-09-01\",\"1953-10-01\",\"1953-11-01\",\"1953-12-01\",\"1954-01-01\",\"1954-02-01\",\"1954-03-01\",\"1954-04-01\",\"1954-05-01\",\"1954-06-01\",\"1954-07-01\",\"1954-08-01\",\"1954-09-01\",\"1954-10-01\",\"1954-11-01\",\"1954-12-01\",\"1955-01-01\",\"1955-02-01\",\"1955-03-01\",\"1955-04-01\",\"1955-05-01\",\"1955-06-01\",\"1955-07-01\",\"1955-08-01\",\"1955-09-01\",\"1955-10-01\",\"1955-11-01\",\"1955-12-01\",\"1956-01-01\",\"1956-02-01\",\"1956-03-01\",\"1956-04-01\",\"1956-05-01\",\"1956-06-01\",\"1956-07-01\",\"1956-08-01\",\"1956-09-01\",\"1956-10-01\",\"1956-11-01\",\"1956-12-01\",\"1957-01-01\",\"1957-02-01\",\"1957-03-01\",\"1957-04-01\",\"1957-05-01\",\"1957-06-01\",\"1957-07-01\",\"1957-08-01\",\"1957-09-01\",\"1957-10-01\",\"1957-11-01\",\"1957-12-01\",\"1958-01-01\",\"1958-02-01\",\"1958-03-01\",\"1958-04-01\",\"1958-05-01\",\"1958-06-01\",\"1958-07-01\",\"1958-08-01\",\"1958-09-01\",\"1958-10-01\",\"1958-11-01\",\"1958-12-01\",\"1959-01-01\",\"1959-02-01\",\"1959-03-01\",\"1959-04-01\",\"1959-05-01\",\"1959-06-01\",\"1959-07-01\",\"1959-08-01\",\"1959-09-01\",\"1959-10-01\",\"1959-11-01\",\"1959-12-01\",\"1960-01-01\",\"1960-02-01\",\"1960-03-01\",\"1960-04-01\",\"1960-05-01\",\"1960-06-01\",\"1960-07-01\",\"1960-08-01\",\"1960-09-01\",\"1960-10-01\",\"1960-11-01\",\"1960-12-01\",\"1961-01-01\",\"1961-02-01\",\"1961-03-01\",\"1961-04-01\",\"1961-05-01\",\"1961-06-01\",\"1961-07-01\",\"1961-08-01\",\"1961-09-01\",\"1961-10-01\",\"1961-11-01\",\"1961-12-01\",\"1962-01-01\",\"1962-02-01\",\"1962-03-01\",\"1962-04-01\",\"1962-05-01\",\"1962-06-01\",\"1962-07-01\",\"1962-08-01\",\"1962-09-01\",\"1962-10-01\",\"1962-11-01\",\"1962-12-01\",\"1963-01-01\",\"1963-02-01\",\"1963-03-01\",\"1963-04-01\",\"1963-05-01\",\"1963-06-01\",\"1963-07-01\",\"1963-08-01\",\"1963-09-01\",\"1963-10-01\",\"1963-11-01\",\"1963-12-01\",\"1964-01-01\",\"1964-02-01\",\"1964-03-01\",\"1964-04-01\",\"1964-05-01\",\"1964-06-01\",\"1964-07-01\",\"1964-08-01\",\"1964-09-01\",\"1964-10-01\",\"1964-11-01\",\"1964-12-01\",\"1965-01-01\",\"1965-02-01\",\"1965-03-01\",\"1965-04-01\",\"1965-05-01\",\"1965-06-01\",\"1965-07-01\",\"1965-08-01\",\"1965-09-01\",\"1965-10-01\",\"1965-11-01\",\"1965-12-01\",\"1966-01-01\",\"1966-02-01\",\"1966-03-01\",\"1966-04-01\",\"1966-05-01\",\"1966-06-01\",\"1966-07-01\",\"1966-08-01\",\"1966-09-01\",\"1966-10-01\",\"1966-11-01\",\"1966-12-01\",\"1967-01-01\",\"1967-02-01\",\"1967-03-01\",\"1967-04-01\",\"1967-05-01\",\"1967-06-01\",\"1967-07-01\",\"1967-08-01\",\"1967-09-01\",\"1967-10-01\",\"1967-11-01\",\"1967-12-01\",\"1968-01-01\",\"1968-02-01\",\"1968-03-01\",\"1968-04-01\",\"1968-05-01\",\"1968-06-01\",\"1968-07-01\",\"1968-08-01\",\"1968-09-01\",\"1968-10-01\",\"1968-11-01\",\"1968-12-01\",\"1969-01-01\",\"1969-02-01\",\"1969-03-01\",\"1969-04-01\",\"1969-05-01\",\"1969-06-01\",\"1969-07-01\",\"1969-08-01\",\"1969-09-01\",\"1969-10-01\",\"1969-11-01\",\"1969-12-01\",\"1970-01-01\",\"1970-02-01\",\"1970-03-01\",\"1970-04-01\",\"1970-05-01\",\"1970-06-01\",\"1970-07-01\",\"1970-08-01\",\"1970-09-01\",\"1970-10-01\",\"1970-11-01\",\"1970-12-01\",\"1971-01-01\",\"1971-02-01\",\"1971-03-01\",\"1971-04-01\",\"1971-05-01\",\"1971-06-01\",\"1971-07-01\",\"1971-08-01\",\"1971-09-01\",\"1971-10-01\",\"1971-11-01\",\"1971-12-01\",\"1972-01-01\",\"1972-02-01\",\"1972-03-01\",\"1972-04-01\",\"1972-05-01\",\"1972-06-01\",\"1972-07-01\",\"1972-08-01\",\"1972-09-01\",\"1972-10-01\",\"1972-11-01\",\"1972-12-01\",\"1973-01-01\",\"1973-02-01\",\"1973-03-01\",\"1973-04-01\",\"1973-05-01\",\"1973-06-01\",\"1973-07-01\",\"1973-08-01\",\"1973-09-01\",\"1973-10-01\",\"1973-11-01\",\"1973-12-01\",\"1974-01-01\",\"1974-02-01\",\"1974-03-01\",\"1974-04-01\",\"1974-05-01\",\"1974-06-01\",\"1974-07-01\",\"1974-08-01\",\"1974-09-01\",\"1974-10-01\",\"1974-11-01\",\"1974-12-01\",\"1975-01-01\",\"1975-02-01\",\"1975-03-01\",\"1975-04-01\",\"1975-05-01\",\"1975-06-01\",\"1975-07-01\",\"1975-08-01\",\"1975-09-01\",\"1975-10-01\",\"1975-11-01\",\"1975-12-01\",\"1976-01-01\",\"1976-02-01\",\"1976-03-01\",\"1976-04-01\",\"1976-05-01\",\"1976-06-01\",\"1976-07-01\",\"1976-08-01\",\"1976-09-01\",\"1976-10-01\",\"1976-11-01\",\"1976-12-01\",\"1977-01-01\",\"1977-02-01\",\"1977-03-01\",\"1977-04-01\",\"1977-05-01\",\"1977-06-01\",\"1977-07-01\",\"1977-08-01\",\"1977-09-01\",\"1977-10-01\",\"1977-11-01\",\"1977-12-01\",\"1978-01-01\",\"1978-02-01\",\"1978-03-01\",\"1978-04-01\",\"1978-05-01\",\"1978-06-01\",\"1978-07-01\",\"1978-08-01\",\"1978-09-01\",\"1978-10-01\",\"1978-11-01\",\"1978-12-01\",\"1979-01-01\",\"1979-02-01\",\"1979-03-01\",\"1979-04-01\",\"1979-05-01\",\"1979-06-01\",\"1979-07-01\",\"1979-08-01\",\"1979-09-01\",\"1979-10-01\",\"1979-11-01\",\"1979-12-01\",\"1980-01-01\",\"1980-02-01\",\"1980-03-01\",\"1980-04-01\",\"1980-05-01\",\"1980-06-01\",\"1980-07-01\",\"1980-08-01\",\"1980-09-01\",\"1980-10-01\",\"1980-11-01\",\"1980-12-01\",\"1981-01-01\",\"1981-02-01\",\"1981-03-01\",\"1981-04-01\",\"1981-05-01\",\"1981-06-01\",\"1981-07-01\",\"1981-08-01\",\"1981-09-01\",\"1981-10-01\",\"1981-11-01\",\"1981-12-01\",\"1982-01-01\",\"1982-02-01\",\"1982-03-01\",\"1982-04-01\",\"1982-05-01\",\"1982-06-01\",\"1982-07-01\",\"1982-08-01\",\"1982-09-01\",\"1982-10-01\",\"1982-11-01\",\"1982-12-01\",\"1983-01-01\",\"1983-02-01\",\"1983-03-01\",\"1983-04-01\",\"1983-05-01\",\"1983-06-01\",\"1983-07-01\",\"1983-08-01\",\"1983-09-01\",\"1983-10-01\",\"1983-11-01\",\"1983-12-01\",\"1984-01-01\",\"1984-02-01\",\"1984-03-01\",\"1984-04-01\",\"1984-05-01\",\"1984-06-01\",\"1984-07-01\",\"1984-08-01\",\"1984-09-01\",\"1984-10-01\",\"1984-11-01\",\"1984-12-01\",\"1985-01-01\",\"1985-02-01\",\"1985-03-01\",\"1985-04-01\",\"1985-05-01\",\"1985-06-01\",\"1985-07-01\",\"1985-08-01\",\"1985-09-01\",\"1985-10-01\",\"1985-11-01\",\"1985-12-01\",\"1986-01-01\",\"1986-02-01\",\"1986-03-01\",\"1986-04-01\",\"1986-05-01\",\"1986-06-01\",\"1986-07-01\",\"1986-08-01\",\"1986-09-01\",\"1986-10-01\",\"1986-11-01\",\"1986-12-01\",\"1987-01-01\",\"1987-02-01\",\"1987-03-01\",\"1987-04-01\",\"1987-05-01\",\"1987-06-01\",\"1987-07-01\",\"1987-08-01\",\"1987-09-01\",\"1987-10-01\",\"1987-11-01\",\"1987-12-01\",\"1988-01-01\",\"1988-02-01\",\"1988-03-01\",\"1988-04-01\",\"1988-05-01\",\"1988-06-01\",\"1988-07-01\",\"1988-08-01\",\"1988-09-01\",\"1988-10-01\",\"1988-11-01\",\"1988-12-01\",\"1989-01-01\",\"1989-02-01\",\"1989-03-01\",\"1989-04-01\",\"1989-05-01\",\"1989-06-01\",\"1989-07-01\",\"1989-08-01\",\"1989-09-01\",\"1989-10-01\",\"1989-11-01\",\"1989-12-01\",\"1990-01-01\",\"1990-02-01\",\"1990-03-01\",\"1990-04-01\",\"1990-05-01\",\"1990-06-01\",\"1990-07-01\",\"1990-08-01\",\"1990-09-01\",\"1990-10-01\",\"1990-11-01\",\"1990-12-01\",\"1991-01-01\",\"1991-02-01\",\"1991-03-01\",\"1991-04-01\",\"1991-05-01\",\"1991-06-01\",\"1991-07-01\",\"1991-08-01\",\"1991-09-01\",\"1991-10-01\",\"1991-11-01\",\"1991-12-01\",\"1992-01-01\",\"1992-02-01\",\"1992-03-01\",\"1992-04-01\",\"1992-05-01\",\"1992-06-01\",\"1992-07-01\",\"1992-08-01\",\"1992-09-01\",\"1992-10-01\",\"1992-11-01\",\"1992-12-01\",\"1993-01-01\",\"1993-02-01\",\"1993-03-01\",\"1993-04-01\",\"1993-05-01\",\"1993-06-01\",\"1993-07-01\",\"1993-08-01\",\"1993-09-01\",\"1993-10-01\",\"1993-11-01\",\"1993-12-01\",\"1994-01-01\",\"1994-02-01\",\"1994-03-01\",\"1994-04-01\",\"1994-05-01\",\"1994-06-01\",\"1994-07-01\",\"1994-08-01\",\"1994-09-01\",\"1994-10-01\",\"1994-11-01\",\"1994-12-01\",\"1995-01-01\",\"1995-02-01\",\"1995-03-01\",\"1995-04-01\",\"1995-05-01\",\"1995-06-01\",\"1995-07-01\",\"1995-08-01\",\"1995-09-01\",\"1995-10-01\",\"1995-11-01\",\"1995-12-01\",\"1996-01-01\",\"1996-02-01\",\"1996-03-01\",\"1996-04-01\",\"1996-05-01\",\"1996-06-01\",\"1996-07-01\",\"1996-08-01\",\"1996-09-01\",\"1996-10-01\",\"1996-11-01\",\"1996-12-01\",\"1997-01-01\",\"1997-02-01\",\"1997-03-01\",\"1997-04-01\",\"1997-05-01\",\"1997-06-01\",\"1997-07-01\",\"1997-08-01\",\"1997-09-01\",\"1997-10-01\",\"1997-11-01\",\"1997-12-01\",\"1998-01-01\",\"1998-02-01\",\"1998-03-01\",\"1998-04-01\",\"1998-05-01\",\"1998-06-01\",\"1998-07-01\",\"1998-08-01\",\"1998-09-01\",\"1998-10-01\",\"1998-11-01\",\"1998-12-01\",\"1999-01-01\",\"1999-02-01\",\"1999-03-01\",\"1999-04-01\",\"1999-05-01\",\"1999-06-01\",\"1999-07-01\",\"1999-08-01\",\"1999-09-01\",\"1999-10-01\",\"1999-11-01\",\"1999-12-01\",\"2000-01-01\",\"2000-02-01\",\"2000-03-01\",\"2000-04-01\",\"2000-05-01\",\"2000-06-01\",\"2000-07-01\",\"2000-08-01\",\"2000-09-01\",\"2000-10-01\",\"2000-11-01\",\"2000-12-01\",\"2001-01-01\",\"2001-02-01\",\"2001-03-01\",\"2001-04-01\",\"2001-05-01\",\"2001-06-01\",\"2001-07-01\",\"2001-08-01\",\"2001-09-01\",\"2001-10-01\",\"2001-11-01\",\"2001-12-01\",\"2002-01-01\",\"2002-02-01\",\"2002-03-01\",\"2002-04-01\",\"2002-05-01\",\"2002-06-01\",\"2002-07-01\",\"2002-08-01\",\"2002-09-01\",\"2002-10-01\",\"2002-11-01\",\"2002-12-01\",\"2003-01-01\",\"2003-02-01\",\"2003-03-01\",\"2003-04-01\",\"2003-05-01\",\"2003-06-01\",\"2003-07-01\",\"2003-08-01\",\"2003-09-01\",\"2003-10-01\",\"2003-11-01\",\"2003-12-01\",\"2004-01-01\",\"2004-02-01\",\"2004-03-01\",\"2004-04-01\",\"2004-05-01\",\"2004-06-01\",\"2004-07-01\",\"2004-08-01\",\"2004-09-01\",\"2004-10-01\",\"2004-11-01\",\"2004-12-01\",\"2005-01-01\",\"2005-02-01\",\"2005-03-01\",\"2005-04-01\",\"2005-05-01\",\"2005-06-01\",\"2005-07-01\",\"2005-08-01\",\"2005-09-01\",\"2005-10-01\",\"2005-11-01\",\"2005-12-01\",\"2006-01-01\",\"2006-02-01\",\"2006-03-01\",\"2006-04-01\",\"2006-05-01\",\"2006-06-01\",\"2006-07-01\",\"2006-08-01\",\"2006-09-01\",\"2006-10-01\",\"2006-11-01\",\"2006-12-01\",\"2007-01-01\",\"2007-02-01\",\"2007-03-01\",\"2007-04-01\",\"2007-05-01\",\"2007-06-01\",\"2007-07-01\",\"2007-08-01\",\"2007-09-01\",\"2007-10-01\",\"2007-11-01\",\"2007-12-01\",\"2008-01-01\",\"2008-02-01\",\"2008-03-01\",\"2008-04-01\",\"2008-05-01\",\"2008-06-01\",\"2008-07-01\",\"2008-08-01\",\"2008-09-01\",\"2008-10-01\",\"2008-11-01\",\"2008-12-01\",\"2009-01-01\",\"2009-02-01\",\"2009-03-01\",\"2009-04-01\",\"2009-05-01\",\"2009-06-01\",\"2009-07-01\",\"2009-08-01\",\"2009-09-01\",\"2009-10-01\",\"2009-11-01\",\"2009-12-01\",\"2010-01-01\",\"2010-02-01\",\"2010-03-01\",\"2010-04-01\",\"2010-05-01\",\"2010-06-01\",\"2010-07-01\",\"2010-08-01\",\"2010-09-01\",\"2010-10-01\",\"2010-11-01\",\"2010-12-01\",\"2011-01-01\",\"2011-02-01\",\"2011-03-01\",\"2011-04-01\",\"2011-05-01\",\"2011-06-01\",\"2011-07-01\",\"2011-08-01\",\"2011-09-01\",\"2011-10-01\",\"2011-11-01\",\"2011-12-01\",\"2012-01-01\",\"2012-02-01\",\"2012-03-01\",\"2012-04-01\",\"2012-05-01\",\"2012-06-01\",\"2012-07-01\",\"2012-08-01\",\"2012-09-01\",\"2012-10-01\",\"2012-11-01\",\"2012-12-01\",\"2013-01-01\",\"2013-02-01\",\"2013-03-01\",\"2013-04-01\",\"2013-05-01\",\"2013-06-01\",\"2013-07-01\",\"2013-08-01\",\"2013-09-01\",\"2013-10-01\",\"2013-11-01\",\"2013-12-01\",\"2014-01-01\",\"2014-02-01\",\"2014-03-01\",\"2014-04-01\",\"2014-05-01\",\"2014-06-01\",\"2014-07-01\",\"2014-08-01\",\"2014-09-01\",\"2014-10-01\",\"2014-11-01\",\"2014-12-01\",\"2015-01-01\",\"2015-02-01\",\"2015-03-01\",\"2015-04-01\",\"2015-05-01\",\"2015-06-01\",\"2015-07-01\",\"2015-08-01\",\"2015-09-01\",\"2015-10-01\",\"2015-11-01\",\"2015-12-01\",\"2016-01-01\",\"2016-02-01\",\"2016-03-01\",\"2016-04-01\",\"2016-05-01\",\"2016-06-01\",\"2016-07-01\",\"2016-08-01\",\"2016-09-01\",\"2016-10-01\",\"2016-11-01\",\"2016-12-01\",\"2017-01-01\",\"2017-02-01\",\"2017-03-01\",\"2017-04-01\",\"2017-05-01\",\"2017-06-01\",\"2017-07-01\",\"2017-08-01\",\"2017-09-01\",\"2017-10-01\",\"2017-11-01\",\"2017-12-01\",\"2018-01-01\",\"2018-02-01\",\"2018-03-01\",\"2018-04-01\",\"2018-05-01\",\"2018-06-01\",\"2018-07-01\",\"2018-08-01\",\"2018-09-01\",\"2018-10-01\",\"2018-11-01\",\"2018-12-01\",\"2019-01-01\",\"2019-02-01\",\"2019-03-01\",\"2019-04-01\",\"2019-05-01\",\"2019-06-01\",\"2019-07-01\",\"2019-08-01\",\"2019-09-01\",\"2019-10-01\",\"2019-11-01\",\"2019-12-01\",\"2020-01-01\",\"2020-02-01\",\"2020-03-01\",\"2020-04-01\",\"2020-05-01\",\"2020-06-01\",\"2020-07-01\",\"2020-08-01\",\"2020-09-01\",\"2020-10-01\",\"2020-11-01\",\"2020-12-01\",\"2021-01-01\",\"2021-02-01\",\"2021-03-01\",\"2021-04-01\",\"2021-05-01\",\"2021-06-01\",\"2021-07-01\",\"2021-08-01\",\"2021-09-01\",\"2021-10-01\",\"2021-11-01\",\"2021-12-01\",\"2022-01-01\",\"2022-02-01\",\"2022-03-01\",\"2022-04-01\",\"2022-05-01\",\"2022-06-01\",\"2022-07-01\",\"2022-08-01\",\"2022-09-01\",\"2022-10-01\",\"2022-11-01\",\"2022-12-01\"],\"y\":[null,null,null,null,null,null,0.5756218556681539,0.5944490650275579,0.6288913803440656,0.6799713569932192,0.8269727987349486,0.981226895373675,1.0602278023315568,0.9257341234299861,0.4786517205491019,0.6545220985098774,0.6783409503844129,0.5225593960330198,0.5028666326224104,0.5303967241893865,0.6023426828077508,0.3411832422645971,0.10540339839466595,-0.06766133364762815,-0.2679141425960887,-0.3578214671853441,-0.31006597530377744,-0.2688863052356015,-0.17301563711429604,-0.09016205077183932,-0.21573076329707586,-0.14631524198650983,-0.1111534979640058,-0.17426443297614916,-0.146172977582661,-0.21643470095811881,-0.1337375179626066,-0.06284569887853042,-0.07682997572610775,-0.013639427443390022,0.04980338336877504,0.19022255514328734,0.39342159424675266,0.4125450085098576,0.48778627411730047,0.5902951016364528,0.5737557163263035,0.7540802583180422,0.8883529472676366,1.0938459881521336,1.0296894827539431,0.9458903753975303,0.9228734525790171,0.6269445410005607,0.3472092474308302,0.019538359021871416,0.0968404523389051,0.15431782507669603,0.2112443361953602,0.34470547567968207,0.3449677260119022,0.35192555127929065,0.22973974881611933,0.19071112340838306,0.09507314004650148,0.037866954917499605,0.14469277118886614,0.17614443666047863,0.1512987022365984,0.14464167083433666,0.13834285501171256,0.11305330977104994,-0.02485865565603121,-0.06238681349903305,0.00015248492323495974,0.00015248492323495974,0.006397020954206616,0.037603329666293726,0.09373410072701067,0.16234274296387424,0.16209995929975987,0.1617368717315548,0.09364941671480832,0.062368685226933084,0.09333586640989792,0.086941442846049,0.02506138473316441,-0.05544935453544919,0.049828660007536024,0.043602895484345296,-0.04930873499619661,-0.08644668603895837,-0.07422522507070557,-0.08685230438940074,-0.09286225024601091,-0.10527468492184888,-0.05578198509507218,-0.018447597767041326,-0.01226110307242823,0.04368816958702711,-0.006179433765432997,-0.03731113226496287,-0.006111831129307864,-0.06215400998817508,0.037576618240827836,0.018954644311590635,0.06868270571885614,0.09983755730586168,0.04382743865376784,0.08737609922139593,0.024903315823187718,0.0683176537043272,0.09292089357857959,0.1731131512992751,0.2838662647027616,0.2774448956978461,0.28324093737627165,0.35595009688567353,0.2940612492560155,0.2927702244203287,0.23095629142386057,0.29704562386002253,0.3086057642500882,0.2529802876899567,0.29475138209263024,0.28752673650920724,0.31083107846862285,0.2857376179346925,0.2733401808631336,0.2314641339619609,0.24265914125420254,0.21238182441405531,0.2644690820977223,0.246174924931961,0.32132355477752544,0.3617345927639013,0.30876849106898613,0.256292492346557,0.14524249406978423,0.13917133737383536,0.023171796491861574,-0.017239241494514296,0.00582082999170682,0.03461205985644634,0.06915440718625733,0.03456421741271021,0.034599963188751005,0.04035304108542662,0.051799525844891454,0.0804598930591922,0.08034921893957016,0.10324702295384175,0.16047012490526577,0.21169710398864794,0.17719054774296197,0.1710876260058439,0.12551796179049443,0.13106420223179413,0.09108247959071562,0.10777350954253984,0.12469971130286546,0.11317353360961069,0.10206918615997634,0.11321123460311394,0.11321123460311394,0.11834235413301318,0.11822287506176382,0.11246729430606295,0.16301256350564627,0.1291716159591157,0.1291716159591157,0.033613377325752036,0.033579549638353696,0.016789757831773448,0.04469961528764795,0.05584043525199708,0.0781071909856862,0.09486322315726863,0.0780903281555907,0.09476811334571807,0.06674647385051018,0.09444275996694239,0.105387561855307,0.12748456771101305,0.14403537870075023,0.11082320197623265,0.09967902601046652,0.09393258836118873,0.13777959524816216,0.09376718286166347,0.0772163718719263,0.0937507634063165,0.12115021877313631,0.10996055778797481,0.04930619275401388,0.05483352979939127,0.0712377292744575,0.12586462755917174,0.13650698505965342,0.14718988116495615,0.11452551908826329,0.14718963024034581,0.1470455933669062,0.14656641004861926,0.13539107987385973,0.08664686604425699,0.1190830234695659,0.10819375189554997,0.10808867814691266,0.07008040798358478,0.0430715986352136,0.07535054205308189,0.07527760681071878,0.0913408581680903,0.1233862834539184,0.12860751364814849,0.13923290330739987,0.1231142701674895,0.12299586531762687,0.13880763456280268,0.14371950623235655,0.19118559955353567,0.15936782036973188,0.1435350147965856,0.16452870132239283,0.1430796873507855,0.1426265959078705,0.12629326590957263,0.1578096322205331,0.2782011998179366,0.29317630826973434,0.3291555348608319,0.3126383305408115,0.27560084276155966,0.29593272711885793,0.29409610171504025,0.2931891042775467,0.2922876862045887,0.2713662963113604,0.2761860959731586,0.23003006758307165,0.177966492259492,0.12692003998792414,0.12653450525124435,0.11131380509903678,0.1917429894380701,0.2519185963937523,0.2511602346976915,0.30091147847878674,0.30000960257691084,0.39892157092507885,0.347380844839533,0.3463504026326201,0.34532605835929003,0.3443077580479776,0.34329544836219855,0.2928330924171319,0.34028724144881145,0.3873291129524534,0.38620874950655154,0.385094853655817,0.43147075037184707,0.43023549113210796,0.42777909221292343,0.3785340922668932,0.3774639411883114,0.46950969803853887,0.4668790398215464,0.46557836893550336,0.4629915019418567,0.5072497037797207,0.5058542180491999,0.4565236502556256,0.4540348064977702,0.4974866291355549,0.49480042644935224,0.49214307500737675,0.534803967516268,0.5319587947075815,0.5291437369637125,0.48306827533865243,0.48053517228741155,0.43507316895125503,0.38996732282662655,0.38794834442969856,0.3859501561204292,0.42726248169671477,0.4250817800341478,0.42400250047483934,0.381157599018112,0.3374586079506993,0.2940912610119262,0.292614411680092,0.2911523134438032,0.29042852991711626,0.3314794330369855,0.3306583795843502,0.32984138612029784,0.2874656628368219,0.24540308340209394,0.24480232043312333,0.2846575661805663,0.24370752523052766,0.2431155009812144,0.2425263473004768,0.2419400433605143,0.2413565685345328,0.20032282796068213,0.2798773227896411,0.2792079557049068,0.3180362546828067,0.3172803282193331,0.3557436751888197,0.43296728563072007,0.508451550491683,0.5840706418950067,0.5813593509951834,0.6559463912954668,0.5775150187464461,0.7620781251996199,0.6811134395837732,0.7133986916806133,0.7467701638392713,0.7781182299365424,0.9581038310884504,0.8345073839625926,0.9366137186270658,0.8937236037185872,0.9573246541617438,0.9492555829118449,0.8713107980864665,0.896087876616081,0.9537084030812745,0.9808581982863708,0.971006717846655,0.963282344786072,0.9896936800330808,0.8824562178958565,0.7120266388391349,0.6434056463051002,0.5114534943751463,0.507552934279095,0.5348640225809459,0.5009901231876069,0.5606199970528865,0.5890637754966631,0.6790501429343133,0.6439167780433874,0.5481055765373014,0.5162457597312474,0.4230596758131641,0.36124648899997863,0.32894014039661895,0.3271767094653992,0.35540809261284984,0.41325881260278763,0.47070370141258655,0.5277473522062361,0.4961913163832102,0.49359735390716414,0.49103037074657574,0.573668823778644,0.5707258209151022,0.5957770886257663,0.5937621202895543,0.5907600789014105,0.5877882686444177,0.49966735947200047,0.46990570113583585,0.4396149463851157,0.49228449905466726,0.48987318193967416,0.5142376496136437,0.5117456240953004,0.5630103562110972,0.6128848765494365,0.6611542910160347,0.7097080961339817,0.7309041285659678,0.7529404824625087,0.7988654449276824,0.8178007959234671,0.7606604709466157,0.7302269366371138,0.749297213439348,0.8178323446590495,0.8346807253140408,0.8512098879918356,0.9407131029304301,1.028689034043614,1.0660858358691228,1.0555868857641333,1.0452928488546187,1.0575992158612506,1.0460467677468077,1.05667382558749,1.110406473544388,1.1642643356214275,1.2380324341391935,1.2252795580300317,1.212787119242982,1.1786173926007935,0.9604145580130433,0.8678047196404948,0.7759615680663324,0.7684223230721153,0.7807054289612432,0.7732699744261907,0.9073889418784922,0.9392287653525848,0.9126407700145878,0.8477771025470471,0.7829149164727432,0.7757953035018476,0.8056363784626283,0.7802357334199329,0.829289174555803,0.788939186396112,0.7480833282668747,0.652744605413551,0.5217175056039777,0.44717905356482995,0.2844892487925973,0.28358186644322303,0.3700990158477862,0.5079654708511838,0.540741160966618,0.5219630934597378,0.5219630934597378,0.537400879900929,0.3625166765280728,0.1203249093102382,0.0685323048369053,0.051368444976414775,0.06837524769750224,0.11906541651750313,0.203531266314111,0.2881538250150107,0.3211048577209682,0.35418088379422513,0.3871241310231896,0.3345989277249298,0.31672571906224606,0.33257955269869804,0.38056635583176296,0.4120854828877036,0.4108683764074392,0.4092551338803012,0.3919204329783215,0.374670567966876,0.32390269396630456,0.29031410618295556,0.2894738830196811,0.28836005230524225,0.2878074048013208,0.2872568728498226,0.2545644391830161,0.3011410788852137,0.33164283960723634,0.29917983669898235,0.2986166584767878,0.3136028623104203,0.31301503762913147,0.2493578284794777,0.2018561494280797,0.23231645517448174,0.27796872271399636,0.30777953105759986,0.3376545797284438,0.2763738059234955,0.15432330112046783,0.03154599016403469,0.0007392347230383844,-0.014551285154636587,-0.060199472722637565,-0.014648168991419774,0.1373367844427437,0.228745833688639,0.21299570749284077,0.2122201014120869,0.28723819595248773,0.33186190034845503,0.33066494192861423,0.374634044721246,0.38875158315933006,0.4021114224137455,0.35591157826863973,0.3692950588991423,0.36799080928872163,0.33731065526890874,0.35091609744578073,0.3060548223119621,0.3196720857501192,0.27517983275535157,0.25988305007406903,0.31643413251467184,0.30112523406287267,0.34316218232792833,0.35611352438020205,0.3977013802413006,0.42470013154905306,0.3803450756114019,0.3932848500347213,0.3777798772421173,0.3762001095030809,0.3608821220081277,0.3730909529089102,0.4400525381648049,0.4656854161814414,0.4641622323150029,0.44884064931174633,0.3938351487616925,0.351758949226709,0.3091375635202192,0.2943568088617431,0.2934150580742575,0.39804806736426473,0.4634075444884478,0.5013719019181663,0.46012394562355396,0.41952977147011167,0.4698568049006768,0.38848597149877145,0.4636118072736937,0.4994685701916283,0.5737958685278463,0.5854172882291665,0.5444667727895365,0.5295808522889572,0.4014687143465487,0.28748695142861486,0.2113713923893645,0.2355728371888026,0.2224084492850372,0.184821879634821,0.22139633071826204,0.2702006254962032,0.2574395376089491,0.2686431308152944,0.2678582160213596,0.2554082287905814,0.242613892699827,0.253934658046946,0.26554912085180654,0.2285308292145893,0.22787284311610745,0.2633980847170155,0.2628319833797332,0.23821828689103466,0.2731446460257149,0.2843243937566085,0.2600607451184218,0.27103741088388095,0.27046422787401886,0.2582465982232171,0.24552793489126426,0.244840867559644,0.23294122990076452,0.19747952894363005,0.19706759946595998,0.19679412330728643,0.20760658169776955,0.2070334413471638,0.22972199542286909,0.2066219723228473,0.21758836281937413,0.24001232221584676,0.182376965862752,0.17055681137955472,0.18150797615008266,0.2378523529812749,0.259669331104114,0.24778216086062202,0.24761520604512155,0.25827075092997426,0.2464508479331323,0.23452130565668194,0.21143264939558293,0.21101012859198964,0.2659844886567749,0.2542996288839084,0.25379490156394335,0.23125233297595435,0.21972094423099678,0.20838715927992338,0.18579411741842766,0.17457156760361112,0.16338572738018578,0.2281498053597165,0.22770502617775432,0.2596677258127689,0.2804318832087212,0.2907471061267423,0.30102914601689346,0.24630090672919433,0.23521170867858507,0.23445929411183905,0.22299356319018382,0.2436387513023337,0.25367742335590865,0.2531960943101475,0.26333230041211636,0.22075750872520364,0.17834426177124532,0.12566832413955548,0.11492988608773037,0.10431043465301953,0.11450556581299316,0.14552870102401325,0.16611636695464996,0.18675620183596975,0.1657938115356045,0.1655880530764855,0.12402529330923635,0.08256592349165993,0.07212468545185324,0.09258637132680203,0.10277942316455545,0.12312789839560061,0.14355273499690954,0.15375265339756175,0.1739512413841229,0.15318732485807487,0.16315634593768177,0.1526199302917777,0.13219509369046878,0.1321145843163317,0.2025858193350849,0.192294427682722,0.1618252016010633,0.2016927007949196,0.24168470239460024,0.3013837653409573,0.2199351884791505,0.23963317578231721,0.2792214576508847,0.25830842162050843,0.2872276230135417,0.31544836672694404,0.2759044002022382,0.2754170756869232,0.3331808187404741,0.33220607134912755,0.2632948683564135,0.2521114720100353,0.29065990402196534,0.29015518506798527,0.23107334766978635,0.2781362876168098,0.31610135975044734,0.23871523738024744,0.2383063526085556,0.294588209802269,0.2939190751078267,0.17032548401137995,0.13236041187774236,0.18865546500199448,0.11347231368011867,0.019053915690292116,-0.027936808500686777,0.02838539446987402,0.0565227045430321,0.03757443384983259,0.1590611719102085,0.18703637243141966,0.20571109486070183,0.21464572683337865,0.23280471305651687,0.2136890646806996,0.17586567573809875,0.1848686785858199,0.2031318368844318,0.23935297941442135,0.2843308707778549,0.2838631552213337,0.18354972336709774,0.12866332796333682,0.11934001380379611,0.10061431090399688,0.0819222317545203,0.10888965829152923,0.15432164999303258,0.19062810778956554,0.2174482576277591,0.2347111008543519,0.19791356919147537,0.17942093648796673,0.22415289747649925,0.28628807337416834,0.3032338182689051,0.24900203136434337,0.22203113334650956,0.23917734666616516,0.3002654011355325,0.3077326960617988,0.24574190612201688,0.21940174515017463,0.2801774887284267,0.28796092674441987,0.2519358341441971,0.16471511092246335,0.17332392634946012,0.28527051874474113,0.31829782286336894,0.4871350200024553,0.4604992863879241,0.38539362894699236,0.3767848135199956,0.37449147283407297,0.2802373487495296,0.07583781664991325,0.13414543233232495,0.2676810711574635,0.30907865353865244,0.29896856741655936,0.36453400834579913,0.2576792602611804,0.10025624210475392,0.0586855434134697,0.10804703693987106,0.04485269720705312,0.03556382960042013,0.20401204257630223,0.327987581016472,0.3886159029545124,0.33646935556296076,0.3384912673275792,0.2789901033773083,0.2629473026550987,0.2643235584443535,0.3264217292987095,0.3361094433115475,0.3638945971248609,0.39905369994297607,0.3880616068655398,0.37524732668089644,0.342890783159675,0.4692277907949803,0.5307901187041554,0.46568507527514685,0.42030280654466723,0.23842251346082868,-0.1552936322282161,-0.46715625571578506,-0.5440008125534425,-0.45848187288697545,-0.4891881152007836,-0.32909613046049424,-0.009479947066368335,0.26607229703405905,0.21892668376919966,0.21402322919596176,0.2626593973616127,0.2959068853468642,0.3271918298609591,0.1975345657446318,0.21331286018221116,0.14164235972322395,0.11498370810308552,0.06878552034372025,0.0043128099098505455,-0.011336716059925584,0.009005306107710762,0.04922430826513866,0.07062232971128905,0.12481909240578386,0.17571265340160566,0.2496355118244722,0.2725319894692599,0.30175050864200276,0.3610554883732096,0.38125969971133866,0.39205758489505177,0.3251146457812484,0.3147312229710321,0.3137310152436122,0.2636976760977883,0.19671615196312167,0.1744850739734416,0.1784468821426902,0.18018286918168155,0.1632326018238037,0.1619313106395509,0.17835765768934395,0.1130904878975456,0.09535596020645136,0.05476619143917549,0.1159675556209382,0.1605974871294913,0.17786425763668634,0.18434485160259248,0.19609954437981858,0.22429919461516468,0.21797250755264863,0.09158608455044333,0.011839853766780354,0.0467315201655853,0.0884230170020139,0.08803407297473753,0.03732347181799345,0.09047120172671767,0.1341913736453882,0.15803027260956634,0.162426288492412,0.17020500499090355,0.1487631372833653,0.17651498076889327,0.19866422337820422,0.1996394979814539,0.1775888821081274,0.1559440487087796,0.13493104924838353,0.10208997764397744,0.06772165250499688,0.004627218238108942,-0.06880180927254076,-0.19373183807684824,-0.14882108761689636,-0.10511507468336707,-0.08444186136003184,0.0018982302018478077,0.09944040111884833,0.2320510048180631,0.18973692547247392,0.10737793713597234,0.10649465581150157,0.07144252497490278,0.007384621019622675,-0.026694768034730892,-0.0487860054191366,0.04092039054123113,0.08827310961788953,0.10776441592233856,0.17195626116705964,0.17120197482697452,0.2241835933172082,0.21565715258688567,0.19085785819749743,0.17110538898838823,0.16691480350420637,0.24269442747578432,0.23841835366208464,0.18691149665183968,0.16843591871540473,0.13588715743494614,0.10467226581909632,0.042748487097757214,0.08034796720239763,0.17324115965552034,0.1655894833767382,0.22295590651520328,0.24721024956403295,0.30483665599944737,0.28732736476747994,0.21170882372780156,0.23652118829329205,0.23422976740659507,0.2216447438127511,0.17216332595163242,0.1537793461581273,0.17673110691127214,0.18016586754383632,0.12447851645724699,0.09495636735503084,0.07600509094440293,0.09165419781536355,0.13414156048864864,0.15131314801953707,0.1754066009735434,0.184748899070753,0.22527330985321367,0.1995448652292001,0.1517472522264033,0.13946264227240693,0.1601669989236619,0.1885270418632318,0.1803877058772568,0.18315602565927128,0.10184526776845072,-0.0779063963099287,-0.11895426491351813,-0.06676851639088714,-0.007888465270637987,0.03802102465730791,0.131368146465879,0.27544520252121146,0.30882910880367814,0.2798223943264179,0.2344281779603501,0.24042436400996345,0.3077091078200505,0.4041761323798467,0.4975278013359004,0.589829444091206,0.6249007983361438,0.6076552853454552,0.5696798021931392,0.607248503383541,0.6068132864928902,0.5564850956526087,0.5883994306292308,0.6657509966988435,null,null,null,null,null,null,null,null,null,null],\"type\":\"scatter\"},{\"line\":{\"color\":\"#bf9fa2\",\"width\":1},\"mode\":\"lines\",\"name\":\"6 Month Rolling Low\",\"x\":[\"1947-01-01\",\"1947-02-01\",\"1947-03-01\",\"1947-04-01\",\"1947-05-01\",\"1947-06-01\",\"1947-07-01\",\"1947-08-01\",\"1947-09-01\",\"1947-10-01\",\"1947-11-01\",\"1947-12-01\",\"1948-01-01\",\"1948-02-01\",\"1948-03-01\",\"1948-04-01\",\"1948-05-01\",\"1948-06-01\",\"1948-07-01\",\"1948-08-01\",\"1948-09-01\",\"1948-10-01\",\"1948-11-01\",\"1948-12-01\",\"1949-01-01\",\"1949-02-01\",\"1949-03-01\",\"1949-04-01\",\"1949-05-01\",\"1949-06-01\",\"1949-07-01\",\"1949-08-01\",\"1949-09-01\",\"1949-10-01\",\"1949-11-01\",\"1949-12-01\",\"1950-01-01\",\"1950-02-01\",\"1950-03-01\",\"1950-04-01\",\"1950-05-01\",\"1950-06-01\",\"1950-07-01\",\"1950-08-01\",\"1950-09-01\",\"1950-10-01\",\"1950-11-01\",\"1950-12-01\",\"1951-01-01\",\"1951-02-01\",\"1951-03-01\",\"1951-04-01\",\"1951-05-01\",\"1951-06-01\",\"1951-07-01\",\"1951-08-01\",\"1951-09-01\",\"1951-10-01\",\"1951-11-01\",\"1951-12-01\",\"1952-01-01\",\"1952-02-01\",\"1952-03-01\",\"1952-04-01\",\"1952-05-01\",\"1952-06-01\",\"1952-07-01\",\"1952-08-01\",\"1952-09-01\",\"1952-10-01\",\"1952-11-01\",\"1952-12-01\",\"1953-01-01\",\"1953-02-01\",\"1953-03-01\",\"1953-04-01\",\"1953-05-01\",\"1953-06-01\",\"1953-07-01\",\"1953-08-01\",\"1953-09-01\",\"1953-10-01\",\"1953-11-01\",\"1953-12-01\",\"1954-01-01\",\"1954-02-01\",\"1954-03-01\",\"1954-04-01\",\"1954-05-01\",\"1954-06-01\",\"1954-07-01\",\"1954-08-01\",\"1954-09-01\",\"1954-10-01\",\"1954-11-01\",\"1954-12-01\",\"1955-01-01\",\"1955-02-01\",\"1955-03-01\",\"1955-04-01\",\"1955-05-01\",\"1955-06-01\",\"1955-07-01\",\"1955-08-01\",\"1955-09-01\",\"1955-10-01\",\"1955-11-01\",\"1955-12-01\",\"1956-01-01\",\"1956-02-01\",\"1956-03-01\",\"1956-04-01\",\"1956-05-01\",\"1956-06-01\",\"1956-07-01\",\"1956-08-01\",\"1956-09-01\",\"1956-10-01\",\"1956-11-01\",\"1956-12-01\",\"1957-01-01\",\"1957-02-01\",\"1957-03-01\",\"1957-04-01\",\"1957-05-01\",\"1957-06-01\",\"1957-07-01\",\"1957-08-01\",\"1957-09-01\",\"1957-10-01\",\"1957-11-01\",\"1957-12-01\",\"1958-01-01\",\"1958-02-01\",\"1958-03-01\",\"1958-04-01\",\"1958-05-01\",\"1958-06-01\",\"1958-07-01\",\"1958-08-01\",\"1958-09-01\",\"1958-10-01\",\"1958-11-01\",\"1958-12-01\",\"1959-01-01\",\"1959-02-01\",\"1959-03-01\",\"1959-04-01\",\"1959-05-01\",\"1959-06-01\",\"1959-07-01\",\"1959-08-01\",\"1959-09-01\",\"1959-10-01\",\"1959-11-01\",\"1959-12-01\",\"1960-01-01\",\"1960-02-01\",\"1960-03-01\",\"1960-04-01\",\"1960-05-01\",\"1960-06-01\",\"1960-07-01\",\"1960-08-01\",\"1960-09-01\",\"1960-10-01\",\"1960-11-01\",\"1960-12-01\",\"1961-01-01\",\"1961-02-01\",\"1961-03-01\",\"1961-04-01\",\"1961-05-01\",\"1961-06-01\",\"1961-07-01\",\"1961-08-01\",\"1961-09-01\",\"1961-10-01\",\"1961-11-01\",\"1961-12-01\",\"1962-01-01\",\"1962-02-01\",\"1962-03-01\",\"1962-04-01\",\"1962-05-01\",\"1962-06-01\",\"1962-07-01\",\"1962-08-01\",\"1962-09-01\",\"1962-10-01\",\"1962-11-01\",\"1962-12-01\",\"1963-01-01\",\"1963-02-01\",\"1963-03-01\",\"1963-04-01\",\"1963-05-01\",\"1963-06-01\",\"1963-07-01\",\"1963-08-01\",\"1963-09-01\",\"1963-10-01\",\"1963-11-01\",\"1963-12-01\",\"1964-01-01\",\"1964-02-01\",\"1964-03-01\",\"1964-04-01\",\"1964-05-01\",\"1964-06-01\",\"1964-07-01\",\"1964-08-01\",\"1964-09-01\",\"1964-10-01\",\"1964-11-01\",\"1964-12-01\",\"1965-01-01\",\"1965-02-01\",\"1965-03-01\",\"1965-04-01\",\"1965-05-01\",\"1965-06-01\",\"1965-07-01\",\"1965-08-01\",\"1965-09-01\",\"1965-10-01\",\"1965-11-01\",\"1965-12-01\",\"1966-01-01\",\"1966-02-01\",\"1966-03-01\",\"1966-04-01\",\"1966-05-01\",\"1966-06-01\",\"1966-07-01\",\"1966-08-01\",\"1966-09-01\",\"1966-10-01\",\"1966-11-01\",\"1966-12-01\",\"1967-01-01\",\"1967-02-01\",\"1967-03-01\",\"1967-04-01\",\"1967-05-01\",\"1967-06-01\",\"1967-07-01\",\"1967-08-01\",\"1967-09-01\",\"1967-10-01\",\"1967-11-01\",\"1967-12-01\",\"1968-01-01\",\"1968-02-01\",\"1968-03-01\",\"1968-04-01\",\"1968-05-01\",\"1968-06-01\",\"1968-07-01\",\"1968-08-01\",\"1968-09-01\",\"1968-10-01\",\"1968-11-01\",\"1968-12-01\",\"1969-01-01\",\"1969-02-01\",\"1969-03-01\",\"1969-04-01\",\"1969-05-01\",\"1969-06-01\",\"1969-07-01\",\"1969-08-01\",\"1969-09-01\",\"1969-10-01\",\"1969-11-01\",\"1969-12-01\",\"1970-01-01\",\"1970-02-01\",\"1970-03-01\",\"1970-04-01\",\"1970-05-01\",\"1970-06-01\",\"1970-07-01\",\"1970-08-01\",\"1970-09-01\",\"1970-10-01\",\"1970-11-01\",\"1970-12-01\",\"1971-01-01\",\"1971-02-01\",\"1971-03-01\",\"1971-04-01\",\"1971-05-01\",\"1971-06-01\",\"1971-07-01\",\"1971-08-01\",\"1971-09-01\",\"1971-10-01\",\"1971-11-01\",\"1971-12-01\",\"1972-01-01\",\"1972-02-01\",\"1972-03-01\",\"1972-04-01\",\"1972-05-01\",\"1972-06-01\",\"1972-07-01\",\"1972-08-01\",\"1972-09-01\",\"1972-10-01\",\"1972-11-01\",\"1972-12-01\",\"1973-01-01\",\"1973-02-01\",\"1973-03-01\",\"1973-04-01\",\"1973-05-01\",\"1973-06-01\",\"1973-07-01\",\"1973-08-01\",\"1973-09-01\",\"1973-10-01\",\"1973-11-01\",\"1973-12-01\",\"1974-01-01\",\"1974-02-01\",\"1974-03-01\",\"1974-04-01\",\"1974-05-01\",\"1974-06-01\",\"1974-07-01\",\"1974-08-01\",\"1974-09-01\",\"1974-10-01\",\"1974-11-01\",\"1974-12-01\",\"1975-01-01\",\"1975-02-01\",\"1975-03-01\",\"1975-04-01\",\"1975-05-01\",\"1975-06-01\",\"1975-07-01\",\"1975-08-01\",\"1975-09-01\",\"1975-10-01\",\"1975-11-01\",\"1975-12-01\",\"1976-01-01\",\"1976-02-01\",\"1976-03-01\",\"1976-04-01\",\"1976-05-01\",\"1976-06-01\",\"1976-07-01\",\"1976-08-01\",\"1976-09-01\",\"1976-10-01\",\"1976-11-01\",\"1976-12-01\",\"1977-01-01\",\"1977-02-01\",\"1977-03-01\",\"1977-04-01\",\"1977-05-01\",\"1977-06-01\",\"1977-07-01\",\"1977-08-01\",\"1977-09-01\",\"1977-10-01\",\"1977-11-01\",\"1977-12-01\",\"1978-01-01\",\"1978-02-01\",\"1978-03-01\",\"1978-04-01\",\"1978-05-01\",\"1978-06-01\",\"1978-07-01\",\"1978-08-01\",\"1978-09-01\",\"1978-10-01\",\"1978-11-01\",\"1978-12-01\",\"1979-01-01\",\"1979-02-01\",\"1979-03-01\",\"1979-04-01\",\"1979-05-01\",\"1979-06-01\",\"1979-07-01\",\"1979-08-01\",\"1979-09-01\",\"1979-10-01\",\"1979-11-01\",\"1979-12-01\",\"1980-01-01\",\"1980-02-01\",\"1980-03-01\",\"1980-04-01\",\"1980-05-01\",\"1980-06-01\",\"1980-07-01\",\"1980-08-01\",\"1980-09-01\",\"1980-10-01\",\"1980-11-01\",\"1980-12-01\",\"1981-01-01\",\"1981-02-01\",\"1981-03-01\",\"1981-04-01\",\"1981-05-01\",\"1981-06-01\",\"1981-07-01\",\"1981-08-01\",\"1981-09-01\",\"1981-10-01\",\"1981-11-01\",\"1981-12-01\",\"1982-01-01\",\"1982-02-01\",\"1982-03-01\",\"1982-04-01\",\"1982-05-01\",\"1982-06-01\",\"1982-07-01\",\"1982-08-01\",\"1982-09-01\",\"1982-10-01\",\"1982-11-01\",\"1982-12-01\",\"1983-01-01\",\"1983-02-01\",\"1983-03-01\",\"1983-04-01\",\"1983-05-01\",\"1983-06-01\",\"1983-07-01\",\"1983-08-01\",\"1983-09-01\",\"1983-10-01\",\"1983-11-01\",\"1983-12-01\",\"1984-01-01\",\"1984-02-01\",\"1984-03-01\",\"1984-04-01\",\"1984-05-01\",\"1984-06-01\",\"1984-07-01\",\"1984-08-01\",\"1984-09-01\",\"1984-10-01\",\"1984-11-01\",\"1984-12-01\",\"1985-01-01\",\"1985-02-01\",\"1985-03-01\",\"1985-04-01\",\"1985-05-01\",\"1985-06-01\",\"1985-07-01\",\"1985-08-01\",\"1985-09-01\",\"1985-10-01\",\"1985-11-01\",\"1985-12-01\",\"1986-01-01\",\"1986-02-01\",\"1986-03-01\",\"1986-04-01\",\"1986-05-01\",\"1986-06-01\",\"1986-07-01\",\"1986-08-01\",\"1986-09-01\",\"1986-10-01\",\"1986-11-01\",\"1986-12-01\",\"1987-01-01\",\"1987-02-01\",\"1987-03-01\",\"1987-04-01\",\"1987-05-01\",\"1987-06-01\",\"1987-07-01\",\"1987-08-01\",\"1987-09-01\",\"1987-10-01\",\"1987-11-01\",\"1987-12-01\",\"1988-01-01\",\"1988-02-01\",\"1988-03-01\",\"1988-04-01\",\"1988-05-01\",\"1988-06-01\",\"1988-07-01\",\"1988-08-01\",\"1988-09-01\",\"1988-10-01\",\"1988-11-01\",\"1988-12-01\",\"1989-01-01\",\"1989-02-01\",\"1989-03-01\",\"1989-04-01\",\"1989-05-01\",\"1989-06-01\",\"1989-07-01\",\"1989-08-01\",\"1989-09-01\",\"1989-10-01\",\"1989-11-01\",\"1989-12-01\",\"1990-01-01\",\"1990-02-01\",\"1990-03-01\",\"1990-04-01\",\"1990-05-01\",\"1990-06-01\",\"1990-07-01\",\"1990-08-01\",\"1990-09-01\",\"1990-10-01\",\"1990-11-01\",\"1990-12-01\",\"1991-01-01\",\"1991-02-01\",\"1991-03-01\",\"1991-04-01\",\"1991-05-01\",\"1991-06-01\",\"1991-07-01\",\"1991-08-01\",\"1991-09-01\",\"1991-10-01\",\"1991-11-01\",\"1991-12-01\",\"1992-01-01\",\"1992-02-01\",\"1992-03-01\",\"1992-04-01\",\"1992-05-01\",\"1992-06-01\",\"1992-07-01\",\"1992-08-01\",\"1992-09-01\",\"1992-10-01\",\"1992-11-01\",\"1992-12-01\",\"1993-01-01\",\"1993-02-01\",\"1993-03-01\",\"1993-04-01\",\"1993-05-01\",\"1993-06-01\",\"1993-07-01\",\"1993-08-01\",\"1993-09-01\",\"1993-10-01\",\"1993-11-01\",\"1993-12-01\",\"1994-01-01\",\"1994-02-01\",\"1994-03-01\",\"1994-04-01\",\"1994-05-01\",\"1994-06-01\",\"1994-07-01\",\"1994-08-01\",\"1994-09-01\",\"1994-10-01\",\"1994-11-01\",\"1994-12-01\",\"1995-01-01\",\"1995-02-01\",\"1995-03-01\",\"1995-04-01\",\"1995-05-01\",\"1995-06-01\",\"1995-07-01\",\"1995-08-01\",\"1995-09-01\",\"1995-10-01\",\"1995-11-01\",\"1995-12-01\",\"1996-01-01\",\"1996-02-01\",\"1996-03-01\",\"1996-04-01\",\"1996-05-01\",\"1996-06-01\",\"1996-07-01\",\"1996-08-01\",\"1996-09-01\",\"1996-10-01\",\"1996-11-01\",\"1996-12-01\",\"1997-01-01\",\"1997-02-01\",\"1997-03-01\",\"1997-04-01\",\"1997-05-01\",\"1997-06-01\",\"1997-07-01\",\"1997-08-01\",\"1997-09-01\",\"1997-10-01\",\"1997-11-01\",\"1997-12-01\",\"1998-01-01\",\"1998-02-01\",\"1998-03-01\",\"1998-04-01\",\"1998-05-01\",\"1998-06-01\",\"1998-07-01\",\"1998-08-01\",\"1998-09-01\",\"1998-10-01\",\"1998-11-01\",\"1998-12-01\",\"1999-01-01\",\"1999-02-01\",\"1999-03-01\",\"1999-04-01\",\"1999-05-01\",\"1999-06-01\",\"1999-07-01\",\"1999-08-01\",\"1999-09-01\",\"1999-10-01\",\"1999-11-01\",\"1999-12-01\",\"2000-01-01\",\"2000-02-01\",\"2000-03-01\",\"2000-04-01\",\"2000-05-01\",\"2000-06-01\",\"2000-07-01\",\"2000-08-01\",\"2000-09-01\",\"2000-10-01\",\"2000-11-01\",\"2000-12-01\",\"2001-01-01\",\"2001-02-01\",\"2001-03-01\",\"2001-04-01\",\"2001-05-01\",\"2001-06-01\",\"2001-07-01\",\"2001-08-01\",\"2001-09-01\",\"2001-10-01\",\"2001-11-01\",\"2001-12-01\",\"2002-01-01\",\"2002-02-01\",\"2002-03-01\",\"2002-04-01\",\"2002-05-01\",\"2002-06-01\",\"2002-07-01\",\"2002-08-01\",\"2002-09-01\",\"2002-10-01\",\"2002-11-01\",\"2002-12-01\",\"2003-01-01\",\"2003-02-01\",\"2003-03-01\",\"2003-04-01\",\"2003-05-01\",\"2003-06-01\",\"2003-07-01\",\"2003-08-01\",\"2003-09-01\",\"2003-10-01\",\"2003-11-01\",\"2003-12-01\",\"2004-01-01\",\"2004-02-01\",\"2004-03-01\",\"2004-04-01\",\"2004-05-01\",\"2004-06-01\",\"2004-07-01\",\"2004-08-01\",\"2004-09-01\",\"2004-10-01\",\"2004-11-01\",\"2004-12-01\",\"2005-01-01\",\"2005-02-01\",\"2005-03-01\",\"2005-04-01\",\"2005-05-01\",\"2005-06-01\",\"2005-07-01\",\"2005-08-01\",\"2005-09-01\",\"2005-10-01\",\"2005-11-01\",\"2005-12-01\",\"2006-01-01\",\"2006-02-01\",\"2006-03-01\",\"2006-04-01\",\"2006-05-01\",\"2006-06-01\",\"2006-07-01\",\"2006-08-01\",\"2006-09-01\",\"2006-10-01\",\"2006-11-01\",\"2006-12-01\",\"2007-01-01\",\"2007-02-01\",\"2007-03-01\",\"2007-04-01\",\"2007-05-01\",\"2007-06-01\",\"2007-07-01\",\"2007-08-01\",\"2007-09-01\",\"2007-10-01\",\"2007-11-01\",\"2007-12-01\",\"2008-01-01\",\"2008-02-01\",\"2008-03-01\",\"2008-04-01\",\"2008-05-01\",\"2008-06-01\",\"2008-07-01\",\"2008-08-01\",\"2008-09-01\",\"2008-10-01\",\"2008-11-01\",\"2008-12-01\",\"2009-01-01\",\"2009-02-01\",\"2009-03-01\",\"2009-04-01\",\"2009-05-01\",\"2009-06-01\",\"2009-07-01\",\"2009-08-01\",\"2009-09-01\",\"2009-10-01\",\"2009-11-01\",\"2009-12-01\",\"2010-01-01\",\"2010-02-01\",\"2010-03-01\",\"2010-04-01\",\"2010-05-01\",\"2010-06-01\",\"2010-07-01\",\"2010-08-01\",\"2010-09-01\",\"2010-10-01\",\"2010-11-01\",\"2010-12-01\",\"2011-01-01\",\"2011-02-01\",\"2011-03-01\",\"2011-04-01\",\"2011-05-01\",\"2011-06-01\",\"2011-07-01\",\"2011-08-01\",\"2011-09-01\",\"2011-10-01\",\"2011-11-01\",\"2011-12-01\",\"2012-01-01\",\"2012-02-01\",\"2012-03-01\",\"2012-04-01\",\"2012-05-01\",\"2012-06-01\",\"2012-07-01\",\"2012-08-01\",\"2012-09-01\",\"2012-10-01\",\"2012-11-01\",\"2012-12-01\",\"2013-01-01\",\"2013-02-01\",\"2013-03-01\",\"2013-04-01\",\"2013-05-01\",\"2013-06-01\",\"2013-07-01\",\"2013-08-01\",\"2013-09-01\",\"2013-10-01\",\"2013-11-01\",\"2013-12-01\",\"2014-01-01\",\"2014-02-01\",\"2014-03-01\",\"2014-04-01\",\"2014-05-01\",\"2014-06-01\",\"2014-07-01\",\"2014-08-01\",\"2014-09-01\",\"2014-10-01\",\"2014-11-01\",\"2014-12-01\",\"2015-01-01\",\"2015-02-01\",\"2015-03-01\",\"2015-04-01\",\"2015-05-01\",\"2015-06-01\",\"2015-07-01\",\"2015-08-01\",\"2015-09-01\",\"2015-10-01\",\"2015-11-01\",\"2015-12-01\",\"2016-01-01\",\"2016-02-01\",\"2016-03-01\",\"2016-04-01\",\"2016-05-01\",\"2016-06-01\",\"2016-07-01\",\"2016-08-01\",\"2016-09-01\",\"2016-10-01\",\"2016-11-01\",\"2016-12-01\",\"2017-01-01\",\"2017-02-01\",\"2017-03-01\",\"2017-04-01\",\"2017-05-01\",\"2017-06-01\",\"2017-07-01\",\"2017-08-01\",\"2017-09-01\",\"2017-10-01\",\"2017-11-01\",\"2017-12-01\",\"2018-01-01\",\"2018-02-01\",\"2018-03-01\",\"2018-04-01\",\"2018-05-01\",\"2018-06-01\",\"2018-07-01\",\"2018-08-01\",\"2018-09-01\",\"2018-10-01\",\"2018-11-01\",\"2018-12-01\",\"2019-01-01\",\"2019-02-01\",\"2019-03-01\",\"2019-04-01\",\"2019-05-01\",\"2019-06-01\",\"2019-07-01\",\"2019-08-01\",\"2019-09-01\",\"2019-10-01\",\"2019-11-01\",\"2019-12-01\",\"2020-01-01\",\"2020-02-01\",\"2020-03-01\",\"2020-04-01\",\"2020-05-01\",\"2020-06-01\",\"2020-07-01\",\"2020-08-01\",\"2020-09-01\",\"2020-10-01\",\"2020-11-01\",\"2020-12-01\",\"2021-01-01\",\"2021-02-01\",\"2021-03-01\",\"2021-04-01\",\"2021-05-01\",\"2021-06-01\",\"2021-07-01\",\"2021-08-01\",\"2021-09-01\",\"2021-10-01\",\"2021-11-01\",\"2021-12-01\",\"2022-01-01\",\"2022-02-01\",\"2022-03-01\",\"2022-04-01\",\"2022-05-01\",\"2022-06-01\",\"2022-07-01\",\"2022-08-01\",\"2022-09-01\",\"2022-10-01\",\"2022-11-01\",\"2022-12-01\"],\"y\":[null,null,null,null,null,null,-0.2272727272727305,-0.2272727272727305,-0.2272727272727305,-0.2272727272727305,0.30647985989492244,0.30647985989492244,0.30647985989492244,-0.04222972972972133,-0.7182087029995847,-0.7182087029995847,-0.7182087029995847,-0.7182087029995847,-0.7182087029995847,-0.7182087029995847,-0.28653295128939943,-0.28653295128939943,-0.6170300287947289,-0.6170300287947289,-0.6170300287947289,-0.6170300287947289,-0.6170300287947289,-0.6170300287947289,-0.4552980132450308,-0.41649312786339615,-0.9197324414715818,-0.9197324414715818,-0.9197324414715818,-0.9197324414715818,-0.9197324414715818,-0.9197324414715818,-0.42354934349850853,-0.42354934349850853,-0.42354934349850853,-0.42354934349850853,-0.42354934349850853,-0.42354934349850853,0.04230118443315571,0.04230118443315571,0.04230118443315571,0.4627681952040363,0.40816326530612823,0.40816326530612823,0.40816326530612823,0.40816326530612823,0.19357336430507438,0.15455950540959315,0.15455950540959315,-0.2308580223162706,-0.2308580223162706,-0.2308580223162706,-0.2308580223162706,-0.2308580223162706,-0.2308580223162706,-0.1929756850636847,-0.1929756850636847,-0.15122873345935406,-0.15122873345935406,-0.15122873345935406,-0.15122873345935406,-0.15122873345935406,-0.15122873345935406,-0.0757288905717515,-0.22480329711503286,-0.22480329711503286,-0.22480329711503286,-0.22480329711503286,-0.2620741295394994,-0.2620741295394994,-0.2620741295394994,-0.2620741295394994,-0.2620741295394994,-0.2620741295394994,-0.18768768768769034,0.03746721618582994,0.03746721618582994,0.03746721618582994,-0.37105751391464886,-0.37105751391464886,-0.37105751391464886,-0.37105751391464886,-0.37105751391464886,-0.37105751391464886,-0.259933160044561,-0.259933160044561,-0.29695619896066017,-0.29695619896066017,-0.29695619896066017,-0.335695635956732,-0.335695635956732,-0.335695635956732,-0.335695635956732,-0.335695635956732,-0.335695635956732,-0.11185682326622348,-0.11185682326622348,-0.22413149047440686,-0.22413149047440686,-0.22413149047440686,-0.22413149047440686,-0.22413149047440686,-0.22413149047440686,-0.14947683109119095,-0.14947683109119095,-0.14886490509863304,-0.14886490509863304,-0.14886490509863304,-0.14886490509863304,-0.14886490509863304,0.1116902457185448,0.07328691828508455,0.07328691828508455,0.07328691828508455,0.0,0.0,0.0,0.0,0.0,0.0,0.14477017734347702,0.14477017734347702,0.21582733812949179,0.21582733812949179,0.14144271570013842,0.0,0.0,0.0,0.0,0.0,0.0,0.20949720670390615,0.0,-0.10366275051831768,-0.10366275051831768,-0.10366275051831768,-0.10366275051831768,-0.10366275051831768,-0.10366275051831768,-0.10366275051831768,-0.10366275051831768,-0.10366275051831768,-0.10344827586207289,-0.10344827586207289,-0.10344827586207289,-0.10344827586207289,-0.10344827586207289,-0.10344827586207289,0.03451846738005372,0.10291595197255965,0.0,0.0,-0.13600816048962647,-0.13600816048962647,-0.13600816048962647,-0.13600816048962647,-0.13600816048962647,-0.13600816048962647,-0.20263424518743237,-0.20263424518743237,-0.20263424518743237,-0.20263424518743237,-0.20263424518743237,-0.20263424518743237,0.0,0.0,0.0,-0.10053619302949443,-0.10053619302949443,-0.10053619302949443,-0.10053619302949443,-0.10053619302949443,-0.10053619302949443,0.0,0.0,0.0,0.0,0.0,0.0,0.0,0.09930486593842298,-0.09920634920634122,-0.09920634920634122,-0.09920634920634122,-0.09920634920634122,-0.13149243918475575,-0.13149243918475575,-0.13149243918475575,-0.13149243918475575,-0.13149243918475575,-0.13149243918475575,-0.09832841691249142,-0.09832841691249142,-0.09832841691249142,-0.09832841691249142,-0.09832841691249142,-0.09832841691249142,-0.09756097560975979,-0.09756097560975979,-0.09756097560975979,-0.09756097560975979,-0.09756097560975979,-0.09696186166774769,-0.09696186166774769,-0.09696186166774769,-0.09696186166774769,-0.09696186166774769,0.03224766204449536,0.03224766204449536,0.03224766204449536,0.03224766204449536,0.03224766204449536,0.09600000000000364,0.0,0.0,0.0,0.0,0.0,-0.09490667510281917,-0.09499683343887773,-0.09499683343887773,-0.09499683343887773,-0.09499683343887773,-0.09499683343887773,-0.09499683343887773,0.09419152276294374,0.09419152276294374,0.09419152276294374,0.09419152276294374,0.09273570324575311,0.09273570324575311,0.09273570324575311,0.09273570324575311,0.09273570324575311,0.09132420091324546,0.09132420091324546,-0.06075334143378835,-0.06075334143378835,-0.06075334143378835,-0.06075334143378835,-0.06075334143378835,-0.06075334143378835,0.0,0.0,0.0,0.0,0.29761904761905184,0.29498525073746734,0.2941176470588277,0.29325513196481356,0.29239766081869684,0.29154518950437736,0.29069767441860883,0.29069767441860883,0.29069767441860883,0.28653295128940237,0.2857142857142898,0.2857142857142898,0.28328611898017403,0.28328611898017403,0.28089887640449834,0.2801120448179112,0.2801120448179112,0.2801120448179112,0.2754820936639158,0.2754820936639158,0.2754820936639158,0.2717391304347865,0.2717391304347865,0.2717391304347865,0.2717391304347865,0.2717391304347865,0.2717391304347865,0.5277044854881342,0.5249343832020885,0.5221932114882581,0.25974025974026343,0.25974025974026343,0.2577319587628903,0.25706940874036355,0.25706940874036355,0.25706940874036355,0.25706940874036355,0.25706940874036355,0.25125628140703876,0.0,0.0,0.0,0.0,0.0,0.0,0.2463054187192153,0.24570024570023172,0.2450980392156898,0.24449877750611593,0.2439024390243937,0.24330900243309345,0.24330900243309345,0.0,0.0,0.0,0.0,0.0,0.0,0.23923444976076896,0.23752969121140477,0.23752969121140477,0.23584905660377695,0.23584905660377695,0.23584905660377695,0.23584905660377695,0.23584905660377695,0.23584905660377695,0.4576659038901504,0.0,0.0,0.0,0.0,0.0,0.0,0.44444444444445075,0.44444444444445075,0.657894736842099,0.6276150627615152,0.6276150627615152,0.6276150627615152,0.6122448979591778,0.6122448979591778,0.6122448979591778,0.6122448979591778,0.6122448979591778,0.6122448979591778,0.7707129094412304,0.5736137667304098,0.38022813688212115,0.37878787878788417,0.18867924528302155,0.18867924528302155,0.18867924528302155,0.18867924528302155,0.18867924528302155,0.18867924528302155,0.3703703703703756,0.3703703703703756,0.35971223021581966,0.17921146953405273,0.1788908765652977,0.1785714285714311,0.1785714285714311,0.1785714285714311,0.1785714285714311,0.1785714285714311,0.1785714285714311,0.5208333333333284,0.3454231433506094,0.3454231433506094,0.3454231433506094,0.3454231433506094,0.3454231433506094,0.3454231433506094,0.3333333333333381,0.3333333333333381,0.3333333333333381,0.3333333333333381,0.3273322422258523,0.3273322422258523,0.3273322422258523,0.3273322422258523,0.3273322422258523,0.3273322422258523,0.47846889952152655,0.47846889952152655,0.47846889952152655,0.47846889952152655,0.47846889952152655,0.610687022900772,0.610687022900772,0.610687022900772,0.5961251862891292,0.592592592592601,0.592592592592601,0.592592592592601,0.592592592592601,0.592592592592601,0.592592592592601,0.8836524300441742,1.0014306151645045,0.9589041095890449,0.9497964721845357,0.9497964721845357,0.9497964721845357,0.9497964721845357,0.9497964721845357,0.9497964721845357,1.0638297872340388,0.9987515605493276,0.9888751545117394,0.9791921664626647,0.12121212121211432,0.12121212121211432,0.12121212121211432,0.12121212121211432,0.12121212121211432,0.12121212121211432,0.726392251815991,0.8413461538461573,0.6818181818181753,0.5643340857787811,0.5643340857787811,0.5643340857787811,0.5643340857787811,0.5643340857787811,0.5643340857787811,0.3222341568206352,0.3222341568206352,0.3198294243070332,0.3188097768331683,0.3177966101694885,0.0,0.0,0.0,0.0,0.0,0.0,0.0,0.0,-0.10193679918449983,-0.3061224489795889,-0.3061224489795889,-0.3061224489795889,-0.3061224489795889,-0.3061224489795889,-0.3061224489795889,0.10204081632652481,0.10204081632652481,0.10204081632652481,0.2016129032258093,0.2016129032258093,0.2016129032258093,0.29673590504452163,0.29673590504452163,0.29673590504452163,0.29239766081872454,0.29239766081872454,0.19361084220716637,0.19323671497584816,0.19323671497584816,0.19323671497584816,0.19323671497584816,0.19323671497584816,0.19029495718363734,0.1899335232668593,0.18957345971564252,0.18957345971564252,0.18957345971564252,0.18726591760299893,0.18691588785046995,0.18691588785046995,0.1860465116279096,0.18570102135562008,0.18535681186282543,0.18535681186282543,0.18535681186282543,0.18535681186282543,0.18535681186282543,-0.18198362147406993,-0.5469462169553405,-0.5469462169553405,-0.5469462169553405,-0.5469462169553405,-0.5469462169553405,-0.5469462169553405,-0.36663611365718746,0.09132420091323681,0.09132420091323681,0.09132420091323681,0.09132420091323681,0.18148820326679024,0.18148820326679024,0.18148820326679024,0.2661934338952947,0.2661934338952947,0.2643171806167376,0.2643171806167376,0.2643171806167376,0.26155187445509775,0.26155187445509775,0.17331022530328305,0.17331022530328305,0.17241379310345073,0.17241379310345073,0.17241379310345073,0.17241379310345073,0.17241379310345073,0.17241379310345073,0.2559726962457314,0.2559726962457314,0.2559726962457314,0.3336113427856476,0.3325020781379931,0.3325020781379931,0.33003300330032304,0.33003300330032304,0.33003300330032304,0.33003300330032304,0.3233629749393625,0.3223207091055646,0.0,0.0,0.0,0.0,0.0,0.0,0.24096385542168447,0.31771247021444915,0.2332814930015641,0.15515903801395547,0.15515903801395547,0.15515903801395547,0.15515903801395547,0.15515903801395547,0.15515903801395547,0.22488755622187626,0.22488755622187626,0.22488755622187626,0.07423904974018021,0.0,0.0,0.0,0.0,0.0,0.0,0.14705882352940342,0.14598540145984573,0.14598540145984573,0.14598540145984573,0.07235890014473427,0.07235890014473427,0.07235890014473427,0.07235890014473427,0.07235890014473427,0.07235890014473427,0.21520803443327327,0.21352313167260595,0.2130681818181697,0.2130681818181697,0.2130681818181697,0.14074595355384734,0.14074595355384734,0.14074595355384734,0.13976240391335923,0.13976240391335923,0.13976240391335923,0.06934812760057056,0.06934812760057056,0.06934812760057056,0.06934812760057056,0.06934812760057056,0.06934812760057056,0.13812154696131812,0.0,0.0,0.0,0.0,0.0,0.0,0.06798096532970382,0.06798096532970382,0.06798096532970382,0.06697923643670081,0.06697923643670081,0.06697923643670081,0.06697923643670081,0.06697923643670081,0.06697923643670081,0.1988071570576428,0.19762845849801247,0.1972386587771278,0.13123359580051747,0.13123359580051747,0.1308044473512025,0.1308044473512025,0.1302931596091131,0.13012361743657586,0.13012361743657586,0.13012361743657586,0.13012361743657586,0.13012361743657586,0.13012361743657586,0.1918158567774827,0.19144862795150694,0.1273885350318399,0.1273885350318399,0.1273885350318399,0.1273885350318399,0.1273885350318399,0.1273885350318399,0.188205771643653,0.06261740763933797,0.06257822277846953,0.0,0.0,0.0,0.0,0.0,0.0,0.12383900928791866,0.061842918985790196,0.061842918985790196,0.0,0.0,0.0,0.0,0.0,0.0,0.0,0.06119951040391328,0.06119951040391328,0.06119951040391328,0.06119951040391328,0.06119951040391328,0.0,0.0,0.0,0.0,0.0,0.0,0.0,0.0,0.0,0.0,0.17846519928614596,0.17846519928614596,0.17846519928614596,0.17846519928614596,-0.05847953216373936,-0.05847953216373936,-0.05847953216373936,-0.05847953216373936,-0.05847953216373936,-0.05847953216373936,0.0,0.0,0.0,0.0,0.17251293847037547,0.05681818181817858,0.05681818181817858,0.05681818181817858,0.05681818181817858,-0.16882386043893244,-0.16882386043893244,-0.16882386043893244,-0.2807411566535654,-0.2807411566535654,-0.2807411566535654,-0.2807411566535654,-0.2807411566535654,-0.2807411566535654,-0.05633802816901088,-0.05633802816901088,0.05571030640668207,0.05571030640668207,0.05571030640668207,0.05571030640668207,0.05571030640668207,0.05571030640668207,0.16528925619835336,0.16528925619835336,0.16528925619835336,0.16339869281046374,-0.38064165307233117,-0.38064165307233117,-0.38064165307233117,-0.38064165307233117,-0.38064165307233117,-0.38064165307233117,-0.16375545851527457,-0.10804970286331099,-0.10804970286331099,-0.10804970286331099,-0.10804970286331099,-0.10804970286331099,0.05408328826392337,0.16034206306788423,0.16034206306788423,0.1058761249338214,0.05288207297725771,0.05288207297725771,0.05288207297725771,0.05288207297725771,0.0,-0.0521648408972323,-0.0521648408972323,-0.0521648408972323,-0.0521648408972323,-0.0521648408972323,-0.0521648408972323,-0.051626226122867484,-0.051626226122867484,-0.051626226122867484,-0.051626226122867484,-0.5022601707684581,-0.5022601707684581,-0.5022601707684581,-0.5022601707684581,-0.5022601707684581,-0.5022601707684581,0.0,0.05017561465127662,0.05017561465127662,0.150451354062178,-0.4906771344455348,-0.4906771344455348,-0.4906771344455348,-0.4906771344455348,-0.4906771344455348,-0.4906771344455348,-0.4437869822485235,0.04952947003466781,0.16592811422945225,0.16592811422945225,0.17805958481716308,0.030828070885292092,0.030828070885292092,0.030828070885292092,0.030828070885292092,0.030828070885292092,0.030828070885292092,0.24178268779398285,0.24178268779398285,0.23143810202016407,0.23143810202016407,0.23143810202016407,0.23143810202016407,-0.14884757278006785,-0.14884757278006785,-0.8598436564828671,-1.7705477084725516,-1.7705477084725516,-1.7705477084725516,-1.7705477084725516,-1.7705477084725516,-1.7705477084725516,-0.8233522399403224,-0.09872828565384356,-0.09872828565384356,-0.09872828565384356,-0.029796545463007102,-0.029796545463007102,-0.029796545463007102,-0.029796545463007102,0.05201763996427794,-0.09517766497461637,-0.09517766497461637,-0.09517766497461637,-0.09517766497461637,-0.09517766497461637,-0.09517766497461637,-0.05197720362644469,-0.05197720362644469,-0.05197720362644469,-0.04187951585437884,0.1461363479699511,0.1461363479699511,0.1615249422961339,0.25338416234848626,0.25338416234848626,0.3181714734507648,0.0,0.0,0.0,0.0,0.0,0.0,0.02377084901549157,0.02377084901549157,0.02377084901549157,0.02377084901549157,0.02377084901549157,-0.20681801323810597,-0.20681801323810597,-0.20681801323810597,-0.20681801323810597,-0.20681801323810597,-0.20681801323810597,-0.16793444944266916,-0.16793444944266916,-0.16793444944266916,-0.16793444944266916,-0.28119191025899753,-0.28119191025899753,-0.28119191025899753,-0.28119191025899753,-0.28119191025899753,-0.28119191025899753,-0.2087979266581197,0.0376944691933479,0.0376944691933479,0.0376944691933479,0.0376944691933479,0.0376944691933479,0.05352310485390333,0.11007786202440674,0.11007786202440674,0.11007786202440674,0.11007786202440674,-0.01600013473796937,-0.01600013473796937,-0.019791390324114352,-0.18826601524660014,-0.30846094445592914,-0.6370316441765553,-0.6370316441765553,-0.6370316441765553,-0.6370316441765553,-0.6370316441765553,-0.6370316441765553,0.1042478896158971,-0.0004201080517929266,-0.2247587519377551,-0.2247587519377551,-0.2247587519377551,-0.2247587519377551,-0.2247587519377551,-0.2247587519377551,-0.1329675323582272,-0.1329675323582272,-0.1329675323582272,-0.1329675323582272,-0.1329675323582272,-0.05037007434789874,-0.05037007434789874,-0.05037007434789874,-0.05037007434789874,-0.05037007434789874,0.11789477167712409,0.11789477167712409,-0.046720162618953766,-0.046720162618953766,-0.07739779600562725,-0.07739779600562725,-0.07739779600562725,-0.07739779600562725,-0.07739779600562725,-0.07739779600562725,0.03276499715353435,0.03276499715353435,0.07750522450139083,0.07750522450139083,0.05692774586171205,0.05692774586171205,0.05692774586171205,0.05692774586171205,0.05692774586171205,0.05692774586171205,0.0816349285993089,0.0816349285993089,-0.08107188901455502,-0.08107188901455502,-0.08107188901455502,-0.08107188901455502,-0.08107188901455502,-0.08107188901455502,-0.041954111700852524,-0.03207272986445861,0.014099676882405314,0.014099676882405314,0.014099676882405314,0.014099676882405314,0.014099676882405314,0.10902696365766626,0.10902696365766626,0.12563688234975323,-0.32508773894141263,-0.8022001433192052,-0.8022001433192052,-0.8022001433192052,-0.8022001433192052,-0.8022001433192052,-0.8022001433192052,-0.058572243004523995,0.06226219301278978,0.06226219301278978,0.06226219301278978,0.06226219301278978,0.06226219301278978,0.14173119469027634,0.24315272743954336,0.24315272743954336,0.43707093821510873,0.33359786027097793,0.33359786027097793,0.33359786027097793,0.33359786027097793,0.33359786027097793,0.33359786027097793,0.41085055585663954,null,null,null,null,null,null,null,null,null,null],\"type\":\"scatter\"},{\"fill\":\"tonexty\",\"line\":{\"color\":\"#bf9fa2\",\"width\":1},\"mode\":\"lines\",\"name\":\"6 Month Rolling High\",\"x\":[\"1947-01-01\",\"1947-02-01\",\"1947-03-01\",\"1947-04-01\",\"1947-05-01\",\"1947-06-01\",\"1947-07-01\",\"1947-08-01\",\"1947-09-01\",\"1947-10-01\",\"1947-11-01\",\"1947-12-01\",\"1948-01-01\",\"1948-02-01\",\"1948-03-01\",\"1948-04-01\",\"1948-05-01\",\"1948-06-01\",\"1948-07-01\",\"1948-08-01\",\"1948-09-01\",\"1948-10-01\",\"1948-11-01\",\"1948-12-01\",\"1949-01-01\",\"1949-02-01\",\"1949-03-01\",\"1949-04-01\",\"1949-05-01\",\"1949-06-01\",\"1949-07-01\",\"1949-08-01\",\"1949-09-01\",\"1949-10-01\",\"1949-11-01\",\"1949-12-01\",\"1950-01-01\",\"1950-02-01\",\"1950-03-01\",\"1950-04-01\",\"1950-05-01\",\"1950-06-01\",\"1950-07-01\",\"1950-08-01\",\"1950-09-01\",\"1950-10-01\",\"1950-11-01\",\"1950-12-01\",\"1951-01-01\",\"1951-02-01\",\"1951-03-01\",\"1951-04-01\",\"1951-05-01\",\"1951-06-01\",\"1951-07-01\",\"1951-08-01\",\"1951-09-01\",\"1951-10-01\",\"1951-11-01\",\"1951-12-01\",\"1952-01-01\",\"1952-02-01\",\"1952-03-01\",\"1952-04-01\",\"1952-05-01\",\"1952-06-01\",\"1952-07-01\",\"1952-08-01\",\"1952-09-01\",\"1952-10-01\",\"1952-11-01\",\"1952-12-01\",\"1953-01-01\",\"1953-02-01\",\"1953-03-01\",\"1953-04-01\",\"1953-05-01\",\"1953-06-01\",\"1953-07-01\",\"1953-08-01\",\"1953-09-01\",\"1953-10-01\",\"1953-11-01\",\"1953-12-01\",\"1954-01-01\",\"1954-02-01\",\"1954-03-01\",\"1954-04-01\",\"1954-05-01\",\"1954-06-01\",\"1954-07-01\",\"1954-08-01\",\"1954-09-01\",\"1954-10-01\",\"1954-11-01\",\"1954-12-01\",\"1955-01-01\",\"1955-02-01\",\"1955-03-01\",\"1955-04-01\",\"1955-05-01\",\"1955-06-01\",\"1955-07-01\",\"1955-08-01\",\"1955-09-01\",\"1955-10-01\",\"1955-11-01\",\"1955-12-01\",\"1956-01-01\",\"1956-02-01\",\"1956-03-01\",\"1956-04-01\",\"1956-05-01\",\"1956-06-01\",\"1956-07-01\",\"1956-08-01\",\"1956-09-01\",\"1956-10-01\",\"1956-11-01\",\"1956-12-01\",\"1957-01-01\",\"1957-02-01\",\"1957-03-01\",\"1957-04-01\",\"1957-05-01\",\"1957-06-01\",\"1957-07-01\",\"1957-08-01\",\"1957-09-01\",\"1957-10-01\",\"1957-11-01\",\"1957-12-01\",\"1958-01-01\",\"1958-02-01\",\"1958-03-01\",\"1958-04-01\",\"1958-05-01\",\"1958-06-01\",\"1958-07-01\",\"1958-08-01\",\"1958-09-01\",\"1958-10-01\",\"1958-11-01\",\"1958-12-01\",\"1959-01-01\",\"1959-02-01\",\"1959-03-01\",\"1959-04-01\",\"1959-05-01\",\"1959-06-01\",\"1959-07-01\",\"1959-08-01\",\"1959-09-01\",\"1959-10-01\",\"1959-11-01\",\"1959-12-01\",\"1960-01-01\",\"1960-02-01\",\"1960-03-01\",\"1960-04-01\",\"1960-05-01\",\"1960-06-01\",\"1960-07-01\",\"1960-08-01\",\"1960-09-01\",\"1960-10-01\",\"1960-11-01\",\"1960-12-01\",\"1961-01-01\",\"1961-02-01\",\"1961-03-01\",\"1961-04-01\",\"1961-05-01\",\"1961-06-01\",\"1961-07-01\",\"1961-08-01\",\"1961-09-01\",\"1961-10-01\",\"1961-11-01\",\"1961-12-01\",\"1962-01-01\",\"1962-02-01\",\"1962-03-01\",\"1962-04-01\",\"1962-05-01\",\"1962-06-01\",\"1962-07-01\",\"1962-08-01\",\"1962-09-01\",\"1962-10-01\",\"1962-11-01\",\"1962-12-01\",\"1963-01-01\",\"1963-02-01\",\"1963-03-01\",\"1963-04-01\",\"1963-05-01\",\"1963-06-01\",\"1963-07-01\",\"1963-08-01\",\"1963-09-01\",\"1963-10-01\",\"1963-11-01\",\"1963-12-01\",\"1964-01-01\",\"1964-02-01\",\"1964-03-01\",\"1964-04-01\",\"1964-05-01\",\"1964-06-01\",\"1964-07-01\",\"1964-08-01\",\"1964-09-01\",\"1964-10-01\",\"1964-11-01\",\"1964-12-01\",\"1965-01-01\",\"1965-02-01\",\"1965-03-01\",\"1965-04-01\",\"1965-05-01\",\"1965-06-01\",\"1965-07-01\",\"1965-08-01\",\"1965-09-01\",\"1965-10-01\",\"1965-11-01\",\"1965-12-01\",\"1966-01-01\",\"1966-02-01\",\"1966-03-01\",\"1966-04-01\",\"1966-05-01\",\"1966-06-01\",\"1966-07-01\",\"1966-08-01\",\"1966-09-01\",\"1966-10-01\",\"1966-11-01\",\"1966-12-01\",\"1967-01-01\",\"1967-02-01\",\"1967-03-01\",\"1967-04-01\",\"1967-05-01\",\"1967-06-01\",\"1967-07-01\",\"1967-08-01\",\"1967-09-01\",\"1967-10-01\",\"1967-11-01\",\"1967-12-01\",\"1968-01-01\",\"1968-02-01\",\"1968-03-01\",\"1968-04-01\",\"1968-05-01\",\"1968-06-01\",\"1968-07-01\",\"1968-08-01\",\"1968-09-01\",\"1968-10-01\",\"1968-11-01\",\"1968-12-01\",\"1969-01-01\",\"1969-02-01\",\"1969-03-01\",\"1969-04-01\",\"1969-05-01\",\"1969-06-01\",\"1969-07-01\",\"1969-08-01\",\"1969-09-01\",\"1969-10-01\",\"1969-11-01\",\"1969-12-01\",\"1970-01-01\",\"1970-02-01\",\"1970-03-01\",\"1970-04-01\",\"1970-05-01\",\"1970-06-01\",\"1970-07-01\",\"1970-08-01\",\"1970-09-01\",\"1970-10-01\",\"1970-11-01\",\"1970-12-01\",\"1971-01-01\",\"1971-02-01\",\"1971-03-01\",\"1971-04-01\",\"1971-05-01\",\"1971-06-01\",\"1971-07-01\",\"1971-08-01\",\"1971-09-01\",\"1971-10-01\",\"1971-11-01\",\"1971-12-01\",\"1972-01-01\",\"1972-02-01\",\"1972-03-01\",\"1972-04-01\",\"1972-05-01\",\"1972-06-01\",\"1972-07-01\",\"1972-08-01\",\"1972-09-01\",\"1972-10-01\",\"1972-11-01\",\"1972-12-01\",\"1973-01-01\",\"1973-02-01\",\"1973-03-01\",\"1973-04-01\",\"1973-05-01\",\"1973-06-01\",\"1973-07-01\",\"1973-08-01\",\"1973-09-01\",\"1973-10-01\",\"1973-11-01\",\"1973-12-01\",\"1974-01-01\",\"1974-02-01\",\"1974-03-01\",\"1974-04-01\",\"1974-05-01\",\"1974-06-01\",\"1974-07-01\",\"1974-08-01\",\"1974-09-01\",\"1974-10-01\",\"1974-11-01\",\"1974-12-01\",\"1975-01-01\",\"1975-02-01\",\"1975-03-01\",\"1975-04-01\",\"1975-05-01\",\"1975-06-01\",\"1975-07-01\",\"1975-08-01\",\"1975-09-01\",\"1975-10-01\",\"1975-11-01\",\"1975-12-01\",\"1976-01-01\",\"1976-02-01\",\"1976-03-01\",\"1976-04-01\",\"1976-05-01\",\"1976-06-01\",\"1976-07-01\",\"1976-08-01\",\"1976-09-01\",\"1976-10-01\",\"1976-11-01\",\"1976-12-01\",\"1977-01-01\",\"1977-02-01\",\"1977-03-01\",\"1977-04-01\",\"1977-05-01\",\"1977-06-01\",\"1977-07-01\",\"1977-08-01\",\"1977-09-01\",\"1977-10-01\",\"1977-11-01\",\"1977-12-01\",\"1978-01-01\",\"1978-02-01\",\"1978-03-01\",\"1978-04-01\",\"1978-05-01\",\"1978-06-01\",\"1978-07-01\",\"1978-08-01\",\"1978-09-01\",\"1978-10-01\",\"1978-11-01\",\"1978-12-01\",\"1979-01-01\",\"1979-02-01\",\"1979-03-01\",\"1979-04-01\",\"1979-05-01\",\"1979-06-01\",\"1979-07-01\",\"1979-08-01\",\"1979-09-01\",\"1979-10-01\",\"1979-11-01\",\"1979-12-01\",\"1980-01-01\",\"1980-02-01\",\"1980-03-01\",\"1980-04-01\",\"1980-05-01\",\"1980-06-01\",\"1980-07-01\",\"1980-08-01\",\"1980-09-01\",\"1980-10-01\",\"1980-11-01\",\"1980-12-01\",\"1981-01-01\",\"1981-02-01\",\"1981-03-01\",\"1981-04-01\",\"1981-05-01\",\"1981-06-01\",\"1981-07-01\",\"1981-08-01\",\"1981-09-01\",\"1981-10-01\",\"1981-11-01\",\"1981-12-01\",\"1982-01-01\",\"1982-02-01\",\"1982-03-01\",\"1982-04-01\",\"1982-05-01\",\"1982-06-01\",\"1982-07-01\",\"1982-08-01\",\"1982-09-01\",\"1982-10-01\",\"1982-11-01\",\"1982-12-01\",\"1983-01-01\",\"1983-02-01\",\"1983-03-01\",\"1983-04-01\",\"1983-05-01\",\"1983-06-01\",\"1983-07-01\",\"1983-08-01\",\"1983-09-01\",\"1983-10-01\",\"1983-11-01\",\"1983-12-01\",\"1984-01-01\",\"1984-02-01\",\"1984-03-01\",\"1984-04-01\",\"1984-05-01\",\"1984-06-01\",\"1984-07-01\",\"1984-08-01\",\"1984-09-01\",\"1984-10-01\",\"1984-11-01\",\"1984-12-01\",\"1985-01-01\",\"1985-02-01\",\"1985-03-01\",\"1985-04-01\",\"1985-05-01\",\"1985-06-01\",\"1985-07-01\",\"1985-08-01\",\"1985-09-01\",\"1985-10-01\",\"1985-11-01\",\"1985-12-01\",\"1986-01-01\",\"1986-02-01\",\"1986-03-01\",\"1986-04-01\",\"1986-05-01\",\"1986-06-01\",\"1986-07-01\",\"1986-08-01\",\"1986-09-01\",\"1986-10-01\",\"1986-11-01\",\"1986-12-01\",\"1987-01-01\",\"1987-02-01\",\"1987-03-01\",\"1987-04-01\",\"1987-05-01\",\"1987-06-01\",\"1987-07-01\",\"1987-08-01\",\"1987-09-01\",\"1987-10-01\",\"1987-11-01\",\"1987-12-01\",\"1988-01-01\",\"1988-02-01\",\"1988-03-01\",\"1988-04-01\",\"1988-05-01\",\"1988-06-01\",\"1988-07-01\",\"1988-08-01\",\"1988-09-01\",\"1988-10-01\",\"1988-11-01\",\"1988-12-01\",\"1989-01-01\",\"1989-02-01\",\"1989-03-01\",\"1989-04-01\",\"1989-05-01\",\"1989-06-01\",\"1989-07-01\",\"1989-08-01\",\"1989-09-01\",\"1989-10-01\",\"1989-11-01\",\"1989-12-01\",\"1990-01-01\",\"1990-02-01\",\"1990-03-01\",\"1990-04-01\",\"1990-05-01\",\"1990-06-01\",\"1990-07-01\",\"1990-08-01\",\"1990-09-01\",\"1990-10-01\",\"1990-11-01\",\"1990-12-01\",\"1991-01-01\",\"1991-02-01\",\"1991-03-01\",\"1991-04-01\",\"1991-05-01\",\"1991-06-01\",\"1991-07-01\",\"1991-08-01\",\"1991-09-01\",\"1991-10-01\",\"1991-11-01\",\"1991-12-01\",\"1992-01-01\",\"1992-02-01\",\"1992-03-01\",\"1992-04-01\",\"1992-05-01\",\"1992-06-01\",\"1992-07-01\",\"1992-08-01\",\"1992-09-01\",\"1992-10-01\",\"1992-11-01\",\"1992-12-01\",\"1993-01-01\",\"1993-02-01\",\"1993-03-01\",\"1993-04-01\",\"1993-05-01\",\"1993-06-01\",\"1993-07-01\",\"1993-08-01\",\"1993-09-01\",\"1993-10-01\",\"1993-11-01\",\"1993-12-01\",\"1994-01-01\",\"1994-02-01\",\"1994-03-01\",\"1994-04-01\",\"1994-05-01\",\"1994-06-01\",\"1994-07-01\",\"1994-08-01\",\"1994-09-01\",\"1994-10-01\",\"1994-11-01\",\"1994-12-01\",\"1995-01-01\",\"1995-02-01\",\"1995-03-01\",\"1995-04-01\",\"1995-05-01\",\"1995-06-01\",\"1995-07-01\",\"1995-08-01\",\"1995-09-01\",\"1995-10-01\",\"1995-11-01\",\"1995-12-01\",\"1996-01-01\",\"1996-02-01\",\"1996-03-01\",\"1996-04-01\",\"1996-05-01\",\"1996-06-01\",\"1996-07-01\",\"1996-08-01\",\"1996-09-01\",\"1996-10-01\",\"1996-11-01\",\"1996-12-01\",\"1997-01-01\",\"1997-02-01\",\"1997-03-01\",\"1997-04-01\",\"1997-05-01\",\"1997-06-01\",\"1997-07-01\",\"1997-08-01\",\"1997-09-01\",\"1997-10-01\",\"1997-11-01\",\"1997-12-01\",\"1998-01-01\",\"1998-02-01\",\"1998-03-01\",\"1998-04-01\",\"1998-05-01\",\"1998-06-01\",\"1998-07-01\",\"1998-08-01\",\"1998-09-01\",\"1998-10-01\",\"1998-11-01\",\"1998-12-01\",\"1999-01-01\",\"1999-02-01\",\"1999-03-01\",\"1999-04-01\",\"1999-05-01\",\"1999-06-01\",\"1999-07-01\",\"1999-08-01\",\"1999-09-01\",\"1999-10-01\",\"1999-11-01\",\"1999-12-01\",\"2000-01-01\",\"2000-02-01\",\"2000-03-01\",\"2000-04-01\",\"2000-05-01\",\"2000-06-01\",\"2000-07-01\",\"2000-08-01\",\"2000-09-01\",\"2000-10-01\",\"2000-11-01\",\"2000-12-01\",\"2001-01-01\",\"2001-02-01\",\"2001-03-01\",\"2001-04-01\",\"2001-05-01\",\"2001-06-01\",\"2001-07-01\",\"2001-08-01\",\"2001-09-01\",\"2001-10-01\",\"2001-11-01\",\"2001-12-01\",\"2002-01-01\",\"2002-02-01\",\"2002-03-01\",\"2002-04-01\",\"2002-05-01\",\"2002-06-01\",\"2002-07-01\",\"2002-08-01\",\"2002-09-01\",\"2002-10-01\",\"2002-11-01\",\"2002-12-01\",\"2003-01-01\",\"2003-02-01\",\"2003-03-01\",\"2003-04-01\",\"2003-05-01\",\"2003-06-01\",\"2003-07-01\",\"2003-08-01\",\"2003-09-01\",\"2003-10-01\",\"2003-11-01\",\"2003-12-01\",\"2004-01-01\",\"2004-02-01\",\"2004-03-01\",\"2004-04-01\",\"2004-05-01\",\"2004-06-01\",\"2004-07-01\",\"2004-08-01\",\"2004-09-01\",\"2004-10-01\",\"2004-11-01\",\"2004-12-01\",\"2005-01-01\",\"2005-02-01\",\"2005-03-01\",\"2005-04-01\",\"2005-05-01\",\"2005-06-01\",\"2005-07-01\",\"2005-08-01\",\"2005-09-01\",\"2005-10-01\",\"2005-11-01\",\"2005-12-01\",\"2006-01-01\",\"2006-02-01\",\"2006-03-01\",\"2006-04-01\",\"2006-05-01\",\"2006-06-01\",\"2006-07-01\",\"2006-08-01\",\"2006-09-01\",\"2006-10-01\",\"2006-11-01\",\"2006-12-01\",\"2007-01-01\",\"2007-02-01\",\"2007-03-01\",\"2007-04-01\",\"2007-05-01\",\"2007-06-01\",\"2007-07-01\",\"2007-08-01\",\"2007-09-01\",\"2007-10-01\",\"2007-11-01\",\"2007-12-01\",\"2008-01-01\",\"2008-02-01\",\"2008-03-01\",\"2008-04-01\",\"2008-05-01\",\"2008-06-01\",\"2008-07-01\",\"2008-08-01\",\"2008-09-01\",\"2008-10-01\",\"2008-11-01\",\"2008-12-01\",\"2009-01-01\",\"2009-02-01\",\"2009-03-01\",\"2009-04-01\",\"2009-05-01\",\"2009-06-01\",\"2009-07-01\",\"2009-08-01\",\"2009-09-01\",\"2009-10-01\",\"2009-11-01\",\"2009-12-01\",\"2010-01-01\",\"2010-02-01\",\"2010-03-01\",\"2010-04-01\",\"2010-05-01\",\"2010-06-01\",\"2010-07-01\",\"2010-08-01\",\"2010-09-01\",\"2010-10-01\",\"2010-11-01\",\"2010-12-01\",\"2011-01-01\",\"2011-02-01\",\"2011-03-01\",\"2011-04-01\",\"2011-05-01\",\"2011-06-01\",\"2011-07-01\",\"2011-08-01\",\"2011-09-01\",\"2011-10-01\",\"2011-11-01\",\"2011-12-01\",\"2012-01-01\",\"2012-02-01\",\"2012-03-01\",\"2012-04-01\",\"2012-05-01\",\"2012-06-01\",\"2012-07-01\",\"2012-08-01\",\"2012-09-01\",\"2012-10-01\",\"2012-11-01\",\"2012-12-01\",\"2013-01-01\",\"2013-02-01\",\"2013-03-01\",\"2013-04-01\",\"2013-05-01\",\"2013-06-01\",\"2013-07-01\",\"2013-08-01\",\"2013-09-01\",\"2013-10-01\",\"2013-11-01\",\"2013-12-01\",\"2014-01-01\",\"2014-02-01\",\"2014-03-01\",\"2014-04-01\",\"2014-05-01\",\"2014-06-01\",\"2014-07-01\",\"2014-08-01\",\"2014-09-01\",\"2014-10-01\",\"2014-11-01\",\"2014-12-01\",\"2015-01-01\",\"2015-02-01\",\"2015-03-01\",\"2015-04-01\",\"2015-05-01\",\"2015-06-01\",\"2015-07-01\",\"2015-08-01\",\"2015-09-01\",\"2015-10-01\",\"2015-11-01\",\"2015-12-01\",\"2016-01-01\",\"2016-02-01\",\"2016-03-01\",\"2016-04-01\",\"2016-05-01\",\"2016-06-01\",\"2016-07-01\",\"2016-08-01\",\"2016-09-01\",\"2016-10-01\",\"2016-11-01\",\"2016-12-01\",\"2017-01-01\",\"2017-02-01\",\"2017-03-01\",\"2017-04-01\",\"2017-05-01\",\"2017-06-01\",\"2017-07-01\",\"2017-08-01\",\"2017-09-01\",\"2017-10-01\",\"2017-11-01\",\"2017-12-01\",\"2018-01-01\",\"2018-02-01\",\"2018-03-01\",\"2018-04-01\",\"2018-05-01\",\"2018-06-01\",\"2018-07-01\",\"2018-08-01\",\"2018-09-01\",\"2018-10-01\",\"2018-11-01\",\"2018-12-01\",\"2019-01-01\",\"2019-02-01\",\"2019-03-01\",\"2019-04-01\",\"2019-05-01\",\"2019-06-01\",\"2019-07-01\",\"2019-08-01\",\"2019-09-01\",\"2019-10-01\",\"2019-11-01\",\"2019-12-01\",\"2020-01-01\",\"2020-02-01\",\"2020-03-01\",\"2020-04-01\",\"2020-05-01\",\"2020-06-01\",\"2020-07-01\",\"2020-08-01\",\"2020-09-01\",\"2020-10-01\",\"2020-11-01\",\"2020-12-01\",\"2021-01-01\",\"2021-02-01\",\"2021-03-01\",\"2021-04-01\",\"2021-05-01\",\"2021-06-01\",\"2021-07-01\",\"2021-08-01\",\"2021-09-01\",\"2021-10-01\",\"2021-11-01\",\"2021-12-01\",\"2022-01-01\",\"2022-02-01\",\"2022-03-01\",\"2022-04-01\",\"2022-05-01\",\"2022-06-01\",\"2022-07-01\",\"2022-08-01\",\"2022-09-01\",\"2022-10-01\",\"2022-11-01\",\"2022-12-01\"],\"y\":[null,null,null,null,null,null,1.7576318223866743,1.7576318223866743,1.9642857142857202,1.9642857142857202,1.9642857142857202,1.9642857142857202,1.9642857142857202,1.9642857142857202,1.5177797051170923,1.5177797051170923,1.5177797051170923,1.3617021276595758,1.3617021276595758,1.3617021276595758,1.3617021276595758,1.0351966873706004,1.0351966873706004,1.0351966873706004,0.12295081967213582,-0.16632016632016278,0.0,0.04182350480970959,0.04182350480970959,0.04182350480970959,0.04182350480970959,0.04182350480970959,0.21097046413502413,0.21097046413502413,0.21097046413502413,0.21097046413502413,0.21097046413502413,0.4253509145044571,0.4253509145044571,0.4253509145044571,0.5073995771670232,0.5073995771670232,0.7956448911222834,0.7956448911222834,0.7956448911222834,0.7956448911222834,0.7956448911222834,1.5447154471544675,1.6012810248198501,1.7730496453900684,1.7730496453900684,1.7730496453900684,1.7730496453900684,1.7730496453900684,1.7730496453900684,0.2700617283950491,0.6573859242072765,0.6573859242072765,0.6573859242072765,0.6573859242072765,0.6573859242072765,0.6573859242072765,0.6116207951070342,0.6116207951070342,0.5699088145896603,0.2652519893899215,0.5653976630229874,0.5653976630229874,0.5653976630229874,0.5653976630229874,0.5653976630229874,0.5653976630229874,0.225309800976351,0.225309800976351,0.225309800976351,0.225309800976351,0.225309800976351,0.26217228464419584,0.26217228464419584,0.26217228464419584,0.26217228464419584,0.26217228464419584,0.26217228464419584,0.22396416573349115,0.2605135839225913,0.2605135839225913,0.2605135839225913,0.2605135839225913,0.26061057334326243,0.26061057334326243,0.26061057334326243,0.26061057334326243,0.26061057334326243,0.26061057334326243,0.22455089820360136,0.22455089820360136,0.22455089820360136,0.22455089820360136,0.22455089820360136,0.22455089820360136,0.18677624206201235,0.18677624206201235,0.18719580681393003,0.18719580681393003,0.486526946107794,0.486526946107794,0.486526946107794,0.486526946107794,0.486526946107794,0.486526946107794,0.2237136465324337,0.2237136465324337,0.3713330857779481,0.4439511653717997,0.5156537753222857,0.5156537753222857,0.5156537753222857,0.585009140767825,0.585009140767825,0.585009140767825,0.585009140767825,0.585009140767825,0.585009140767825,0.46982291290205636,0.46982291290205636,0.46982291290205636,0.46982291290205636,0.3928571428571408,0.3928571428571408,0.3928571428571408,0.3928571428571408,0.3192621496984741,0.597119775201973,0.597119775201973,0.597119775201973,0.597119775201973,0.597119775201973,0.597119775201973,0.5923344947735251,0.5923344947735251,0.24246622791825523,0.17307026652821292,0.17307026652821292,0.17307026652821292,0.17307026652821292,0.1383604289173267,0.1383604289173267,0.1383604289173267,0.20703933747411568,0.24104683195592386,0.24104683195592386,0.24104683195592386,0.24104683195592386,0.3418803418803467,0.3418803418803467,0.3418803418803467,0.3418803418803467,0.3418803418803467,0.3418803418803467,0.4420265215912921,0.4420265215912921,0.4420265215912921,0.4420265215912921,0.4420265215912921,0.4420265215912921,0.4728132387706875,0.4728132387706875,0.4728132387706875,0.4728132387706875,0.4728132387706875,0.4728132387706875,0.1008403361344576,0.10073875083948147,0.10063737001006756,0.26809651474531454,0.26809651474531454,0.26809651474531454,0.26809651474531454,0.26809651474531454,0.26809651474531454,0.13360053440213476,0.23302263648468804,0.23302263648468804,0.23302263648468804,0.23302263648468804,0.23302263648468804,0.23302263648468804,0.19926934573232238,0.462351387054163,0.462351387054163,0.462351387054163,0.462351387054163,0.462351387054163,0.462351387054163,0.1974983541803893,0.1974983541803893,0.1974983541803893,0.3277613897082854,0.3277613897082854,0.3277613897082854,0.3277613897082854,0.3277613897082854,0.3277613897082854,0.32488628979856354,0.32488628979856354,0.32488628979856354,0.32488628979856354,0.32488628979856354,0.32488628979856354,0.1943005181347224,0.09705596894209362,0.09705596894209362,0.09693053311793581,0.1287001287001374,0.2892030848329044,0.2892030848329044,0.2892030848329044,0.2892030848329044,0.2892030848329044,0.2892030848329044,0.3186743148502276,0.4129606099110515,0.4129606099110515,0.4129606099110515,0.4129606099110515,0.4129606099110515,0.4129606099110515,0.3159557661927375,0.3159557661927375,0.6273525721455435,0.6273525721455435,0.6273525721455435,0.6273525721455435,0.6273525721455435,0.6273525721455435,0.6163328197226371,0.6163328197226371,0.6163328197226371,0.6163328197226371,0.6163328197226371,0.6163328197226371,0.3062787136294071,0.305343511450386,0.30395136778115933,0.30395136778115933,0.6042296072507424,0.6042296072507424,0.6042296072507424,0.6042296072507424,0.6042296072507424,0.6042296072507424,0.5934718100890081,0.5934718100890081,0.5934718100890081,0.5934718100890081,0.5934718100890081,0.29498525073746734,0.5797101449275445,0.5797101449275445,0.5797101449275445,0.5797101449275445,0.5797101449275445,0.5797101449275445,0.5763688760806793,0.5698005698005576,0.5698005698005576,0.8379888268156545,0.8379888268156545,0.8379888268156545,0.8379888268156545,0.8379888268156545,0.8379888268156545,0.5540166204986031,0.5494505494505573,0.5494505494505573,0.5464480874316823,0.5420054200542083,0.5420054200542083,0.539083557951471,0.5361930294906243,0.533333333333341,0.5305039787798295,0.5277044854881342,0.5249343832020885,0.5221932114882581,0.5181347150258957,0.5181347150258957,0.5128205128205201,0.5128205128205201,0.5128205128205201,0.5102040816326422,0.5076142131979768,0.5050505050504942,0.49875311720697185,0.49875311720697185,0.49875311720697185,0.49875311720697185,0.49875311720697185,0.49627791563276147,0.2469135802469171,0.2463054187192153,0.4854368932038731,0.4854368932038731,0.4854368932038731,0.4854368932038731,0.4854368932038731,0.4854368932038731,0.24154589371981022,0.4773269689737538,0.4773269689737538,0.4773269689737538,0.4773269689737538,0.4773269689737538,0.7025761124121713,0.9302325581395315,0.9302325581395315,0.9302325581395315,0.9302325581395315,0.9302325581395315,1.8099547511312153,1.8099547511312153,1.8099547511312153,1.8099547511312153,1.8099547511312153,1.8099547511312153,1.0799136069114472,1.0799136069114472,1.0799136069114472,1.0799136069114472,1.0799136069114472,1.0683760683760684,1.2170385395537555,1.4028056112224507,1.4028056112224507,1.4028056112224507,1.4028056112224507,1.4028056112224507,1.4028056112224507,0.9803921568627451,0.9803921568627451,0.7766990291262109,0.7707129094412304,0.9345794392523363,0.9345794392523363,0.9345794392523363,0.9345794392523363,0.9345794392523363,0.9345794392523363,0.7380073800737981,0.7380073800737981,0.7285974499089227,0.7285974499089227,0.5424954792043477,0.534759358288765,0.534759358288765,0.534759358288765,0.534759358288765,0.534759358288765,0.5319148936170288,0.5291005291005241,0.5263157894736793,1.022146507666089,1.022146507666089,1.022146507666089,1.022146507666089,1.022146507666089,1.022146507666089,0.671140939597313,0.671140939597313,0.49833887043188896,0.649350649350647,0.649350649350647,0.649350649350647,0.649350649350647,0.649350649350647,0.7886435331230284,0.938967136150237,0.938967136150237,0.938967136150237,0.938967136150237,0.938967136150237,0.938967136150237,0.9104704097116757,0.9104704097116757,0.9104704097116757,1.0218978102189822,1.0218978102189822,1.0218978102189822,1.1331444759206961,1.1331444759206961,1.1331444759206961,1.1331444759206961,1.1331444759206961,1.1331444759206961,1.1204481792717045,1.184210526315797,1.4304291287386142,1.4304291287386142,1.4304291287386142,1.4304291287386142,1.4304291287386142,1.4304291287386142,1.392405063291132,1.392405063291132,0.9987515605493276,0.9888751545117394,1.0625737898465069,1.0625737898465069,1.0625737898465069,1.0625737898465069,1.0625737898465069,1.0625737898465069,0.9345794392523498,0.9259259259259226,1.1049723756906076,1.1049723756906076,1.1049723756906076,1.1049723756906076,1.1049723756906076,1.1049723756906076,0.9761388286333963,0.9761388286333963,0.4282655246252585,0.4282655246252585,0.9473684210526375,1.1470281543274186,1.1470281543274186,1.1470281543274186,1.1470281543274186,1.1470281543274186,1.1470281543274186,0.5154639175257731,0.4094165813715368,0.4094165813715368,0.4094165813715368,0.7135575942915422,0.7135575942915422,0.7135575942915422,0.7135575942915422,0.7135575942915422,0.7135575942915422,0.4048582995951474,0.40241448692152054,0.40241448692152054,0.6903353057199099,0.6903353057199099,0.6903353057199099,0.6903353057199099,0.6903353057199099,0.6903353057199099,0.4897159647404506,0.38872691933915593,0.38872691933915593,0.38572806171648166,0.38572806171648166,0.38572806171648166,0.3820439350525229,0.5676442762535424,0.5676442762535424,0.5676442762535424,0.5676442762535424,0.5676442762535424,0.5676442762535424,0.4703668861712136,0.279850746268654,0.37002775208141137,0.4608294930875576,0.4608294930875576,0.4608294930875576,0.4608294930875576,0.4608294930875576,0.4608294930875576,0.45871559633027525,0.3669724770642254,0.3669724770642254,0.3669724770642254,0.3669724770642254,0.3669724770642254,0.3669724770642254,0.36496350364964025,0.5415162454873723,0.5415162454873723,0.5415162454873723,0.5415162454873723,0.5415162454873723,0.5415162454873723,0.4456327985739751,0.4456327985739751,0.4456327985739751,0.4424778761061947,0.4424778761061947,0.4393673110720563,0.4393673110720563,0.34995625546807146,0.34782608695652667,0.6008583690987149,0.6008583690987149,0.6008583690987149,0.6008583690987149,0.6008583690987149,0.6008583690987149,0.425531914893617,0.425531914893617,0.423728813559322,0.42194092827004215,0.42016806722689076,0.4934210526315859,0.7364975450081763,0.7364975450081763,0.7364975450081763,0.7364975450081763,0.7364975450081763,0.7364975450081763,0.48740861088546594,0.48076923076923767,0.48076923076923767,0.950118764845608,0.950118764845608,0.950118764845608,0.950118764845608,0.950118764845608,0.950118764845608,0.6196746707978399,0.8429118773946316,0.8429118773946316,0.8429118773946316,0.8429118773946316,0.8429118773946316,0.8429118773946316,0.6838905775076032,0.6792452830188722,0.3739715781600599,0.3739715781600599,0.3725782414307005,0.3700962250185048,0.3700962250185048,0.3700962250185048,0.3700962250185048,0.43731778425657636,0.43731778425657636,0.43731778425657636,0.43731778425657636,0.43731778425657636,0.43731778425657636,0.36075036075036077,0.36075036075036077,0.36075036075036077,0.36075036075036077,0.2863278453829676,0.42523033309709024,0.42523033309709024,0.42523033309709024,0.42523033309709024,0.42523033309709024,0.42523033309709024,0.35137034434293746,0.35137034434293746,0.35137034434293746,0.3489183531053733,0.3489183531053733,0.3489183531053733,0.41379310344827197,0.41379310344827197,0.41379310344827197,0.41379310344827197,0.41379310344827197,0.41379310344827197,0.27472527472527863,0.2734107997265737,0.2734107997265737,0.3380662609871535,0.40431266846360797,0.40431266846360797,0.40431266846360797,0.40431266846360797,0.40431266846360797,0.40431266846360797,0.2677376171352113,0.2677376171352113,0.3968253968254119,0.3968253968254119,0.3968253968254119,0.3968253968254119,0.3968253968254119,0.3968253968254119,0.26126714565643744,0.26126714565643744,0.26126714565643744,0.5198180636777017,0.5198180636777017,0.5198180636777017,0.5198180636777017,0.5198180636777017,0.5198180636777017,0.3858520900321507,0.3858520900321507,0.3858520900321507,0.31806615776081426,0.31806615776081426,0.31806615776081426,0.31806615776081426,0.31806615776081426,0.31705770450221943,0.31605562579013907,0.2520478890989324,0.18856065367693992,0.188205771643653,0.24937655860349484,0.24937655860349484,0.24937655860349484,0.24937655860349484,0.24937655860349484,0.24937655860349484,0.2487562189054585,0.18610421836228994,0.12383900928791866,0.2466091245376114,0.2466091245376114,0.2466091245376114,0.2466091245376114,0.2466091245376114,0.2466091245376114,0.24570024570023172,0.24570024570023172,0.24464831804281695,0.24464831804281695,0.24464831804281695,0.6674757281553363,0.6674757281553363,0.6674757281553363,0.6674757281553363,0.6674757281553363,0.6674757281553363,0.42168674698794495,0.42168674698794495,0.42168674698794495,0.41891083183723343,0.41891083183723343,0.5882352941176471,0.5882352941176471,0.5882352941176471,0.5882352941176471,0.5882352941176471,0.5882352941176471,0.5841121495327104,0.5841121495327104,0.5841121495327104,0.521134916039378,0.5727376861397481,0.5727376861397481,0.5727376861397481,0.5727376861397481,0.5727376861397481,0.5727376861397481,0.5102040816326562,0.5102040816326562,0.5102040816326562,0.5102040816326562,0.39458850056369144,0.39458850056369144,0.39458850056369144,0.39458850056369144,0.2808988764044944,0.4481792717086899,0.4481792717086899,0.4481792717086899,0.4481792717086899,0.4481792717086899,0.4481792717086899,0.2777777777777778,0.2777777777777778,0.2777777777777778,0.4400440044004307,0.547645125958379,0.547645125958379,0.547645125958379,0.547645125958379,0.547645125958379,0.547645125958379,0.4354926510615195,0.4354926510615195,0.4354926510615195,0.4354926510615195,0.4354926510615195,0.4354926510615195,0.4312668463611921,0.4312668463611921,0.4312668463611921,0.4312668463611921,0.4312668463611921,0.42689434364993756,0.42689434364993756,0.42689434364993756,0.5268703898840885,0.5268703898840885,0.5268703898840885,0.5268703898840885,0.5268703898840885,0.5268703898840885,0.4716981132075352,0.41753653444677,0.41753653444677,0.6195147134744539,0.6195147134744539,1.376848546659876,1.376848546659876,1.376848546659876,1.376848546659876,1.376848546659876,1.376848546659876,0.6057546693589183,0.6057546693589183,0.6057546693589183,0.6057546693589183,0.5450941526263599,0.5450941526263599,0.5450941526263599,0.5450941526263599,0.5450941526263599,0.5450941526263599,0.5445544554455417,0.5445544554455417,0.5445544554455417,0.5445544554455417,0.5445544554455417,0.5200121434097578,0.5200121434097578,0.5200121434097578,0.4237553390765001,0.4237553390765001,0.7858884267890461,0.7858884267890461,0.7858884267890461,0.7858884267890461,0.7858884267890461,0.7858884267890461,0.5917491656617172,1.0478235009850914,1.0478235009850914,1.0478235009850914,1.0478235009850914,1.0478235009850914,1.0478235009850914,0.7141444751520936,0.2530771341261491,0.3642660652187341,0.3642660652187341,0.3642660652187341,0.3642660652187341,0.8299612246622419,0.8299612246622419,0.8299612246622419,0.8299612246622419,0.8299612246622419,0.8299612246622419,0.3348590589767736,0.3348590589767736,0.3348590589767736,0.3348590589767736,0.3348590589767736,0.06487322116246884,0.06487322116246884,0.1869253541682869,0.1869253541682869,0.1869253541682869,0.3481846294811549,0.3481846294811549,0.40165763468282023,0.40165763468282023,0.40165763468282023,0.5173548206833753,0.5173548206833753,0.5173548206833753,0.5173548206833753,0.5173548206833753,0.5173548206833753,0.46940989750992934,0.3181714734507648,0.3154462166418884,0.3154462166418884,0.3154462166418884,0.2724196054096635,0.2724196054096635,0.2724196054096635,0.2724196054096635,0.2724196054096635,0.21374461249462118,0.5809527975851975,0.5809527975851975,0.5809527975851975,0.5809527975851975,0.5809527975851975,0.5809527975851975,0.542992675210101,0.542992675210101,0.542992675210101,0.542992675210101,0.542992675210101,0.542992675210101,0.2387290682696364,0.2387290682696364,0.2387290682696364,0.2387290682696364,0.26441691584792815,0.26441691584792815,0.26441691584792815,0.26441691584792815,0.26441691584792815,0.26441691584792815,0.24241752904537633,0.20420553010651574,0.20420553010651574,0.19030059035472752,0.19030059035472752,0.13211322060796907,0.11254852864928948,0.007159100480079132,0.25346436802174205,0.26939517808125457,0.26939517808125457,0.3297745341246778,0.3297745341246778,0.3297745341246778,0.3297745341246778,0.3297745341246778,0.3297745341246778,0.276792081046074,0.15863197801873336,0.11946174910508504,0.11946174910508504,0.3134796238244513,0.38306451612902287,0.38306451612902287,0.38306451612902287,0.38306451612902287,0.38306451612902287,0.38306451612902287,0.27759572878272,0.27759572878272,0.2623209794425161,0.404307669481569,0.404307669481569,0.404307669481569,0.404307669481569,0.404307669481569,0.404307669481569,0.15926573570097663,0.38486261632881913,0.5106389920997825,0.5106389920997825,0.5106389920997825,0.5106389920997825,0.5106389920997825,0.5106389920997825,0.37852343576602093,0.37852343576602093,0.37852343576602093,0.37852343576602093,0.2798068689370145,0.253052217504981,0.253052217504981,0.253052217504981,0.24698797568971906,0.24698797568971906,0.24698797568971906,0.26339763140174755,0.4495624864202917,0.4495624864202917,0.4495624864202917,0.4495624864202917,0.4495624864202917,0.4495624864202917,0.35001750087504957,0.2763098411510714,0.2763098411510714,0.2763098411510714,0.2763098411510714,0.2763098411510714,0.2763098411510714,0.18771496861701253,0.18425993451982478,0.4973744256556107,0.5155180256359502,0.5155180256359502,0.5155180256359502,0.5155180256359502,0.5155180256359502,0.5155180256359502,0.40109382191742865,0.43707093821510873,0.6387034547705362,0.6410643403715665,0.7018412084265988,0.8771439953238823,0.8771439953238823,0.8771439953238823,0.8771439953238823,0.8771439953238823,0.8771439953238823,0.8664765475139767,0.8664765475139767,0.8664765475139767,null,null,null,null,null,null,null,null,null,null],\"type\":\"scatter\"}],                        {\"template\":{\"data\":{\"bar\":[{\"error_x\":{\"color\":\"#2a3f5f\"},\"error_y\":{\"color\":\"#2a3f5f\"},\"marker\":{\"line\":{\"color\":\"#E5ECF6\",\"width\":0.5},\"pattern\":{\"fillmode\":\"overlay\",\"size\":10,\"solidity\":0.2}},\"type\":\"bar\"}],\"barpolar\":[{\"marker\":{\"line\":{\"color\":\"#E5ECF6\",\"width\":0.5},\"pattern\":{\"fillmode\":\"overlay\",\"size\":10,\"solidity\":0.2}},\"type\":\"barpolar\"}],\"carpet\":[{\"aaxis\":{\"endlinecolor\":\"#2a3f5f\",\"gridcolor\":\"white\",\"linecolor\":\"white\",\"minorgridcolor\":\"white\",\"startlinecolor\":\"#2a3f5f\"},\"baxis\":{\"endlinecolor\":\"#2a3f5f\",\"gridcolor\":\"white\",\"linecolor\":\"white\",\"minorgridcolor\":\"white\",\"startlinecolor\":\"#2a3f5f\"},\"type\":\"carpet\"}],\"choropleth\":[{\"colorbar\":{\"outlinewidth\":0,\"ticks\":\"\"},\"type\":\"choropleth\"}],\"contour\":[{\"colorbar\":{\"outlinewidth\":0,\"ticks\":\"\"},\"colorscale\":[[0.0,\"#0d0887\"],[0.1111111111111111,\"#46039f\"],[0.2222222222222222,\"#7201a8\"],[0.3333333333333333,\"#9c179e\"],[0.4444444444444444,\"#bd3786\"],[0.5555555555555556,\"#d8576b\"],[0.6666666666666666,\"#ed7953\"],[0.7777777777777778,\"#fb9f3a\"],[0.8888888888888888,\"#fdca26\"],[1.0,\"#f0f921\"]],\"type\":\"contour\"}],\"contourcarpet\":[{\"colorbar\":{\"outlinewidth\":0,\"ticks\":\"\"},\"type\":\"contourcarpet\"}],\"heatmap\":[{\"colorbar\":{\"outlinewidth\":0,\"ticks\":\"\"},\"colorscale\":[[0.0,\"#0d0887\"],[0.1111111111111111,\"#46039f\"],[0.2222222222222222,\"#7201a8\"],[0.3333333333333333,\"#9c179e\"],[0.4444444444444444,\"#bd3786\"],[0.5555555555555556,\"#d8576b\"],[0.6666666666666666,\"#ed7953\"],[0.7777777777777778,\"#fb9f3a\"],[0.8888888888888888,\"#fdca26\"],[1.0,\"#f0f921\"]],\"type\":\"heatmap\"}],\"heatmapgl\":[{\"colorbar\":{\"outlinewidth\":0,\"ticks\":\"\"},\"colorscale\":[[0.0,\"#0d0887\"],[0.1111111111111111,\"#46039f\"],[0.2222222222222222,\"#7201a8\"],[0.3333333333333333,\"#9c179e\"],[0.4444444444444444,\"#bd3786\"],[0.5555555555555556,\"#d8576b\"],[0.6666666666666666,\"#ed7953\"],[0.7777777777777778,\"#fb9f3a\"],[0.8888888888888888,\"#fdca26\"],[1.0,\"#f0f921\"]],\"type\":\"heatmapgl\"}],\"histogram\":[{\"marker\":{\"pattern\":{\"fillmode\":\"overlay\",\"size\":10,\"solidity\":0.2}},\"type\":\"histogram\"}],\"histogram2d\":[{\"colorbar\":{\"outlinewidth\":0,\"ticks\":\"\"},\"colorscale\":[[0.0,\"#0d0887\"],[0.1111111111111111,\"#46039f\"],[0.2222222222222222,\"#7201a8\"],[0.3333333333333333,\"#9c179e\"],[0.4444444444444444,\"#bd3786\"],[0.5555555555555556,\"#d8576b\"],[0.6666666666666666,\"#ed7953\"],[0.7777777777777778,\"#fb9f3a\"],[0.8888888888888888,\"#fdca26\"],[1.0,\"#f0f921\"]],\"type\":\"histogram2d\"}],\"histogram2dcontour\":[{\"colorbar\":{\"outlinewidth\":0,\"ticks\":\"\"},\"colorscale\":[[0.0,\"#0d0887\"],[0.1111111111111111,\"#46039f\"],[0.2222222222222222,\"#7201a8\"],[0.3333333333333333,\"#9c179e\"],[0.4444444444444444,\"#bd3786\"],[0.5555555555555556,\"#d8576b\"],[0.6666666666666666,\"#ed7953\"],[0.7777777777777778,\"#fb9f3a\"],[0.8888888888888888,\"#fdca26\"],[1.0,\"#f0f921\"]],\"type\":\"histogram2dcontour\"}],\"mesh3d\":[{\"colorbar\":{\"outlinewidth\":0,\"ticks\":\"\"},\"type\":\"mesh3d\"}],\"parcoords\":[{\"line\":{\"colorbar\":{\"outlinewidth\":0,\"ticks\":\"\"}},\"type\":\"parcoords\"}],\"pie\":[{\"automargin\":true,\"type\":\"pie\"}],\"scatter\":[{\"marker\":{\"colorbar\":{\"outlinewidth\":0,\"ticks\":\"\"}},\"type\":\"scatter\"}],\"scatter3d\":[{\"line\":{\"colorbar\":{\"outlinewidth\":0,\"ticks\":\"\"}},\"marker\":{\"colorbar\":{\"outlinewidth\":0,\"ticks\":\"\"}},\"type\":\"scatter3d\"}],\"scattercarpet\":[{\"marker\":{\"colorbar\":{\"outlinewidth\":0,\"ticks\":\"\"}},\"type\":\"scattercarpet\"}],\"scattergeo\":[{\"marker\":{\"colorbar\":{\"outlinewidth\":0,\"ticks\":\"\"}},\"type\":\"scattergeo\"}],\"scattergl\":[{\"marker\":{\"colorbar\":{\"outlinewidth\":0,\"ticks\":\"\"}},\"type\":\"scattergl\"}],\"scattermapbox\":[{\"marker\":{\"colorbar\":{\"outlinewidth\":0,\"ticks\":\"\"}},\"type\":\"scattermapbox\"}],\"scatterpolar\":[{\"marker\":{\"colorbar\":{\"outlinewidth\":0,\"ticks\":\"\"}},\"type\":\"scatterpolar\"}],\"scatterpolargl\":[{\"marker\":{\"colorbar\":{\"outlinewidth\":0,\"ticks\":\"\"}},\"type\":\"scatterpolargl\"}],\"scatterternary\":[{\"marker\":{\"colorbar\":{\"outlinewidth\":0,\"ticks\":\"\"}},\"type\":\"scatterternary\"}],\"surface\":[{\"colorbar\":{\"outlinewidth\":0,\"ticks\":\"\"},\"colorscale\":[[0.0,\"#0d0887\"],[0.1111111111111111,\"#46039f\"],[0.2222222222222222,\"#7201a8\"],[0.3333333333333333,\"#9c179e\"],[0.4444444444444444,\"#bd3786\"],[0.5555555555555556,\"#d8576b\"],[0.6666666666666666,\"#ed7953\"],[0.7777777777777778,\"#fb9f3a\"],[0.8888888888888888,\"#fdca26\"],[1.0,\"#f0f921\"]],\"type\":\"surface\"}],\"table\":[{\"cells\":{\"fill\":{\"color\":\"#EBF0F8\"},\"line\":{\"color\":\"white\"}},\"header\":{\"fill\":{\"color\":\"#C8D4E3\"},\"line\":{\"color\":\"white\"}},\"type\":\"table\"}]},\"layout\":{\"annotationdefaults\":{\"arrowcolor\":\"#2a3f5f\",\"arrowhead\":0,\"arrowwidth\":1},\"autotypenumbers\":\"strict\",\"coloraxis\":{\"colorbar\":{\"outlinewidth\":0,\"ticks\":\"\"}},\"colorscale\":{\"diverging\":[[0,\"#8e0152\"],[0.1,\"#c51b7d\"],[0.2,\"#de77ae\"],[0.3,\"#f1b6da\"],[0.4,\"#fde0ef\"],[0.5,\"#f7f7f7\"],[0.6,\"#e6f5d0\"],[0.7,\"#b8e186\"],[0.8,\"#7fbc41\"],[0.9,\"#4d9221\"],[1,\"#276419\"]],\"sequential\":[[0.0,\"#0d0887\"],[0.1111111111111111,\"#46039f\"],[0.2222222222222222,\"#7201a8\"],[0.3333333333333333,\"#9c179e\"],[0.4444444444444444,\"#bd3786\"],[0.5555555555555556,\"#d8576b\"],[0.6666666666666666,\"#ed7953\"],[0.7777777777777778,\"#fb9f3a\"],[0.8888888888888888,\"#fdca26\"],[1.0,\"#f0f921\"]],\"sequentialminus\":[[0.0,\"#0d0887\"],[0.1111111111111111,\"#46039f\"],[0.2222222222222222,\"#7201a8\"],[0.3333333333333333,\"#9c179e\"],[0.4444444444444444,\"#bd3786\"],[0.5555555555555556,\"#d8576b\"],[0.6666666666666666,\"#ed7953\"],[0.7777777777777778,\"#fb9f3a\"],[0.8888888888888888,\"#fdca26\"],[1.0,\"#f0f921\"]]},\"colorway\":[\"#636efa\",\"#EF553B\",\"#00cc96\",\"#ab63fa\",\"#FFA15A\",\"#19d3f3\",\"#FF6692\",\"#B6E880\",\"#FF97FF\",\"#FECB52\"],\"font\":{\"color\":\"#2a3f5f\"},\"geo\":{\"bgcolor\":\"white\",\"lakecolor\":\"white\",\"landcolor\":\"#E5ECF6\",\"showlakes\":true,\"showland\":true,\"subunitcolor\":\"white\"},\"hoverlabel\":{\"align\":\"left\"},\"hovermode\":\"closest\",\"mapbox\":{\"style\":\"light\"},\"paper_bgcolor\":\"white\",\"plot_bgcolor\":\"#E5ECF6\",\"polar\":{\"angularaxis\":{\"gridcolor\":\"white\",\"linecolor\":\"white\",\"ticks\":\"\"},\"bgcolor\":\"#E5ECF6\",\"radialaxis\":{\"gridcolor\":\"white\",\"linecolor\":\"white\",\"ticks\":\"\"}},\"scene\":{\"xaxis\":{\"backgroundcolor\":\"#E5ECF6\",\"gridcolor\":\"white\",\"gridwidth\":2,\"linecolor\":\"white\",\"showbackground\":true,\"ticks\":\"\",\"zerolinecolor\":\"white\"},\"yaxis\":{\"backgroundcolor\":\"#E5ECF6\",\"gridcolor\":\"white\",\"gridwidth\":2,\"linecolor\":\"white\",\"showbackground\":true,\"ticks\":\"\",\"zerolinecolor\":\"white\"},\"zaxis\":{\"backgroundcolor\":\"#E5ECF6\",\"gridcolor\":\"white\",\"gridwidth\":2,\"linecolor\":\"white\",\"showbackground\":true,\"ticks\":\"\",\"zerolinecolor\":\"white\"}},\"shapedefaults\":{\"line\":{\"color\":\"#2a3f5f\"}},\"ternary\":{\"aaxis\":{\"gridcolor\":\"white\",\"linecolor\":\"white\",\"ticks\":\"\"},\"baxis\":{\"gridcolor\":\"white\",\"linecolor\":\"white\",\"ticks\":\"\"},\"bgcolor\":\"#E5ECF6\",\"caxis\":{\"gridcolor\":\"white\",\"linecolor\":\"white\",\"ticks\":\"\"}},\"title\":{\"x\":0.05},\"xaxis\":{\"automargin\":true,\"gridcolor\":\"white\",\"linecolor\":\"white\",\"ticks\":\"\",\"title\":{\"standoff\":15},\"zerolinecolor\":\"white\",\"zerolinewidth\":2},\"yaxis\":{\"automargin\":true,\"gridcolor\":\"white\",\"linecolor\":\"white\",\"ticks\":\"\",\"title\":{\"standoff\":15},\"zerolinecolor\":\"white\",\"zerolinewidth\":2}}},\"xaxis\":{\"tickfont\":{\"family\":\"Arial\",\"size\":14,\"color\":\"black\"},\"tickangle\":-45},\"hovermode\":\"x unified\",\"clickmode\":\"select\",\"height\":500,\"width\":1100,\"legend\":{\"orientation\":\"h\",\"yanchor\":\"bottom\",\"y\":1.05,\"xanchor\":\"left\",\"x\":0.01}},                        {\"displayModeBar\": \"Always\", \"displaylogo\": false, \"modeBarButtons\": \"toggleHover \", \"modeBarButtonsToRemove\": [\"zoom2d\", \"zoomIn2d\", \"zoomOut2d\", \"sendDataToCloud\", \"editInChartStudio\", \"select2d\", \"lasso2d\"], \"responsive\": true}                    ).then(function(){\n                            \nvar gd = document.getElementById('1f8f444f-eae9-446f-aa8a-4f70c268b510');\nvar x = new MutationObserver(function (mutations, observer) {{\n        var display = window.getComputedStyle(gd).display;\n        if (!display || display === 'none') {{\n            console.log([gd, 'removed!']);\n            Plotly.purge(gd);\n            observer.disconnect();\n        }}\n}});\n\n// Listen for the removal of the full notebook cells\nvar notebookContainer = gd.closest('#notebook-container');\nif (notebookContainer) {{\n    x.observe(notebookContainer, {childList: true});\n}}\n\n// Listen for the clearing of the current output cell\nvar outputEl = gd.closest('.output');\nif (outputEl) {{\n    x.observe(outputEl, {childList: true});\n}}\n\n                        })                };                            </script>        </div>\n</body>\n</html>"
     },
     "metadata": {},
     "output_type": "display_data"
    }
   ]
  },
  {
   "cell_type": "markdown",
   "source": "## Categorical Pricing data",
   "metadata": {
    "cell_id": "ecfa2e51904944eda76dafae9674c7e8",
    "tags": [],
    "deepnote_cell_type": "markdown",
    "deepnote_cell_height": 70.171875
   }
  },
  {
   "cell_type": "code",
   "metadata": {
    "cell_id": "853055c982094017a3c5fdc26dfc0423",
    "tags": [],
    "deepnote_to_be_reexecuted": false,
    "source_hash": "90312a5",
    "execution_start": 1649177958863,
    "execution_millis": 756,
    "deepnote_table_state": {
     "pageSize": 100,
     "pageIndex": 0,
     "filters": [],
     "sortBy": []
    },
    "deepnote_table_loading": false,
    "deepnote_table_invalid": false,
    "deepnote_cell_type": "code",
    "deepnote_cell_height": 1568.15625,
    "deepnote_output_heights": [
     48.765625,
     206.78125,
     48.765625,
     177.671875,
     48.765625,
     206.78125,
     21.171875
    ]
   },
   "source": "cat_pricing = pd.read_excel('CategoryPriceData_BLS.xlsx',engine='openpyxl',sheet_name = 'BLS Data Series',skiprows=3)\ncat_pricing = cat_pricing.loc[:,~cat_pricing.columns.str.startswith('HALF')]\ncat_pricing.set_index('Series ID',inplace = True)\ncat_pricing = cat_pricing.T\ncat_pricing.reset_index(inplace = True)\ncat_pricing.rename(columns = {'index': 'Date'},inplace = True)\ncat_pricing.replace({'\\n': ' '}, regex=True,inplace =True)\ncat_pricing[\"Date\"] = pd.to_datetime(cat_pricing.Date, format=\"%b %Y\", dayfirst=True)\ncat_pricing.set_index('Date',inplace = True)\ndisplay(Markdown('<h2>Categorical CPI Data</h2>'))\ndisplay(cat_pricing.head())\n\nseries_keys = pd.read_excel('CategoryPriceData_BLS.xlsx',engine='openpyxl',sheet_name = 'ItemCodes')\nseries_keys = series_keys[['FullCode','item_name']]\nseries_keys = series_keys[series_keys['FullCode'].isin(cat_pricing.columns)]\nseries_keys.replace('Energy  1','Energy',inplace = True)\nseries_keys.replace('Apparel 0','Apparel',inplace = True)\nseries_keys.replace('Housing 0','Housing',inplace = True)\nseries_keys.replace('Transportation  0','Transportation',inplace = True)\ndisplay(Markdown('<h2>Categorical Name Mapping</h2>'))\ndisplay(series_keys.head())\n\nfor column in cat_pricing.columns:\n    temp_real_col = series_keys['item_name'][series_keys['FullCode'] == column].values[0]\n    #print(temp_real_col)\n    cat_pricing.rename(columns = {column: temp_real_col},inplace = True)\n\ndisplay(Markdown('<h2>Categorical CPI Data After Remapping</h2>'))\ndisplay(cat_pricing.head())\ndisplay('')",
   "execution_count": 4,
   "outputs": [
    {
     "data": {
      "text/plain": "<IPython.core.display.Markdown object>",
      "text/markdown": "<h2>Categorical CPI Data</h2>"
     },
     "metadata": {},
     "output_type": "display_data"
    },
    {
     "data": {
      "text/plain": "Series ID   CUSR0000SA0E  CUSR0000SAA  CUSR0000SAE  CUSR0000SAF1  CUSR0000SAG  \\\nDate                                                                            \n1947-01-01           NaN         38.4          NaN          22.8          NaN   \n1947-02-01           NaN         38.8          NaN          23.1          NaN   \n1947-03-01           NaN         39.4          NaN          23.8          NaN   \n1947-04-01           NaN         39.7          NaN          23.5          NaN   \n1947-05-01           NaN         39.8          NaN          23.4          NaN   \n\nSeries ID   CUSR0000SAH  CUSR0000SAH3  CUSR0000SAM  CUSR0000SAR  CUSR0000SAT  \nDate                                                                          \n1947-01-01          NaN           NaN         13.2          NaN         17.9  \n1947-02-01          NaN           NaN         13.3          NaN         17.9  \n1947-03-01          NaN           NaN         13.3          NaN         18.1  \n1947-04-01          NaN           NaN         13.4          NaN         18.3  \n1947-05-01          NaN           NaN         13.5          NaN         18.3  ",
      "text/html": "<div>\n<style scoped>\n    .dataframe tbody tr th:only-of-type {\n        vertical-align: middle;\n    }\n\n    .dataframe tbody tr th {\n        vertical-align: top;\n    }\n\n    .dataframe thead th {\n        text-align: right;\n    }\n</style>\n<table border=\"1\" class=\"dataframe\">\n  <thead>\n    <tr style=\"text-align: right;\">\n      <th>Series ID</th>\n      <th>CUSR0000SA0E</th>\n      <th>CUSR0000SAA</th>\n      <th>CUSR0000SAE</th>\n      <th>CUSR0000SAF1</th>\n      <th>CUSR0000SAG</th>\n      <th>CUSR0000SAH</th>\n      <th>CUSR0000SAH3</th>\n      <th>CUSR0000SAM</th>\n      <th>CUSR0000SAR</th>\n      <th>CUSR0000SAT</th>\n    </tr>\n    <tr>\n      <th>Date</th>\n      <th></th>\n      <th></th>\n      <th></th>\n      <th></th>\n      <th></th>\n      <th></th>\n      <th></th>\n      <th></th>\n      <th></th>\n      <th></th>\n    </tr>\n  </thead>\n  <tbody>\n    <tr>\n      <th>1947-01-01</th>\n      <td>NaN</td>\n      <td>38.4</td>\n      <td>NaN</td>\n      <td>22.8</td>\n      <td>NaN</td>\n      <td>NaN</td>\n      <td>NaN</td>\n      <td>13.2</td>\n      <td>NaN</td>\n      <td>17.9</td>\n    </tr>\n    <tr>\n      <th>1947-02-01</th>\n      <td>NaN</td>\n      <td>38.8</td>\n      <td>NaN</td>\n      <td>23.1</td>\n      <td>NaN</td>\n      <td>NaN</td>\n      <td>NaN</td>\n      <td>13.3</td>\n      <td>NaN</td>\n      <td>17.9</td>\n    </tr>\n    <tr>\n      <th>1947-03-01</th>\n      <td>NaN</td>\n      <td>39.4</td>\n      <td>NaN</td>\n      <td>23.8</td>\n      <td>NaN</td>\n      <td>NaN</td>\n      <td>NaN</td>\n      <td>13.3</td>\n      <td>NaN</td>\n      <td>18.1</td>\n    </tr>\n    <tr>\n      <th>1947-04-01</th>\n      <td>NaN</td>\n      <td>39.7</td>\n      <td>NaN</td>\n      <td>23.5</td>\n      <td>NaN</td>\n      <td>NaN</td>\n      <td>NaN</td>\n      <td>13.4</td>\n      <td>NaN</td>\n      <td>18.3</td>\n    </tr>\n    <tr>\n      <th>1947-05-01</th>\n      <td>NaN</td>\n      <td>39.8</td>\n      <td>NaN</td>\n      <td>23.4</td>\n      <td>NaN</td>\n      <td>NaN</td>\n      <td>NaN</td>\n      <td>13.5</td>\n      <td>NaN</td>\n      <td>18.3</td>\n    </tr>\n  </tbody>\n</table>\n</div>"
     },
     "metadata": {},
     "output_type": "display_data"
    },
    {
     "data": {
      "text/plain": "<IPython.core.display.Markdown object>",
      "text/markdown": "<h2>Categorical Name Mapping</h2>"
     },
     "metadata": {},
     "output_type": "display_data"
    },
    {
     "data": {
      "text/plain": "        FullCode                    item_name\n3   CUSR0000SA0E                       Energy\n14   CUSR0000SAA                      Apparel\n24   CUSR0000SAE  Education and communication\n31  CUSR0000SAF1                         Food\n42   CUSR0000SAG     Other goods and services",
      "text/html": "<div>\n<style scoped>\n    .dataframe tbody tr th:only-of-type {\n        vertical-align: middle;\n    }\n\n    .dataframe tbody tr th {\n        vertical-align: top;\n    }\n\n    .dataframe thead th {\n        text-align: right;\n    }\n</style>\n<table border=\"1\" class=\"dataframe\">\n  <thead>\n    <tr style=\"text-align: right;\">\n      <th></th>\n      <th>FullCode</th>\n      <th>item_name</th>\n    </tr>\n  </thead>\n  <tbody>\n    <tr>\n      <th>3</th>\n      <td>CUSR0000SA0E</td>\n      <td>Energy</td>\n    </tr>\n    <tr>\n      <th>14</th>\n      <td>CUSR0000SAA</td>\n      <td>Apparel</td>\n    </tr>\n    <tr>\n      <th>24</th>\n      <td>CUSR0000SAE</td>\n      <td>Education and communication</td>\n    </tr>\n    <tr>\n      <th>31</th>\n      <td>CUSR0000SAF1</td>\n      <td>Food</td>\n    </tr>\n    <tr>\n      <th>42</th>\n      <td>CUSR0000SAG</td>\n      <td>Other goods and services</td>\n    </tr>\n  </tbody>\n</table>\n</div>"
     },
     "metadata": {},
     "output_type": "display_data"
    },
    {
     "data": {
      "text/plain": "<IPython.core.display.Markdown object>",
      "text/markdown": "<h2>Categorical CPI Data After Remapping</h2>"
     },
     "metadata": {},
     "output_type": "display_data"
    },
    {
     "data": {
      "text/plain": "Series ID   Energy  Apparel  Education and communication  Food  \\\nDate                                                             \n1947-01-01     NaN     38.4                          NaN  22.8   \n1947-02-01     NaN     38.8                          NaN  23.1   \n1947-03-01     NaN     39.4                          NaN  23.8   \n1947-04-01     NaN     39.7                          NaN  23.5   \n1947-05-01     NaN     39.8                          NaN  23.4   \n\nSeries ID   Other goods and services  Housing  \\\nDate                                            \n1947-01-01                       NaN      NaN   \n1947-02-01                       NaN      NaN   \n1947-03-01                       NaN      NaN   \n1947-04-01                       NaN      NaN   \n1947-05-01                       NaN      NaN   \n\nSeries ID   Household furnishings and operations  Medical care  Recreation  \\\nDate                                                                         \n1947-01-01                                   NaN          13.2         NaN   \n1947-02-01                                   NaN          13.3         NaN   \n1947-03-01                                   NaN          13.3         NaN   \n1947-04-01                                   NaN          13.4         NaN   \n1947-05-01                                   NaN          13.5         NaN   \n\nSeries ID   Transportation  \nDate                        \n1947-01-01            17.9  \n1947-02-01            17.9  \n1947-03-01            18.1  \n1947-04-01            18.3  \n1947-05-01            18.3  ",
      "text/html": "<div>\n<style scoped>\n    .dataframe tbody tr th:only-of-type {\n        vertical-align: middle;\n    }\n\n    .dataframe tbody tr th {\n        vertical-align: top;\n    }\n\n    .dataframe thead th {\n        text-align: right;\n    }\n</style>\n<table border=\"1\" class=\"dataframe\">\n  <thead>\n    <tr style=\"text-align: right;\">\n      <th>Series ID</th>\n      <th>Energy</th>\n      <th>Apparel</th>\n      <th>Education and communication</th>\n      <th>Food</th>\n      <th>Other goods and services</th>\n      <th>Housing</th>\n      <th>Household furnishings and operations</th>\n      <th>Medical care</th>\n      <th>Recreation</th>\n      <th>Transportation</th>\n    </tr>\n    <tr>\n      <th>Date</th>\n      <th></th>\n      <th></th>\n      <th></th>\n      <th></th>\n      <th></th>\n      <th></th>\n      <th></th>\n      <th></th>\n      <th></th>\n      <th></th>\n    </tr>\n  </thead>\n  <tbody>\n    <tr>\n      <th>1947-01-01</th>\n      <td>NaN</td>\n      <td>38.4</td>\n      <td>NaN</td>\n      <td>22.8</td>\n      <td>NaN</td>\n      <td>NaN</td>\n      <td>NaN</td>\n      <td>13.2</td>\n      <td>NaN</td>\n      <td>17.9</td>\n    </tr>\n    <tr>\n      <th>1947-02-01</th>\n      <td>NaN</td>\n      <td>38.8</td>\n      <td>NaN</td>\n      <td>23.1</td>\n      <td>NaN</td>\n      <td>NaN</td>\n      <td>NaN</td>\n      <td>13.3</td>\n      <td>NaN</td>\n      <td>17.9</td>\n    </tr>\n    <tr>\n      <th>1947-03-01</th>\n      <td>NaN</td>\n      <td>39.4</td>\n      <td>NaN</td>\n      <td>23.8</td>\n      <td>NaN</td>\n      <td>NaN</td>\n      <td>NaN</td>\n      <td>13.3</td>\n      <td>NaN</td>\n      <td>18.1</td>\n    </tr>\n    <tr>\n      <th>1947-04-01</th>\n      <td>NaN</td>\n      <td>39.7</td>\n      <td>NaN</td>\n      <td>23.5</td>\n      <td>NaN</td>\n      <td>NaN</td>\n      <td>NaN</td>\n      <td>13.4</td>\n      <td>NaN</td>\n      <td>18.3</td>\n    </tr>\n    <tr>\n      <th>1947-05-01</th>\n      <td>NaN</td>\n      <td>39.8</td>\n      <td>NaN</td>\n      <td>23.4</td>\n      <td>NaN</td>\n      <td>NaN</td>\n      <td>NaN</td>\n      <td>13.5</td>\n      <td>NaN</td>\n      <td>18.3</td>\n    </tr>\n  </tbody>\n</table>\n</div>"
     },
     "metadata": {},
     "output_type": "display_data"
    },
    {
     "data": {
      "text/plain": "''"
     },
     "metadata": {},
     "output_type": "display_data"
    }
   ]
  },
  {
   "cell_type": "code",
   "metadata": {
    "cell_id": "6869d8a461d94f80af7ec01ccf327bb9",
    "tags": [],
    "deepnote_to_be_reexecuted": false,
    "source_hash": "92754491",
    "execution_start": 1649177959623,
    "execution_millis": 88,
    "deepnote_cell_type": "code",
    "deepnote_cell_height": 859.109375,
    "deepnote_output_heights": [
     48.765625,
     501.984375
    ]
   },
   "source": "fig = go.Figure()\n\nfor column in cat_pricing:\n    x_temp = cat_pricing.index.values\n    y_temp = cat_pricing[column].values\n    fig.add_trace(go.Scatter(x=x_temp, y=y_temp,\n                    mode='lines',\n                    name=column))\nfig.update_layout(hovermode=\"x unified\",clickmode ='select',height=500,width=1100,)\ndisplay(Markdown('<h2>Categorical CPI Data Plot</h2>'))\nfig.show()",
   "execution_count": 5,
   "outputs": [
    {
     "data": {
      "text/plain": "<IPython.core.display.Markdown object>",
      "text/markdown": "<h2>Categorical CPI Data Plot</h2>"
     },
     "metadata": {},
     "output_type": "display_data"
    },
    {
     "data": {
      "text/html": "<html>\n<head><meta charset=\"utf-8\" /></head>\n<body>\n    <div>            <script src=\"https://cdnjs.cloudflare.com/ajax/libs/mathjax/2.7.5/MathJax.js?config=TeX-AMS-MML_SVG\"></script><script type=\"text/javascript\">if (window.MathJax) {MathJax.Hub.Config({SVG: {font: \"STIX-Web\"}});}</script>                <script type=\"text/javascript\">window.PlotlyConfig = {MathJaxConfig: 'local'};</script>\n        <script src=\"https://cdn.plot.ly/plotly-2.9.0.min.js\"></script>                <div id=\"1f9b0468-fd11-4f0a-8571-831b8746819b\" class=\"plotly-graph-div\" style=\"height:500px; width:1100px;\"></div>            <script type=\"text/javascript\">                                    window.PLOTLYENV=window.PLOTLYENV || {};                                    if (document.getElementById(\"1f9b0468-fd11-4f0a-8571-831b8746819b\")) {                    Plotly.newPlot(                        \"1f9b0468-fd11-4f0a-8571-831b8746819b\",                        [{\"mode\":\"lines\",\"name\":\"Energy\",\"x\":[\"1947-01-01T00:00:00.000000000\",\"1947-02-01T00:00:00.000000000\",\"1947-03-01T00:00:00.000000000\",\"1947-04-01T00:00:00.000000000\",\"1947-05-01T00:00:00.000000000\",\"1947-06-01T00:00:00.000000000\",\"1947-07-01T00:00:00.000000000\",\"1947-08-01T00:00:00.000000000\",\"1947-09-01T00:00:00.000000000\",\"1947-10-01T00:00:00.000000000\",\"1947-11-01T00:00:00.000000000\",\"1947-12-01T00:00:00.000000000\",\"1948-01-01T00:00:00.000000000\",\"1948-02-01T00:00:00.000000000\",\"1948-03-01T00:00:00.000000000\",\"1948-04-01T00:00:00.000000000\",\"1948-05-01T00:00:00.000000000\",\"1948-06-01T00:00:00.000000000\",\"1948-07-01T00:00:00.000000000\",\"1948-08-01T00:00:00.000000000\",\"1948-09-01T00:00:00.000000000\",\"1948-10-01T00:00:00.000000000\",\"1948-11-01T00:00:00.000000000\",\"1948-12-01T00:00:00.000000000\",\"1949-01-01T00:00:00.000000000\",\"1949-02-01T00:00:00.000000000\",\"1949-03-01T00:00:00.000000000\",\"1949-04-01T00:00:00.000000000\",\"1949-05-01T00:00:00.000000000\",\"1949-06-01T00:00:00.000000000\",\"1949-07-01T00:00:00.000000000\",\"1949-08-01T00:00:00.000000000\",\"1949-09-01T00:00:00.000000000\",\"1949-10-01T00:00:00.000000000\",\"1949-11-01T00:00:00.000000000\",\"1949-12-01T00:00:00.000000000\",\"1950-01-01T00:00:00.000000000\",\"1950-02-01T00:00:00.000000000\",\"1950-03-01T00:00:00.000000000\",\"1950-04-01T00:00:00.000000000\",\"1950-05-01T00:00:00.000000000\",\"1950-06-01T00:00:00.000000000\",\"1950-07-01T00:00:00.000000000\",\"1950-08-01T00:00:00.000000000\",\"1950-09-01T00:00:00.000000000\",\"1950-10-01T00:00:00.000000000\",\"1950-11-01T00:00:00.000000000\",\"1950-12-01T00:00:00.000000000\",\"1951-01-01T00:00:00.000000000\",\"1951-02-01T00:00:00.000000000\",\"1951-03-01T00:00:00.000000000\",\"1951-04-01T00:00:00.000000000\",\"1951-05-01T00:00:00.000000000\",\"1951-06-01T00:00:00.000000000\",\"1951-07-01T00:00:00.000000000\",\"1951-08-01T00:00:00.000000000\",\"1951-09-01T00:00:00.000000000\",\"1951-10-01T00:00:00.000000000\",\"1951-11-01T00:00:00.000000000\",\"1951-12-01T00:00:00.000000000\",\"1952-01-01T00:00:00.000000000\",\"1952-02-01T00:00:00.000000000\",\"1952-03-01T00:00:00.000000000\",\"1952-04-01T00:00:00.000000000\",\"1952-05-01T00:00:00.000000000\",\"1952-06-01T00:00:00.000000000\",\"1952-07-01T00:00:00.000000000\",\"1952-08-01T00:00:00.000000000\",\"1952-09-01T00:00:00.000000000\",\"1952-10-01T00:00:00.000000000\",\"1952-11-01T00:00:00.000000000\",\"1952-12-01T00:00:00.000000000\",\"1953-01-01T00:00:00.000000000\",\"1953-02-01T00:00:00.000000000\",\"1953-03-01T00:00:00.000000000\",\"1953-04-01T00:00:00.000000000\",\"1953-05-01T00:00:00.000000000\",\"1953-06-01T00:00:00.000000000\",\"1953-07-01T00:00:00.000000000\",\"1953-08-01T00:00:00.000000000\",\"1953-09-01T00:00:00.000000000\",\"1953-10-01T00:00:00.000000000\",\"1953-11-01T00:00:00.000000000\",\"1953-12-01T00:00:00.000000000\",\"1954-01-01T00:00:00.000000000\",\"1954-02-01T00:00:00.000000000\",\"1954-03-01T00:00:00.000000000\",\"1954-04-01T00:00:00.000000000\",\"1954-05-01T00:00:00.000000000\",\"1954-06-01T00:00:00.000000000\",\"1954-07-01T00:00:00.000000000\",\"1954-08-01T00:00:00.000000000\",\"1954-09-01T00:00:00.000000000\",\"1954-10-01T00:00:00.000000000\",\"1954-11-01T00:00:00.000000000\",\"1954-12-01T00:00:00.000000000\",\"1955-01-01T00:00:00.000000000\",\"1955-02-01T00:00:00.000000000\",\"1955-03-01T00:00:00.000000000\",\"1955-04-01T00:00:00.000000000\",\"1955-05-01T00:00:00.000000000\",\"1955-06-01T00:00:00.000000000\",\"1955-07-01T00:00:00.000000000\",\"1955-08-01T00:00:00.000000000\",\"1955-09-01T00:00:00.000000000\",\"1955-10-01T00:00:00.000000000\",\"1955-11-01T00:00:00.000000000\",\"1955-12-01T00:00:00.000000000\",\"1956-01-01T00:00:00.000000000\",\"1956-02-01T00:00:00.000000000\",\"1956-03-01T00:00:00.000000000\",\"1956-04-01T00:00:00.000000000\",\"1956-05-01T00:00:00.000000000\",\"1956-06-01T00:00:00.000000000\",\"1956-07-01T00:00:00.000000000\",\"1956-08-01T00:00:00.000000000\",\"1956-09-01T00:00:00.000000000\",\"1956-10-01T00:00:00.000000000\",\"1956-11-01T00:00:00.000000000\",\"1956-12-01T00:00:00.000000000\",\"1957-01-01T00:00:00.000000000\",\"1957-02-01T00:00:00.000000000\",\"1957-03-01T00:00:00.000000000\",\"1957-04-01T00:00:00.000000000\",\"1957-05-01T00:00:00.000000000\",\"1957-06-01T00:00:00.000000000\",\"1957-07-01T00:00:00.000000000\",\"1957-08-01T00:00:00.000000000\",\"1957-09-01T00:00:00.000000000\",\"1957-10-01T00:00:00.000000000\",\"1957-11-01T00:00:00.000000000\",\"1957-12-01T00:00:00.000000000\",\"1958-01-01T00:00:00.000000000\",\"1958-02-01T00:00:00.000000000\",\"1958-03-01T00:00:00.000000000\",\"1958-04-01T00:00:00.000000000\",\"1958-05-01T00:00:00.000000000\",\"1958-06-01T00:00:00.000000000\",\"1958-07-01T00:00:00.000000000\",\"1958-08-01T00:00:00.000000000\",\"1958-09-01T00:00:00.000000000\",\"1958-10-01T00:00:00.000000000\",\"1958-11-01T00:00:00.000000000\",\"1958-12-01T00:00:00.000000000\",\"1959-01-01T00:00:00.000000000\",\"1959-02-01T00:00:00.000000000\",\"1959-03-01T00:00:00.000000000\",\"1959-04-01T00:00:00.000000000\",\"1959-05-01T00:00:00.000000000\",\"1959-06-01T00:00:00.000000000\",\"1959-07-01T00:00:00.000000000\",\"1959-08-01T00:00:00.000000000\",\"1959-09-01T00:00:00.000000000\",\"1959-10-01T00:00:00.000000000\",\"1959-11-01T00:00:00.000000000\",\"1959-12-01T00:00:00.000000000\",\"1960-01-01T00:00:00.000000000\",\"1960-02-01T00:00:00.000000000\",\"1960-03-01T00:00:00.000000000\",\"1960-04-01T00:00:00.000000000\",\"1960-05-01T00:00:00.000000000\",\"1960-06-01T00:00:00.000000000\",\"1960-07-01T00:00:00.000000000\",\"1960-08-01T00:00:00.000000000\",\"1960-09-01T00:00:00.000000000\",\"1960-10-01T00:00:00.000000000\",\"1960-11-01T00:00:00.000000000\",\"1960-12-01T00:00:00.000000000\",\"1961-01-01T00:00:00.000000000\",\"1961-02-01T00:00:00.000000000\",\"1961-03-01T00:00:00.000000000\",\"1961-04-01T00:00:00.000000000\",\"1961-05-01T00:00:00.000000000\",\"1961-06-01T00:00:00.000000000\",\"1961-07-01T00:00:00.000000000\",\"1961-08-01T00:00:00.000000000\",\"1961-09-01T00:00:00.000000000\",\"1961-10-01T00:00:00.000000000\",\"1961-11-01T00:00:00.000000000\",\"1961-12-01T00:00:00.000000000\",\"1962-01-01T00:00:00.000000000\",\"1962-02-01T00:00:00.000000000\",\"1962-03-01T00:00:00.000000000\",\"1962-04-01T00:00:00.000000000\",\"1962-05-01T00:00:00.000000000\",\"1962-06-01T00:00:00.000000000\",\"1962-07-01T00:00:00.000000000\",\"1962-08-01T00:00:00.000000000\",\"1962-09-01T00:00:00.000000000\",\"1962-10-01T00:00:00.000000000\",\"1962-11-01T00:00:00.000000000\",\"1962-12-01T00:00:00.000000000\",\"1963-01-01T00:00:00.000000000\",\"1963-02-01T00:00:00.000000000\",\"1963-03-01T00:00:00.000000000\",\"1963-04-01T00:00:00.000000000\",\"1963-05-01T00:00:00.000000000\",\"1963-06-01T00:00:00.000000000\",\"1963-07-01T00:00:00.000000000\",\"1963-08-01T00:00:00.000000000\",\"1963-09-01T00:00:00.000000000\",\"1963-10-01T00:00:00.000000000\",\"1963-11-01T00:00:00.000000000\",\"1963-12-01T00:00:00.000000000\",\"1964-01-01T00:00:00.000000000\",\"1964-02-01T00:00:00.000000000\",\"1964-03-01T00:00:00.000000000\",\"1964-04-01T00:00:00.000000000\",\"1964-05-01T00:00:00.000000000\",\"1964-06-01T00:00:00.000000000\",\"1964-07-01T00:00:00.000000000\",\"1964-08-01T00:00:00.000000000\",\"1964-09-01T00:00:00.000000000\",\"1964-10-01T00:00:00.000000000\",\"1964-11-01T00:00:00.000000000\",\"1964-12-01T00:00:00.000000000\",\"1965-01-01T00:00:00.000000000\",\"1965-02-01T00:00:00.000000000\",\"1965-03-01T00:00:00.000000000\",\"1965-04-01T00:00:00.000000000\",\"1965-05-01T00:00:00.000000000\",\"1965-06-01T00:00:00.000000000\",\"1965-07-01T00:00:00.000000000\",\"1965-08-01T00:00:00.000000000\",\"1965-09-01T00:00:00.000000000\",\"1965-10-01T00:00:00.000000000\",\"1965-11-01T00:00:00.000000000\",\"1965-12-01T00:00:00.000000000\",\"1966-01-01T00:00:00.000000000\",\"1966-02-01T00:00:00.000000000\",\"1966-03-01T00:00:00.000000000\",\"1966-04-01T00:00:00.000000000\",\"1966-05-01T00:00:00.000000000\",\"1966-06-01T00:00:00.000000000\",\"1966-07-01T00:00:00.000000000\",\"1966-08-01T00:00:00.000000000\",\"1966-09-01T00:00:00.000000000\",\"1966-10-01T00:00:00.000000000\",\"1966-11-01T00:00:00.000000000\",\"1966-12-01T00:00:00.000000000\",\"1967-01-01T00:00:00.000000000\",\"1967-02-01T00:00:00.000000000\",\"1967-03-01T00:00:00.000000000\",\"1967-04-01T00:00:00.000000000\",\"1967-05-01T00:00:00.000000000\",\"1967-06-01T00:00:00.000000000\",\"1967-07-01T00:00:00.000000000\",\"1967-08-01T00:00:00.000000000\",\"1967-09-01T00:00:00.000000000\",\"1967-10-01T00:00:00.000000000\",\"1967-11-01T00:00:00.000000000\",\"1967-12-01T00:00:00.000000000\",\"1968-01-01T00:00:00.000000000\",\"1968-02-01T00:00:00.000000000\",\"1968-03-01T00:00:00.000000000\",\"1968-04-01T00:00:00.000000000\",\"1968-05-01T00:00:00.000000000\",\"1968-06-01T00:00:00.000000000\",\"1968-07-01T00:00:00.000000000\",\"1968-08-01T00:00:00.000000000\",\"1968-09-01T00:00:00.000000000\",\"1968-10-01T00:00:00.000000000\",\"1968-11-01T00:00:00.000000000\",\"1968-12-01T00:00:00.000000000\",\"1969-01-01T00:00:00.000000000\",\"1969-02-01T00:00:00.000000000\",\"1969-03-01T00:00:00.000000000\",\"1969-04-01T00:00:00.000000000\",\"1969-05-01T00:00:00.000000000\",\"1969-06-01T00:00:00.000000000\",\"1969-07-01T00:00:00.000000000\",\"1969-08-01T00:00:00.000000000\",\"1969-09-01T00:00:00.000000000\",\"1969-10-01T00:00:00.000000000\",\"1969-11-01T00:00:00.000000000\",\"1969-12-01T00:00:00.000000000\",\"1970-01-01T00:00:00.000000000\",\"1970-02-01T00:00:00.000000000\",\"1970-03-01T00:00:00.000000000\",\"1970-04-01T00:00:00.000000000\",\"1970-05-01T00:00:00.000000000\",\"1970-06-01T00:00:00.000000000\",\"1970-07-01T00:00:00.000000000\",\"1970-08-01T00:00:00.000000000\",\"1970-09-01T00:00:00.000000000\",\"1970-10-01T00:00:00.000000000\",\"1970-11-01T00:00:00.000000000\",\"1970-12-01T00:00:00.000000000\",\"1971-01-01T00:00:00.000000000\",\"1971-02-01T00:00:00.000000000\",\"1971-03-01T00:00:00.000000000\",\"1971-04-01T00:00:00.000000000\",\"1971-05-01T00:00:00.000000000\",\"1971-06-01T00:00:00.000000000\",\"1971-07-01T00:00:00.000000000\",\"1971-08-01T00:00:00.000000000\",\"1971-09-01T00:00:00.000000000\",\"1971-10-01T00:00:00.000000000\",\"1971-11-01T00:00:00.000000000\",\"1971-12-01T00:00:00.000000000\",\"1972-01-01T00:00:00.000000000\",\"1972-02-01T00:00:00.000000000\",\"1972-03-01T00:00:00.000000000\",\"1972-04-01T00:00:00.000000000\",\"1972-05-01T00:00:00.000000000\",\"1972-06-01T00:00:00.000000000\",\"1972-07-01T00:00:00.000000000\",\"1972-08-01T00:00:00.000000000\",\"1972-09-01T00:00:00.000000000\",\"1972-10-01T00:00:00.000000000\",\"1972-11-01T00:00:00.000000000\",\"1972-12-01T00:00:00.000000000\",\"1973-01-01T00:00:00.000000000\",\"1973-02-01T00:00:00.000000000\",\"1973-03-01T00:00:00.000000000\",\"1973-04-01T00:00:00.000000000\",\"1973-05-01T00:00:00.000000000\",\"1973-06-01T00:00:00.000000000\",\"1973-07-01T00:00:00.000000000\",\"1973-08-01T00:00:00.000000000\",\"1973-09-01T00:00:00.000000000\",\"1973-10-01T00:00:00.000000000\",\"1973-11-01T00:00:00.000000000\",\"1973-12-01T00:00:00.000000000\",\"1974-01-01T00:00:00.000000000\",\"1974-02-01T00:00:00.000000000\",\"1974-03-01T00:00:00.000000000\",\"1974-04-01T00:00:00.000000000\",\"1974-05-01T00:00:00.000000000\",\"1974-06-01T00:00:00.000000000\",\"1974-07-01T00:00:00.000000000\",\"1974-08-01T00:00:00.000000000\",\"1974-09-01T00:00:00.000000000\",\"1974-10-01T00:00:00.000000000\",\"1974-11-01T00:00:00.000000000\",\"1974-12-01T00:00:00.000000000\",\"1975-01-01T00:00:00.000000000\",\"1975-02-01T00:00:00.000000000\",\"1975-03-01T00:00:00.000000000\",\"1975-04-01T00:00:00.000000000\",\"1975-05-01T00:00:00.000000000\",\"1975-06-01T00:00:00.000000000\",\"1975-07-01T00:00:00.000000000\",\"1975-08-01T00:00:00.000000000\",\"1975-09-01T00:00:00.000000000\",\"1975-10-01T00:00:00.000000000\",\"1975-11-01T00:00:00.000000000\",\"1975-12-01T00:00:00.000000000\",\"1976-01-01T00:00:00.000000000\",\"1976-02-01T00:00:00.000000000\",\"1976-03-01T00:00:00.000000000\",\"1976-04-01T00:00:00.000000000\",\"1976-05-01T00:00:00.000000000\",\"1976-06-01T00:00:00.000000000\",\"1976-07-01T00:00:00.000000000\",\"1976-08-01T00:00:00.000000000\",\"1976-09-01T00:00:00.000000000\",\"1976-10-01T00:00:00.000000000\",\"1976-11-01T00:00:00.000000000\",\"1976-12-01T00:00:00.000000000\",\"1977-01-01T00:00:00.000000000\",\"1977-02-01T00:00:00.000000000\",\"1977-03-01T00:00:00.000000000\",\"1977-04-01T00:00:00.000000000\",\"1977-05-01T00:00:00.000000000\",\"1977-06-01T00:00:00.000000000\",\"1977-07-01T00:00:00.000000000\",\"1977-08-01T00:00:00.000000000\",\"1977-09-01T00:00:00.000000000\",\"1977-10-01T00:00:00.000000000\",\"1977-11-01T00:00:00.000000000\",\"1977-12-01T00:00:00.000000000\",\"1978-01-01T00:00:00.000000000\",\"1978-02-01T00:00:00.000000000\",\"1978-03-01T00:00:00.000000000\",\"1978-04-01T00:00:00.000000000\",\"1978-05-01T00:00:00.000000000\",\"1978-06-01T00:00:00.000000000\",\"1978-07-01T00:00:00.000000000\",\"1978-08-01T00:00:00.000000000\",\"1978-09-01T00:00:00.000000000\",\"1978-10-01T00:00:00.000000000\",\"1978-11-01T00:00:00.000000000\",\"1978-12-01T00:00:00.000000000\",\"1979-01-01T00:00:00.000000000\",\"1979-02-01T00:00:00.000000000\",\"1979-03-01T00:00:00.000000000\",\"1979-04-01T00:00:00.000000000\",\"1979-05-01T00:00:00.000000000\",\"1979-06-01T00:00:00.000000000\",\"1979-07-01T00:00:00.000000000\",\"1979-08-01T00:00:00.000000000\",\"1979-09-01T00:00:00.000000000\",\"1979-10-01T00:00:00.000000000\",\"1979-11-01T00:00:00.000000000\",\"1979-12-01T00:00:00.000000000\",\"1980-01-01T00:00:00.000000000\",\"1980-02-01T00:00:00.000000000\",\"1980-03-01T00:00:00.000000000\",\"1980-04-01T00:00:00.000000000\",\"1980-05-01T00:00:00.000000000\",\"1980-06-01T00:00:00.000000000\",\"1980-07-01T00:00:00.000000000\",\"1980-08-01T00:00:00.000000000\",\"1980-09-01T00:00:00.000000000\",\"1980-10-01T00:00:00.000000000\",\"1980-11-01T00:00:00.000000000\",\"1980-12-01T00:00:00.000000000\",\"1981-01-01T00:00:00.000000000\",\"1981-02-01T00:00:00.000000000\",\"1981-03-01T00:00:00.000000000\",\"1981-04-01T00:00:00.000000000\",\"1981-05-01T00:00:00.000000000\",\"1981-06-01T00:00:00.000000000\",\"1981-07-01T00:00:00.000000000\",\"1981-08-01T00:00:00.000000000\",\"1981-09-01T00:00:00.000000000\",\"1981-10-01T00:00:00.000000000\",\"1981-11-01T00:00:00.000000000\",\"1981-12-01T00:00:00.000000000\",\"1982-01-01T00:00:00.000000000\",\"1982-02-01T00:00:00.000000000\",\"1982-03-01T00:00:00.000000000\",\"1982-04-01T00:00:00.000000000\",\"1982-05-01T00:00:00.000000000\",\"1982-06-01T00:00:00.000000000\",\"1982-07-01T00:00:00.000000000\",\"1982-08-01T00:00:00.000000000\",\"1982-09-01T00:00:00.000000000\",\"1982-10-01T00:00:00.000000000\",\"1982-11-01T00:00:00.000000000\",\"1982-12-01T00:00:00.000000000\",\"1983-01-01T00:00:00.000000000\",\"1983-02-01T00:00:00.000000000\",\"1983-03-01T00:00:00.000000000\",\"1983-04-01T00:00:00.000000000\",\"1983-05-01T00:00:00.000000000\",\"1983-06-01T00:00:00.000000000\",\"1983-07-01T00:00:00.000000000\",\"1983-08-01T00:00:00.000000000\",\"1983-09-01T00:00:00.000000000\",\"1983-10-01T00:00:00.000000000\",\"1983-11-01T00:00:00.000000000\",\"1983-12-01T00:00:00.000000000\",\"1984-01-01T00:00:00.000000000\",\"1984-02-01T00:00:00.000000000\",\"1984-03-01T00:00:00.000000000\",\"1984-04-01T00:00:00.000000000\",\"1984-05-01T00:00:00.000000000\",\"1984-06-01T00:00:00.000000000\",\"1984-07-01T00:00:00.000000000\",\"1984-08-01T00:00:00.000000000\",\"1984-09-01T00:00:00.000000000\",\"1984-10-01T00:00:00.000000000\",\"1984-11-01T00:00:00.000000000\",\"1984-12-01T00:00:00.000000000\",\"1985-01-01T00:00:00.000000000\",\"1985-02-01T00:00:00.000000000\",\"1985-03-01T00:00:00.000000000\",\"1985-04-01T00:00:00.000000000\",\"1985-05-01T00:00:00.000000000\",\"1985-06-01T00:00:00.000000000\",\"1985-07-01T00:00:00.000000000\",\"1985-08-01T00:00:00.000000000\",\"1985-09-01T00:00:00.000000000\",\"1985-10-01T00:00:00.000000000\",\"1985-11-01T00:00:00.000000000\",\"1985-12-01T00:00:00.000000000\",\"1986-01-01T00:00:00.000000000\",\"1986-02-01T00:00:00.000000000\",\"1986-03-01T00:00:00.000000000\",\"1986-04-01T00:00:00.000000000\",\"1986-05-01T00:00:00.000000000\",\"1986-06-01T00:00:00.000000000\",\"1986-07-01T00:00:00.000000000\",\"1986-08-01T00:00:00.000000000\",\"1986-09-01T00:00:00.000000000\",\"1986-10-01T00:00:00.000000000\",\"1986-11-01T00:00:00.000000000\",\"1986-12-01T00:00:00.000000000\",\"1987-01-01T00:00:00.000000000\",\"1987-02-01T00:00:00.000000000\",\"1987-03-01T00:00:00.000000000\",\"1987-04-01T00:00:00.000000000\",\"1987-05-01T00:00:00.000000000\",\"1987-06-01T00:00:00.000000000\",\"1987-07-01T00:00:00.000000000\",\"1987-08-01T00:00:00.000000000\",\"1987-09-01T00:00:00.000000000\",\"1987-10-01T00:00:00.000000000\",\"1987-11-01T00:00:00.000000000\",\"1987-12-01T00:00:00.000000000\",\"1988-01-01T00:00:00.000000000\",\"1988-02-01T00:00:00.000000000\",\"1988-03-01T00:00:00.000000000\",\"1988-04-01T00:00:00.000000000\",\"1988-05-01T00:00:00.000000000\",\"1988-06-01T00:00:00.000000000\",\"1988-07-01T00:00:00.000000000\",\"1988-08-01T00:00:00.000000000\",\"1988-09-01T00:00:00.000000000\",\"1988-10-01T00:00:00.000000000\",\"1988-11-01T00:00:00.000000000\",\"1988-12-01T00:00:00.000000000\",\"1989-01-01T00:00:00.000000000\",\"1989-02-01T00:00:00.000000000\",\"1989-03-01T00:00:00.000000000\",\"1989-04-01T00:00:00.000000000\",\"1989-05-01T00:00:00.000000000\",\"1989-06-01T00:00:00.000000000\",\"1989-07-01T00:00:00.000000000\",\"1989-08-01T00:00:00.000000000\",\"1989-09-01T00:00:00.000000000\",\"1989-10-01T00:00:00.000000000\",\"1989-11-01T00:00:00.000000000\",\"1989-12-01T00:00:00.000000000\",\"1990-01-01T00:00:00.000000000\",\"1990-02-01T00:00:00.000000000\",\"1990-03-01T00:00:00.000000000\",\"1990-04-01T00:00:00.000000000\",\"1990-05-01T00:00:00.000000000\",\"1990-06-01T00:00:00.000000000\",\"1990-07-01T00:00:00.000000000\",\"1990-08-01T00:00:00.000000000\",\"1990-09-01T00:00:00.000000000\",\"1990-10-01T00:00:00.000000000\",\"1990-11-01T00:00:00.000000000\",\"1990-12-01T00:00:00.000000000\",\"1991-01-01T00:00:00.000000000\",\"1991-02-01T00:00:00.000000000\",\"1991-03-01T00:00:00.000000000\",\"1991-04-01T00:00:00.000000000\",\"1991-05-01T00:00:00.000000000\",\"1991-06-01T00:00:00.000000000\",\"1991-07-01T00:00:00.000000000\",\"1991-08-01T00:00:00.000000000\",\"1991-09-01T00:00:00.000000000\",\"1991-10-01T00:00:00.000000000\",\"1991-11-01T00:00:00.000000000\",\"1991-12-01T00:00:00.000000000\",\"1992-01-01T00:00:00.000000000\",\"1992-02-01T00:00:00.000000000\",\"1992-03-01T00:00:00.000000000\",\"1992-04-01T00:00:00.000000000\",\"1992-05-01T00:00:00.000000000\",\"1992-06-01T00:00:00.000000000\",\"1992-07-01T00:00:00.000000000\",\"1992-08-01T00:00:00.000000000\",\"1992-09-01T00:00:00.000000000\",\"1992-10-01T00:00:00.000000000\",\"1992-11-01T00:00:00.000000000\",\"1992-12-01T00:00:00.000000000\",\"1993-01-01T00:00:00.000000000\",\"1993-02-01T00:00:00.000000000\",\"1993-03-01T00:00:00.000000000\",\"1993-04-01T00:00:00.000000000\",\"1993-05-01T00:00:00.000000000\",\"1993-06-01T00:00:00.000000000\",\"1993-07-01T00:00:00.000000000\",\"1993-08-01T00:00:00.000000000\",\"1993-09-01T00:00:00.000000000\",\"1993-10-01T00:00:00.000000000\",\"1993-11-01T00:00:00.000000000\",\"1993-12-01T00:00:00.000000000\",\"1994-01-01T00:00:00.000000000\",\"1994-02-01T00:00:00.000000000\",\"1994-03-01T00:00:00.000000000\",\"1994-04-01T00:00:00.000000000\",\"1994-05-01T00:00:00.000000000\",\"1994-06-01T00:00:00.000000000\",\"1994-07-01T00:00:00.000000000\",\"1994-08-01T00:00:00.000000000\",\"1994-09-01T00:00:00.000000000\",\"1994-10-01T00:00:00.000000000\",\"1994-11-01T00:00:00.000000000\",\"1994-12-01T00:00:00.000000000\",\"1995-01-01T00:00:00.000000000\",\"1995-02-01T00:00:00.000000000\",\"1995-03-01T00:00:00.000000000\",\"1995-04-01T00:00:00.000000000\",\"1995-05-01T00:00:00.000000000\",\"1995-06-01T00:00:00.000000000\",\"1995-07-01T00:00:00.000000000\",\"1995-08-01T00:00:00.000000000\",\"1995-09-01T00:00:00.000000000\",\"1995-10-01T00:00:00.000000000\",\"1995-11-01T00:00:00.000000000\",\"1995-12-01T00:00:00.000000000\",\"1996-01-01T00:00:00.000000000\",\"1996-02-01T00:00:00.000000000\",\"1996-03-01T00:00:00.000000000\",\"1996-04-01T00:00:00.000000000\",\"1996-05-01T00:00:00.000000000\",\"1996-06-01T00:00:00.000000000\",\"1996-07-01T00:00:00.000000000\",\"1996-08-01T00:00:00.000000000\",\"1996-09-01T00:00:00.000000000\",\"1996-10-01T00:00:00.000000000\",\"1996-11-01T00:00:00.000000000\",\"1996-12-01T00:00:00.000000000\",\"1997-01-01T00:00:00.000000000\",\"1997-02-01T00:00:00.000000000\",\"1997-03-01T00:00:00.000000000\",\"1997-04-01T00:00:00.000000000\",\"1997-05-01T00:00:00.000000000\",\"1997-06-01T00:00:00.000000000\",\"1997-07-01T00:00:00.000000000\",\"1997-08-01T00:00:00.000000000\",\"1997-09-01T00:00:00.000000000\",\"1997-10-01T00:00:00.000000000\",\"1997-11-01T00:00:00.000000000\",\"1997-12-01T00:00:00.000000000\",\"1998-01-01T00:00:00.000000000\",\"1998-02-01T00:00:00.000000000\",\"1998-03-01T00:00:00.000000000\",\"1998-04-01T00:00:00.000000000\",\"1998-05-01T00:00:00.000000000\",\"1998-06-01T00:00:00.000000000\",\"1998-07-01T00:00:00.000000000\",\"1998-08-01T00:00:00.000000000\",\"1998-09-01T00:00:00.000000000\",\"1998-10-01T00:00:00.000000000\",\"1998-11-01T00:00:00.000000000\",\"1998-12-01T00:00:00.000000000\",\"1999-01-01T00:00:00.000000000\",\"1999-02-01T00:00:00.000000000\",\"1999-03-01T00:00:00.000000000\",\"1999-04-01T00:00:00.000000000\",\"1999-05-01T00:00:00.000000000\",\"1999-06-01T00:00:00.000000000\",\"1999-07-01T00:00:00.000000000\",\"1999-08-01T00:00:00.000000000\",\"1999-09-01T00:00:00.000000000\",\"1999-10-01T00:00:00.000000000\",\"1999-11-01T00:00:00.000000000\",\"1999-12-01T00:00:00.000000000\",\"2000-01-01T00:00:00.000000000\",\"2000-02-01T00:00:00.000000000\",\"2000-03-01T00:00:00.000000000\",\"2000-04-01T00:00:00.000000000\",\"2000-05-01T00:00:00.000000000\",\"2000-06-01T00:00:00.000000000\",\"2000-07-01T00:00:00.000000000\",\"2000-08-01T00:00:00.000000000\",\"2000-09-01T00:00:00.000000000\",\"2000-10-01T00:00:00.000000000\",\"2000-11-01T00:00:00.000000000\",\"2000-12-01T00:00:00.000000000\",\"2001-01-01T00:00:00.000000000\",\"2001-02-01T00:00:00.000000000\",\"2001-03-01T00:00:00.000000000\",\"2001-04-01T00:00:00.000000000\",\"2001-05-01T00:00:00.000000000\",\"2001-06-01T00:00:00.000000000\",\"2001-07-01T00:00:00.000000000\",\"2001-08-01T00:00:00.000000000\",\"2001-09-01T00:00:00.000000000\",\"2001-10-01T00:00:00.000000000\",\"2001-11-01T00:00:00.000000000\",\"2001-12-01T00:00:00.000000000\",\"2002-01-01T00:00:00.000000000\",\"2002-02-01T00:00:00.000000000\",\"2002-03-01T00:00:00.000000000\",\"2002-04-01T00:00:00.000000000\",\"2002-05-01T00:00:00.000000000\",\"2002-06-01T00:00:00.000000000\",\"2002-07-01T00:00:00.000000000\",\"2002-08-01T00:00:00.000000000\",\"2002-09-01T00:00:00.000000000\",\"2002-10-01T00:00:00.000000000\",\"2002-11-01T00:00:00.000000000\",\"2002-12-01T00:00:00.000000000\",\"2003-01-01T00:00:00.000000000\",\"2003-02-01T00:00:00.000000000\",\"2003-03-01T00:00:00.000000000\",\"2003-04-01T00:00:00.000000000\",\"2003-05-01T00:00:00.000000000\",\"2003-06-01T00:00:00.000000000\",\"2003-07-01T00:00:00.000000000\",\"2003-08-01T00:00:00.000000000\",\"2003-09-01T00:00:00.000000000\",\"2003-10-01T00:00:00.000000000\",\"2003-11-01T00:00:00.000000000\",\"2003-12-01T00:00:00.000000000\",\"2004-01-01T00:00:00.000000000\",\"2004-02-01T00:00:00.000000000\",\"2004-03-01T00:00:00.000000000\",\"2004-04-01T00:00:00.000000000\",\"2004-05-01T00:00:00.000000000\",\"2004-06-01T00:00:00.000000000\",\"2004-07-01T00:00:00.000000000\",\"2004-08-01T00:00:00.000000000\",\"2004-09-01T00:00:00.000000000\",\"2004-10-01T00:00:00.000000000\",\"2004-11-01T00:00:00.000000000\",\"2004-12-01T00:00:00.000000000\",\"2005-01-01T00:00:00.000000000\",\"2005-02-01T00:00:00.000000000\",\"2005-03-01T00:00:00.000000000\",\"2005-04-01T00:00:00.000000000\",\"2005-05-01T00:00:00.000000000\",\"2005-06-01T00:00:00.000000000\",\"2005-07-01T00:00:00.000000000\",\"2005-08-01T00:00:00.000000000\",\"2005-09-01T00:00:00.000000000\",\"2005-10-01T00:00:00.000000000\",\"2005-11-01T00:00:00.000000000\",\"2005-12-01T00:00:00.000000000\",\"2006-01-01T00:00:00.000000000\",\"2006-02-01T00:00:00.000000000\",\"2006-03-01T00:00:00.000000000\",\"2006-04-01T00:00:00.000000000\",\"2006-05-01T00:00:00.000000000\",\"2006-06-01T00:00:00.000000000\",\"2006-07-01T00:00:00.000000000\",\"2006-08-01T00:00:00.000000000\",\"2006-09-01T00:00:00.000000000\",\"2006-10-01T00:00:00.000000000\",\"2006-11-01T00:00:00.000000000\",\"2006-12-01T00:00:00.000000000\",\"2007-01-01T00:00:00.000000000\",\"2007-02-01T00:00:00.000000000\",\"2007-03-01T00:00:00.000000000\",\"2007-04-01T00:00:00.000000000\",\"2007-05-01T00:00:00.000000000\",\"2007-06-01T00:00:00.000000000\",\"2007-07-01T00:00:00.000000000\",\"2007-08-01T00:00:00.000000000\",\"2007-09-01T00:00:00.000000000\",\"2007-10-01T00:00:00.000000000\",\"2007-11-01T00:00:00.000000000\",\"2007-12-01T00:00:00.000000000\",\"2008-01-01T00:00:00.000000000\",\"2008-02-01T00:00:00.000000000\",\"2008-03-01T00:00:00.000000000\",\"2008-04-01T00:00:00.000000000\",\"2008-05-01T00:00:00.000000000\",\"2008-06-01T00:00:00.000000000\",\"2008-07-01T00:00:00.000000000\",\"2008-08-01T00:00:00.000000000\",\"2008-09-01T00:00:00.000000000\",\"2008-10-01T00:00:00.000000000\",\"2008-11-01T00:00:00.000000000\",\"2008-12-01T00:00:00.000000000\",\"2009-01-01T00:00:00.000000000\",\"2009-02-01T00:00:00.000000000\",\"2009-03-01T00:00:00.000000000\",\"2009-04-01T00:00:00.000000000\",\"2009-05-01T00:00:00.000000000\",\"2009-06-01T00:00:00.000000000\",\"2009-07-01T00:00:00.000000000\",\"2009-08-01T00:00:00.000000000\",\"2009-09-01T00:00:00.000000000\",\"2009-10-01T00:00:00.000000000\",\"2009-11-01T00:00:00.000000000\",\"2009-12-01T00:00:00.000000000\",\"2010-01-01T00:00:00.000000000\",\"2010-02-01T00:00:00.000000000\",\"2010-03-01T00:00:00.000000000\",\"2010-04-01T00:00:00.000000000\",\"2010-05-01T00:00:00.000000000\",\"2010-06-01T00:00:00.000000000\",\"2010-07-01T00:00:00.000000000\",\"2010-08-01T00:00:00.000000000\",\"2010-09-01T00:00:00.000000000\",\"2010-10-01T00:00:00.000000000\",\"2010-11-01T00:00:00.000000000\",\"2010-12-01T00:00:00.000000000\",\"2011-01-01T00:00:00.000000000\",\"2011-02-01T00:00:00.000000000\",\"2011-03-01T00:00:00.000000000\",\"2011-04-01T00:00:00.000000000\",\"2011-05-01T00:00:00.000000000\",\"2011-06-01T00:00:00.000000000\",\"2011-07-01T00:00:00.000000000\",\"2011-08-01T00:00:00.000000000\",\"2011-09-01T00:00:00.000000000\",\"2011-10-01T00:00:00.000000000\",\"2011-11-01T00:00:00.000000000\",\"2011-12-01T00:00:00.000000000\",\"2012-01-01T00:00:00.000000000\",\"2012-02-01T00:00:00.000000000\",\"2012-03-01T00:00:00.000000000\",\"2012-04-01T00:00:00.000000000\",\"2012-05-01T00:00:00.000000000\",\"2012-06-01T00:00:00.000000000\",\"2012-07-01T00:00:00.000000000\",\"2012-08-01T00:00:00.000000000\",\"2012-09-01T00:00:00.000000000\",\"2012-10-01T00:00:00.000000000\",\"2012-11-01T00:00:00.000000000\",\"2012-12-01T00:00:00.000000000\",\"2013-01-01T00:00:00.000000000\",\"2013-02-01T00:00:00.000000000\",\"2013-03-01T00:00:00.000000000\",\"2013-04-01T00:00:00.000000000\",\"2013-05-01T00:00:00.000000000\",\"2013-06-01T00:00:00.000000000\",\"2013-07-01T00:00:00.000000000\",\"2013-08-01T00:00:00.000000000\",\"2013-09-01T00:00:00.000000000\",\"2013-10-01T00:00:00.000000000\",\"2013-11-01T00:00:00.000000000\",\"2013-12-01T00:00:00.000000000\",\"2014-01-01T00:00:00.000000000\",\"2014-02-01T00:00:00.000000000\",\"2014-03-01T00:00:00.000000000\",\"2014-04-01T00:00:00.000000000\",\"2014-05-01T00:00:00.000000000\",\"2014-06-01T00:00:00.000000000\",\"2014-07-01T00:00:00.000000000\",\"2014-08-01T00:00:00.000000000\",\"2014-09-01T00:00:00.000000000\",\"2014-10-01T00:00:00.000000000\",\"2014-11-01T00:00:00.000000000\",\"2014-12-01T00:00:00.000000000\",\"2015-01-01T00:00:00.000000000\",\"2015-02-01T00:00:00.000000000\",\"2015-03-01T00:00:00.000000000\",\"2015-04-01T00:00:00.000000000\",\"2015-05-01T00:00:00.000000000\",\"2015-06-01T00:00:00.000000000\",\"2015-07-01T00:00:00.000000000\",\"2015-08-01T00:00:00.000000000\",\"2015-09-01T00:00:00.000000000\",\"2015-10-01T00:00:00.000000000\",\"2015-11-01T00:00:00.000000000\",\"2015-12-01T00:00:00.000000000\",\"2016-01-01T00:00:00.000000000\",\"2016-02-01T00:00:00.000000000\",\"2016-03-01T00:00:00.000000000\",\"2016-04-01T00:00:00.000000000\",\"2016-05-01T00:00:00.000000000\",\"2016-06-01T00:00:00.000000000\",\"2016-07-01T00:00:00.000000000\",\"2016-08-01T00:00:00.000000000\",\"2016-09-01T00:00:00.000000000\",\"2016-10-01T00:00:00.000000000\",\"2016-11-01T00:00:00.000000000\",\"2016-12-01T00:00:00.000000000\",\"2017-01-01T00:00:00.000000000\",\"2017-02-01T00:00:00.000000000\",\"2017-03-01T00:00:00.000000000\",\"2017-04-01T00:00:00.000000000\",\"2017-05-01T00:00:00.000000000\",\"2017-06-01T00:00:00.000000000\",\"2017-07-01T00:00:00.000000000\",\"2017-08-01T00:00:00.000000000\",\"2017-09-01T00:00:00.000000000\",\"2017-10-01T00:00:00.000000000\",\"2017-11-01T00:00:00.000000000\",\"2017-12-01T00:00:00.000000000\",\"2018-01-01T00:00:00.000000000\",\"2018-02-01T00:00:00.000000000\",\"2018-03-01T00:00:00.000000000\",\"2018-04-01T00:00:00.000000000\",\"2018-05-01T00:00:00.000000000\",\"2018-06-01T00:00:00.000000000\",\"2018-07-01T00:00:00.000000000\",\"2018-08-01T00:00:00.000000000\",\"2018-09-01T00:00:00.000000000\",\"2018-10-01T00:00:00.000000000\",\"2018-11-01T00:00:00.000000000\",\"2018-12-01T00:00:00.000000000\",\"2019-01-01T00:00:00.000000000\",\"2019-02-01T00:00:00.000000000\",\"2019-03-01T00:00:00.000000000\",\"2019-04-01T00:00:00.000000000\",\"2019-05-01T00:00:00.000000000\",\"2019-06-01T00:00:00.000000000\",\"2019-07-01T00:00:00.000000000\",\"2019-08-01T00:00:00.000000000\",\"2019-09-01T00:00:00.000000000\",\"2019-10-01T00:00:00.000000000\",\"2019-11-01T00:00:00.000000000\",\"2019-12-01T00:00:00.000000000\",\"2020-01-01T00:00:00.000000000\",\"2020-02-01T00:00:00.000000000\",\"2020-03-01T00:00:00.000000000\",\"2020-04-01T00:00:00.000000000\",\"2020-05-01T00:00:00.000000000\",\"2020-06-01T00:00:00.000000000\",\"2020-07-01T00:00:00.000000000\",\"2020-08-01T00:00:00.000000000\",\"2020-09-01T00:00:00.000000000\",\"2020-10-01T00:00:00.000000000\",\"2020-11-01T00:00:00.000000000\",\"2020-12-01T00:00:00.000000000\",\"2021-01-01T00:00:00.000000000\",\"2021-02-01T00:00:00.000000000\",\"2021-03-01T00:00:00.000000000\",\"2021-04-01T00:00:00.000000000\",\"2021-05-01T00:00:00.000000000\",\"2021-06-01T00:00:00.000000000\",\"2021-07-01T00:00:00.000000000\",\"2021-08-01T00:00:00.000000000\",\"2021-09-01T00:00:00.000000000\",\"2021-10-01T00:00:00.000000000\",\"2021-11-01T00:00:00.000000000\",\"2021-12-01T00:00:00.000000000\",\"2022-01-01T00:00:00.000000000\",\"2022-02-01T00:00:00.000000000\",\"2022-03-01T00:00:00.000000000\",\"2022-04-01T00:00:00.000000000\",\"2022-05-01T00:00:00.000000000\",\"2022-06-01T00:00:00.000000000\",\"2022-07-01T00:00:00.000000000\",\"2022-08-01T00:00:00.000000000\",\"2022-09-01T00:00:00.000000000\",\"2022-10-01T00:00:00.000000000\",\"2022-11-01T00:00:00.000000000\",\"2022-12-01T00:00:00.000000000\"],\"y\":[null,null,null,null,null,null,null,null,null,null,null,null,null,null,null,null,null,null,null,null,null,null,null,null,null,null,null,null,null,null,null,null,null,null,null,null,null,null,null,null,null,null,null,null,null,null,null,null,null,null,null,null,null,null,null,null,null,null,null,null,null,null,null,null,null,null,null,null,null,null,null,null,null,null,null,null,null,null,null,null,null,null,null,null,null,null,null,null,null,null,null,null,null,null,null,null,null,null,null,null,null,null,null,null,null,null,null,null,null,null,null,null,null,null,null,null,null,null,null,null,21.3,21.4,21.5,21.6,21.6,21.6,21.5,21.4,21.4,21.4,21.5,21.5,21.6,21.3,21.4,21.4,21.5,21.5,21.6,21.7,21.7,21.7,21.4,21.4,21.4,21.6,21.7,21.8,21.8,21.9,21.8,21.9,21.9,22.2,22.2,22.3,22.3,22.2,22.3,22.4,22.3,22.4,22.5,22.5,22.6,22.5,22.7,22.6,22.7,22.6,22.6,22.2,22.4,22.5,22.5,22.5,22.6,22.4,22.5,22.4,22.4,22.6,22.4,22.7,22.7,22.5,22.3,22.4,22.8,22.7,22.7,22.8,22.8,22.7,22.7,22.6,22.6,22.5,22.7,22.6,22.5,22.7,22.6,22.6,22.8,22.2,22.6,22.5,22.5,22.6,22.5,22.6,22.5,22.5,22.5,22.6,22.8,22.7,22.6,22.9,23.0,23.1,23.0,23.0,23.1,23.0,23.1,23.1,23.1,23.2,23.2,23.2,23.2,23.3,23.4,23.3,23.4,23.4,23.5,23.5,23.6,23.7,23.6,23.9,23.9,23.8,23.8,23.9,24.0,23.9,24.0,23.9,24.0,24.1,24.1,24.0,24.1,24.2,24.2,24.3,24.3,24.3,24.4,24.3,24.4,24.4,24.7,24.9,24.8,25.0,24.9,24.9,25.0,25.0,25.0,25.1,25.1,25.1,25.0,25.5,25.4,25.3,25.5,25.4,25.6,25.9,26.0,26.2,26.3,26.2,26.2,26.1,26.2,26.3,26.3,26.8,26.9,27.0,26.9,27.0,27.0,26.8,26.9,26.9,27.0,27.0,27.1,27.3,27.6,27.7,27.9,27.8,27.9,28.2,28.3,28.6,28.8,29.2,29.2,29.4,29.4,30.3,31.5,32.5,34.1,35.4,36.9,37.6,38.3,38.6,38.9,39.2,39.3,39.2,39.4,39.6,40.0,40.3,40.6,41.0,41.3,41.7,42.5,42.8,43.2,43.5,43.9,44.1,44.5,44.4,44.1,43.9,44.1,44.4,44.8,45.2,45.7,46.1,46.8,47.5,48.1,48.1,48.4,48.6,48.9,48.9,49.1,49.5,49.8,50.5,51.3,51.6,51.1,50.6,51.0,51.4,51.7,51.9,52.1,52.6,53.2,54.1,54.9,55.9,55.8,55.9,57.4,59.5,62.0,64.7,67.3,69.7,71.9,73.5,74.8,76.8,79.1,81.9,84.5,85.4,86.4,86.5,86.7,87.2,87.5,88.0,88.8,90.7,92.1,95.2,97.4,97.6,97.9,97.3,97.3,97.8,98.6,99.2,100.5,101.5,100.6,98.0,96.6,94.2,95.7,98.4,99.3,99.8,100.3,101.7,102.5,102.8,99.6,97.7,96.8,98.9,100.4,100.6,100.9,101.2,101.0,100.8,100.5,100.0,100.2,101.4,101.4,101.7,101.6,100.8,100.5,100.1,100.6,101.1,100.8,100.1,100.3,100.3,101.3,102.3,102.2,102.2,102.2,101.2,101.2,101.2,101.8,102.4,102.6,99.5,92.6,87.2,87.2,88.8,85.6,83.6,84.4,82.8,82.1,82.5,85.4,87.4,87.6,87.6,87.1,88.5,89.2,90.5,90.3,89.6,90.0,89.5,88.8,88.7,88.4,88.8,88.5,88.9,89.4,90.1,89.8,89.8,89.8,89.6,90.3,90.8,91.8,96.6,97.4,96.9,96.7,94.9,93.8,94.4,93.9,94.2,98.9,98.2,97.6,97.5,96.7,97.3,97.1,101.6,106.5,110.8,111.2,111.0,108.5,104.5,101.9,101.2,102.1,101.1,100.7,101.1,101.5,101.6,102.4,103.1,101.5,101.2,101.2,101.4,102.0,103.3,103.7,103.5,103.6,104.3,105.1,105.3,105.0,104.3,104.9,104.9,104.3,103.9,103.4,103.4,103.0,105.3,104.4,103.7,102.8,104.1,104.3,103.7,102.8,103.1,104.5,106.7,106.1,105.7,106.1,105.9,105.7,105.8,105.5,105.6,105.8,106.7,105.8,105.6,104.1,104.4,103.4,104.4,106.9,107.1,108.3,111.2,112.0,110.3,110.1,109.7,109.8,110.5,111.8,113.9,115.2,115.0,113.0,111.0,108.8,110.0,109.1,110.9,112.4,111.8,111.4,109.8,107.5,105.1,103.3,102.4,103.2,103.6,103.3,102.1,101.3,101.5,101.1,100.1,99.7,99.2,100.4,105.5,104.9,104.5,106.7,109.5,111.8,112.0,111.5,113.8,115.0,118.8,124.3,120.9,120.0,126.8,127.3,123.8,129.2,129.6,129.2,130.1,135.0,134.1,131.7,132.3,138.4,136.9,129.6,127.3,130.9,122.9,116.9,113.9,114.2,113.5,117.6,121.5,121.9,121.6,122.4,123.1,123.7,126.9,126.7,127.1,133.5,140.8,143.9,136.5,129.4,129.8,132.2,137.8,142.9,137.8,136.9,138.8,143.9,145.8,145.1,143.4,147.6,151.5,151.1,151.5,152.9,158.6,163.8,162.3,157.2,161.8,163.5,166.7,163.3,163.7,172.8,183.5,208.2,205.9,191.0,187.6,196.6,194.1,192.0,198.5,199.8,199.8,207.9,211.9,198.1,184.1,184.1,192.7,190.281,192.31,200.206,203.307,208.635,209.799,209.639,206.412,210.742,212.386,223.814,225.649,226.775,229.731,233.349,234.778,243.924,262.081,271.149,262.566,260.125,238.065,195.155,176.583,178.661,183.721,178.415,177.552,179.83,197.033,195.778,201.583,202.777,204.719,210.932,209.915,212.807,209.624,209.326,209.219,206.631,203.764,206.877,208.77,209.832,216.71,219.496,227.13,229.258,232.068,240.079,247.977,250.744,245.534,246.187,246.88,248.55,246.655,247.64,243.353,244.876,248.898,249.742,249.677,241.806,235.897,233.568,244.987,252.987,256.017,248.819,244.708,245.025,255.696,246.595,240.473,240.468,242.711,242.986,244.833,242.745,241.954,242.718,245.733,250.34,249.925,249.961,249.864,249.213,249.714,248.744,245.699,241.61,237.061,229.016,218.536,199.926,203.021,205.757,203.577,208.973,212.015,211.623,208.579,197.246,195.616,195.114,190.143,185.235,176.401,182.234,186.713,188.596,192.899,189.046,188.772,192.243,195.979,196.372,199.513,205.369,204.133,202.528,202.954,198.449,197.808,195.994,201.45,212.723,208.328,213.047,213.574,216.872,220.381,216.925,218.268,220.632,221.473,219.758,222.435,223.444,226.462,219.267,212.633,205.54,208.699,216.376,221.758,219.68,214.666,215.85,213.169,213.122,216.62,217.435,219.786,217.803,214.119,203.912,182.889,179.542,188.437,192.556,194.285,196.875,196.435,196.359,203.649,209.328,218.944,231.127,228.374,229.874,234.625,238.447,242.958,245.847,255.01,261.257,263.553,265.929,275.17,null,null,null,null,null,null,null,null,null,null],\"type\":\"scatter\"},{\"mode\":\"lines\",\"name\":\"Apparel\",\"x\":[\"1947-01-01T00:00:00.000000000\",\"1947-02-01T00:00:00.000000000\",\"1947-03-01T00:00:00.000000000\",\"1947-04-01T00:00:00.000000000\",\"1947-05-01T00:00:00.000000000\",\"1947-06-01T00:00:00.000000000\",\"1947-07-01T00:00:00.000000000\",\"1947-08-01T00:00:00.000000000\",\"1947-09-01T00:00:00.000000000\",\"1947-10-01T00:00:00.000000000\",\"1947-11-01T00:00:00.000000000\",\"1947-12-01T00:00:00.000000000\",\"1948-01-01T00:00:00.000000000\",\"1948-02-01T00:00:00.000000000\",\"1948-03-01T00:00:00.000000000\",\"1948-04-01T00:00:00.000000000\",\"1948-05-01T00:00:00.000000000\",\"1948-06-01T00:00:00.000000000\",\"1948-07-01T00:00:00.000000000\",\"1948-08-01T00:00:00.000000000\",\"1948-09-01T00:00:00.000000000\",\"1948-10-01T00:00:00.000000000\",\"1948-11-01T00:00:00.000000000\",\"1948-12-01T00:00:00.000000000\",\"1949-01-01T00:00:00.000000000\",\"1949-02-01T00:00:00.000000000\",\"1949-03-01T00:00:00.000000000\",\"1949-04-01T00:00:00.000000000\",\"1949-05-01T00:00:00.000000000\",\"1949-06-01T00:00:00.000000000\",\"1949-07-01T00:00:00.000000000\",\"1949-08-01T00:00:00.000000000\",\"1949-09-01T00:00:00.000000000\",\"1949-10-01T00:00:00.000000000\",\"1949-11-01T00:00:00.000000000\",\"1949-12-01T00:00:00.000000000\",\"1950-01-01T00:00:00.000000000\",\"1950-02-01T00:00:00.000000000\",\"1950-03-01T00:00:00.000000000\",\"1950-04-01T00:00:00.000000000\",\"1950-05-01T00:00:00.000000000\",\"1950-06-01T00:00:00.000000000\",\"1950-07-01T00:00:00.000000000\",\"1950-08-01T00:00:00.000000000\",\"1950-09-01T00:00:00.000000000\",\"1950-10-01T00:00:00.000000000\",\"1950-11-01T00:00:00.000000000\",\"1950-12-01T00:00:00.000000000\",\"1951-01-01T00:00:00.000000000\",\"1951-02-01T00:00:00.000000000\",\"1951-03-01T00:00:00.000000000\",\"1951-04-01T00:00:00.000000000\",\"1951-05-01T00:00:00.000000000\",\"1951-06-01T00:00:00.000000000\",\"1951-07-01T00:00:00.000000000\",\"1951-08-01T00:00:00.000000000\",\"1951-09-01T00:00:00.000000000\",\"1951-10-01T00:00:00.000000000\",\"1951-11-01T00:00:00.000000000\",\"1951-12-01T00:00:00.000000000\",\"1952-01-01T00:00:00.000000000\",\"1952-02-01T00:00:00.000000000\",\"1952-03-01T00:00:00.000000000\",\"1952-04-01T00:00:00.000000000\",\"1952-05-01T00:00:00.000000000\",\"1952-06-01T00:00:00.000000000\",\"1952-07-01T00:00:00.000000000\",\"1952-08-01T00:00:00.000000000\",\"1952-09-01T00:00:00.000000000\",\"1952-10-01T00:00:00.000000000\",\"1952-11-01T00:00:00.000000000\",\"1952-12-01T00:00:00.000000000\",\"1953-01-01T00:00:00.000000000\",\"1953-02-01T00:00:00.000000000\",\"1953-03-01T00:00:00.000000000\",\"1953-04-01T00:00:00.000000000\",\"1953-05-01T00:00:00.000000000\",\"1953-06-01T00:00:00.000000000\",\"1953-07-01T00:00:00.000000000\",\"1953-08-01T00:00:00.000000000\",\"1953-09-01T00:00:00.000000000\",\"1953-10-01T00:00:00.000000000\",\"1953-11-01T00:00:00.000000000\",\"1953-12-01T00:00:00.000000000\",\"1954-01-01T00:00:00.000000000\",\"1954-02-01T00:00:00.000000000\",\"1954-03-01T00:00:00.000000000\",\"1954-04-01T00:00:00.000000000\",\"1954-05-01T00:00:00.000000000\",\"1954-06-01T00:00:00.000000000\",\"1954-07-01T00:00:00.000000000\",\"1954-08-01T00:00:00.000000000\",\"1954-09-01T00:00:00.000000000\",\"1954-10-01T00:00:00.000000000\",\"1954-11-01T00:00:00.000000000\",\"1954-12-01T00:00:00.000000000\",\"1955-01-01T00:00:00.000000000\",\"1955-02-01T00:00:00.000000000\",\"1955-03-01T00:00:00.000000000\",\"1955-04-01T00:00:00.000000000\",\"1955-05-01T00:00:00.000000000\",\"1955-06-01T00:00:00.000000000\",\"1955-07-01T00:00:00.000000000\",\"1955-08-01T00:00:00.000000000\",\"1955-09-01T00:00:00.000000000\",\"1955-10-01T00:00:00.000000000\",\"1955-11-01T00:00:00.000000000\",\"1955-12-01T00:00:00.000000000\",\"1956-01-01T00:00:00.000000000\",\"1956-02-01T00:00:00.000000000\",\"1956-03-01T00:00:00.000000000\",\"1956-04-01T00:00:00.000000000\",\"1956-05-01T00:00:00.000000000\",\"1956-06-01T00:00:00.000000000\",\"1956-07-01T00:00:00.000000000\",\"1956-08-01T00:00:00.000000000\",\"1956-09-01T00:00:00.000000000\",\"1956-10-01T00:00:00.000000000\",\"1956-11-01T00:00:00.000000000\",\"1956-12-01T00:00:00.000000000\",\"1957-01-01T00:00:00.000000000\",\"1957-02-01T00:00:00.000000000\",\"1957-03-01T00:00:00.000000000\",\"1957-04-01T00:00:00.000000000\",\"1957-05-01T00:00:00.000000000\",\"1957-06-01T00:00:00.000000000\",\"1957-07-01T00:00:00.000000000\",\"1957-08-01T00:00:00.000000000\",\"1957-09-01T00:00:00.000000000\",\"1957-10-01T00:00:00.000000000\",\"1957-11-01T00:00:00.000000000\",\"1957-12-01T00:00:00.000000000\",\"1958-01-01T00:00:00.000000000\",\"1958-02-01T00:00:00.000000000\",\"1958-03-01T00:00:00.000000000\",\"1958-04-01T00:00:00.000000000\",\"1958-05-01T00:00:00.000000000\",\"1958-06-01T00:00:00.000000000\",\"1958-07-01T00:00:00.000000000\",\"1958-08-01T00:00:00.000000000\",\"1958-09-01T00:00:00.000000000\",\"1958-10-01T00:00:00.000000000\",\"1958-11-01T00:00:00.000000000\",\"1958-12-01T00:00:00.000000000\",\"1959-01-01T00:00:00.000000000\",\"1959-02-01T00:00:00.000000000\",\"1959-03-01T00:00:00.000000000\",\"1959-04-01T00:00:00.000000000\",\"1959-05-01T00:00:00.000000000\",\"1959-06-01T00:00:00.000000000\",\"1959-07-01T00:00:00.000000000\",\"1959-08-01T00:00:00.000000000\",\"1959-09-01T00:00:00.000000000\",\"1959-10-01T00:00:00.000000000\",\"1959-11-01T00:00:00.000000000\",\"1959-12-01T00:00:00.000000000\",\"1960-01-01T00:00:00.000000000\",\"1960-02-01T00:00:00.000000000\",\"1960-03-01T00:00:00.000000000\",\"1960-04-01T00:00:00.000000000\",\"1960-05-01T00:00:00.000000000\",\"1960-06-01T00:00:00.000000000\",\"1960-07-01T00:00:00.000000000\",\"1960-08-01T00:00:00.000000000\",\"1960-09-01T00:00:00.000000000\",\"1960-10-01T00:00:00.000000000\",\"1960-11-01T00:00:00.000000000\",\"1960-12-01T00:00:00.000000000\",\"1961-01-01T00:00:00.000000000\",\"1961-02-01T00:00:00.000000000\",\"1961-03-01T00:00:00.000000000\",\"1961-04-01T00:00:00.000000000\",\"1961-05-01T00:00:00.000000000\",\"1961-06-01T00:00:00.000000000\",\"1961-07-01T00:00:00.000000000\",\"1961-08-01T00:00:00.000000000\",\"1961-09-01T00:00:00.000000000\",\"1961-10-01T00:00:00.000000000\",\"1961-11-01T00:00:00.000000000\",\"1961-12-01T00:00:00.000000000\",\"1962-01-01T00:00:00.000000000\",\"1962-02-01T00:00:00.000000000\",\"1962-03-01T00:00:00.000000000\",\"1962-04-01T00:00:00.000000000\",\"1962-05-01T00:00:00.000000000\",\"1962-06-01T00:00:00.000000000\",\"1962-07-01T00:00:00.000000000\",\"1962-08-01T00:00:00.000000000\",\"1962-09-01T00:00:00.000000000\",\"1962-10-01T00:00:00.000000000\",\"1962-11-01T00:00:00.000000000\",\"1962-12-01T00:00:00.000000000\",\"1963-01-01T00:00:00.000000000\",\"1963-02-01T00:00:00.000000000\",\"1963-03-01T00:00:00.000000000\",\"1963-04-01T00:00:00.000000000\",\"1963-05-01T00:00:00.000000000\",\"1963-06-01T00:00:00.000000000\",\"1963-07-01T00:00:00.000000000\",\"1963-08-01T00:00:00.000000000\",\"1963-09-01T00:00:00.000000000\",\"1963-10-01T00:00:00.000000000\",\"1963-11-01T00:00:00.000000000\",\"1963-12-01T00:00:00.000000000\",\"1964-01-01T00:00:00.000000000\",\"1964-02-01T00:00:00.000000000\",\"1964-03-01T00:00:00.000000000\",\"1964-04-01T00:00:00.000000000\",\"1964-05-01T00:00:00.000000000\",\"1964-06-01T00:00:00.000000000\",\"1964-07-01T00:00:00.000000000\",\"1964-08-01T00:00:00.000000000\",\"1964-09-01T00:00:00.000000000\",\"1964-10-01T00:00:00.000000000\",\"1964-11-01T00:00:00.000000000\",\"1964-12-01T00:00:00.000000000\",\"1965-01-01T00:00:00.000000000\",\"1965-02-01T00:00:00.000000000\",\"1965-03-01T00:00:00.000000000\",\"1965-04-01T00:00:00.000000000\",\"1965-05-01T00:00:00.000000000\",\"1965-06-01T00:00:00.000000000\",\"1965-07-01T00:00:00.000000000\",\"1965-08-01T00:00:00.000000000\",\"1965-09-01T00:00:00.000000000\",\"1965-10-01T00:00:00.000000000\",\"1965-11-01T00:00:00.000000000\",\"1965-12-01T00:00:00.000000000\",\"1966-01-01T00:00:00.000000000\",\"1966-02-01T00:00:00.000000000\",\"1966-03-01T00:00:00.000000000\",\"1966-04-01T00:00:00.000000000\",\"1966-05-01T00:00:00.000000000\",\"1966-06-01T00:00:00.000000000\",\"1966-07-01T00:00:00.000000000\",\"1966-08-01T00:00:00.000000000\",\"1966-09-01T00:00:00.000000000\",\"1966-10-01T00:00:00.000000000\",\"1966-11-01T00:00:00.000000000\",\"1966-12-01T00:00:00.000000000\",\"1967-01-01T00:00:00.000000000\",\"1967-02-01T00:00:00.000000000\",\"1967-03-01T00:00:00.000000000\",\"1967-04-01T00:00:00.000000000\",\"1967-05-01T00:00:00.000000000\",\"1967-06-01T00:00:00.000000000\",\"1967-07-01T00:00:00.000000000\",\"1967-08-01T00:00:00.000000000\",\"1967-09-01T00:00:00.000000000\",\"1967-10-01T00:00:00.000000000\",\"1967-11-01T00:00:00.000000000\",\"1967-12-01T00:00:00.000000000\",\"1968-01-01T00:00:00.000000000\",\"1968-02-01T00:00:00.000000000\",\"1968-03-01T00:00:00.000000000\",\"1968-04-01T00:00:00.000000000\",\"1968-05-01T00:00:00.000000000\",\"1968-06-01T00:00:00.000000000\",\"1968-07-01T00:00:00.000000000\",\"1968-08-01T00:00:00.000000000\",\"1968-09-01T00:00:00.000000000\",\"1968-10-01T00:00:00.000000000\",\"1968-11-01T00:00:00.000000000\",\"1968-12-01T00:00:00.000000000\",\"1969-01-01T00:00:00.000000000\",\"1969-02-01T00:00:00.000000000\",\"1969-03-01T00:00:00.000000000\",\"1969-04-01T00:00:00.000000000\",\"1969-05-01T00:00:00.000000000\",\"1969-06-01T00:00:00.000000000\",\"1969-07-01T00:00:00.000000000\",\"1969-08-01T00:00:00.000000000\",\"1969-09-01T00:00:00.000000000\",\"1969-10-01T00:00:00.000000000\",\"1969-11-01T00:00:00.000000000\",\"1969-12-01T00:00:00.000000000\",\"1970-01-01T00:00:00.000000000\",\"1970-02-01T00:00:00.000000000\",\"1970-03-01T00:00:00.000000000\",\"1970-04-01T00:00:00.000000000\",\"1970-05-01T00:00:00.000000000\",\"1970-06-01T00:00:00.000000000\",\"1970-07-01T00:00:00.000000000\",\"1970-08-01T00:00:00.000000000\",\"1970-09-01T00:00:00.000000000\",\"1970-10-01T00:00:00.000000000\",\"1970-11-01T00:00:00.000000000\",\"1970-12-01T00:00:00.000000000\",\"1971-01-01T00:00:00.000000000\",\"1971-02-01T00:00:00.000000000\",\"1971-03-01T00:00:00.000000000\",\"1971-04-01T00:00:00.000000000\",\"1971-05-01T00:00:00.000000000\",\"1971-06-01T00:00:00.000000000\",\"1971-07-01T00:00:00.000000000\",\"1971-08-01T00:00:00.000000000\",\"1971-09-01T00:00:00.000000000\",\"1971-10-01T00:00:00.000000000\",\"1971-11-01T00:00:00.000000000\",\"1971-12-01T00:00:00.000000000\",\"1972-01-01T00:00:00.000000000\",\"1972-02-01T00:00:00.000000000\",\"1972-03-01T00:00:00.000000000\",\"1972-04-01T00:00:00.000000000\",\"1972-05-01T00:00:00.000000000\",\"1972-06-01T00:00:00.000000000\",\"1972-07-01T00:00:00.000000000\",\"1972-08-01T00:00:00.000000000\",\"1972-09-01T00:00:00.000000000\",\"1972-10-01T00:00:00.000000000\",\"1972-11-01T00:00:00.000000000\",\"1972-12-01T00:00:00.000000000\",\"1973-01-01T00:00:00.000000000\",\"1973-02-01T00:00:00.000000000\",\"1973-03-01T00:00:00.000000000\",\"1973-04-01T00:00:00.000000000\",\"1973-05-01T00:00:00.000000000\",\"1973-06-01T00:00:00.000000000\",\"1973-07-01T00:00:00.000000000\",\"1973-08-01T00:00:00.000000000\",\"1973-09-01T00:00:00.000000000\",\"1973-10-01T00:00:00.000000000\",\"1973-11-01T00:00:00.000000000\",\"1973-12-01T00:00:00.000000000\",\"1974-01-01T00:00:00.000000000\",\"1974-02-01T00:00:00.000000000\",\"1974-03-01T00:00:00.000000000\",\"1974-04-01T00:00:00.000000000\",\"1974-05-01T00:00:00.000000000\",\"1974-06-01T00:00:00.000000000\",\"1974-07-01T00:00:00.000000000\",\"1974-08-01T00:00:00.000000000\",\"1974-09-01T00:00:00.000000000\",\"1974-10-01T00:00:00.000000000\",\"1974-11-01T00:00:00.000000000\",\"1974-12-01T00:00:00.000000000\",\"1975-01-01T00:00:00.000000000\",\"1975-02-01T00:00:00.000000000\",\"1975-03-01T00:00:00.000000000\",\"1975-04-01T00:00:00.000000000\",\"1975-05-01T00:00:00.000000000\",\"1975-06-01T00:00:00.000000000\",\"1975-07-01T00:00:00.000000000\",\"1975-08-01T00:00:00.000000000\",\"1975-09-01T00:00:00.000000000\",\"1975-10-01T00:00:00.000000000\",\"1975-11-01T00:00:00.000000000\",\"1975-12-01T00:00:00.000000000\",\"1976-01-01T00:00:00.000000000\",\"1976-02-01T00:00:00.000000000\",\"1976-03-01T00:00:00.000000000\",\"1976-04-01T00:00:00.000000000\",\"1976-05-01T00:00:00.000000000\",\"1976-06-01T00:00:00.000000000\",\"1976-07-01T00:00:00.000000000\",\"1976-08-01T00:00:00.000000000\",\"1976-09-01T00:00:00.000000000\",\"1976-10-01T00:00:00.000000000\",\"1976-11-01T00:00:00.000000000\",\"1976-12-01T00:00:00.000000000\",\"1977-01-01T00:00:00.000000000\",\"1977-02-01T00:00:00.000000000\",\"1977-03-01T00:00:00.000000000\",\"1977-04-01T00:00:00.000000000\",\"1977-05-01T00:00:00.000000000\",\"1977-06-01T00:00:00.000000000\",\"1977-07-01T00:00:00.000000000\",\"1977-08-01T00:00:00.000000000\",\"1977-09-01T00:00:00.000000000\",\"1977-10-01T00:00:00.000000000\",\"1977-11-01T00:00:00.000000000\",\"1977-12-01T00:00:00.000000000\",\"1978-01-01T00:00:00.000000000\",\"1978-02-01T00:00:00.000000000\",\"1978-03-01T00:00:00.000000000\",\"1978-04-01T00:00:00.000000000\",\"1978-05-01T00:00:00.000000000\",\"1978-06-01T00:00:00.000000000\",\"1978-07-01T00:00:00.000000000\",\"1978-08-01T00:00:00.000000000\",\"1978-09-01T00:00:00.000000000\",\"1978-10-01T00:00:00.000000000\",\"1978-11-01T00:00:00.000000000\",\"1978-12-01T00:00:00.000000000\",\"1979-01-01T00:00:00.000000000\",\"1979-02-01T00:00:00.000000000\",\"1979-03-01T00:00:00.000000000\",\"1979-04-01T00:00:00.000000000\",\"1979-05-01T00:00:00.000000000\",\"1979-06-01T00:00:00.000000000\",\"1979-07-01T00:00:00.000000000\",\"1979-08-01T00:00:00.000000000\",\"1979-09-01T00:00:00.000000000\",\"1979-10-01T00:00:00.000000000\",\"1979-11-01T00:00:00.000000000\",\"1979-12-01T00:00:00.000000000\",\"1980-01-01T00:00:00.000000000\",\"1980-02-01T00:00:00.000000000\",\"1980-03-01T00:00:00.000000000\",\"1980-04-01T00:00:00.000000000\",\"1980-05-01T00:00:00.000000000\",\"1980-06-01T00:00:00.000000000\",\"1980-07-01T00:00:00.000000000\",\"1980-08-01T00:00:00.000000000\",\"1980-09-01T00:00:00.000000000\",\"1980-10-01T00:00:00.000000000\",\"1980-11-01T00:00:00.000000000\",\"1980-12-01T00:00:00.000000000\",\"1981-01-01T00:00:00.000000000\",\"1981-02-01T00:00:00.000000000\",\"1981-03-01T00:00:00.000000000\",\"1981-04-01T00:00:00.000000000\",\"1981-05-01T00:00:00.000000000\",\"1981-06-01T00:00:00.000000000\",\"1981-07-01T00:00:00.000000000\",\"1981-08-01T00:00:00.000000000\",\"1981-09-01T00:00:00.000000000\",\"1981-10-01T00:00:00.000000000\",\"1981-11-01T00:00:00.000000000\",\"1981-12-01T00:00:00.000000000\",\"1982-01-01T00:00:00.000000000\",\"1982-02-01T00:00:00.000000000\",\"1982-03-01T00:00:00.000000000\",\"1982-04-01T00:00:00.000000000\",\"1982-05-01T00:00:00.000000000\",\"1982-06-01T00:00:00.000000000\",\"1982-07-01T00:00:00.000000000\",\"1982-08-01T00:00:00.000000000\",\"1982-09-01T00:00:00.000000000\",\"1982-10-01T00:00:00.000000000\",\"1982-11-01T00:00:00.000000000\",\"1982-12-01T00:00:00.000000000\",\"1983-01-01T00:00:00.000000000\",\"1983-02-01T00:00:00.000000000\",\"1983-03-01T00:00:00.000000000\",\"1983-04-01T00:00:00.000000000\",\"1983-05-01T00:00:00.000000000\",\"1983-06-01T00:00:00.000000000\",\"1983-07-01T00:00:00.000000000\",\"1983-08-01T00:00:00.000000000\",\"1983-09-01T00:00:00.000000000\",\"1983-10-01T00:00:00.000000000\",\"1983-11-01T00:00:00.000000000\",\"1983-12-01T00:00:00.000000000\",\"1984-01-01T00:00:00.000000000\",\"1984-02-01T00:00:00.000000000\",\"1984-03-01T00:00:00.000000000\",\"1984-04-01T00:00:00.000000000\",\"1984-05-01T00:00:00.000000000\",\"1984-06-01T00:00:00.000000000\",\"1984-07-01T00:00:00.000000000\",\"1984-08-01T00:00:00.000000000\",\"1984-09-01T00:00:00.000000000\",\"1984-10-01T00:00:00.000000000\",\"1984-11-01T00:00:00.000000000\",\"1984-12-01T00:00:00.000000000\",\"1985-01-01T00:00:00.000000000\",\"1985-02-01T00:00:00.000000000\",\"1985-03-01T00:00:00.000000000\",\"1985-04-01T00:00:00.000000000\",\"1985-05-01T00:00:00.000000000\",\"1985-06-01T00:00:00.000000000\",\"1985-07-01T00:00:00.000000000\",\"1985-08-01T00:00:00.000000000\",\"1985-09-01T00:00:00.000000000\",\"1985-10-01T00:00:00.000000000\",\"1985-11-01T00:00:00.000000000\",\"1985-12-01T00:00:00.000000000\",\"1986-01-01T00:00:00.000000000\",\"1986-02-01T00:00:00.000000000\",\"1986-03-01T00:00:00.000000000\",\"1986-04-01T00:00:00.000000000\",\"1986-05-01T00:00:00.000000000\",\"1986-06-01T00:00:00.000000000\",\"1986-07-01T00:00:00.000000000\",\"1986-08-01T00:00:00.000000000\",\"1986-09-01T00:00:00.000000000\",\"1986-10-01T00:00:00.000000000\",\"1986-11-01T00:00:00.000000000\",\"1986-12-01T00:00:00.000000000\",\"1987-01-01T00:00:00.000000000\",\"1987-02-01T00:00:00.000000000\",\"1987-03-01T00:00:00.000000000\",\"1987-04-01T00:00:00.000000000\",\"1987-05-01T00:00:00.000000000\",\"1987-06-01T00:00:00.000000000\",\"1987-07-01T00:00:00.000000000\",\"1987-08-01T00:00:00.000000000\",\"1987-09-01T00:00:00.000000000\",\"1987-10-01T00:00:00.000000000\",\"1987-11-01T00:00:00.000000000\",\"1987-12-01T00:00:00.000000000\",\"1988-01-01T00:00:00.000000000\",\"1988-02-01T00:00:00.000000000\",\"1988-03-01T00:00:00.000000000\",\"1988-04-01T00:00:00.000000000\",\"1988-05-01T00:00:00.000000000\",\"1988-06-01T00:00:00.000000000\",\"1988-07-01T00:00:00.000000000\",\"1988-08-01T00:00:00.000000000\",\"1988-09-01T00:00:00.000000000\",\"1988-10-01T00:00:00.000000000\",\"1988-11-01T00:00:00.000000000\",\"1988-12-01T00:00:00.000000000\",\"1989-01-01T00:00:00.000000000\",\"1989-02-01T00:00:00.000000000\",\"1989-03-01T00:00:00.000000000\",\"1989-04-01T00:00:00.000000000\",\"1989-05-01T00:00:00.000000000\",\"1989-06-01T00:00:00.000000000\",\"1989-07-01T00:00:00.000000000\",\"1989-08-01T00:00:00.000000000\",\"1989-09-01T00:00:00.000000000\",\"1989-10-01T00:00:00.000000000\",\"1989-11-01T00:00:00.000000000\",\"1989-12-01T00:00:00.000000000\",\"1990-01-01T00:00:00.000000000\",\"1990-02-01T00:00:00.000000000\",\"1990-03-01T00:00:00.000000000\",\"1990-04-01T00:00:00.000000000\",\"1990-05-01T00:00:00.000000000\",\"1990-06-01T00:00:00.000000000\",\"1990-07-01T00:00:00.000000000\",\"1990-08-01T00:00:00.000000000\",\"1990-09-01T00:00:00.000000000\",\"1990-10-01T00:00:00.000000000\",\"1990-11-01T00:00:00.000000000\",\"1990-12-01T00:00:00.000000000\",\"1991-01-01T00:00:00.000000000\",\"1991-02-01T00:00:00.000000000\",\"1991-03-01T00:00:00.000000000\",\"1991-04-01T00:00:00.000000000\",\"1991-05-01T00:00:00.000000000\",\"1991-06-01T00:00:00.000000000\",\"1991-07-01T00:00:00.000000000\",\"1991-08-01T00:00:00.000000000\",\"1991-09-01T00:00:00.000000000\",\"1991-10-01T00:00:00.000000000\",\"1991-11-01T00:00:00.000000000\",\"1991-12-01T00:00:00.000000000\",\"1992-01-01T00:00:00.000000000\",\"1992-02-01T00:00:00.000000000\",\"1992-03-01T00:00:00.000000000\",\"1992-04-01T00:00:00.000000000\",\"1992-05-01T00:00:00.000000000\",\"1992-06-01T00:00:00.000000000\",\"1992-07-01T00:00:00.000000000\",\"1992-08-01T00:00:00.000000000\",\"1992-09-01T00:00:00.000000000\",\"1992-10-01T00:00:00.000000000\",\"1992-11-01T00:00:00.000000000\",\"1992-12-01T00:00:00.000000000\",\"1993-01-01T00:00:00.000000000\",\"1993-02-01T00:00:00.000000000\",\"1993-03-01T00:00:00.000000000\",\"1993-04-01T00:00:00.000000000\",\"1993-05-01T00:00:00.000000000\",\"1993-06-01T00:00:00.000000000\",\"1993-07-01T00:00:00.000000000\",\"1993-08-01T00:00:00.000000000\",\"1993-09-01T00:00:00.000000000\",\"1993-10-01T00:00:00.000000000\",\"1993-11-01T00:00:00.000000000\",\"1993-12-01T00:00:00.000000000\",\"1994-01-01T00:00:00.000000000\",\"1994-02-01T00:00:00.000000000\",\"1994-03-01T00:00:00.000000000\",\"1994-04-01T00:00:00.000000000\",\"1994-05-01T00:00:00.000000000\",\"1994-06-01T00:00:00.000000000\",\"1994-07-01T00:00:00.000000000\",\"1994-08-01T00:00:00.000000000\",\"1994-09-01T00:00:00.000000000\",\"1994-10-01T00:00:00.000000000\",\"1994-11-01T00:00:00.000000000\",\"1994-12-01T00:00:00.000000000\",\"1995-01-01T00:00:00.000000000\",\"1995-02-01T00:00:00.000000000\",\"1995-03-01T00:00:00.000000000\",\"1995-04-01T00:00:00.000000000\",\"1995-05-01T00:00:00.000000000\",\"1995-06-01T00:00:00.000000000\",\"1995-07-01T00:00:00.000000000\",\"1995-08-01T00:00:00.000000000\",\"1995-09-01T00:00:00.000000000\",\"1995-10-01T00:00:00.000000000\",\"1995-11-01T00:00:00.000000000\",\"1995-12-01T00:00:00.000000000\",\"1996-01-01T00:00:00.000000000\",\"1996-02-01T00:00:00.000000000\",\"1996-03-01T00:00:00.000000000\",\"1996-04-01T00:00:00.000000000\",\"1996-05-01T00:00:00.000000000\",\"1996-06-01T00:00:00.000000000\",\"1996-07-01T00:00:00.000000000\",\"1996-08-01T00:00:00.000000000\",\"1996-09-01T00:00:00.000000000\",\"1996-10-01T00:00:00.000000000\",\"1996-11-01T00:00:00.000000000\",\"1996-12-01T00:00:00.000000000\",\"1997-01-01T00:00:00.000000000\",\"1997-02-01T00:00:00.000000000\",\"1997-03-01T00:00:00.000000000\",\"1997-04-01T00:00:00.000000000\",\"1997-05-01T00:00:00.000000000\",\"1997-06-01T00:00:00.000000000\",\"1997-07-01T00:00:00.000000000\",\"1997-08-01T00:00:00.000000000\",\"1997-09-01T00:00:00.000000000\",\"1997-10-01T00:00:00.000000000\",\"1997-11-01T00:00:00.000000000\",\"1997-12-01T00:00:00.000000000\",\"1998-01-01T00:00:00.000000000\",\"1998-02-01T00:00:00.000000000\",\"1998-03-01T00:00:00.000000000\",\"1998-04-01T00:00:00.000000000\",\"1998-05-01T00:00:00.000000000\",\"1998-06-01T00:00:00.000000000\",\"1998-07-01T00:00:00.000000000\",\"1998-08-01T00:00:00.000000000\",\"1998-09-01T00:00:00.000000000\",\"1998-10-01T00:00:00.000000000\",\"1998-11-01T00:00:00.000000000\",\"1998-12-01T00:00:00.000000000\",\"1999-01-01T00:00:00.000000000\",\"1999-02-01T00:00:00.000000000\",\"1999-03-01T00:00:00.000000000\",\"1999-04-01T00:00:00.000000000\",\"1999-05-01T00:00:00.000000000\",\"1999-06-01T00:00:00.000000000\",\"1999-07-01T00:00:00.000000000\",\"1999-08-01T00:00:00.000000000\",\"1999-09-01T00:00:00.000000000\",\"1999-10-01T00:00:00.000000000\",\"1999-11-01T00:00:00.000000000\",\"1999-12-01T00:00:00.000000000\",\"2000-01-01T00:00:00.000000000\",\"2000-02-01T00:00:00.000000000\",\"2000-03-01T00:00:00.000000000\",\"2000-04-01T00:00:00.000000000\",\"2000-05-01T00:00:00.000000000\",\"2000-06-01T00:00:00.000000000\",\"2000-07-01T00:00:00.000000000\",\"2000-08-01T00:00:00.000000000\",\"2000-09-01T00:00:00.000000000\",\"2000-10-01T00:00:00.000000000\",\"2000-11-01T00:00:00.000000000\",\"2000-12-01T00:00:00.000000000\",\"2001-01-01T00:00:00.000000000\",\"2001-02-01T00:00:00.000000000\",\"2001-03-01T00:00:00.000000000\",\"2001-04-01T00:00:00.000000000\",\"2001-05-01T00:00:00.000000000\",\"2001-06-01T00:00:00.000000000\",\"2001-07-01T00:00:00.000000000\",\"2001-08-01T00:00:00.000000000\",\"2001-09-01T00:00:00.000000000\",\"2001-10-01T00:00:00.000000000\",\"2001-11-01T00:00:00.000000000\",\"2001-12-01T00:00:00.000000000\",\"2002-01-01T00:00:00.000000000\",\"2002-02-01T00:00:00.000000000\",\"2002-03-01T00:00:00.000000000\",\"2002-04-01T00:00:00.000000000\",\"2002-05-01T00:00:00.000000000\",\"2002-06-01T00:00:00.000000000\",\"2002-07-01T00:00:00.000000000\",\"2002-08-01T00:00:00.000000000\",\"2002-09-01T00:00:00.000000000\",\"2002-10-01T00:00:00.000000000\",\"2002-11-01T00:00:00.000000000\",\"2002-12-01T00:00:00.000000000\",\"2003-01-01T00:00:00.000000000\",\"2003-02-01T00:00:00.000000000\",\"2003-03-01T00:00:00.000000000\",\"2003-04-01T00:00:00.000000000\",\"2003-05-01T00:00:00.000000000\",\"2003-06-01T00:00:00.000000000\",\"2003-07-01T00:00:00.000000000\",\"2003-08-01T00:00:00.000000000\",\"2003-09-01T00:00:00.000000000\",\"2003-10-01T00:00:00.000000000\",\"2003-11-01T00:00:00.000000000\",\"2003-12-01T00:00:00.000000000\",\"2004-01-01T00:00:00.000000000\",\"2004-02-01T00:00:00.000000000\",\"2004-03-01T00:00:00.000000000\",\"2004-04-01T00:00:00.000000000\",\"2004-05-01T00:00:00.000000000\",\"2004-06-01T00:00:00.000000000\",\"2004-07-01T00:00:00.000000000\",\"2004-08-01T00:00:00.000000000\",\"2004-09-01T00:00:00.000000000\",\"2004-10-01T00:00:00.000000000\",\"2004-11-01T00:00:00.000000000\",\"2004-12-01T00:00:00.000000000\",\"2005-01-01T00:00:00.000000000\",\"2005-02-01T00:00:00.000000000\",\"2005-03-01T00:00:00.000000000\",\"2005-04-01T00:00:00.000000000\",\"2005-05-01T00:00:00.000000000\",\"2005-06-01T00:00:00.000000000\",\"2005-07-01T00:00:00.000000000\",\"2005-08-01T00:00:00.000000000\",\"2005-09-01T00:00:00.000000000\",\"2005-10-01T00:00:00.000000000\",\"2005-11-01T00:00:00.000000000\",\"2005-12-01T00:00:00.000000000\",\"2006-01-01T00:00:00.000000000\",\"2006-02-01T00:00:00.000000000\",\"2006-03-01T00:00:00.000000000\",\"2006-04-01T00:00:00.000000000\",\"2006-05-01T00:00:00.000000000\",\"2006-06-01T00:00:00.000000000\",\"2006-07-01T00:00:00.000000000\",\"2006-08-01T00:00:00.000000000\",\"2006-09-01T00:00:00.000000000\",\"2006-10-01T00:00:00.000000000\",\"2006-11-01T00:00:00.000000000\",\"2006-12-01T00:00:00.000000000\",\"2007-01-01T00:00:00.000000000\",\"2007-02-01T00:00:00.000000000\",\"2007-03-01T00:00:00.000000000\",\"2007-04-01T00:00:00.000000000\",\"2007-05-01T00:00:00.000000000\",\"2007-06-01T00:00:00.000000000\",\"2007-07-01T00:00:00.000000000\",\"2007-08-01T00:00:00.000000000\",\"2007-09-01T00:00:00.000000000\",\"2007-10-01T00:00:00.000000000\",\"2007-11-01T00:00:00.000000000\",\"2007-12-01T00:00:00.000000000\",\"2008-01-01T00:00:00.000000000\",\"2008-02-01T00:00:00.000000000\",\"2008-03-01T00:00:00.000000000\",\"2008-04-01T00:00:00.000000000\",\"2008-05-01T00:00:00.000000000\",\"2008-06-01T00:00:00.000000000\",\"2008-07-01T00:00:00.000000000\",\"2008-08-01T00:00:00.000000000\",\"2008-09-01T00:00:00.000000000\",\"2008-10-01T00:00:00.000000000\",\"2008-11-01T00:00:00.000000000\",\"2008-12-01T00:00:00.000000000\",\"2009-01-01T00:00:00.000000000\",\"2009-02-01T00:00:00.000000000\",\"2009-03-01T00:00:00.000000000\",\"2009-04-01T00:00:00.000000000\",\"2009-05-01T00:00:00.000000000\",\"2009-06-01T00:00:00.000000000\",\"2009-07-01T00:00:00.000000000\",\"2009-08-01T00:00:00.000000000\",\"2009-09-01T00:00:00.000000000\",\"2009-10-01T00:00:00.000000000\",\"2009-11-01T00:00:00.000000000\",\"2009-12-01T00:00:00.000000000\",\"2010-01-01T00:00:00.000000000\",\"2010-02-01T00:00:00.000000000\",\"2010-03-01T00:00:00.000000000\",\"2010-04-01T00:00:00.000000000\",\"2010-05-01T00:00:00.000000000\",\"2010-06-01T00:00:00.000000000\",\"2010-07-01T00:00:00.000000000\",\"2010-08-01T00:00:00.000000000\",\"2010-09-01T00:00:00.000000000\",\"2010-10-01T00:00:00.000000000\",\"2010-11-01T00:00:00.000000000\",\"2010-12-01T00:00:00.000000000\",\"2011-01-01T00:00:00.000000000\",\"2011-02-01T00:00:00.000000000\",\"2011-03-01T00:00:00.000000000\",\"2011-04-01T00:00:00.000000000\",\"2011-05-01T00:00:00.000000000\",\"2011-06-01T00:00:00.000000000\",\"2011-07-01T00:00:00.000000000\",\"2011-08-01T00:00:00.000000000\",\"2011-09-01T00:00:00.000000000\",\"2011-10-01T00:00:00.000000000\",\"2011-11-01T00:00:00.000000000\",\"2011-12-01T00:00:00.000000000\",\"2012-01-01T00:00:00.000000000\",\"2012-02-01T00:00:00.000000000\",\"2012-03-01T00:00:00.000000000\",\"2012-04-01T00:00:00.000000000\",\"2012-05-01T00:00:00.000000000\",\"2012-06-01T00:00:00.000000000\",\"2012-07-01T00:00:00.000000000\",\"2012-08-01T00:00:00.000000000\",\"2012-09-01T00:00:00.000000000\",\"2012-10-01T00:00:00.000000000\",\"2012-11-01T00:00:00.000000000\",\"2012-12-01T00:00:00.000000000\",\"2013-01-01T00:00:00.000000000\",\"2013-02-01T00:00:00.000000000\",\"2013-03-01T00:00:00.000000000\",\"2013-04-01T00:00:00.000000000\",\"2013-05-01T00:00:00.000000000\",\"2013-06-01T00:00:00.000000000\",\"2013-07-01T00:00:00.000000000\",\"2013-08-01T00:00:00.000000000\",\"2013-09-01T00:00:00.000000000\",\"2013-10-01T00:00:00.000000000\",\"2013-11-01T00:00:00.000000000\",\"2013-12-01T00:00:00.000000000\",\"2014-01-01T00:00:00.000000000\",\"2014-02-01T00:00:00.000000000\",\"2014-03-01T00:00:00.000000000\",\"2014-04-01T00:00:00.000000000\",\"2014-05-01T00:00:00.000000000\",\"2014-06-01T00:00:00.000000000\",\"2014-07-01T00:00:00.000000000\",\"2014-08-01T00:00:00.000000000\",\"2014-09-01T00:00:00.000000000\",\"2014-10-01T00:00:00.000000000\",\"2014-11-01T00:00:00.000000000\",\"2014-12-01T00:00:00.000000000\",\"2015-01-01T00:00:00.000000000\",\"2015-02-01T00:00:00.000000000\",\"2015-03-01T00:00:00.000000000\",\"2015-04-01T00:00:00.000000000\",\"2015-05-01T00:00:00.000000000\",\"2015-06-01T00:00:00.000000000\",\"2015-07-01T00:00:00.000000000\",\"2015-08-01T00:00:00.000000000\",\"2015-09-01T00:00:00.000000000\",\"2015-10-01T00:00:00.000000000\",\"2015-11-01T00:00:00.000000000\",\"2015-12-01T00:00:00.000000000\",\"2016-01-01T00:00:00.000000000\",\"2016-02-01T00:00:00.000000000\",\"2016-03-01T00:00:00.000000000\",\"2016-04-01T00:00:00.000000000\",\"2016-05-01T00:00:00.000000000\",\"2016-06-01T00:00:00.000000000\",\"2016-07-01T00:00:00.000000000\",\"2016-08-01T00:00:00.000000000\",\"2016-09-01T00:00:00.000000000\",\"2016-10-01T00:00:00.000000000\",\"2016-11-01T00:00:00.000000000\",\"2016-12-01T00:00:00.000000000\",\"2017-01-01T00:00:00.000000000\",\"2017-02-01T00:00:00.000000000\",\"2017-03-01T00:00:00.000000000\",\"2017-04-01T00:00:00.000000000\",\"2017-05-01T00:00:00.000000000\",\"2017-06-01T00:00:00.000000000\",\"2017-07-01T00:00:00.000000000\",\"2017-08-01T00:00:00.000000000\",\"2017-09-01T00:00:00.000000000\",\"2017-10-01T00:00:00.000000000\",\"2017-11-01T00:00:00.000000000\",\"2017-12-01T00:00:00.000000000\",\"2018-01-01T00:00:00.000000000\",\"2018-02-01T00:00:00.000000000\",\"2018-03-01T00:00:00.000000000\",\"2018-04-01T00:00:00.000000000\",\"2018-05-01T00:00:00.000000000\",\"2018-06-01T00:00:00.000000000\",\"2018-07-01T00:00:00.000000000\",\"2018-08-01T00:00:00.000000000\",\"2018-09-01T00:00:00.000000000\",\"2018-10-01T00:00:00.000000000\",\"2018-11-01T00:00:00.000000000\",\"2018-12-01T00:00:00.000000000\",\"2019-01-01T00:00:00.000000000\",\"2019-02-01T00:00:00.000000000\",\"2019-03-01T00:00:00.000000000\",\"2019-04-01T00:00:00.000000000\",\"2019-05-01T00:00:00.000000000\",\"2019-06-01T00:00:00.000000000\",\"2019-07-01T00:00:00.000000000\",\"2019-08-01T00:00:00.000000000\",\"2019-09-01T00:00:00.000000000\",\"2019-10-01T00:00:00.000000000\",\"2019-11-01T00:00:00.000000000\",\"2019-12-01T00:00:00.000000000\",\"2020-01-01T00:00:00.000000000\",\"2020-02-01T00:00:00.000000000\",\"2020-03-01T00:00:00.000000000\",\"2020-04-01T00:00:00.000000000\",\"2020-05-01T00:00:00.000000000\",\"2020-06-01T00:00:00.000000000\",\"2020-07-01T00:00:00.000000000\",\"2020-08-01T00:00:00.000000000\",\"2020-09-01T00:00:00.000000000\",\"2020-10-01T00:00:00.000000000\",\"2020-11-01T00:00:00.000000000\",\"2020-12-01T00:00:00.000000000\",\"2021-01-01T00:00:00.000000000\",\"2021-02-01T00:00:00.000000000\",\"2021-03-01T00:00:00.000000000\",\"2021-04-01T00:00:00.000000000\",\"2021-05-01T00:00:00.000000000\",\"2021-06-01T00:00:00.000000000\",\"2021-07-01T00:00:00.000000000\",\"2021-08-01T00:00:00.000000000\",\"2021-09-01T00:00:00.000000000\",\"2021-10-01T00:00:00.000000000\",\"2021-11-01T00:00:00.000000000\",\"2021-12-01T00:00:00.000000000\",\"2022-01-01T00:00:00.000000000\",\"2022-02-01T00:00:00.000000000\",\"2022-03-01T00:00:00.000000000\",\"2022-04-01T00:00:00.000000000\",\"2022-05-01T00:00:00.000000000\",\"2022-06-01T00:00:00.000000000\",\"2022-07-01T00:00:00.000000000\",\"2022-08-01T00:00:00.000000000\",\"2022-09-01T00:00:00.000000000\",\"2022-10-01T00:00:00.000000000\",\"2022-11-01T00:00:00.000000000\",\"2022-12-01T00:00:00.000000000\"],\"y\":[38.4,38.8,39.4,39.7,39.8,40.0,40.0,40.1,40.2,40.4,40.6,41.0,41.3,41.8,42.0,42.1,42.5,42.4,42.7,43.1,43.1,43.1,43.0,43.0,42.2,41.8,41.6,41.3,41.1,41.0,40.8,40.5,40.2,39.9,39.8,39.8,39.7,39.7,39.7,39.7,39.7,39.7,39.9,40.1,40.6,41.2,41.5,41.9,42.6,43.3,43.5,43.8,43.9,43.9,44.0,44.0,44.8,44.7,44.4,44.3,43.9,43.9,43.7,43.6,43.6,43.5,43.5,43.4,43.3,43.1,43.0,43.0,43.0,43.0,43.0,43.1,43.2,43.3,43.3,43.2,43.2,43.2,43.3,43.2,43.3,43.2,43.0,43.0,43.1,43.2,43.1,43.0,42.9,42.9,42.9,42.9,42.8,42.8,42.7,42.8,42.8,42.8,42.8,42.9,43.0,43.0,43.0,43.1,43.2,43.5,43.5,43.6,43.6,43.6,43.8,43.9,44.0,44.0,44.1,44.3,44.3,44.3,44.5,44.4,44.5,44.5,44.5,44.6,44.5,44.6,44.7,44.6,44.8,44.7,44.7,44.7,44.7,44.8,44.7,44.7,44.5,44.5,44.7,44.7,44.8,44.7,44.7,44.8,44.9,45.0,45.1,45.2,45.3,45.3,45.3,45.3,45.3,45.5,45.5,45.6,45.7,45.7,45.8,45.8,45.9,46.0,45.9,45.9,46.0,46.0,46.0,45.9,46.0,46.0,46.1,46.1,46.2,46.2,46.1,46.1,46.0,46.1,46.2,46.2,46.2,46.3,46.4,46.2,46.6,46.7,46.5,46.4,46.6,46.7,46.7,46.8,46.7,46.8,46.9,47.0,47.0,47.1,47.2,47.2,47.2,47.2,47.2,47.3,47.3,47.3,47.4,47.4,47.2,47.2,47.3,47.4,47.5,47.5,47.5,47.6,47.7,47.8,47.7,47.8,47.8,47.9,48.0,48.1,48.3,48.4,48.5,48.7,48.8,48.9,49.1,49.1,49.4,49.6,49.7,49.9,50.1,50.3,50.4,50.6,50.7,50.9,51.1,51.3,51.3,51.5,51.6,51.9,52.1,52.4,52.7,53.0,53.3,53.5,53.9,54.2,54.5,54.8,54.9,55.2,55.5,55.7,55.9,56.2,56.4,56.7,57.0,57.0,57.4,57.6,57.9,58.0,58.2,58.5,58.5,58.7,58.8,59.0,59.1,59.3,59.6,59.8,60.1,60.3,60.4,60.6,60.6,60.7,61.1,61.2,61.3,61.1,61.3,61.4,61.5,61.6,61.7,61.9,61.9,62.1,62.2,62.2,62.2,62.0,62.5,62.8,63.0,63.2,63.2,63.4,63.8,64.2,64.4,64.6,64.6,64.9,65.2,65.4,65.7,66.0,66.3,67.0,67.5,68.2,68.7,69.2,69.5,70.8,71.0,71.2,71.7,71.7,71.8,72.0,72.1,72.1,72.2,72.2,72.6,72.6,72.7,73.0,73.2,73.4,73.7,74.0,74.2,74.3,74.6,74.9,75.3,75.8,76.1,76.2,76.5,76.8,77.2,77.6,77.5,77.6,78.1,78.5,79.1,79.2,79.1,79.3,79.8,80.1,80.1,79.5,79.9,80.7,81.3,81.6,81.5,81.7,81.9,82.4,82.6,82.6,83.0,83.3,83.6,84.0,84.5,84.7,84.8,85.0,85.6,86.1,86.6,87.3,88.1,88.7,89.7,90.1,90.3,90.6,90.9,91.4,92.0,92.7,93.1,93.3,93.4,93.9,94.3,94.7,94.8,95.0,95.4,95.9,96.1,96.4,96.4,96.7,96.7,97.0,97.3,97.5,97.6,97.7,98.1,98.1,98.1,98.3,98.3,98.2,98.6,99.1,99.1,99.3,99.9,100.3,100.9,101.0,100.8,100.6,100.9,101.1,101.5,101.2,101.3,101.2,101.4,101.3,101.9,102.5,102.7,103.0,103.0,103.1,103.2,104.1,104.5,104.5,104.4,105.1,105.2,105.3,105.5,105.7,106.0,106.1,106.1,105.4,105.0,105.0,104.9,104.9,105.5,106.4,106.9,106.6,106.9,107.2,108.0,108.6,109.2,109.8,110.3,110.3,110.3,111.0,111.6,112.3,113.0,112.7,113.2,112.1,113.4,115.1,115.1,115.5,115.9,114.5,116.3,117.5,117.7,118.2,118.4,117.1,118.1,118.6,118.9,118.7,118.3,117.1,118.7,119.6,120.0,119.8,119.9,122.0,123.8,124.1,124.0,124.2,124.2,124.5,125.4,125.4,125.4,126.2,126.9,127.3,127.0,127.5,128.0,127.9,128.7,129.9,130.0,130.1,131.0,130.7,130.9,131.0,131.3,130.7,131.6,132.1,132.7,132.3,132.2,132.5,132.7,132.8,132.8,134.0,134.0,134.0,133.5,133.0,132.8,134.0,133.7,133.8,134.4,134.1,133.3,133.2,133.8,133.5,134.0,134.8,134.2,133.2,133.6,133.0,132.5,132.1,132.2,131.9,132.2,131.9,131.6,131.3,131.4,132.5,132.3,132.4,132.0,132.2,132.7,132.2,132.6,131.8,131.8,131.6,131.3,130.6,131.3,131.3,131.6,131.9,132.3,133.0,132.4,133.0,133.3,133.1,133.3,132.7,132.9,132.7,132.7,133.0,133.1,133.0,132.7,132.3,132.7,133.3,133.5,135.1,133.1,132.7,132.7,132.0,131.5,130.8,130.4,131.7,131.7,131.7,131.5,130.9,131.2,131.4,131.0,131.3,130.7,130.4,130.3,129.8,129.7,129.3,128.9,128.9,129.5,129.2,129.2,129.1,129.4,129.6,129.5,128.2,127.4,127.4,127.3,126.4,125.8,125.8,125.4,124.9,124.4,124.6,125.3,125.1,124.6,123.9,123.5,124.3,123.4,123.0,123.1,122.7,122.1,121.8,120.7,120.3,120.0,120.6,121.1,120.8,120.9,121.1,120.8,120.2,120.1,120.1,120.4,120.6,120.9,121.2,121.0,120.3,120.0,120.3,120.6,119.8,120.3,120.0,120.5,119.9,119.9,119.4,119.0,119.5,119.1,119.0,119.2,118.6,118.9,117.8,119.1,119.6,119.9,120.1,119.0,119.8,120.2,119.8,119.4,119.8,119.86,120.237,119.797,119.331,119.166,118.576,118.449,117.901,118.023,118.435,118.737,119.35,119.438,118.904,118.399,118.729,118.716,118.501,119.006,119.736,119.618,118.799,118.867,118.119,117.967,119.888,120.368,120.182,120.038,120.276,119.984,120.236,120.779,120.5,120.007,120.441,119.91,120.184,120.225,119.646,119.648,119.623,119.322,118.96,119.21,118.917,119.027,119.223,119.82,119.904,119.739,120.037,121.146,121.71,122.547,123.551,123.244,123.775,124.762,124.865,125.399,125.075,125.85,126.432,126.663,126.248,125.935,125.333,126.386,127.291,127.191,127.289,128.076,128.134,126.97,126.905,126.916,126.995,127.645,127.412,127.281,126.988,127.333,128.577,127.882,127.279,127.439,127.475,127.773,127.982,127.942,127.357,127.813,127.761,127.254,126.637,126.129,125.96,126.626,126.39,125.831,125.51,125.689,126.166,126.011,125.323,125.724,126.042,124.999,125.898,125.843,125.782,126.707,126.276,125.881,126.148,125.914,126.521,126.605,126.185,126.044,126.058,126.397,126.301,125.651,125.508,125.368,125.39,125.759,125.961,125.024,124.234,124.873,126.026,126.731,127.526,127.645,126.395,125.603,123.484,125.057,125.764,124.934,124.134,124.547,124.592,123.959,124.035,123.977,124.879,124.852,124.554,124.644,123.188,123.223,122.525,122.555,123.111,121.989,117.174,114.389,115.9,116.823,117.124,117.111,116.595,116.885,117.413,119.099,118.535,118.968,119.647,120.918,121.58,121.647,121.956,121.105,121.85,122.76,124.117,125.433,126.342,null,null,null,null,null,null,null,null,null,null],\"type\":\"scatter\"},{\"mode\":\"lines\",\"name\":\"Education and communication\",\"x\":[\"1947-01-01T00:00:00.000000000\",\"1947-02-01T00:00:00.000000000\",\"1947-03-01T00:00:00.000000000\",\"1947-04-01T00:00:00.000000000\",\"1947-05-01T00:00:00.000000000\",\"1947-06-01T00:00:00.000000000\",\"1947-07-01T00:00:00.000000000\",\"1947-08-01T00:00:00.000000000\",\"1947-09-01T00:00:00.000000000\",\"1947-10-01T00:00:00.000000000\",\"1947-11-01T00:00:00.000000000\",\"1947-12-01T00:00:00.000000000\",\"1948-01-01T00:00:00.000000000\",\"1948-02-01T00:00:00.000000000\",\"1948-03-01T00:00:00.000000000\",\"1948-04-01T00:00:00.000000000\",\"1948-05-01T00:00:00.000000000\",\"1948-06-01T00:00:00.000000000\",\"1948-07-01T00:00:00.000000000\",\"1948-08-01T00:00:00.000000000\",\"1948-09-01T00:00:00.000000000\",\"1948-10-01T00:00:00.000000000\",\"1948-11-01T00:00:00.000000000\",\"1948-12-01T00:00:00.000000000\",\"1949-01-01T00:00:00.000000000\",\"1949-02-01T00:00:00.000000000\",\"1949-03-01T00:00:00.000000000\",\"1949-04-01T00:00:00.000000000\",\"1949-05-01T00:00:00.000000000\",\"1949-06-01T00:00:00.000000000\",\"1949-07-01T00:00:00.000000000\",\"1949-08-01T00:00:00.000000000\",\"1949-09-01T00:00:00.000000000\",\"1949-10-01T00:00:00.000000000\",\"1949-11-01T00:00:00.000000000\",\"1949-12-01T00:00:00.000000000\",\"1950-01-01T00:00:00.000000000\",\"1950-02-01T00:00:00.000000000\",\"1950-03-01T00:00:00.000000000\",\"1950-04-01T00:00:00.000000000\",\"1950-05-01T00:00:00.000000000\",\"1950-06-01T00:00:00.000000000\",\"1950-07-01T00:00:00.000000000\",\"1950-08-01T00:00:00.000000000\",\"1950-09-01T00:00:00.000000000\",\"1950-10-01T00:00:00.000000000\",\"1950-11-01T00:00:00.000000000\",\"1950-12-01T00:00:00.000000000\",\"1951-01-01T00:00:00.000000000\",\"1951-02-01T00:00:00.000000000\",\"1951-03-01T00:00:00.000000000\",\"1951-04-01T00:00:00.000000000\",\"1951-05-01T00:00:00.000000000\",\"1951-06-01T00:00:00.000000000\",\"1951-07-01T00:00:00.000000000\",\"1951-08-01T00:00:00.000000000\",\"1951-09-01T00:00:00.000000000\",\"1951-10-01T00:00:00.000000000\",\"1951-11-01T00:00:00.000000000\",\"1951-12-01T00:00:00.000000000\",\"1952-01-01T00:00:00.000000000\",\"1952-02-01T00:00:00.000000000\",\"1952-03-01T00:00:00.000000000\",\"1952-04-01T00:00:00.000000000\",\"1952-05-01T00:00:00.000000000\",\"1952-06-01T00:00:00.000000000\",\"1952-07-01T00:00:00.000000000\",\"1952-08-01T00:00:00.000000000\",\"1952-09-01T00:00:00.000000000\",\"1952-10-01T00:00:00.000000000\",\"1952-11-01T00:00:00.000000000\",\"1952-12-01T00:00:00.000000000\",\"1953-01-01T00:00:00.000000000\",\"1953-02-01T00:00:00.000000000\",\"1953-03-01T00:00:00.000000000\",\"1953-04-01T00:00:00.000000000\",\"1953-05-01T00:00:00.000000000\",\"1953-06-01T00:00:00.000000000\",\"1953-07-01T00:00:00.000000000\",\"1953-08-01T00:00:00.000000000\",\"1953-09-01T00:00:00.000000000\",\"1953-10-01T00:00:00.000000000\",\"1953-11-01T00:00:00.000000000\",\"1953-12-01T00:00:00.000000000\",\"1954-01-01T00:00:00.000000000\",\"1954-02-01T00:00:00.000000000\",\"1954-03-01T00:00:00.000000000\",\"1954-04-01T00:00:00.000000000\",\"1954-05-01T00:00:00.000000000\",\"1954-06-01T00:00:00.000000000\",\"1954-07-01T00:00:00.000000000\",\"1954-08-01T00:00:00.000000000\",\"1954-09-01T00:00:00.000000000\",\"1954-10-01T00:00:00.000000000\",\"1954-11-01T00:00:00.000000000\",\"1954-12-01T00:00:00.000000000\",\"1955-01-01T00:00:00.000000000\",\"1955-02-01T00:00:00.000000000\",\"1955-03-01T00:00:00.000000000\",\"1955-04-01T00:00:00.000000000\",\"1955-05-01T00:00:00.000000000\",\"1955-06-01T00:00:00.000000000\",\"1955-07-01T00:00:00.000000000\",\"1955-08-01T00:00:00.000000000\",\"1955-09-01T00:00:00.000000000\",\"1955-10-01T00:00:00.000000000\",\"1955-11-01T00:00:00.000000000\",\"1955-12-01T00:00:00.000000000\",\"1956-01-01T00:00:00.000000000\",\"1956-02-01T00:00:00.000000000\",\"1956-03-01T00:00:00.000000000\",\"1956-04-01T00:00:00.000000000\",\"1956-05-01T00:00:00.000000000\",\"1956-06-01T00:00:00.000000000\",\"1956-07-01T00:00:00.000000000\",\"1956-08-01T00:00:00.000000000\",\"1956-09-01T00:00:00.000000000\",\"1956-10-01T00:00:00.000000000\",\"1956-11-01T00:00:00.000000000\",\"1956-12-01T00:00:00.000000000\",\"1957-01-01T00:00:00.000000000\",\"1957-02-01T00:00:00.000000000\",\"1957-03-01T00:00:00.000000000\",\"1957-04-01T00:00:00.000000000\",\"1957-05-01T00:00:00.000000000\",\"1957-06-01T00:00:00.000000000\",\"1957-07-01T00:00:00.000000000\",\"1957-08-01T00:00:00.000000000\",\"1957-09-01T00:00:00.000000000\",\"1957-10-01T00:00:00.000000000\",\"1957-11-01T00:00:00.000000000\",\"1957-12-01T00:00:00.000000000\",\"1958-01-01T00:00:00.000000000\",\"1958-02-01T00:00:00.000000000\",\"1958-03-01T00:00:00.000000000\",\"1958-04-01T00:00:00.000000000\",\"1958-05-01T00:00:00.000000000\",\"1958-06-01T00:00:00.000000000\",\"1958-07-01T00:00:00.000000000\",\"1958-08-01T00:00:00.000000000\",\"1958-09-01T00:00:00.000000000\",\"1958-10-01T00:00:00.000000000\",\"1958-11-01T00:00:00.000000000\",\"1958-12-01T00:00:00.000000000\",\"1959-01-01T00:00:00.000000000\",\"1959-02-01T00:00:00.000000000\",\"1959-03-01T00:00:00.000000000\",\"1959-04-01T00:00:00.000000000\",\"1959-05-01T00:00:00.000000000\",\"1959-06-01T00:00:00.000000000\",\"1959-07-01T00:00:00.000000000\",\"1959-08-01T00:00:00.000000000\",\"1959-09-01T00:00:00.000000000\",\"1959-10-01T00:00:00.000000000\",\"1959-11-01T00:00:00.000000000\",\"1959-12-01T00:00:00.000000000\",\"1960-01-01T00:00:00.000000000\",\"1960-02-01T00:00:00.000000000\",\"1960-03-01T00:00:00.000000000\",\"1960-04-01T00:00:00.000000000\",\"1960-05-01T00:00:00.000000000\",\"1960-06-01T00:00:00.000000000\",\"1960-07-01T00:00:00.000000000\",\"1960-08-01T00:00:00.000000000\",\"1960-09-01T00:00:00.000000000\",\"1960-10-01T00:00:00.000000000\",\"1960-11-01T00:00:00.000000000\",\"1960-12-01T00:00:00.000000000\",\"1961-01-01T00:00:00.000000000\",\"1961-02-01T00:00:00.000000000\",\"1961-03-01T00:00:00.000000000\",\"1961-04-01T00:00:00.000000000\",\"1961-05-01T00:00:00.000000000\",\"1961-06-01T00:00:00.000000000\",\"1961-07-01T00:00:00.000000000\",\"1961-08-01T00:00:00.000000000\",\"1961-09-01T00:00:00.000000000\",\"1961-10-01T00:00:00.000000000\",\"1961-11-01T00:00:00.000000000\",\"1961-12-01T00:00:00.000000000\",\"1962-01-01T00:00:00.000000000\",\"1962-02-01T00:00:00.000000000\",\"1962-03-01T00:00:00.000000000\",\"1962-04-01T00:00:00.000000000\",\"1962-05-01T00:00:00.000000000\",\"1962-06-01T00:00:00.000000000\",\"1962-07-01T00:00:00.000000000\",\"1962-08-01T00:00:00.000000000\",\"1962-09-01T00:00:00.000000000\",\"1962-10-01T00:00:00.000000000\",\"1962-11-01T00:00:00.000000000\",\"1962-12-01T00:00:00.000000000\",\"1963-01-01T00:00:00.000000000\",\"1963-02-01T00:00:00.000000000\",\"1963-03-01T00:00:00.000000000\",\"1963-04-01T00:00:00.000000000\",\"1963-05-01T00:00:00.000000000\",\"1963-06-01T00:00:00.000000000\",\"1963-07-01T00:00:00.000000000\",\"1963-08-01T00:00:00.000000000\",\"1963-09-01T00:00:00.000000000\",\"1963-10-01T00:00:00.000000000\",\"1963-11-01T00:00:00.000000000\",\"1963-12-01T00:00:00.000000000\",\"1964-01-01T00:00:00.000000000\",\"1964-02-01T00:00:00.000000000\",\"1964-03-01T00:00:00.000000000\",\"1964-04-01T00:00:00.000000000\",\"1964-05-01T00:00:00.000000000\",\"1964-06-01T00:00:00.000000000\",\"1964-07-01T00:00:00.000000000\",\"1964-08-01T00:00:00.000000000\",\"1964-09-01T00:00:00.000000000\",\"1964-10-01T00:00:00.000000000\",\"1964-11-01T00:00:00.000000000\",\"1964-12-01T00:00:00.000000000\",\"1965-01-01T00:00:00.000000000\",\"1965-02-01T00:00:00.000000000\",\"1965-03-01T00:00:00.000000000\",\"1965-04-01T00:00:00.000000000\",\"1965-05-01T00:00:00.000000000\",\"1965-06-01T00:00:00.000000000\",\"1965-07-01T00:00:00.000000000\",\"1965-08-01T00:00:00.000000000\",\"1965-09-01T00:00:00.000000000\",\"1965-10-01T00:00:00.000000000\",\"1965-11-01T00:00:00.000000000\",\"1965-12-01T00:00:00.000000000\",\"1966-01-01T00:00:00.000000000\",\"1966-02-01T00:00:00.000000000\",\"1966-03-01T00:00:00.000000000\",\"1966-04-01T00:00:00.000000000\",\"1966-05-01T00:00:00.000000000\",\"1966-06-01T00:00:00.000000000\",\"1966-07-01T00:00:00.000000000\",\"1966-08-01T00:00:00.000000000\",\"1966-09-01T00:00:00.000000000\",\"1966-10-01T00:00:00.000000000\",\"1966-11-01T00:00:00.000000000\",\"1966-12-01T00:00:00.000000000\",\"1967-01-01T00:00:00.000000000\",\"1967-02-01T00:00:00.000000000\",\"1967-03-01T00:00:00.000000000\",\"1967-04-01T00:00:00.000000000\",\"1967-05-01T00:00:00.000000000\",\"1967-06-01T00:00:00.000000000\",\"1967-07-01T00:00:00.000000000\",\"1967-08-01T00:00:00.000000000\",\"1967-09-01T00:00:00.000000000\",\"1967-10-01T00:00:00.000000000\",\"1967-11-01T00:00:00.000000000\",\"1967-12-01T00:00:00.000000000\",\"1968-01-01T00:00:00.000000000\",\"1968-02-01T00:00:00.000000000\",\"1968-03-01T00:00:00.000000000\",\"1968-04-01T00:00:00.000000000\",\"1968-05-01T00:00:00.000000000\",\"1968-06-01T00:00:00.000000000\",\"1968-07-01T00:00:00.000000000\",\"1968-08-01T00:00:00.000000000\",\"1968-09-01T00:00:00.000000000\",\"1968-10-01T00:00:00.000000000\",\"1968-11-01T00:00:00.000000000\",\"1968-12-01T00:00:00.000000000\",\"1969-01-01T00:00:00.000000000\",\"1969-02-01T00:00:00.000000000\",\"1969-03-01T00:00:00.000000000\",\"1969-04-01T00:00:00.000000000\",\"1969-05-01T00:00:00.000000000\",\"1969-06-01T00:00:00.000000000\",\"1969-07-01T00:00:00.000000000\",\"1969-08-01T00:00:00.000000000\",\"1969-09-01T00:00:00.000000000\",\"1969-10-01T00:00:00.000000000\",\"1969-11-01T00:00:00.000000000\",\"1969-12-01T00:00:00.000000000\",\"1970-01-01T00:00:00.000000000\",\"1970-02-01T00:00:00.000000000\",\"1970-03-01T00:00:00.000000000\",\"1970-04-01T00:00:00.000000000\",\"1970-05-01T00:00:00.000000000\",\"1970-06-01T00:00:00.000000000\",\"1970-07-01T00:00:00.000000000\",\"1970-08-01T00:00:00.000000000\",\"1970-09-01T00:00:00.000000000\",\"1970-10-01T00:00:00.000000000\",\"1970-11-01T00:00:00.000000000\",\"1970-12-01T00:00:00.000000000\",\"1971-01-01T00:00:00.000000000\",\"1971-02-01T00:00:00.000000000\",\"1971-03-01T00:00:00.000000000\",\"1971-04-01T00:00:00.000000000\",\"1971-05-01T00:00:00.000000000\",\"1971-06-01T00:00:00.000000000\",\"1971-07-01T00:00:00.000000000\",\"1971-08-01T00:00:00.000000000\",\"1971-09-01T00:00:00.000000000\",\"1971-10-01T00:00:00.000000000\",\"1971-11-01T00:00:00.000000000\",\"1971-12-01T00:00:00.000000000\",\"1972-01-01T00:00:00.000000000\",\"1972-02-01T00:00:00.000000000\",\"1972-03-01T00:00:00.000000000\",\"1972-04-01T00:00:00.000000000\",\"1972-05-01T00:00:00.000000000\",\"1972-06-01T00:00:00.000000000\",\"1972-07-01T00:00:00.000000000\",\"1972-08-01T00:00:00.000000000\",\"1972-09-01T00:00:00.000000000\",\"1972-10-01T00:00:00.000000000\",\"1972-11-01T00:00:00.000000000\",\"1972-12-01T00:00:00.000000000\",\"1973-01-01T00:00:00.000000000\",\"1973-02-01T00:00:00.000000000\",\"1973-03-01T00:00:00.000000000\",\"1973-04-01T00:00:00.000000000\",\"1973-05-01T00:00:00.000000000\",\"1973-06-01T00:00:00.000000000\",\"1973-07-01T00:00:00.000000000\",\"1973-08-01T00:00:00.000000000\",\"1973-09-01T00:00:00.000000000\",\"1973-10-01T00:00:00.000000000\",\"1973-11-01T00:00:00.000000000\",\"1973-12-01T00:00:00.000000000\",\"1974-01-01T00:00:00.000000000\",\"1974-02-01T00:00:00.000000000\",\"1974-03-01T00:00:00.000000000\",\"1974-04-01T00:00:00.000000000\",\"1974-05-01T00:00:00.000000000\",\"1974-06-01T00:00:00.000000000\",\"1974-07-01T00:00:00.000000000\",\"1974-08-01T00:00:00.000000000\",\"1974-09-01T00:00:00.000000000\",\"1974-10-01T00:00:00.000000000\",\"1974-11-01T00:00:00.000000000\",\"1974-12-01T00:00:00.000000000\",\"1975-01-01T00:00:00.000000000\",\"1975-02-01T00:00:00.000000000\",\"1975-03-01T00:00:00.000000000\",\"1975-04-01T00:00:00.000000000\",\"1975-05-01T00:00:00.000000000\",\"1975-06-01T00:00:00.000000000\",\"1975-07-01T00:00:00.000000000\",\"1975-08-01T00:00:00.000000000\",\"1975-09-01T00:00:00.000000000\",\"1975-10-01T00:00:00.000000000\",\"1975-11-01T00:00:00.000000000\",\"1975-12-01T00:00:00.000000000\",\"1976-01-01T00:00:00.000000000\",\"1976-02-01T00:00:00.000000000\",\"1976-03-01T00:00:00.000000000\",\"1976-04-01T00:00:00.000000000\",\"1976-05-01T00:00:00.000000000\",\"1976-06-01T00:00:00.000000000\",\"1976-07-01T00:00:00.000000000\",\"1976-08-01T00:00:00.000000000\",\"1976-09-01T00:00:00.000000000\",\"1976-10-01T00:00:00.000000000\",\"1976-11-01T00:00:00.000000000\",\"1976-12-01T00:00:00.000000000\",\"1977-01-01T00:00:00.000000000\",\"1977-02-01T00:00:00.000000000\",\"1977-03-01T00:00:00.000000000\",\"1977-04-01T00:00:00.000000000\",\"1977-05-01T00:00:00.000000000\",\"1977-06-01T00:00:00.000000000\",\"1977-07-01T00:00:00.000000000\",\"1977-08-01T00:00:00.000000000\",\"1977-09-01T00:00:00.000000000\",\"1977-10-01T00:00:00.000000000\",\"1977-11-01T00:00:00.000000000\",\"1977-12-01T00:00:00.000000000\",\"1978-01-01T00:00:00.000000000\",\"1978-02-01T00:00:00.000000000\",\"1978-03-01T00:00:00.000000000\",\"1978-04-01T00:00:00.000000000\",\"1978-05-01T00:00:00.000000000\",\"1978-06-01T00:00:00.000000000\",\"1978-07-01T00:00:00.000000000\",\"1978-08-01T00:00:00.000000000\",\"1978-09-01T00:00:00.000000000\",\"1978-10-01T00:00:00.000000000\",\"1978-11-01T00:00:00.000000000\",\"1978-12-01T00:00:00.000000000\",\"1979-01-01T00:00:00.000000000\",\"1979-02-01T00:00:00.000000000\",\"1979-03-01T00:00:00.000000000\",\"1979-04-01T00:00:00.000000000\",\"1979-05-01T00:00:00.000000000\",\"1979-06-01T00:00:00.000000000\",\"1979-07-01T00:00:00.000000000\",\"1979-08-01T00:00:00.000000000\",\"1979-09-01T00:00:00.000000000\",\"1979-10-01T00:00:00.000000000\",\"1979-11-01T00:00:00.000000000\",\"1979-12-01T00:00:00.000000000\",\"1980-01-01T00:00:00.000000000\",\"1980-02-01T00:00:00.000000000\",\"1980-03-01T00:00:00.000000000\",\"1980-04-01T00:00:00.000000000\",\"1980-05-01T00:00:00.000000000\",\"1980-06-01T00:00:00.000000000\",\"1980-07-01T00:00:00.000000000\",\"1980-08-01T00:00:00.000000000\",\"1980-09-01T00:00:00.000000000\",\"1980-10-01T00:00:00.000000000\",\"1980-11-01T00:00:00.000000000\",\"1980-12-01T00:00:00.000000000\",\"1981-01-01T00:00:00.000000000\",\"1981-02-01T00:00:00.000000000\",\"1981-03-01T00:00:00.000000000\",\"1981-04-01T00:00:00.000000000\",\"1981-05-01T00:00:00.000000000\",\"1981-06-01T00:00:00.000000000\",\"1981-07-01T00:00:00.000000000\",\"1981-08-01T00:00:00.000000000\",\"1981-09-01T00:00:00.000000000\",\"1981-10-01T00:00:00.000000000\",\"1981-11-01T00:00:00.000000000\",\"1981-12-01T00:00:00.000000000\",\"1982-01-01T00:00:00.000000000\",\"1982-02-01T00:00:00.000000000\",\"1982-03-01T00:00:00.000000000\",\"1982-04-01T00:00:00.000000000\",\"1982-05-01T00:00:00.000000000\",\"1982-06-01T00:00:00.000000000\",\"1982-07-01T00:00:00.000000000\",\"1982-08-01T00:00:00.000000000\",\"1982-09-01T00:00:00.000000000\",\"1982-10-01T00:00:00.000000000\",\"1982-11-01T00:00:00.000000000\",\"1982-12-01T00:00:00.000000000\",\"1983-01-01T00:00:00.000000000\",\"1983-02-01T00:00:00.000000000\",\"1983-03-01T00:00:00.000000000\",\"1983-04-01T00:00:00.000000000\",\"1983-05-01T00:00:00.000000000\",\"1983-06-01T00:00:00.000000000\",\"1983-07-01T00:00:00.000000000\",\"1983-08-01T00:00:00.000000000\",\"1983-09-01T00:00:00.000000000\",\"1983-10-01T00:00:00.000000000\",\"1983-11-01T00:00:00.000000000\",\"1983-12-01T00:00:00.000000000\",\"1984-01-01T00:00:00.000000000\",\"1984-02-01T00:00:00.000000000\",\"1984-03-01T00:00:00.000000000\",\"1984-04-01T00:00:00.000000000\",\"1984-05-01T00:00:00.000000000\",\"1984-06-01T00:00:00.000000000\",\"1984-07-01T00:00:00.000000000\",\"1984-08-01T00:00:00.000000000\",\"1984-09-01T00:00:00.000000000\",\"1984-10-01T00:00:00.000000000\",\"1984-11-01T00:00:00.000000000\",\"1984-12-01T00:00:00.000000000\",\"1985-01-01T00:00:00.000000000\",\"1985-02-01T00:00:00.000000000\",\"1985-03-01T00:00:00.000000000\",\"1985-04-01T00:00:00.000000000\",\"1985-05-01T00:00:00.000000000\",\"1985-06-01T00:00:00.000000000\",\"1985-07-01T00:00:00.000000000\",\"1985-08-01T00:00:00.000000000\",\"1985-09-01T00:00:00.000000000\",\"1985-10-01T00:00:00.000000000\",\"1985-11-01T00:00:00.000000000\",\"1985-12-01T00:00:00.000000000\",\"1986-01-01T00:00:00.000000000\",\"1986-02-01T00:00:00.000000000\",\"1986-03-01T00:00:00.000000000\",\"1986-04-01T00:00:00.000000000\",\"1986-05-01T00:00:00.000000000\",\"1986-06-01T00:00:00.000000000\",\"1986-07-01T00:00:00.000000000\",\"1986-08-01T00:00:00.000000000\",\"1986-09-01T00:00:00.000000000\",\"1986-10-01T00:00:00.000000000\",\"1986-11-01T00:00:00.000000000\",\"1986-12-01T00:00:00.000000000\",\"1987-01-01T00:00:00.000000000\",\"1987-02-01T00:00:00.000000000\",\"1987-03-01T00:00:00.000000000\",\"1987-04-01T00:00:00.000000000\",\"1987-05-01T00:00:00.000000000\",\"1987-06-01T00:00:00.000000000\",\"1987-07-01T00:00:00.000000000\",\"1987-08-01T00:00:00.000000000\",\"1987-09-01T00:00:00.000000000\",\"1987-10-01T00:00:00.000000000\",\"1987-11-01T00:00:00.000000000\",\"1987-12-01T00:00:00.000000000\",\"1988-01-01T00:00:00.000000000\",\"1988-02-01T00:00:00.000000000\",\"1988-03-01T00:00:00.000000000\",\"1988-04-01T00:00:00.000000000\",\"1988-05-01T00:00:00.000000000\",\"1988-06-01T00:00:00.000000000\",\"1988-07-01T00:00:00.000000000\",\"1988-08-01T00:00:00.000000000\",\"1988-09-01T00:00:00.000000000\",\"1988-10-01T00:00:00.000000000\",\"1988-11-01T00:00:00.000000000\",\"1988-12-01T00:00:00.000000000\",\"1989-01-01T00:00:00.000000000\",\"1989-02-01T00:00:00.000000000\",\"1989-03-01T00:00:00.000000000\",\"1989-04-01T00:00:00.000000000\",\"1989-05-01T00:00:00.000000000\",\"1989-06-01T00:00:00.000000000\",\"1989-07-01T00:00:00.000000000\",\"1989-08-01T00:00:00.000000000\",\"1989-09-01T00:00:00.000000000\",\"1989-10-01T00:00:00.000000000\",\"1989-11-01T00:00:00.000000000\",\"1989-12-01T00:00:00.000000000\",\"1990-01-01T00:00:00.000000000\",\"1990-02-01T00:00:00.000000000\",\"1990-03-01T00:00:00.000000000\",\"1990-04-01T00:00:00.000000000\",\"1990-05-01T00:00:00.000000000\",\"1990-06-01T00:00:00.000000000\",\"1990-07-01T00:00:00.000000000\",\"1990-08-01T00:00:00.000000000\",\"1990-09-01T00:00:00.000000000\",\"1990-10-01T00:00:00.000000000\",\"1990-11-01T00:00:00.000000000\",\"1990-12-01T00:00:00.000000000\",\"1991-01-01T00:00:00.000000000\",\"1991-02-01T00:00:00.000000000\",\"1991-03-01T00:00:00.000000000\",\"1991-04-01T00:00:00.000000000\",\"1991-05-01T00:00:00.000000000\",\"1991-06-01T00:00:00.000000000\",\"1991-07-01T00:00:00.000000000\",\"1991-08-01T00:00:00.000000000\",\"1991-09-01T00:00:00.000000000\",\"1991-10-01T00:00:00.000000000\",\"1991-11-01T00:00:00.000000000\",\"1991-12-01T00:00:00.000000000\",\"1992-01-01T00:00:00.000000000\",\"1992-02-01T00:00:00.000000000\",\"1992-03-01T00:00:00.000000000\",\"1992-04-01T00:00:00.000000000\",\"1992-05-01T00:00:00.000000000\",\"1992-06-01T00:00:00.000000000\",\"1992-07-01T00:00:00.000000000\",\"1992-08-01T00:00:00.000000000\",\"1992-09-01T00:00:00.000000000\",\"1992-10-01T00:00:00.000000000\",\"1992-11-01T00:00:00.000000000\",\"1992-12-01T00:00:00.000000000\",\"1993-01-01T00:00:00.000000000\",\"1993-02-01T00:00:00.000000000\",\"1993-03-01T00:00:00.000000000\",\"1993-04-01T00:00:00.000000000\",\"1993-05-01T00:00:00.000000000\",\"1993-06-01T00:00:00.000000000\",\"1993-07-01T00:00:00.000000000\",\"1993-08-01T00:00:00.000000000\",\"1993-09-01T00:00:00.000000000\",\"1993-10-01T00:00:00.000000000\",\"1993-11-01T00:00:00.000000000\",\"1993-12-01T00:00:00.000000000\",\"1994-01-01T00:00:00.000000000\",\"1994-02-01T00:00:00.000000000\",\"1994-03-01T00:00:00.000000000\",\"1994-04-01T00:00:00.000000000\",\"1994-05-01T00:00:00.000000000\",\"1994-06-01T00:00:00.000000000\",\"1994-07-01T00:00:00.000000000\",\"1994-08-01T00:00:00.000000000\",\"1994-09-01T00:00:00.000000000\",\"1994-10-01T00:00:00.000000000\",\"1994-11-01T00:00:00.000000000\",\"1994-12-01T00:00:00.000000000\",\"1995-01-01T00:00:00.000000000\",\"1995-02-01T00:00:00.000000000\",\"1995-03-01T00:00:00.000000000\",\"1995-04-01T00:00:00.000000000\",\"1995-05-01T00:00:00.000000000\",\"1995-06-01T00:00:00.000000000\",\"1995-07-01T00:00:00.000000000\",\"1995-08-01T00:00:00.000000000\",\"1995-09-01T00:00:00.000000000\",\"1995-10-01T00:00:00.000000000\",\"1995-11-01T00:00:00.000000000\",\"1995-12-01T00:00:00.000000000\",\"1996-01-01T00:00:00.000000000\",\"1996-02-01T00:00:00.000000000\",\"1996-03-01T00:00:00.000000000\",\"1996-04-01T00:00:00.000000000\",\"1996-05-01T00:00:00.000000000\",\"1996-06-01T00:00:00.000000000\",\"1996-07-01T00:00:00.000000000\",\"1996-08-01T00:00:00.000000000\",\"1996-09-01T00:00:00.000000000\",\"1996-10-01T00:00:00.000000000\",\"1996-11-01T00:00:00.000000000\",\"1996-12-01T00:00:00.000000000\",\"1997-01-01T00:00:00.000000000\",\"1997-02-01T00:00:00.000000000\",\"1997-03-01T00:00:00.000000000\",\"1997-04-01T00:00:00.000000000\",\"1997-05-01T00:00:00.000000000\",\"1997-06-01T00:00:00.000000000\",\"1997-07-01T00:00:00.000000000\",\"1997-08-01T00:00:00.000000000\",\"1997-09-01T00:00:00.000000000\",\"1997-10-01T00:00:00.000000000\",\"1997-11-01T00:00:00.000000000\",\"1997-12-01T00:00:00.000000000\",\"1998-01-01T00:00:00.000000000\",\"1998-02-01T00:00:00.000000000\",\"1998-03-01T00:00:00.000000000\",\"1998-04-01T00:00:00.000000000\",\"1998-05-01T00:00:00.000000000\",\"1998-06-01T00:00:00.000000000\",\"1998-07-01T00:00:00.000000000\",\"1998-08-01T00:00:00.000000000\",\"1998-09-01T00:00:00.000000000\",\"1998-10-01T00:00:00.000000000\",\"1998-11-01T00:00:00.000000000\",\"1998-12-01T00:00:00.000000000\",\"1999-01-01T00:00:00.000000000\",\"1999-02-01T00:00:00.000000000\",\"1999-03-01T00:00:00.000000000\",\"1999-04-01T00:00:00.000000000\",\"1999-05-01T00:00:00.000000000\",\"1999-06-01T00:00:00.000000000\",\"1999-07-01T00:00:00.000000000\",\"1999-08-01T00:00:00.000000000\",\"1999-09-01T00:00:00.000000000\",\"1999-10-01T00:00:00.000000000\",\"1999-11-01T00:00:00.000000000\",\"1999-12-01T00:00:00.000000000\",\"2000-01-01T00:00:00.000000000\",\"2000-02-01T00:00:00.000000000\",\"2000-03-01T00:00:00.000000000\",\"2000-04-01T00:00:00.000000000\",\"2000-05-01T00:00:00.000000000\",\"2000-06-01T00:00:00.000000000\",\"2000-07-01T00:00:00.000000000\",\"2000-08-01T00:00:00.000000000\",\"2000-09-01T00:00:00.000000000\",\"2000-10-01T00:00:00.000000000\",\"2000-11-01T00:00:00.000000000\",\"2000-12-01T00:00:00.000000000\",\"2001-01-01T00:00:00.000000000\",\"2001-02-01T00:00:00.000000000\",\"2001-03-01T00:00:00.000000000\",\"2001-04-01T00:00:00.000000000\",\"2001-05-01T00:00:00.000000000\",\"2001-06-01T00:00:00.000000000\",\"2001-07-01T00:00:00.000000000\",\"2001-08-01T00:00:00.000000000\",\"2001-09-01T00:00:00.000000000\",\"2001-10-01T00:00:00.000000000\",\"2001-11-01T00:00:00.000000000\",\"2001-12-01T00:00:00.000000000\",\"2002-01-01T00:00:00.000000000\",\"2002-02-01T00:00:00.000000000\",\"2002-03-01T00:00:00.000000000\",\"2002-04-01T00:00:00.000000000\",\"2002-05-01T00:00:00.000000000\",\"2002-06-01T00:00:00.000000000\",\"2002-07-01T00:00:00.000000000\",\"2002-08-01T00:00:00.000000000\",\"2002-09-01T00:00:00.000000000\",\"2002-10-01T00:00:00.000000000\",\"2002-11-01T00:00:00.000000000\",\"2002-12-01T00:00:00.000000000\",\"2003-01-01T00:00:00.000000000\",\"2003-02-01T00:00:00.000000000\",\"2003-03-01T00:00:00.000000000\",\"2003-04-01T00:00:00.000000000\",\"2003-05-01T00:00:00.000000000\",\"2003-06-01T00:00:00.000000000\",\"2003-07-01T00:00:00.000000000\",\"2003-08-01T00:00:00.000000000\",\"2003-09-01T00:00:00.000000000\",\"2003-10-01T00:00:00.000000000\",\"2003-11-01T00:00:00.000000000\",\"2003-12-01T00:00:00.000000000\",\"2004-01-01T00:00:00.000000000\",\"2004-02-01T00:00:00.000000000\",\"2004-03-01T00:00:00.000000000\",\"2004-04-01T00:00:00.000000000\",\"2004-05-01T00:00:00.000000000\",\"2004-06-01T00:00:00.000000000\",\"2004-07-01T00:00:00.000000000\",\"2004-08-01T00:00:00.000000000\",\"2004-09-01T00:00:00.000000000\",\"2004-10-01T00:00:00.000000000\",\"2004-11-01T00:00:00.000000000\",\"2004-12-01T00:00:00.000000000\",\"2005-01-01T00:00:00.000000000\",\"2005-02-01T00:00:00.000000000\",\"2005-03-01T00:00:00.000000000\",\"2005-04-01T00:00:00.000000000\",\"2005-05-01T00:00:00.000000000\",\"2005-06-01T00:00:00.000000000\",\"2005-07-01T00:00:00.000000000\",\"2005-08-01T00:00:00.000000000\",\"2005-09-01T00:00:00.000000000\",\"2005-10-01T00:00:00.000000000\",\"2005-11-01T00:00:00.000000000\",\"2005-12-01T00:00:00.000000000\",\"2006-01-01T00:00:00.000000000\",\"2006-02-01T00:00:00.000000000\",\"2006-03-01T00:00:00.000000000\",\"2006-04-01T00:00:00.000000000\",\"2006-05-01T00:00:00.000000000\",\"2006-06-01T00:00:00.000000000\",\"2006-07-01T00:00:00.000000000\",\"2006-08-01T00:00:00.000000000\",\"2006-09-01T00:00:00.000000000\",\"2006-10-01T00:00:00.000000000\",\"2006-11-01T00:00:00.000000000\",\"2006-12-01T00:00:00.000000000\",\"2007-01-01T00:00:00.000000000\",\"2007-02-01T00:00:00.000000000\",\"2007-03-01T00:00:00.000000000\",\"2007-04-01T00:00:00.000000000\",\"2007-05-01T00:00:00.000000000\",\"2007-06-01T00:00:00.000000000\",\"2007-07-01T00:00:00.000000000\",\"2007-08-01T00:00:00.000000000\",\"2007-09-01T00:00:00.000000000\",\"2007-10-01T00:00:00.000000000\",\"2007-11-01T00:00:00.000000000\",\"2007-12-01T00:00:00.000000000\",\"2008-01-01T00:00:00.000000000\",\"2008-02-01T00:00:00.000000000\",\"2008-03-01T00:00:00.000000000\",\"2008-04-01T00:00:00.000000000\",\"2008-05-01T00:00:00.000000000\",\"2008-06-01T00:00:00.000000000\",\"2008-07-01T00:00:00.000000000\",\"2008-08-01T00:00:00.000000000\",\"2008-09-01T00:00:00.000000000\",\"2008-10-01T00:00:00.000000000\",\"2008-11-01T00:00:00.000000000\",\"2008-12-01T00:00:00.000000000\",\"2009-01-01T00:00:00.000000000\",\"2009-02-01T00:00:00.000000000\",\"2009-03-01T00:00:00.000000000\",\"2009-04-01T00:00:00.000000000\",\"2009-05-01T00:00:00.000000000\",\"2009-06-01T00:00:00.000000000\",\"2009-07-01T00:00:00.000000000\",\"2009-08-01T00:00:00.000000000\",\"2009-09-01T00:00:00.000000000\",\"2009-10-01T00:00:00.000000000\",\"2009-11-01T00:00:00.000000000\",\"2009-12-01T00:00:00.000000000\",\"2010-01-01T00:00:00.000000000\",\"2010-02-01T00:00:00.000000000\",\"2010-03-01T00:00:00.000000000\",\"2010-04-01T00:00:00.000000000\",\"2010-05-01T00:00:00.000000000\",\"2010-06-01T00:00:00.000000000\",\"2010-07-01T00:00:00.000000000\",\"2010-08-01T00:00:00.000000000\",\"2010-09-01T00:00:00.000000000\",\"2010-10-01T00:00:00.000000000\",\"2010-11-01T00:00:00.000000000\",\"2010-12-01T00:00:00.000000000\",\"2011-01-01T00:00:00.000000000\",\"2011-02-01T00:00:00.000000000\",\"2011-03-01T00:00:00.000000000\",\"2011-04-01T00:00:00.000000000\",\"2011-05-01T00:00:00.000000000\",\"2011-06-01T00:00:00.000000000\",\"2011-07-01T00:00:00.000000000\",\"2011-08-01T00:00:00.000000000\",\"2011-09-01T00:00:00.000000000\",\"2011-10-01T00:00:00.000000000\",\"2011-11-01T00:00:00.000000000\",\"2011-12-01T00:00:00.000000000\",\"2012-01-01T00:00:00.000000000\",\"2012-02-01T00:00:00.000000000\",\"2012-03-01T00:00:00.000000000\",\"2012-04-01T00:00:00.000000000\",\"2012-05-01T00:00:00.000000000\",\"2012-06-01T00:00:00.000000000\",\"2012-07-01T00:00:00.000000000\",\"2012-08-01T00:00:00.000000000\",\"2012-09-01T00:00:00.000000000\",\"2012-10-01T00:00:00.000000000\",\"2012-11-01T00:00:00.000000000\",\"2012-12-01T00:00:00.000000000\",\"2013-01-01T00:00:00.000000000\",\"2013-02-01T00:00:00.000000000\",\"2013-03-01T00:00:00.000000000\",\"2013-04-01T00:00:00.000000000\",\"2013-05-01T00:00:00.000000000\",\"2013-06-01T00:00:00.000000000\",\"2013-07-01T00:00:00.000000000\",\"2013-08-01T00:00:00.000000000\",\"2013-09-01T00:00:00.000000000\",\"2013-10-01T00:00:00.000000000\",\"2013-11-01T00:00:00.000000000\",\"2013-12-01T00:00:00.000000000\",\"2014-01-01T00:00:00.000000000\",\"2014-02-01T00:00:00.000000000\",\"2014-03-01T00:00:00.000000000\",\"2014-04-01T00:00:00.000000000\",\"2014-05-01T00:00:00.000000000\",\"2014-06-01T00:00:00.000000000\",\"2014-07-01T00:00:00.000000000\",\"2014-08-01T00:00:00.000000000\",\"2014-09-01T00:00:00.000000000\",\"2014-10-01T00:00:00.000000000\",\"2014-11-01T00:00:00.000000000\",\"2014-12-01T00:00:00.000000000\",\"2015-01-01T00:00:00.000000000\",\"2015-02-01T00:00:00.000000000\",\"2015-03-01T00:00:00.000000000\",\"2015-04-01T00:00:00.000000000\",\"2015-05-01T00:00:00.000000000\",\"2015-06-01T00:00:00.000000000\",\"2015-07-01T00:00:00.000000000\",\"2015-08-01T00:00:00.000000000\",\"2015-09-01T00:00:00.000000000\",\"2015-10-01T00:00:00.000000000\",\"2015-11-01T00:00:00.000000000\",\"2015-12-01T00:00:00.000000000\",\"2016-01-01T00:00:00.000000000\",\"2016-02-01T00:00:00.000000000\",\"2016-03-01T00:00:00.000000000\",\"2016-04-01T00:00:00.000000000\",\"2016-05-01T00:00:00.000000000\",\"2016-06-01T00:00:00.000000000\",\"2016-07-01T00:00:00.000000000\",\"2016-08-01T00:00:00.000000000\",\"2016-09-01T00:00:00.000000000\",\"2016-10-01T00:00:00.000000000\",\"2016-11-01T00:00:00.000000000\",\"2016-12-01T00:00:00.000000000\",\"2017-01-01T00:00:00.000000000\",\"2017-02-01T00:00:00.000000000\",\"2017-03-01T00:00:00.000000000\",\"2017-04-01T00:00:00.000000000\",\"2017-05-01T00:00:00.000000000\",\"2017-06-01T00:00:00.000000000\",\"2017-07-01T00:00:00.000000000\",\"2017-08-01T00:00:00.000000000\",\"2017-09-01T00:00:00.000000000\",\"2017-10-01T00:00:00.000000000\",\"2017-11-01T00:00:00.000000000\",\"2017-12-01T00:00:00.000000000\",\"2018-01-01T00:00:00.000000000\",\"2018-02-01T00:00:00.000000000\",\"2018-03-01T00:00:00.000000000\",\"2018-04-01T00:00:00.000000000\",\"2018-05-01T00:00:00.000000000\",\"2018-06-01T00:00:00.000000000\",\"2018-07-01T00:00:00.000000000\",\"2018-08-01T00:00:00.000000000\",\"2018-09-01T00:00:00.000000000\",\"2018-10-01T00:00:00.000000000\",\"2018-11-01T00:00:00.000000000\",\"2018-12-01T00:00:00.000000000\",\"2019-01-01T00:00:00.000000000\",\"2019-02-01T00:00:00.000000000\",\"2019-03-01T00:00:00.000000000\",\"2019-04-01T00:00:00.000000000\",\"2019-05-01T00:00:00.000000000\",\"2019-06-01T00:00:00.000000000\",\"2019-07-01T00:00:00.000000000\",\"2019-08-01T00:00:00.000000000\",\"2019-09-01T00:00:00.000000000\",\"2019-10-01T00:00:00.000000000\",\"2019-11-01T00:00:00.000000000\",\"2019-12-01T00:00:00.000000000\",\"2020-01-01T00:00:00.000000000\",\"2020-02-01T00:00:00.000000000\",\"2020-03-01T00:00:00.000000000\",\"2020-04-01T00:00:00.000000000\",\"2020-05-01T00:00:00.000000000\",\"2020-06-01T00:00:00.000000000\",\"2020-07-01T00:00:00.000000000\",\"2020-08-01T00:00:00.000000000\",\"2020-09-01T00:00:00.000000000\",\"2020-10-01T00:00:00.000000000\",\"2020-11-01T00:00:00.000000000\",\"2020-12-01T00:00:00.000000000\",\"2021-01-01T00:00:00.000000000\",\"2021-02-01T00:00:00.000000000\",\"2021-03-01T00:00:00.000000000\",\"2021-04-01T00:00:00.000000000\",\"2021-05-01T00:00:00.000000000\",\"2021-06-01T00:00:00.000000000\",\"2021-07-01T00:00:00.000000000\",\"2021-08-01T00:00:00.000000000\",\"2021-09-01T00:00:00.000000000\",\"2021-10-01T00:00:00.000000000\",\"2021-11-01T00:00:00.000000000\",\"2021-12-01T00:00:00.000000000\",\"2022-01-01T00:00:00.000000000\",\"2022-02-01T00:00:00.000000000\",\"2022-03-01T00:00:00.000000000\",\"2022-04-01T00:00:00.000000000\",\"2022-05-01T00:00:00.000000000\",\"2022-06-01T00:00:00.000000000\",\"2022-07-01T00:00:00.000000000\",\"2022-08-01T00:00:00.000000000\",\"2022-09-01T00:00:00.000000000\",\"2022-10-01T00:00:00.000000000\",\"2022-11-01T00:00:00.000000000\",\"2022-12-01T00:00:00.000000000\"],\"y\":[null,null,null,null,null,null,null,null,null,null,null,null,null,null,null,null,null,null,null,null,null,null,null,null,null,null,null,null,null,null,null,null,null,null,null,null,null,null,null,null,null,null,null,null,null,null,null,null,null,null,null,null,null,null,null,null,null,null,null,null,null,null,null,null,null,null,null,null,null,null,null,null,null,null,null,null,null,null,null,null,null,null,null,null,null,null,null,null,null,null,null,null,null,null,null,null,null,null,null,null,null,null,null,null,null,null,null,null,null,null,null,null,null,null,null,null,null,null,null,null,null,null,null,null,null,null,null,null,null,null,null,null,null,null,null,null,null,null,null,null,null,null,null,null,null,null,null,null,null,null,null,null,null,null,null,null,null,null,null,null,null,null,null,null,null,null,null,null,null,null,null,null,null,null,null,null,null,null,null,null,null,null,null,null,null,null,null,null,null,null,null,null,null,null,null,null,null,null,null,null,null,null,null,null,null,null,null,null,null,null,null,null,null,null,null,null,null,null,null,null,null,null,null,null,null,null,null,null,null,null,null,null,null,null,null,null,null,null,null,null,null,null,null,null,null,null,null,null,null,null,null,null,null,null,null,null,null,null,null,null,null,null,null,null,null,null,null,null,null,null,null,null,null,null,null,null,null,null,null,null,null,null,null,null,null,null,null,null,null,null,null,null,null,null,null,null,null,null,null,null,null,null,null,null,null,null,null,null,null,null,null,null,null,null,null,null,null,null,null,null,null,null,null,null,null,null,null,null,null,null,null,null,null,null,null,null,null,null,null,null,null,null,null,null,null,null,null,null,null,null,null,null,null,null,null,null,null,null,null,null,null,null,null,null,null,null,null,null,null,null,null,null,null,null,null,null,null,null,null,null,null,null,null,null,null,null,null,null,null,null,null,null,null,null,null,null,null,null,null,null,null,null,null,null,null,null,null,null,null,null,null,null,null,null,null,null,null,null,null,null,null,null,null,null,null,null,null,null,null,null,null,null,null,null,null,null,null,null,null,null,null,null,null,null,null,null,null,null,null,null,null,null,null,null,null,null,null,null,null,null,null,null,null,null,null,null,null,null,null,null,null,null,null,null,null,null,null,null,null,null,null,null,null,null,null,null,null,null,null,null,null,null,null,null,null,null,null,null,null,null,null,null,null,null,null,null,null,null,null,null,null,null,null,null,null,null,null,null,null,null,null,null,null,null,null,null,null,null,null,null,null,null,null,null,null,null,null,null,null,null,null,null,null,null,null,null,null,null,null,null,null,null,84.1,84.3,84.6,84.8,85.2,85.4,85.6,86.0,86.3,86.5,86.8,87.2,87.3,87.9,88.1,88.3,88.6,88.9,89.1,89.3,89.4,89.6,89.8,90.1,91.1,91.2,91.3,91.6,91.7,92.1,92.3,92.5,92.9,93.1,93.3,93.7,93.9,94.2,94.6,94.3,95.0,95.3,95.6,95.8,96.1,96.4,96.6,96.9,97.2,97.4,97.7,97.9,98.2,98.5,98.7,98.7,99.0,99.3,99.5,99.8,99.8,99.7,100.0,100.2,100.5,100.6,100.6,100.1,100.3,100.4,100.6,100.5,100.5,100.8,100.8,101.0,100.9,101.0,101.1,101.3,101.5,101.6,101.8,101.9,102.6,102.2,102.1,102.2,102.3,102.1,102.7,102.8,102.2,103.0,102.8,103.4,103.8,103.9,104.4,104.5,104.6,105.0,105.5,105.8,105.8,106.4,106.5,106.7,107.0,107.2,106.8,106.6,107.2,107.5,108.2,108.9,108.7,108.8,108.8,109.0,109.5,109.7,109.6,109.4,109.3,109.1,109.6,110.0,110.1,110.2,110.3,110.7,110.9,111.2,111.3,111.3,111.2,111.5,111.6,111.6,112.0,111.8,112.1,112.3,112.5,112.8,113.0,113.4,113.4,113.5,113.7,113.5,114.4,114.3,114.8,115.0,115.5,115.6,115.8,116.2,116.3,116.7,117.1,117.3,117.5,117.7,117.6,117.7,117.631,117.967,118.47,118.742,119.407,119.513,119.777,120.107,120.384,120.773,120.867,121.238,121.592,121.769,122.059,122.467,122.922,123.573,124.132,124.427,124.671,124.952,125.287,125.691,125.995,126.229,126.433,126.659,127.03,127.256,127.574,127.819,128.204,128.431,128.429,128.686,128.956,129.136,129.439,129.686,129.776,129.939,130.112,130.289,130.408,130.376,130.548,130.42,130.584,130.702,130.805,130.918,131.063,131.207,131.308,131.748,131.925,132.243,132.446,132.645,133.062,133.185,133.289,133.469,133.849,133.957,133.954,133.811,134.06,134.319,134.489,134.693,135.177,135.501,135.67,135.411,135.563,135.575,135.745,135.946,136.203,136.418,136.578,136.844,136.997,137.034,137.161,137.381,137.529,137.661,137.893,138.069,138.038,137.606,137.437,137.364,137.608,137.538,137.644,137.82,137.692,137.789,138.002,138.237,138.681,138.926,139.235,139.268,139.445,139.213,139.392,139.452,139.255,139.197,139.16,139.28,138.817,138.63,138.813,138.944,139.017,138.776,136.392,136.017,135.886,135.826,135.692,135.614,135.777,136.113,136.449,136.532,136.607,136.309,136.187,136.177,136.565,136.832,137.054,137.246,137.478,137.408,136.727,136.847,137.031,137.146,137.241,137.424,137.496,137.631,137.873,138.062,138.022,138.166,138.676,138.721,139.117,139.234,139.357,139.613,139.614,139.525,141.051,141.225,140.993,141.128,141.307,141.449,141.544,141.659,141.443,141.975,142.264,142.433,142.637,142.92,143.433,143.631,143.66,143.748,143.903,143.919,null,null,null,null,null,null,null,null,null,null],\"type\":\"scatter\"},{\"mode\":\"lines\",\"name\":\"Food\",\"x\":[\"1947-01-01T00:00:00.000000000\",\"1947-02-01T00:00:00.000000000\",\"1947-03-01T00:00:00.000000000\",\"1947-04-01T00:00:00.000000000\",\"1947-05-01T00:00:00.000000000\",\"1947-06-01T00:00:00.000000000\",\"1947-07-01T00:00:00.000000000\",\"1947-08-01T00:00:00.000000000\",\"1947-09-01T00:00:00.000000000\",\"1947-10-01T00:00:00.000000000\",\"1947-11-01T00:00:00.000000000\",\"1947-12-01T00:00:00.000000000\",\"1948-01-01T00:00:00.000000000\",\"1948-02-01T00:00:00.000000000\",\"1948-03-01T00:00:00.000000000\",\"1948-04-01T00:00:00.000000000\",\"1948-05-01T00:00:00.000000000\",\"1948-06-01T00:00:00.000000000\",\"1948-07-01T00:00:00.000000000\",\"1948-08-01T00:00:00.000000000\",\"1948-09-01T00:00:00.000000000\",\"1948-10-01T00:00:00.000000000\",\"1948-11-01T00:00:00.000000000\",\"1948-12-01T00:00:00.000000000\",\"1949-01-01T00:00:00.000000000\",\"1949-02-01T00:00:00.000000000\",\"1949-03-01T00:00:00.000000000\",\"1949-04-01T00:00:00.000000000\",\"1949-05-01T00:00:00.000000000\",\"1949-06-01T00:00:00.000000000\",\"1949-07-01T00:00:00.000000000\",\"1949-08-01T00:00:00.000000000\",\"1949-09-01T00:00:00.000000000\",\"1949-10-01T00:00:00.000000000\",\"1949-11-01T00:00:00.000000000\",\"1949-12-01T00:00:00.000000000\",\"1950-01-01T00:00:00.000000000\",\"1950-02-01T00:00:00.000000000\",\"1950-03-01T00:00:00.000000000\",\"1950-04-01T00:00:00.000000000\",\"1950-05-01T00:00:00.000000000\",\"1950-06-01T00:00:00.000000000\",\"1950-07-01T00:00:00.000000000\",\"1950-08-01T00:00:00.000000000\",\"1950-09-01T00:00:00.000000000\",\"1950-10-01T00:00:00.000000000\",\"1950-11-01T00:00:00.000000000\",\"1950-12-01T00:00:00.000000000\",\"1951-01-01T00:00:00.000000000\",\"1951-02-01T00:00:00.000000000\",\"1951-03-01T00:00:00.000000000\",\"1951-04-01T00:00:00.000000000\",\"1951-05-01T00:00:00.000000000\",\"1951-06-01T00:00:00.000000000\",\"1951-07-01T00:00:00.000000000\",\"1951-08-01T00:00:00.000000000\",\"1951-09-01T00:00:00.000000000\",\"1951-10-01T00:00:00.000000000\",\"1951-11-01T00:00:00.000000000\",\"1951-12-01T00:00:00.000000000\",\"1952-01-01T00:00:00.000000000\",\"1952-02-01T00:00:00.000000000\",\"1952-03-01T00:00:00.000000000\",\"1952-04-01T00:00:00.000000000\",\"1952-05-01T00:00:00.000000000\",\"1952-06-01T00:00:00.000000000\",\"1952-07-01T00:00:00.000000000\",\"1952-08-01T00:00:00.000000000\",\"1952-09-01T00:00:00.000000000\",\"1952-10-01T00:00:00.000000000\",\"1952-11-01T00:00:00.000000000\",\"1952-12-01T00:00:00.000000000\",\"1953-01-01T00:00:00.000000000\",\"1953-02-01T00:00:00.000000000\",\"1953-03-01T00:00:00.000000000\",\"1953-04-01T00:00:00.000000000\",\"1953-05-01T00:00:00.000000000\",\"1953-06-01T00:00:00.000000000\",\"1953-07-01T00:00:00.000000000\",\"1953-08-01T00:00:00.000000000\",\"1953-09-01T00:00:00.000000000\",\"1953-10-01T00:00:00.000000000\",\"1953-11-01T00:00:00.000000000\",\"1953-12-01T00:00:00.000000000\",\"1954-01-01T00:00:00.000000000\",\"1954-02-01T00:00:00.000000000\",\"1954-03-01T00:00:00.000000000\",\"1954-04-01T00:00:00.000000000\",\"1954-05-01T00:00:00.000000000\",\"1954-06-01T00:00:00.000000000\",\"1954-07-01T00:00:00.000000000\",\"1954-08-01T00:00:00.000000000\",\"1954-09-01T00:00:00.000000000\",\"1954-10-01T00:00:00.000000000\",\"1954-11-01T00:00:00.000000000\",\"1954-12-01T00:00:00.000000000\",\"1955-01-01T00:00:00.000000000\",\"1955-02-01T00:00:00.000000000\",\"1955-03-01T00:00:00.000000000\",\"1955-04-01T00:00:00.000000000\",\"1955-05-01T00:00:00.000000000\",\"1955-06-01T00:00:00.000000000\",\"1955-07-01T00:00:00.000000000\",\"1955-08-01T00:00:00.000000000\",\"1955-09-01T00:00:00.000000000\",\"1955-10-01T00:00:00.000000000\",\"1955-11-01T00:00:00.000000000\",\"1955-12-01T00:00:00.000000000\",\"1956-01-01T00:00:00.000000000\",\"1956-02-01T00:00:00.000000000\",\"1956-03-01T00:00:00.000000000\",\"1956-04-01T00:00:00.000000000\",\"1956-05-01T00:00:00.000000000\",\"1956-06-01T00:00:00.000000000\",\"1956-07-01T00:00:00.000000000\",\"1956-08-01T00:00:00.000000000\",\"1956-09-01T00:00:00.000000000\",\"1956-10-01T00:00:00.000000000\",\"1956-11-01T00:00:00.000000000\",\"1956-12-01T00:00:00.000000000\",\"1957-01-01T00:00:00.000000000\",\"1957-02-01T00:00:00.000000000\",\"1957-03-01T00:00:00.000000000\",\"1957-04-01T00:00:00.000000000\",\"1957-05-01T00:00:00.000000000\",\"1957-06-01T00:00:00.000000000\",\"1957-07-01T00:00:00.000000000\",\"1957-08-01T00:00:00.000000000\",\"1957-09-01T00:00:00.000000000\",\"1957-10-01T00:00:00.000000000\",\"1957-11-01T00:00:00.000000000\",\"1957-12-01T00:00:00.000000000\",\"1958-01-01T00:00:00.000000000\",\"1958-02-01T00:00:00.000000000\",\"1958-03-01T00:00:00.000000000\",\"1958-04-01T00:00:00.000000000\",\"1958-05-01T00:00:00.000000000\",\"1958-06-01T00:00:00.000000000\",\"1958-07-01T00:00:00.000000000\",\"1958-08-01T00:00:00.000000000\",\"1958-09-01T00:00:00.000000000\",\"1958-10-01T00:00:00.000000000\",\"1958-11-01T00:00:00.000000000\",\"1958-12-01T00:00:00.000000000\",\"1959-01-01T00:00:00.000000000\",\"1959-02-01T00:00:00.000000000\",\"1959-03-01T00:00:00.000000000\",\"1959-04-01T00:00:00.000000000\",\"1959-05-01T00:00:00.000000000\",\"1959-06-01T00:00:00.000000000\",\"1959-07-01T00:00:00.000000000\",\"1959-08-01T00:00:00.000000000\",\"1959-09-01T00:00:00.000000000\",\"1959-10-01T00:00:00.000000000\",\"1959-11-01T00:00:00.000000000\",\"1959-12-01T00:00:00.000000000\",\"1960-01-01T00:00:00.000000000\",\"1960-02-01T00:00:00.000000000\",\"1960-03-01T00:00:00.000000000\",\"1960-04-01T00:00:00.000000000\",\"1960-05-01T00:00:00.000000000\",\"1960-06-01T00:00:00.000000000\",\"1960-07-01T00:00:00.000000000\",\"1960-08-01T00:00:00.000000000\",\"1960-09-01T00:00:00.000000000\",\"1960-10-01T00:00:00.000000000\",\"1960-11-01T00:00:00.000000000\",\"1960-12-01T00:00:00.000000000\",\"1961-01-01T00:00:00.000000000\",\"1961-02-01T00:00:00.000000000\",\"1961-03-01T00:00:00.000000000\",\"1961-04-01T00:00:00.000000000\",\"1961-05-01T00:00:00.000000000\",\"1961-06-01T00:00:00.000000000\",\"1961-07-01T00:00:00.000000000\",\"1961-08-01T00:00:00.000000000\",\"1961-09-01T00:00:00.000000000\",\"1961-10-01T00:00:00.000000000\",\"1961-11-01T00:00:00.000000000\",\"1961-12-01T00:00:00.000000000\",\"1962-01-01T00:00:00.000000000\",\"1962-02-01T00:00:00.000000000\",\"1962-03-01T00:00:00.000000000\",\"1962-04-01T00:00:00.000000000\",\"1962-05-01T00:00:00.000000000\",\"1962-06-01T00:00:00.000000000\",\"1962-07-01T00:00:00.000000000\",\"1962-08-01T00:00:00.000000000\",\"1962-09-01T00:00:00.000000000\",\"1962-10-01T00:00:00.000000000\",\"1962-11-01T00:00:00.000000000\",\"1962-12-01T00:00:00.000000000\",\"1963-01-01T00:00:00.000000000\",\"1963-02-01T00:00:00.000000000\",\"1963-03-01T00:00:00.000000000\",\"1963-04-01T00:00:00.000000000\",\"1963-05-01T00:00:00.000000000\",\"1963-06-01T00:00:00.000000000\",\"1963-07-01T00:00:00.000000000\",\"1963-08-01T00:00:00.000000000\",\"1963-09-01T00:00:00.000000000\",\"1963-10-01T00:00:00.000000000\",\"1963-11-01T00:00:00.000000000\",\"1963-12-01T00:00:00.000000000\",\"1964-01-01T00:00:00.000000000\",\"1964-02-01T00:00:00.000000000\",\"1964-03-01T00:00:00.000000000\",\"1964-04-01T00:00:00.000000000\",\"1964-05-01T00:00:00.000000000\",\"1964-06-01T00:00:00.000000000\",\"1964-07-01T00:00:00.000000000\",\"1964-08-01T00:00:00.000000000\",\"1964-09-01T00:00:00.000000000\",\"1964-10-01T00:00:00.000000000\",\"1964-11-01T00:00:00.000000000\",\"1964-12-01T00:00:00.000000000\",\"1965-01-01T00:00:00.000000000\",\"1965-02-01T00:00:00.000000000\",\"1965-03-01T00:00:00.000000000\",\"1965-04-01T00:00:00.000000000\",\"1965-05-01T00:00:00.000000000\",\"1965-06-01T00:00:00.000000000\",\"1965-07-01T00:00:00.000000000\",\"1965-08-01T00:00:00.000000000\",\"1965-09-01T00:00:00.000000000\",\"1965-10-01T00:00:00.000000000\",\"1965-11-01T00:00:00.000000000\",\"1965-12-01T00:00:00.000000000\",\"1966-01-01T00:00:00.000000000\",\"1966-02-01T00:00:00.000000000\",\"1966-03-01T00:00:00.000000000\",\"1966-04-01T00:00:00.000000000\",\"1966-05-01T00:00:00.000000000\",\"1966-06-01T00:00:00.000000000\",\"1966-07-01T00:00:00.000000000\",\"1966-08-01T00:00:00.000000000\",\"1966-09-01T00:00:00.000000000\",\"1966-10-01T00:00:00.000000000\",\"1966-11-01T00:00:00.000000000\",\"1966-12-01T00:00:00.000000000\",\"1967-01-01T00:00:00.000000000\",\"1967-02-01T00:00:00.000000000\",\"1967-03-01T00:00:00.000000000\",\"1967-04-01T00:00:00.000000000\",\"1967-05-01T00:00:00.000000000\",\"1967-06-01T00:00:00.000000000\",\"1967-07-01T00:00:00.000000000\",\"1967-08-01T00:00:00.000000000\",\"1967-09-01T00:00:00.000000000\",\"1967-10-01T00:00:00.000000000\",\"1967-11-01T00:00:00.000000000\",\"1967-12-01T00:00:00.000000000\",\"1968-01-01T00:00:00.000000000\",\"1968-02-01T00:00:00.000000000\",\"1968-03-01T00:00:00.000000000\",\"1968-04-01T00:00:00.000000000\",\"1968-05-01T00:00:00.000000000\",\"1968-06-01T00:00:00.000000000\",\"1968-07-01T00:00:00.000000000\",\"1968-08-01T00:00:00.000000000\",\"1968-09-01T00:00:00.000000000\",\"1968-10-01T00:00:00.000000000\",\"1968-11-01T00:00:00.000000000\",\"1968-12-01T00:00:00.000000000\",\"1969-01-01T00:00:00.000000000\",\"1969-02-01T00:00:00.000000000\",\"1969-03-01T00:00:00.000000000\",\"1969-04-01T00:00:00.000000000\",\"1969-05-01T00:00:00.000000000\",\"1969-06-01T00:00:00.000000000\",\"1969-07-01T00:00:00.000000000\",\"1969-08-01T00:00:00.000000000\",\"1969-09-01T00:00:00.000000000\",\"1969-10-01T00:00:00.000000000\",\"1969-11-01T00:00:00.000000000\",\"1969-12-01T00:00:00.000000000\",\"1970-01-01T00:00:00.000000000\",\"1970-02-01T00:00:00.000000000\",\"1970-03-01T00:00:00.000000000\",\"1970-04-01T00:00:00.000000000\",\"1970-05-01T00:00:00.000000000\",\"1970-06-01T00:00:00.000000000\",\"1970-07-01T00:00:00.000000000\",\"1970-08-01T00:00:00.000000000\",\"1970-09-01T00:00:00.000000000\",\"1970-10-01T00:00:00.000000000\",\"1970-11-01T00:00:00.000000000\",\"1970-12-01T00:00:00.000000000\",\"1971-01-01T00:00:00.000000000\",\"1971-02-01T00:00:00.000000000\",\"1971-03-01T00:00:00.000000000\",\"1971-04-01T00:00:00.000000000\",\"1971-05-01T00:00:00.000000000\",\"1971-06-01T00:00:00.000000000\",\"1971-07-01T00:00:00.000000000\",\"1971-08-01T00:00:00.000000000\",\"1971-09-01T00:00:00.000000000\",\"1971-10-01T00:00:00.000000000\",\"1971-11-01T00:00:00.000000000\",\"1971-12-01T00:00:00.000000000\",\"1972-01-01T00:00:00.000000000\",\"1972-02-01T00:00:00.000000000\",\"1972-03-01T00:00:00.000000000\",\"1972-04-01T00:00:00.000000000\",\"1972-05-01T00:00:00.000000000\",\"1972-06-01T00:00:00.000000000\",\"1972-07-01T00:00:00.000000000\",\"1972-08-01T00:00:00.000000000\",\"1972-09-01T00:00:00.000000000\",\"1972-10-01T00:00:00.000000000\",\"1972-11-01T00:00:00.000000000\",\"1972-12-01T00:00:00.000000000\",\"1973-01-01T00:00:00.000000000\",\"1973-02-01T00:00:00.000000000\",\"1973-03-01T00:00:00.000000000\",\"1973-04-01T00:00:00.000000000\",\"1973-05-01T00:00:00.000000000\",\"1973-06-01T00:00:00.000000000\",\"1973-07-01T00:00:00.000000000\",\"1973-08-01T00:00:00.000000000\",\"1973-09-01T00:00:00.000000000\",\"1973-10-01T00:00:00.000000000\",\"1973-11-01T00:00:00.000000000\",\"1973-12-01T00:00:00.000000000\",\"1974-01-01T00:00:00.000000000\",\"1974-02-01T00:00:00.000000000\",\"1974-03-01T00:00:00.000000000\",\"1974-04-01T00:00:00.000000000\",\"1974-05-01T00:00:00.000000000\",\"1974-06-01T00:00:00.000000000\",\"1974-07-01T00:00:00.000000000\",\"1974-08-01T00:00:00.000000000\",\"1974-09-01T00:00:00.000000000\",\"1974-10-01T00:00:00.000000000\",\"1974-11-01T00:00:00.000000000\",\"1974-12-01T00:00:00.000000000\",\"1975-01-01T00:00:00.000000000\",\"1975-02-01T00:00:00.000000000\",\"1975-03-01T00:00:00.000000000\",\"1975-04-01T00:00:00.000000000\",\"1975-05-01T00:00:00.000000000\",\"1975-06-01T00:00:00.000000000\",\"1975-07-01T00:00:00.000000000\",\"1975-08-01T00:00:00.000000000\",\"1975-09-01T00:00:00.000000000\",\"1975-10-01T00:00:00.000000000\",\"1975-11-01T00:00:00.000000000\",\"1975-12-01T00:00:00.000000000\",\"1976-01-01T00:00:00.000000000\",\"1976-02-01T00:00:00.000000000\",\"1976-03-01T00:00:00.000000000\",\"1976-04-01T00:00:00.000000000\",\"1976-05-01T00:00:00.000000000\",\"1976-06-01T00:00:00.000000000\",\"1976-07-01T00:00:00.000000000\",\"1976-08-01T00:00:00.000000000\",\"1976-09-01T00:00:00.000000000\",\"1976-10-01T00:00:00.000000000\",\"1976-11-01T00:00:00.000000000\",\"1976-12-01T00:00:00.000000000\",\"1977-01-01T00:00:00.000000000\",\"1977-02-01T00:00:00.000000000\",\"1977-03-01T00:00:00.000000000\",\"1977-04-01T00:00:00.000000000\",\"1977-05-01T00:00:00.000000000\",\"1977-06-01T00:00:00.000000000\",\"1977-07-01T00:00:00.000000000\",\"1977-08-01T00:00:00.000000000\",\"1977-09-01T00:00:00.000000000\",\"1977-10-01T00:00:00.000000000\",\"1977-11-01T00:00:00.000000000\",\"1977-12-01T00:00:00.000000000\",\"1978-01-01T00:00:00.000000000\",\"1978-02-01T00:00:00.000000000\",\"1978-03-01T00:00:00.000000000\",\"1978-04-01T00:00:00.000000000\",\"1978-05-01T00:00:00.000000000\",\"1978-06-01T00:00:00.000000000\",\"1978-07-01T00:00:00.000000000\",\"1978-08-01T00:00:00.000000000\",\"1978-09-01T00:00:00.000000000\",\"1978-10-01T00:00:00.000000000\",\"1978-11-01T00:00:00.000000000\",\"1978-12-01T00:00:00.000000000\",\"1979-01-01T00:00:00.000000000\",\"1979-02-01T00:00:00.000000000\",\"1979-03-01T00:00:00.000000000\",\"1979-04-01T00:00:00.000000000\",\"1979-05-01T00:00:00.000000000\",\"1979-06-01T00:00:00.000000000\",\"1979-07-01T00:00:00.000000000\",\"1979-08-01T00:00:00.000000000\",\"1979-09-01T00:00:00.000000000\",\"1979-10-01T00:00:00.000000000\",\"1979-11-01T00:00:00.000000000\",\"1979-12-01T00:00:00.000000000\",\"1980-01-01T00:00:00.000000000\",\"1980-02-01T00:00:00.000000000\",\"1980-03-01T00:00:00.000000000\",\"1980-04-01T00:00:00.000000000\",\"1980-05-01T00:00:00.000000000\",\"1980-06-01T00:00:00.000000000\",\"1980-07-01T00:00:00.000000000\",\"1980-08-01T00:00:00.000000000\",\"1980-09-01T00:00:00.000000000\",\"1980-10-01T00:00:00.000000000\",\"1980-11-01T00:00:00.000000000\",\"1980-12-01T00:00:00.000000000\",\"1981-01-01T00:00:00.000000000\",\"1981-02-01T00:00:00.000000000\",\"1981-03-01T00:00:00.000000000\",\"1981-04-01T00:00:00.000000000\",\"1981-05-01T00:00:00.000000000\",\"1981-06-01T00:00:00.000000000\",\"1981-07-01T00:00:00.000000000\",\"1981-08-01T00:00:00.000000000\",\"1981-09-01T00:00:00.000000000\",\"1981-10-01T00:00:00.000000000\",\"1981-11-01T00:00:00.000000000\",\"1981-12-01T00:00:00.000000000\",\"1982-01-01T00:00:00.000000000\",\"1982-02-01T00:00:00.000000000\",\"1982-03-01T00:00:00.000000000\",\"1982-04-01T00:00:00.000000000\",\"1982-05-01T00:00:00.000000000\",\"1982-06-01T00:00:00.000000000\",\"1982-07-01T00:00:00.000000000\",\"1982-08-01T00:00:00.000000000\",\"1982-09-01T00:00:00.000000000\",\"1982-10-01T00:00:00.000000000\",\"1982-11-01T00:00:00.000000000\",\"1982-12-01T00:00:00.000000000\",\"1983-01-01T00:00:00.000000000\",\"1983-02-01T00:00:00.000000000\",\"1983-03-01T00:00:00.000000000\",\"1983-04-01T00:00:00.000000000\",\"1983-05-01T00:00:00.000000000\",\"1983-06-01T00:00:00.000000000\",\"1983-07-01T00:00:00.000000000\",\"1983-08-01T00:00:00.000000000\",\"1983-09-01T00:00:00.000000000\",\"1983-10-01T00:00:00.000000000\",\"1983-11-01T00:00:00.000000000\",\"1983-12-01T00:00:00.000000000\",\"1984-01-01T00:00:00.000000000\",\"1984-02-01T00:00:00.000000000\",\"1984-03-01T00:00:00.000000000\",\"1984-04-01T00:00:00.000000000\",\"1984-05-01T00:00:00.000000000\",\"1984-06-01T00:00:00.000000000\",\"1984-07-01T00:00:00.000000000\",\"1984-08-01T00:00:00.000000000\",\"1984-09-01T00:00:00.000000000\",\"1984-10-01T00:00:00.000000000\",\"1984-11-01T00:00:00.000000000\",\"1984-12-01T00:00:00.000000000\",\"1985-01-01T00:00:00.000000000\",\"1985-02-01T00:00:00.000000000\",\"1985-03-01T00:00:00.000000000\",\"1985-04-01T00:00:00.000000000\",\"1985-05-01T00:00:00.000000000\",\"1985-06-01T00:00:00.000000000\",\"1985-07-01T00:00:00.000000000\",\"1985-08-01T00:00:00.000000000\",\"1985-09-01T00:00:00.000000000\",\"1985-10-01T00:00:00.000000000\",\"1985-11-01T00:00:00.000000000\",\"1985-12-01T00:00:00.000000000\",\"1986-01-01T00:00:00.000000000\",\"1986-02-01T00:00:00.000000000\",\"1986-03-01T00:00:00.000000000\",\"1986-04-01T00:00:00.000000000\",\"1986-05-01T00:00:00.000000000\",\"1986-06-01T00:00:00.000000000\",\"1986-07-01T00:00:00.000000000\",\"1986-08-01T00:00:00.000000000\",\"1986-09-01T00:00:00.000000000\",\"1986-10-01T00:00:00.000000000\",\"1986-11-01T00:00:00.000000000\",\"1986-12-01T00:00:00.000000000\",\"1987-01-01T00:00:00.000000000\",\"1987-02-01T00:00:00.000000000\",\"1987-03-01T00:00:00.000000000\",\"1987-04-01T00:00:00.000000000\",\"1987-05-01T00:00:00.000000000\",\"1987-06-01T00:00:00.000000000\",\"1987-07-01T00:00:00.000000000\",\"1987-08-01T00:00:00.000000000\",\"1987-09-01T00:00:00.000000000\",\"1987-10-01T00:00:00.000000000\",\"1987-11-01T00:00:00.000000000\",\"1987-12-01T00:00:00.000000000\",\"1988-01-01T00:00:00.000000000\",\"1988-02-01T00:00:00.000000000\",\"1988-03-01T00:00:00.000000000\",\"1988-04-01T00:00:00.000000000\",\"1988-05-01T00:00:00.000000000\",\"1988-06-01T00:00:00.000000000\",\"1988-07-01T00:00:00.000000000\",\"1988-08-01T00:00:00.000000000\",\"1988-09-01T00:00:00.000000000\",\"1988-10-01T00:00:00.000000000\",\"1988-11-01T00:00:00.000000000\",\"1988-12-01T00:00:00.000000000\",\"1989-01-01T00:00:00.000000000\",\"1989-02-01T00:00:00.000000000\",\"1989-03-01T00:00:00.000000000\",\"1989-04-01T00:00:00.000000000\",\"1989-05-01T00:00:00.000000000\",\"1989-06-01T00:00:00.000000000\",\"1989-07-01T00:00:00.000000000\",\"1989-08-01T00:00:00.000000000\",\"1989-09-01T00:00:00.000000000\",\"1989-10-01T00:00:00.000000000\",\"1989-11-01T00:00:00.000000000\",\"1989-12-01T00:00:00.000000000\",\"1990-01-01T00:00:00.000000000\",\"1990-02-01T00:00:00.000000000\",\"1990-03-01T00:00:00.000000000\",\"1990-04-01T00:00:00.000000000\",\"1990-05-01T00:00:00.000000000\",\"1990-06-01T00:00:00.000000000\",\"1990-07-01T00:00:00.000000000\",\"1990-08-01T00:00:00.000000000\",\"1990-09-01T00:00:00.000000000\",\"1990-10-01T00:00:00.000000000\",\"1990-11-01T00:00:00.000000000\",\"1990-12-01T00:00:00.000000000\",\"1991-01-01T00:00:00.000000000\",\"1991-02-01T00:00:00.000000000\",\"1991-03-01T00:00:00.000000000\",\"1991-04-01T00:00:00.000000000\",\"1991-05-01T00:00:00.000000000\",\"1991-06-01T00:00:00.000000000\",\"1991-07-01T00:00:00.000000000\",\"1991-08-01T00:00:00.000000000\",\"1991-09-01T00:00:00.000000000\",\"1991-10-01T00:00:00.000000000\",\"1991-11-01T00:00:00.000000000\",\"1991-12-01T00:00:00.000000000\",\"1992-01-01T00:00:00.000000000\",\"1992-02-01T00:00:00.000000000\",\"1992-03-01T00:00:00.000000000\",\"1992-04-01T00:00:00.000000000\",\"1992-05-01T00:00:00.000000000\",\"1992-06-01T00:00:00.000000000\",\"1992-07-01T00:00:00.000000000\",\"1992-08-01T00:00:00.000000000\",\"1992-09-01T00:00:00.000000000\",\"1992-10-01T00:00:00.000000000\",\"1992-11-01T00:00:00.000000000\",\"1992-12-01T00:00:00.000000000\",\"1993-01-01T00:00:00.000000000\",\"1993-02-01T00:00:00.000000000\",\"1993-03-01T00:00:00.000000000\",\"1993-04-01T00:00:00.000000000\",\"1993-05-01T00:00:00.000000000\",\"1993-06-01T00:00:00.000000000\",\"1993-07-01T00:00:00.000000000\",\"1993-08-01T00:00:00.000000000\",\"1993-09-01T00:00:00.000000000\",\"1993-10-01T00:00:00.000000000\",\"1993-11-01T00:00:00.000000000\",\"1993-12-01T00:00:00.000000000\",\"1994-01-01T00:00:00.000000000\",\"1994-02-01T00:00:00.000000000\",\"1994-03-01T00:00:00.000000000\",\"1994-04-01T00:00:00.000000000\",\"1994-05-01T00:00:00.000000000\",\"1994-06-01T00:00:00.000000000\",\"1994-07-01T00:00:00.000000000\",\"1994-08-01T00:00:00.000000000\",\"1994-09-01T00:00:00.000000000\",\"1994-10-01T00:00:00.000000000\",\"1994-11-01T00:00:00.000000000\",\"1994-12-01T00:00:00.000000000\",\"1995-01-01T00:00:00.000000000\",\"1995-02-01T00:00:00.000000000\",\"1995-03-01T00:00:00.000000000\",\"1995-04-01T00:00:00.000000000\",\"1995-05-01T00:00:00.000000000\",\"1995-06-01T00:00:00.000000000\",\"1995-07-01T00:00:00.000000000\",\"1995-08-01T00:00:00.000000000\",\"1995-09-01T00:00:00.000000000\",\"1995-10-01T00:00:00.000000000\",\"1995-11-01T00:00:00.000000000\",\"1995-12-01T00:00:00.000000000\",\"1996-01-01T00:00:00.000000000\",\"1996-02-01T00:00:00.000000000\",\"1996-03-01T00:00:00.000000000\",\"1996-04-01T00:00:00.000000000\",\"1996-05-01T00:00:00.000000000\",\"1996-06-01T00:00:00.000000000\",\"1996-07-01T00:00:00.000000000\",\"1996-08-01T00:00:00.000000000\",\"1996-09-01T00:00:00.000000000\",\"1996-10-01T00:00:00.000000000\",\"1996-11-01T00:00:00.000000000\",\"1996-12-01T00:00:00.000000000\",\"1997-01-01T00:00:00.000000000\",\"1997-02-01T00:00:00.000000000\",\"1997-03-01T00:00:00.000000000\",\"1997-04-01T00:00:00.000000000\",\"1997-05-01T00:00:00.000000000\",\"1997-06-01T00:00:00.000000000\",\"1997-07-01T00:00:00.000000000\",\"1997-08-01T00:00:00.000000000\",\"1997-09-01T00:00:00.000000000\",\"1997-10-01T00:00:00.000000000\",\"1997-11-01T00:00:00.000000000\",\"1997-12-01T00:00:00.000000000\",\"1998-01-01T00:00:00.000000000\",\"1998-02-01T00:00:00.000000000\",\"1998-03-01T00:00:00.000000000\",\"1998-04-01T00:00:00.000000000\",\"1998-05-01T00:00:00.000000000\",\"1998-06-01T00:00:00.000000000\",\"1998-07-01T00:00:00.000000000\",\"1998-08-01T00:00:00.000000000\",\"1998-09-01T00:00:00.000000000\",\"1998-10-01T00:00:00.000000000\",\"1998-11-01T00:00:00.000000000\",\"1998-12-01T00:00:00.000000000\",\"1999-01-01T00:00:00.000000000\",\"1999-02-01T00:00:00.000000000\",\"1999-03-01T00:00:00.000000000\",\"1999-04-01T00:00:00.000000000\",\"1999-05-01T00:00:00.000000000\",\"1999-06-01T00:00:00.000000000\",\"1999-07-01T00:00:00.000000000\",\"1999-08-01T00:00:00.000000000\",\"1999-09-01T00:00:00.000000000\",\"1999-10-01T00:00:00.000000000\",\"1999-11-01T00:00:00.000000000\",\"1999-12-01T00:00:00.000000000\",\"2000-01-01T00:00:00.000000000\",\"2000-02-01T00:00:00.000000000\",\"2000-03-01T00:00:00.000000000\",\"2000-04-01T00:00:00.000000000\",\"2000-05-01T00:00:00.000000000\",\"2000-06-01T00:00:00.000000000\",\"2000-07-01T00:00:00.000000000\",\"2000-08-01T00:00:00.000000000\",\"2000-09-01T00:00:00.000000000\",\"2000-10-01T00:00:00.000000000\",\"2000-11-01T00:00:00.000000000\",\"2000-12-01T00:00:00.000000000\",\"2001-01-01T00:00:00.000000000\",\"2001-02-01T00:00:00.000000000\",\"2001-03-01T00:00:00.000000000\",\"2001-04-01T00:00:00.000000000\",\"2001-05-01T00:00:00.000000000\",\"2001-06-01T00:00:00.000000000\",\"2001-07-01T00:00:00.000000000\",\"2001-08-01T00:00:00.000000000\",\"2001-09-01T00:00:00.000000000\",\"2001-10-01T00:00:00.000000000\",\"2001-11-01T00:00:00.000000000\",\"2001-12-01T00:00:00.000000000\",\"2002-01-01T00:00:00.000000000\",\"2002-02-01T00:00:00.000000000\",\"2002-03-01T00:00:00.000000000\",\"2002-04-01T00:00:00.000000000\",\"2002-05-01T00:00:00.000000000\",\"2002-06-01T00:00:00.000000000\",\"2002-07-01T00:00:00.000000000\",\"2002-08-01T00:00:00.000000000\",\"2002-09-01T00:00:00.000000000\",\"2002-10-01T00:00:00.000000000\",\"2002-11-01T00:00:00.000000000\",\"2002-12-01T00:00:00.000000000\",\"2003-01-01T00:00:00.000000000\",\"2003-02-01T00:00:00.000000000\",\"2003-03-01T00:00:00.000000000\",\"2003-04-01T00:00:00.000000000\",\"2003-05-01T00:00:00.000000000\",\"2003-06-01T00:00:00.000000000\",\"2003-07-01T00:00:00.000000000\",\"2003-08-01T00:00:00.000000000\",\"2003-09-01T00:00:00.000000000\",\"2003-10-01T00:00:00.000000000\",\"2003-11-01T00:00:00.000000000\",\"2003-12-01T00:00:00.000000000\",\"2004-01-01T00:00:00.000000000\",\"2004-02-01T00:00:00.000000000\",\"2004-03-01T00:00:00.000000000\",\"2004-04-01T00:00:00.000000000\",\"2004-05-01T00:00:00.000000000\",\"2004-06-01T00:00:00.000000000\",\"2004-07-01T00:00:00.000000000\",\"2004-08-01T00:00:00.000000000\",\"2004-09-01T00:00:00.000000000\",\"2004-10-01T00:00:00.000000000\",\"2004-11-01T00:00:00.000000000\",\"2004-12-01T00:00:00.000000000\",\"2005-01-01T00:00:00.000000000\",\"2005-02-01T00:00:00.000000000\",\"2005-03-01T00:00:00.000000000\",\"2005-04-01T00:00:00.000000000\",\"2005-05-01T00:00:00.000000000\",\"2005-06-01T00:00:00.000000000\",\"2005-07-01T00:00:00.000000000\",\"2005-08-01T00:00:00.000000000\",\"2005-09-01T00:00:00.000000000\",\"2005-10-01T00:00:00.000000000\",\"2005-11-01T00:00:00.000000000\",\"2005-12-01T00:00:00.000000000\",\"2006-01-01T00:00:00.000000000\",\"2006-02-01T00:00:00.000000000\",\"2006-03-01T00:00:00.000000000\",\"2006-04-01T00:00:00.000000000\",\"2006-05-01T00:00:00.000000000\",\"2006-06-01T00:00:00.000000000\",\"2006-07-01T00:00:00.000000000\",\"2006-08-01T00:00:00.000000000\",\"2006-09-01T00:00:00.000000000\",\"2006-10-01T00:00:00.000000000\",\"2006-11-01T00:00:00.000000000\",\"2006-12-01T00:00:00.000000000\",\"2007-01-01T00:00:00.000000000\",\"2007-02-01T00:00:00.000000000\",\"2007-03-01T00:00:00.000000000\",\"2007-04-01T00:00:00.000000000\",\"2007-05-01T00:00:00.000000000\",\"2007-06-01T00:00:00.000000000\",\"2007-07-01T00:00:00.000000000\",\"2007-08-01T00:00:00.000000000\",\"2007-09-01T00:00:00.000000000\",\"2007-10-01T00:00:00.000000000\",\"2007-11-01T00:00:00.000000000\",\"2007-12-01T00:00:00.000000000\",\"2008-01-01T00:00:00.000000000\",\"2008-02-01T00:00:00.000000000\",\"2008-03-01T00:00:00.000000000\",\"2008-04-01T00:00:00.000000000\",\"2008-05-01T00:00:00.000000000\",\"2008-06-01T00:00:00.000000000\",\"2008-07-01T00:00:00.000000000\",\"2008-08-01T00:00:00.000000000\",\"2008-09-01T00:00:00.000000000\",\"2008-10-01T00:00:00.000000000\",\"2008-11-01T00:00:00.000000000\",\"2008-12-01T00:00:00.000000000\",\"2009-01-01T00:00:00.000000000\",\"2009-02-01T00:00:00.000000000\",\"2009-03-01T00:00:00.000000000\",\"2009-04-01T00:00:00.000000000\",\"2009-05-01T00:00:00.000000000\",\"2009-06-01T00:00:00.000000000\",\"2009-07-01T00:00:00.000000000\",\"2009-08-01T00:00:00.000000000\",\"2009-09-01T00:00:00.000000000\",\"2009-10-01T00:00:00.000000000\",\"2009-11-01T00:00:00.000000000\",\"2009-12-01T00:00:00.000000000\",\"2010-01-01T00:00:00.000000000\",\"2010-02-01T00:00:00.000000000\",\"2010-03-01T00:00:00.000000000\",\"2010-04-01T00:00:00.000000000\",\"2010-05-01T00:00:00.000000000\",\"2010-06-01T00:00:00.000000000\",\"2010-07-01T00:00:00.000000000\",\"2010-08-01T00:00:00.000000000\",\"2010-09-01T00:00:00.000000000\",\"2010-10-01T00:00:00.000000000\",\"2010-11-01T00:00:00.000000000\",\"2010-12-01T00:00:00.000000000\",\"2011-01-01T00:00:00.000000000\",\"2011-02-01T00:00:00.000000000\",\"2011-03-01T00:00:00.000000000\",\"2011-04-01T00:00:00.000000000\",\"2011-05-01T00:00:00.000000000\",\"2011-06-01T00:00:00.000000000\",\"2011-07-01T00:00:00.000000000\",\"2011-08-01T00:00:00.000000000\",\"2011-09-01T00:00:00.000000000\",\"2011-10-01T00:00:00.000000000\",\"2011-11-01T00:00:00.000000000\",\"2011-12-01T00:00:00.000000000\",\"2012-01-01T00:00:00.000000000\",\"2012-02-01T00:00:00.000000000\",\"2012-03-01T00:00:00.000000000\",\"2012-04-01T00:00:00.000000000\",\"2012-05-01T00:00:00.000000000\",\"2012-06-01T00:00:00.000000000\",\"2012-07-01T00:00:00.000000000\",\"2012-08-01T00:00:00.000000000\",\"2012-09-01T00:00:00.000000000\",\"2012-10-01T00:00:00.000000000\",\"2012-11-01T00:00:00.000000000\",\"2012-12-01T00:00:00.000000000\",\"2013-01-01T00:00:00.000000000\",\"2013-02-01T00:00:00.000000000\",\"2013-03-01T00:00:00.000000000\",\"2013-04-01T00:00:00.000000000\",\"2013-05-01T00:00:00.000000000\",\"2013-06-01T00:00:00.000000000\",\"2013-07-01T00:00:00.000000000\",\"2013-08-01T00:00:00.000000000\",\"2013-09-01T00:00:00.000000000\",\"2013-10-01T00:00:00.000000000\",\"2013-11-01T00:00:00.000000000\",\"2013-12-01T00:00:00.000000000\",\"2014-01-01T00:00:00.000000000\",\"2014-02-01T00:00:00.000000000\",\"2014-03-01T00:00:00.000000000\",\"2014-04-01T00:00:00.000000000\",\"2014-05-01T00:00:00.000000000\",\"2014-06-01T00:00:00.000000000\",\"2014-07-01T00:00:00.000000000\",\"2014-08-01T00:00:00.000000000\",\"2014-09-01T00:00:00.000000000\",\"2014-10-01T00:00:00.000000000\",\"2014-11-01T00:00:00.000000000\",\"2014-12-01T00:00:00.000000000\",\"2015-01-01T00:00:00.000000000\",\"2015-02-01T00:00:00.000000000\",\"2015-03-01T00:00:00.000000000\",\"2015-04-01T00:00:00.000000000\",\"2015-05-01T00:00:00.000000000\",\"2015-06-01T00:00:00.000000000\",\"2015-07-01T00:00:00.000000000\",\"2015-08-01T00:00:00.000000000\",\"2015-09-01T00:00:00.000000000\",\"2015-10-01T00:00:00.000000000\",\"2015-11-01T00:00:00.000000000\",\"2015-12-01T00:00:00.000000000\",\"2016-01-01T00:00:00.000000000\",\"2016-02-01T00:00:00.000000000\",\"2016-03-01T00:00:00.000000000\",\"2016-04-01T00:00:00.000000000\",\"2016-05-01T00:00:00.000000000\",\"2016-06-01T00:00:00.000000000\",\"2016-07-01T00:00:00.000000000\",\"2016-08-01T00:00:00.000000000\",\"2016-09-01T00:00:00.000000000\",\"2016-10-01T00:00:00.000000000\",\"2016-11-01T00:00:00.000000000\",\"2016-12-01T00:00:00.000000000\",\"2017-01-01T00:00:00.000000000\",\"2017-02-01T00:00:00.000000000\",\"2017-03-01T00:00:00.000000000\",\"2017-04-01T00:00:00.000000000\",\"2017-05-01T00:00:00.000000000\",\"2017-06-01T00:00:00.000000000\",\"2017-07-01T00:00:00.000000000\",\"2017-08-01T00:00:00.000000000\",\"2017-09-01T00:00:00.000000000\",\"2017-10-01T00:00:00.000000000\",\"2017-11-01T00:00:00.000000000\",\"2017-12-01T00:00:00.000000000\",\"2018-01-01T00:00:00.000000000\",\"2018-02-01T00:00:00.000000000\",\"2018-03-01T00:00:00.000000000\",\"2018-04-01T00:00:00.000000000\",\"2018-05-01T00:00:00.000000000\",\"2018-06-01T00:00:00.000000000\",\"2018-07-01T00:00:00.000000000\",\"2018-08-01T00:00:00.000000000\",\"2018-09-01T00:00:00.000000000\",\"2018-10-01T00:00:00.000000000\",\"2018-11-01T00:00:00.000000000\",\"2018-12-01T00:00:00.000000000\",\"2019-01-01T00:00:00.000000000\",\"2019-02-01T00:00:00.000000000\",\"2019-03-01T00:00:00.000000000\",\"2019-04-01T00:00:00.000000000\",\"2019-05-01T00:00:00.000000000\",\"2019-06-01T00:00:00.000000000\",\"2019-07-01T00:00:00.000000000\",\"2019-08-01T00:00:00.000000000\",\"2019-09-01T00:00:00.000000000\",\"2019-10-01T00:00:00.000000000\",\"2019-11-01T00:00:00.000000000\",\"2019-12-01T00:00:00.000000000\",\"2020-01-01T00:00:00.000000000\",\"2020-02-01T00:00:00.000000000\",\"2020-03-01T00:00:00.000000000\",\"2020-04-01T00:00:00.000000000\",\"2020-05-01T00:00:00.000000000\",\"2020-06-01T00:00:00.000000000\",\"2020-07-01T00:00:00.000000000\",\"2020-08-01T00:00:00.000000000\",\"2020-09-01T00:00:00.000000000\",\"2020-10-01T00:00:00.000000000\",\"2020-11-01T00:00:00.000000000\",\"2020-12-01T00:00:00.000000000\",\"2021-01-01T00:00:00.000000000\",\"2021-02-01T00:00:00.000000000\",\"2021-03-01T00:00:00.000000000\",\"2021-04-01T00:00:00.000000000\",\"2021-05-01T00:00:00.000000000\",\"2021-06-01T00:00:00.000000000\",\"2021-07-01T00:00:00.000000000\",\"2021-08-01T00:00:00.000000000\",\"2021-09-01T00:00:00.000000000\",\"2021-10-01T00:00:00.000000000\",\"2021-11-01T00:00:00.000000000\",\"2021-12-01T00:00:00.000000000\",\"2022-01-01T00:00:00.000000000\",\"2022-02-01T00:00:00.000000000\",\"2022-03-01T00:00:00.000000000\",\"2022-04-01T00:00:00.000000000\",\"2022-05-01T00:00:00.000000000\",\"2022-06-01T00:00:00.000000000\",\"2022-07-01T00:00:00.000000000\",\"2022-08-01T00:00:00.000000000\",\"2022-09-01T00:00:00.000000000\",\"2022-10-01T00:00:00.000000000\",\"2022-11-01T00:00:00.000000000\",\"2022-12-01T00:00:00.000000000\"],\"y\":[22.8,23.1,23.8,23.5,23.4,23.5,23.8,24.1,24.8,24.9,25.2,25.7,26.1,25.9,25.3,26.0,26.3,26.5,26.7,26.5,26.3,26.1,25.7,25.5,25.4,25.3,25.3,25.3,25.2,25.3,24.8,24.8,25.0,24.8,24.8,24.5,24.3,24.7,24.6,24.6,24.8,25.1,25.6,25.8,25.8,26.0,26.1,26.9,27.6,28.5,28.4,28.2,28.3,28.0,27.9,27.8,27.9,28.4,28.6,28.9,28.9,28.6,28.5,28.7,28.7,28.6,28.9,28.9,28.7,28.8,28.8,28.6,28.4,28.3,28.3,28.1,28.2,28.4,28.2,28.3,28.4,28.4,28.1,28.3,28.5,28.5,28.4,28.4,28.4,28.4,28.4,28.3,28.0,27.9,27.9,27.8,27.8,28.0,28.0,28.0,27.9,27.7,27.7,27.6,27.8,27.7,27.6,27.6,27.5,27.5,27.5,27.6,27.8,28.1,28.4,28.2,28.2,28.3,28.4,28.5,28.4,28.7,28.6,28.6,28.7,28.9,29.1,29.4,29.2,29.2,29.2,29.2,29.8,29.9,30.5,30.6,30.5,30.3,30.2,30.1,30.0,30.0,30.0,29.9,30.0,29.8,29.7,29.5,29.5,29.7,29.6,29.6,29.7,29.7,29.7,29.6,29.6,29.5,29.6,30.0,30.0,30.0,29.9,30.0,30.1,30.3,30.5,30.5,30.5,30.5,30.5,30.4,30.3,30.2,30.3,30.3,30.3,30.3,30.3,30.3,30.4,30.5,30.6,30.7,30.6,30.5,30.4,30.6,30.9,30.8,30.9,30.7,31.0,31.1,31.0,30.9,30.9,31.0,31.2,31.2,31.1,31.0,31.2,31.3,31.4,31.4,31.4,31.4,31.4,31.4,31.5,31.4,31.6,31.6,31.7,31.7,31.6,31.5,31.7,31.8,32.1,32.6,32.5,32.4,32.3,32.5,32.6,32.8,33.0,33.5,33.8,33.8,33.7,33.7,33.5,34.0,34.1,34.2,34.1,34.0,33.9,33.8,33.8,33.7,33.7,34.0,34.1,34.3,34.3,34.4,34.5,34.6,34.6,34.8,34.9,35.0,35.1,35.2,35.3,35.4,35.6,35.9,35.9,36.0,36.1,36.1,36.2,36.4,36.6,37.0,37.3,37.5,37.7,37.8,38.2,38.6,38.7,38.9,38.9,39.0,39.2,39.2,39.2,39.2,39.4,39.5,39.5,39.5,39.4,39.5,39.8,40.1,40.3,40.5,40.6,40.6,40.6,40.7,40.9,41.3,41.1,41.7,41.6,41.6,41.7,41.9,42.1,42.2,42.5,42.8,43.0,43.2,44.0,44.6,45.8,46.5,47.1,47.6,47.7,50.5,50.4,50.7,51.4,51.9,52.5,53.6,54.2,54.1,54.5,54.5,54.3,55.1,56.2,56.8,57.5,58.2,58.4,58.5,58.4,58.3,58.6,59.2,60.3,60.3,60.7,61.3,61.7,62.1,61.9,61.3,60.9,60.9,61.1,61.3,61.6,61.8,62.1,62.4,62.3,62.5,62.7,63.9,64.2,65.0,65.3,65.7,65.9,66.2,66.4,66.6,67.1,67.4,67.9,68.6,69.5,70.6,71.6,72.7,73.0,73.3,73.6,74.2,74.7,75.1,76.4,77.7,78.4,79.0,79.7,80.0,80.5,80.4,80.9,81.5,82.0,82.8,83.3,83.4,84.1,84.7,85.2,85.7,86.6,88.0,89.1,89.8,90.8,91.3,91.6,92.1,92.6,92.8,92.8,93.2,93.9,94.4,94.8,95.0,95.1,95.3,95.6,96.3,96.2,96.4,97.2,98.1,98.2,98.0,98.2,98.2,98.2,98.2,98.1,98.2,98.8,99.2,99.5,99.6,99.6,99.7,100.0,100.3,100.3,100.6,102.0,102.7,102.9,102.9,102.7,103.1,103.3,103.9,103.8,104.0,104.1,104.5,104.7,105.2,105.5,105.4,105.2,105.5,105.5,105.6,105.8,105.8,106.5,107.3,107.5,107.3,107.5,107.7,108.2,108.3,109.1,110.1,110.2,110.5,111.1,111.4,111.8,112.2,112.4,112.6,113.2,113.9,113.7,113.9,114.3,114.5,114.5,115.1,115.6,115.6,115.8,116.4,116.9,117.6,118.8,119.4,120.1,120.3,120.5,121.1,121.6,122.5,123.2,123.9,124.7,125.1,125.6,125.9,126.3,126.8,127.4,127.8,129.7,130.8,131.0,130.8,131.1,132.1,132.8,133.2,133.6,134.1,134.5,134.6,135.0,135.1,135.3,136.1,136.6,137.4,136.7,136.2,136.4,136.2,136.7,137.0,136.6,137.1,137.6,137.5,137.2,137.6,137.4,138.4,138.9,138.9,138.7,138.8,139.1,139.6,139.6,140.0,141.0,140.6,140.6,141.1,141.4,142.0,142.3,142.8,142.9,142.7,142.7,143.0,143.3,143.8,144.6,145.1,145.3,145.3,145.6,146.8,146.7,147.3,147.1,148.1,148.2,148.3,148.5,148.6,149.1,149.5,149.6,149.9,150.4,150.8,151.4,152.0,151.9,152.9,153.4,153.9,154.6,155.5,156.1,156.3,155.9,156.5,156.6,156.5,156.6,156.9,157.2,157.7,158.0,158.3,158.6,158.7,159.5,159.4,159.7,159.7,160.3,160.2,160.6,161.0,161.1,162.0,162.2,162.4,163.0,163.3,163.3,163.5,163.8,163.7,163.9,164.2,164.6,165.0,165.3,165.5,165.6,166.2,166.5,166.7,167.3,167.4,168.3,168.7,168.9,169.0,169.2,170.0,170.3,171.2,171.7,172.1,172.4,173.1,173.6,174.0,174.2,174.8,174.9,174.7,175.3,175.7,176.1,176.4,175.8,175.9,176.1,176.1,176.5,176.4,176.9,177.1,177.1,178.1,178.4,178.5,178.8,179.7,179.8,180.5,180.9,181.6,182.6,183.5,183.4,183.9,184.2,184.6,186.1,186.4,186.8,187.0,186.9,187.8,188.4,188.4,188.7,188.6,189.1,190.4,190.6,190.5,190.9,191.1,191.5,192.0,192.6,192.9,193.6,193.7,194.0,193.8,194.1,194.7,195.2,195.7,196.3,196.9,197.0,197.1,198.378,199.736,200.432,200.952,201.735,202.557,203.232,204.008,205.003,205.651,206.493,206.874,208.126,208.901,209.324,211.127,212.019,213.333,215.434,216.528,217.768,218.667,219.07,219.073,219.234,218.949,218.51,218.175,217.813,217.813,217.387,217.376,217.258,217.452,217.581,217.904,218.489,218.552,218.99,219.209,219.331,219.285,219.234,219.48,220.219,220.521,220.946,221.215,222.469,223.504,225.213,226.072,226.94,227.515,228.482,229.634,230.682,230.899,231.118,231.557,232.213,232.14,232.591,233.044,233.219,233.683,233.845,234.244,234.404,234.843,235.253,235.677,236.011,235.992,236.213,236.655,236.454,236.98,237.184,237.451,237.519,237.75,237.947,238.182,238.492,239.408,240.447,241.241,242.408,242.646,243.235,243.792,244.48,244.866,245.394,246.237,246.197,246.495,246.072,246.002,246.239,246.937,247.157,247.742,248.492,248.755,248.525,248.206,248.353,248.606,248.029,248.235,247.856,247.683,247.658,247.746,247.772,247.812,247.741,247.725,248.065,248.735,249.244,249.589,249.972,249.77,250.185,250.469,250.826,251.048,251.195,251.716,252.253,252.248,252.412,253.016,253.018,253.278,253.673,254.034,254.283,254.081,254.75,255.673,256.381,257.233,257.752,257.479,258.008,258.043,258.144,258.329,258.88,259.371,259.902,260.274,261.097,261.912,262.734,266.505,268.326,269.656,268.657,268.958,269.124,269.557,269.563,270.469,271.035,271.429,271.861,272.827,274.092,276.067,277.877,278.969,281.468,283.912,286.05,287.44,289.959,292.912,null,null,null,null,null,null,null,null,null,null],\"type\":\"scatter\"},{\"mode\":\"lines\",\"name\":\"Other goods and services\",\"x\":[\"1947-01-01T00:00:00.000000000\",\"1947-02-01T00:00:00.000000000\",\"1947-03-01T00:00:00.000000000\",\"1947-04-01T00:00:00.000000000\",\"1947-05-01T00:00:00.000000000\",\"1947-06-01T00:00:00.000000000\",\"1947-07-01T00:00:00.000000000\",\"1947-08-01T00:00:00.000000000\",\"1947-09-01T00:00:00.000000000\",\"1947-10-01T00:00:00.000000000\",\"1947-11-01T00:00:00.000000000\",\"1947-12-01T00:00:00.000000000\",\"1948-01-01T00:00:00.000000000\",\"1948-02-01T00:00:00.000000000\",\"1948-03-01T00:00:00.000000000\",\"1948-04-01T00:00:00.000000000\",\"1948-05-01T00:00:00.000000000\",\"1948-06-01T00:00:00.000000000\",\"1948-07-01T00:00:00.000000000\",\"1948-08-01T00:00:00.000000000\",\"1948-09-01T00:00:00.000000000\",\"1948-10-01T00:00:00.000000000\",\"1948-11-01T00:00:00.000000000\",\"1948-12-01T00:00:00.000000000\",\"1949-01-01T00:00:00.000000000\",\"1949-02-01T00:00:00.000000000\",\"1949-03-01T00:00:00.000000000\",\"1949-04-01T00:00:00.000000000\",\"1949-05-01T00:00:00.000000000\",\"1949-06-01T00:00:00.000000000\",\"1949-07-01T00:00:00.000000000\",\"1949-08-01T00:00:00.000000000\",\"1949-09-01T00:00:00.000000000\",\"1949-10-01T00:00:00.000000000\",\"1949-11-01T00:00:00.000000000\",\"1949-12-01T00:00:00.000000000\",\"1950-01-01T00:00:00.000000000\",\"1950-02-01T00:00:00.000000000\",\"1950-03-01T00:00:00.000000000\",\"1950-04-01T00:00:00.000000000\",\"1950-05-01T00:00:00.000000000\",\"1950-06-01T00:00:00.000000000\",\"1950-07-01T00:00:00.000000000\",\"1950-08-01T00:00:00.000000000\",\"1950-09-01T00:00:00.000000000\",\"1950-10-01T00:00:00.000000000\",\"1950-11-01T00:00:00.000000000\",\"1950-12-01T00:00:00.000000000\",\"1951-01-01T00:00:00.000000000\",\"1951-02-01T00:00:00.000000000\",\"1951-03-01T00:00:00.000000000\",\"1951-04-01T00:00:00.000000000\",\"1951-05-01T00:00:00.000000000\",\"1951-06-01T00:00:00.000000000\",\"1951-07-01T00:00:00.000000000\",\"1951-08-01T00:00:00.000000000\",\"1951-09-01T00:00:00.000000000\",\"1951-10-01T00:00:00.000000000\",\"1951-11-01T00:00:00.000000000\",\"1951-12-01T00:00:00.000000000\",\"1952-01-01T00:00:00.000000000\",\"1952-02-01T00:00:00.000000000\",\"1952-03-01T00:00:00.000000000\",\"1952-04-01T00:00:00.000000000\",\"1952-05-01T00:00:00.000000000\",\"1952-06-01T00:00:00.000000000\",\"1952-07-01T00:00:00.000000000\",\"1952-08-01T00:00:00.000000000\",\"1952-09-01T00:00:00.000000000\",\"1952-10-01T00:00:00.000000000\",\"1952-11-01T00:00:00.000000000\",\"1952-12-01T00:00:00.000000000\",\"1953-01-01T00:00:00.000000000\",\"1953-02-01T00:00:00.000000000\",\"1953-03-01T00:00:00.000000000\",\"1953-04-01T00:00:00.000000000\",\"1953-05-01T00:00:00.000000000\",\"1953-06-01T00:00:00.000000000\",\"1953-07-01T00:00:00.000000000\",\"1953-08-01T00:00:00.000000000\",\"1953-09-01T00:00:00.000000000\",\"1953-10-01T00:00:00.000000000\",\"1953-11-01T00:00:00.000000000\",\"1953-12-01T00:00:00.000000000\",\"1954-01-01T00:00:00.000000000\",\"1954-02-01T00:00:00.000000000\",\"1954-03-01T00:00:00.000000000\",\"1954-04-01T00:00:00.000000000\",\"1954-05-01T00:00:00.000000000\",\"1954-06-01T00:00:00.000000000\",\"1954-07-01T00:00:00.000000000\",\"1954-08-01T00:00:00.000000000\",\"1954-09-01T00:00:00.000000000\",\"1954-10-01T00:00:00.000000000\",\"1954-11-01T00:00:00.000000000\",\"1954-12-01T00:00:00.000000000\",\"1955-01-01T00:00:00.000000000\",\"1955-02-01T00:00:00.000000000\",\"1955-03-01T00:00:00.000000000\",\"1955-04-01T00:00:00.000000000\",\"1955-05-01T00:00:00.000000000\",\"1955-06-01T00:00:00.000000000\",\"1955-07-01T00:00:00.000000000\",\"1955-08-01T00:00:00.000000000\",\"1955-09-01T00:00:00.000000000\",\"1955-10-01T00:00:00.000000000\",\"1955-11-01T00:00:00.000000000\",\"1955-12-01T00:00:00.000000000\",\"1956-01-01T00:00:00.000000000\",\"1956-02-01T00:00:00.000000000\",\"1956-03-01T00:00:00.000000000\",\"1956-04-01T00:00:00.000000000\",\"1956-05-01T00:00:00.000000000\",\"1956-06-01T00:00:00.000000000\",\"1956-07-01T00:00:00.000000000\",\"1956-08-01T00:00:00.000000000\",\"1956-09-01T00:00:00.000000000\",\"1956-10-01T00:00:00.000000000\",\"1956-11-01T00:00:00.000000000\",\"1956-12-01T00:00:00.000000000\",\"1957-01-01T00:00:00.000000000\",\"1957-02-01T00:00:00.000000000\",\"1957-03-01T00:00:00.000000000\",\"1957-04-01T00:00:00.000000000\",\"1957-05-01T00:00:00.000000000\",\"1957-06-01T00:00:00.000000000\",\"1957-07-01T00:00:00.000000000\",\"1957-08-01T00:00:00.000000000\",\"1957-09-01T00:00:00.000000000\",\"1957-10-01T00:00:00.000000000\",\"1957-11-01T00:00:00.000000000\",\"1957-12-01T00:00:00.000000000\",\"1958-01-01T00:00:00.000000000\",\"1958-02-01T00:00:00.000000000\",\"1958-03-01T00:00:00.000000000\",\"1958-04-01T00:00:00.000000000\",\"1958-05-01T00:00:00.000000000\",\"1958-06-01T00:00:00.000000000\",\"1958-07-01T00:00:00.000000000\",\"1958-08-01T00:00:00.000000000\",\"1958-09-01T00:00:00.000000000\",\"1958-10-01T00:00:00.000000000\",\"1958-11-01T00:00:00.000000000\",\"1958-12-01T00:00:00.000000000\",\"1959-01-01T00:00:00.000000000\",\"1959-02-01T00:00:00.000000000\",\"1959-03-01T00:00:00.000000000\",\"1959-04-01T00:00:00.000000000\",\"1959-05-01T00:00:00.000000000\",\"1959-06-01T00:00:00.000000000\",\"1959-07-01T00:00:00.000000000\",\"1959-08-01T00:00:00.000000000\",\"1959-09-01T00:00:00.000000000\",\"1959-10-01T00:00:00.000000000\",\"1959-11-01T00:00:00.000000000\",\"1959-12-01T00:00:00.000000000\",\"1960-01-01T00:00:00.000000000\",\"1960-02-01T00:00:00.000000000\",\"1960-03-01T00:00:00.000000000\",\"1960-04-01T00:00:00.000000000\",\"1960-05-01T00:00:00.000000000\",\"1960-06-01T00:00:00.000000000\",\"1960-07-01T00:00:00.000000000\",\"1960-08-01T00:00:00.000000000\",\"1960-09-01T00:00:00.000000000\",\"1960-10-01T00:00:00.000000000\",\"1960-11-01T00:00:00.000000000\",\"1960-12-01T00:00:00.000000000\",\"1961-01-01T00:00:00.000000000\",\"1961-02-01T00:00:00.000000000\",\"1961-03-01T00:00:00.000000000\",\"1961-04-01T00:00:00.000000000\",\"1961-05-01T00:00:00.000000000\",\"1961-06-01T00:00:00.000000000\",\"1961-07-01T00:00:00.000000000\",\"1961-08-01T00:00:00.000000000\",\"1961-09-01T00:00:00.000000000\",\"1961-10-01T00:00:00.000000000\",\"1961-11-01T00:00:00.000000000\",\"1961-12-01T00:00:00.000000000\",\"1962-01-01T00:00:00.000000000\",\"1962-02-01T00:00:00.000000000\",\"1962-03-01T00:00:00.000000000\",\"1962-04-01T00:00:00.000000000\",\"1962-05-01T00:00:00.000000000\",\"1962-06-01T00:00:00.000000000\",\"1962-07-01T00:00:00.000000000\",\"1962-08-01T00:00:00.000000000\",\"1962-09-01T00:00:00.000000000\",\"1962-10-01T00:00:00.000000000\",\"1962-11-01T00:00:00.000000000\",\"1962-12-01T00:00:00.000000000\",\"1963-01-01T00:00:00.000000000\",\"1963-02-01T00:00:00.000000000\",\"1963-03-01T00:00:00.000000000\",\"1963-04-01T00:00:00.000000000\",\"1963-05-01T00:00:00.000000000\",\"1963-06-01T00:00:00.000000000\",\"1963-07-01T00:00:00.000000000\",\"1963-08-01T00:00:00.000000000\",\"1963-09-01T00:00:00.000000000\",\"1963-10-01T00:00:00.000000000\",\"1963-11-01T00:00:00.000000000\",\"1963-12-01T00:00:00.000000000\",\"1964-01-01T00:00:00.000000000\",\"1964-02-01T00:00:00.000000000\",\"1964-03-01T00:00:00.000000000\",\"1964-04-01T00:00:00.000000000\",\"1964-05-01T00:00:00.000000000\",\"1964-06-01T00:00:00.000000000\",\"1964-07-01T00:00:00.000000000\",\"1964-08-01T00:00:00.000000000\",\"1964-09-01T00:00:00.000000000\",\"1964-10-01T00:00:00.000000000\",\"1964-11-01T00:00:00.000000000\",\"1964-12-01T00:00:00.000000000\",\"1965-01-01T00:00:00.000000000\",\"1965-02-01T00:00:00.000000000\",\"1965-03-01T00:00:00.000000000\",\"1965-04-01T00:00:00.000000000\",\"1965-05-01T00:00:00.000000000\",\"1965-06-01T00:00:00.000000000\",\"1965-07-01T00:00:00.000000000\",\"1965-08-01T00:00:00.000000000\",\"1965-09-01T00:00:00.000000000\",\"1965-10-01T00:00:00.000000000\",\"1965-11-01T00:00:00.000000000\",\"1965-12-01T00:00:00.000000000\",\"1966-01-01T00:00:00.000000000\",\"1966-02-01T00:00:00.000000000\",\"1966-03-01T00:00:00.000000000\",\"1966-04-01T00:00:00.000000000\",\"1966-05-01T00:00:00.000000000\",\"1966-06-01T00:00:00.000000000\",\"1966-07-01T00:00:00.000000000\",\"1966-08-01T00:00:00.000000000\",\"1966-09-01T00:00:00.000000000\",\"1966-10-01T00:00:00.000000000\",\"1966-11-01T00:00:00.000000000\",\"1966-12-01T00:00:00.000000000\",\"1967-01-01T00:00:00.000000000\",\"1967-02-01T00:00:00.000000000\",\"1967-03-01T00:00:00.000000000\",\"1967-04-01T00:00:00.000000000\",\"1967-05-01T00:00:00.000000000\",\"1967-06-01T00:00:00.000000000\",\"1967-07-01T00:00:00.000000000\",\"1967-08-01T00:00:00.000000000\",\"1967-09-01T00:00:00.000000000\",\"1967-10-01T00:00:00.000000000\",\"1967-11-01T00:00:00.000000000\",\"1967-12-01T00:00:00.000000000\",\"1968-01-01T00:00:00.000000000\",\"1968-02-01T00:00:00.000000000\",\"1968-03-01T00:00:00.000000000\",\"1968-04-01T00:00:00.000000000\",\"1968-05-01T00:00:00.000000000\",\"1968-06-01T00:00:00.000000000\",\"1968-07-01T00:00:00.000000000\",\"1968-08-01T00:00:00.000000000\",\"1968-09-01T00:00:00.000000000\",\"1968-10-01T00:00:00.000000000\",\"1968-11-01T00:00:00.000000000\",\"1968-12-01T00:00:00.000000000\",\"1969-01-01T00:00:00.000000000\",\"1969-02-01T00:00:00.000000000\",\"1969-03-01T00:00:00.000000000\",\"1969-04-01T00:00:00.000000000\",\"1969-05-01T00:00:00.000000000\",\"1969-06-01T00:00:00.000000000\",\"1969-07-01T00:00:00.000000000\",\"1969-08-01T00:00:00.000000000\",\"1969-09-01T00:00:00.000000000\",\"1969-10-01T00:00:00.000000000\",\"1969-11-01T00:00:00.000000000\",\"1969-12-01T00:00:00.000000000\",\"1970-01-01T00:00:00.000000000\",\"1970-02-01T00:00:00.000000000\",\"1970-03-01T00:00:00.000000000\",\"1970-04-01T00:00:00.000000000\",\"1970-05-01T00:00:00.000000000\",\"1970-06-01T00:00:00.000000000\",\"1970-07-01T00:00:00.000000000\",\"1970-08-01T00:00:00.000000000\",\"1970-09-01T00:00:00.000000000\",\"1970-10-01T00:00:00.000000000\",\"1970-11-01T00:00:00.000000000\",\"1970-12-01T00:00:00.000000000\",\"1971-01-01T00:00:00.000000000\",\"1971-02-01T00:00:00.000000000\",\"1971-03-01T00:00:00.000000000\",\"1971-04-01T00:00:00.000000000\",\"1971-05-01T00:00:00.000000000\",\"1971-06-01T00:00:00.000000000\",\"1971-07-01T00:00:00.000000000\",\"1971-08-01T00:00:00.000000000\",\"1971-09-01T00:00:00.000000000\",\"1971-10-01T00:00:00.000000000\",\"1971-11-01T00:00:00.000000000\",\"1971-12-01T00:00:00.000000000\",\"1972-01-01T00:00:00.000000000\",\"1972-02-01T00:00:00.000000000\",\"1972-03-01T00:00:00.000000000\",\"1972-04-01T00:00:00.000000000\",\"1972-05-01T00:00:00.000000000\",\"1972-06-01T00:00:00.000000000\",\"1972-07-01T00:00:00.000000000\",\"1972-08-01T00:00:00.000000000\",\"1972-09-01T00:00:00.000000000\",\"1972-10-01T00:00:00.000000000\",\"1972-11-01T00:00:00.000000000\",\"1972-12-01T00:00:00.000000000\",\"1973-01-01T00:00:00.000000000\",\"1973-02-01T00:00:00.000000000\",\"1973-03-01T00:00:00.000000000\",\"1973-04-01T00:00:00.000000000\",\"1973-05-01T00:00:00.000000000\",\"1973-06-01T00:00:00.000000000\",\"1973-07-01T00:00:00.000000000\",\"1973-08-01T00:00:00.000000000\",\"1973-09-01T00:00:00.000000000\",\"1973-10-01T00:00:00.000000000\",\"1973-11-01T00:00:00.000000000\",\"1973-12-01T00:00:00.000000000\",\"1974-01-01T00:00:00.000000000\",\"1974-02-01T00:00:00.000000000\",\"1974-03-01T00:00:00.000000000\",\"1974-04-01T00:00:00.000000000\",\"1974-05-01T00:00:00.000000000\",\"1974-06-01T00:00:00.000000000\",\"1974-07-01T00:00:00.000000000\",\"1974-08-01T00:00:00.000000000\",\"1974-09-01T00:00:00.000000000\",\"1974-10-01T00:00:00.000000000\",\"1974-11-01T00:00:00.000000000\",\"1974-12-01T00:00:00.000000000\",\"1975-01-01T00:00:00.000000000\",\"1975-02-01T00:00:00.000000000\",\"1975-03-01T00:00:00.000000000\",\"1975-04-01T00:00:00.000000000\",\"1975-05-01T00:00:00.000000000\",\"1975-06-01T00:00:00.000000000\",\"1975-07-01T00:00:00.000000000\",\"1975-08-01T00:00:00.000000000\",\"1975-09-01T00:00:00.000000000\",\"1975-10-01T00:00:00.000000000\",\"1975-11-01T00:00:00.000000000\",\"1975-12-01T00:00:00.000000000\",\"1976-01-01T00:00:00.000000000\",\"1976-02-01T00:00:00.000000000\",\"1976-03-01T00:00:00.000000000\",\"1976-04-01T00:00:00.000000000\",\"1976-05-01T00:00:00.000000000\",\"1976-06-01T00:00:00.000000000\",\"1976-07-01T00:00:00.000000000\",\"1976-08-01T00:00:00.000000000\",\"1976-09-01T00:00:00.000000000\",\"1976-10-01T00:00:00.000000000\",\"1976-11-01T00:00:00.000000000\",\"1976-12-01T00:00:00.000000000\",\"1977-01-01T00:00:00.000000000\",\"1977-02-01T00:00:00.000000000\",\"1977-03-01T00:00:00.000000000\",\"1977-04-01T00:00:00.000000000\",\"1977-05-01T00:00:00.000000000\",\"1977-06-01T00:00:00.000000000\",\"1977-07-01T00:00:00.000000000\",\"1977-08-01T00:00:00.000000000\",\"1977-09-01T00:00:00.000000000\",\"1977-10-01T00:00:00.000000000\",\"1977-11-01T00:00:00.000000000\",\"1977-12-01T00:00:00.000000000\",\"1978-01-01T00:00:00.000000000\",\"1978-02-01T00:00:00.000000000\",\"1978-03-01T00:00:00.000000000\",\"1978-04-01T00:00:00.000000000\",\"1978-05-01T00:00:00.000000000\",\"1978-06-01T00:00:00.000000000\",\"1978-07-01T00:00:00.000000000\",\"1978-08-01T00:00:00.000000000\",\"1978-09-01T00:00:00.000000000\",\"1978-10-01T00:00:00.000000000\",\"1978-11-01T00:00:00.000000000\",\"1978-12-01T00:00:00.000000000\",\"1979-01-01T00:00:00.000000000\",\"1979-02-01T00:00:00.000000000\",\"1979-03-01T00:00:00.000000000\",\"1979-04-01T00:00:00.000000000\",\"1979-05-01T00:00:00.000000000\",\"1979-06-01T00:00:00.000000000\",\"1979-07-01T00:00:00.000000000\",\"1979-08-01T00:00:00.000000000\",\"1979-09-01T00:00:00.000000000\",\"1979-10-01T00:00:00.000000000\",\"1979-11-01T00:00:00.000000000\",\"1979-12-01T00:00:00.000000000\",\"1980-01-01T00:00:00.000000000\",\"1980-02-01T00:00:00.000000000\",\"1980-03-01T00:00:00.000000000\",\"1980-04-01T00:00:00.000000000\",\"1980-05-01T00:00:00.000000000\",\"1980-06-01T00:00:00.000000000\",\"1980-07-01T00:00:00.000000000\",\"1980-08-01T00:00:00.000000000\",\"1980-09-01T00:00:00.000000000\",\"1980-10-01T00:00:00.000000000\",\"1980-11-01T00:00:00.000000000\",\"1980-12-01T00:00:00.000000000\",\"1981-01-01T00:00:00.000000000\",\"1981-02-01T00:00:00.000000000\",\"1981-03-01T00:00:00.000000000\",\"1981-04-01T00:00:00.000000000\",\"1981-05-01T00:00:00.000000000\",\"1981-06-01T00:00:00.000000000\",\"1981-07-01T00:00:00.000000000\",\"1981-08-01T00:00:00.000000000\",\"1981-09-01T00:00:00.000000000\",\"1981-10-01T00:00:00.000000000\",\"1981-11-01T00:00:00.000000000\",\"1981-12-01T00:00:00.000000000\",\"1982-01-01T00:00:00.000000000\",\"1982-02-01T00:00:00.000000000\",\"1982-03-01T00:00:00.000000000\",\"1982-04-01T00:00:00.000000000\",\"1982-05-01T00:00:00.000000000\",\"1982-06-01T00:00:00.000000000\",\"1982-07-01T00:00:00.000000000\",\"1982-08-01T00:00:00.000000000\",\"1982-09-01T00:00:00.000000000\",\"1982-10-01T00:00:00.000000000\",\"1982-11-01T00:00:00.000000000\",\"1982-12-01T00:00:00.000000000\",\"1983-01-01T00:00:00.000000000\",\"1983-02-01T00:00:00.000000000\",\"1983-03-01T00:00:00.000000000\",\"1983-04-01T00:00:00.000000000\",\"1983-05-01T00:00:00.000000000\",\"1983-06-01T00:00:00.000000000\",\"1983-07-01T00:00:00.000000000\",\"1983-08-01T00:00:00.000000000\",\"1983-09-01T00:00:00.000000000\",\"1983-10-01T00:00:00.000000000\",\"1983-11-01T00:00:00.000000000\",\"1983-12-01T00:00:00.000000000\",\"1984-01-01T00:00:00.000000000\",\"1984-02-01T00:00:00.000000000\",\"1984-03-01T00:00:00.000000000\",\"1984-04-01T00:00:00.000000000\",\"1984-05-01T00:00:00.000000000\",\"1984-06-01T00:00:00.000000000\",\"1984-07-01T00:00:00.000000000\",\"1984-08-01T00:00:00.000000000\",\"1984-09-01T00:00:00.000000000\",\"1984-10-01T00:00:00.000000000\",\"1984-11-01T00:00:00.000000000\",\"1984-12-01T00:00:00.000000000\",\"1985-01-01T00:00:00.000000000\",\"1985-02-01T00:00:00.000000000\",\"1985-03-01T00:00:00.000000000\",\"1985-04-01T00:00:00.000000000\",\"1985-05-01T00:00:00.000000000\",\"1985-06-01T00:00:00.000000000\",\"1985-07-01T00:00:00.000000000\",\"1985-08-01T00:00:00.000000000\",\"1985-09-01T00:00:00.000000000\",\"1985-10-01T00:00:00.000000000\",\"1985-11-01T00:00:00.000000000\",\"1985-12-01T00:00:00.000000000\",\"1986-01-01T00:00:00.000000000\",\"1986-02-01T00:00:00.000000000\",\"1986-03-01T00:00:00.000000000\",\"1986-04-01T00:00:00.000000000\",\"1986-05-01T00:00:00.000000000\",\"1986-06-01T00:00:00.000000000\",\"1986-07-01T00:00:00.000000000\",\"1986-08-01T00:00:00.000000000\",\"1986-09-01T00:00:00.000000000\",\"1986-10-01T00:00:00.000000000\",\"1986-11-01T00:00:00.000000000\",\"1986-12-01T00:00:00.000000000\",\"1987-01-01T00:00:00.000000000\",\"1987-02-01T00:00:00.000000000\",\"1987-03-01T00:00:00.000000000\",\"1987-04-01T00:00:00.000000000\",\"1987-05-01T00:00:00.000000000\",\"1987-06-01T00:00:00.000000000\",\"1987-07-01T00:00:00.000000000\",\"1987-08-01T00:00:00.000000000\",\"1987-09-01T00:00:00.000000000\",\"1987-10-01T00:00:00.000000000\",\"1987-11-01T00:00:00.000000000\",\"1987-12-01T00:00:00.000000000\",\"1988-01-01T00:00:00.000000000\",\"1988-02-01T00:00:00.000000000\",\"1988-03-01T00:00:00.000000000\",\"1988-04-01T00:00:00.000000000\",\"1988-05-01T00:00:00.000000000\",\"1988-06-01T00:00:00.000000000\",\"1988-07-01T00:00:00.000000000\",\"1988-08-01T00:00:00.000000000\",\"1988-09-01T00:00:00.000000000\",\"1988-10-01T00:00:00.000000000\",\"1988-11-01T00:00:00.000000000\",\"1988-12-01T00:00:00.000000000\",\"1989-01-01T00:00:00.000000000\",\"1989-02-01T00:00:00.000000000\",\"1989-03-01T00:00:00.000000000\",\"1989-04-01T00:00:00.000000000\",\"1989-05-01T00:00:00.000000000\",\"1989-06-01T00:00:00.000000000\",\"1989-07-01T00:00:00.000000000\",\"1989-08-01T00:00:00.000000000\",\"1989-09-01T00:00:00.000000000\",\"1989-10-01T00:00:00.000000000\",\"1989-11-01T00:00:00.000000000\",\"1989-12-01T00:00:00.000000000\",\"1990-01-01T00:00:00.000000000\",\"1990-02-01T00:00:00.000000000\",\"1990-03-01T00:00:00.000000000\",\"1990-04-01T00:00:00.000000000\",\"1990-05-01T00:00:00.000000000\",\"1990-06-01T00:00:00.000000000\",\"1990-07-01T00:00:00.000000000\",\"1990-08-01T00:00:00.000000000\",\"1990-09-01T00:00:00.000000000\",\"1990-10-01T00:00:00.000000000\",\"1990-11-01T00:00:00.000000000\",\"1990-12-01T00:00:00.000000000\",\"1991-01-01T00:00:00.000000000\",\"1991-02-01T00:00:00.000000000\",\"1991-03-01T00:00:00.000000000\",\"1991-04-01T00:00:00.000000000\",\"1991-05-01T00:00:00.000000000\",\"1991-06-01T00:00:00.000000000\",\"1991-07-01T00:00:00.000000000\",\"1991-08-01T00:00:00.000000000\",\"1991-09-01T00:00:00.000000000\",\"1991-10-01T00:00:00.000000000\",\"1991-11-01T00:00:00.000000000\",\"1991-12-01T00:00:00.000000000\",\"1992-01-01T00:00:00.000000000\",\"1992-02-01T00:00:00.000000000\",\"1992-03-01T00:00:00.000000000\",\"1992-04-01T00:00:00.000000000\",\"1992-05-01T00:00:00.000000000\",\"1992-06-01T00:00:00.000000000\",\"1992-07-01T00:00:00.000000000\",\"1992-08-01T00:00:00.000000000\",\"1992-09-01T00:00:00.000000000\",\"1992-10-01T00:00:00.000000000\",\"1992-11-01T00:00:00.000000000\",\"1992-12-01T00:00:00.000000000\",\"1993-01-01T00:00:00.000000000\",\"1993-02-01T00:00:00.000000000\",\"1993-03-01T00:00:00.000000000\",\"1993-04-01T00:00:00.000000000\",\"1993-05-01T00:00:00.000000000\",\"1993-06-01T00:00:00.000000000\",\"1993-07-01T00:00:00.000000000\",\"1993-08-01T00:00:00.000000000\",\"1993-09-01T00:00:00.000000000\",\"1993-10-01T00:00:00.000000000\",\"1993-11-01T00:00:00.000000000\",\"1993-12-01T00:00:00.000000000\",\"1994-01-01T00:00:00.000000000\",\"1994-02-01T00:00:00.000000000\",\"1994-03-01T00:00:00.000000000\",\"1994-04-01T00:00:00.000000000\",\"1994-05-01T00:00:00.000000000\",\"1994-06-01T00:00:00.000000000\",\"1994-07-01T00:00:00.000000000\",\"1994-08-01T00:00:00.000000000\",\"1994-09-01T00:00:00.000000000\",\"1994-10-01T00:00:00.000000000\",\"1994-11-01T00:00:00.000000000\",\"1994-12-01T00:00:00.000000000\",\"1995-01-01T00:00:00.000000000\",\"1995-02-01T00:00:00.000000000\",\"1995-03-01T00:00:00.000000000\",\"1995-04-01T00:00:00.000000000\",\"1995-05-01T00:00:00.000000000\",\"1995-06-01T00:00:00.000000000\",\"1995-07-01T00:00:00.000000000\",\"1995-08-01T00:00:00.000000000\",\"1995-09-01T00:00:00.000000000\",\"1995-10-01T00:00:00.000000000\",\"1995-11-01T00:00:00.000000000\",\"1995-12-01T00:00:00.000000000\",\"1996-01-01T00:00:00.000000000\",\"1996-02-01T00:00:00.000000000\",\"1996-03-01T00:00:00.000000000\",\"1996-04-01T00:00:00.000000000\",\"1996-05-01T00:00:00.000000000\",\"1996-06-01T00:00:00.000000000\",\"1996-07-01T00:00:00.000000000\",\"1996-08-01T00:00:00.000000000\",\"1996-09-01T00:00:00.000000000\",\"1996-10-01T00:00:00.000000000\",\"1996-11-01T00:00:00.000000000\",\"1996-12-01T00:00:00.000000000\",\"1997-01-01T00:00:00.000000000\",\"1997-02-01T00:00:00.000000000\",\"1997-03-01T00:00:00.000000000\",\"1997-04-01T00:00:00.000000000\",\"1997-05-01T00:00:00.000000000\",\"1997-06-01T00:00:00.000000000\",\"1997-07-01T00:00:00.000000000\",\"1997-08-01T00:00:00.000000000\",\"1997-09-01T00:00:00.000000000\",\"1997-10-01T00:00:00.000000000\",\"1997-11-01T00:00:00.000000000\",\"1997-12-01T00:00:00.000000000\",\"1998-01-01T00:00:00.000000000\",\"1998-02-01T00:00:00.000000000\",\"1998-03-01T00:00:00.000000000\",\"1998-04-01T00:00:00.000000000\",\"1998-05-01T00:00:00.000000000\",\"1998-06-01T00:00:00.000000000\",\"1998-07-01T00:00:00.000000000\",\"1998-08-01T00:00:00.000000000\",\"1998-09-01T00:00:00.000000000\",\"1998-10-01T00:00:00.000000000\",\"1998-11-01T00:00:00.000000000\",\"1998-12-01T00:00:00.000000000\",\"1999-01-01T00:00:00.000000000\",\"1999-02-01T00:00:00.000000000\",\"1999-03-01T00:00:00.000000000\",\"1999-04-01T00:00:00.000000000\",\"1999-05-01T00:00:00.000000000\",\"1999-06-01T00:00:00.000000000\",\"1999-07-01T00:00:00.000000000\",\"1999-08-01T00:00:00.000000000\",\"1999-09-01T00:00:00.000000000\",\"1999-10-01T00:00:00.000000000\",\"1999-11-01T00:00:00.000000000\",\"1999-12-01T00:00:00.000000000\",\"2000-01-01T00:00:00.000000000\",\"2000-02-01T00:00:00.000000000\",\"2000-03-01T00:00:00.000000000\",\"2000-04-01T00:00:00.000000000\",\"2000-05-01T00:00:00.000000000\",\"2000-06-01T00:00:00.000000000\",\"2000-07-01T00:00:00.000000000\",\"2000-08-01T00:00:00.000000000\",\"2000-09-01T00:00:00.000000000\",\"2000-10-01T00:00:00.000000000\",\"2000-11-01T00:00:00.000000000\",\"2000-12-01T00:00:00.000000000\",\"2001-01-01T00:00:00.000000000\",\"2001-02-01T00:00:00.000000000\",\"2001-03-01T00:00:00.000000000\",\"2001-04-01T00:00:00.000000000\",\"2001-05-01T00:00:00.000000000\",\"2001-06-01T00:00:00.000000000\",\"2001-07-01T00:00:00.000000000\",\"2001-08-01T00:00:00.000000000\",\"2001-09-01T00:00:00.000000000\",\"2001-10-01T00:00:00.000000000\",\"2001-11-01T00:00:00.000000000\",\"2001-12-01T00:00:00.000000000\",\"2002-01-01T00:00:00.000000000\",\"2002-02-01T00:00:00.000000000\",\"2002-03-01T00:00:00.000000000\",\"2002-04-01T00:00:00.000000000\",\"2002-05-01T00:00:00.000000000\",\"2002-06-01T00:00:00.000000000\",\"2002-07-01T00:00:00.000000000\",\"2002-08-01T00:00:00.000000000\",\"2002-09-01T00:00:00.000000000\",\"2002-10-01T00:00:00.000000000\",\"2002-11-01T00:00:00.000000000\",\"2002-12-01T00:00:00.000000000\",\"2003-01-01T00:00:00.000000000\",\"2003-02-01T00:00:00.000000000\",\"2003-03-01T00:00:00.000000000\",\"2003-04-01T00:00:00.000000000\",\"2003-05-01T00:00:00.000000000\",\"2003-06-01T00:00:00.000000000\",\"2003-07-01T00:00:00.000000000\",\"2003-08-01T00:00:00.000000000\",\"2003-09-01T00:00:00.000000000\",\"2003-10-01T00:00:00.000000000\",\"2003-11-01T00:00:00.000000000\",\"2003-12-01T00:00:00.000000000\",\"2004-01-01T00:00:00.000000000\",\"2004-02-01T00:00:00.000000000\",\"2004-03-01T00:00:00.000000000\",\"2004-04-01T00:00:00.000000000\",\"2004-05-01T00:00:00.000000000\",\"2004-06-01T00:00:00.000000000\",\"2004-07-01T00:00:00.000000000\",\"2004-08-01T00:00:00.000000000\",\"2004-09-01T00:00:00.000000000\",\"2004-10-01T00:00:00.000000000\",\"2004-11-01T00:00:00.000000000\",\"2004-12-01T00:00:00.000000000\",\"2005-01-01T00:00:00.000000000\",\"2005-02-01T00:00:00.000000000\",\"2005-03-01T00:00:00.000000000\",\"2005-04-01T00:00:00.000000000\",\"2005-05-01T00:00:00.000000000\",\"2005-06-01T00:00:00.000000000\",\"2005-07-01T00:00:00.000000000\",\"2005-08-01T00:00:00.000000000\",\"2005-09-01T00:00:00.000000000\",\"2005-10-01T00:00:00.000000000\",\"2005-11-01T00:00:00.000000000\",\"2005-12-01T00:00:00.000000000\",\"2006-01-01T00:00:00.000000000\",\"2006-02-01T00:00:00.000000000\",\"2006-03-01T00:00:00.000000000\",\"2006-04-01T00:00:00.000000000\",\"2006-05-01T00:00:00.000000000\",\"2006-06-01T00:00:00.000000000\",\"2006-07-01T00:00:00.000000000\",\"2006-08-01T00:00:00.000000000\",\"2006-09-01T00:00:00.000000000\",\"2006-10-01T00:00:00.000000000\",\"2006-11-01T00:00:00.000000000\",\"2006-12-01T00:00:00.000000000\",\"2007-01-01T00:00:00.000000000\",\"2007-02-01T00:00:00.000000000\",\"2007-03-01T00:00:00.000000000\",\"2007-04-01T00:00:00.000000000\",\"2007-05-01T00:00:00.000000000\",\"2007-06-01T00:00:00.000000000\",\"2007-07-01T00:00:00.000000000\",\"2007-08-01T00:00:00.000000000\",\"2007-09-01T00:00:00.000000000\",\"2007-10-01T00:00:00.000000000\",\"2007-11-01T00:00:00.000000000\",\"2007-12-01T00:00:00.000000000\",\"2008-01-01T00:00:00.000000000\",\"2008-02-01T00:00:00.000000000\",\"2008-03-01T00:00:00.000000000\",\"2008-04-01T00:00:00.000000000\",\"2008-05-01T00:00:00.000000000\",\"2008-06-01T00:00:00.000000000\",\"2008-07-01T00:00:00.000000000\",\"2008-08-01T00:00:00.000000000\",\"2008-09-01T00:00:00.000000000\",\"2008-10-01T00:00:00.000000000\",\"2008-11-01T00:00:00.000000000\",\"2008-12-01T00:00:00.000000000\",\"2009-01-01T00:00:00.000000000\",\"2009-02-01T00:00:00.000000000\",\"2009-03-01T00:00:00.000000000\",\"2009-04-01T00:00:00.000000000\",\"2009-05-01T00:00:00.000000000\",\"2009-06-01T00:00:00.000000000\",\"2009-07-01T00:00:00.000000000\",\"2009-08-01T00:00:00.000000000\",\"2009-09-01T00:00:00.000000000\",\"2009-10-01T00:00:00.000000000\",\"2009-11-01T00:00:00.000000000\",\"2009-12-01T00:00:00.000000000\",\"2010-01-01T00:00:00.000000000\",\"2010-02-01T00:00:00.000000000\",\"2010-03-01T00:00:00.000000000\",\"2010-04-01T00:00:00.000000000\",\"2010-05-01T00:00:00.000000000\",\"2010-06-01T00:00:00.000000000\",\"2010-07-01T00:00:00.000000000\",\"2010-08-01T00:00:00.000000000\",\"2010-09-01T00:00:00.000000000\",\"2010-10-01T00:00:00.000000000\",\"2010-11-01T00:00:00.000000000\",\"2010-12-01T00:00:00.000000000\",\"2011-01-01T00:00:00.000000000\",\"2011-02-01T00:00:00.000000000\",\"2011-03-01T00:00:00.000000000\",\"2011-04-01T00:00:00.000000000\",\"2011-05-01T00:00:00.000000000\",\"2011-06-01T00:00:00.000000000\",\"2011-07-01T00:00:00.000000000\",\"2011-08-01T00:00:00.000000000\",\"2011-09-01T00:00:00.000000000\",\"2011-10-01T00:00:00.000000000\",\"2011-11-01T00:00:00.000000000\",\"2011-12-01T00:00:00.000000000\",\"2012-01-01T00:00:00.000000000\",\"2012-02-01T00:00:00.000000000\",\"2012-03-01T00:00:00.000000000\",\"2012-04-01T00:00:00.000000000\",\"2012-05-01T00:00:00.000000000\",\"2012-06-01T00:00:00.000000000\",\"2012-07-01T00:00:00.000000000\",\"2012-08-01T00:00:00.000000000\",\"2012-09-01T00:00:00.000000000\",\"2012-10-01T00:00:00.000000000\",\"2012-11-01T00:00:00.000000000\",\"2012-12-01T00:00:00.000000000\",\"2013-01-01T00:00:00.000000000\",\"2013-02-01T00:00:00.000000000\",\"2013-03-01T00:00:00.000000000\",\"2013-04-01T00:00:00.000000000\",\"2013-05-01T00:00:00.000000000\",\"2013-06-01T00:00:00.000000000\",\"2013-07-01T00:00:00.000000000\",\"2013-08-01T00:00:00.000000000\",\"2013-09-01T00:00:00.000000000\",\"2013-10-01T00:00:00.000000000\",\"2013-11-01T00:00:00.000000000\",\"2013-12-01T00:00:00.000000000\",\"2014-01-01T00:00:00.000000000\",\"2014-02-01T00:00:00.000000000\",\"2014-03-01T00:00:00.000000000\",\"2014-04-01T00:00:00.000000000\",\"2014-05-01T00:00:00.000000000\",\"2014-06-01T00:00:00.000000000\",\"2014-07-01T00:00:00.000000000\",\"2014-08-01T00:00:00.000000000\",\"2014-09-01T00:00:00.000000000\",\"2014-10-01T00:00:00.000000000\",\"2014-11-01T00:00:00.000000000\",\"2014-12-01T00:00:00.000000000\",\"2015-01-01T00:00:00.000000000\",\"2015-02-01T00:00:00.000000000\",\"2015-03-01T00:00:00.000000000\",\"2015-04-01T00:00:00.000000000\",\"2015-05-01T00:00:00.000000000\",\"2015-06-01T00:00:00.000000000\",\"2015-07-01T00:00:00.000000000\",\"2015-08-01T00:00:00.000000000\",\"2015-09-01T00:00:00.000000000\",\"2015-10-01T00:00:00.000000000\",\"2015-11-01T00:00:00.000000000\",\"2015-12-01T00:00:00.000000000\",\"2016-01-01T00:00:00.000000000\",\"2016-02-01T00:00:00.000000000\",\"2016-03-01T00:00:00.000000000\",\"2016-04-01T00:00:00.000000000\",\"2016-05-01T00:00:00.000000000\",\"2016-06-01T00:00:00.000000000\",\"2016-07-01T00:00:00.000000000\",\"2016-08-01T00:00:00.000000000\",\"2016-09-01T00:00:00.000000000\",\"2016-10-01T00:00:00.000000000\",\"2016-11-01T00:00:00.000000000\",\"2016-12-01T00:00:00.000000000\",\"2017-01-01T00:00:00.000000000\",\"2017-02-01T00:00:00.000000000\",\"2017-03-01T00:00:00.000000000\",\"2017-04-01T00:00:00.000000000\",\"2017-05-01T00:00:00.000000000\",\"2017-06-01T00:00:00.000000000\",\"2017-07-01T00:00:00.000000000\",\"2017-08-01T00:00:00.000000000\",\"2017-09-01T00:00:00.000000000\",\"2017-10-01T00:00:00.000000000\",\"2017-11-01T00:00:00.000000000\",\"2017-12-01T00:00:00.000000000\",\"2018-01-01T00:00:00.000000000\",\"2018-02-01T00:00:00.000000000\",\"2018-03-01T00:00:00.000000000\",\"2018-04-01T00:00:00.000000000\",\"2018-05-01T00:00:00.000000000\",\"2018-06-01T00:00:00.000000000\",\"2018-07-01T00:00:00.000000000\",\"2018-08-01T00:00:00.000000000\",\"2018-09-01T00:00:00.000000000\",\"2018-10-01T00:00:00.000000000\",\"2018-11-01T00:00:00.000000000\",\"2018-12-01T00:00:00.000000000\",\"2019-01-01T00:00:00.000000000\",\"2019-02-01T00:00:00.000000000\",\"2019-03-01T00:00:00.000000000\",\"2019-04-01T00:00:00.000000000\",\"2019-05-01T00:00:00.000000000\",\"2019-06-01T00:00:00.000000000\",\"2019-07-01T00:00:00.000000000\",\"2019-08-01T00:00:00.000000000\",\"2019-09-01T00:00:00.000000000\",\"2019-10-01T00:00:00.000000000\",\"2019-11-01T00:00:00.000000000\",\"2019-12-01T00:00:00.000000000\",\"2020-01-01T00:00:00.000000000\",\"2020-02-01T00:00:00.000000000\",\"2020-03-01T00:00:00.000000000\",\"2020-04-01T00:00:00.000000000\",\"2020-05-01T00:00:00.000000000\",\"2020-06-01T00:00:00.000000000\",\"2020-07-01T00:00:00.000000000\",\"2020-08-01T00:00:00.000000000\",\"2020-09-01T00:00:00.000000000\",\"2020-10-01T00:00:00.000000000\",\"2020-11-01T00:00:00.000000000\",\"2020-12-01T00:00:00.000000000\",\"2021-01-01T00:00:00.000000000\",\"2021-02-01T00:00:00.000000000\",\"2021-03-01T00:00:00.000000000\",\"2021-04-01T00:00:00.000000000\",\"2021-05-01T00:00:00.000000000\",\"2021-06-01T00:00:00.000000000\",\"2021-07-01T00:00:00.000000000\",\"2021-08-01T00:00:00.000000000\",\"2021-09-01T00:00:00.000000000\",\"2021-10-01T00:00:00.000000000\",\"2021-11-01T00:00:00.000000000\",\"2021-12-01T00:00:00.000000000\",\"2022-01-01T00:00:00.000000000\",\"2022-02-01T00:00:00.000000000\",\"2022-03-01T00:00:00.000000000\",\"2022-04-01T00:00:00.000000000\",\"2022-05-01T00:00:00.000000000\",\"2022-06-01T00:00:00.000000000\",\"2022-07-01T00:00:00.000000000\",\"2022-08-01T00:00:00.000000000\",\"2022-09-01T00:00:00.000000000\",\"2022-10-01T00:00:00.000000000\",\"2022-11-01T00:00:00.000000000\",\"2022-12-01T00:00:00.000000000\"],\"y\":[null,null,null,null,null,null,null,null,null,null,null,null,null,null,null,null,null,null,null,null,null,null,null,null,null,null,null,null,null,null,null,null,null,null,null,null,null,null,null,null,null,null,null,null,null,null,null,null,null,null,null,null,null,null,null,null,null,null,null,null,null,null,null,null,null,null,null,null,null,null,null,null,null,null,null,null,null,null,null,null,null,null,null,null,null,null,null,null,null,null,null,null,null,null,null,null,null,null,null,null,null,null,null,null,null,null,null,null,null,null,null,null,null,null,null,null,null,null,null,null,null,null,null,null,null,null,null,null,null,null,null,null,null,null,null,null,null,null,null,null,null,null,null,null,null,null,null,null,null,null,null,null,null,null,null,null,null,null,null,null,null,null,null,null,null,null,null,null,null,null,null,null,null,null,null,null,null,null,null,null,null,null,null,null,null,null,null,null,null,null,null,null,null,null,null,null,null,null,null,null,null,null,null,null,null,null,null,null,null,null,null,null,null,null,null,null,null,null,null,null,null,null,null,null,null,null,null,null,null,null,null,null,null,null,null,null,null,null,null,null,34.5,34.5,34.6,34.6,34.7,34.8,35.0,35.3,35.5,35.6,35.8,35.9,36.1,36.1,36.4,36.5,36.6,36.9,37.0,37.1,37.3,37.4,37.6,37.7,37.8,37.9,38.0,38.1,38.2,38.5,38.8,39.1,39.3,39.4,39.7,39.8,39.9,40.0,40.2,40.5,40.7,40.9,41.2,41.4,41.5,41.6,41.8,41.9,42.2,42.2,42.3,42.4,42.6,42.7,43.0,43.2,43.5,43.5,43.6,43.7,43.9,44.1,44.3,44.4,44.6,44.8,44.8,44.9,45.0,45.1,45.2,45.3,45.3,45.5,45.8,46.1,46.2,46.4,46.6,46.7,46.9,47.1,47.3,47.5,47.6,47.9,48.2,48.4,48.9,49.5,50.0,50.5,50.9,51.4,51.8,52.3,52.7,53.0,53.3,53.5,53.7,53.8,54.1,54.2,54.3,54.6,54.8,55.3,55.6,56.1,56.2,56.5,56.7,56.9,57.1,57.3,57.5,57.8,58.2,58.5,58.9,59.1,59.3,59.6,59.8,60.2,60.5,60.6,60.9,61.5,62.0,62.2,62.5,62.7,62.9,63.2,63.6,63.9,64.7,65.1,65.5,65.7,66.0,66.2,66.7,67.2,67.7,68.0,68.4,68.7,69.1,69.8,70.2,70.4,70.8,71.3,72.2,72.9,73.4,73.8,74.5,75.1,75.6,76.0,76.8,77.1,77.7,78.6,79.2,79.7,80.3,80.9,81.9,82.5,83.0,83.5,84.5,85.3,85.7,86.3,86.9,87.7,88.6,89.3,89.9,90.4,91.1,91.6,92.8,94.3,95.5,96.7,97.9,98.7,99.0,99.7,100.0,100.6,101.8,102.5,102.5,103.3,104.0,104.4,105.2,105.7,106.2,106.6,106.9,107.6,108.5,108.9,109.6,110.0,110.4,110.8,111.7,112.4,112.8,113.2,113.7,114.1,115.0,115.4,116.2,116.6,117.1,117.8,118.8,119.3,119.8,120.2,120.6,120.9,121.9,122.5,123.3,123.6,123.9,124.3,125.2,125.8,126.3,126.9,127.5,128.0,128.7,128.9,130.0,130.7,131.4,132.1,132.8,133.8,134.6,135.2,135.9,136.5,137.3,138.3,138.7,139.6,140.4,141.1,142.8,143.6,144.4,145.2,146.1,147.2,148.2,149.3,150.1,150.9,151.6,152.8,153.5,154.3,155.2,156.2,157.2,158.6,160.2,161.0,161.5,162.3,163.4,164.4,165.9,166.9,167.9,169.2,169.7,170.9,171.9,172.8,174.7,175.4,176.5,177.4,177.9,179.0,179.8,180.7,182.1,182.4,183.6,184.4,185.8,186.9,187.3,189.0,190.3,191.1,192.2,192.9,193.9,194.1,194.9,193.8,191.9,192.4,193.1,194.0,194.6,195.0,195.6,196.8,197.6,198.7,199.3,199.8,200.1,200.8,201.5,202.3,202.6,204.0,204.2,204.7,205.7,206.4,207.0,208.0,208.9,209.6,210.4,210.8,211.7,212.5,213.1,213.7,214.9,215.1,215.8,216.4,217.0,217.6,218.5,218.4,219.7,220.5,221.5,223.1,223.9,224.2,224.8,225.9,226.8,228.3,229.2,229.8,231.3,233.1,232.4,234.7,236.7,236.4,237.8,238.0,240.4,241.3,240.5,250.3,255.5,254.9,253.1,255.9,255.6,255.7,258.3,257.7,262.7,263.2,263.0,263.3,264.8,266.7,267.8,271.7,270.0,269.5,272.3,271.7,274.8,273.0,276.3,274.5,276.0,277.2,277.4,281.1,279.9,281.1,285.9,283.4,287.9,285.6,289.3,286.8,287.5,290.1,288.2,292.5,291.3,294.4,294.5,296.1,297.2,295.4,295.7,296.0,296.7,297.4,297.1,297.7,297.8,298.0,299.1,299.8,300.2,300.3,300.2,300.6,301.7,302.0,302.7,303.2,303.4,303.8,305.1,305.9,306.5,306.9,307.4,308.2,309.6,310.5,310.9,311.2,312.1,312.2,314.0,314.9,315.2,315.4,316.5,317.6,318.4,318.9,319.7,319.6,319.9,321.3,321.4,322.2,323.6,324.3,324.6,326.9,329.324,330.358,330.746,331.238,332.37,333.24,333.636,334.011,335.072,335.718,336.539,337.628,339.214,340.205,341.433,342.819,344.316,345.724,347.013,347.691,348.427,349.266,349.164,349.221,350.554,351.351,360.757,369.865,369.539,370.441,373.032,373.331,374.47,375.476,376.742,377.436,377.727,378.029,378.614,378.758,380.191,381.1,382.831,383.804,383.444,382.698,383.801,384.476,384.657,385.482,385.545,386.226,386.125,386.544,386.088,386.871,388.321,389.023,390.809,391.069,391.455,391.221,392.109,393.178,393.56,394.369,395.113,395.837,396.005,396.37,396.766,396.873,397.188,398.291,399.455,400.657,400.586,400.578,401.052,402.087,402.456,402.588,403.177,403.905,404.817,405.937,406.902,407.404,407.692,408.038,408.143,408.622,409.001,410.226,409.941,410.443,412.314,411.875,412.54,412.55,413.289,414.997,415.091,415.363,416.339,417.898,418.422,418.102,419.074,419.627,420.632,420.977,421.881,422.915,423.439,424.105,425.494,425.524,426.045,427.159,427.621,427.992,428.336,432.175,431.911,433.121,434.033,433.328,434.057,436.252,436.352,435.831,437.687,438.306,439.269,442.553,442.71,442.851,443.17,442.934,443.409,444.334,445.48,445.059,446.0,448.15,448.471,448.658,449.896,449.345,451.709,453.074,453.193,455.225,456.262,455.413,458.336,460.144,461.495,461.294,460.73,462.149,463.712,462.847,463.656,463.919,464.211,466.332,467.995,469.886,472.607,473.649,473.011,473.718,477.103,479.048,479.525,483.592,484.683,487.131,490.856,496.045,null,null,null,null,null,null,null,null,null,null],\"type\":\"scatter\"},{\"mode\":\"lines\",\"name\":\"Housing\",\"x\":[\"1947-01-01T00:00:00.000000000\",\"1947-02-01T00:00:00.000000000\",\"1947-03-01T00:00:00.000000000\",\"1947-04-01T00:00:00.000000000\",\"1947-05-01T00:00:00.000000000\",\"1947-06-01T00:00:00.000000000\",\"1947-07-01T00:00:00.000000000\",\"1947-08-01T00:00:00.000000000\",\"1947-09-01T00:00:00.000000000\",\"1947-10-01T00:00:00.000000000\",\"1947-11-01T00:00:00.000000000\",\"1947-12-01T00:00:00.000000000\",\"1948-01-01T00:00:00.000000000\",\"1948-02-01T00:00:00.000000000\",\"1948-03-01T00:00:00.000000000\",\"1948-04-01T00:00:00.000000000\",\"1948-05-01T00:00:00.000000000\",\"1948-06-01T00:00:00.000000000\",\"1948-07-01T00:00:00.000000000\",\"1948-08-01T00:00:00.000000000\",\"1948-09-01T00:00:00.000000000\",\"1948-10-01T00:00:00.000000000\",\"1948-11-01T00:00:00.000000000\",\"1948-12-01T00:00:00.000000000\",\"1949-01-01T00:00:00.000000000\",\"1949-02-01T00:00:00.000000000\",\"1949-03-01T00:00:00.000000000\",\"1949-04-01T00:00:00.000000000\",\"1949-05-01T00:00:00.000000000\",\"1949-06-01T00:00:00.000000000\",\"1949-07-01T00:00:00.000000000\",\"1949-08-01T00:00:00.000000000\",\"1949-09-01T00:00:00.000000000\",\"1949-10-01T00:00:00.000000000\",\"1949-11-01T00:00:00.000000000\",\"1949-12-01T00:00:00.000000000\",\"1950-01-01T00:00:00.000000000\",\"1950-02-01T00:00:00.000000000\",\"1950-03-01T00:00:00.000000000\",\"1950-04-01T00:00:00.000000000\",\"1950-05-01T00:00:00.000000000\",\"1950-06-01T00:00:00.000000000\",\"1950-07-01T00:00:00.000000000\",\"1950-08-01T00:00:00.000000000\",\"1950-09-01T00:00:00.000000000\",\"1950-10-01T00:00:00.000000000\",\"1950-11-01T00:00:00.000000000\",\"1950-12-01T00:00:00.000000000\",\"1951-01-01T00:00:00.000000000\",\"1951-02-01T00:00:00.000000000\",\"1951-03-01T00:00:00.000000000\",\"1951-04-01T00:00:00.000000000\",\"1951-05-01T00:00:00.000000000\",\"1951-06-01T00:00:00.000000000\",\"1951-07-01T00:00:00.000000000\",\"1951-08-01T00:00:00.000000000\",\"1951-09-01T00:00:00.000000000\",\"1951-10-01T00:00:00.000000000\",\"1951-11-01T00:00:00.000000000\",\"1951-12-01T00:00:00.000000000\",\"1952-01-01T00:00:00.000000000\",\"1952-02-01T00:00:00.000000000\",\"1952-03-01T00:00:00.000000000\",\"1952-04-01T00:00:00.000000000\",\"1952-05-01T00:00:00.000000000\",\"1952-06-01T00:00:00.000000000\",\"1952-07-01T00:00:00.000000000\",\"1952-08-01T00:00:00.000000000\",\"1952-09-01T00:00:00.000000000\",\"1952-10-01T00:00:00.000000000\",\"1952-11-01T00:00:00.000000000\",\"1952-12-01T00:00:00.000000000\",\"1953-01-01T00:00:00.000000000\",\"1953-02-01T00:00:00.000000000\",\"1953-03-01T00:00:00.000000000\",\"1953-04-01T00:00:00.000000000\",\"1953-05-01T00:00:00.000000000\",\"1953-06-01T00:00:00.000000000\",\"1953-07-01T00:00:00.000000000\",\"1953-08-01T00:00:00.000000000\",\"1953-09-01T00:00:00.000000000\",\"1953-10-01T00:00:00.000000000\",\"1953-11-01T00:00:00.000000000\",\"1953-12-01T00:00:00.000000000\",\"1954-01-01T00:00:00.000000000\",\"1954-02-01T00:00:00.000000000\",\"1954-03-01T00:00:00.000000000\",\"1954-04-01T00:00:00.000000000\",\"1954-05-01T00:00:00.000000000\",\"1954-06-01T00:00:00.000000000\",\"1954-07-01T00:00:00.000000000\",\"1954-08-01T00:00:00.000000000\",\"1954-09-01T00:00:00.000000000\",\"1954-10-01T00:00:00.000000000\",\"1954-11-01T00:00:00.000000000\",\"1954-12-01T00:00:00.000000000\",\"1955-01-01T00:00:00.000000000\",\"1955-02-01T00:00:00.000000000\",\"1955-03-01T00:00:00.000000000\",\"1955-04-01T00:00:00.000000000\",\"1955-05-01T00:00:00.000000000\",\"1955-06-01T00:00:00.000000000\",\"1955-07-01T00:00:00.000000000\",\"1955-08-01T00:00:00.000000000\",\"1955-09-01T00:00:00.000000000\",\"1955-10-01T00:00:00.000000000\",\"1955-11-01T00:00:00.000000000\",\"1955-12-01T00:00:00.000000000\",\"1956-01-01T00:00:00.000000000\",\"1956-02-01T00:00:00.000000000\",\"1956-03-01T00:00:00.000000000\",\"1956-04-01T00:00:00.000000000\",\"1956-05-01T00:00:00.000000000\",\"1956-06-01T00:00:00.000000000\",\"1956-07-01T00:00:00.000000000\",\"1956-08-01T00:00:00.000000000\",\"1956-09-01T00:00:00.000000000\",\"1956-10-01T00:00:00.000000000\",\"1956-11-01T00:00:00.000000000\",\"1956-12-01T00:00:00.000000000\",\"1957-01-01T00:00:00.000000000\",\"1957-02-01T00:00:00.000000000\",\"1957-03-01T00:00:00.000000000\",\"1957-04-01T00:00:00.000000000\",\"1957-05-01T00:00:00.000000000\",\"1957-06-01T00:00:00.000000000\",\"1957-07-01T00:00:00.000000000\",\"1957-08-01T00:00:00.000000000\",\"1957-09-01T00:00:00.000000000\",\"1957-10-01T00:00:00.000000000\",\"1957-11-01T00:00:00.000000000\",\"1957-12-01T00:00:00.000000000\",\"1958-01-01T00:00:00.000000000\",\"1958-02-01T00:00:00.000000000\",\"1958-03-01T00:00:00.000000000\",\"1958-04-01T00:00:00.000000000\",\"1958-05-01T00:00:00.000000000\",\"1958-06-01T00:00:00.000000000\",\"1958-07-01T00:00:00.000000000\",\"1958-08-01T00:00:00.000000000\",\"1958-09-01T00:00:00.000000000\",\"1958-10-01T00:00:00.000000000\",\"1958-11-01T00:00:00.000000000\",\"1958-12-01T00:00:00.000000000\",\"1959-01-01T00:00:00.000000000\",\"1959-02-01T00:00:00.000000000\",\"1959-03-01T00:00:00.000000000\",\"1959-04-01T00:00:00.000000000\",\"1959-05-01T00:00:00.000000000\",\"1959-06-01T00:00:00.000000000\",\"1959-07-01T00:00:00.000000000\",\"1959-08-01T00:00:00.000000000\",\"1959-09-01T00:00:00.000000000\",\"1959-10-01T00:00:00.000000000\",\"1959-11-01T00:00:00.000000000\",\"1959-12-01T00:00:00.000000000\",\"1960-01-01T00:00:00.000000000\",\"1960-02-01T00:00:00.000000000\",\"1960-03-01T00:00:00.000000000\",\"1960-04-01T00:00:00.000000000\",\"1960-05-01T00:00:00.000000000\",\"1960-06-01T00:00:00.000000000\",\"1960-07-01T00:00:00.000000000\",\"1960-08-01T00:00:00.000000000\",\"1960-09-01T00:00:00.000000000\",\"1960-10-01T00:00:00.000000000\",\"1960-11-01T00:00:00.000000000\",\"1960-12-01T00:00:00.000000000\",\"1961-01-01T00:00:00.000000000\",\"1961-02-01T00:00:00.000000000\",\"1961-03-01T00:00:00.000000000\",\"1961-04-01T00:00:00.000000000\",\"1961-05-01T00:00:00.000000000\",\"1961-06-01T00:00:00.000000000\",\"1961-07-01T00:00:00.000000000\",\"1961-08-01T00:00:00.000000000\",\"1961-09-01T00:00:00.000000000\",\"1961-10-01T00:00:00.000000000\",\"1961-11-01T00:00:00.000000000\",\"1961-12-01T00:00:00.000000000\",\"1962-01-01T00:00:00.000000000\",\"1962-02-01T00:00:00.000000000\",\"1962-03-01T00:00:00.000000000\",\"1962-04-01T00:00:00.000000000\",\"1962-05-01T00:00:00.000000000\",\"1962-06-01T00:00:00.000000000\",\"1962-07-01T00:00:00.000000000\",\"1962-08-01T00:00:00.000000000\",\"1962-09-01T00:00:00.000000000\",\"1962-10-01T00:00:00.000000000\",\"1962-11-01T00:00:00.000000000\",\"1962-12-01T00:00:00.000000000\",\"1963-01-01T00:00:00.000000000\",\"1963-02-01T00:00:00.000000000\",\"1963-03-01T00:00:00.000000000\",\"1963-04-01T00:00:00.000000000\",\"1963-05-01T00:00:00.000000000\",\"1963-06-01T00:00:00.000000000\",\"1963-07-01T00:00:00.000000000\",\"1963-08-01T00:00:00.000000000\",\"1963-09-01T00:00:00.000000000\",\"1963-10-01T00:00:00.000000000\",\"1963-11-01T00:00:00.000000000\",\"1963-12-01T00:00:00.000000000\",\"1964-01-01T00:00:00.000000000\",\"1964-02-01T00:00:00.000000000\",\"1964-03-01T00:00:00.000000000\",\"1964-04-01T00:00:00.000000000\",\"1964-05-01T00:00:00.000000000\",\"1964-06-01T00:00:00.000000000\",\"1964-07-01T00:00:00.000000000\",\"1964-08-01T00:00:00.000000000\",\"1964-09-01T00:00:00.000000000\",\"1964-10-01T00:00:00.000000000\",\"1964-11-01T00:00:00.000000000\",\"1964-12-01T00:00:00.000000000\",\"1965-01-01T00:00:00.000000000\",\"1965-02-01T00:00:00.000000000\",\"1965-03-01T00:00:00.000000000\",\"1965-04-01T00:00:00.000000000\",\"1965-05-01T00:00:00.000000000\",\"1965-06-01T00:00:00.000000000\",\"1965-07-01T00:00:00.000000000\",\"1965-08-01T00:00:00.000000000\",\"1965-09-01T00:00:00.000000000\",\"1965-10-01T00:00:00.000000000\",\"1965-11-01T00:00:00.000000000\",\"1965-12-01T00:00:00.000000000\",\"1966-01-01T00:00:00.000000000\",\"1966-02-01T00:00:00.000000000\",\"1966-03-01T00:00:00.000000000\",\"1966-04-01T00:00:00.000000000\",\"1966-05-01T00:00:00.000000000\",\"1966-06-01T00:00:00.000000000\",\"1966-07-01T00:00:00.000000000\",\"1966-08-01T00:00:00.000000000\",\"1966-09-01T00:00:00.000000000\",\"1966-10-01T00:00:00.000000000\",\"1966-11-01T00:00:00.000000000\",\"1966-12-01T00:00:00.000000000\",\"1967-01-01T00:00:00.000000000\",\"1967-02-01T00:00:00.000000000\",\"1967-03-01T00:00:00.000000000\",\"1967-04-01T00:00:00.000000000\",\"1967-05-01T00:00:00.000000000\",\"1967-06-01T00:00:00.000000000\",\"1967-07-01T00:00:00.000000000\",\"1967-08-01T00:00:00.000000000\",\"1967-09-01T00:00:00.000000000\",\"1967-10-01T00:00:00.000000000\",\"1967-11-01T00:00:00.000000000\",\"1967-12-01T00:00:00.000000000\",\"1968-01-01T00:00:00.000000000\",\"1968-02-01T00:00:00.000000000\",\"1968-03-01T00:00:00.000000000\",\"1968-04-01T00:00:00.000000000\",\"1968-05-01T00:00:00.000000000\",\"1968-06-01T00:00:00.000000000\",\"1968-07-01T00:00:00.000000000\",\"1968-08-01T00:00:00.000000000\",\"1968-09-01T00:00:00.000000000\",\"1968-10-01T00:00:00.000000000\",\"1968-11-01T00:00:00.000000000\",\"1968-12-01T00:00:00.000000000\",\"1969-01-01T00:00:00.000000000\",\"1969-02-01T00:00:00.000000000\",\"1969-03-01T00:00:00.000000000\",\"1969-04-01T00:00:00.000000000\",\"1969-05-01T00:00:00.000000000\",\"1969-06-01T00:00:00.000000000\",\"1969-07-01T00:00:00.000000000\",\"1969-08-01T00:00:00.000000000\",\"1969-09-01T00:00:00.000000000\",\"1969-10-01T00:00:00.000000000\",\"1969-11-01T00:00:00.000000000\",\"1969-12-01T00:00:00.000000000\",\"1970-01-01T00:00:00.000000000\",\"1970-02-01T00:00:00.000000000\",\"1970-03-01T00:00:00.000000000\",\"1970-04-01T00:00:00.000000000\",\"1970-05-01T00:00:00.000000000\",\"1970-06-01T00:00:00.000000000\",\"1970-07-01T00:00:00.000000000\",\"1970-08-01T00:00:00.000000000\",\"1970-09-01T00:00:00.000000000\",\"1970-10-01T00:00:00.000000000\",\"1970-11-01T00:00:00.000000000\",\"1970-12-01T00:00:00.000000000\",\"1971-01-01T00:00:00.000000000\",\"1971-02-01T00:00:00.000000000\",\"1971-03-01T00:00:00.000000000\",\"1971-04-01T00:00:00.000000000\",\"1971-05-01T00:00:00.000000000\",\"1971-06-01T00:00:00.000000000\",\"1971-07-01T00:00:00.000000000\",\"1971-08-01T00:00:00.000000000\",\"1971-09-01T00:00:00.000000000\",\"1971-10-01T00:00:00.000000000\",\"1971-11-01T00:00:00.000000000\",\"1971-12-01T00:00:00.000000000\",\"1972-01-01T00:00:00.000000000\",\"1972-02-01T00:00:00.000000000\",\"1972-03-01T00:00:00.000000000\",\"1972-04-01T00:00:00.000000000\",\"1972-05-01T00:00:00.000000000\",\"1972-06-01T00:00:00.000000000\",\"1972-07-01T00:00:00.000000000\",\"1972-08-01T00:00:00.000000000\",\"1972-09-01T00:00:00.000000000\",\"1972-10-01T00:00:00.000000000\",\"1972-11-01T00:00:00.000000000\",\"1972-12-01T00:00:00.000000000\",\"1973-01-01T00:00:00.000000000\",\"1973-02-01T00:00:00.000000000\",\"1973-03-01T00:00:00.000000000\",\"1973-04-01T00:00:00.000000000\",\"1973-05-01T00:00:00.000000000\",\"1973-06-01T00:00:00.000000000\",\"1973-07-01T00:00:00.000000000\",\"1973-08-01T00:00:00.000000000\",\"1973-09-01T00:00:00.000000000\",\"1973-10-01T00:00:00.000000000\",\"1973-11-01T00:00:00.000000000\",\"1973-12-01T00:00:00.000000000\",\"1974-01-01T00:00:00.000000000\",\"1974-02-01T00:00:00.000000000\",\"1974-03-01T00:00:00.000000000\",\"1974-04-01T00:00:00.000000000\",\"1974-05-01T00:00:00.000000000\",\"1974-06-01T00:00:00.000000000\",\"1974-07-01T00:00:00.000000000\",\"1974-08-01T00:00:00.000000000\",\"1974-09-01T00:00:00.000000000\",\"1974-10-01T00:00:00.000000000\",\"1974-11-01T00:00:00.000000000\",\"1974-12-01T00:00:00.000000000\",\"1975-01-01T00:00:00.000000000\",\"1975-02-01T00:00:00.000000000\",\"1975-03-01T00:00:00.000000000\",\"1975-04-01T00:00:00.000000000\",\"1975-05-01T00:00:00.000000000\",\"1975-06-01T00:00:00.000000000\",\"1975-07-01T00:00:00.000000000\",\"1975-08-01T00:00:00.000000000\",\"1975-09-01T00:00:00.000000000\",\"1975-10-01T00:00:00.000000000\",\"1975-11-01T00:00:00.000000000\",\"1975-12-01T00:00:00.000000000\",\"1976-01-01T00:00:00.000000000\",\"1976-02-01T00:00:00.000000000\",\"1976-03-01T00:00:00.000000000\",\"1976-04-01T00:00:00.000000000\",\"1976-05-01T00:00:00.000000000\",\"1976-06-01T00:00:00.000000000\",\"1976-07-01T00:00:00.000000000\",\"1976-08-01T00:00:00.000000000\",\"1976-09-01T00:00:00.000000000\",\"1976-10-01T00:00:00.000000000\",\"1976-11-01T00:00:00.000000000\",\"1976-12-01T00:00:00.000000000\",\"1977-01-01T00:00:00.000000000\",\"1977-02-01T00:00:00.000000000\",\"1977-03-01T00:00:00.000000000\",\"1977-04-01T00:00:00.000000000\",\"1977-05-01T00:00:00.000000000\",\"1977-06-01T00:00:00.000000000\",\"1977-07-01T00:00:00.000000000\",\"1977-08-01T00:00:00.000000000\",\"1977-09-01T00:00:00.000000000\",\"1977-10-01T00:00:00.000000000\",\"1977-11-01T00:00:00.000000000\",\"1977-12-01T00:00:00.000000000\",\"1978-01-01T00:00:00.000000000\",\"1978-02-01T00:00:00.000000000\",\"1978-03-01T00:00:00.000000000\",\"1978-04-01T00:00:00.000000000\",\"1978-05-01T00:00:00.000000000\",\"1978-06-01T00:00:00.000000000\",\"1978-07-01T00:00:00.000000000\",\"1978-08-01T00:00:00.000000000\",\"1978-09-01T00:00:00.000000000\",\"1978-10-01T00:00:00.000000000\",\"1978-11-01T00:00:00.000000000\",\"1978-12-01T00:00:00.000000000\",\"1979-01-01T00:00:00.000000000\",\"1979-02-01T00:00:00.000000000\",\"1979-03-01T00:00:00.000000000\",\"1979-04-01T00:00:00.000000000\",\"1979-05-01T00:00:00.000000000\",\"1979-06-01T00:00:00.000000000\",\"1979-07-01T00:00:00.000000000\",\"1979-08-01T00:00:00.000000000\",\"1979-09-01T00:00:00.000000000\",\"1979-10-01T00:00:00.000000000\",\"1979-11-01T00:00:00.000000000\",\"1979-12-01T00:00:00.000000000\",\"1980-01-01T00:00:00.000000000\",\"1980-02-01T00:00:00.000000000\",\"1980-03-01T00:00:00.000000000\",\"1980-04-01T00:00:00.000000000\",\"1980-05-01T00:00:00.000000000\",\"1980-06-01T00:00:00.000000000\",\"1980-07-01T00:00:00.000000000\",\"1980-08-01T00:00:00.000000000\",\"1980-09-01T00:00:00.000000000\",\"1980-10-01T00:00:00.000000000\",\"1980-11-01T00:00:00.000000000\",\"1980-12-01T00:00:00.000000000\",\"1981-01-01T00:00:00.000000000\",\"1981-02-01T00:00:00.000000000\",\"1981-03-01T00:00:00.000000000\",\"1981-04-01T00:00:00.000000000\",\"1981-05-01T00:00:00.000000000\",\"1981-06-01T00:00:00.000000000\",\"1981-07-01T00:00:00.000000000\",\"1981-08-01T00:00:00.000000000\",\"1981-09-01T00:00:00.000000000\",\"1981-10-01T00:00:00.000000000\",\"1981-11-01T00:00:00.000000000\",\"1981-12-01T00:00:00.000000000\",\"1982-01-01T00:00:00.000000000\",\"1982-02-01T00:00:00.000000000\",\"1982-03-01T00:00:00.000000000\",\"1982-04-01T00:00:00.000000000\",\"1982-05-01T00:00:00.000000000\",\"1982-06-01T00:00:00.000000000\",\"1982-07-01T00:00:00.000000000\",\"1982-08-01T00:00:00.000000000\",\"1982-09-01T00:00:00.000000000\",\"1982-10-01T00:00:00.000000000\",\"1982-11-01T00:00:00.000000000\",\"1982-12-01T00:00:00.000000000\",\"1983-01-01T00:00:00.000000000\",\"1983-02-01T00:00:00.000000000\",\"1983-03-01T00:00:00.000000000\",\"1983-04-01T00:00:00.000000000\",\"1983-05-01T00:00:00.000000000\",\"1983-06-01T00:00:00.000000000\",\"1983-07-01T00:00:00.000000000\",\"1983-08-01T00:00:00.000000000\",\"1983-09-01T00:00:00.000000000\",\"1983-10-01T00:00:00.000000000\",\"1983-11-01T00:00:00.000000000\",\"1983-12-01T00:00:00.000000000\",\"1984-01-01T00:00:00.000000000\",\"1984-02-01T00:00:00.000000000\",\"1984-03-01T00:00:00.000000000\",\"1984-04-01T00:00:00.000000000\",\"1984-05-01T00:00:00.000000000\",\"1984-06-01T00:00:00.000000000\",\"1984-07-01T00:00:00.000000000\",\"1984-08-01T00:00:00.000000000\",\"1984-09-01T00:00:00.000000000\",\"1984-10-01T00:00:00.000000000\",\"1984-11-01T00:00:00.000000000\",\"1984-12-01T00:00:00.000000000\",\"1985-01-01T00:00:00.000000000\",\"1985-02-01T00:00:00.000000000\",\"1985-03-01T00:00:00.000000000\",\"1985-04-01T00:00:00.000000000\",\"1985-05-01T00:00:00.000000000\",\"1985-06-01T00:00:00.000000000\",\"1985-07-01T00:00:00.000000000\",\"1985-08-01T00:00:00.000000000\",\"1985-09-01T00:00:00.000000000\",\"1985-10-01T00:00:00.000000000\",\"1985-11-01T00:00:00.000000000\",\"1985-12-01T00:00:00.000000000\",\"1986-01-01T00:00:00.000000000\",\"1986-02-01T00:00:00.000000000\",\"1986-03-01T00:00:00.000000000\",\"1986-04-01T00:00:00.000000000\",\"1986-05-01T00:00:00.000000000\",\"1986-06-01T00:00:00.000000000\",\"1986-07-01T00:00:00.000000000\",\"1986-08-01T00:00:00.000000000\",\"1986-09-01T00:00:00.000000000\",\"1986-10-01T00:00:00.000000000\",\"1986-11-01T00:00:00.000000000\",\"1986-12-01T00:00:00.000000000\",\"1987-01-01T00:00:00.000000000\",\"1987-02-01T00:00:00.000000000\",\"1987-03-01T00:00:00.000000000\",\"1987-04-01T00:00:00.000000000\",\"1987-05-01T00:00:00.000000000\",\"1987-06-01T00:00:00.000000000\",\"1987-07-01T00:00:00.000000000\",\"1987-08-01T00:00:00.000000000\",\"1987-09-01T00:00:00.000000000\",\"1987-10-01T00:00:00.000000000\",\"1987-11-01T00:00:00.000000000\",\"1987-12-01T00:00:00.000000000\",\"1988-01-01T00:00:00.000000000\",\"1988-02-01T00:00:00.000000000\",\"1988-03-01T00:00:00.000000000\",\"1988-04-01T00:00:00.000000000\",\"1988-05-01T00:00:00.000000000\",\"1988-06-01T00:00:00.000000000\",\"1988-07-01T00:00:00.000000000\",\"1988-08-01T00:00:00.000000000\",\"1988-09-01T00:00:00.000000000\",\"1988-10-01T00:00:00.000000000\",\"1988-11-01T00:00:00.000000000\",\"1988-12-01T00:00:00.000000000\",\"1989-01-01T00:00:00.000000000\",\"1989-02-01T00:00:00.000000000\",\"1989-03-01T00:00:00.000000000\",\"1989-04-01T00:00:00.000000000\",\"1989-05-01T00:00:00.000000000\",\"1989-06-01T00:00:00.000000000\",\"1989-07-01T00:00:00.000000000\",\"1989-08-01T00:00:00.000000000\",\"1989-09-01T00:00:00.000000000\",\"1989-10-01T00:00:00.000000000\",\"1989-11-01T00:00:00.000000000\",\"1989-12-01T00:00:00.000000000\",\"1990-01-01T00:00:00.000000000\",\"1990-02-01T00:00:00.000000000\",\"1990-03-01T00:00:00.000000000\",\"1990-04-01T00:00:00.000000000\",\"1990-05-01T00:00:00.000000000\",\"1990-06-01T00:00:00.000000000\",\"1990-07-01T00:00:00.000000000\",\"1990-08-01T00:00:00.000000000\",\"1990-09-01T00:00:00.000000000\",\"1990-10-01T00:00:00.000000000\",\"1990-11-01T00:00:00.000000000\",\"1990-12-01T00:00:00.000000000\",\"1991-01-01T00:00:00.000000000\",\"1991-02-01T00:00:00.000000000\",\"1991-03-01T00:00:00.000000000\",\"1991-04-01T00:00:00.000000000\",\"1991-05-01T00:00:00.000000000\",\"1991-06-01T00:00:00.000000000\",\"1991-07-01T00:00:00.000000000\",\"1991-08-01T00:00:00.000000000\",\"1991-09-01T00:00:00.000000000\",\"1991-10-01T00:00:00.000000000\",\"1991-11-01T00:00:00.000000000\",\"1991-12-01T00:00:00.000000000\",\"1992-01-01T00:00:00.000000000\",\"1992-02-01T00:00:00.000000000\",\"1992-03-01T00:00:00.000000000\",\"1992-04-01T00:00:00.000000000\",\"1992-05-01T00:00:00.000000000\",\"1992-06-01T00:00:00.000000000\",\"1992-07-01T00:00:00.000000000\",\"1992-08-01T00:00:00.000000000\",\"1992-09-01T00:00:00.000000000\",\"1992-10-01T00:00:00.000000000\",\"1992-11-01T00:00:00.000000000\",\"1992-12-01T00:00:00.000000000\",\"1993-01-01T00:00:00.000000000\",\"1993-02-01T00:00:00.000000000\",\"1993-03-01T00:00:00.000000000\",\"1993-04-01T00:00:00.000000000\",\"1993-05-01T00:00:00.000000000\",\"1993-06-01T00:00:00.000000000\",\"1993-07-01T00:00:00.000000000\",\"1993-08-01T00:00:00.000000000\",\"1993-09-01T00:00:00.000000000\",\"1993-10-01T00:00:00.000000000\",\"1993-11-01T00:00:00.000000000\",\"1993-12-01T00:00:00.000000000\",\"1994-01-01T00:00:00.000000000\",\"1994-02-01T00:00:00.000000000\",\"1994-03-01T00:00:00.000000000\",\"1994-04-01T00:00:00.000000000\",\"1994-05-01T00:00:00.000000000\",\"1994-06-01T00:00:00.000000000\",\"1994-07-01T00:00:00.000000000\",\"1994-08-01T00:00:00.000000000\",\"1994-09-01T00:00:00.000000000\",\"1994-10-01T00:00:00.000000000\",\"1994-11-01T00:00:00.000000000\",\"1994-12-01T00:00:00.000000000\",\"1995-01-01T00:00:00.000000000\",\"1995-02-01T00:00:00.000000000\",\"1995-03-01T00:00:00.000000000\",\"1995-04-01T00:00:00.000000000\",\"1995-05-01T00:00:00.000000000\",\"1995-06-01T00:00:00.000000000\",\"1995-07-01T00:00:00.000000000\",\"1995-08-01T00:00:00.000000000\",\"1995-09-01T00:00:00.000000000\",\"1995-10-01T00:00:00.000000000\",\"1995-11-01T00:00:00.000000000\",\"1995-12-01T00:00:00.000000000\",\"1996-01-01T00:00:00.000000000\",\"1996-02-01T00:00:00.000000000\",\"1996-03-01T00:00:00.000000000\",\"1996-04-01T00:00:00.000000000\",\"1996-05-01T00:00:00.000000000\",\"1996-06-01T00:00:00.000000000\",\"1996-07-01T00:00:00.000000000\",\"1996-08-01T00:00:00.000000000\",\"1996-09-01T00:00:00.000000000\",\"1996-10-01T00:00:00.000000000\",\"1996-11-01T00:00:00.000000000\",\"1996-12-01T00:00:00.000000000\",\"1997-01-01T00:00:00.000000000\",\"1997-02-01T00:00:00.000000000\",\"1997-03-01T00:00:00.000000000\",\"1997-04-01T00:00:00.000000000\",\"1997-05-01T00:00:00.000000000\",\"1997-06-01T00:00:00.000000000\",\"1997-07-01T00:00:00.000000000\",\"1997-08-01T00:00:00.000000000\",\"1997-09-01T00:00:00.000000000\",\"1997-10-01T00:00:00.000000000\",\"1997-11-01T00:00:00.000000000\",\"1997-12-01T00:00:00.000000000\",\"1998-01-01T00:00:00.000000000\",\"1998-02-01T00:00:00.000000000\",\"1998-03-01T00:00:00.000000000\",\"1998-04-01T00:00:00.000000000\",\"1998-05-01T00:00:00.000000000\",\"1998-06-01T00:00:00.000000000\",\"1998-07-01T00:00:00.000000000\",\"1998-08-01T00:00:00.000000000\",\"1998-09-01T00:00:00.000000000\",\"1998-10-01T00:00:00.000000000\",\"1998-11-01T00:00:00.000000000\",\"1998-12-01T00:00:00.000000000\",\"1999-01-01T00:00:00.000000000\",\"1999-02-01T00:00:00.000000000\",\"1999-03-01T00:00:00.000000000\",\"1999-04-01T00:00:00.000000000\",\"1999-05-01T00:00:00.000000000\",\"1999-06-01T00:00:00.000000000\",\"1999-07-01T00:00:00.000000000\",\"1999-08-01T00:00:00.000000000\",\"1999-09-01T00:00:00.000000000\",\"1999-10-01T00:00:00.000000000\",\"1999-11-01T00:00:00.000000000\",\"1999-12-01T00:00:00.000000000\",\"2000-01-01T00:00:00.000000000\",\"2000-02-01T00:00:00.000000000\",\"2000-03-01T00:00:00.000000000\",\"2000-04-01T00:00:00.000000000\",\"2000-05-01T00:00:00.000000000\",\"2000-06-01T00:00:00.000000000\",\"2000-07-01T00:00:00.000000000\",\"2000-08-01T00:00:00.000000000\",\"2000-09-01T00:00:00.000000000\",\"2000-10-01T00:00:00.000000000\",\"2000-11-01T00:00:00.000000000\",\"2000-12-01T00:00:00.000000000\",\"2001-01-01T00:00:00.000000000\",\"2001-02-01T00:00:00.000000000\",\"2001-03-01T00:00:00.000000000\",\"2001-04-01T00:00:00.000000000\",\"2001-05-01T00:00:00.000000000\",\"2001-06-01T00:00:00.000000000\",\"2001-07-01T00:00:00.000000000\",\"2001-08-01T00:00:00.000000000\",\"2001-09-01T00:00:00.000000000\",\"2001-10-01T00:00:00.000000000\",\"2001-11-01T00:00:00.000000000\",\"2001-12-01T00:00:00.000000000\",\"2002-01-01T00:00:00.000000000\",\"2002-02-01T00:00:00.000000000\",\"2002-03-01T00:00:00.000000000\",\"2002-04-01T00:00:00.000000000\",\"2002-05-01T00:00:00.000000000\",\"2002-06-01T00:00:00.000000000\",\"2002-07-01T00:00:00.000000000\",\"2002-08-01T00:00:00.000000000\",\"2002-09-01T00:00:00.000000000\",\"2002-10-01T00:00:00.000000000\",\"2002-11-01T00:00:00.000000000\",\"2002-12-01T00:00:00.000000000\",\"2003-01-01T00:00:00.000000000\",\"2003-02-01T00:00:00.000000000\",\"2003-03-01T00:00:00.000000000\",\"2003-04-01T00:00:00.000000000\",\"2003-05-01T00:00:00.000000000\",\"2003-06-01T00:00:00.000000000\",\"2003-07-01T00:00:00.000000000\",\"2003-08-01T00:00:00.000000000\",\"2003-09-01T00:00:00.000000000\",\"2003-10-01T00:00:00.000000000\",\"2003-11-01T00:00:00.000000000\",\"2003-12-01T00:00:00.000000000\",\"2004-01-01T00:00:00.000000000\",\"2004-02-01T00:00:00.000000000\",\"2004-03-01T00:00:00.000000000\",\"2004-04-01T00:00:00.000000000\",\"2004-05-01T00:00:00.000000000\",\"2004-06-01T00:00:00.000000000\",\"2004-07-01T00:00:00.000000000\",\"2004-08-01T00:00:00.000000000\",\"2004-09-01T00:00:00.000000000\",\"2004-10-01T00:00:00.000000000\",\"2004-11-01T00:00:00.000000000\",\"2004-12-01T00:00:00.000000000\",\"2005-01-01T00:00:00.000000000\",\"2005-02-01T00:00:00.000000000\",\"2005-03-01T00:00:00.000000000\",\"2005-04-01T00:00:00.000000000\",\"2005-05-01T00:00:00.000000000\",\"2005-06-01T00:00:00.000000000\",\"2005-07-01T00:00:00.000000000\",\"2005-08-01T00:00:00.000000000\",\"2005-09-01T00:00:00.000000000\",\"2005-10-01T00:00:00.000000000\",\"2005-11-01T00:00:00.000000000\",\"2005-12-01T00:00:00.000000000\",\"2006-01-01T00:00:00.000000000\",\"2006-02-01T00:00:00.000000000\",\"2006-03-01T00:00:00.000000000\",\"2006-04-01T00:00:00.000000000\",\"2006-05-01T00:00:00.000000000\",\"2006-06-01T00:00:00.000000000\",\"2006-07-01T00:00:00.000000000\",\"2006-08-01T00:00:00.000000000\",\"2006-09-01T00:00:00.000000000\",\"2006-10-01T00:00:00.000000000\",\"2006-11-01T00:00:00.000000000\",\"2006-12-01T00:00:00.000000000\",\"2007-01-01T00:00:00.000000000\",\"2007-02-01T00:00:00.000000000\",\"2007-03-01T00:00:00.000000000\",\"2007-04-01T00:00:00.000000000\",\"2007-05-01T00:00:00.000000000\",\"2007-06-01T00:00:00.000000000\",\"2007-07-01T00:00:00.000000000\",\"2007-08-01T00:00:00.000000000\",\"2007-09-01T00:00:00.000000000\",\"2007-10-01T00:00:00.000000000\",\"2007-11-01T00:00:00.000000000\",\"2007-12-01T00:00:00.000000000\",\"2008-01-01T00:00:00.000000000\",\"2008-02-01T00:00:00.000000000\",\"2008-03-01T00:00:00.000000000\",\"2008-04-01T00:00:00.000000000\",\"2008-05-01T00:00:00.000000000\",\"2008-06-01T00:00:00.000000000\",\"2008-07-01T00:00:00.000000000\",\"2008-08-01T00:00:00.000000000\",\"2008-09-01T00:00:00.000000000\",\"2008-10-01T00:00:00.000000000\",\"2008-11-01T00:00:00.000000000\",\"2008-12-01T00:00:00.000000000\",\"2009-01-01T00:00:00.000000000\",\"2009-02-01T00:00:00.000000000\",\"2009-03-01T00:00:00.000000000\",\"2009-04-01T00:00:00.000000000\",\"2009-05-01T00:00:00.000000000\",\"2009-06-01T00:00:00.000000000\",\"2009-07-01T00:00:00.000000000\",\"2009-08-01T00:00:00.000000000\",\"2009-09-01T00:00:00.000000000\",\"2009-10-01T00:00:00.000000000\",\"2009-11-01T00:00:00.000000000\",\"2009-12-01T00:00:00.000000000\",\"2010-01-01T00:00:00.000000000\",\"2010-02-01T00:00:00.000000000\",\"2010-03-01T00:00:00.000000000\",\"2010-04-01T00:00:00.000000000\",\"2010-05-01T00:00:00.000000000\",\"2010-06-01T00:00:00.000000000\",\"2010-07-01T00:00:00.000000000\",\"2010-08-01T00:00:00.000000000\",\"2010-09-01T00:00:00.000000000\",\"2010-10-01T00:00:00.000000000\",\"2010-11-01T00:00:00.000000000\",\"2010-12-01T00:00:00.000000000\",\"2011-01-01T00:00:00.000000000\",\"2011-02-01T00:00:00.000000000\",\"2011-03-01T00:00:00.000000000\",\"2011-04-01T00:00:00.000000000\",\"2011-05-01T00:00:00.000000000\",\"2011-06-01T00:00:00.000000000\",\"2011-07-01T00:00:00.000000000\",\"2011-08-01T00:00:00.000000000\",\"2011-09-01T00:00:00.000000000\",\"2011-10-01T00:00:00.000000000\",\"2011-11-01T00:00:00.000000000\",\"2011-12-01T00:00:00.000000000\",\"2012-01-01T00:00:00.000000000\",\"2012-02-01T00:00:00.000000000\",\"2012-03-01T00:00:00.000000000\",\"2012-04-01T00:00:00.000000000\",\"2012-05-01T00:00:00.000000000\",\"2012-06-01T00:00:00.000000000\",\"2012-07-01T00:00:00.000000000\",\"2012-08-01T00:00:00.000000000\",\"2012-09-01T00:00:00.000000000\",\"2012-10-01T00:00:00.000000000\",\"2012-11-01T00:00:00.000000000\",\"2012-12-01T00:00:00.000000000\",\"2013-01-01T00:00:00.000000000\",\"2013-02-01T00:00:00.000000000\",\"2013-03-01T00:00:00.000000000\",\"2013-04-01T00:00:00.000000000\",\"2013-05-01T00:00:00.000000000\",\"2013-06-01T00:00:00.000000000\",\"2013-07-01T00:00:00.000000000\",\"2013-08-01T00:00:00.000000000\",\"2013-09-01T00:00:00.000000000\",\"2013-10-01T00:00:00.000000000\",\"2013-11-01T00:00:00.000000000\",\"2013-12-01T00:00:00.000000000\",\"2014-01-01T00:00:00.000000000\",\"2014-02-01T00:00:00.000000000\",\"2014-03-01T00:00:00.000000000\",\"2014-04-01T00:00:00.000000000\",\"2014-05-01T00:00:00.000000000\",\"2014-06-01T00:00:00.000000000\",\"2014-07-01T00:00:00.000000000\",\"2014-08-01T00:00:00.000000000\",\"2014-09-01T00:00:00.000000000\",\"2014-10-01T00:00:00.000000000\",\"2014-11-01T00:00:00.000000000\",\"2014-12-01T00:00:00.000000000\",\"2015-01-01T00:00:00.000000000\",\"2015-02-01T00:00:00.000000000\",\"2015-03-01T00:00:00.000000000\",\"2015-04-01T00:00:00.000000000\",\"2015-05-01T00:00:00.000000000\",\"2015-06-01T00:00:00.000000000\",\"2015-07-01T00:00:00.000000000\",\"2015-08-01T00:00:00.000000000\",\"2015-09-01T00:00:00.000000000\",\"2015-10-01T00:00:00.000000000\",\"2015-11-01T00:00:00.000000000\",\"2015-12-01T00:00:00.000000000\",\"2016-01-01T00:00:00.000000000\",\"2016-02-01T00:00:00.000000000\",\"2016-03-01T00:00:00.000000000\",\"2016-04-01T00:00:00.000000000\",\"2016-05-01T00:00:00.000000000\",\"2016-06-01T00:00:00.000000000\",\"2016-07-01T00:00:00.000000000\",\"2016-08-01T00:00:00.000000000\",\"2016-09-01T00:00:00.000000000\",\"2016-10-01T00:00:00.000000000\",\"2016-11-01T00:00:00.000000000\",\"2016-12-01T00:00:00.000000000\",\"2017-01-01T00:00:00.000000000\",\"2017-02-01T00:00:00.000000000\",\"2017-03-01T00:00:00.000000000\",\"2017-04-01T00:00:00.000000000\",\"2017-05-01T00:00:00.000000000\",\"2017-06-01T00:00:00.000000000\",\"2017-07-01T00:00:00.000000000\",\"2017-08-01T00:00:00.000000000\",\"2017-09-01T00:00:00.000000000\",\"2017-10-01T00:00:00.000000000\",\"2017-11-01T00:00:00.000000000\",\"2017-12-01T00:00:00.000000000\",\"2018-01-01T00:00:00.000000000\",\"2018-02-01T00:00:00.000000000\",\"2018-03-01T00:00:00.000000000\",\"2018-04-01T00:00:00.000000000\",\"2018-05-01T00:00:00.000000000\",\"2018-06-01T00:00:00.000000000\",\"2018-07-01T00:00:00.000000000\",\"2018-08-01T00:00:00.000000000\",\"2018-09-01T00:00:00.000000000\",\"2018-10-01T00:00:00.000000000\",\"2018-11-01T00:00:00.000000000\",\"2018-12-01T00:00:00.000000000\",\"2019-01-01T00:00:00.000000000\",\"2019-02-01T00:00:00.000000000\",\"2019-03-01T00:00:00.000000000\",\"2019-04-01T00:00:00.000000000\",\"2019-05-01T00:00:00.000000000\",\"2019-06-01T00:00:00.000000000\",\"2019-07-01T00:00:00.000000000\",\"2019-08-01T00:00:00.000000000\",\"2019-09-01T00:00:00.000000000\",\"2019-10-01T00:00:00.000000000\",\"2019-11-01T00:00:00.000000000\",\"2019-12-01T00:00:00.000000000\",\"2020-01-01T00:00:00.000000000\",\"2020-02-01T00:00:00.000000000\",\"2020-03-01T00:00:00.000000000\",\"2020-04-01T00:00:00.000000000\",\"2020-05-01T00:00:00.000000000\",\"2020-06-01T00:00:00.000000000\",\"2020-07-01T00:00:00.000000000\",\"2020-08-01T00:00:00.000000000\",\"2020-09-01T00:00:00.000000000\",\"2020-10-01T00:00:00.000000000\",\"2020-11-01T00:00:00.000000000\",\"2020-12-01T00:00:00.000000000\",\"2021-01-01T00:00:00.000000000\",\"2021-02-01T00:00:00.000000000\",\"2021-03-01T00:00:00.000000000\",\"2021-04-01T00:00:00.000000000\",\"2021-05-01T00:00:00.000000000\",\"2021-06-01T00:00:00.000000000\",\"2021-07-01T00:00:00.000000000\",\"2021-08-01T00:00:00.000000000\",\"2021-09-01T00:00:00.000000000\",\"2021-10-01T00:00:00.000000000\",\"2021-11-01T00:00:00.000000000\",\"2021-12-01T00:00:00.000000000\",\"2022-01-01T00:00:00.000000000\",\"2022-02-01T00:00:00.000000000\",\"2022-03-01T00:00:00.000000000\",\"2022-04-01T00:00:00.000000000\",\"2022-05-01T00:00:00.000000000\",\"2022-06-01T00:00:00.000000000\",\"2022-07-01T00:00:00.000000000\",\"2022-08-01T00:00:00.000000000\",\"2022-09-01T00:00:00.000000000\",\"2022-10-01T00:00:00.000000000\",\"2022-11-01T00:00:00.000000000\",\"2022-12-01T00:00:00.000000000\"],\"y\":[null,null,null,null,null,null,null,null,null,null,null,null,null,null,null,null,null,null,null,null,null,null,null,null,null,null,null,null,null,null,null,null,null,null,null,null,null,null,null,null,null,null,null,null,null,null,null,null,null,null,null,null,null,null,null,null,null,null,null,null,null,null,null,null,null,null,null,null,null,null,null,null,null,null,null,null,null,null,null,null,null,null,null,null,null,null,null,null,null,null,null,null,null,null,null,null,null,null,null,null,null,null,null,null,null,null,null,null,null,null,null,null,null,null,null,null,null,null,null,null,null,null,null,null,null,null,null,null,null,null,null,null,null,null,null,null,null,null,null,null,null,null,null,null,null,null,null,null,null,null,null,null,null,null,null,null,null,null,null,null,null,null,null,null,null,null,null,null,null,null,null,null,null,null,null,null,null,null,null,null,null,null,null,null,null,null,null,null,null,null,null,null,null,null,null,null,null,null,null,null,null,null,null,null,null,null,null,null,null,null,null,null,null,null,null,null,null,null,null,null,null,null,null,null,null,null,null,null,null,null,null,null,null,null,null,null,null,null,null,null,30.5,30.5,30.5,30.6,30.7,30.7,30.8,30.9,31.0,31.0,31.1,31.2,31.3,31.4,31.5,31.6,31.7,31.9,32.1,32.3,32.4,32.5,32.7,32.9,33.0,33.1,33.4,33.6,33.7,33.9,34.1,34.3,34.5,34.7,34.8,35.0,35.1,35.4,35.8,35.9,36.1,36.3,36.5,36.6,36.9,37.1,37.3,37.4,37.5,37.5,37.4,37.4,37.6,37.9,38.1,38.2,38.4,38.5,38.6,38.7,38.9,39.0,39.0,39.1,39.2,39.4,39.6,39.7,39.8,39.8,39.9,40.1,40.1,40.2,40.4,40.5,40.6,40.9,41.0,41.3,41.7,42.1,42.5,42.8,43.3,43.6,44.1,44.4,44.9,45.4,45.9,46.5,47.1,47.7,48.1,48.6,49.0,49.4,49.7,50.0,50.2,50.5,50.7,51.0,51.3,51.5,52.0,52.3,52.6,52.8,52.9,53.1,53.2,53.5,53.8,54.1,54.4,54.6,54.8,55.1,55.6,55.9,56.2,56.5,56.8,57.1,57.6,57.9,58.3,58.6,59.0,59.4,59.7,60.1,60.5,61.0,61.6,62.1,62.7,63.1,63.8,64.5,64.9,65.2,65.7,66.5,67.0,67.7,68.4,69.3,70.2,71.2,72.1,73.1,74.2,75.2,76.2,77.2,78.3,79.4,80.5,82.0,81.5,81.8,82.3,83.4,84.4,85.5,86.1,86.6,87.1,87.8,88.8,89.8,91.3,92.2,93.4,93.4,93.8,94.1,94.4,94.7,94.6,95.4,96.7,97.7,98.1,98.4,98.2,98.6,98.3,97.5,98.0,98.2,98.3,98.9,99.1,99.3,99.7,99.8,100.1,100.4,100.8,101.0,101.5,102.1,102.3,102.9,103.1,103.3,103.9,104.2,104.7,104.9,105.1,105.3,105.5,106.0,106.4,106.7,107.4,107.6,107.9,108.3,108.5,108.9,109.5,109.8,110.1,110.0,110.3,110.4,110.4,110.9,110.9,111.1,111.5,111.6,111.6,111.9,112.3,112.7,113.0,113.5,113.8,114.1,114.3,114.9,115.2,115.5,115.8,116.1,116.4,116.8,117.2,117.6,117.9,118.3,118.6,119.0,119.5,119.9,120.2,120.6,120.9,121.1,121.5,121.9,122.3,122.7,123.3,123.7,123.8,124.5,124.9,125.4,126.1,126.2,126.8,127.1,127.3,128.1,128.7,129.7,130.2,130.6,130.8,131.0,132.0,132.4,132.6,132.7,133.1,133.2,133.6,133.8,134.3,134.7,135.2,135.6,135.9,136.1,136.4,136.7,136.9,137.4,137.7,137.9,138.1,138.6,139.0,139.2,139.6,139.6,140.0,140.6,140.8,141.2,141.3,141.7,142.0,142.3,142.6,143.0,143.2,143.7,144.1,144.0,144.4,144.6,144.8,145.3,145.5,145.7,146.0,146.0,146.6,146.9,147.2,147.6,147.9,148.2,148.6,149.0,149.2,149.8,150.0,150.3,150.9,151.2,151.6,151.9,152.3,152.4,153.0,153.4,153.7,154.0,154.4,154.7,155.3,155.7,155.7,156.0,156.2,156.6,156.9,157.1,157.5,157.8,158.3,158.4,158.7,158.8,159.2,159.6,160.0,160.2,160.5,160.8,161.1,161.5,161.9,162.2,162.2,162.4,162.7,163.1,163.3,163.6,164.0,164.3,164.9,165.1,165.5,165.7,166.5,167.3,167.7,167.9,168.3,169.2,169.9,170.2,171.1,171.8,172.2,172.8,174.5,174.9,175.3,175.4,176.1,176.8,176.8,177.1,177.0,176.9,177.5,177.9,178.3,178.7,179.0,179.5,179.8,180.0,180.2,180.7,181.1,181.5,182.0,182.3,182.9,183.4,184.2,184.0,184.6,184.6,184.9,185.2,185.5,185.9,186.0,186.4,186.9,187.1,187.7,188.3,188.9,189.5,189.9,190.3,190.8,191.2,191.8,192.1,192.3,193.0,193.9,194.3,194.6,194.6,195.4,195.9,196.8,198.7,199.5,199.6,200.5,200.8,201.2,201.6,202.3,202.8,203.4,204.1,204.7,204.8,205.5,206.2,206.788,207.536,208.119,208.518,208.883,209.561,209.743,210.004,210.5,211.057,211.864,212.418,212.873,213.377,214.422,214.997,215.866,216.864,218.014,218.053,217.836,217.705,217.585,217.469,217.631,217.563,217.458,217.304,216.99,216.955,216.581,216.729,216.68,216.942,216.962,216.899,216.206,216.042,216.146,216.092,216.128,216.06,216.214,216.254,216.234,216.359,216.484,216.823,217.061,217.443,217.794,218.186,218.521,218.808,219.386,219.802,220.152,220.447,220.685,220.966,221.096,221.299,221.579,221.992,222.069,222.319,222.508,223.031,223.463,223.949,224.504,224.757,225.106,225.58,225.769,226.299,226.949,227.324,227.579,227.911,228.354,228.584,229.119,229.623,230.52,231.084,232.119,232.014,232.785,233.117,233.695,233.928,234.234,234.656,235.0,235.425,235.735,236.2,236.602,237.086,237.21,237.804,238.334,238.7,239.236,239.593,240.001,240.224,240.673,241.124,241.587,242.071,242.833,243.515,244.224,244.911,245.755,246.48,246.985,247.543,248.164,248.807,249.098,249.8,250.408,250.933,251.21,252.086,252.603,253.292,253.798,254.575,255.098,255.798,256.469,257.174,257.876,258.034,258.615,259.405,259.628,260.436,261.085,262.113,262.525,263.131,263.955,264.605,265.111,265.823,266.44,266.809,267.555,267.95,268.488,268.938,269.752,270.354,270.345,270.303,270.825,271.256,271.835,272.479,272.897,273.127,273.78,274.336,274.582,275.181,276.125,277.364,278.65,279.75,280.9,281.979,283.532,285.453,286.849,288.259,290.151,291.549,null,null,null,null,null,null,null,null,null,null],\"type\":\"scatter\"},{\"mode\":\"lines\",\"name\":\"Household furnishings and operations\",\"x\":[\"1947-01-01T00:00:00.000000000\",\"1947-02-01T00:00:00.000000000\",\"1947-03-01T00:00:00.000000000\",\"1947-04-01T00:00:00.000000000\",\"1947-05-01T00:00:00.000000000\",\"1947-06-01T00:00:00.000000000\",\"1947-07-01T00:00:00.000000000\",\"1947-08-01T00:00:00.000000000\",\"1947-09-01T00:00:00.000000000\",\"1947-10-01T00:00:00.000000000\",\"1947-11-01T00:00:00.000000000\",\"1947-12-01T00:00:00.000000000\",\"1948-01-01T00:00:00.000000000\",\"1948-02-01T00:00:00.000000000\",\"1948-03-01T00:00:00.000000000\",\"1948-04-01T00:00:00.000000000\",\"1948-05-01T00:00:00.000000000\",\"1948-06-01T00:00:00.000000000\",\"1948-07-01T00:00:00.000000000\",\"1948-08-01T00:00:00.000000000\",\"1948-09-01T00:00:00.000000000\",\"1948-10-01T00:00:00.000000000\",\"1948-11-01T00:00:00.000000000\",\"1948-12-01T00:00:00.000000000\",\"1949-01-01T00:00:00.000000000\",\"1949-02-01T00:00:00.000000000\",\"1949-03-01T00:00:00.000000000\",\"1949-04-01T00:00:00.000000000\",\"1949-05-01T00:00:00.000000000\",\"1949-06-01T00:00:00.000000000\",\"1949-07-01T00:00:00.000000000\",\"1949-08-01T00:00:00.000000000\",\"1949-09-01T00:00:00.000000000\",\"1949-10-01T00:00:00.000000000\",\"1949-11-01T00:00:00.000000000\",\"1949-12-01T00:00:00.000000000\",\"1950-01-01T00:00:00.000000000\",\"1950-02-01T00:00:00.000000000\",\"1950-03-01T00:00:00.000000000\",\"1950-04-01T00:00:00.000000000\",\"1950-05-01T00:00:00.000000000\",\"1950-06-01T00:00:00.000000000\",\"1950-07-01T00:00:00.000000000\",\"1950-08-01T00:00:00.000000000\",\"1950-09-01T00:00:00.000000000\",\"1950-10-01T00:00:00.000000000\",\"1950-11-01T00:00:00.000000000\",\"1950-12-01T00:00:00.000000000\",\"1951-01-01T00:00:00.000000000\",\"1951-02-01T00:00:00.000000000\",\"1951-03-01T00:00:00.000000000\",\"1951-04-01T00:00:00.000000000\",\"1951-05-01T00:00:00.000000000\",\"1951-06-01T00:00:00.000000000\",\"1951-07-01T00:00:00.000000000\",\"1951-08-01T00:00:00.000000000\",\"1951-09-01T00:00:00.000000000\",\"1951-10-01T00:00:00.000000000\",\"1951-11-01T00:00:00.000000000\",\"1951-12-01T00:00:00.000000000\",\"1952-01-01T00:00:00.000000000\",\"1952-02-01T00:00:00.000000000\",\"1952-03-01T00:00:00.000000000\",\"1952-04-01T00:00:00.000000000\",\"1952-05-01T00:00:00.000000000\",\"1952-06-01T00:00:00.000000000\",\"1952-07-01T00:00:00.000000000\",\"1952-08-01T00:00:00.000000000\",\"1952-09-01T00:00:00.000000000\",\"1952-10-01T00:00:00.000000000\",\"1952-11-01T00:00:00.000000000\",\"1952-12-01T00:00:00.000000000\",\"1953-01-01T00:00:00.000000000\",\"1953-02-01T00:00:00.000000000\",\"1953-03-01T00:00:00.000000000\",\"1953-04-01T00:00:00.000000000\",\"1953-05-01T00:00:00.000000000\",\"1953-06-01T00:00:00.000000000\",\"1953-07-01T00:00:00.000000000\",\"1953-08-01T00:00:00.000000000\",\"1953-09-01T00:00:00.000000000\",\"1953-10-01T00:00:00.000000000\",\"1953-11-01T00:00:00.000000000\",\"1953-12-01T00:00:00.000000000\",\"1954-01-01T00:00:00.000000000\",\"1954-02-01T00:00:00.000000000\",\"1954-03-01T00:00:00.000000000\",\"1954-04-01T00:00:00.000000000\",\"1954-05-01T00:00:00.000000000\",\"1954-06-01T00:00:00.000000000\",\"1954-07-01T00:00:00.000000000\",\"1954-08-01T00:00:00.000000000\",\"1954-09-01T00:00:00.000000000\",\"1954-10-01T00:00:00.000000000\",\"1954-11-01T00:00:00.000000000\",\"1954-12-01T00:00:00.000000000\",\"1955-01-01T00:00:00.000000000\",\"1955-02-01T00:00:00.000000000\",\"1955-03-01T00:00:00.000000000\",\"1955-04-01T00:00:00.000000000\",\"1955-05-01T00:00:00.000000000\",\"1955-06-01T00:00:00.000000000\",\"1955-07-01T00:00:00.000000000\",\"1955-08-01T00:00:00.000000000\",\"1955-09-01T00:00:00.000000000\",\"1955-10-01T00:00:00.000000000\",\"1955-11-01T00:00:00.000000000\",\"1955-12-01T00:00:00.000000000\",\"1956-01-01T00:00:00.000000000\",\"1956-02-01T00:00:00.000000000\",\"1956-03-01T00:00:00.000000000\",\"1956-04-01T00:00:00.000000000\",\"1956-05-01T00:00:00.000000000\",\"1956-06-01T00:00:00.000000000\",\"1956-07-01T00:00:00.000000000\",\"1956-08-01T00:00:00.000000000\",\"1956-09-01T00:00:00.000000000\",\"1956-10-01T00:00:00.000000000\",\"1956-11-01T00:00:00.000000000\",\"1956-12-01T00:00:00.000000000\",\"1957-01-01T00:00:00.000000000\",\"1957-02-01T00:00:00.000000000\",\"1957-03-01T00:00:00.000000000\",\"1957-04-01T00:00:00.000000000\",\"1957-05-01T00:00:00.000000000\",\"1957-06-01T00:00:00.000000000\",\"1957-07-01T00:00:00.000000000\",\"1957-08-01T00:00:00.000000000\",\"1957-09-01T00:00:00.000000000\",\"1957-10-01T00:00:00.000000000\",\"1957-11-01T00:00:00.000000000\",\"1957-12-01T00:00:00.000000000\",\"1958-01-01T00:00:00.000000000\",\"1958-02-01T00:00:00.000000000\",\"1958-03-01T00:00:00.000000000\",\"1958-04-01T00:00:00.000000000\",\"1958-05-01T00:00:00.000000000\",\"1958-06-01T00:00:00.000000000\",\"1958-07-01T00:00:00.000000000\",\"1958-08-01T00:00:00.000000000\",\"1958-09-01T00:00:00.000000000\",\"1958-10-01T00:00:00.000000000\",\"1958-11-01T00:00:00.000000000\",\"1958-12-01T00:00:00.000000000\",\"1959-01-01T00:00:00.000000000\",\"1959-02-01T00:00:00.000000000\",\"1959-03-01T00:00:00.000000000\",\"1959-04-01T00:00:00.000000000\",\"1959-05-01T00:00:00.000000000\",\"1959-06-01T00:00:00.000000000\",\"1959-07-01T00:00:00.000000000\",\"1959-08-01T00:00:00.000000000\",\"1959-09-01T00:00:00.000000000\",\"1959-10-01T00:00:00.000000000\",\"1959-11-01T00:00:00.000000000\",\"1959-12-01T00:00:00.000000000\",\"1960-01-01T00:00:00.000000000\",\"1960-02-01T00:00:00.000000000\",\"1960-03-01T00:00:00.000000000\",\"1960-04-01T00:00:00.000000000\",\"1960-05-01T00:00:00.000000000\",\"1960-06-01T00:00:00.000000000\",\"1960-07-01T00:00:00.000000000\",\"1960-08-01T00:00:00.000000000\",\"1960-09-01T00:00:00.000000000\",\"1960-10-01T00:00:00.000000000\",\"1960-11-01T00:00:00.000000000\",\"1960-12-01T00:00:00.000000000\",\"1961-01-01T00:00:00.000000000\",\"1961-02-01T00:00:00.000000000\",\"1961-03-01T00:00:00.000000000\",\"1961-04-01T00:00:00.000000000\",\"1961-05-01T00:00:00.000000000\",\"1961-06-01T00:00:00.000000000\",\"1961-07-01T00:00:00.000000000\",\"1961-08-01T00:00:00.000000000\",\"1961-09-01T00:00:00.000000000\",\"1961-10-01T00:00:00.000000000\",\"1961-11-01T00:00:00.000000000\",\"1961-12-01T00:00:00.000000000\",\"1962-01-01T00:00:00.000000000\",\"1962-02-01T00:00:00.000000000\",\"1962-03-01T00:00:00.000000000\",\"1962-04-01T00:00:00.000000000\",\"1962-05-01T00:00:00.000000000\",\"1962-06-01T00:00:00.000000000\",\"1962-07-01T00:00:00.000000000\",\"1962-08-01T00:00:00.000000000\",\"1962-09-01T00:00:00.000000000\",\"1962-10-01T00:00:00.000000000\",\"1962-11-01T00:00:00.000000000\",\"1962-12-01T00:00:00.000000000\",\"1963-01-01T00:00:00.000000000\",\"1963-02-01T00:00:00.000000000\",\"1963-03-01T00:00:00.000000000\",\"1963-04-01T00:00:00.000000000\",\"1963-05-01T00:00:00.000000000\",\"1963-06-01T00:00:00.000000000\",\"1963-07-01T00:00:00.000000000\",\"1963-08-01T00:00:00.000000000\",\"1963-09-01T00:00:00.000000000\",\"1963-10-01T00:00:00.000000000\",\"1963-11-01T00:00:00.000000000\",\"1963-12-01T00:00:00.000000000\",\"1964-01-01T00:00:00.000000000\",\"1964-02-01T00:00:00.000000000\",\"1964-03-01T00:00:00.000000000\",\"1964-04-01T00:00:00.000000000\",\"1964-05-01T00:00:00.000000000\",\"1964-06-01T00:00:00.000000000\",\"1964-07-01T00:00:00.000000000\",\"1964-08-01T00:00:00.000000000\",\"1964-09-01T00:00:00.000000000\",\"1964-10-01T00:00:00.000000000\",\"1964-11-01T00:00:00.000000000\",\"1964-12-01T00:00:00.000000000\",\"1965-01-01T00:00:00.000000000\",\"1965-02-01T00:00:00.000000000\",\"1965-03-01T00:00:00.000000000\",\"1965-04-01T00:00:00.000000000\",\"1965-05-01T00:00:00.000000000\",\"1965-06-01T00:00:00.000000000\",\"1965-07-01T00:00:00.000000000\",\"1965-08-01T00:00:00.000000000\",\"1965-09-01T00:00:00.000000000\",\"1965-10-01T00:00:00.000000000\",\"1965-11-01T00:00:00.000000000\",\"1965-12-01T00:00:00.000000000\",\"1966-01-01T00:00:00.000000000\",\"1966-02-01T00:00:00.000000000\",\"1966-03-01T00:00:00.000000000\",\"1966-04-01T00:00:00.000000000\",\"1966-05-01T00:00:00.000000000\",\"1966-06-01T00:00:00.000000000\",\"1966-07-01T00:00:00.000000000\",\"1966-08-01T00:00:00.000000000\",\"1966-09-01T00:00:00.000000000\",\"1966-10-01T00:00:00.000000000\",\"1966-11-01T00:00:00.000000000\",\"1966-12-01T00:00:00.000000000\",\"1967-01-01T00:00:00.000000000\",\"1967-02-01T00:00:00.000000000\",\"1967-03-01T00:00:00.000000000\",\"1967-04-01T00:00:00.000000000\",\"1967-05-01T00:00:00.000000000\",\"1967-06-01T00:00:00.000000000\",\"1967-07-01T00:00:00.000000000\",\"1967-08-01T00:00:00.000000000\",\"1967-09-01T00:00:00.000000000\",\"1967-10-01T00:00:00.000000000\",\"1967-11-01T00:00:00.000000000\",\"1967-12-01T00:00:00.000000000\",\"1968-01-01T00:00:00.000000000\",\"1968-02-01T00:00:00.000000000\",\"1968-03-01T00:00:00.000000000\",\"1968-04-01T00:00:00.000000000\",\"1968-05-01T00:00:00.000000000\",\"1968-06-01T00:00:00.000000000\",\"1968-07-01T00:00:00.000000000\",\"1968-08-01T00:00:00.000000000\",\"1968-09-01T00:00:00.000000000\",\"1968-10-01T00:00:00.000000000\",\"1968-11-01T00:00:00.000000000\",\"1968-12-01T00:00:00.000000000\",\"1969-01-01T00:00:00.000000000\",\"1969-02-01T00:00:00.000000000\",\"1969-03-01T00:00:00.000000000\",\"1969-04-01T00:00:00.000000000\",\"1969-05-01T00:00:00.000000000\",\"1969-06-01T00:00:00.000000000\",\"1969-07-01T00:00:00.000000000\",\"1969-08-01T00:00:00.000000000\",\"1969-09-01T00:00:00.000000000\",\"1969-10-01T00:00:00.000000000\",\"1969-11-01T00:00:00.000000000\",\"1969-12-01T00:00:00.000000000\",\"1970-01-01T00:00:00.000000000\",\"1970-02-01T00:00:00.000000000\",\"1970-03-01T00:00:00.000000000\",\"1970-04-01T00:00:00.000000000\",\"1970-05-01T00:00:00.000000000\",\"1970-06-01T00:00:00.000000000\",\"1970-07-01T00:00:00.000000000\",\"1970-08-01T00:00:00.000000000\",\"1970-09-01T00:00:00.000000000\",\"1970-10-01T00:00:00.000000000\",\"1970-11-01T00:00:00.000000000\",\"1970-12-01T00:00:00.000000000\",\"1971-01-01T00:00:00.000000000\",\"1971-02-01T00:00:00.000000000\",\"1971-03-01T00:00:00.000000000\",\"1971-04-01T00:00:00.000000000\",\"1971-05-01T00:00:00.000000000\",\"1971-06-01T00:00:00.000000000\",\"1971-07-01T00:00:00.000000000\",\"1971-08-01T00:00:00.000000000\",\"1971-09-01T00:00:00.000000000\",\"1971-10-01T00:00:00.000000000\",\"1971-11-01T00:00:00.000000000\",\"1971-12-01T00:00:00.000000000\",\"1972-01-01T00:00:00.000000000\",\"1972-02-01T00:00:00.000000000\",\"1972-03-01T00:00:00.000000000\",\"1972-04-01T00:00:00.000000000\",\"1972-05-01T00:00:00.000000000\",\"1972-06-01T00:00:00.000000000\",\"1972-07-01T00:00:00.000000000\",\"1972-08-01T00:00:00.000000000\",\"1972-09-01T00:00:00.000000000\",\"1972-10-01T00:00:00.000000000\",\"1972-11-01T00:00:00.000000000\",\"1972-12-01T00:00:00.000000000\",\"1973-01-01T00:00:00.000000000\",\"1973-02-01T00:00:00.000000000\",\"1973-03-01T00:00:00.000000000\",\"1973-04-01T00:00:00.000000000\",\"1973-05-01T00:00:00.000000000\",\"1973-06-01T00:00:00.000000000\",\"1973-07-01T00:00:00.000000000\",\"1973-08-01T00:00:00.000000000\",\"1973-09-01T00:00:00.000000000\",\"1973-10-01T00:00:00.000000000\",\"1973-11-01T00:00:00.000000000\",\"1973-12-01T00:00:00.000000000\",\"1974-01-01T00:00:00.000000000\",\"1974-02-01T00:00:00.000000000\",\"1974-03-01T00:00:00.000000000\",\"1974-04-01T00:00:00.000000000\",\"1974-05-01T00:00:00.000000000\",\"1974-06-01T00:00:00.000000000\",\"1974-07-01T00:00:00.000000000\",\"1974-08-01T00:00:00.000000000\",\"1974-09-01T00:00:00.000000000\",\"1974-10-01T00:00:00.000000000\",\"1974-11-01T00:00:00.000000000\",\"1974-12-01T00:00:00.000000000\",\"1975-01-01T00:00:00.000000000\",\"1975-02-01T00:00:00.000000000\",\"1975-03-01T00:00:00.000000000\",\"1975-04-01T00:00:00.000000000\",\"1975-05-01T00:00:00.000000000\",\"1975-06-01T00:00:00.000000000\",\"1975-07-01T00:00:00.000000000\",\"1975-08-01T00:00:00.000000000\",\"1975-09-01T00:00:00.000000000\",\"1975-10-01T00:00:00.000000000\",\"1975-11-01T00:00:00.000000000\",\"1975-12-01T00:00:00.000000000\",\"1976-01-01T00:00:00.000000000\",\"1976-02-01T00:00:00.000000000\",\"1976-03-01T00:00:00.000000000\",\"1976-04-01T00:00:00.000000000\",\"1976-05-01T00:00:00.000000000\",\"1976-06-01T00:00:00.000000000\",\"1976-07-01T00:00:00.000000000\",\"1976-08-01T00:00:00.000000000\",\"1976-09-01T00:00:00.000000000\",\"1976-10-01T00:00:00.000000000\",\"1976-11-01T00:00:00.000000000\",\"1976-12-01T00:00:00.000000000\",\"1977-01-01T00:00:00.000000000\",\"1977-02-01T00:00:00.000000000\",\"1977-03-01T00:00:00.000000000\",\"1977-04-01T00:00:00.000000000\",\"1977-05-01T00:00:00.000000000\",\"1977-06-01T00:00:00.000000000\",\"1977-07-01T00:00:00.000000000\",\"1977-08-01T00:00:00.000000000\",\"1977-09-01T00:00:00.000000000\",\"1977-10-01T00:00:00.000000000\",\"1977-11-01T00:00:00.000000000\",\"1977-12-01T00:00:00.000000000\",\"1978-01-01T00:00:00.000000000\",\"1978-02-01T00:00:00.000000000\",\"1978-03-01T00:00:00.000000000\",\"1978-04-01T00:00:00.000000000\",\"1978-05-01T00:00:00.000000000\",\"1978-06-01T00:00:00.000000000\",\"1978-07-01T00:00:00.000000000\",\"1978-08-01T00:00:00.000000000\",\"1978-09-01T00:00:00.000000000\",\"1978-10-01T00:00:00.000000000\",\"1978-11-01T00:00:00.000000000\",\"1978-12-01T00:00:00.000000000\",\"1979-01-01T00:00:00.000000000\",\"1979-02-01T00:00:00.000000000\",\"1979-03-01T00:00:00.000000000\",\"1979-04-01T00:00:00.000000000\",\"1979-05-01T00:00:00.000000000\",\"1979-06-01T00:00:00.000000000\",\"1979-07-01T00:00:00.000000000\",\"1979-08-01T00:00:00.000000000\",\"1979-09-01T00:00:00.000000000\",\"1979-10-01T00:00:00.000000000\",\"1979-11-01T00:00:00.000000000\",\"1979-12-01T00:00:00.000000000\",\"1980-01-01T00:00:00.000000000\",\"1980-02-01T00:00:00.000000000\",\"1980-03-01T00:00:00.000000000\",\"1980-04-01T00:00:00.000000000\",\"1980-05-01T00:00:00.000000000\",\"1980-06-01T00:00:00.000000000\",\"1980-07-01T00:00:00.000000000\",\"1980-08-01T00:00:00.000000000\",\"1980-09-01T00:00:00.000000000\",\"1980-10-01T00:00:00.000000000\",\"1980-11-01T00:00:00.000000000\",\"1980-12-01T00:00:00.000000000\",\"1981-01-01T00:00:00.000000000\",\"1981-02-01T00:00:00.000000000\",\"1981-03-01T00:00:00.000000000\",\"1981-04-01T00:00:00.000000000\",\"1981-05-01T00:00:00.000000000\",\"1981-06-01T00:00:00.000000000\",\"1981-07-01T00:00:00.000000000\",\"1981-08-01T00:00:00.000000000\",\"1981-09-01T00:00:00.000000000\",\"1981-10-01T00:00:00.000000000\",\"1981-11-01T00:00:00.000000000\",\"1981-12-01T00:00:00.000000000\",\"1982-01-01T00:00:00.000000000\",\"1982-02-01T00:00:00.000000000\",\"1982-03-01T00:00:00.000000000\",\"1982-04-01T00:00:00.000000000\",\"1982-05-01T00:00:00.000000000\",\"1982-06-01T00:00:00.000000000\",\"1982-07-01T00:00:00.000000000\",\"1982-08-01T00:00:00.000000000\",\"1982-09-01T00:00:00.000000000\",\"1982-10-01T00:00:00.000000000\",\"1982-11-01T00:00:00.000000000\",\"1982-12-01T00:00:00.000000000\",\"1983-01-01T00:00:00.000000000\",\"1983-02-01T00:00:00.000000000\",\"1983-03-01T00:00:00.000000000\",\"1983-04-01T00:00:00.000000000\",\"1983-05-01T00:00:00.000000000\",\"1983-06-01T00:00:00.000000000\",\"1983-07-01T00:00:00.000000000\",\"1983-08-01T00:00:00.000000000\",\"1983-09-01T00:00:00.000000000\",\"1983-10-01T00:00:00.000000000\",\"1983-11-01T00:00:00.000000000\",\"1983-12-01T00:00:00.000000000\",\"1984-01-01T00:00:00.000000000\",\"1984-02-01T00:00:00.000000000\",\"1984-03-01T00:00:00.000000000\",\"1984-04-01T00:00:00.000000000\",\"1984-05-01T00:00:00.000000000\",\"1984-06-01T00:00:00.000000000\",\"1984-07-01T00:00:00.000000000\",\"1984-08-01T00:00:00.000000000\",\"1984-09-01T00:00:00.000000000\",\"1984-10-01T00:00:00.000000000\",\"1984-11-01T00:00:00.000000000\",\"1984-12-01T00:00:00.000000000\",\"1985-01-01T00:00:00.000000000\",\"1985-02-01T00:00:00.000000000\",\"1985-03-01T00:00:00.000000000\",\"1985-04-01T00:00:00.000000000\",\"1985-05-01T00:00:00.000000000\",\"1985-06-01T00:00:00.000000000\",\"1985-07-01T00:00:00.000000000\",\"1985-08-01T00:00:00.000000000\",\"1985-09-01T00:00:00.000000000\",\"1985-10-01T00:00:00.000000000\",\"1985-11-01T00:00:00.000000000\",\"1985-12-01T00:00:00.000000000\",\"1986-01-01T00:00:00.000000000\",\"1986-02-01T00:00:00.000000000\",\"1986-03-01T00:00:00.000000000\",\"1986-04-01T00:00:00.000000000\",\"1986-05-01T00:00:00.000000000\",\"1986-06-01T00:00:00.000000000\",\"1986-07-01T00:00:00.000000000\",\"1986-08-01T00:00:00.000000000\",\"1986-09-01T00:00:00.000000000\",\"1986-10-01T00:00:00.000000000\",\"1986-11-01T00:00:00.000000000\",\"1986-12-01T00:00:00.000000000\",\"1987-01-01T00:00:00.000000000\",\"1987-02-01T00:00:00.000000000\",\"1987-03-01T00:00:00.000000000\",\"1987-04-01T00:00:00.000000000\",\"1987-05-01T00:00:00.000000000\",\"1987-06-01T00:00:00.000000000\",\"1987-07-01T00:00:00.000000000\",\"1987-08-01T00:00:00.000000000\",\"1987-09-01T00:00:00.000000000\",\"1987-10-01T00:00:00.000000000\",\"1987-11-01T00:00:00.000000000\",\"1987-12-01T00:00:00.000000000\",\"1988-01-01T00:00:00.000000000\",\"1988-02-01T00:00:00.000000000\",\"1988-03-01T00:00:00.000000000\",\"1988-04-01T00:00:00.000000000\",\"1988-05-01T00:00:00.000000000\",\"1988-06-01T00:00:00.000000000\",\"1988-07-01T00:00:00.000000000\",\"1988-08-01T00:00:00.000000000\",\"1988-09-01T00:00:00.000000000\",\"1988-10-01T00:00:00.000000000\",\"1988-11-01T00:00:00.000000000\",\"1988-12-01T00:00:00.000000000\",\"1989-01-01T00:00:00.000000000\",\"1989-02-01T00:00:00.000000000\",\"1989-03-01T00:00:00.000000000\",\"1989-04-01T00:00:00.000000000\",\"1989-05-01T00:00:00.000000000\",\"1989-06-01T00:00:00.000000000\",\"1989-07-01T00:00:00.000000000\",\"1989-08-01T00:00:00.000000000\",\"1989-09-01T00:00:00.000000000\",\"1989-10-01T00:00:00.000000000\",\"1989-11-01T00:00:00.000000000\",\"1989-12-01T00:00:00.000000000\",\"1990-01-01T00:00:00.000000000\",\"1990-02-01T00:00:00.000000000\",\"1990-03-01T00:00:00.000000000\",\"1990-04-01T00:00:00.000000000\",\"1990-05-01T00:00:00.000000000\",\"1990-06-01T00:00:00.000000000\",\"1990-07-01T00:00:00.000000000\",\"1990-08-01T00:00:00.000000000\",\"1990-09-01T00:00:00.000000000\",\"1990-10-01T00:00:00.000000000\",\"1990-11-01T00:00:00.000000000\",\"1990-12-01T00:00:00.000000000\",\"1991-01-01T00:00:00.000000000\",\"1991-02-01T00:00:00.000000000\",\"1991-03-01T00:00:00.000000000\",\"1991-04-01T00:00:00.000000000\",\"1991-05-01T00:00:00.000000000\",\"1991-06-01T00:00:00.000000000\",\"1991-07-01T00:00:00.000000000\",\"1991-08-01T00:00:00.000000000\",\"1991-09-01T00:00:00.000000000\",\"1991-10-01T00:00:00.000000000\",\"1991-11-01T00:00:00.000000000\",\"1991-12-01T00:00:00.000000000\",\"1992-01-01T00:00:00.000000000\",\"1992-02-01T00:00:00.000000000\",\"1992-03-01T00:00:00.000000000\",\"1992-04-01T00:00:00.000000000\",\"1992-05-01T00:00:00.000000000\",\"1992-06-01T00:00:00.000000000\",\"1992-07-01T00:00:00.000000000\",\"1992-08-01T00:00:00.000000000\",\"1992-09-01T00:00:00.000000000\",\"1992-10-01T00:00:00.000000000\",\"1992-11-01T00:00:00.000000000\",\"1992-12-01T00:00:00.000000000\",\"1993-01-01T00:00:00.000000000\",\"1993-02-01T00:00:00.000000000\",\"1993-03-01T00:00:00.000000000\",\"1993-04-01T00:00:00.000000000\",\"1993-05-01T00:00:00.000000000\",\"1993-06-01T00:00:00.000000000\",\"1993-07-01T00:00:00.000000000\",\"1993-08-01T00:00:00.000000000\",\"1993-09-01T00:00:00.000000000\",\"1993-10-01T00:00:00.000000000\",\"1993-11-01T00:00:00.000000000\",\"1993-12-01T00:00:00.000000000\",\"1994-01-01T00:00:00.000000000\",\"1994-02-01T00:00:00.000000000\",\"1994-03-01T00:00:00.000000000\",\"1994-04-01T00:00:00.000000000\",\"1994-05-01T00:00:00.000000000\",\"1994-06-01T00:00:00.000000000\",\"1994-07-01T00:00:00.000000000\",\"1994-08-01T00:00:00.000000000\",\"1994-09-01T00:00:00.000000000\",\"1994-10-01T00:00:00.000000000\",\"1994-11-01T00:00:00.000000000\",\"1994-12-01T00:00:00.000000000\",\"1995-01-01T00:00:00.000000000\",\"1995-02-01T00:00:00.000000000\",\"1995-03-01T00:00:00.000000000\",\"1995-04-01T00:00:00.000000000\",\"1995-05-01T00:00:00.000000000\",\"1995-06-01T00:00:00.000000000\",\"1995-07-01T00:00:00.000000000\",\"1995-08-01T00:00:00.000000000\",\"1995-09-01T00:00:00.000000000\",\"1995-10-01T00:00:00.000000000\",\"1995-11-01T00:00:00.000000000\",\"1995-12-01T00:00:00.000000000\",\"1996-01-01T00:00:00.000000000\",\"1996-02-01T00:00:00.000000000\",\"1996-03-01T00:00:00.000000000\",\"1996-04-01T00:00:00.000000000\",\"1996-05-01T00:00:00.000000000\",\"1996-06-01T00:00:00.000000000\",\"1996-07-01T00:00:00.000000000\",\"1996-08-01T00:00:00.000000000\",\"1996-09-01T00:00:00.000000000\",\"1996-10-01T00:00:00.000000000\",\"1996-11-01T00:00:00.000000000\",\"1996-12-01T00:00:00.000000000\",\"1997-01-01T00:00:00.000000000\",\"1997-02-01T00:00:00.000000000\",\"1997-03-01T00:00:00.000000000\",\"1997-04-01T00:00:00.000000000\",\"1997-05-01T00:00:00.000000000\",\"1997-06-01T00:00:00.000000000\",\"1997-07-01T00:00:00.000000000\",\"1997-08-01T00:00:00.000000000\",\"1997-09-01T00:00:00.000000000\",\"1997-10-01T00:00:00.000000000\",\"1997-11-01T00:00:00.000000000\",\"1997-12-01T00:00:00.000000000\",\"1998-01-01T00:00:00.000000000\",\"1998-02-01T00:00:00.000000000\",\"1998-03-01T00:00:00.000000000\",\"1998-04-01T00:00:00.000000000\",\"1998-05-01T00:00:00.000000000\",\"1998-06-01T00:00:00.000000000\",\"1998-07-01T00:00:00.000000000\",\"1998-08-01T00:00:00.000000000\",\"1998-09-01T00:00:00.000000000\",\"1998-10-01T00:00:00.000000000\",\"1998-11-01T00:00:00.000000000\",\"1998-12-01T00:00:00.000000000\",\"1999-01-01T00:00:00.000000000\",\"1999-02-01T00:00:00.000000000\",\"1999-03-01T00:00:00.000000000\",\"1999-04-01T00:00:00.000000000\",\"1999-05-01T00:00:00.000000000\",\"1999-06-01T00:00:00.000000000\",\"1999-07-01T00:00:00.000000000\",\"1999-08-01T00:00:00.000000000\",\"1999-09-01T00:00:00.000000000\",\"1999-10-01T00:00:00.000000000\",\"1999-11-01T00:00:00.000000000\",\"1999-12-01T00:00:00.000000000\",\"2000-01-01T00:00:00.000000000\",\"2000-02-01T00:00:00.000000000\",\"2000-03-01T00:00:00.000000000\",\"2000-04-01T00:00:00.000000000\",\"2000-05-01T00:00:00.000000000\",\"2000-06-01T00:00:00.000000000\",\"2000-07-01T00:00:00.000000000\",\"2000-08-01T00:00:00.000000000\",\"2000-09-01T00:00:00.000000000\",\"2000-10-01T00:00:00.000000000\",\"2000-11-01T00:00:00.000000000\",\"2000-12-01T00:00:00.000000000\",\"2001-01-01T00:00:00.000000000\",\"2001-02-01T00:00:00.000000000\",\"2001-03-01T00:00:00.000000000\",\"2001-04-01T00:00:00.000000000\",\"2001-05-01T00:00:00.000000000\",\"2001-06-01T00:00:00.000000000\",\"2001-07-01T00:00:00.000000000\",\"2001-08-01T00:00:00.000000000\",\"2001-09-01T00:00:00.000000000\",\"2001-10-01T00:00:00.000000000\",\"2001-11-01T00:00:00.000000000\",\"2001-12-01T00:00:00.000000000\",\"2002-01-01T00:00:00.000000000\",\"2002-02-01T00:00:00.000000000\",\"2002-03-01T00:00:00.000000000\",\"2002-04-01T00:00:00.000000000\",\"2002-05-01T00:00:00.000000000\",\"2002-06-01T00:00:00.000000000\",\"2002-07-01T00:00:00.000000000\",\"2002-08-01T00:00:00.000000000\",\"2002-09-01T00:00:00.000000000\",\"2002-10-01T00:00:00.000000000\",\"2002-11-01T00:00:00.000000000\",\"2002-12-01T00:00:00.000000000\",\"2003-01-01T00:00:00.000000000\",\"2003-02-01T00:00:00.000000000\",\"2003-03-01T00:00:00.000000000\",\"2003-04-01T00:00:00.000000000\",\"2003-05-01T00:00:00.000000000\",\"2003-06-01T00:00:00.000000000\",\"2003-07-01T00:00:00.000000000\",\"2003-08-01T00:00:00.000000000\",\"2003-09-01T00:00:00.000000000\",\"2003-10-01T00:00:00.000000000\",\"2003-11-01T00:00:00.000000000\",\"2003-12-01T00:00:00.000000000\",\"2004-01-01T00:00:00.000000000\",\"2004-02-01T00:00:00.000000000\",\"2004-03-01T00:00:00.000000000\",\"2004-04-01T00:00:00.000000000\",\"2004-05-01T00:00:00.000000000\",\"2004-06-01T00:00:00.000000000\",\"2004-07-01T00:00:00.000000000\",\"2004-08-01T00:00:00.000000000\",\"2004-09-01T00:00:00.000000000\",\"2004-10-01T00:00:00.000000000\",\"2004-11-01T00:00:00.000000000\",\"2004-12-01T00:00:00.000000000\",\"2005-01-01T00:00:00.000000000\",\"2005-02-01T00:00:00.000000000\",\"2005-03-01T00:00:00.000000000\",\"2005-04-01T00:00:00.000000000\",\"2005-05-01T00:00:00.000000000\",\"2005-06-01T00:00:00.000000000\",\"2005-07-01T00:00:00.000000000\",\"2005-08-01T00:00:00.000000000\",\"2005-09-01T00:00:00.000000000\",\"2005-10-01T00:00:00.000000000\",\"2005-11-01T00:00:00.000000000\",\"2005-12-01T00:00:00.000000000\",\"2006-01-01T00:00:00.000000000\",\"2006-02-01T00:00:00.000000000\",\"2006-03-01T00:00:00.000000000\",\"2006-04-01T00:00:00.000000000\",\"2006-05-01T00:00:00.000000000\",\"2006-06-01T00:00:00.000000000\",\"2006-07-01T00:00:00.000000000\",\"2006-08-01T00:00:00.000000000\",\"2006-09-01T00:00:00.000000000\",\"2006-10-01T00:00:00.000000000\",\"2006-11-01T00:00:00.000000000\",\"2006-12-01T00:00:00.000000000\",\"2007-01-01T00:00:00.000000000\",\"2007-02-01T00:00:00.000000000\",\"2007-03-01T00:00:00.000000000\",\"2007-04-01T00:00:00.000000000\",\"2007-05-01T00:00:00.000000000\",\"2007-06-01T00:00:00.000000000\",\"2007-07-01T00:00:00.000000000\",\"2007-08-01T00:00:00.000000000\",\"2007-09-01T00:00:00.000000000\",\"2007-10-01T00:00:00.000000000\",\"2007-11-01T00:00:00.000000000\",\"2007-12-01T00:00:00.000000000\",\"2008-01-01T00:00:00.000000000\",\"2008-02-01T00:00:00.000000000\",\"2008-03-01T00:00:00.000000000\",\"2008-04-01T00:00:00.000000000\",\"2008-05-01T00:00:00.000000000\",\"2008-06-01T00:00:00.000000000\",\"2008-07-01T00:00:00.000000000\",\"2008-08-01T00:00:00.000000000\",\"2008-09-01T00:00:00.000000000\",\"2008-10-01T00:00:00.000000000\",\"2008-11-01T00:00:00.000000000\",\"2008-12-01T00:00:00.000000000\",\"2009-01-01T00:00:00.000000000\",\"2009-02-01T00:00:00.000000000\",\"2009-03-01T00:00:00.000000000\",\"2009-04-01T00:00:00.000000000\",\"2009-05-01T00:00:00.000000000\",\"2009-06-01T00:00:00.000000000\",\"2009-07-01T00:00:00.000000000\",\"2009-08-01T00:00:00.000000000\",\"2009-09-01T00:00:00.000000000\",\"2009-10-01T00:00:00.000000000\",\"2009-11-01T00:00:00.000000000\",\"2009-12-01T00:00:00.000000000\",\"2010-01-01T00:00:00.000000000\",\"2010-02-01T00:00:00.000000000\",\"2010-03-01T00:00:00.000000000\",\"2010-04-01T00:00:00.000000000\",\"2010-05-01T00:00:00.000000000\",\"2010-06-01T00:00:00.000000000\",\"2010-07-01T00:00:00.000000000\",\"2010-08-01T00:00:00.000000000\",\"2010-09-01T00:00:00.000000000\",\"2010-10-01T00:00:00.000000000\",\"2010-11-01T00:00:00.000000000\",\"2010-12-01T00:00:00.000000000\",\"2011-01-01T00:00:00.000000000\",\"2011-02-01T00:00:00.000000000\",\"2011-03-01T00:00:00.000000000\",\"2011-04-01T00:00:00.000000000\",\"2011-05-01T00:00:00.000000000\",\"2011-06-01T00:00:00.000000000\",\"2011-07-01T00:00:00.000000000\",\"2011-08-01T00:00:00.000000000\",\"2011-09-01T00:00:00.000000000\",\"2011-10-01T00:00:00.000000000\",\"2011-11-01T00:00:00.000000000\",\"2011-12-01T00:00:00.000000000\",\"2012-01-01T00:00:00.000000000\",\"2012-02-01T00:00:00.000000000\",\"2012-03-01T00:00:00.000000000\",\"2012-04-01T00:00:00.000000000\",\"2012-05-01T00:00:00.000000000\",\"2012-06-01T00:00:00.000000000\",\"2012-07-01T00:00:00.000000000\",\"2012-08-01T00:00:00.000000000\",\"2012-09-01T00:00:00.000000000\",\"2012-10-01T00:00:00.000000000\",\"2012-11-01T00:00:00.000000000\",\"2012-12-01T00:00:00.000000000\",\"2013-01-01T00:00:00.000000000\",\"2013-02-01T00:00:00.000000000\",\"2013-03-01T00:00:00.000000000\",\"2013-04-01T00:00:00.000000000\",\"2013-05-01T00:00:00.000000000\",\"2013-06-01T00:00:00.000000000\",\"2013-07-01T00:00:00.000000000\",\"2013-08-01T00:00:00.000000000\",\"2013-09-01T00:00:00.000000000\",\"2013-10-01T00:00:00.000000000\",\"2013-11-01T00:00:00.000000000\",\"2013-12-01T00:00:00.000000000\",\"2014-01-01T00:00:00.000000000\",\"2014-02-01T00:00:00.000000000\",\"2014-03-01T00:00:00.000000000\",\"2014-04-01T00:00:00.000000000\",\"2014-05-01T00:00:00.000000000\",\"2014-06-01T00:00:00.000000000\",\"2014-07-01T00:00:00.000000000\",\"2014-08-01T00:00:00.000000000\",\"2014-09-01T00:00:00.000000000\",\"2014-10-01T00:00:00.000000000\",\"2014-11-01T00:00:00.000000000\",\"2014-12-01T00:00:00.000000000\",\"2015-01-01T00:00:00.000000000\",\"2015-02-01T00:00:00.000000000\",\"2015-03-01T00:00:00.000000000\",\"2015-04-01T00:00:00.000000000\",\"2015-05-01T00:00:00.000000000\",\"2015-06-01T00:00:00.000000000\",\"2015-07-01T00:00:00.000000000\",\"2015-08-01T00:00:00.000000000\",\"2015-09-01T00:00:00.000000000\",\"2015-10-01T00:00:00.000000000\",\"2015-11-01T00:00:00.000000000\",\"2015-12-01T00:00:00.000000000\",\"2016-01-01T00:00:00.000000000\",\"2016-02-01T00:00:00.000000000\",\"2016-03-01T00:00:00.000000000\",\"2016-04-01T00:00:00.000000000\",\"2016-05-01T00:00:00.000000000\",\"2016-06-01T00:00:00.000000000\",\"2016-07-01T00:00:00.000000000\",\"2016-08-01T00:00:00.000000000\",\"2016-09-01T00:00:00.000000000\",\"2016-10-01T00:00:00.000000000\",\"2016-11-01T00:00:00.000000000\",\"2016-12-01T00:00:00.000000000\",\"2017-01-01T00:00:00.000000000\",\"2017-02-01T00:00:00.000000000\",\"2017-03-01T00:00:00.000000000\",\"2017-04-01T00:00:00.000000000\",\"2017-05-01T00:00:00.000000000\",\"2017-06-01T00:00:00.000000000\",\"2017-07-01T00:00:00.000000000\",\"2017-08-01T00:00:00.000000000\",\"2017-09-01T00:00:00.000000000\",\"2017-10-01T00:00:00.000000000\",\"2017-11-01T00:00:00.000000000\",\"2017-12-01T00:00:00.000000000\",\"2018-01-01T00:00:00.000000000\",\"2018-02-01T00:00:00.000000000\",\"2018-03-01T00:00:00.000000000\",\"2018-04-01T00:00:00.000000000\",\"2018-05-01T00:00:00.000000000\",\"2018-06-01T00:00:00.000000000\",\"2018-07-01T00:00:00.000000000\",\"2018-08-01T00:00:00.000000000\",\"2018-09-01T00:00:00.000000000\",\"2018-10-01T00:00:00.000000000\",\"2018-11-01T00:00:00.000000000\",\"2018-12-01T00:00:00.000000000\",\"2019-01-01T00:00:00.000000000\",\"2019-02-01T00:00:00.000000000\",\"2019-03-01T00:00:00.000000000\",\"2019-04-01T00:00:00.000000000\",\"2019-05-01T00:00:00.000000000\",\"2019-06-01T00:00:00.000000000\",\"2019-07-01T00:00:00.000000000\",\"2019-08-01T00:00:00.000000000\",\"2019-09-01T00:00:00.000000000\",\"2019-10-01T00:00:00.000000000\",\"2019-11-01T00:00:00.000000000\",\"2019-12-01T00:00:00.000000000\",\"2020-01-01T00:00:00.000000000\",\"2020-02-01T00:00:00.000000000\",\"2020-03-01T00:00:00.000000000\",\"2020-04-01T00:00:00.000000000\",\"2020-05-01T00:00:00.000000000\",\"2020-06-01T00:00:00.000000000\",\"2020-07-01T00:00:00.000000000\",\"2020-08-01T00:00:00.000000000\",\"2020-09-01T00:00:00.000000000\",\"2020-10-01T00:00:00.000000000\",\"2020-11-01T00:00:00.000000000\",\"2020-12-01T00:00:00.000000000\",\"2021-01-01T00:00:00.000000000\",\"2021-02-01T00:00:00.000000000\",\"2021-03-01T00:00:00.000000000\",\"2021-04-01T00:00:00.000000000\",\"2021-05-01T00:00:00.000000000\",\"2021-06-01T00:00:00.000000000\",\"2021-07-01T00:00:00.000000000\",\"2021-08-01T00:00:00.000000000\",\"2021-09-01T00:00:00.000000000\",\"2021-10-01T00:00:00.000000000\",\"2021-11-01T00:00:00.000000000\",\"2021-12-01T00:00:00.000000000\",\"2022-01-01T00:00:00.000000000\",\"2022-02-01T00:00:00.000000000\",\"2022-03-01T00:00:00.000000000\",\"2022-04-01T00:00:00.000000000\",\"2022-05-01T00:00:00.000000000\",\"2022-06-01T00:00:00.000000000\",\"2022-07-01T00:00:00.000000000\",\"2022-08-01T00:00:00.000000000\",\"2022-09-01T00:00:00.000000000\",\"2022-10-01T00:00:00.000000000\",\"2022-11-01T00:00:00.000000000\",\"2022-12-01T00:00:00.000000000\"],\"y\":[null,null,null,null,null,null,null,null,null,null,null,null,null,null,null,null,null,null,null,null,null,null,null,null,null,null,null,null,null,null,null,null,null,null,null,null,null,null,null,null,null,null,null,null,null,null,null,null,null,null,null,null,null,null,null,null,null,null,null,null,null,null,null,null,null,null,null,null,null,null,null,null,null,null,null,null,null,null,null,null,null,null,null,null,null,null,null,null,null,null,null,null,null,null,null,null,null,null,null,null,null,null,null,null,null,null,null,null,null,null,null,null,null,null,null,null,null,null,null,null,null,null,null,null,null,null,null,null,null,null,null,null,null,null,null,null,null,null,null,null,null,null,null,null,null,null,null,null,null,null,null,null,null,null,null,null,null,null,null,null,null,null,null,null,null,null,null,null,null,null,null,null,null,null,null,null,null,null,null,null,null,null,null,null,null,null,null,null,null,null,null,null,null,null,null,null,null,null,null,null,null,null,null,null,null,null,null,null,null,null,null,null,null,null,null,null,null,null,null,null,null,null,null,null,null,null,null,null,null,null,null,null,null,null,null,null,null,null,null,null,41.6,41.7,41.7,41.8,41.8,41.9,42.0,42.1,42.2,42.3,42.4,42.6,42.9,43.0,43.2,43.3,43.4,43.5,43.6,43.8,43.9,44.0,44.2,44.4,44.4,44.6,44.7,44.9,45.0,45.2,45.3,45.5,45.6,45.7,45.7,45.9,46.0,46.3,46.5,46.5,46.7,46.8,46.8,47.0,47.1,47.3,47.5,47.6,47.7,47.8,47.9,48.1,48.5,48.7,48.8,49.0,49.0,49.1,49.1,49.2,49.2,49.2,49.4,49.4,49.6,49.6,49.7,49.8,49.9,49.9,50.0,50.2,50.2,50.3,50.4,50.6,50.7,51.0,51.1,51.3,51.5,51.7,52.0,52.2,52.7,53.1,53.9,54.4,55.5,56.3,57.1,58.1,59.0,59.8,60.6,61.2,61.6,62.1,62.4,62.8,63.1,63.4,63.6,63.8,64.1,64.4,64.6,64.8,65.7,66.1,66.5,66.7,66.8,67.1,67.4,67.6,67.8,68.1,68.4,68.6,68.9,69.2,69.4,69.5,69.8,70.2,70.5,70.8,71.0,71.3,71.5,71.9,72.2,72.3,72.8,73.3,73.8,74.4,74.8,75.3,75.8,76.4,76.9,77.4,77.9,78.2,78.6,79.0,79.3,79.7,80.0,80.4,80.7,81.2,82.0,82.5,83.0,83.6,84.4,84.9,85.5,86.1,86.6,87.2,87.9,88.3,88.6,89.1,89.6,90.3,90.9,91.7,92.1,92.7,93.3,93.9,94.4,94.8,95.5,95.8,96.2,96.7,97.1,97.3,97.8,98.0,98.3,98.3,98.5,98.9,98.8,99.1,99.3,99.4,99.6,100.0,99.9,100.1,100.3,100.3,100.3,100.6,100.9,101.2,101.2,101.0,101.2,101.4,101.6,101.7,101.5,102.0,102.5,102.6,102.6,102.7,102.5,103.3,103.6,104.0,103.9,103.7,103.5,103.7,103.8,104.4,104.6,104.5,104.5,104.6,104.9,104.9,105.0,105.1,105.2,105.2,105.7,105.7,105.5,106.1,106.4,106.6,106.9,107.3,107.2,107.2,107.3,107.4,107.6,107.5,107.5,107.4,107.5,107.7,108.3,109.2,109.3,109.7,109.9,109.7,110.2,110.3,110.6,110.6,111.0,110.7,110.4,110.6,110.6,111.0,111.2,111.4,111.6,112.0,112.0,112.1,112.5,112.7,112.6,112.6,112.9,113.0,113.3,113.4,113.8,114.3,114.0,114.1,114.5,115.5,115.5,115.6,116.1,115.9,116.1,116.2,116.4,116.5,116.6,116.7,117.0,117.2,117.5,117.7,117.7,118.2,118.2,118.3,118.3,118.5,118.7,118.6,118.5,118.5,118.4,119.0,118.9,119.1,118.7,119.2,119.6,120.1,120.5,120.6,120.8,120.4,120.4,120.4,121.0,121.4,121.4,121.4,121.3,121.4,121.3,121.1,122.0,122.3,122.4,122.5,122.6,122.4,122.9,123.4,123.6,123.9,123.8,124.0,124.3,124.2,124.4,124.6,124.3,124.5,124.7,124.8,125.0,125.0,125.0,125.2,125.1,125.2,125.2,125.4,125.7,125.6,125.5,125.2,125.3,125.3,125.5,125.4,125.8,126.1,126.2,126.6,126.6,126.6,127.1,126.8,126.3,126.7,126.8,127.0,127.0,126.8,126.6,126.7,126.7,126.7,126.7,126.8,126.8,126.7,126.6,126.8,127.2,127.2,127.8,127.8,128.1,128.0,128.4,128.6,128.9,128.9,129.1,129.1,128.9,129.0,129.0,128.7,128.8,129.1,129.1,129.2,129.3,129.1,129.2,129.4,128.8,128.5,128.5,128.6,128.8,128.6,128.5,128.2,128.1,128.1,127.9,127.5,127.5,127.4,127.0,126.9,126.2,126.1,126.1,125.7,125.3,125.2,125.0,125.2,125.3,125.4,125.5,125.3,125.3,125.4,125.2,125.0,125.3,126.2,125.9,125.9,126.0,125.8,125.8,126.0,126.5,125.8,125.9,126.0,126.0,126.0,126.3,126.8,126.4,126.6,126.4,126.6,127.0,127.1,127.1,127.3,127.4,127.6,127.4,127.4,127.23,127.353,127.366,127.18,127.017,127.048,126.865,126.662,126.446,126.353,126.514,126.478,126.652,126.662,127.035,127.092,127.286,127.336,127.807,128.116,128.84,128.944,128.898,128.978,128.919,129.08,129.294,129.394,129.296,129.335,129.192,128.376,128.441,127.883,127.646,127.568,127.331,126.819,126.42,125.751,125.687,125.311,125.166,125.062,124.763,124.683,124.515,124.353,124.426,124.462,124.47,124.67,124.786,124.749,124.876,125.191,125.246,125.382,125.451,125.607,125.666,125.979,125.886,125.9,125.603,125.728,126.014,125.701,125.547,125.436,125.889,125.628,125.424,125.377,125.115,124.985,125.015,125.045,124.735,124.674,124.57,124.299,124.111,123.837,123.711,123.3,123.279,123.21,123.051,123.157,123.163,122.999,122.852,123.329,123.135,122.681,122.312,122.349,122.542,123.205,122.9,122.736,122.601,122.43,122.698,122.524,122.497,122.592,122.229,122.144,122.062,121.768,121.513,121.41,121.474,121.416,121.422,121.476,121.289,121.236,121.261,121.121,121.195,121.065,120.956,120.7,120.448,120.6,120.307,120.283,120.291,120.303,120.694,120.985,121.193,121.81,121.318,121.068,121.352,121.468,121.641,122.06,122.314,122.8,123.232,123.38,123.544,123.164,123.127,123.868,124.168,124.107,124.395,124.238,124.235,123.978,124.094,124.314,124.377,124.82,125.184,125.6,126.021,127.235,127.115,126.771,127.605,127.872,127.704,127.66,128.342,129.205,130.918,130.705,130.724,132.316,133.582,134.667,135.808,137.301,139.149,140.005,null,null,null,null,null,null,null,null,null,null],\"type\":\"scatter\"},{\"mode\":\"lines\",\"name\":\"Medical care\",\"x\":[\"1947-01-01T00:00:00.000000000\",\"1947-02-01T00:00:00.000000000\",\"1947-03-01T00:00:00.000000000\",\"1947-04-01T00:00:00.000000000\",\"1947-05-01T00:00:00.000000000\",\"1947-06-01T00:00:00.000000000\",\"1947-07-01T00:00:00.000000000\",\"1947-08-01T00:00:00.000000000\",\"1947-09-01T00:00:00.000000000\",\"1947-10-01T00:00:00.000000000\",\"1947-11-01T00:00:00.000000000\",\"1947-12-01T00:00:00.000000000\",\"1948-01-01T00:00:00.000000000\",\"1948-02-01T00:00:00.000000000\",\"1948-03-01T00:00:00.000000000\",\"1948-04-01T00:00:00.000000000\",\"1948-05-01T00:00:00.000000000\",\"1948-06-01T00:00:00.000000000\",\"1948-07-01T00:00:00.000000000\",\"1948-08-01T00:00:00.000000000\",\"1948-09-01T00:00:00.000000000\",\"1948-10-01T00:00:00.000000000\",\"1948-11-01T00:00:00.000000000\",\"1948-12-01T00:00:00.000000000\",\"1949-01-01T00:00:00.000000000\",\"1949-02-01T00:00:00.000000000\",\"1949-03-01T00:00:00.000000000\",\"1949-04-01T00:00:00.000000000\",\"1949-05-01T00:00:00.000000000\",\"1949-06-01T00:00:00.000000000\",\"1949-07-01T00:00:00.000000000\",\"1949-08-01T00:00:00.000000000\",\"1949-09-01T00:00:00.000000000\",\"1949-10-01T00:00:00.000000000\",\"1949-11-01T00:00:00.000000000\",\"1949-12-01T00:00:00.000000000\",\"1950-01-01T00:00:00.000000000\",\"1950-02-01T00:00:00.000000000\",\"1950-03-01T00:00:00.000000000\",\"1950-04-01T00:00:00.000000000\",\"1950-05-01T00:00:00.000000000\",\"1950-06-01T00:00:00.000000000\",\"1950-07-01T00:00:00.000000000\",\"1950-08-01T00:00:00.000000000\",\"1950-09-01T00:00:00.000000000\",\"1950-10-01T00:00:00.000000000\",\"1950-11-01T00:00:00.000000000\",\"1950-12-01T00:00:00.000000000\",\"1951-01-01T00:00:00.000000000\",\"1951-02-01T00:00:00.000000000\",\"1951-03-01T00:00:00.000000000\",\"1951-04-01T00:00:00.000000000\",\"1951-05-01T00:00:00.000000000\",\"1951-06-01T00:00:00.000000000\",\"1951-07-01T00:00:00.000000000\",\"1951-08-01T00:00:00.000000000\",\"1951-09-01T00:00:00.000000000\",\"1951-10-01T00:00:00.000000000\",\"1951-11-01T00:00:00.000000000\",\"1951-12-01T00:00:00.000000000\",\"1952-01-01T00:00:00.000000000\",\"1952-02-01T00:00:00.000000000\",\"1952-03-01T00:00:00.000000000\",\"1952-04-01T00:00:00.000000000\",\"1952-05-01T00:00:00.000000000\",\"1952-06-01T00:00:00.000000000\",\"1952-07-01T00:00:00.000000000\",\"1952-08-01T00:00:00.000000000\",\"1952-09-01T00:00:00.000000000\",\"1952-10-01T00:00:00.000000000\",\"1952-11-01T00:00:00.000000000\",\"1952-12-01T00:00:00.000000000\",\"1953-01-01T00:00:00.000000000\",\"1953-02-01T00:00:00.000000000\",\"1953-03-01T00:00:00.000000000\",\"1953-04-01T00:00:00.000000000\",\"1953-05-01T00:00:00.000000000\",\"1953-06-01T00:00:00.000000000\",\"1953-07-01T00:00:00.000000000\",\"1953-08-01T00:00:00.000000000\",\"1953-09-01T00:00:00.000000000\",\"1953-10-01T00:00:00.000000000\",\"1953-11-01T00:00:00.000000000\",\"1953-12-01T00:00:00.000000000\",\"1954-01-01T00:00:00.000000000\",\"1954-02-01T00:00:00.000000000\",\"1954-03-01T00:00:00.000000000\",\"1954-04-01T00:00:00.000000000\",\"1954-05-01T00:00:00.000000000\",\"1954-06-01T00:00:00.000000000\",\"1954-07-01T00:00:00.000000000\",\"1954-08-01T00:00:00.000000000\",\"1954-09-01T00:00:00.000000000\",\"1954-10-01T00:00:00.000000000\",\"1954-11-01T00:00:00.000000000\",\"1954-12-01T00:00:00.000000000\",\"1955-01-01T00:00:00.000000000\",\"1955-02-01T00:00:00.000000000\",\"1955-03-01T00:00:00.000000000\",\"1955-04-01T00:00:00.000000000\",\"1955-05-01T00:00:00.000000000\",\"1955-06-01T00:00:00.000000000\",\"1955-07-01T00:00:00.000000000\",\"1955-08-01T00:00:00.000000000\",\"1955-09-01T00:00:00.000000000\",\"1955-10-01T00:00:00.000000000\",\"1955-11-01T00:00:00.000000000\",\"1955-12-01T00:00:00.000000000\",\"1956-01-01T00:00:00.000000000\",\"1956-02-01T00:00:00.000000000\",\"1956-03-01T00:00:00.000000000\",\"1956-04-01T00:00:00.000000000\",\"1956-05-01T00:00:00.000000000\",\"1956-06-01T00:00:00.000000000\",\"1956-07-01T00:00:00.000000000\",\"1956-08-01T00:00:00.000000000\",\"1956-09-01T00:00:00.000000000\",\"1956-10-01T00:00:00.000000000\",\"1956-11-01T00:00:00.000000000\",\"1956-12-01T00:00:00.000000000\",\"1957-01-01T00:00:00.000000000\",\"1957-02-01T00:00:00.000000000\",\"1957-03-01T00:00:00.000000000\",\"1957-04-01T00:00:00.000000000\",\"1957-05-01T00:00:00.000000000\",\"1957-06-01T00:00:00.000000000\",\"1957-07-01T00:00:00.000000000\",\"1957-08-01T00:00:00.000000000\",\"1957-09-01T00:00:00.000000000\",\"1957-10-01T00:00:00.000000000\",\"1957-11-01T00:00:00.000000000\",\"1957-12-01T00:00:00.000000000\",\"1958-01-01T00:00:00.000000000\",\"1958-02-01T00:00:00.000000000\",\"1958-03-01T00:00:00.000000000\",\"1958-04-01T00:00:00.000000000\",\"1958-05-01T00:00:00.000000000\",\"1958-06-01T00:00:00.000000000\",\"1958-07-01T00:00:00.000000000\",\"1958-08-01T00:00:00.000000000\",\"1958-09-01T00:00:00.000000000\",\"1958-10-01T00:00:00.000000000\",\"1958-11-01T00:00:00.000000000\",\"1958-12-01T00:00:00.000000000\",\"1959-01-01T00:00:00.000000000\",\"1959-02-01T00:00:00.000000000\",\"1959-03-01T00:00:00.000000000\",\"1959-04-01T00:00:00.000000000\",\"1959-05-01T00:00:00.000000000\",\"1959-06-01T00:00:00.000000000\",\"1959-07-01T00:00:00.000000000\",\"1959-08-01T00:00:00.000000000\",\"1959-09-01T00:00:00.000000000\",\"1959-10-01T00:00:00.000000000\",\"1959-11-01T00:00:00.000000000\",\"1959-12-01T00:00:00.000000000\",\"1960-01-01T00:00:00.000000000\",\"1960-02-01T00:00:00.000000000\",\"1960-03-01T00:00:00.000000000\",\"1960-04-01T00:00:00.000000000\",\"1960-05-01T00:00:00.000000000\",\"1960-06-01T00:00:00.000000000\",\"1960-07-01T00:00:00.000000000\",\"1960-08-01T00:00:00.000000000\",\"1960-09-01T00:00:00.000000000\",\"1960-10-01T00:00:00.000000000\",\"1960-11-01T00:00:00.000000000\",\"1960-12-01T00:00:00.000000000\",\"1961-01-01T00:00:00.000000000\",\"1961-02-01T00:00:00.000000000\",\"1961-03-01T00:00:00.000000000\",\"1961-04-01T00:00:00.000000000\",\"1961-05-01T00:00:00.000000000\",\"1961-06-01T00:00:00.000000000\",\"1961-07-01T00:00:00.000000000\",\"1961-08-01T00:00:00.000000000\",\"1961-09-01T00:00:00.000000000\",\"1961-10-01T00:00:00.000000000\",\"1961-11-01T00:00:00.000000000\",\"1961-12-01T00:00:00.000000000\",\"1962-01-01T00:00:00.000000000\",\"1962-02-01T00:00:00.000000000\",\"1962-03-01T00:00:00.000000000\",\"1962-04-01T00:00:00.000000000\",\"1962-05-01T00:00:00.000000000\",\"1962-06-01T00:00:00.000000000\",\"1962-07-01T00:00:00.000000000\",\"1962-08-01T00:00:00.000000000\",\"1962-09-01T00:00:00.000000000\",\"1962-10-01T00:00:00.000000000\",\"1962-11-01T00:00:00.000000000\",\"1962-12-01T00:00:00.000000000\",\"1963-01-01T00:00:00.000000000\",\"1963-02-01T00:00:00.000000000\",\"1963-03-01T00:00:00.000000000\",\"1963-04-01T00:00:00.000000000\",\"1963-05-01T00:00:00.000000000\",\"1963-06-01T00:00:00.000000000\",\"1963-07-01T00:00:00.000000000\",\"1963-08-01T00:00:00.000000000\",\"1963-09-01T00:00:00.000000000\",\"1963-10-01T00:00:00.000000000\",\"1963-11-01T00:00:00.000000000\",\"1963-12-01T00:00:00.000000000\",\"1964-01-01T00:00:00.000000000\",\"1964-02-01T00:00:00.000000000\",\"1964-03-01T00:00:00.000000000\",\"1964-04-01T00:00:00.000000000\",\"1964-05-01T00:00:00.000000000\",\"1964-06-01T00:00:00.000000000\",\"1964-07-01T00:00:00.000000000\",\"1964-08-01T00:00:00.000000000\",\"1964-09-01T00:00:00.000000000\",\"1964-10-01T00:00:00.000000000\",\"1964-11-01T00:00:00.000000000\",\"1964-12-01T00:00:00.000000000\",\"1965-01-01T00:00:00.000000000\",\"1965-02-01T00:00:00.000000000\",\"1965-03-01T00:00:00.000000000\",\"1965-04-01T00:00:00.000000000\",\"1965-05-01T00:00:00.000000000\",\"1965-06-01T00:00:00.000000000\",\"1965-07-01T00:00:00.000000000\",\"1965-08-01T00:00:00.000000000\",\"1965-09-01T00:00:00.000000000\",\"1965-10-01T00:00:00.000000000\",\"1965-11-01T00:00:00.000000000\",\"1965-12-01T00:00:00.000000000\",\"1966-01-01T00:00:00.000000000\",\"1966-02-01T00:00:00.000000000\",\"1966-03-01T00:00:00.000000000\",\"1966-04-01T00:00:00.000000000\",\"1966-05-01T00:00:00.000000000\",\"1966-06-01T00:00:00.000000000\",\"1966-07-01T00:00:00.000000000\",\"1966-08-01T00:00:00.000000000\",\"1966-09-01T00:00:00.000000000\",\"1966-10-01T00:00:00.000000000\",\"1966-11-01T00:00:00.000000000\",\"1966-12-01T00:00:00.000000000\",\"1967-01-01T00:00:00.000000000\",\"1967-02-01T00:00:00.000000000\",\"1967-03-01T00:00:00.000000000\",\"1967-04-01T00:00:00.000000000\",\"1967-05-01T00:00:00.000000000\",\"1967-06-01T00:00:00.000000000\",\"1967-07-01T00:00:00.000000000\",\"1967-08-01T00:00:00.000000000\",\"1967-09-01T00:00:00.000000000\",\"1967-10-01T00:00:00.000000000\",\"1967-11-01T00:00:00.000000000\",\"1967-12-01T00:00:00.000000000\",\"1968-01-01T00:00:00.000000000\",\"1968-02-01T00:00:00.000000000\",\"1968-03-01T00:00:00.000000000\",\"1968-04-01T00:00:00.000000000\",\"1968-05-01T00:00:00.000000000\",\"1968-06-01T00:00:00.000000000\",\"1968-07-01T00:00:00.000000000\",\"1968-08-01T00:00:00.000000000\",\"1968-09-01T00:00:00.000000000\",\"1968-10-01T00:00:00.000000000\",\"1968-11-01T00:00:00.000000000\",\"1968-12-01T00:00:00.000000000\",\"1969-01-01T00:00:00.000000000\",\"1969-02-01T00:00:00.000000000\",\"1969-03-01T00:00:00.000000000\",\"1969-04-01T00:00:00.000000000\",\"1969-05-01T00:00:00.000000000\",\"1969-06-01T00:00:00.000000000\",\"1969-07-01T00:00:00.000000000\",\"1969-08-01T00:00:00.000000000\",\"1969-09-01T00:00:00.000000000\",\"1969-10-01T00:00:00.000000000\",\"1969-11-01T00:00:00.000000000\",\"1969-12-01T00:00:00.000000000\",\"1970-01-01T00:00:00.000000000\",\"1970-02-01T00:00:00.000000000\",\"1970-03-01T00:00:00.000000000\",\"1970-04-01T00:00:00.000000000\",\"1970-05-01T00:00:00.000000000\",\"1970-06-01T00:00:00.000000000\",\"1970-07-01T00:00:00.000000000\",\"1970-08-01T00:00:00.000000000\",\"1970-09-01T00:00:00.000000000\",\"1970-10-01T00:00:00.000000000\",\"1970-11-01T00:00:00.000000000\",\"1970-12-01T00:00:00.000000000\",\"1971-01-01T00:00:00.000000000\",\"1971-02-01T00:00:00.000000000\",\"1971-03-01T00:00:00.000000000\",\"1971-04-01T00:00:00.000000000\",\"1971-05-01T00:00:00.000000000\",\"1971-06-01T00:00:00.000000000\",\"1971-07-01T00:00:00.000000000\",\"1971-08-01T00:00:00.000000000\",\"1971-09-01T00:00:00.000000000\",\"1971-10-01T00:00:00.000000000\",\"1971-11-01T00:00:00.000000000\",\"1971-12-01T00:00:00.000000000\",\"1972-01-01T00:00:00.000000000\",\"1972-02-01T00:00:00.000000000\",\"1972-03-01T00:00:00.000000000\",\"1972-04-01T00:00:00.000000000\",\"1972-05-01T00:00:00.000000000\",\"1972-06-01T00:00:00.000000000\",\"1972-07-01T00:00:00.000000000\",\"1972-08-01T00:00:00.000000000\",\"1972-09-01T00:00:00.000000000\",\"1972-10-01T00:00:00.000000000\",\"1972-11-01T00:00:00.000000000\",\"1972-12-01T00:00:00.000000000\",\"1973-01-01T00:00:00.000000000\",\"1973-02-01T00:00:00.000000000\",\"1973-03-01T00:00:00.000000000\",\"1973-04-01T00:00:00.000000000\",\"1973-05-01T00:00:00.000000000\",\"1973-06-01T00:00:00.000000000\",\"1973-07-01T00:00:00.000000000\",\"1973-08-01T00:00:00.000000000\",\"1973-09-01T00:00:00.000000000\",\"1973-10-01T00:00:00.000000000\",\"1973-11-01T00:00:00.000000000\",\"1973-12-01T00:00:00.000000000\",\"1974-01-01T00:00:00.000000000\",\"1974-02-01T00:00:00.000000000\",\"1974-03-01T00:00:00.000000000\",\"1974-04-01T00:00:00.000000000\",\"1974-05-01T00:00:00.000000000\",\"1974-06-01T00:00:00.000000000\",\"1974-07-01T00:00:00.000000000\",\"1974-08-01T00:00:00.000000000\",\"1974-09-01T00:00:00.000000000\",\"1974-10-01T00:00:00.000000000\",\"1974-11-01T00:00:00.000000000\",\"1974-12-01T00:00:00.000000000\",\"1975-01-01T00:00:00.000000000\",\"1975-02-01T00:00:00.000000000\",\"1975-03-01T00:00:00.000000000\",\"1975-04-01T00:00:00.000000000\",\"1975-05-01T00:00:00.000000000\",\"1975-06-01T00:00:00.000000000\",\"1975-07-01T00:00:00.000000000\",\"1975-08-01T00:00:00.000000000\",\"1975-09-01T00:00:00.000000000\",\"1975-10-01T00:00:00.000000000\",\"1975-11-01T00:00:00.000000000\",\"1975-12-01T00:00:00.000000000\",\"1976-01-01T00:00:00.000000000\",\"1976-02-01T00:00:00.000000000\",\"1976-03-01T00:00:00.000000000\",\"1976-04-01T00:00:00.000000000\",\"1976-05-01T00:00:00.000000000\",\"1976-06-01T00:00:00.000000000\",\"1976-07-01T00:00:00.000000000\",\"1976-08-01T00:00:00.000000000\",\"1976-09-01T00:00:00.000000000\",\"1976-10-01T00:00:00.000000000\",\"1976-11-01T00:00:00.000000000\",\"1976-12-01T00:00:00.000000000\",\"1977-01-01T00:00:00.000000000\",\"1977-02-01T00:00:00.000000000\",\"1977-03-01T00:00:00.000000000\",\"1977-04-01T00:00:00.000000000\",\"1977-05-01T00:00:00.000000000\",\"1977-06-01T00:00:00.000000000\",\"1977-07-01T00:00:00.000000000\",\"1977-08-01T00:00:00.000000000\",\"1977-09-01T00:00:00.000000000\",\"1977-10-01T00:00:00.000000000\",\"1977-11-01T00:00:00.000000000\",\"1977-12-01T00:00:00.000000000\",\"1978-01-01T00:00:00.000000000\",\"1978-02-01T00:00:00.000000000\",\"1978-03-01T00:00:00.000000000\",\"1978-04-01T00:00:00.000000000\",\"1978-05-01T00:00:00.000000000\",\"1978-06-01T00:00:00.000000000\",\"1978-07-01T00:00:00.000000000\",\"1978-08-01T00:00:00.000000000\",\"1978-09-01T00:00:00.000000000\",\"1978-10-01T00:00:00.000000000\",\"1978-11-01T00:00:00.000000000\",\"1978-12-01T00:00:00.000000000\",\"1979-01-01T00:00:00.000000000\",\"1979-02-01T00:00:00.000000000\",\"1979-03-01T00:00:00.000000000\",\"1979-04-01T00:00:00.000000000\",\"1979-05-01T00:00:00.000000000\",\"1979-06-01T00:00:00.000000000\",\"1979-07-01T00:00:00.000000000\",\"1979-08-01T00:00:00.000000000\",\"1979-09-01T00:00:00.000000000\",\"1979-10-01T00:00:00.000000000\",\"1979-11-01T00:00:00.000000000\",\"1979-12-01T00:00:00.000000000\",\"1980-01-01T00:00:00.000000000\",\"1980-02-01T00:00:00.000000000\",\"1980-03-01T00:00:00.000000000\",\"1980-04-01T00:00:00.000000000\",\"1980-05-01T00:00:00.000000000\",\"1980-06-01T00:00:00.000000000\",\"1980-07-01T00:00:00.000000000\",\"1980-08-01T00:00:00.000000000\",\"1980-09-01T00:00:00.000000000\",\"1980-10-01T00:00:00.000000000\",\"1980-11-01T00:00:00.000000000\",\"1980-12-01T00:00:00.000000000\",\"1981-01-01T00:00:00.000000000\",\"1981-02-01T00:00:00.000000000\",\"1981-03-01T00:00:00.000000000\",\"1981-04-01T00:00:00.000000000\",\"1981-05-01T00:00:00.000000000\",\"1981-06-01T00:00:00.000000000\",\"1981-07-01T00:00:00.000000000\",\"1981-08-01T00:00:00.000000000\",\"1981-09-01T00:00:00.000000000\",\"1981-10-01T00:00:00.000000000\",\"1981-11-01T00:00:00.000000000\",\"1981-12-01T00:00:00.000000000\",\"1982-01-01T00:00:00.000000000\",\"1982-02-01T00:00:00.000000000\",\"1982-03-01T00:00:00.000000000\",\"1982-04-01T00:00:00.000000000\",\"1982-05-01T00:00:00.000000000\",\"1982-06-01T00:00:00.000000000\",\"1982-07-01T00:00:00.000000000\",\"1982-08-01T00:00:00.000000000\",\"1982-09-01T00:00:00.000000000\",\"1982-10-01T00:00:00.000000000\",\"1982-11-01T00:00:00.000000000\",\"1982-12-01T00:00:00.000000000\",\"1983-01-01T00:00:00.000000000\",\"1983-02-01T00:00:00.000000000\",\"1983-03-01T00:00:00.000000000\",\"1983-04-01T00:00:00.000000000\",\"1983-05-01T00:00:00.000000000\",\"1983-06-01T00:00:00.000000000\",\"1983-07-01T00:00:00.000000000\",\"1983-08-01T00:00:00.000000000\",\"1983-09-01T00:00:00.000000000\",\"1983-10-01T00:00:00.000000000\",\"1983-11-01T00:00:00.000000000\",\"1983-12-01T00:00:00.000000000\",\"1984-01-01T00:00:00.000000000\",\"1984-02-01T00:00:00.000000000\",\"1984-03-01T00:00:00.000000000\",\"1984-04-01T00:00:00.000000000\",\"1984-05-01T00:00:00.000000000\",\"1984-06-01T00:00:00.000000000\",\"1984-07-01T00:00:00.000000000\",\"1984-08-01T00:00:00.000000000\",\"1984-09-01T00:00:00.000000000\",\"1984-10-01T00:00:00.000000000\",\"1984-11-01T00:00:00.000000000\",\"1984-12-01T00:00:00.000000000\",\"1985-01-01T00:00:00.000000000\",\"1985-02-01T00:00:00.000000000\",\"1985-03-01T00:00:00.000000000\",\"1985-04-01T00:00:00.000000000\",\"1985-05-01T00:00:00.000000000\",\"1985-06-01T00:00:00.000000000\",\"1985-07-01T00:00:00.000000000\",\"1985-08-01T00:00:00.000000000\",\"1985-09-01T00:00:00.000000000\",\"1985-10-01T00:00:00.000000000\",\"1985-11-01T00:00:00.000000000\",\"1985-12-01T00:00:00.000000000\",\"1986-01-01T00:00:00.000000000\",\"1986-02-01T00:00:00.000000000\",\"1986-03-01T00:00:00.000000000\",\"1986-04-01T00:00:00.000000000\",\"1986-05-01T00:00:00.000000000\",\"1986-06-01T00:00:00.000000000\",\"1986-07-01T00:00:00.000000000\",\"1986-08-01T00:00:00.000000000\",\"1986-09-01T00:00:00.000000000\",\"1986-10-01T00:00:00.000000000\",\"1986-11-01T00:00:00.000000000\",\"1986-12-01T00:00:00.000000000\",\"1987-01-01T00:00:00.000000000\",\"1987-02-01T00:00:00.000000000\",\"1987-03-01T00:00:00.000000000\",\"1987-04-01T00:00:00.000000000\",\"1987-05-01T00:00:00.000000000\",\"1987-06-01T00:00:00.000000000\",\"1987-07-01T00:00:00.000000000\",\"1987-08-01T00:00:00.000000000\",\"1987-09-01T00:00:00.000000000\",\"1987-10-01T00:00:00.000000000\",\"1987-11-01T00:00:00.000000000\",\"1987-12-01T00:00:00.000000000\",\"1988-01-01T00:00:00.000000000\",\"1988-02-01T00:00:00.000000000\",\"1988-03-01T00:00:00.000000000\",\"1988-04-01T00:00:00.000000000\",\"1988-05-01T00:00:00.000000000\",\"1988-06-01T00:00:00.000000000\",\"1988-07-01T00:00:00.000000000\",\"1988-08-01T00:00:00.000000000\",\"1988-09-01T00:00:00.000000000\",\"1988-10-01T00:00:00.000000000\",\"1988-11-01T00:00:00.000000000\",\"1988-12-01T00:00:00.000000000\",\"1989-01-01T00:00:00.000000000\",\"1989-02-01T00:00:00.000000000\",\"1989-03-01T00:00:00.000000000\",\"1989-04-01T00:00:00.000000000\",\"1989-05-01T00:00:00.000000000\",\"1989-06-01T00:00:00.000000000\",\"1989-07-01T00:00:00.000000000\",\"1989-08-01T00:00:00.000000000\",\"1989-09-01T00:00:00.000000000\",\"1989-10-01T00:00:00.000000000\",\"1989-11-01T00:00:00.000000000\",\"1989-12-01T00:00:00.000000000\",\"1990-01-01T00:00:00.000000000\",\"1990-02-01T00:00:00.000000000\",\"1990-03-01T00:00:00.000000000\",\"1990-04-01T00:00:00.000000000\",\"1990-05-01T00:00:00.000000000\",\"1990-06-01T00:00:00.000000000\",\"1990-07-01T00:00:00.000000000\",\"1990-08-01T00:00:00.000000000\",\"1990-09-01T00:00:00.000000000\",\"1990-10-01T00:00:00.000000000\",\"1990-11-01T00:00:00.000000000\",\"1990-12-01T00:00:00.000000000\",\"1991-01-01T00:00:00.000000000\",\"1991-02-01T00:00:00.000000000\",\"1991-03-01T00:00:00.000000000\",\"1991-04-01T00:00:00.000000000\",\"1991-05-01T00:00:00.000000000\",\"1991-06-01T00:00:00.000000000\",\"1991-07-01T00:00:00.000000000\",\"1991-08-01T00:00:00.000000000\",\"1991-09-01T00:00:00.000000000\",\"1991-10-01T00:00:00.000000000\",\"1991-11-01T00:00:00.000000000\",\"1991-12-01T00:00:00.000000000\",\"1992-01-01T00:00:00.000000000\",\"1992-02-01T00:00:00.000000000\",\"1992-03-01T00:00:00.000000000\",\"1992-04-01T00:00:00.000000000\",\"1992-05-01T00:00:00.000000000\",\"1992-06-01T00:00:00.000000000\",\"1992-07-01T00:00:00.000000000\",\"1992-08-01T00:00:00.000000000\",\"1992-09-01T00:00:00.000000000\",\"1992-10-01T00:00:00.000000000\",\"1992-11-01T00:00:00.000000000\",\"1992-12-01T00:00:00.000000000\",\"1993-01-01T00:00:00.000000000\",\"1993-02-01T00:00:00.000000000\",\"1993-03-01T00:00:00.000000000\",\"1993-04-01T00:00:00.000000000\",\"1993-05-01T00:00:00.000000000\",\"1993-06-01T00:00:00.000000000\",\"1993-07-01T00:00:00.000000000\",\"1993-08-01T00:00:00.000000000\",\"1993-09-01T00:00:00.000000000\",\"1993-10-01T00:00:00.000000000\",\"1993-11-01T00:00:00.000000000\",\"1993-12-01T00:00:00.000000000\",\"1994-01-01T00:00:00.000000000\",\"1994-02-01T00:00:00.000000000\",\"1994-03-01T00:00:00.000000000\",\"1994-04-01T00:00:00.000000000\",\"1994-05-01T00:00:00.000000000\",\"1994-06-01T00:00:00.000000000\",\"1994-07-01T00:00:00.000000000\",\"1994-08-01T00:00:00.000000000\",\"1994-09-01T00:00:00.000000000\",\"1994-10-01T00:00:00.000000000\",\"1994-11-01T00:00:00.000000000\",\"1994-12-01T00:00:00.000000000\",\"1995-01-01T00:00:00.000000000\",\"1995-02-01T00:00:00.000000000\",\"1995-03-01T00:00:00.000000000\",\"1995-04-01T00:00:00.000000000\",\"1995-05-01T00:00:00.000000000\",\"1995-06-01T00:00:00.000000000\",\"1995-07-01T00:00:00.000000000\",\"1995-08-01T00:00:00.000000000\",\"1995-09-01T00:00:00.000000000\",\"1995-10-01T00:00:00.000000000\",\"1995-11-01T00:00:00.000000000\",\"1995-12-01T00:00:00.000000000\",\"1996-01-01T00:00:00.000000000\",\"1996-02-01T00:00:00.000000000\",\"1996-03-01T00:00:00.000000000\",\"1996-04-01T00:00:00.000000000\",\"1996-05-01T00:00:00.000000000\",\"1996-06-01T00:00:00.000000000\",\"1996-07-01T00:00:00.000000000\",\"1996-08-01T00:00:00.000000000\",\"1996-09-01T00:00:00.000000000\",\"1996-10-01T00:00:00.000000000\",\"1996-11-01T00:00:00.000000000\",\"1996-12-01T00:00:00.000000000\",\"1997-01-01T00:00:00.000000000\",\"1997-02-01T00:00:00.000000000\",\"1997-03-01T00:00:00.000000000\",\"1997-04-01T00:00:00.000000000\",\"1997-05-01T00:00:00.000000000\",\"1997-06-01T00:00:00.000000000\",\"1997-07-01T00:00:00.000000000\",\"1997-08-01T00:00:00.000000000\",\"1997-09-01T00:00:00.000000000\",\"1997-10-01T00:00:00.000000000\",\"1997-11-01T00:00:00.000000000\",\"1997-12-01T00:00:00.000000000\",\"1998-01-01T00:00:00.000000000\",\"1998-02-01T00:00:00.000000000\",\"1998-03-01T00:00:00.000000000\",\"1998-04-01T00:00:00.000000000\",\"1998-05-01T00:00:00.000000000\",\"1998-06-01T00:00:00.000000000\",\"1998-07-01T00:00:00.000000000\",\"1998-08-01T00:00:00.000000000\",\"1998-09-01T00:00:00.000000000\",\"1998-10-01T00:00:00.000000000\",\"1998-11-01T00:00:00.000000000\",\"1998-12-01T00:00:00.000000000\",\"1999-01-01T00:00:00.000000000\",\"1999-02-01T00:00:00.000000000\",\"1999-03-01T00:00:00.000000000\",\"1999-04-01T00:00:00.000000000\",\"1999-05-01T00:00:00.000000000\",\"1999-06-01T00:00:00.000000000\",\"1999-07-01T00:00:00.000000000\",\"1999-08-01T00:00:00.000000000\",\"1999-09-01T00:00:00.000000000\",\"1999-10-01T00:00:00.000000000\",\"1999-11-01T00:00:00.000000000\",\"1999-12-01T00:00:00.000000000\",\"2000-01-01T00:00:00.000000000\",\"2000-02-01T00:00:00.000000000\",\"2000-03-01T00:00:00.000000000\",\"2000-04-01T00:00:00.000000000\",\"2000-05-01T00:00:00.000000000\",\"2000-06-01T00:00:00.000000000\",\"2000-07-01T00:00:00.000000000\",\"2000-08-01T00:00:00.000000000\",\"2000-09-01T00:00:00.000000000\",\"2000-10-01T00:00:00.000000000\",\"2000-11-01T00:00:00.000000000\",\"2000-12-01T00:00:00.000000000\",\"2001-01-01T00:00:00.000000000\",\"2001-02-01T00:00:00.000000000\",\"2001-03-01T00:00:00.000000000\",\"2001-04-01T00:00:00.000000000\",\"2001-05-01T00:00:00.000000000\",\"2001-06-01T00:00:00.000000000\",\"2001-07-01T00:00:00.000000000\",\"2001-08-01T00:00:00.000000000\",\"2001-09-01T00:00:00.000000000\",\"2001-10-01T00:00:00.000000000\",\"2001-11-01T00:00:00.000000000\",\"2001-12-01T00:00:00.000000000\",\"2002-01-01T00:00:00.000000000\",\"2002-02-01T00:00:00.000000000\",\"2002-03-01T00:00:00.000000000\",\"2002-04-01T00:00:00.000000000\",\"2002-05-01T00:00:00.000000000\",\"2002-06-01T00:00:00.000000000\",\"2002-07-01T00:00:00.000000000\",\"2002-08-01T00:00:00.000000000\",\"2002-09-01T00:00:00.000000000\",\"2002-10-01T00:00:00.000000000\",\"2002-11-01T00:00:00.000000000\",\"2002-12-01T00:00:00.000000000\",\"2003-01-01T00:00:00.000000000\",\"2003-02-01T00:00:00.000000000\",\"2003-03-01T00:00:00.000000000\",\"2003-04-01T00:00:00.000000000\",\"2003-05-01T00:00:00.000000000\",\"2003-06-01T00:00:00.000000000\",\"2003-07-01T00:00:00.000000000\",\"2003-08-01T00:00:00.000000000\",\"2003-09-01T00:00:00.000000000\",\"2003-10-01T00:00:00.000000000\",\"2003-11-01T00:00:00.000000000\",\"2003-12-01T00:00:00.000000000\",\"2004-01-01T00:00:00.000000000\",\"2004-02-01T00:00:00.000000000\",\"2004-03-01T00:00:00.000000000\",\"2004-04-01T00:00:00.000000000\",\"2004-05-01T00:00:00.000000000\",\"2004-06-01T00:00:00.000000000\",\"2004-07-01T00:00:00.000000000\",\"2004-08-01T00:00:00.000000000\",\"2004-09-01T00:00:00.000000000\",\"2004-10-01T00:00:00.000000000\",\"2004-11-01T00:00:00.000000000\",\"2004-12-01T00:00:00.000000000\",\"2005-01-01T00:00:00.000000000\",\"2005-02-01T00:00:00.000000000\",\"2005-03-01T00:00:00.000000000\",\"2005-04-01T00:00:00.000000000\",\"2005-05-01T00:00:00.000000000\",\"2005-06-01T00:00:00.000000000\",\"2005-07-01T00:00:00.000000000\",\"2005-08-01T00:00:00.000000000\",\"2005-09-01T00:00:00.000000000\",\"2005-10-01T00:00:00.000000000\",\"2005-11-01T00:00:00.000000000\",\"2005-12-01T00:00:00.000000000\",\"2006-01-01T00:00:00.000000000\",\"2006-02-01T00:00:00.000000000\",\"2006-03-01T00:00:00.000000000\",\"2006-04-01T00:00:00.000000000\",\"2006-05-01T00:00:00.000000000\",\"2006-06-01T00:00:00.000000000\",\"2006-07-01T00:00:00.000000000\",\"2006-08-01T00:00:00.000000000\",\"2006-09-01T00:00:00.000000000\",\"2006-10-01T00:00:00.000000000\",\"2006-11-01T00:00:00.000000000\",\"2006-12-01T00:00:00.000000000\",\"2007-01-01T00:00:00.000000000\",\"2007-02-01T00:00:00.000000000\",\"2007-03-01T00:00:00.000000000\",\"2007-04-01T00:00:00.000000000\",\"2007-05-01T00:00:00.000000000\",\"2007-06-01T00:00:00.000000000\",\"2007-07-01T00:00:00.000000000\",\"2007-08-01T00:00:00.000000000\",\"2007-09-01T00:00:00.000000000\",\"2007-10-01T00:00:00.000000000\",\"2007-11-01T00:00:00.000000000\",\"2007-12-01T00:00:00.000000000\",\"2008-01-01T00:00:00.000000000\",\"2008-02-01T00:00:00.000000000\",\"2008-03-01T00:00:00.000000000\",\"2008-04-01T00:00:00.000000000\",\"2008-05-01T00:00:00.000000000\",\"2008-06-01T00:00:00.000000000\",\"2008-07-01T00:00:00.000000000\",\"2008-08-01T00:00:00.000000000\",\"2008-09-01T00:00:00.000000000\",\"2008-10-01T00:00:00.000000000\",\"2008-11-01T00:00:00.000000000\",\"2008-12-01T00:00:00.000000000\",\"2009-01-01T00:00:00.000000000\",\"2009-02-01T00:00:00.000000000\",\"2009-03-01T00:00:00.000000000\",\"2009-04-01T00:00:00.000000000\",\"2009-05-01T00:00:00.000000000\",\"2009-06-01T00:00:00.000000000\",\"2009-07-01T00:00:00.000000000\",\"2009-08-01T00:00:00.000000000\",\"2009-09-01T00:00:00.000000000\",\"2009-10-01T00:00:00.000000000\",\"2009-11-01T00:00:00.000000000\",\"2009-12-01T00:00:00.000000000\",\"2010-01-01T00:00:00.000000000\",\"2010-02-01T00:00:00.000000000\",\"2010-03-01T00:00:00.000000000\",\"2010-04-01T00:00:00.000000000\",\"2010-05-01T00:00:00.000000000\",\"2010-06-01T00:00:00.000000000\",\"2010-07-01T00:00:00.000000000\",\"2010-08-01T00:00:00.000000000\",\"2010-09-01T00:00:00.000000000\",\"2010-10-01T00:00:00.000000000\",\"2010-11-01T00:00:00.000000000\",\"2010-12-01T00:00:00.000000000\",\"2011-01-01T00:00:00.000000000\",\"2011-02-01T00:00:00.000000000\",\"2011-03-01T00:00:00.000000000\",\"2011-04-01T00:00:00.000000000\",\"2011-05-01T00:00:00.000000000\",\"2011-06-01T00:00:00.000000000\",\"2011-07-01T00:00:00.000000000\",\"2011-08-01T00:00:00.000000000\",\"2011-09-01T00:00:00.000000000\",\"2011-10-01T00:00:00.000000000\",\"2011-11-01T00:00:00.000000000\",\"2011-12-01T00:00:00.000000000\",\"2012-01-01T00:00:00.000000000\",\"2012-02-01T00:00:00.000000000\",\"2012-03-01T00:00:00.000000000\",\"2012-04-01T00:00:00.000000000\",\"2012-05-01T00:00:00.000000000\",\"2012-06-01T00:00:00.000000000\",\"2012-07-01T00:00:00.000000000\",\"2012-08-01T00:00:00.000000000\",\"2012-09-01T00:00:00.000000000\",\"2012-10-01T00:00:00.000000000\",\"2012-11-01T00:00:00.000000000\",\"2012-12-01T00:00:00.000000000\",\"2013-01-01T00:00:00.000000000\",\"2013-02-01T00:00:00.000000000\",\"2013-03-01T00:00:00.000000000\",\"2013-04-01T00:00:00.000000000\",\"2013-05-01T00:00:00.000000000\",\"2013-06-01T00:00:00.000000000\",\"2013-07-01T00:00:00.000000000\",\"2013-08-01T00:00:00.000000000\",\"2013-09-01T00:00:00.000000000\",\"2013-10-01T00:00:00.000000000\",\"2013-11-01T00:00:00.000000000\",\"2013-12-01T00:00:00.000000000\",\"2014-01-01T00:00:00.000000000\",\"2014-02-01T00:00:00.000000000\",\"2014-03-01T00:00:00.000000000\",\"2014-04-01T00:00:00.000000000\",\"2014-05-01T00:00:00.000000000\",\"2014-06-01T00:00:00.000000000\",\"2014-07-01T00:00:00.000000000\",\"2014-08-01T00:00:00.000000000\",\"2014-09-01T00:00:00.000000000\",\"2014-10-01T00:00:00.000000000\",\"2014-11-01T00:00:00.000000000\",\"2014-12-01T00:00:00.000000000\",\"2015-01-01T00:00:00.000000000\",\"2015-02-01T00:00:00.000000000\",\"2015-03-01T00:00:00.000000000\",\"2015-04-01T00:00:00.000000000\",\"2015-05-01T00:00:00.000000000\",\"2015-06-01T00:00:00.000000000\",\"2015-07-01T00:00:00.000000000\",\"2015-08-01T00:00:00.000000000\",\"2015-09-01T00:00:00.000000000\",\"2015-10-01T00:00:00.000000000\",\"2015-11-01T00:00:00.000000000\",\"2015-12-01T00:00:00.000000000\",\"2016-01-01T00:00:00.000000000\",\"2016-02-01T00:00:00.000000000\",\"2016-03-01T00:00:00.000000000\",\"2016-04-01T00:00:00.000000000\",\"2016-05-01T00:00:00.000000000\",\"2016-06-01T00:00:00.000000000\",\"2016-07-01T00:00:00.000000000\",\"2016-08-01T00:00:00.000000000\",\"2016-09-01T00:00:00.000000000\",\"2016-10-01T00:00:00.000000000\",\"2016-11-01T00:00:00.000000000\",\"2016-12-01T00:00:00.000000000\",\"2017-01-01T00:00:00.000000000\",\"2017-02-01T00:00:00.000000000\",\"2017-03-01T00:00:00.000000000\",\"2017-04-01T00:00:00.000000000\",\"2017-05-01T00:00:00.000000000\",\"2017-06-01T00:00:00.000000000\",\"2017-07-01T00:00:00.000000000\",\"2017-08-01T00:00:00.000000000\",\"2017-09-01T00:00:00.000000000\",\"2017-10-01T00:00:00.000000000\",\"2017-11-01T00:00:00.000000000\",\"2017-12-01T00:00:00.000000000\",\"2018-01-01T00:00:00.000000000\",\"2018-02-01T00:00:00.000000000\",\"2018-03-01T00:00:00.000000000\",\"2018-04-01T00:00:00.000000000\",\"2018-05-01T00:00:00.000000000\",\"2018-06-01T00:00:00.000000000\",\"2018-07-01T00:00:00.000000000\",\"2018-08-01T00:00:00.000000000\",\"2018-09-01T00:00:00.000000000\",\"2018-10-01T00:00:00.000000000\",\"2018-11-01T00:00:00.000000000\",\"2018-12-01T00:00:00.000000000\",\"2019-01-01T00:00:00.000000000\",\"2019-02-01T00:00:00.000000000\",\"2019-03-01T00:00:00.000000000\",\"2019-04-01T00:00:00.000000000\",\"2019-05-01T00:00:00.000000000\",\"2019-06-01T00:00:00.000000000\",\"2019-07-01T00:00:00.000000000\",\"2019-08-01T00:00:00.000000000\",\"2019-09-01T00:00:00.000000000\",\"2019-10-01T00:00:00.000000000\",\"2019-11-01T00:00:00.000000000\",\"2019-12-01T00:00:00.000000000\",\"2020-01-01T00:00:00.000000000\",\"2020-02-01T00:00:00.000000000\",\"2020-03-01T00:00:00.000000000\",\"2020-04-01T00:00:00.000000000\",\"2020-05-01T00:00:00.000000000\",\"2020-06-01T00:00:00.000000000\",\"2020-07-01T00:00:00.000000000\",\"2020-08-01T00:00:00.000000000\",\"2020-09-01T00:00:00.000000000\",\"2020-10-01T00:00:00.000000000\",\"2020-11-01T00:00:00.000000000\",\"2020-12-01T00:00:00.000000000\",\"2021-01-01T00:00:00.000000000\",\"2021-02-01T00:00:00.000000000\",\"2021-03-01T00:00:00.000000000\",\"2021-04-01T00:00:00.000000000\",\"2021-05-01T00:00:00.000000000\",\"2021-06-01T00:00:00.000000000\",\"2021-07-01T00:00:00.000000000\",\"2021-08-01T00:00:00.000000000\",\"2021-09-01T00:00:00.000000000\",\"2021-10-01T00:00:00.000000000\",\"2021-11-01T00:00:00.000000000\",\"2021-12-01T00:00:00.000000000\",\"2022-01-01T00:00:00.000000000\",\"2022-02-01T00:00:00.000000000\",\"2022-03-01T00:00:00.000000000\",\"2022-04-01T00:00:00.000000000\",\"2022-05-01T00:00:00.000000000\",\"2022-06-01T00:00:00.000000000\",\"2022-07-01T00:00:00.000000000\",\"2022-08-01T00:00:00.000000000\",\"2022-09-01T00:00:00.000000000\",\"2022-10-01T00:00:00.000000000\",\"2022-11-01T00:00:00.000000000\",\"2022-12-01T00:00:00.000000000\"],\"y\":[13.2,13.3,13.3,13.4,13.5,13.5,13.5,13.6,13.7,13.8,13.8,13.9,14.0,14.0,14.1,14.3,14.3,14.4,14.5,14.6,14.5,14.6,14.7,14.7,14.7,14.8,14.8,14.8,14.8,14.8,14.8,14.9,14.9,14.9,14.9,14.9,14.9,15.0,14.9,15.0,15.0,15.0,15.1,15.1,15.2,15.3,15.3,15.4,15.4,15.5,15.7,15.7,15.8,15.8,15.8,15.9,15.9,16.0,16.1,16.3,16.3,16.4,16.5,16.5,16.5,16.8,16.9,16.9,16.9,16.9,16.9,17.0,17.0,17.0,17.0,17.1,17.2,17.3,17.3,17.4,17.5,17.5,17.6,17.6,17.6,17.7,17.7,17.8,17.8,17.8,17.8,17.9,17.9,17.9,18.0,18.0,18.0,18.1,18.1,18.1,18.2,18.2,18.2,18.3,18.3,18.4,18.5,18.6,18.6,18.7,18.7,18.8,18.8,18.8,18.9,19.0,19.1,19.1,19.1,19.2,19.3,19.3,19.4,19.5,19.6,19.7,19.7,19.8,19.8,19.9,20.0,20.1,20.2,20.2,20.3,20.4,20.5,20.6,20.7,20.7,20.9,21.0,21.0,21.1,21.1,21.2,21.3,21.3,21.4,21.5,21.5,21.6,21.7,21.7,21.8,21.8,21.9,22.0,22.1,22.2,22.2,22.2,22.3,22.3,22.4,22.4,22.5,22.6,22.6,22.7,22.7,22.8,22.8,22.9,22.9,23.0,23.1,23.1,23.1,23.2,23.2,23.3,23.4,23.4,23.5,23.5,23.6,23.6,23.6,23.7,23.7,23.8,23.9,23.9,23.9,23.9,24.0,24.1,24.1,24.2,24.2,24.2,24.3,24.3,24.4,24.4,24.4,24.5,24.5,24.6,24.6,24.7,24.7,24.7,24.8,24.8,24.8,24.9,25.0,25.0,25.1,25.1,25.3,25.3,25.3,25.4,25.5,25.5,25.6,25.6,25.8,25.9,26.0,26.1,26.3,26.4,26.7,26.9,27.1,27.2,27.4,27.5,27.6,27.8,27.9,28.1,28.2,28.3,28.5,28.7,28.8,29.0,29.1,29.2,29.4,29.5,29.6,29.7,29.9,30.0,30.2,30.4,30.6,30.8,30.9,31.2,31.4,31.6,31.8,31.9,32.1,32.2,32.5,32.3,32.5,32.6,32.8,33.0,33.2,33.5,33.7,33.9,34.1,34.3,34.5,34.6,34.8,35.1,35.2,35.4,35.6,35.8,36.0,36.2,36.4,36.5,36.7,36.5,36.6,36.7,36.8,36.9,37.0,37.1,37.2,37.3,37.3,37.4,37.4,37.8,37.8,37.9,38.0,38.1,38.2,38.3,38.5,38.6,38.6,38.7,38.9,39.6,39.7,39.9,40.1,40.3,40.7,41.0,41.4,42.1,42.6,43.2,43.7,44.1,44.4,44.8,45.3,45.8,46.3,46.7,47.0,47.4,47.8,48.1,48.5,48.9,48.8,49.3,49.7,50.2,50.7,51.0,51.4,51.8,52.3,52.6,53.0,53.2,53.9,54.2,54.6,54.9,55.5,56.0,56.5,57.0,57.3,57.7,58.2,58.4,58.6,59.0,59.3,59.9,60.2,60.7,61.1,61.5,61.9,62.4,62.8,63.3,63.8,64.1,64.8,65.2,65.7,66.1,66.6,67.1,67.7,68.2,68.7,69.2,69.8,70.6,71.4,72.3,73.0,73.6,74.2,74.7,75.2,75.6,76.3,76.9,77.3,77.8,78.6,79.2,79.9,80.7,81.4,82.3,83.4,84.3,85.1,85.9,86.8,87.5,88.2,88.8,89.6,90.5,91.3,92.2,93.0,93.9,94.7,95.5,96.5,97.2,97.9,98.8,99.0,99.4,99.9,100.4,100.8,101.4,101.8,102.3,102.8,103.4,104.0,105.0,105.2,105.8,106.2,106.7,107.2,107.7,108.1,108.7,109.3,109.8,110.2,110.8,111.4,112.0,112.6,113.3,113.9,114.6,115.2,115.8,116.5,117.1,118.0,118.8,119.7,120.4,121.2,121.8,122.5,123.2,124.0,124.7,125.5,126.2,126.7,127.2,127.8,128.6,129.2,130.0,130.6,131.2,131.9,132.4,133.0,133.5,134.4,135.2,135.8,136.7,137.6,138.3,139.1,139.8,140.5,141.4,142.0,142.7,143.8,144.9,145.8,146.6,147.5,148.6,149.6,150.6,151.8,152.8,154.1,154.9,156.0,157.1,158.3,159.6,160.8,162.0,163.4,164.8,165.9,167.3,168.7,169.8,171.0,172.1,173.2,174.3,175.2,176.4,177.4,178.8,179.9,180.9,181.9,183.1,184.3,185.6,186.8,187.9,188.7,189.6,190.6,191.5,192.4,193.5,194.5,195.3,196.4,197.4,198.1,199.1,200.5,201.3,202.2,202.8,203.6,204.5,205.1,205.8,206.4,207.2,207.9,209.0,209.7,210.5,211.3,212.2,213.1,214.1,215.0,215.9,216.6,217.4,218.1,218.6,219.2,219.9,220.6,221.6,222.4,223.0,223.7,224.3,225.2,225.7,226.2,226.8,227.4,228.0,228.6,229.1,229.7,230.3,231.0,231.2,231.8,232.2,233.0,233.5,234.1,234.4,234.7,235.1,235.5,236.1,236.9,237.8,238.1,238.8,239.4,240.3,241.2,241.8,242.5,243.3,244.1,244.8,245.3,245.9,246.5,247.3,247.9,248.7,249.3,250.0,250.9,251.7,252.5,253.1,253.9,254.9,255.6,256.5,257.7,258.4,259.2,260.3,261.2,262.4,263.3,264.1,264.7,265.6,267.2,268.3,269.4,270.4,271.3,272.4,272.8,274.3,275.2,276.3,277.4,278.2,279.8,280.4,281.4,282.7,283.9,284.6,286.4,287.2,288.1,289.8,291.2,292.1,292.7,293.0,293.4,294.0,295.2,296.1,297.4,298.3,299.8,300.4,301.4,303.0,303.8,305.2,306.5,307.8,308.6,309.8,310.8,311.8,312.9,314.0,314.7,315.8,316.9,318.4,319.7,320.7,321.8,322.8,324.1,324.2,325.3,326.9,328.7,329.2,329.6,331.2,332.6,333.8,335.0,336.0,336.9,338.1,339.1,340.0,340.8,341.2,343.579,345.35,345.899,347.32,348.491,349.513,351.719,353.376,354.531,356.343,357.75,358.908,360.463,360.75,361.533,362.072,362.658,363.671,364.156,364.977,365.841,366.53,367.459,368.748,369.824,370.853,371.705,373.077,374.359,375.177,376.001,377.091,378.359,379.291,380.45,381.111,382.742,384.308,385.712,386.589,387.094,388.188,388.123,389.059,391.288,391.926,392.535,393.514,394.072,395.518,396.29,397.701,398.721,399.416,400.539,401.387,402.202,404.068,405.751,407.23,408.394,408.89,410.257,411.475,412.864,415.289,417.004,417.555,418.453,419.07,419.509,420.321,421.114,421.601,423.089,423.025,422.316,424.286,425.008,427.168,428.29,428.586,428.485,428.622,429.989,431.137,432.211,433.26,434.262,435.187,435.864,436.041,437.091,437.758,439.408,441.464,441.351,441.101,442.943,445.822,446.743,446.33,446.953,446.612,447.648,450.681,452.225,452.732,454.194,456.922,457.723,459.245,460.487,462.09,464.439,469.02,469.816,469.749,469.914,470.539,471.484,473.139,473.685,473.007,472.981,474.492,476.279,477.199,477.19,477.671,477.791,478.891,480.81,481.556,483.055,483.512,484.46,486.165,485.236,484.268,485.461,485.772,487.587,488.555,489.949,490.006,491.324,492.855,494.658,495.692,497.582,500.784,502.304,506.64,508.357,510.862,511.901,512.728,514.554,516.578,518.957,520.87,522.467,522.99,523.521,521.27,520.704,519.978,521.888,523.03,523.686,524.142,523.659,523.126,523.951,524.845,525.861,528.134,529.754,531.268,534.798,535.732,null,null,null,null,null,null,null,null,null,null],\"type\":\"scatter\"},{\"mode\":\"lines\",\"name\":\"Recreation\",\"x\":[\"1947-01-01T00:00:00.000000000\",\"1947-02-01T00:00:00.000000000\",\"1947-03-01T00:00:00.000000000\",\"1947-04-01T00:00:00.000000000\",\"1947-05-01T00:00:00.000000000\",\"1947-06-01T00:00:00.000000000\",\"1947-07-01T00:00:00.000000000\",\"1947-08-01T00:00:00.000000000\",\"1947-09-01T00:00:00.000000000\",\"1947-10-01T00:00:00.000000000\",\"1947-11-01T00:00:00.000000000\",\"1947-12-01T00:00:00.000000000\",\"1948-01-01T00:00:00.000000000\",\"1948-02-01T00:00:00.000000000\",\"1948-03-01T00:00:00.000000000\",\"1948-04-01T00:00:00.000000000\",\"1948-05-01T00:00:00.000000000\",\"1948-06-01T00:00:00.000000000\",\"1948-07-01T00:00:00.000000000\",\"1948-08-01T00:00:00.000000000\",\"1948-09-01T00:00:00.000000000\",\"1948-10-01T00:00:00.000000000\",\"1948-11-01T00:00:00.000000000\",\"1948-12-01T00:00:00.000000000\",\"1949-01-01T00:00:00.000000000\",\"1949-02-01T00:00:00.000000000\",\"1949-03-01T00:00:00.000000000\",\"1949-04-01T00:00:00.000000000\",\"1949-05-01T00:00:00.000000000\",\"1949-06-01T00:00:00.000000000\",\"1949-07-01T00:00:00.000000000\",\"1949-08-01T00:00:00.000000000\",\"1949-09-01T00:00:00.000000000\",\"1949-10-01T00:00:00.000000000\",\"1949-11-01T00:00:00.000000000\",\"1949-12-01T00:00:00.000000000\",\"1950-01-01T00:00:00.000000000\",\"1950-02-01T00:00:00.000000000\",\"1950-03-01T00:00:00.000000000\",\"1950-04-01T00:00:00.000000000\",\"1950-05-01T00:00:00.000000000\",\"1950-06-01T00:00:00.000000000\",\"1950-07-01T00:00:00.000000000\",\"1950-08-01T00:00:00.000000000\",\"1950-09-01T00:00:00.000000000\",\"1950-10-01T00:00:00.000000000\",\"1950-11-01T00:00:00.000000000\",\"1950-12-01T00:00:00.000000000\",\"1951-01-01T00:00:00.000000000\",\"1951-02-01T00:00:00.000000000\",\"1951-03-01T00:00:00.000000000\",\"1951-04-01T00:00:00.000000000\",\"1951-05-01T00:00:00.000000000\",\"1951-06-01T00:00:00.000000000\",\"1951-07-01T00:00:00.000000000\",\"1951-08-01T00:00:00.000000000\",\"1951-09-01T00:00:00.000000000\",\"1951-10-01T00:00:00.000000000\",\"1951-11-01T00:00:00.000000000\",\"1951-12-01T00:00:00.000000000\",\"1952-01-01T00:00:00.000000000\",\"1952-02-01T00:00:00.000000000\",\"1952-03-01T00:00:00.000000000\",\"1952-04-01T00:00:00.000000000\",\"1952-05-01T00:00:00.000000000\",\"1952-06-01T00:00:00.000000000\",\"1952-07-01T00:00:00.000000000\",\"1952-08-01T00:00:00.000000000\",\"1952-09-01T00:00:00.000000000\",\"1952-10-01T00:00:00.000000000\",\"1952-11-01T00:00:00.000000000\",\"1952-12-01T00:00:00.000000000\",\"1953-01-01T00:00:00.000000000\",\"1953-02-01T00:00:00.000000000\",\"1953-03-01T00:00:00.000000000\",\"1953-04-01T00:00:00.000000000\",\"1953-05-01T00:00:00.000000000\",\"1953-06-01T00:00:00.000000000\",\"1953-07-01T00:00:00.000000000\",\"1953-08-01T00:00:00.000000000\",\"1953-09-01T00:00:00.000000000\",\"1953-10-01T00:00:00.000000000\",\"1953-11-01T00:00:00.000000000\",\"1953-12-01T00:00:00.000000000\",\"1954-01-01T00:00:00.000000000\",\"1954-02-01T00:00:00.000000000\",\"1954-03-01T00:00:00.000000000\",\"1954-04-01T00:00:00.000000000\",\"1954-05-01T00:00:00.000000000\",\"1954-06-01T00:00:00.000000000\",\"1954-07-01T00:00:00.000000000\",\"1954-08-01T00:00:00.000000000\",\"1954-09-01T00:00:00.000000000\",\"1954-10-01T00:00:00.000000000\",\"1954-11-01T00:00:00.000000000\",\"1954-12-01T00:00:00.000000000\",\"1955-01-01T00:00:00.000000000\",\"1955-02-01T00:00:00.000000000\",\"1955-03-01T00:00:00.000000000\",\"1955-04-01T00:00:00.000000000\",\"1955-05-01T00:00:00.000000000\",\"1955-06-01T00:00:00.000000000\",\"1955-07-01T00:00:00.000000000\",\"1955-08-01T00:00:00.000000000\",\"1955-09-01T00:00:00.000000000\",\"1955-10-01T00:00:00.000000000\",\"1955-11-01T00:00:00.000000000\",\"1955-12-01T00:00:00.000000000\",\"1956-01-01T00:00:00.000000000\",\"1956-02-01T00:00:00.000000000\",\"1956-03-01T00:00:00.000000000\",\"1956-04-01T00:00:00.000000000\",\"1956-05-01T00:00:00.000000000\",\"1956-06-01T00:00:00.000000000\",\"1956-07-01T00:00:00.000000000\",\"1956-08-01T00:00:00.000000000\",\"1956-09-01T00:00:00.000000000\",\"1956-10-01T00:00:00.000000000\",\"1956-11-01T00:00:00.000000000\",\"1956-12-01T00:00:00.000000000\",\"1957-01-01T00:00:00.000000000\",\"1957-02-01T00:00:00.000000000\",\"1957-03-01T00:00:00.000000000\",\"1957-04-01T00:00:00.000000000\",\"1957-05-01T00:00:00.000000000\",\"1957-06-01T00:00:00.000000000\",\"1957-07-01T00:00:00.000000000\",\"1957-08-01T00:00:00.000000000\",\"1957-09-01T00:00:00.000000000\",\"1957-10-01T00:00:00.000000000\",\"1957-11-01T00:00:00.000000000\",\"1957-12-01T00:00:00.000000000\",\"1958-01-01T00:00:00.000000000\",\"1958-02-01T00:00:00.000000000\",\"1958-03-01T00:00:00.000000000\",\"1958-04-01T00:00:00.000000000\",\"1958-05-01T00:00:00.000000000\",\"1958-06-01T00:00:00.000000000\",\"1958-07-01T00:00:00.000000000\",\"1958-08-01T00:00:00.000000000\",\"1958-09-01T00:00:00.000000000\",\"1958-10-01T00:00:00.000000000\",\"1958-11-01T00:00:00.000000000\",\"1958-12-01T00:00:00.000000000\",\"1959-01-01T00:00:00.000000000\",\"1959-02-01T00:00:00.000000000\",\"1959-03-01T00:00:00.000000000\",\"1959-04-01T00:00:00.000000000\",\"1959-05-01T00:00:00.000000000\",\"1959-06-01T00:00:00.000000000\",\"1959-07-01T00:00:00.000000000\",\"1959-08-01T00:00:00.000000000\",\"1959-09-01T00:00:00.000000000\",\"1959-10-01T00:00:00.000000000\",\"1959-11-01T00:00:00.000000000\",\"1959-12-01T00:00:00.000000000\",\"1960-01-01T00:00:00.000000000\",\"1960-02-01T00:00:00.000000000\",\"1960-03-01T00:00:00.000000000\",\"1960-04-01T00:00:00.000000000\",\"1960-05-01T00:00:00.000000000\",\"1960-06-01T00:00:00.000000000\",\"1960-07-01T00:00:00.000000000\",\"1960-08-01T00:00:00.000000000\",\"1960-09-01T00:00:00.000000000\",\"1960-10-01T00:00:00.000000000\",\"1960-11-01T00:00:00.000000000\",\"1960-12-01T00:00:00.000000000\",\"1961-01-01T00:00:00.000000000\",\"1961-02-01T00:00:00.000000000\",\"1961-03-01T00:00:00.000000000\",\"1961-04-01T00:00:00.000000000\",\"1961-05-01T00:00:00.000000000\",\"1961-06-01T00:00:00.000000000\",\"1961-07-01T00:00:00.000000000\",\"1961-08-01T00:00:00.000000000\",\"1961-09-01T00:00:00.000000000\",\"1961-10-01T00:00:00.000000000\",\"1961-11-01T00:00:00.000000000\",\"1961-12-01T00:00:00.000000000\",\"1962-01-01T00:00:00.000000000\",\"1962-02-01T00:00:00.000000000\",\"1962-03-01T00:00:00.000000000\",\"1962-04-01T00:00:00.000000000\",\"1962-05-01T00:00:00.000000000\",\"1962-06-01T00:00:00.000000000\",\"1962-07-01T00:00:00.000000000\",\"1962-08-01T00:00:00.000000000\",\"1962-09-01T00:00:00.000000000\",\"1962-10-01T00:00:00.000000000\",\"1962-11-01T00:00:00.000000000\",\"1962-12-01T00:00:00.000000000\",\"1963-01-01T00:00:00.000000000\",\"1963-02-01T00:00:00.000000000\",\"1963-03-01T00:00:00.000000000\",\"1963-04-01T00:00:00.000000000\",\"1963-05-01T00:00:00.000000000\",\"1963-06-01T00:00:00.000000000\",\"1963-07-01T00:00:00.000000000\",\"1963-08-01T00:00:00.000000000\",\"1963-09-01T00:00:00.000000000\",\"1963-10-01T00:00:00.000000000\",\"1963-11-01T00:00:00.000000000\",\"1963-12-01T00:00:00.000000000\",\"1964-01-01T00:00:00.000000000\",\"1964-02-01T00:00:00.000000000\",\"1964-03-01T00:00:00.000000000\",\"1964-04-01T00:00:00.000000000\",\"1964-05-01T00:00:00.000000000\",\"1964-06-01T00:00:00.000000000\",\"1964-07-01T00:00:00.000000000\",\"1964-08-01T00:00:00.000000000\",\"1964-09-01T00:00:00.000000000\",\"1964-10-01T00:00:00.000000000\",\"1964-11-01T00:00:00.000000000\",\"1964-12-01T00:00:00.000000000\",\"1965-01-01T00:00:00.000000000\",\"1965-02-01T00:00:00.000000000\",\"1965-03-01T00:00:00.000000000\",\"1965-04-01T00:00:00.000000000\",\"1965-05-01T00:00:00.000000000\",\"1965-06-01T00:00:00.000000000\",\"1965-07-01T00:00:00.000000000\",\"1965-08-01T00:00:00.000000000\",\"1965-09-01T00:00:00.000000000\",\"1965-10-01T00:00:00.000000000\",\"1965-11-01T00:00:00.000000000\",\"1965-12-01T00:00:00.000000000\",\"1966-01-01T00:00:00.000000000\",\"1966-02-01T00:00:00.000000000\",\"1966-03-01T00:00:00.000000000\",\"1966-04-01T00:00:00.000000000\",\"1966-05-01T00:00:00.000000000\",\"1966-06-01T00:00:00.000000000\",\"1966-07-01T00:00:00.000000000\",\"1966-08-01T00:00:00.000000000\",\"1966-09-01T00:00:00.000000000\",\"1966-10-01T00:00:00.000000000\",\"1966-11-01T00:00:00.000000000\",\"1966-12-01T00:00:00.000000000\",\"1967-01-01T00:00:00.000000000\",\"1967-02-01T00:00:00.000000000\",\"1967-03-01T00:00:00.000000000\",\"1967-04-01T00:00:00.000000000\",\"1967-05-01T00:00:00.000000000\",\"1967-06-01T00:00:00.000000000\",\"1967-07-01T00:00:00.000000000\",\"1967-08-01T00:00:00.000000000\",\"1967-09-01T00:00:00.000000000\",\"1967-10-01T00:00:00.000000000\",\"1967-11-01T00:00:00.000000000\",\"1967-12-01T00:00:00.000000000\",\"1968-01-01T00:00:00.000000000\",\"1968-02-01T00:00:00.000000000\",\"1968-03-01T00:00:00.000000000\",\"1968-04-01T00:00:00.000000000\",\"1968-05-01T00:00:00.000000000\",\"1968-06-01T00:00:00.000000000\",\"1968-07-01T00:00:00.000000000\",\"1968-08-01T00:00:00.000000000\",\"1968-09-01T00:00:00.000000000\",\"1968-10-01T00:00:00.000000000\",\"1968-11-01T00:00:00.000000000\",\"1968-12-01T00:00:00.000000000\",\"1969-01-01T00:00:00.000000000\",\"1969-02-01T00:00:00.000000000\",\"1969-03-01T00:00:00.000000000\",\"1969-04-01T00:00:00.000000000\",\"1969-05-01T00:00:00.000000000\",\"1969-06-01T00:00:00.000000000\",\"1969-07-01T00:00:00.000000000\",\"1969-08-01T00:00:00.000000000\",\"1969-09-01T00:00:00.000000000\",\"1969-10-01T00:00:00.000000000\",\"1969-11-01T00:00:00.000000000\",\"1969-12-01T00:00:00.000000000\",\"1970-01-01T00:00:00.000000000\",\"1970-02-01T00:00:00.000000000\",\"1970-03-01T00:00:00.000000000\",\"1970-04-01T00:00:00.000000000\",\"1970-05-01T00:00:00.000000000\",\"1970-06-01T00:00:00.000000000\",\"1970-07-01T00:00:00.000000000\",\"1970-08-01T00:00:00.000000000\",\"1970-09-01T00:00:00.000000000\",\"1970-10-01T00:00:00.000000000\",\"1970-11-01T00:00:00.000000000\",\"1970-12-01T00:00:00.000000000\",\"1971-01-01T00:00:00.000000000\",\"1971-02-01T00:00:00.000000000\",\"1971-03-01T00:00:00.000000000\",\"1971-04-01T00:00:00.000000000\",\"1971-05-01T00:00:00.000000000\",\"1971-06-01T00:00:00.000000000\",\"1971-07-01T00:00:00.000000000\",\"1971-08-01T00:00:00.000000000\",\"1971-09-01T00:00:00.000000000\",\"1971-10-01T00:00:00.000000000\",\"1971-11-01T00:00:00.000000000\",\"1971-12-01T00:00:00.000000000\",\"1972-01-01T00:00:00.000000000\",\"1972-02-01T00:00:00.000000000\",\"1972-03-01T00:00:00.000000000\",\"1972-04-01T00:00:00.000000000\",\"1972-05-01T00:00:00.000000000\",\"1972-06-01T00:00:00.000000000\",\"1972-07-01T00:00:00.000000000\",\"1972-08-01T00:00:00.000000000\",\"1972-09-01T00:00:00.000000000\",\"1972-10-01T00:00:00.000000000\",\"1972-11-01T00:00:00.000000000\",\"1972-12-01T00:00:00.000000000\",\"1973-01-01T00:00:00.000000000\",\"1973-02-01T00:00:00.000000000\",\"1973-03-01T00:00:00.000000000\",\"1973-04-01T00:00:00.000000000\",\"1973-05-01T00:00:00.000000000\",\"1973-06-01T00:00:00.000000000\",\"1973-07-01T00:00:00.000000000\",\"1973-08-01T00:00:00.000000000\",\"1973-09-01T00:00:00.000000000\",\"1973-10-01T00:00:00.000000000\",\"1973-11-01T00:00:00.000000000\",\"1973-12-01T00:00:00.000000000\",\"1974-01-01T00:00:00.000000000\",\"1974-02-01T00:00:00.000000000\",\"1974-03-01T00:00:00.000000000\",\"1974-04-01T00:00:00.000000000\",\"1974-05-01T00:00:00.000000000\",\"1974-06-01T00:00:00.000000000\",\"1974-07-01T00:00:00.000000000\",\"1974-08-01T00:00:00.000000000\",\"1974-09-01T00:00:00.000000000\",\"1974-10-01T00:00:00.000000000\",\"1974-11-01T00:00:00.000000000\",\"1974-12-01T00:00:00.000000000\",\"1975-01-01T00:00:00.000000000\",\"1975-02-01T00:00:00.000000000\",\"1975-03-01T00:00:00.000000000\",\"1975-04-01T00:00:00.000000000\",\"1975-05-01T00:00:00.000000000\",\"1975-06-01T00:00:00.000000000\",\"1975-07-01T00:00:00.000000000\",\"1975-08-01T00:00:00.000000000\",\"1975-09-01T00:00:00.000000000\",\"1975-10-01T00:00:00.000000000\",\"1975-11-01T00:00:00.000000000\",\"1975-12-01T00:00:00.000000000\",\"1976-01-01T00:00:00.000000000\",\"1976-02-01T00:00:00.000000000\",\"1976-03-01T00:00:00.000000000\",\"1976-04-01T00:00:00.000000000\",\"1976-05-01T00:00:00.000000000\",\"1976-06-01T00:00:00.000000000\",\"1976-07-01T00:00:00.000000000\",\"1976-08-01T00:00:00.000000000\",\"1976-09-01T00:00:00.000000000\",\"1976-10-01T00:00:00.000000000\",\"1976-11-01T00:00:00.000000000\",\"1976-12-01T00:00:00.000000000\",\"1977-01-01T00:00:00.000000000\",\"1977-02-01T00:00:00.000000000\",\"1977-03-01T00:00:00.000000000\",\"1977-04-01T00:00:00.000000000\",\"1977-05-01T00:00:00.000000000\",\"1977-06-01T00:00:00.000000000\",\"1977-07-01T00:00:00.000000000\",\"1977-08-01T00:00:00.000000000\",\"1977-09-01T00:00:00.000000000\",\"1977-10-01T00:00:00.000000000\",\"1977-11-01T00:00:00.000000000\",\"1977-12-01T00:00:00.000000000\",\"1978-01-01T00:00:00.000000000\",\"1978-02-01T00:00:00.000000000\",\"1978-03-01T00:00:00.000000000\",\"1978-04-01T00:00:00.000000000\",\"1978-05-01T00:00:00.000000000\",\"1978-06-01T00:00:00.000000000\",\"1978-07-01T00:00:00.000000000\",\"1978-08-01T00:00:00.000000000\",\"1978-09-01T00:00:00.000000000\",\"1978-10-01T00:00:00.000000000\",\"1978-11-01T00:00:00.000000000\",\"1978-12-01T00:00:00.000000000\",\"1979-01-01T00:00:00.000000000\",\"1979-02-01T00:00:00.000000000\",\"1979-03-01T00:00:00.000000000\",\"1979-04-01T00:00:00.000000000\",\"1979-05-01T00:00:00.000000000\",\"1979-06-01T00:00:00.000000000\",\"1979-07-01T00:00:00.000000000\",\"1979-08-01T00:00:00.000000000\",\"1979-09-01T00:00:00.000000000\",\"1979-10-01T00:00:00.000000000\",\"1979-11-01T00:00:00.000000000\",\"1979-12-01T00:00:00.000000000\",\"1980-01-01T00:00:00.000000000\",\"1980-02-01T00:00:00.000000000\",\"1980-03-01T00:00:00.000000000\",\"1980-04-01T00:00:00.000000000\",\"1980-05-01T00:00:00.000000000\",\"1980-06-01T00:00:00.000000000\",\"1980-07-01T00:00:00.000000000\",\"1980-08-01T00:00:00.000000000\",\"1980-09-01T00:00:00.000000000\",\"1980-10-01T00:00:00.000000000\",\"1980-11-01T00:00:00.000000000\",\"1980-12-01T00:00:00.000000000\",\"1981-01-01T00:00:00.000000000\",\"1981-02-01T00:00:00.000000000\",\"1981-03-01T00:00:00.000000000\",\"1981-04-01T00:00:00.000000000\",\"1981-05-01T00:00:00.000000000\",\"1981-06-01T00:00:00.000000000\",\"1981-07-01T00:00:00.000000000\",\"1981-08-01T00:00:00.000000000\",\"1981-09-01T00:00:00.000000000\",\"1981-10-01T00:00:00.000000000\",\"1981-11-01T00:00:00.000000000\",\"1981-12-01T00:00:00.000000000\",\"1982-01-01T00:00:00.000000000\",\"1982-02-01T00:00:00.000000000\",\"1982-03-01T00:00:00.000000000\",\"1982-04-01T00:00:00.000000000\",\"1982-05-01T00:00:00.000000000\",\"1982-06-01T00:00:00.000000000\",\"1982-07-01T00:00:00.000000000\",\"1982-08-01T00:00:00.000000000\",\"1982-09-01T00:00:00.000000000\",\"1982-10-01T00:00:00.000000000\",\"1982-11-01T00:00:00.000000000\",\"1982-12-01T00:00:00.000000000\",\"1983-01-01T00:00:00.000000000\",\"1983-02-01T00:00:00.000000000\",\"1983-03-01T00:00:00.000000000\",\"1983-04-01T00:00:00.000000000\",\"1983-05-01T00:00:00.000000000\",\"1983-06-01T00:00:00.000000000\",\"1983-07-01T00:00:00.000000000\",\"1983-08-01T00:00:00.000000000\",\"1983-09-01T00:00:00.000000000\",\"1983-10-01T00:00:00.000000000\",\"1983-11-01T00:00:00.000000000\",\"1983-12-01T00:00:00.000000000\",\"1984-01-01T00:00:00.000000000\",\"1984-02-01T00:00:00.000000000\",\"1984-03-01T00:00:00.000000000\",\"1984-04-01T00:00:00.000000000\",\"1984-05-01T00:00:00.000000000\",\"1984-06-01T00:00:00.000000000\",\"1984-07-01T00:00:00.000000000\",\"1984-08-01T00:00:00.000000000\",\"1984-09-01T00:00:00.000000000\",\"1984-10-01T00:00:00.000000000\",\"1984-11-01T00:00:00.000000000\",\"1984-12-01T00:00:00.000000000\",\"1985-01-01T00:00:00.000000000\",\"1985-02-01T00:00:00.000000000\",\"1985-03-01T00:00:00.000000000\",\"1985-04-01T00:00:00.000000000\",\"1985-05-01T00:00:00.000000000\",\"1985-06-01T00:00:00.000000000\",\"1985-07-01T00:00:00.000000000\",\"1985-08-01T00:00:00.000000000\",\"1985-09-01T00:00:00.000000000\",\"1985-10-01T00:00:00.000000000\",\"1985-11-01T00:00:00.000000000\",\"1985-12-01T00:00:00.000000000\",\"1986-01-01T00:00:00.000000000\",\"1986-02-01T00:00:00.000000000\",\"1986-03-01T00:00:00.000000000\",\"1986-04-01T00:00:00.000000000\",\"1986-05-01T00:00:00.000000000\",\"1986-06-01T00:00:00.000000000\",\"1986-07-01T00:00:00.000000000\",\"1986-08-01T00:00:00.000000000\",\"1986-09-01T00:00:00.000000000\",\"1986-10-01T00:00:00.000000000\",\"1986-11-01T00:00:00.000000000\",\"1986-12-01T00:00:00.000000000\",\"1987-01-01T00:00:00.000000000\",\"1987-02-01T00:00:00.000000000\",\"1987-03-01T00:00:00.000000000\",\"1987-04-01T00:00:00.000000000\",\"1987-05-01T00:00:00.000000000\",\"1987-06-01T00:00:00.000000000\",\"1987-07-01T00:00:00.000000000\",\"1987-08-01T00:00:00.000000000\",\"1987-09-01T00:00:00.000000000\",\"1987-10-01T00:00:00.000000000\",\"1987-11-01T00:00:00.000000000\",\"1987-12-01T00:00:00.000000000\",\"1988-01-01T00:00:00.000000000\",\"1988-02-01T00:00:00.000000000\",\"1988-03-01T00:00:00.000000000\",\"1988-04-01T00:00:00.000000000\",\"1988-05-01T00:00:00.000000000\",\"1988-06-01T00:00:00.000000000\",\"1988-07-01T00:00:00.000000000\",\"1988-08-01T00:00:00.000000000\",\"1988-09-01T00:00:00.000000000\",\"1988-10-01T00:00:00.000000000\",\"1988-11-01T00:00:00.000000000\",\"1988-12-01T00:00:00.000000000\",\"1989-01-01T00:00:00.000000000\",\"1989-02-01T00:00:00.000000000\",\"1989-03-01T00:00:00.000000000\",\"1989-04-01T00:00:00.000000000\",\"1989-05-01T00:00:00.000000000\",\"1989-06-01T00:00:00.000000000\",\"1989-07-01T00:00:00.000000000\",\"1989-08-01T00:00:00.000000000\",\"1989-09-01T00:00:00.000000000\",\"1989-10-01T00:00:00.000000000\",\"1989-11-01T00:00:00.000000000\",\"1989-12-01T00:00:00.000000000\",\"1990-01-01T00:00:00.000000000\",\"1990-02-01T00:00:00.000000000\",\"1990-03-01T00:00:00.000000000\",\"1990-04-01T00:00:00.000000000\",\"1990-05-01T00:00:00.000000000\",\"1990-06-01T00:00:00.000000000\",\"1990-07-01T00:00:00.000000000\",\"1990-08-01T00:00:00.000000000\",\"1990-09-01T00:00:00.000000000\",\"1990-10-01T00:00:00.000000000\",\"1990-11-01T00:00:00.000000000\",\"1990-12-01T00:00:00.000000000\",\"1991-01-01T00:00:00.000000000\",\"1991-02-01T00:00:00.000000000\",\"1991-03-01T00:00:00.000000000\",\"1991-04-01T00:00:00.000000000\",\"1991-05-01T00:00:00.000000000\",\"1991-06-01T00:00:00.000000000\",\"1991-07-01T00:00:00.000000000\",\"1991-08-01T00:00:00.000000000\",\"1991-09-01T00:00:00.000000000\",\"1991-10-01T00:00:00.000000000\",\"1991-11-01T00:00:00.000000000\",\"1991-12-01T00:00:00.000000000\",\"1992-01-01T00:00:00.000000000\",\"1992-02-01T00:00:00.000000000\",\"1992-03-01T00:00:00.000000000\",\"1992-04-01T00:00:00.000000000\",\"1992-05-01T00:00:00.000000000\",\"1992-06-01T00:00:00.000000000\",\"1992-07-01T00:00:00.000000000\",\"1992-08-01T00:00:00.000000000\",\"1992-09-01T00:00:00.000000000\",\"1992-10-01T00:00:00.000000000\",\"1992-11-01T00:00:00.000000000\",\"1992-12-01T00:00:00.000000000\",\"1993-01-01T00:00:00.000000000\",\"1993-02-01T00:00:00.000000000\",\"1993-03-01T00:00:00.000000000\",\"1993-04-01T00:00:00.000000000\",\"1993-05-01T00:00:00.000000000\",\"1993-06-01T00:00:00.000000000\",\"1993-07-01T00:00:00.000000000\",\"1993-08-01T00:00:00.000000000\",\"1993-09-01T00:00:00.000000000\",\"1993-10-01T00:00:00.000000000\",\"1993-11-01T00:00:00.000000000\",\"1993-12-01T00:00:00.000000000\",\"1994-01-01T00:00:00.000000000\",\"1994-02-01T00:00:00.000000000\",\"1994-03-01T00:00:00.000000000\",\"1994-04-01T00:00:00.000000000\",\"1994-05-01T00:00:00.000000000\",\"1994-06-01T00:00:00.000000000\",\"1994-07-01T00:00:00.000000000\",\"1994-08-01T00:00:00.000000000\",\"1994-09-01T00:00:00.000000000\",\"1994-10-01T00:00:00.000000000\",\"1994-11-01T00:00:00.000000000\",\"1994-12-01T00:00:00.000000000\",\"1995-01-01T00:00:00.000000000\",\"1995-02-01T00:00:00.000000000\",\"1995-03-01T00:00:00.000000000\",\"1995-04-01T00:00:00.000000000\",\"1995-05-01T00:00:00.000000000\",\"1995-06-01T00:00:00.000000000\",\"1995-07-01T00:00:00.000000000\",\"1995-08-01T00:00:00.000000000\",\"1995-09-01T00:00:00.000000000\",\"1995-10-01T00:00:00.000000000\",\"1995-11-01T00:00:00.000000000\",\"1995-12-01T00:00:00.000000000\",\"1996-01-01T00:00:00.000000000\",\"1996-02-01T00:00:00.000000000\",\"1996-03-01T00:00:00.000000000\",\"1996-04-01T00:00:00.000000000\",\"1996-05-01T00:00:00.000000000\",\"1996-06-01T00:00:00.000000000\",\"1996-07-01T00:00:00.000000000\",\"1996-08-01T00:00:00.000000000\",\"1996-09-01T00:00:00.000000000\",\"1996-10-01T00:00:00.000000000\",\"1996-11-01T00:00:00.000000000\",\"1996-12-01T00:00:00.000000000\",\"1997-01-01T00:00:00.000000000\",\"1997-02-01T00:00:00.000000000\",\"1997-03-01T00:00:00.000000000\",\"1997-04-01T00:00:00.000000000\",\"1997-05-01T00:00:00.000000000\",\"1997-06-01T00:00:00.000000000\",\"1997-07-01T00:00:00.000000000\",\"1997-08-01T00:00:00.000000000\",\"1997-09-01T00:00:00.000000000\",\"1997-10-01T00:00:00.000000000\",\"1997-11-01T00:00:00.000000000\",\"1997-12-01T00:00:00.000000000\",\"1998-01-01T00:00:00.000000000\",\"1998-02-01T00:00:00.000000000\",\"1998-03-01T00:00:00.000000000\",\"1998-04-01T00:00:00.000000000\",\"1998-05-01T00:00:00.000000000\",\"1998-06-01T00:00:00.000000000\",\"1998-07-01T00:00:00.000000000\",\"1998-08-01T00:00:00.000000000\",\"1998-09-01T00:00:00.000000000\",\"1998-10-01T00:00:00.000000000\",\"1998-11-01T00:00:00.000000000\",\"1998-12-01T00:00:00.000000000\",\"1999-01-01T00:00:00.000000000\",\"1999-02-01T00:00:00.000000000\",\"1999-03-01T00:00:00.000000000\",\"1999-04-01T00:00:00.000000000\",\"1999-05-01T00:00:00.000000000\",\"1999-06-01T00:00:00.000000000\",\"1999-07-01T00:00:00.000000000\",\"1999-08-01T00:00:00.000000000\",\"1999-09-01T00:00:00.000000000\",\"1999-10-01T00:00:00.000000000\",\"1999-11-01T00:00:00.000000000\",\"1999-12-01T00:00:00.000000000\",\"2000-01-01T00:00:00.000000000\",\"2000-02-01T00:00:00.000000000\",\"2000-03-01T00:00:00.000000000\",\"2000-04-01T00:00:00.000000000\",\"2000-05-01T00:00:00.000000000\",\"2000-06-01T00:00:00.000000000\",\"2000-07-01T00:00:00.000000000\",\"2000-08-01T00:00:00.000000000\",\"2000-09-01T00:00:00.000000000\",\"2000-10-01T00:00:00.000000000\",\"2000-11-01T00:00:00.000000000\",\"2000-12-01T00:00:00.000000000\",\"2001-01-01T00:00:00.000000000\",\"2001-02-01T00:00:00.000000000\",\"2001-03-01T00:00:00.000000000\",\"2001-04-01T00:00:00.000000000\",\"2001-05-01T00:00:00.000000000\",\"2001-06-01T00:00:00.000000000\",\"2001-07-01T00:00:00.000000000\",\"2001-08-01T00:00:00.000000000\",\"2001-09-01T00:00:00.000000000\",\"2001-10-01T00:00:00.000000000\",\"2001-11-01T00:00:00.000000000\",\"2001-12-01T00:00:00.000000000\",\"2002-01-01T00:00:00.000000000\",\"2002-02-01T00:00:00.000000000\",\"2002-03-01T00:00:00.000000000\",\"2002-04-01T00:00:00.000000000\",\"2002-05-01T00:00:00.000000000\",\"2002-06-01T00:00:00.000000000\",\"2002-07-01T00:00:00.000000000\",\"2002-08-01T00:00:00.000000000\",\"2002-09-01T00:00:00.000000000\",\"2002-10-01T00:00:00.000000000\",\"2002-11-01T00:00:00.000000000\",\"2002-12-01T00:00:00.000000000\",\"2003-01-01T00:00:00.000000000\",\"2003-02-01T00:00:00.000000000\",\"2003-03-01T00:00:00.000000000\",\"2003-04-01T00:00:00.000000000\",\"2003-05-01T00:00:00.000000000\",\"2003-06-01T00:00:00.000000000\",\"2003-07-01T00:00:00.000000000\",\"2003-08-01T00:00:00.000000000\",\"2003-09-01T00:00:00.000000000\",\"2003-10-01T00:00:00.000000000\",\"2003-11-01T00:00:00.000000000\",\"2003-12-01T00:00:00.000000000\",\"2004-01-01T00:00:00.000000000\",\"2004-02-01T00:00:00.000000000\",\"2004-03-01T00:00:00.000000000\",\"2004-04-01T00:00:00.000000000\",\"2004-05-01T00:00:00.000000000\",\"2004-06-01T00:00:00.000000000\",\"2004-07-01T00:00:00.000000000\",\"2004-08-01T00:00:00.000000000\",\"2004-09-01T00:00:00.000000000\",\"2004-10-01T00:00:00.000000000\",\"2004-11-01T00:00:00.000000000\",\"2004-12-01T00:00:00.000000000\",\"2005-01-01T00:00:00.000000000\",\"2005-02-01T00:00:00.000000000\",\"2005-03-01T00:00:00.000000000\",\"2005-04-01T00:00:00.000000000\",\"2005-05-01T00:00:00.000000000\",\"2005-06-01T00:00:00.000000000\",\"2005-07-01T00:00:00.000000000\",\"2005-08-01T00:00:00.000000000\",\"2005-09-01T00:00:00.000000000\",\"2005-10-01T00:00:00.000000000\",\"2005-11-01T00:00:00.000000000\",\"2005-12-01T00:00:00.000000000\",\"2006-01-01T00:00:00.000000000\",\"2006-02-01T00:00:00.000000000\",\"2006-03-01T00:00:00.000000000\",\"2006-04-01T00:00:00.000000000\",\"2006-05-01T00:00:00.000000000\",\"2006-06-01T00:00:00.000000000\",\"2006-07-01T00:00:00.000000000\",\"2006-08-01T00:00:00.000000000\",\"2006-09-01T00:00:00.000000000\",\"2006-10-01T00:00:00.000000000\",\"2006-11-01T00:00:00.000000000\",\"2006-12-01T00:00:00.000000000\",\"2007-01-01T00:00:00.000000000\",\"2007-02-01T00:00:00.000000000\",\"2007-03-01T00:00:00.000000000\",\"2007-04-01T00:00:00.000000000\",\"2007-05-01T00:00:00.000000000\",\"2007-06-01T00:00:00.000000000\",\"2007-07-01T00:00:00.000000000\",\"2007-08-01T00:00:00.000000000\",\"2007-09-01T00:00:00.000000000\",\"2007-10-01T00:00:00.000000000\",\"2007-11-01T00:00:00.000000000\",\"2007-12-01T00:00:00.000000000\",\"2008-01-01T00:00:00.000000000\",\"2008-02-01T00:00:00.000000000\",\"2008-03-01T00:00:00.000000000\",\"2008-04-01T00:00:00.000000000\",\"2008-05-01T00:00:00.000000000\",\"2008-06-01T00:00:00.000000000\",\"2008-07-01T00:00:00.000000000\",\"2008-08-01T00:00:00.000000000\",\"2008-09-01T00:00:00.000000000\",\"2008-10-01T00:00:00.000000000\",\"2008-11-01T00:00:00.000000000\",\"2008-12-01T00:00:00.000000000\",\"2009-01-01T00:00:00.000000000\",\"2009-02-01T00:00:00.000000000\",\"2009-03-01T00:00:00.000000000\",\"2009-04-01T00:00:00.000000000\",\"2009-05-01T00:00:00.000000000\",\"2009-06-01T00:00:00.000000000\",\"2009-07-01T00:00:00.000000000\",\"2009-08-01T00:00:00.000000000\",\"2009-09-01T00:00:00.000000000\",\"2009-10-01T00:00:00.000000000\",\"2009-11-01T00:00:00.000000000\",\"2009-12-01T00:00:00.000000000\",\"2010-01-01T00:00:00.000000000\",\"2010-02-01T00:00:00.000000000\",\"2010-03-01T00:00:00.000000000\",\"2010-04-01T00:00:00.000000000\",\"2010-05-01T00:00:00.000000000\",\"2010-06-01T00:00:00.000000000\",\"2010-07-01T00:00:00.000000000\",\"2010-08-01T00:00:00.000000000\",\"2010-09-01T00:00:00.000000000\",\"2010-10-01T00:00:00.000000000\",\"2010-11-01T00:00:00.000000000\",\"2010-12-01T00:00:00.000000000\",\"2011-01-01T00:00:00.000000000\",\"2011-02-01T00:00:00.000000000\",\"2011-03-01T00:00:00.000000000\",\"2011-04-01T00:00:00.000000000\",\"2011-05-01T00:00:00.000000000\",\"2011-06-01T00:00:00.000000000\",\"2011-07-01T00:00:00.000000000\",\"2011-08-01T00:00:00.000000000\",\"2011-09-01T00:00:00.000000000\",\"2011-10-01T00:00:00.000000000\",\"2011-11-01T00:00:00.000000000\",\"2011-12-01T00:00:00.000000000\",\"2012-01-01T00:00:00.000000000\",\"2012-02-01T00:00:00.000000000\",\"2012-03-01T00:00:00.000000000\",\"2012-04-01T00:00:00.000000000\",\"2012-05-01T00:00:00.000000000\",\"2012-06-01T00:00:00.000000000\",\"2012-07-01T00:00:00.000000000\",\"2012-08-01T00:00:00.000000000\",\"2012-09-01T00:00:00.000000000\",\"2012-10-01T00:00:00.000000000\",\"2012-11-01T00:00:00.000000000\",\"2012-12-01T00:00:00.000000000\",\"2013-01-01T00:00:00.000000000\",\"2013-02-01T00:00:00.000000000\",\"2013-03-01T00:00:00.000000000\",\"2013-04-01T00:00:00.000000000\",\"2013-05-01T00:00:00.000000000\",\"2013-06-01T00:00:00.000000000\",\"2013-07-01T00:00:00.000000000\",\"2013-08-01T00:00:00.000000000\",\"2013-09-01T00:00:00.000000000\",\"2013-10-01T00:00:00.000000000\",\"2013-11-01T00:00:00.000000000\",\"2013-12-01T00:00:00.000000000\",\"2014-01-01T00:00:00.000000000\",\"2014-02-01T00:00:00.000000000\",\"2014-03-01T00:00:00.000000000\",\"2014-04-01T00:00:00.000000000\",\"2014-05-01T00:00:00.000000000\",\"2014-06-01T00:00:00.000000000\",\"2014-07-01T00:00:00.000000000\",\"2014-08-01T00:00:00.000000000\",\"2014-09-01T00:00:00.000000000\",\"2014-10-01T00:00:00.000000000\",\"2014-11-01T00:00:00.000000000\",\"2014-12-01T00:00:00.000000000\",\"2015-01-01T00:00:00.000000000\",\"2015-02-01T00:00:00.000000000\",\"2015-03-01T00:00:00.000000000\",\"2015-04-01T00:00:00.000000000\",\"2015-05-01T00:00:00.000000000\",\"2015-06-01T00:00:00.000000000\",\"2015-07-01T00:00:00.000000000\",\"2015-08-01T00:00:00.000000000\",\"2015-09-01T00:00:00.000000000\",\"2015-10-01T00:00:00.000000000\",\"2015-11-01T00:00:00.000000000\",\"2015-12-01T00:00:00.000000000\",\"2016-01-01T00:00:00.000000000\",\"2016-02-01T00:00:00.000000000\",\"2016-03-01T00:00:00.000000000\",\"2016-04-01T00:00:00.000000000\",\"2016-05-01T00:00:00.000000000\",\"2016-06-01T00:00:00.000000000\",\"2016-07-01T00:00:00.000000000\",\"2016-08-01T00:00:00.000000000\",\"2016-09-01T00:00:00.000000000\",\"2016-10-01T00:00:00.000000000\",\"2016-11-01T00:00:00.000000000\",\"2016-12-01T00:00:00.000000000\",\"2017-01-01T00:00:00.000000000\",\"2017-02-01T00:00:00.000000000\",\"2017-03-01T00:00:00.000000000\",\"2017-04-01T00:00:00.000000000\",\"2017-05-01T00:00:00.000000000\",\"2017-06-01T00:00:00.000000000\",\"2017-07-01T00:00:00.000000000\",\"2017-08-01T00:00:00.000000000\",\"2017-09-01T00:00:00.000000000\",\"2017-10-01T00:00:00.000000000\",\"2017-11-01T00:00:00.000000000\",\"2017-12-01T00:00:00.000000000\",\"2018-01-01T00:00:00.000000000\",\"2018-02-01T00:00:00.000000000\",\"2018-03-01T00:00:00.000000000\",\"2018-04-01T00:00:00.000000000\",\"2018-05-01T00:00:00.000000000\",\"2018-06-01T00:00:00.000000000\",\"2018-07-01T00:00:00.000000000\",\"2018-08-01T00:00:00.000000000\",\"2018-09-01T00:00:00.000000000\",\"2018-10-01T00:00:00.000000000\",\"2018-11-01T00:00:00.000000000\",\"2018-12-01T00:00:00.000000000\",\"2019-01-01T00:00:00.000000000\",\"2019-02-01T00:00:00.000000000\",\"2019-03-01T00:00:00.000000000\",\"2019-04-01T00:00:00.000000000\",\"2019-05-01T00:00:00.000000000\",\"2019-06-01T00:00:00.000000000\",\"2019-07-01T00:00:00.000000000\",\"2019-08-01T00:00:00.000000000\",\"2019-09-01T00:00:00.000000000\",\"2019-10-01T00:00:00.000000000\",\"2019-11-01T00:00:00.000000000\",\"2019-12-01T00:00:00.000000000\",\"2020-01-01T00:00:00.000000000\",\"2020-02-01T00:00:00.000000000\",\"2020-03-01T00:00:00.000000000\",\"2020-04-01T00:00:00.000000000\",\"2020-05-01T00:00:00.000000000\",\"2020-06-01T00:00:00.000000000\",\"2020-07-01T00:00:00.000000000\",\"2020-08-01T00:00:00.000000000\",\"2020-09-01T00:00:00.000000000\",\"2020-10-01T00:00:00.000000000\",\"2020-11-01T00:00:00.000000000\",\"2020-12-01T00:00:00.000000000\",\"2021-01-01T00:00:00.000000000\",\"2021-02-01T00:00:00.000000000\",\"2021-03-01T00:00:00.000000000\",\"2021-04-01T00:00:00.000000000\",\"2021-05-01T00:00:00.000000000\",\"2021-06-01T00:00:00.000000000\",\"2021-07-01T00:00:00.000000000\",\"2021-08-01T00:00:00.000000000\",\"2021-09-01T00:00:00.000000000\",\"2021-10-01T00:00:00.000000000\",\"2021-11-01T00:00:00.000000000\",\"2021-12-01T00:00:00.000000000\",\"2022-01-01T00:00:00.000000000\",\"2022-02-01T00:00:00.000000000\",\"2022-03-01T00:00:00.000000000\",\"2022-04-01T00:00:00.000000000\",\"2022-05-01T00:00:00.000000000\",\"2022-06-01T00:00:00.000000000\",\"2022-07-01T00:00:00.000000000\",\"2022-08-01T00:00:00.000000000\",\"2022-09-01T00:00:00.000000000\",\"2022-10-01T00:00:00.000000000\",\"2022-11-01T00:00:00.000000000\",\"2022-12-01T00:00:00.000000000\"],\"y\":[null,null,null,null,null,null,null,null,null,null,null,null,null,null,null,null,null,null,null,null,null,null,null,null,null,null,null,null,null,null,null,null,null,null,null,null,null,null,null,null,null,null,null,null,null,null,null,null,null,null,null,null,null,null,null,null,null,null,null,null,null,null,null,null,null,null,null,null,null,null,null,null,null,null,null,null,null,null,null,null,null,null,null,null,null,null,null,null,null,null,null,null,null,null,null,null,null,null,null,null,null,null,null,null,null,null,null,null,null,null,null,null,null,null,null,null,null,null,null,null,null,null,null,null,null,null,null,null,null,null,null,null,null,null,null,null,null,null,null,null,null,null,null,null,null,null,null,null,null,null,null,null,null,null,null,null,null,null,null,null,null,null,null,null,null,null,null,null,null,null,null,null,null,null,null,null,null,null,null,null,null,null,null,null,null,null,null,null,null,null,null,null,null,null,null,null,null,null,null,null,null,null,null,null,null,null,null,null,null,null,null,null,null,null,null,null,null,null,null,null,null,null,null,null,null,null,null,null,null,null,null,null,null,null,null,null,null,null,null,null,null,null,null,null,null,null,null,null,null,null,null,null,null,null,null,null,null,null,null,null,null,null,null,null,null,null,null,null,null,null,null,null,null,null,null,null,null,null,null,null,null,null,null,null,null,null,null,null,null,null,null,null,null,null,null,null,null,null,null,null,null,null,null,null,null,null,null,null,null,null,null,null,null,null,null,null,null,null,null,null,null,null,null,null,null,null,null,null,null,null,null,null,null,null,null,null,null,null,null,null,null,null,null,null,null,null,null,null,null,null,null,null,null,null,null,null,null,null,null,null,null,null,null,null,null,null,null,null,null,null,null,null,null,null,null,null,null,null,null,null,null,null,null,null,null,null,null,null,null,null,null,null,null,null,null,null,null,null,null,null,null,null,null,null,null,null,null,null,null,null,null,null,null,null,null,null,null,null,null,null,null,null,null,null,null,null,null,null,null,null,null,null,null,null,null,null,null,null,null,null,null,null,null,null,null,null,null,null,null,null,null,null,null,null,null,null,null,null,null,null,null,null,null,null,null,null,null,null,null,null,null,null,null,null,null,null,null,null,null,null,null,null,null,null,null,null,null,null,null,null,null,null,null,null,null,null,null,null,null,null,null,null,null,null,null,null,null,null,null,null,null,null,null,null,null,null,null,null,null,null,null,null,null,null,null,null,null,null,null,null,null,null,null,null,null,null,null,null,null,null,null,null,null,null,null,null,null,null,null,null,null,null,89.7,90.0,90.4,90.7,90.3,90.6,90.6,90.9,91.3,91.7,91.9,92.0,92.3,92.5,92.7,92.7,92.8,92.7,92.8,92.7,92.9,93.0,93.4,93.2,93.7,93.9,94.0,94.4,94.6,94.3,94.4,94.7,95.1,95.3,95.7,95.8,96.2,96.9,97.0,97.2,97.3,97.4,97.6,97.7,98.0,98.2,98.6,98.7,98.9,99.3,99.5,99.4,99.5,99.9,99.9,100.1,100.1,100.2,100.2,100.2,100.4,100.6,100.9,100.9,100.9,101.1,101.0,101.2,101.5,101.3,101.4,101.4,101.7,101.7,101.7,101.8,102.0,102.1,102.1,102.1,101.8,101.9,102.0,102.3,102.3,102.4,102.7,102.6,103.0,103.4,103.6,103.8,103.9,103.9,103.9,104.0,104.1,104.2,104.2,104.8,104.8,104.7,104.9,105.1,105.3,105.4,105.7,105.6,105.7,105.9,106.0,106.3,106.2,106.1,106.1,106.3,106.3,106.5,106.5,106.8,106.9,107.1,107.2,107.1,107.4,107.5,107.7,107.7,107.8,107.7,107.9,108.0,108.0,108.4,108.6,108.7,108.6,108.9,108.7,108.6,108.7,108.8,108.8,108.8,109.1,109.0,108.9,109.0,109.3,109.0,109.1,109.3,109.7,110.0,109.9,110.0,110.1,110.2,110.5,110.9,111.0,111.1,111.3,111.2,111.1,111.2,111.3,111.1,111.208,111.206,111.157,111.315,111.531,111.45,111.279,111.056,111.365,111.802,111.977,111.962,112.315,112.405,112.628,112.675,112.842,112.867,113.194,113.72,113.991,114.225,114.238,113.945,114.078,114.488,114.503,114.064,114.106,114.485,114.527,114.669,114.572,114.218,114.03,113.545,113.569,113.337,113.195,113.54,113.475,113.638,113.577,113.468,113.082,113.088,113.111,112.724,112.894,113.164,113.1,113.12,113.435,113.481,113.353,113.546,113.449,113.387,113.505,113.896,114.486,114.301,114.519,114.404,114.389,114.784,114.665,114.828,115.014,114.955,115.159,114.974,115.076,115.277,115.194,115.063,115.271,115.121,115.116,115.268,115.305,115.418,115.736,115.389,115.525,115.537,115.506,115.708,115.721,115.731,115.593,115.27,115.415,115.664,115.443,115.426,115.532,115.467,115.551,115.665,115.931,116.114,116.129,116.066,116.165,116.393,116.15,116.163,116.237,116.48,116.743,117.211,117.275,117.398,117.295,117.192,117.093,116.919,116.981,116.955,117.512,118.182,118.234,118.386,118.391,118.404,118.847,118.929,118.947,118.85,118.621,118.669,118.795,118.874,118.971,118.785,118.729,119.108,119.297,119.0,119.186,118.979,119.308,119.96,120.389,120.094,120.478,120.693,120.187,120.171,120.168,120.462,120.346,121.048,121.503,121.746,122.062,121.898,122.087,121.852,122.723,122.037,121.346,122.055,122.161,122.605,123.133,122.89,122.227,122.89,123.418,124.478,124.719,124.911,125.609,126.202,126.384,127.306,127.061,126.913,128.036,128.972,null,null,null,null,null,null,null,null,null,null],\"type\":\"scatter\"},{\"mode\":\"lines\",\"name\":\"Transportation\",\"x\":[\"1947-01-01T00:00:00.000000000\",\"1947-02-01T00:00:00.000000000\",\"1947-03-01T00:00:00.000000000\",\"1947-04-01T00:00:00.000000000\",\"1947-05-01T00:00:00.000000000\",\"1947-06-01T00:00:00.000000000\",\"1947-07-01T00:00:00.000000000\",\"1947-08-01T00:00:00.000000000\",\"1947-09-01T00:00:00.000000000\",\"1947-10-01T00:00:00.000000000\",\"1947-11-01T00:00:00.000000000\",\"1947-12-01T00:00:00.000000000\",\"1948-01-01T00:00:00.000000000\",\"1948-02-01T00:00:00.000000000\",\"1948-03-01T00:00:00.000000000\",\"1948-04-01T00:00:00.000000000\",\"1948-05-01T00:00:00.000000000\",\"1948-06-01T00:00:00.000000000\",\"1948-07-01T00:00:00.000000000\",\"1948-08-01T00:00:00.000000000\",\"1948-09-01T00:00:00.000000000\",\"1948-10-01T00:00:00.000000000\",\"1948-11-01T00:00:00.000000000\",\"1948-12-01T00:00:00.000000000\",\"1949-01-01T00:00:00.000000000\",\"1949-02-01T00:00:00.000000000\",\"1949-03-01T00:00:00.000000000\",\"1949-04-01T00:00:00.000000000\",\"1949-05-01T00:00:00.000000000\",\"1949-06-01T00:00:00.000000000\",\"1949-07-01T00:00:00.000000000\",\"1949-08-01T00:00:00.000000000\",\"1949-09-01T00:00:00.000000000\",\"1949-10-01T00:00:00.000000000\",\"1949-11-01T00:00:00.000000000\",\"1949-12-01T00:00:00.000000000\",\"1950-01-01T00:00:00.000000000\",\"1950-02-01T00:00:00.000000000\",\"1950-03-01T00:00:00.000000000\",\"1950-04-01T00:00:00.000000000\",\"1950-05-01T00:00:00.000000000\",\"1950-06-01T00:00:00.000000000\",\"1950-07-01T00:00:00.000000000\",\"1950-08-01T00:00:00.000000000\",\"1950-09-01T00:00:00.000000000\",\"1950-10-01T00:00:00.000000000\",\"1950-11-01T00:00:00.000000000\",\"1950-12-01T00:00:00.000000000\",\"1951-01-01T00:00:00.000000000\",\"1951-02-01T00:00:00.000000000\",\"1951-03-01T00:00:00.000000000\",\"1951-04-01T00:00:00.000000000\",\"1951-05-01T00:00:00.000000000\",\"1951-06-01T00:00:00.000000000\",\"1951-07-01T00:00:00.000000000\",\"1951-08-01T00:00:00.000000000\",\"1951-09-01T00:00:00.000000000\",\"1951-10-01T00:00:00.000000000\",\"1951-11-01T00:00:00.000000000\",\"1951-12-01T00:00:00.000000000\",\"1952-01-01T00:00:00.000000000\",\"1952-02-01T00:00:00.000000000\",\"1952-03-01T00:00:00.000000000\",\"1952-04-01T00:00:00.000000000\",\"1952-05-01T00:00:00.000000000\",\"1952-06-01T00:00:00.000000000\",\"1952-07-01T00:00:00.000000000\",\"1952-08-01T00:00:00.000000000\",\"1952-09-01T00:00:00.000000000\",\"1952-10-01T00:00:00.000000000\",\"1952-11-01T00:00:00.000000000\",\"1952-12-01T00:00:00.000000000\",\"1953-01-01T00:00:00.000000000\",\"1953-02-01T00:00:00.000000000\",\"1953-03-01T00:00:00.000000000\",\"1953-04-01T00:00:00.000000000\",\"1953-05-01T00:00:00.000000000\",\"1953-06-01T00:00:00.000000000\",\"1953-07-01T00:00:00.000000000\",\"1953-08-01T00:00:00.000000000\",\"1953-09-01T00:00:00.000000000\",\"1953-10-01T00:00:00.000000000\",\"1953-11-01T00:00:00.000000000\",\"1953-12-01T00:00:00.000000000\",\"1954-01-01T00:00:00.000000000\",\"1954-02-01T00:00:00.000000000\",\"1954-03-01T00:00:00.000000000\",\"1954-04-01T00:00:00.000000000\",\"1954-05-01T00:00:00.000000000\",\"1954-06-01T00:00:00.000000000\",\"1954-07-01T00:00:00.000000000\",\"1954-08-01T00:00:00.000000000\",\"1954-09-01T00:00:00.000000000\",\"1954-10-01T00:00:00.000000000\",\"1954-11-01T00:00:00.000000000\",\"1954-12-01T00:00:00.000000000\",\"1955-01-01T00:00:00.000000000\",\"1955-02-01T00:00:00.000000000\",\"1955-03-01T00:00:00.000000000\",\"1955-04-01T00:00:00.000000000\",\"1955-05-01T00:00:00.000000000\",\"1955-06-01T00:00:00.000000000\",\"1955-07-01T00:00:00.000000000\",\"1955-08-01T00:00:00.000000000\",\"1955-09-01T00:00:00.000000000\",\"1955-10-01T00:00:00.000000000\",\"1955-11-01T00:00:00.000000000\",\"1955-12-01T00:00:00.000000000\",\"1956-01-01T00:00:00.000000000\",\"1956-02-01T00:00:00.000000000\",\"1956-03-01T00:00:00.000000000\",\"1956-04-01T00:00:00.000000000\",\"1956-05-01T00:00:00.000000000\",\"1956-06-01T00:00:00.000000000\",\"1956-07-01T00:00:00.000000000\",\"1956-08-01T00:00:00.000000000\",\"1956-09-01T00:00:00.000000000\",\"1956-10-01T00:00:00.000000000\",\"1956-11-01T00:00:00.000000000\",\"1956-12-01T00:00:00.000000000\",\"1957-01-01T00:00:00.000000000\",\"1957-02-01T00:00:00.000000000\",\"1957-03-01T00:00:00.000000000\",\"1957-04-01T00:00:00.000000000\",\"1957-05-01T00:00:00.000000000\",\"1957-06-01T00:00:00.000000000\",\"1957-07-01T00:00:00.000000000\",\"1957-08-01T00:00:00.000000000\",\"1957-09-01T00:00:00.000000000\",\"1957-10-01T00:00:00.000000000\",\"1957-11-01T00:00:00.000000000\",\"1957-12-01T00:00:00.000000000\",\"1958-01-01T00:00:00.000000000\",\"1958-02-01T00:00:00.000000000\",\"1958-03-01T00:00:00.000000000\",\"1958-04-01T00:00:00.000000000\",\"1958-05-01T00:00:00.000000000\",\"1958-06-01T00:00:00.000000000\",\"1958-07-01T00:00:00.000000000\",\"1958-08-01T00:00:00.000000000\",\"1958-09-01T00:00:00.000000000\",\"1958-10-01T00:00:00.000000000\",\"1958-11-01T00:00:00.000000000\",\"1958-12-01T00:00:00.000000000\",\"1959-01-01T00:00:00.000000000\",\"1959-02-01T00:00:00.000000000\",\"1959-03-01T00:00:00.000000000\",\"1959-04-01T00:00:00.000000000\",\"1959-05-01T00:00:00.000000000\",\"1959-06-01T00:00:00.000000000\",\"1959-07-01T00:00:00.000000000\",\"1959-08-01T00:00:00.000000000\",\"1959-09-01T00:00:00.000000000\",\"1959-10-01T00:00:00.000000000\",\"1959-11-01T00:00:00.000000000\",\"1959-12-01T00:00:00.000000000\",\"1960-01-01T00:00:00.000000000\",\"1960-02-01T00:00:00.000000000\",\"1960-03-01T00:00:00.000000000\",\"1960-04-01T00:00:00.000000000\",\"1960-05-01T00:00:00.000000000\",\"1960-06-01T00:00:00.000000000\",\"1960-07-01T00:00:00.000000000\",\"1960-08-01T00:00:00.000000000\",\"1960-09-01T00:00:00.000000000\",\"1960-10-01T00:00:00.000000000\",\"1960-11-01T00:00:00.000000000\",\"1960-12-01T00:00:00.000000000\",\"1961-01-01T00:00:00.000000000\",\"1961-02-01T00:00:00.000000000\",\"1961-03-01T00:00:00.000000000\",\"1961-04-01T00:00:00.000000000\",\"1961-05-01T00:00:00.000000000\",\"1961-06-01T00:00:00.000000000\",\"1961-07-01T00:00:00.000000000\",\"1961-08-01T00:00:00.000000000\",\"1961-09-01T00:00:00.000000000\",\"1961-10-01T00:00:00.000000000\",\"1961-11-01T00:00:00.000000000\",\"1961-12-01T00:00:00.000000000\",\"1962-01-01T00:00:00.000000000\",\"1962-02-01T00:00:00.000000000\",\"1962-03-01T00:00:00.000000000\",\"1962-04-01T00:00:00.000000000\",\"1962-05-01T00:00:00.000000000\",\"1962-06-01T00:00:00.000000000\",\"1962-07-01T00:00:00.000000000\",\"1962-08-01T00:00:00.000000000\",\"1962-09-01T00:00:00.000000000\",\"1962-10-01T00:00:00.000000000\",\"1962-11-01T00:00:00.000000000\",\"1962-12-01T00:00:00.000000000\",\"1963-01-01T00:00:00.000000000\",\"1963-02-01T00:00:00.000000000\",\"1963-03-01T00:00:00.000000000\",\"1963-04-01T00:00:00.000000000\",\"1963-05-01T00:00:00.000000000\",\"1963-06-01T00:00:00.000000000\",\"1963-07-01T00:00:00.000000000\",\"1963-08-01T00:00:00.000000000\",\"1963-09-01T00:00:00.000000000\",\"1963-10-01T00:00:00.000000000\",\"1963-11-01T00:00:00.000000000\",\"1963-12-01T00:00:00.000000000\",\"1964-01-01T00:00:00.000000000\",\"1964-02-01T00:00:00.000000000\",\"1964-03-01T00:00:00.000000000\",\"1964-04-01T00:00:00.000000000\",\"1964-05-01T00:00:00.000000000\",\"1964-06-01T00:00:00.000000000\",\"1964-07-01T00:00:00.000000000\",\"1964-08-01T00:00:00.000000000\",\"1964-09-01T00:00:00.000000000\",\"1964-10-01T00:00:00.000000000\",\"1964-11-01T00:00:00.000000000\",\"1964-12-01T00:00:00.000000000\",\"1965-01-01T00:00:00.000000000\",\"1965-02-01T00:00:00.000000000\",\"1965-03-01T00:00:00.000000000\",\"1965-04-01T00:00:00.000000000\",\"1965-05-01T00:00:00.000000000\",\"1965-06-01T00:00:00.000000000\",\"1965-07-01T00:00:00.000000000\",\"1965-08-01T00:00:00.000000000\",\"1965-09-01T00:00:00.000000000\",\"1965-10-01T00:00:00.000000000\",\"1965-11-01T00:00:00.000000000\",\"1965-12-01T00:00:00.000000000\",\"1966-01-01T00:00:00.000000000\",\"1966-02-01T00:00:00.000000000\",\"1966-03-01T00:00:00.000000000\",\"1966-04-01T00:00:00.000000000\",\"1966-05-01T00:00:00.000000000\",\"1966-06-01T00:00:00.000000000\",\"1966-07-01T00:00:00.000000000\",\"1966-08-01T00:00:00.000000000\",\"1966-09-01T00:00:00.000000000\",\"1966-10-01T00:00:00.000000000\",\"1966-11-01T00:00:00.000000000\",\"1966-12-01T00:00:00.000000000\",\"1967-01-01T00:00:00.000000000\",\"1967-02-01T00:00:00.000000000\",\"1967-03-01T00:00:00.000000000\",\"1967-04-01T00:00:00.000000000\",\"1967-05-01T00:00:00.000000000\",\"1967-06-01T00:00:00.000000000\",\"1967-07-01T00:00:00.000000000\",\"1967-08-01T00:00:00.000000000\",\"1967-09-01T00:00:00.000000000\",\"1967-10-01T00:00:00.000000000\",\"1967-11-01T00:00:00.000000000\",\"1967-12-01T00:00:00.000000000\",\"1968-01-01T00:00:00.000000000\",\"1968-02-01T00:00:00.000000000\",\"1968-03-01T00:00:00.000000000\",\"1968-04-01T00:00:00.000000000\",\"1968-05-01T00:00:00.000000000\",\"1968-06-01T00:00:00.000000000\",\"1968-07-01T00:00:00.000000000\",\"1968-08-01T00:00:00.000000000\",\"1968-09-01T00:00:00.000000000\",\"1968-10-01T00:00:00.000000000\",\"1968-11-01T00:00:00.000000000\",\"1968-12-01T00:00:00.000000000\",\"1969-01-01T00:00:00.000000000\",\"1969-02-01T00:00:00.000000000\",\"1969-03-01T00:00:00.000000000\",\"1969-04-01T00:00:00.000000000\",\"1969-05-01T00:00:00.000000000\",\"1969-06-01T00:00:00.000000000\",\"1969-07-01T00:00:00.000000000\",\"1969-08-01T00:00:00.000000000\",\"1969-09-01T00:00:00.000000000\",\"1969-10-01T00:00:00.000000000\",\"1969-11-01T00:00:00.000000000\",\"1969-12-01T00:00:00.000000000\",\"1970-01-01T00:00:00.000000000\",\"1970-02-01T00:00:00.000000000\",\"1970-03-01T00:00:00.000000000\",\"1970-04-01T00:00:00.000000000\",\"1970-05-01T00:00:00.000000000\",\"1970-06-01T00:00:00.000000000\",\"1970-07-01T00:00:00.000000000\",\"1970-08-01T00:00:00.000000000\",\"1970-09-01T00:00:00.000000000\",\"1970-10-01T00:00:00.000000000\",\"1970-11-01T00:00:00.000000000\",\"1970-12-01T00:00:00.000000000\",\"1971-01-01T00:00:00.000000000\",\"1971-02-01T00:00:00.000000000\",\"1971-03-01T00:00:00.000000000\",\"1971-04-01T00:00:00.000000000\",\"1971-05-01T00:00:00.000000000\",\"1971-06-01T00:00:00.000000000\",\"1971-07-01T00:00:00.000000000\",\"1971-08-01T00:00:00.000000000\",\"1971-09-01T00:00:00.000000000\",\"1971-10-01T00:00:00.000000000\",\"1971-11-01T00:00:00.000000000\",\"1971-12-01T00:00:00.000000000\",\"1972-01-01T00:00:00.000000000\",\"1972-02-01T00:00:00.000000000\",\"1972-03-01T00:00:00.000000000\",\"1972-04-01T00:00:00.000000000\",\"1972-05-01T00:00:00.000000000\",\"1972-06-01T00:00:00.000000000\",\"1972-07-01T00:00:00.000000000\",\"1972-08-01T00:00:00.000000000\",\"1972-09-01T00:00:00.000000000\",\"1972-10-01T00:00:00.000000000\",\"1972-11-01T00:00:00.000000000\",\"1972-12-01T00:00:00.000000000\",\"1973-01-01T00:00:00.000000000\",\"1973-02-01T00:00:00.000000000\",\"1973-03-01T00:00:00.000000000\",\"1973-04-01T00:00:00.000000000\",\"1973-05-01T00:00:00.000000000\",\"1973-06-01T00:00:00.000000000\",\"1973-07-01T00:00:00.000000000\",\"1973-08-01T00:00:00.000000000\",\"1973-09-01T00:00:00.000000000\",\"1973-10-01T00:00:00.000000000\",\"1973-11-01T00:00:00.000000000\",\"1973-12-01T00:00:00.000000000\",\"1974-01-01T00:00:00.000000000\",\"1974-02-01T00:00:00.000000000\",\"1974-03-01T00:00:00.000000000\",\"1974-04-01T00:00:00.000000000\",\"1974-05-01T00:00:00.000000000\",\"1974-06-01T00:00:00.000000000\",\"1974-07-01T00:00:00.000000000\",\"1974-08-01T00:00:00.000000000\",\"1974-09-01T00:00:00.000000000\",\"1974-10-01T00:00:00.000000000\",\"1974-11-01T00:00:00.000000000\",\"1974-12-01T00:00:00.000000000\",\"1975-01-01T00:00:00.000000000\",\"1975-02-01T00:00:00.000000000\",\"1975-03-01T00:00:00.000000000\",\"1975-04-01T00:00:00.000000000\",\"1975-05-01T00:00:00.000000000\",\"1975-06-01T00:00:00.000000000\",\"1975-07-01T00:00:00.000000000\",\"1975-08-01T00:00:00.000000000\",\"1975-09-01T00:00:00.000000000\",\"1975-10-01T00:00:00.000000000\",\"1975-11-01T00:00:00.000000000\",\"1975-12-01T00:00:00.000000000\",\"1976-01-01T00:00:00.000000000\",\"1976-02-01T00:00:00.000000000\",\"1976-03-01T00:00:00.000000000\",\"1976-04-01T00:00:00.000000000\",\"1976-05-01T00:00:00.000000000\",\"1976-06-01T00:00:00.000000000\",\"1976-07-01T00:00:00.000000000\",\"1976-08-01T00:00:00.000000000\",\"1976-09-01T00:00:00.000000000\",\"1976-10-01T00:00:00.000000000\",\"1976-11-01T00:00:00.000000000\",\"1976-12-01T00:00:00.000000000\",\"1977-01-01T00:00:00.000000000\",\"1977-02-01T00:00:00.000000000\",\"1977-03-01T00:00:00.000000000\",\"1977-04-01T00:00:00.000000000\",\"1977-05-01T00:00:00.000000000\",\"1977-06-01T00:00:00.000000000\",\"1977-07-01T00:00:00.000000000\",\"1977-08-01T00:00:00.000000000\",\"1977-09-01T00:00:00.000000000\",\"1977-10-01T00:00:00.000000000\",\"1977-11-01T00:00:00.000000000\",\"1977-12-01T00:00:00.000000000\",\"1978-01-01T00:00:00.000000000\",\"1978-02-01T00:00:00.000000000\",\"1978-03-01T00:00:00.000000000\",\"1978-04-01T00:00:00.000000000\",\"1978-05-01T00:00:00.000000000\",\"1978-06-01T00:00:00.000000000\",\"1978-07-01T00:00:00.000000000\",\"1978-08-01T00:00:00.000000000\",\"1978-09-01T00:00:00.000000000\",\"1978-10-01T00:00:00.000000000\",\"1978-11-01T00:00:00.000000000\",\"1978-12-01T00:00:00.000000000\",\"1979-01-01T00:00:00.000000000\",\"1979-02-01T00:00:00.000000000\",\"1979-03-01T00:00:00.000000000\",\"1979-04-01T00:00:00.000000000\",\"1979-05-01T00:00:00.000000000\",\"1979-06-01T00:00:00.000000000\",\"1979-07-01T00:00:00.000000000\",\"1979-08-01T00:00:00.000000000\",\"1979-09-01T00:00:00.000000000\",\"1979-10-01T00:00:00.000000000\",\"1979-11-01T00:00:00.000000000\",\"1979-12-01T00:00:00.000000000\",\"1980-01-01T00:00:00.000000000\",\"1980-02-01T00:00:00.000000000\",\"1980-03-01T00:00:00.000000000\",\"1980-04-01T00:00:00.000000000\",\"1980-05-01T00:00:00.000000000\",\"1980-06-01T00:00:00.000000000\",\"1980-07-01T00:00:00.000000000\",\"1980-08-01T00:00:00.000000000\",\"1980-09-01T00:00:00.000000000\",\"1980-10-01T00:00:00.000000000\",\"1980-11-01T00:00:00.000000000\",\"1980-12-01T00:00:00.000000000\",\"1981-01-01T00:00:00.000000000\",\"1981-02-01T00:00:00.000000000\",\"1981-03-01T00:00:00.000000000\",\"1981-04-01T00:00:00.000000000\",\"1981-05-01T00:00:00.000000000\",\"1981-06-01T00:00:00.000000000\",\"1981-07-01T00:00:00.000000000\",\"1981-08-01T00:00:00.000000000\",\"1981-09-01T00:00:00.000000000\",\"1981-10-01T00:00:00.000000000\",\"1981-11-01T00:00:00.000000000\",\"1981-12-01T00:00:00.000000000\",\"1982-01-01T00:00:00.000000000\",\"1982-02-01T00:00:00.000000000\",\"1982-03-01T00:00:00.000000000\",\"1982-04-01T00:00:00.000000000\",\"1982-05-01T00:00:00.000000000\",\"1982-06-01T00:00:00.000000000\",\"1982-07-01T00:00:00.000000000\",\"1982-08-01T00:00:00.000000000\",\"1982-09-01T00:00:00.000000000\",\"1982-10-01T00:00:00.000000000\",\"1982-11-01T00:00:00.000000000\",\"1982-12-01T00:00:00.000000000\",\"1983-01-01T00:00:00.000000000\",\"1983-02-01T00:00:00.000000000\",\"1983-03-01T00:00:00.000000000\",\"1983-04-01T00:00:00.000000000\",\"1983-05-01T00:00:00.000000000\",\"1983-06-01T00:00:00.000000000\",\"1983-07-01T00:00:00.000000000\",\"1983-08-01T00:00:00.000000000\",\"1983-09-01T00:00:00.000000000\",\"1983-10-01T00:00:00.000000000\",\"1983-11-01T00:00:00.000000000\",\"1983-12-01T00:00:00.000000000\",\"1984-01-01T00:00:00.000000000\",\"1984-02-01T00:00:00.000000000\",\"1984-03-01T00:00:00.000000000\",\"1984-04-01T00:00:00.000000000\",\"1984-05-01T00:00:00.000000000\",\"1984-06-01T00:00:00.000000000\",\"1984-07-01T00:00:00.000000000\",\"1984-08-01T00:00:00.000000000\",\"1984-09-01T00:00:00.000000000\",\"1984-10-01T00:00:00.000000000\",\"1984-11-01T00:00:00.000000000\",\"1984-12-01T00:00:00.000000000\",\"1985-01-01T00:00:00.000000000\",\"1985-02-01T00:00:00.000000000\",\"1985-03-01T00:00:00.000000000\",\"1985-04-01T00:00:00.000000000\",\"1985-05-01T00:00:00.000000000\",\"1985-06-01T00:00:00.000000000\",\"1985-07-01T00:00:00.000000000\",\"1985-08-01T00:00:00.000000000\",\"1985-09-01T00:00:00.000000000\",\"1985-10-01T00:00:00.000000000\",\"1985-11-01T00:00:00.000000000\",\"1985-12-01T00:00:00.000000000\",\"1986-01-01T00:00:00.000000000\",\"1986-02-01T00:00:00.000000000\",\"1986-03-01T00:00:00.000000000\",\"1986-04-01T00:00:00.000000000\",\"1986-05-01T00:00:00.000000000\",\"1986-06-01T00:00:00.000000000\",\"1986-07-01T00:00:00.000000000\",\"1986-08-01T00:00:00.000000000\",\"1986-09-01T00:00:00.000000000\",\"1986-10-01T00:00:00.000000000\",\"1986-11-01T00:00:00.000000000\",\"1986-12-01T00:00:00.000000000\",\"1987-01-01T00:00:00.000000000\",\"1987-02-01T00:00:00.000000000\",\"1987-03-01T00:00:00.000000000\",\"1987-04-01T00:00:00.000000000\",\"1987-05-01T00:00:00.000000000\",\"1987-06-01T00:00:00.000000000\",\"1987-07-01T00:00:00.000000000\",\"1987-08-01T00:00:00.000000000\",\"1987-09-01T00:00:00.000000000\",\"1987-10-01T00:00:00.000000000\",\"1987-11-01T00:00:00.000000000\",\"1987-12-01T00:00:00.000000000\",\"1988-01-01T00:00:00.000000000\",\"1988-02-01T00:00:00.000000000\",\"1988-03-01T00:00:00.000000000\",\"1988-04-01T00:00:00.000000000\",\"1988-05-01T00:00:00.000000000\",\"1988-06-01T00:00:00.000000000\",\"1988-07-01T00:00:00.000000000\",\"1988-08-01T00:00:00.000000000\",\"1988-09-01T00:00:00.000000000\",\"1988-10-01T00:00:00.000000000\",\"1988-11-01T00:00:00.000000000\",\"1988-12-01T00:00:00.000000000\",\"1989-01-01T00:00:00.000000000\",\"1989-02-01T00:00:00.000000000\",\"1989-03-01T00:00:00.000000000\",\"1989-04-01T00:00:00.000000000\",\"1989-05-01T00:00:00.000000000\",\"1989-06-01T00:00:00.000000000\",\"1989-07-01T00:00:00.000000000\",\"1989-08-01T00:00:00.000000000\",\"1989-09-01T00:00:00.000000000\",\"1989-10-01T00:00:00.000000000\",\"1989-11-01T00:00:00.000000000\",\"1989-12-01T00:00:00.000000000\",\"1990-01-01T00:00:00.000000000\",\"1990-02-01T00:00:00.000000000\",\"1990-03-01T00:00:00.000000000\",\"1990-04-01T00:00:00.000000000\",\"1990-05-01T00:00:00.000000000\",\"1990-06-01T00:00:00.000000000\",\"1990-07-01T00:00:00.000000000\",\"1990-08-01T00:00:00.000000000\",\"1990-09-01T00:00:00.000000000\",\"1990-10-01T00:00:00.000000000\",\"1990-11-01T00:00:00.000000000\",\"1990-12-01T00:00:00.000000000\",\"1991-01-01T00:00:00.000000000\",\"1991-02-01T00:00:00.000000000\",\"1991-03-01T00:00:00.000000000\",\"1991-04-01T00:00:00.000000000\",\"1991-05-01T00:00:00.000000000\",\"1991-06-01T00:00:00.000000000\",\"1991-07-01T00:00:00.000000000\",\"1991-08-01T00:00:00.000000000\",\"1991-09-01T00:00:00.000000000\",\"1991-10-01T00:00:00.000000000\",\"1991-11-01T00:00:00.000000000\",\"1991-12-01T00:00:00.000000000\",\"1992-01-01T00:00:00.000000000\",\"1992-02-01T00:00:00.000000000\",\"1992-03-01T00:00:00.000000000\",\"1992-04-01T00:00:00.000000000\",\"1992-05-01T00:00:00.000000000\",\"1992-06-01T00:00:00.000000000\",\"1992-07-01T00:00:00.000000000\",\"1992-08-01T00:00:00.000000000\",\"1992-09-01T00:00:00.000000000\",\"1992-10-01T00:00:00.000000000\",\"1992-11-01T00:00:00.000000000\",\"1992-12-01T00:00:00.000000000\",\"1993-01-01T00:00:00.000000000\",\"1993-02-01T00:00:00.000000000\",\"1993-03-01T00:00:00.000000000\",\"1993-04-01T00:00:00.000000000\",\"1993-05-01T00:00:00.000000000\",\"1993-06-01T00:00:00.000000000\",\"1993-07-01T00:00:00.000000000\",\"1993-08-01T00:00:00.000000000\",\"1993-09-01T00:00:00.000000000\",\"1993-10-01T00:00:00.000000000\",\"1993-11-01T00:00:00.000000000\",\"1993-12-01T00:00:00.000000000\",\"1994-01-01T00:00:00.000000000\",\"1994-02-01T00:00:00.000000000\",\"1994-03-01T00:00:00.000000000\",\"1994-04-01T00:00:00.000000000\",\"1994-05-01T00:00:00.000000000\",\"1994-06-01T00:00:00.000000000\",\"1994-07-01T00:00:00.000000000\",\"1994-08-01T00:00:00.000000000\",\"1994-09-01T00:00:00.000000000\",\"1994-10-01T00:00:00.000000000\",\"1994-11-01T00:00:00.000000000\",\"1994-12-01T00:00:00.000000000\",\"1995-01-01T00:00:00.000000000\",\"1995-02-01T00:00:00.000000000\",\"1995-03-01T00:00:00.000000000\",\"1995-04-01T00:00:00.000000000\",\"1995-05-01T00:00:00.000000000\",\"1995-06-01T00:00:00.000000000\",\"1995-07-01T00:00:00.000000000\",\"1995-08-01T00:00:00.000000000\",\"1995-09-01T00:00:00.000000000\",\"1995-10-01T00:00:00.000000000\",\"1995-11-01T00:00:00.000000000\",\"1995-12-01T00:00:00.000000000\",\"1996-01-01T00:00:00.000000000\",\"1996-02-01T00:00:00.000000000\",\"1996-03-01T00:00:00.000000000\",\"1996-04-01T00:00:00.000000000\",\"1996-05-01T00:00:00.000000000\",\"1996-06-01T00:00:00.000000000\",\"1996-07-01T00:00:00.000000000\",\"1996-08-01T00:00:00.000000000\",\"1996-09-01T00:00:00.000000000\",\"1996-10-01T00:00:00.000000000\",\"1996-11-01T00:00:00.000000000\",\"1996-12-01T00:00:00.000000000\",\"1997-01-01T00:00:00.000000000\",\"1997-02-01T00:00:00.000000000\",\"1997-03-01T00:00:00.000000000\",\"1997-04-01T00:00:00.000000000\",\"1997-05-01T00:00:00.000000000\",\"1997-06-01T00:00:00.000000000\",\"1997-07-01T00:00:00.000000000\",\"1997-08-01T00:00:00.000000000\",\"1997-09-01T00:00:00.000000000\",\"1997-10-01T00:00:00.000000000\",\"1997-11-01T00:00:00.000000000\",\"1997-12-01T00:00:00.000000000\",\"1998-01-01T00:00:00.000000000\",\"1998-02-01T00:00:00.000000000\",\"1998-03-01T00:00:00.000000000\",\"1998-04-01T00:00:00.000000000\",\"1998-05-01T00:00:00.000000000\",\"1998-06-01T00:00:00.000000000\",\"1998-07-01T00:00:00.000000000\",\"1998-08-01T00:00:00.000000000\",\"1998-09-01T00:00:00.000000000\",\"1998-10-01T00:00:00.000000000\",\"1998-11-01T00:00:00.000000000\",\"1998-12-01T00:00:00.000000000\",\"1999-01-01T00:00:00.000000000\",\"1999-02-01T00:00:00.000000000\",\"1999-03-01T00:00:00.000000000\",\"1999-04-01T00:00:00.000000000\",\"1999-05-01T00:00:00.000000000\",\"1999-06-01T00:00:00.000000000\",\"1999-07-01T00:00:00.000000000\",\"1999-08-01T00:00:00.000000000\",\"1999-09-01T00:00:00.000000000\",\"1999-10-01T00:00:00.000000000\",\"1999-11-01T00:00:00.000000000\",\"1999-12-01T00:00:00.000000000\",\"2000-01-01T00:00:00.000000000\",\"2000-02-01T00:00:00.000000000\",\"2000-03-01T00:00:00.000000000\",\"2000-04-01T00:00:00.000000000\",\"2000-05-01T00:00:00.000000000\",\"2000-06-01T00:00:00.000000000\",\"2000-07-01T00:00:00.000000000\",\"2000-08-01T00:00:00.000000000\",\"2000-09-01T00:00:00.000000000\",\"2000-10-01T00:00:00.000000000\",\"2000-11-01T00:00:00.000000000\",\"2000-12-01T00:00:00.000000000\",\"2001-01-01T00:00:00.000000000\",\"2001-02-01T00:00:00.000000000\",\"2001-03-01T00:00:00.000000000\",\"2001-04-01T00:00:00.000000000\",\"2001-05-01T00:00:00.000000000\",\"2001-06-01T00:00:00.000000000\",\"2001-07-01T00:00:00.000000000\",\"2001-08-01T00:00:00.000000000\",\"2001-09-01T00:00:00.000000000\",\"2001-10-01T00:00:00.000000000\",\"2001-11-01T00:00:00.000000000\",\"2001-12-01T00:00:00.000000000\",\"2002-01-01T00:00:00.000000000\",\"2002-02-01T00:00:00.000000000\",\"2002-03-01T00:00:00.000000000\",\"2002-04-01T00:00:00.000000000\",\"2002-05-01T00:00:00.000000000\",\"2002-06-01T00:00:00.000000000\",\"2002-07-01T00:00:00.000000000\",\"2002-08-01T00:00:00.000000000\",\"2002-09-01T00:00:00.000000000\",\"2002-10-01T00:00:00.000000000\",\"2002-11-01T00:00:00.000000000\",\"2002-12-01T00:00:00.000000000\",\"2003-01-01T00:00:00.000000000\",\"2003-02-01T00:00:00.000000000\",\"2003-03-01T00:00:00.000000000\",\"2003-04-01T00:00:00.000000000\",\"2003-05-01T00:00:00.000000000\",\"2003-06-01T00:00:00.000000000\",\"2003-07-01T00:00:00.000000000\",\"2003-08-01T00:00:00.000000000\",\"2003-09-01T00:00:00.000000000\",\"2003-10-01T00:00:00.000000000\",\"2003-11-01T00:00:00.000000000\",\"2003-12-01T00:00:00.000000000\",\"2004-01-01T00:00:00.000000000\",\"2004-02-01T00:00:00.000000000\",\"2004-03-01T00:00:00.000000000\",\"2004-04-01T00:00:00.000000000\",\"2004-05-01T00:00:00.000000000\",\"2004-06-01T00:00:00.000000000\",\"2004-07-01T00:00:00.000000000\",\"2004-08-01T00:00:00.000000000\",\"2004-09-01T00:00:00.000000000\",\"2004-10-01T00:00:00.000000000\",\"2004-11-01T00:00:00.000000000\",\"2004-12-01T00:00:00.000000000\",\"2005-01-01T00:00:00.000000000\",\"2005-02-01T00:00:00.000000000\",\"2005-03-01T00:00:00.000000000\",\"2005-04-01T00:00:00.000000000\",\"2005-05-01T00:00:00.000000000\",\"2005-06-01T00:00:00.000000000\",\"2005-07-01T00:00:00.000000000\",\"2005-08-01T00:00:00.000000000\",\"2005-09-01T00:00:00.000000000\",\"2005-10-01T00:00:00.000000000\",\"2005-11-01T00:00:00.000000000\",\"2005-12-01T00:00:00.000000000\",\"2006-01-01T00:00:00.000000000\",\"2006-02-01T00:00:00.000000000\",\"2006-03-01T00:00:00.000000000\",\"2006-04-01T00:00:00.000000000\",\"2006-05-01T00:00:00.000000000\",\"2006-06-01T00:00:00.000000000\",\"2006-07-01T00:00:00.000000000\",\"2006-08-01T00:00:00.000000000\",\"2006-09-01T00:00:00.000000000\",\"2006-10-01T00:00:00.000000000\",\"2006-11-01T00:00:00.000000000\",\"2006-12-01T00:00:00.000000000\",\"2007-01-01T00:00:00.000000000\",\"2007-02-01T00:00:00.000000000\",\"2007-03-01T00:00:00.000000000\",\"2007-04-01T00:00:00.000000000\",\"2007-05-01T00:00:00.000000000\",\"2007-06-01T00:00:00.000000000\",\"2007-07-01T00:00:00.000000000\",\"2007-08-01T00:00:00.000000000\",\"2007-09-01T00:00:00.000000000\",\"2007-10-01T00:00:00.000000000\",\"2007-11-01T00:00:00.000000000\",\"2007-12-01T00:00:00.000000000\",\"2008-01-01T00:00:00.000000000\",\"2008-02-01T00:00:00.000000000\",\"2008-03-01T00:00:00.000000000\",\"2008-04-01T00:00:00.000000000\",\"2008-05-01T00:00:00.000000000\",\"2008-06-01T00:00:00.000000000\",\"2008-07-01T00:00:00.000000000\",\"2008-08-01T00:00:00.000000000\",\"2008-09-01T00:00:00.000000000\",\"2008-10-01T00:00:00.000000000\",\"2008-11-01T00:00:00.000000000\",\"2008-12-01T00:00:00.000000000\",\"2009-01-01T00:00:00.000000000\",\"2009-02-01T00:00:00.000000000\",\"2009-03-01T00:00:00.000000000\",\"2009-04-01T00:00:00.000000000\",\"2009-05-01T00:00:00.000000000\",\"2009-06-01T00:00:00.000000000\",\"2009-07-01T00:00:00.000000000\",\"2009-08-01T00:00:00.000000000\",\"2009-09-01T00:00:00.000000000\",\"2009-10-01T00:00:00.000000000\",\"2009-11-01T00:00:00.000000000\",\"2009-12-01T00:00:00.000000000\",\"2010-01-01T00:00:00.000000000\",\"2010-02-01T00:00:00.000000000\",\"2010-03-01T00:00:00.000000000\",\"2010-04-01T00:00:00.000000000\",\"2010-05-01T00:00:00.000000000\",\"2010-06-01T00:00:00.000000000\",\"2010-07-01T00:00:00.000000000\",\"2010-08-01T00:00:00.000000000\",\"2010-09-01T00:00:00.000000000\",\"2010-10-01T00:00:00.000000000\",\"2010-11-01T00:00:00.000000000\",\"2010-12-01T00:00:00.000000000\",\"2011-01-01T00:00:00.000000000\",\"2011-02-01T00:00:00.000000000\",\"2011-03-01T00:00:00.000000000\",\"2011-04-01T00:00:00.000000000\",\"2011-05-01T00:00:00.000000000\",\"2011-06-01T00:00:00.000000000\",\"2011-07-01T00:00:00.000000000\",\"2011-08-01T00:00:00.000000000\",\"2011-09-01T00:00:00.000000000\",\"2011-10-01T00:00:00.000000000\",\"2011-11-01T00:00:00.000000000\",\"2011-12-01T00:00:00.000000000\",\"2012-01-01T00:00:00.000000000\",\"2012-02-01T00:00:00.000000000\",\"2012-03-01T00:00:00.000000000\",\"2012-04-01T00:00:00.000000000\",\"2012-05-01T00:00:00.000000000\",\"2012-06-01T00:00:00.000000000\",\"2012-07-01T00:00:00.000000000\",\"2012-08-01T00:00:00.000000000\",\"2012-09-01T00:00:00.000000000\",\"2012-10-01T00:00:00.000000000\",\"2012-11-01T00:00:00.000000000\",\"2012-12-01T00:00:00.000000000\",\"2013-01-01T00:00:00.000000000\",\"2013-02-01T00:00:00.000000000\",\"2013-03-01T00:00:00.000000000\",\"2013-04-01T00:00:00.000000000\",\"2013-05-01T00:00:00.000000000\",\"2013-06-01T00:00:00.000000000\",\"2013-07-01T00:00:00.000000000\",\"2013-08-01T00:00:00.000000000\",\"2013-09-01T00:00:00.000000000\",\"2013-10-01T00:00:00.000000000\",\"2013-11-01T00:00:00.000000000\",\"2013-12-01T00:00:00.000000000\",\"2014-01-01T00:00:00.000000000\",\"2014-02-01T00:00:00.000000000\",\"2014-03-01T00:00:00.000000000\",\"2014-04-01T00:00:00.000000000\",\"2014-05-01T00:00:00.000000000\",\"2014-06-01T00:00:00.000000000\",\"2014-07-01T00:00:00.000000000\",\"2014-08-01T00:00:00.000000000\",\"2014-09-01T00:00:00.000000000\",\"2014-10-01T00:00:00.000000000\",\"2014-11-01T00:00:00.000000000\",\"2014-12-01T00:00:00.000000000\",\"2015-01-01T00:00:00.000000000\",\"2015-02-01T00:00:00.000000000\",\"2015-03-01T00:00:00.000000000\",\"2015-04-01T00:00:00.000000000\",\"2015-05-01T00:00:00.000000000\",\"2015-06-01T00:00:00.000000000\",\"2015-07-01T00:00:00.000000000\",\"2015-08-01T00:00:00.000000000\",\"2015-09-01T00:00:00.000000000\",\"2015-10-01T00:00:00.000000000\",\"2015-11-01T00:00:00.000000000\",\"2015-12-01T00:00:00.000000000\",\"2016-01-01T00:00:00.000000000\",\"2016-02-01T00:00:00.000000000\",\"2016-03-01T00:00:00.000000000\",\"2016-04-01T00:00:00.000000000\",\"2016-05-01T00:00:00.000000000\",\"2016-06-01T00:00:00.000000000\",\"2016-07-01T00:00:00.000000000\",\"2016-08-01T00:00:00.000000000\",\"2016-09-01T00:00:00.000000000\",\"2016-10-01T00:00:00.000000000\",\"2016-11-01T00:00:00.000000000\",\"2016-12-01T00:00:00.000000000\",\"2017-01-01T00:00:00.000000000\",\"2017-02-01T00:00:00.000000000\",\"2017-03-01T00:00:00.000000000\",\"2017-04-01T00:00:00.000000000\",\"2017-05-01T00:00:00.000000000\",\"2017-06-01T00:00:00.000000000\",\"2017-07-01T00:00:00.000000000\",\"2017-08-01T00:00:00.000000000\",\"2017-09-01T00:00:00.000000000\",\"2017-10-01T00:00:00.000000000\",\"2017-11-01T00:00:00.000000000\",\"2017-12-01T00:00:00.000000000\",\"2018-01-01T00:00:00.000000000\",\"2018-02-01T00:00:00.000000000\",\"2018-03-01T00:00:00.000000000\",\"2018-04-01T00:00:00.000000000\",\"2018-05-01T00:00:00.000000000\",\"2018-06-01T00:00:00.000000000\",\"2018-07-01T00:00:00.000000000\",\"2018-08-01T00:00:00.000000000\",\"2018-09-01T00:00:00.000000000\",\"2018-10-01T00:00:00.000000000\",\"2018-11-01T00:00:00.000000000\",\"2018-12-01T00:00:00.000000000\",\"2019-01-01T00:00:00.000000000\",\"2019-02-01T00:00:00.000000000\",\"2019-03-01T00:00:00.000000000\",\"2019-04-01T00:00:00.000000000\",\"2019-05-01T00:00:00.000000000\",\"2019-06-01T00:00:00.000000000\",\"2019-07-01T00:00:00.000000000\",\"2019-08-01T00:00:00.000000000\",\"2019-09-01T00:00:00.000000000\",\"2019-10-01T00:00:00.000000000\",\"2019-11-01T00:00:00.000000000\",\"2019-12-01T00:00:00.000000000\",\"2020-01-01T00:00:00.000000000\",\"2020-02-01T00:00:00.000000000\",\"2020-03-01T00:00:00.000000000\",\"2020-04-01T00:00:00.000000000\",\"2020-05-01T00:00:00.000000000\",\"2020-06-01T00:00:00.000000000\",\"2020-07-01T00:00:00.000000000\",\"2020-08-01T00:00:00.000000000\",\"2020-09-01T00:00:00.000000000\",\"2020-10-01T00:00:00.000000000\",\"2020-11-01T00:00:00.000000000\",\"2020-12-01T00:00:00.000000000\",\"2021-01-01T00:00:00.000000000\",\"2021-02-01T00:00:00.000000000\",\"2021-03-01T00:00:00.000000000\",\"2021-04-01T00:00:00.000000000\",\"2021-05-01T00:00:00.000000000\",\"2021-06-01T00:00:00.000000000\",\"2021-07-01T00:00:00.000000000\",\"2021-08-01T00:00:00.000000000\",\"2021-09-01T00:00:00.000000000\",\"2021-10-01T00:00:00.000000000\",\"2021-11-01T00:00:00.000000000\",\"2021-12-01T00:00:00.000000000\",\"2022-01-01T00:00:00.000000000\",\"2022-02-01T00:00:00.000000000\",\"2022-03-01T00:00:00.000000000\",\"2022-04-01T00:00:00.000000000\",\"2022-05-01T00:00:00.000000000\",\"2022-06-01T00:00:00.000000000\",\"2022-07-01T00:00:00.000000000\",\"2022-08-01T00:00:00.000000000\",\"2022-09-01T00:00:00.000000000\",\"2022-10-01T00:00:00.000000000\",\"2022-11-01T00:00:00.000000000\",\"2022-12-01T00:00:00.000000000\"],\"y\":[17.9,17.9,18.1,18.3,18.3,18.4,18.5,18.5,18.7,18.8,19.0,19.1,19.6,19.5,19.6,19.9,19.9,20.0,21.0,21.3,21.4,21.5,21.6,21.6,21.6,21.8,21.9,22.0,22.2,22.1,22.2,22.3,22.2,22.3,22.3,22.5,22.4,22.4,22.4,22.4,22.5,22.5,22.7,22.9,22.9,22.9,23.0,23.2,23.3,23.6,23.8,23.9,24.0,24.1,24.1,24.2,24.4,24.5,24.8,24.9,25.0,25.2,25.3,25.5,25.6,25.8,26.0,25.9,26.0,26.1,26.2,26.2,26.3,26.2,26.3,26.4,26.4,26.5,26.6,26.7,26.7,26.6,26.3,26.2,26.5,26.3,26.3,26.4,26.4,26.4,26.0,25.9,25.9,25.4,25.8,25.8,25.9,25.9,25.9,25.6,25.7,25.8,25.7,25.6,25.7,25.8,26.0,25.8,25.8,25.8,25.8,25.8,26.0,26.0,26.2,26.3,26.4,27.0,26.9,27.0,27.2,27.4,27.5,27.7,27.6,27.7,27.8,27.8,27.9,27.5,28.3,28.1,28.1,28.2,28.3,28.3,28.4,28.4,28.7,28.8,28.9,28.9,29.1,29.2,29.3,29.4,29.6,29.7,29.7,29.8,29.9,29.9,30.0,30.1,30.1,30.1,30.0,30.0,29.9,29.9,29.8,29.8,29.8,29.8,29.6,29.6,29.6,29.7,29.7,29.8,29.8,29.8,30.0,30.1,30.3,30.4,30.5,30.5,30.4,30.3,30.4,30.5,30.5,30.9,30.9,30.9,30.6,30.8,31.0,30.9,30.9,30.9,30.6,30.7,30.8,30.8,30.9,30.9,30.9,31.0,31.0,31.2,31.1,31.2,31.4,31.3,31.4,31.3,31.3,31.4,31.3,31.4,31.3,31.3,31.4,31.7,31.9,31.8,31.8,31.9,32.0,31.9,31.9,31.9,31.9,31.8,31.9,32.0,31.9,32.0,32.1,32.2,32.1,32.2,32.5,32.6,32.6,32.7,32.8,32.6,32.6,32.8,32.8,33.0,33.1,33.1,33.3,33.4,33.7,33.6,33.9,33.9,34.1,34.2,34.2,34.1,34.1,34.3,34.3,34.4,34.4,34.5,34.7,34.5,34.7,35.2,35.8,35.8,35.5,35.6,35.6,35.7,35.6,35.9,36.0,36.2,36.6,36.7,36.6,37.1,37.2,37.4,37.6,37.5,37.7,38.1,38.5,38.9,39.2,39.4,39.4,39.4,39.4,39.6,39.6,39.7,39.5,39.5,39.4,39.4,39.7,39.6,39.6,39.6,39.7,39.7,39.8,40.0,40.2,40.1,40.3,40.4,40.4,40.6,40.7,41.0,41.0,41.2,41.2,41.2,41.1,41.4,41.8,42.2,42.8,43.4,44.2,44.7,45.3,45.9,46.4,46.6,47.0,47.3,47.6,47.9,48.0,48.3,48.7,48.8,48.9,49.4,50.2,50.6,51.4,51.7,52.4,52.6,53.0,53.3,53.8,54.0,54.3,54.8,55.1,55.4,56.0,56.6,57.0,57.3,57.8,58.2,58.7,59.0,59.1,59.1,59.0,58.9,59.1,59.3,59.5,59.8,60.1,60.2,60.3,60.4,60.7,61.1,61.6,62.0,62.6,63.3,63.9,64.5,64.6,65.2,66.4,67.8,69.1,70.5,71.7,72.7,73.5,74.0,74.7,75.8,78.0,79.8,81.8,82.2,82.8,82.7,83.1,83.7,84.6,85.3,86.1,86.8,88.5,90.7,91.8,91.7,92.2,92.7,93.5,93.9,94.6,95.5,96.2,96.4,96.7,96.2,95.8,94.5,95.1,97.2,98.1,98.2,98.0,98.2,98.2,97.7,97.6,96.9,96.5,97.8,98.6,99.0,99.6,100.4,100.7,101.1,101.5,101.5,102.0,102.2,102.9,103.3,103.7,103.9,103.7,103.8,104.1,104.8,104.9,104.7,105.1,105.6,106.3,106.8,106.5,106.5,106.6,106.2,106.2,106.5,107.0,107.5,108.0,107.0,103.6,101.0,101.4,102.3,101.1,100.1,100.6,100.5,100.8,101.1,102.6,103.5,103.8,104.3,104.4,105.1,105.9,106.6,106.9,107.0,107.3,107.2,107.0,107.0,107.0,107.5,107.9,108.3,108.8,109.7,109.9,110.0,110.2,110.4,110.9,111.7,112.4,115.0,115.8,115.7,115.4,114.5,113.9,114.5,114.4,114.7,117.0,117.2,117.3,117.7,117.5,118.0,118.5,120.7,123.2,125.6,126.1,126.9,125.5,123.9,122.7,122.5,123.2,123.4,123.3,124.0,124.1,123.9,124.5,125.1,124.6,124.5,125.0,125.6,125.9,126.4,126.9,127.0,127.0,128.1,128.7,128.9,129.2,129.6,129.4,129.6,129.9,129.9,130.1,130.5,130.4,132.0,132.2,132.1,131.7,132.3,132.6,132.8,132.4,133.2,134.4,136.0,136.1,136.2,136.7,137.1,137.4,137.9,138.4,139.2,139.7,140.6,139.9,139.4,139.1,139.5,139.1,139.1,140.4,140.9,141.5,142.9,143.5,143.4,143.0,143.0,143.6,143.9,144.6,145.7,145.6,145.2,145.0,144.3,143.3,143.6,143.3,144.1,144.8,144.7,143.9,143.7,143.0,142.4,141.5,140.9,141.2,141.4,141.7,141.6,141.2,141.4,141.3,140.9,140.8,140.0,140.7,143.6,143.4,143.0,144.6,145.9,147.0,147.6,147.5,148.8,149.1,150.0,153.6,152.1,152.0,155.0,154.6,153.2,155.2,154.7,155.0,155.1,155.4,155.2,154.2,154.8,157.6,157.3,154.0,153.4,156.0,152.9,150.2,149.2,149.3,148.7,150.5,152.5,152.8,152.8,153.3,154.0,154.2,155.5,155.4,155.3,158.0,160.8,160.8,157.7,154.4,154.6,155.7,158.2,159.9,157.5,156.9,157.4,159.8,160.7,160.8,159.8,161.6,162.8,162.3,162.1,163.4,166.7,169.1,168.5,166.5,168.4,169.2,170.3,168.7,169.1,172.8,177.3,187.7,184.5,176.8,176.0,179.0,178.5,178.1,181.8,182.7,183.0,186.9,188.4,181.5,175.9,174.9,178.3,177.09,177.727,181.041,182.489,184.669,184.902,185.396,184.328,186.324,186.922,192.289,193.205,194.135,194.934,195.872,195.179,198.535,206.313,209.349,205.848,205.856,195.608,175.507,166.673,168.403,171.424,169.449,170.09,172.235,180.667,180.915,183.729,185.329,187.793,191.243,191.517,193.116,191.978,191.375,191.249,190.231,189.426,191.082,192.287,193.316,196.845,198.783,202.454,204.232,205.704,209.591,213.032,214.499,212.957,213.661,214.651,215.455,214.682,215.149,213.784,215.385,217.686,218.457,218.615,215.029,212.225,211.791,217.573,221.574,222.913,218.833,217.524,218.092,223.274,218.985,214.905,214.01,215.38,216.562,217.901,216.898,216.682,217.17,218.715,219.287,218.525,217.491,218.989,218.306,218.653,218.126,217.071,215.41,213.73,210.033,204.124,194.852,197.087,199.119,198.636,202.277,203.86,204.166,202.609,197.162,196.445,196.644,194.728,192.648,188.784,191.583,194.491,195.474,197.236,194.654,194.205,195.762,197.151,197.331,199.146,202.082,201.566,201.165,200.904,198.623,198.062,196.903,199.59,204.503,203.282,205.698,206.332,208.477,210.061,208.673,209.112,210.407,211.166,210.93,212.187,212.906,214.28,211.431,207.827,205.232,206.619,209.889,212.579,211.749,209.911,210.465,209.956,209.896,211.116,211.05,211.815,210.817,210.123,204.779,192.547,189.142,193.31,198.331,201.406,203.467,203.751,203.782,206.222,207.839,211.476,217.108,221.151,226.625,234.659,236.191,236.783,237.107,241.826,246.749,250.105,251.21,256.028,null,null,null,null,null,null,null,null,null,null],\"type\":\"scatter\"}],                        {\"template\":{\"data\":{\"bar\":[{\"error_x\":{\"color\":\"#2a3f5f\"},\"error_y\":{\"color\":\"#2a3f5f\"},\"marker\":{\"line\":{\"color\":\"#E5ECF6\",\"width\":0.5},\"pattern\":{\"fillmode\":\"overlay\",\"size\":10,\"solidity\":0.2}},\"type\":\"bar\"}],\"barpolar\":[{\"marker\":{\"line\":{\"color\":\"#E5ECF6\",\"width\":0.5},\"pattern\":{\"fillmode\":\"overlay\",\"size\":10,\"solidity\":0.2}},\"type\":\"barpolar\"}],\"carpet\":[{\"aaxis\":{\"endlinecolor\":\"#2a3f5f\",\"gridcolor\":\"white\",\"linecolor\":\"white\",\"minorgridcolor\":\"white\",\"startlinecolor\":\"#2a3f5f\"},\"baxis\":{\"endlinecolor\":\"#2a3f5f\",\"gridcolor\":\"white\",\"linecolor\":\"white\",\"minorgridcolor\":\"white\",\"startlinecolor\":\"#2a3f5f\"},\"type\":\"carpet\"}],\"choropleth\":[{\"colorbar\":{\"outlinewidth\":0,\"ticks\":\"\"},\"type\":\"choropleth\"}],\"contour\":[{\"colorbar\":{\"outlinewidth\":0,\"ticks\":\"\"},\"colorscale\":[[0.0,\"#0d0887\"],[0.1111111111111111,\"#46039f\"],[0.2222222222222222,\"#7201a8\"],[0.3333333333333333,\"#9c179e\"],[0.4444444444444444,\"#bd3786\"],[0.5555555555555556,\"#d8576b\"],[0.6666666666666666,\"#ed7953\"],[0.7777777777777778,\"#fb9f3a\"],[0.8888888888888888,\"#fdca26\"],[1.0,\"#f0f921\"]],\"type\":\"contour\"}],\"contourcarpet\":[{\"colorbar\":{\"outlinewidth\":0,\"ticks\":\"\"},\"type\":\"contourcarpet\"}],\"heatmap\":[{\"colorbar\":{\"outlinewidth\":0,\"ticks\":\"\"},\"colorscale\":[[0.0,\"#0d0887\"],[0.1111111111111111,\"#46039f\"],[0.2222222222222222,\"#7201a8\"],[0.3333333333333333,\"#9c179e\"],[0.4444444444444444,\"#bd3786\"],[0.5555555555555556,\"#d8576b\"],[0.6666666666666666,\"#ed7953\"],[0.7777777777777778,\"#fb9f3a\"],[0.8888888888888888,\"#fdca26\"],[1.0,\"#f0f921\"]],\"type\":\"heatmap\"}],\"heatmapgl\":[{\"colorbar\":{\"outlinewidth\":0,\"ticks\":\"\"},\"colorscale\":[[0.0,\"#0d0887\"],[0.1111111111111111,\"#46039f\"],[0.2222222222222222,\"#7201a8\"],[0.3333333333333333,\"#9c179e\"],[0.4444444444444444,\"#bd3786\"],[0.5555555555555556,\"#d8576b\"],[0.6666666666666666,\"#ed7953\"],[0.7777777777777778,\"#fb9f3a\"],[0.8888888888888888,\"#fdca26\"],[1.0,\"#f0f921\"]],\"type\":\"heatmapgl\"}],\"histogram\":[{\"marker\":{\"pattern\":{\"fillmode\":\"overlay\",\"size\":10,\"solidity\":0.2}},\"type\":\"histogram\"}],\"histogram2d\":[{\"colorbar\":{\"outlinewidth\":0,\"ticks\":\"\"},\"colorscale\":[[0.0,\"#0d0887\"],[0.1111111111111111,\"#46039f\"],[0.2222222222222222,\"#7201a8\"],[0.3333333333333333,\"#9c179e\"],[0.4444444444444444,\"#bd3786\"],[0.5555555555555556,\"#d8576b\"],[0.6666666666666666,\"#ed7953\"],[0.7777777777777778,\"#fb9f3a\"],[0.8888888888888888,\"#fdca26\"],[1.0,\"#f0f921\"]],\"type\":\"histogram2d\"}],\"histogram2dcontour\":[{\"colorbar\":{\"outlinewidth\":0,\"ticks\":\"\"},\"colorscale\":[[0.0,\"#0d0887\"],[0.1111111111111111,\"#46039f\"],[0.2222222222222222,\"#7201a8\"],[0.3333333333333333,\"#9c179e\"],[0.4444444444444444,\"#bd3786\"],[0.5555555555555556,\"#d8576b\"],[0.6666666666666666,\"#ed7953\"],[0.7777777777777778,\"#fb9f3a\"],[0.8888888888888888,\"#fdca26\"],[1.0,\"#f0f921\"]],\"type\":\"histogram2dcontour\"}],\"mesh3d\":[{\"colorbar\":{\"outlinewidth\":0,\"ticks\":\"\"},\"type\":\"mesh3d\"}],\"parcoords\":[{\"line\":{\"colorbar\":{\"outlinewidth\":0,\"ticks\":\"\"}},\"type\":\"parcoords\"}],\"pie\":[{\"automargin\":true,\"type\":\"pie\"}],\"scatter\":[{\"marker\":{\"colorbar\":{\"outlinewidth\":0,\"ticks\":\"\"}},\"type\":\"scatter\"}],\"scatter3d\":[{\"line\":{\"colorbar\":{\"outlinewidth\":0,\"ticks\":\"\"}},\"marker\":{\"colorbar\":{\"outlinewidth\":0,\"ticks\":\"\"}},\"type\":\"scatter3d\"}],\"scattercarpet\":[{\"marker\":{\"colorbar\":{\"outlinewidth\":0,\"ticks\":\"\"}},\"type\":\"scattercarpet\"}],\"scattergeo\":[{\"marker\":{\"colorbar\":{\"outlinewidth\":0,\"ticks\":\"\"}},\"type\":\"scattergeo\"}],\"scattergl\":[{\"marker\":{\"colorbar\":{\"outlinewidth\":0,\"ticks\":\"\"}},\"type\":\"scattergl\"}],\"scattermapbox\":[{\"marker\":{\"colorbar\":{\"outlinewidth\":0,\"ticks\":\"\"}},\"type\":\"scattermapbox\"}],\"scatterpolar\":[{\"marker\":{\"colorbar\":{\"outlinewidth\":0,\"ticks\":\"\"}},\"type\":\"scatterpolar\"}],\"scatterpolargl\":[{\"marker\":{\"colorbar\":{\"outlinewidth\":0,\"ticks\":\"\"}},\"type\":\"scatterpolargl\"}],\"scatterternary\":[{\"marker\":{\"colorbar\":{\"outlinewidth\":0,\"ticks\":\"\"}},\"type\":\"scatterternary\"}],\"surface\":[{\"colorbar\":{\"outlinewidth\":0,\"ticks\":\"\"},\"colorscale\":[[0.0,\"#0d0887\"],[0.1111111111111111,\"#46039f\"],[0.2222222222222222,\"#7201a8\"],[0.3333333333333333,\"#9c179e\"],[0.4444444444444444,\"#bd3786\"],[0.5555555555555556,\"#d8576b\"],[0.6666666666666666,\"#ed7953\"],[0.7777777777777778,\"#fb9f3a\"],[0.8888888888888888,\"#fdca26\"],[1.0,\"#f0f921\"]],\"type\":\"surface\"}],\"table\":[{\"cells\":{\"fill\":{\"color\":\"#EBF0F8\"},\"line\":{\"color\":\"white\"}},\"header\":{\"fill\":{\"color\":\"#C8D4E3\"},\"line\":{\"color\":\"white\"}},\"type\":\"table\"}]},\"layout\":{\"annotationdefaults\":{\"arrowcolor\":\"#2a3f5f\",\"arrowhead\":0,\"arrowwidth\":1},\"autotypenumbers\":\"strict\",\"coloraxis\":{\"colorbar\":{\"outlinewidth\":0,\"ticks\":\"\"}},\"colorscale\":{\"diverging\":[[0,\"#8e0152\"],[0.1,\"#c51b7d\"],[0.2,\"#de77ae\"],[0.3,\"#f1b6da\"],[0.4,\"#fde0ef\"],[0.5,\"#f7f7f7\"],[0.6,\"#e6f5d0\"],[0.7,\"#b8e186\"],[0.8,\"#7fbc41\"],[0.9,\"#4d9221\"],[1,\"#276419\"]],\"sequential\":[[0.0,\"#0d0887\"],[0.1111111111111111,\"#46039f\"],[0.2222222222222222,\"#7201a8\"],[0.3333333333333333,\"#9c179e\"],[0.4444444444444444,\"#bd3786\"],[0.5555555555555556,\"#d8576b\"],[0.6666666666666666,\"#ed7953\"],[0.7777777777777778,\"#fb9f3a\"],[0.8888888888888888,\"#fdca26\"],[1.0,\"#f0f921\"]],\"sequentialminus\":[[0.0,\"#0d0887\"],[0.1111111111111111,\"#46039f\"],[0.2222222222222222,\"#7201a8\"],[0.3333333333333333,\"#9c179e\"],[0.4444444444444444,\"#bd3786\"],[0.5555555555555556,\"#d8576b\"],[0.6666666666666666,\"#ed7953\"],[0.7777777777777778,\"#fb9f3a\"],[0.8888888888888888,\"#fdca26\"],[1.0,\"#f0f921\"]]},\"colorway\":[\"#636efa\",\"#EF553B\",\"#00cc96\",\"#ab63fa\",\"#FFA15A\",\"#19d3f3\",\"#FF6692\",\"#B6E880\",\"#FF97FF\",\"#FECB52\"],\"font\":{\"color\":\"#2a3f5f\"},\"geo\":{\"bgcolor\":\"white\",\"lakecolor\":\"white\",\"landcolor\":\"#E5ECF6\",\"showlakes\":true,\"showland\":true,\"subunitcolor\":\"white\"},\"hoverlabel\":{\"align\":\"left\"},\"hovermode\":\"closest\",\"mapbox\":{\"style\":\"light\"},\"paper_bgcolor\":\"white\",\"plot_bgcolor\":\"#E5ECF6\",\"polar\":{\"angularaxis\":{\"gridcolor\":\"white\",\"linecolor\":\"white\",\"ticks\":\"\"},\"bgcolor\":\"#E5ECF6\",\"radialaxis\":{\"gridcolor\":\"white\",\"linecolor\":\"white\",\"ticks\":\"\"}},\"scene\":{\"xaxis\":{\"backgroundcolor\":\"#E5ECF6\",\"gridcolor\":\"white\",\"gridwidth\":2,\"linecolor\":\"white\",\"showbackground\":true,\"ticks\":\"\",\"zerolinecolor\":\"white\"},\"yaxis\":{\"backgroundcolor\":\"#E5ECF6\",\"gridcolor\":\"white\",\"gridwidth\":2,\"linecolor\":\"white\",\"showbackground\":true,\"ticks\":\"\",\"zerolinecolor\":\"white\"},\"zaxis\":{\"backgroundcolor\":\"#E5ECF6\",\"gridcolor\":\"white\",\"gridwidth\":2,\"linecolor\":\"white\",\"showbackground\":true,\"ticks\":\"\",\"zerolinecolor\":\"white\"}},\"shapedefaults\":{\"line\":{\"color\":\"#2a3f5f\"}},\"ternary\":{\"aaxis\":{\"gridcolor\":\"white\",\"linecolor\":\"white\",\"ticks\":\"\"},\"baxis\":{\"gridcolor\":\"white\",\"linecolor\":\"white\",\"ticks\":\"\"},\"bgcolor\":\"#E5ECF6\",\"caxis\":{\"gridcolor\":\"white\",\"linecolor\":\"white\",\"ticks\":\"\"}},\"title\":{\"x\":0.05},\"xaxis\":{\"automargin\":true,\"gridcolor\":\"white\",\"linecolor\":\"white\",\"ticks\":\"\",\"title\":{\"standoff\":15},\"zerolinecolor\":\"white\",\"zerolinewidth\":2},\"yaxis\":{\"automargin\":true,\"gridcolor\":\"white\",\"linecolor\":\"white\",\"ticks\":\"\",\"title\":{\"standoff\":15},\"zerolinecolor\":\"white\",\"zerolinewidth\":2}}},\"hovermode\":\"x unified\",\"clickmode\":\"select\",\"height\":500,\"width\":1100},                        {\"responsive\": true}                    ).then(function(){\n                            \nvar gd = document.getElementById('1f9b0468-fd11-4f0a-8571-831b8746819b');\nvar x = new MutationObserver(function (mutations, observer) {{\n        var display = window.getComputedStyle(gd).display;\n        if (!display || display === 'none') {{\n            console.log([gd, 'removed!']);\n            Plotly.purge(gd);\n            observer.disconnect();\n        }}\n}});\n\n// Listen for the removal of the full notebook cells\nvar notebookContainer = gd.closest('#notebook-container');\nif (notebookContainer) {{\n    x.observe(notebookContainer, {childList: true});\n}}\n\n// Listen for the clearing of the current output cell\nvar outputEl = gd.closest('.output');\nif (outputEl) {{\n    x.observe(outputEl, {childList: true});\n}}\n\n                        })                };                            </script>        </div>\n</body>\n</html>"
     },
     "metadata": {},
     "output_type": "display_data"
    }
   ]
  },
  {
   "cell_type": "markdown",
   "source": "<h1 style=\"background-color:red;\">Driving factors modeling </h1>\n",
   "metadata": {
    "cell_id": "e2e570b493d847df89901ba4c00f2872",
    "tags": [],
    "deepnote_cell_type": "markdown",
    "deepnote_cell_height": 82.15625
   }
  },
  {
   "cell_type": "code",
   "metadata": {
    "cell_id": "705b2e9188184ea3894b4695be7fb6e1",
    "tags": [],
    "deepnote_to_be_reexecuted": false,
    "source_hash": "b623e53d",
    "execution_start": 1649177959714,
    "execution_millis": 2111730,
    "deepnote_cell_type": "code",
    "deepnote_cell_height": 81.15625
   },
   "source": "",
   "execution_count": 5,
   "outputs": []
  },
  {
   "cell_type": "code",
   "metadata": {
    "cell_id": "4540f28373914c71a3e10ebc93d056c7",
    "tags": [],
    "deepnote_to_be_reexecuted": false,
    "source_hash": "b623e53d",
    "execution_start": 1649177959759,
    "execution_millis": 2111686,
    "deepnote_cell_type": "code",
    "deepnote_cell_height": 81.15625
   },
   "source": "",
   "execution_count": 5,
   "outputs": []
  },
  {
   "cell_type": "markdown",
   "source": "## Import item price data",
   "metadata": {
    "cell_id": "96cc5dafa20d425f9a604132cda151cf",
    "tags": [],
    "deepnote_cell_type": "markdown",
    "deepnote_cell_height": 70.171875
   }
  },
  {
   "cell_type": "markdown",
   "source": "### We have to use unadjusted data for this since there is no data available for seasonally adjusted item data",
   "metadata": {
    "cell_id": "4d04f37014a4449bade624d3efb003dc",
    "tags": [],
    "deepnote_cell_type": "markdown",
    "deepnote_cell_height": 62.15625
   }
  },
  {
   "cell_type": "code",
   "metadata": {
    "cell_id": "a4cedc121c184d6abeff759199780072",
    "tags": [],
    "deepnote_to_be_reexecuted": false,
    "source_hash": "2021da50",
    "execution_start": 1649177959760,
    "execution_millis": 95,
    "deepnote_cell_type": "code",
    "deepnote_cell_height": 745.15625,
    "deepnote_output_heights": [
     48.765625
    ]
   },
   "source": "cpi_unadj = pd.read_excel('CPIRawData_unadj.xlsx',engine='openpyxl',sheet_name = 'BLS Data Series',skiprows=11)\ncpi_unadj = cpi_unadj.loc[:,~cpi_unadj.columns.str.startswith('HALF')]\ncpi_unadj.drop(columns = ['Annual'], inplace = True)\n\n#use pd.melt to combine columns and rows\ncpi_unadj = pd.melt(cpi_unadj, id_vars=[\"Year\"], var_name=\"Month\", value_name = \"CPI\")\n#modify columns to get usable format and calculate inflation\ncpi_unadj['Date'] = cpi_unadj.Month + \" \" + cpi_unadj['Year'].map(str)\ncpi_unadj = cpi_unadj[['Date','CPI']]\ncpi_unadj[\"Date\"] = pd.to_datetime(cpi_unadj.Date, format=\"%b %Y\", dayfirst=True)\ncpi_unadj = cpi_unadj.sort_values(\"Date\")\n#cpi_monthly ['Date'] = cpi_monthly['Date'].dt.strftime('%m/%d/%Y')\ncpi_unadj ['Date'] = cpi_unadj['Date'].dt.date\n\ndisplay(Markdown('<h2>Unadjusted CPI Data</h2>'))\ndisplay(cpi_unadj.head())",
   "execution_count": 6,
   "outputs": [
    {
     "data": {
      "text/plain": "<IPython.core.display.Markdown object>",
      "text/markdown": "<h2>Unadjusted CPI Data</h2>"
     },
     "metadata": {},
     "output_type": "display_data"
    },
    {
     "data": {
      "application/vnd.deepnote.dataframe.v3+json": {
       "column_count": 2,
       "row_count": 5,
       "columns": [
        {
         "name": "Date",
         "dtype": "object",
         "stats": {
          "unique_count": 5,
          "nan_count": 0,
          "categories": [
           {
            "name": "1913-01-01",
            "count": 1
           },
           {
            "name": "1913-02-01",
            "count": 1
           },
           {
            "name": "3 others",
            "count": 3
           }
          ]
         }
        },
        {
         "name": "CPI",
         "dtype": "float64",
         "stats": {
          "unique_count": 2,
          "nan_count": 0,
          "min": "9.7",
          "max": "9.8",
          "histogram": [
           {
            "bin_start": 9.7,
            "bin_end": 9.709999999999999,
            "count": 1
           },
           {
            "bin_start": 9.709999999999999,
            "bin_end": 9.719999999999999,
            "count": 0
           },
           {
            "bin_start": 9.719999999999999,
            "bin_end": 9.73,
            "count": 0
           },
           {
            "bin_start": 9.73,
            "bin_end": 9.74,
            "count": 0
           },
           {
            "bin_start": 9.74,
            "bin_end": 9.75,
            "count": 0
           },
           {
            "bin_start": 9.75,
            "bin_end": 9.76,
            "count": 0
           },
           {
            "bin_start": 9.76,
            "bin_end": 9.77,
            "count": 0
           },
           {
            "bin_start": 9.77,
            "bin_end": 9.780000000000001,
            "count": 0
           },
           {
            "bin_start": 9.780000000000001,
            "bin_end": 9.790000000000001,
            "count": 0
           },
           {
            "bin_start": 9.790000000000001,
            "bin_end": 9.8,
            "count": 4
           }
          ]
         }
        },
        {
         "name": "_deepnote_index_column",
         "dtype": "int64"
        }
       ],
       "rows": [
        {
         "Date": "1913-01-01",
         "CPI": 9.8,
         "_deepnote_index_column": 0
        },
        {
         "Date": "1913-02-01",
         "CPI": 9.8,
         "_deepnote_index_column": 110
        },
        {
         "Date": "1913-03-01",
         "CPI": 9.8,
         "_deepnote_index_column": 220
        },
        {
         "Date": "1913-04-01",
         "CPI": 9.8,
         "_deepnote_index_column": 330
        },
        {
         "Date": "1913-05-01",
         "CPI": 9.7,
         "_deepnote_index_column": 440
        }
       ]
      },
      "text/plain": "           Date  CPI\n0    1913-01-01  9.8\n110  1913-02-01  9.8\n220  1913-03-01  9.8\n330  1913-04-01  9.8\n440  1913-05-01  9.7",
      "text/html": "<div>\n<style scoped>\n    .dataframe tbody tr th:only-of-type {\n        vertical-align: middle;\n    }\n\n    .dataframe tbody tr th {\n        vertical-align: top;\n    }\n\n    .dataframe thead th {\n        text-align: right;\n    }\n</style>\n<table border=\"1\" class=\"dataframe\">\n  <thead>\n    <tr style=\"text-align: right;\">\n      <th></th>\n      <th>Date</th>\n      <th>CPI</th>\n    </tr>\n  </thead>\n  <tbody>\n    <tr>\n      <th>0</th>\n      <td>1913-01-01</td>\n      <td>9.8</td>\n    </tr>\n    <tr>\n      <th>110</th>\n      <td>1913-02-01</td>\n      <td>9.8</td>\n    </tr>\n    <tr>\n      <th>220</th>\n      <td>1913-03-01</td>\n      <td>9.8</td>\n    </tr>\n    <tr>\n      <th>330</th>\n      <td>1913-04-01</td>\n      <td>9.8</td>\n    </tr>\n    <tr>\n      <th>440</th>\n      <td>1913-05-01</td>\n      <td>9.7</td>\n    </tr>\n  </tbody>\n</table>\n</div>"
     },
     "metadata": {},
     "output_type": "display_data"
    }
   ]
  },
  {
   "cell_type": "code",
   "metadata": {
    "cell_id": "98237dda30a6421db9d8aeb0ec29eba3",
    "tags": [],
    "deepnote_to_be_reexecuted": false,
    "source_hash": "a1f39fd4",
    "execution_start": 1649177959902,
    "execution_millis": 2136,
    "deepnote_cell_type": "code",
    "deepnote_cell_height": 980.21875,
    "deepnote_output_heights": [
     48.765625,
     237.953125
    ]
   },
   "source": "pricing = pd.read_excel('IndividualPricingData_BLS.xlsx',engine='openpyxl',sheet_name = 'BLS Data Series',skiprows=3)\npricing.set_index('Series ID',inplace = True)\npricing = pricing.T\npricing.reset_index(inplace = True)\npricing.rename(columns = {'index': 'Date'},inplace = True)\npricing.replace({'\\n': ' '}, regex=True,inplace =True)\npricing[\"Date\"] = pd.to_datetime(pricing.Date, format=\"%b %Y\", dayfirst=True)\npricing.set_index('Date',inplace = True)\ndisplay(Markdown('<h2>Individual Item CPI Data</h2>'))\ndisplay(pricing.head())\n\nseries_keys = pd.read_excel('IndividualPricingData_BLS.xlsx',engine='openpyxl',sheet_name = 'ItemCodeKeys')\nseries_keys = series_keys[['FullCode','item_name']]\ndisplay(series_keys.head())",
   "execution_count": 7,
   "outputs": [
    {
     "data": {
      "text/plain": "<IPython.core.display.Markdown object>",
      "text/markdown": "<h2>Individual Item CPI Data</h2>"
     },
     "metadata": {},
     "output_type": "display_data"
    },
    {
     "data": {
      "text/plain": "Series ID   APU0000701111  APU0000701311  APU0000701312  APU0000701321  \\\nDate                                                                     \n1973-01-01            NaN            NaN            NaN            NaN   \n1973-02-01            NaN            NaN            NaN            NaN   \n1973-03-01            NaN            NaN            NaN            NaN   \n1973-04-01            NaN            NaN            NaN            NaN   \n1973-05-01            NaN            NaN            NaN            NaN   \n\nSeries ID   APU0000701322  APU0000702111  APU0000702112  APU0000702211  \\\nDate                                                                     \n1973-01-01            NaN            NaN            NaN            NaN   \n1973-02-01            NaN            NaN            NaN            NaN   \n1973-03-01            NaN            NaN            NaN            NaN   \n1973-04-01            NaN            NaN            NaN            NaN   \n1973-05-01            NaN            NaN            NaN            NaN   \n\nSeries ID   APU0000702212  APU0000702213  ...  APU0000FD2101  APU0000FD3101  \\\nDate                                      ...                                 \n1973-01-01            NaN            NaN  ...            NaN            NaN   \n1973-02-01            NaN            NaN  ...            NaN            NaN   \n1973-03-01            NaN            NaN  ...            NaN            NaN   \n1973-04-01            NaN            NaN  ...            NaN            NaN   \n1973-05-01            NaN            NaN  ...            NaN            NaN   \n\nSeries ID   APU0000FD4101  APU0000FF1101  APU0000FJ1101  APU0000FJ4101  \\\nDate                                                                     \n1973-01-01            NaN            NaN            NaN            NaN   \n1973-02-01            NaN            NaN            NaN            NaN   \n1973-03-01            NaN            NaN            NaN            NaN   \n1973-04-01            NaN            NaN            NaN            NaN   \n1973-05-01            NaN            NaN            NaN            NaN   \n\nSeries ID   APU0000FL2101  APU0000FN1101  APU0000FN1102  APU0000FS1101  \nDate                                                                    \n1973-01-01            NaN            NaN            NaN            NaN  \n1973-02-01            NaN            NaN            NaN            NaN  \n1973-03-01            NaN            NaN            NaN            NaN  \n1973-04-01            NaN            NaN            NaN            NaN  \n1973-05-01            NaN            NaN            NaN            NaN  \n\n[5 rows x 160 columns]",
      "text/html": "<div>\n<style scoped>\n    .dataframe tbody tr th:only-of-type {\n        vertical-align: middle;\n    }\n\n    .dataframe tbody tr th {\n        vertical-align: top;\n    }\n\n    .dataframe thead th {\n        text-align: right;\n    }\n</style>\n<table border=\"1\" class=\"dataframe\">\n  <thead>\n    <tr style=\"text-align: right;\">\n      <th>Series ID</th>\n      <th>APU0000701111</th>\n      <th>APU0000701311</th>\n      <th>APU0000701312</th>\n      <th>APU0000701321</th>\n      <th>APU0000701322</th>\n      <th>APU0000702111</th>\n      <th>APU0000702112</th>\n      <th>APU0000702211</th>\n      <th>APU0000702212</th>\n      <th>APU0000702213</th>\n      <th>...</th>\n      <th>APU0000FD2101</th>\n      <th>APU0000FD3101</th>\n      <th>APU0000FD4101</th>\n      <th>APU0000FF1101</th>\n      <th>APU0000FJ1101</th>\n      <th>APU0000FJ4101</th>\n      <th>APU0000FL2101</th>\n      <th>APU0000FN1101</th>\n      <th>APU0000FN1102</th>\n      <th>APU0000FS1101</th>\n    </tr>\n    <tr>\n      <th>Date</th>\n      <th></th>\n      <th></th>\n      <th></th>\n      <th></th>\n      <th></th>\n      <th></th>\n      <th></th>\n      <th></th>\n      <th></th>\n      <th></th>\n      <th></th>\n      <th></th>\n      <th></th>\n      <th></th>\n      <th></th>\n      <th></th>\n      <th></th>\n      <th></th>\n      <th></th>\n      <th></th>\n      <th></th>\n    </tr>\n  </thead>\n  <tbody>\n    <tr>\n      <th>1973-01-01</th>\n      <td>NaN</td>\n      <td>NaN</td>\n      <td>NaN</td>\n      <td>NaN</td>\n      <td>NaN</td>\n      <td>NaN</td>\n      <td>NaN</td>\n      <td>NaN</td>\n      <td>NaN</td>\n      <td>NaN</td>\n      <td>...</td>\n      <td>NaN</td>\n      <td>NaN</td>\n      <td>NaN</td>\n      <td>NaN</td>\n      <td>NaN</td>\n      <td>NaN</td>\n      <td>NaN</td>\n      <td>NaN</td>\n      <td>NaN</td>\n      <td>NaN</td>\n    </tr>\n    <tr>\n      <th>1973-02-01</th>\n      <td>NaN</td>\n      <td>NaN</td>\n      <td>NaN</td>\n      <td>NaN</td>\n      <td>NaN</td>\n      <td>NaN</td>\n      <td>NaN</td>\n      <td>NaN</td>\n      <td>NaN</td>\n      <td>NaN</td>\n      <td>...</td>\n      <td>NaN</td>\n      <td>NaN</td>\n      <td>NaN</td>\n      <td>NaN</td>\n      <td>NaN</td>\n      <td>NaN</td>\n      <td>NaN</td>\n      <td>NaN</td>\n      <td>NaN</td>\n      <td>NaN</td>\n    </tr>\n    <tr>\n      <th>1973-03-01</th>\n      <td>NaN</td>\n      <td>NaN</td>\n      <td>NaN</td>\n      <td>NaN</td>\n      <td>NaN</td>\n      <td>NaN</td>\n      <td>NaN</td>\n      <td>NaN</td>\n      <td>NaN</td>\n      <td>NaN</td>\n      <td>...</td>\n      <td>NaN</td>\n      <td>NaN</td>\n      <td>NaN</td>\n      <td>NaN</td>\n      <td>NaN</td>\n      <td>NaN</td>\n      <td>NaN</td>\n      <td>NaN</td>\n      <td>NaN</td>\n      <td>NaN</td>\n    </tr>\n    <tr>\n      <th>1973-04-01</th>\n      <td>NaN</td>\n      <td>NaN</td>\n      <td>NaN</td>\n      <td>NaN</td>\n      <td>NaN</td>\n      <td>NaN</td>\n      <td>NaN</td>\n      <td>NaN</td>\n      <td>NaN</td>\n      <td>NaN</td>\n      <td>...</td>\n      <td>NaN</td>\n      <td>NaN</td>\n      <td>NaN</td>\n      <td>NaN</td>\n      <td>NaN</td>\n      <td>NaN</td>\n      <td>NaN</td>\n      <td>NaN</td>\n      <td>NaN</td>\n      <td>NaN</td>\n    </tr>\n    <tr>\n      <th>1973-05-01</th>\n      <td>NaN</td>\n      <td>NaN</td>\n      <td>NaN</td>\n      <td>NaN</td>\n      <td>NaN</td>\n      <td>NaN</td>\n      <td>NaN</td>\n      <td>NaN</td>\n      <td>NaN</td>\n      <td>NaN</td>\n      <td>...</td>\n      <td>NaN</td>\n      <td>NaN</td>\n      <td>NaN</td>\n      <td>NaN</td>\n      <td>NaN</td>\n      <td>NaN</td>\n      <td>NaN</td>\n      <td>NaN</td>\n      <td>NaN</td>\n      <td>NaN</td>\n    </tr>\n  </tbody>\n</table>\n<p>5 rows × 160 columns</p>\n</div>"
     },
     "metadata": {},
     "output_type": "display_data"
    },
    {
     "data": {
      "application/vnd.deepnote.dataframe.v3+json": {
       "column_count": 2,
       "row_count": 5,
       "columns": [
        {
         "name": "FullCode",
         "dtype": "object",
         "stats": {
          "unique_count": 5,
          "nan_count": 0,
          "categories": [
           {
            "name": "APU0000701111",
            "count": 1
           },
           {
            "name": "APU0000701311",
            "count": 1
           },
           {
            "name": "3 others",
            "count": 3
           }
          ]
         }
        },
        {
         "name": "item_name",
         "dtype": "object",
         "stats": {
          "unique_count": 5,
          "nan_count": 0,
          "categories": [
           {
            "name": "Flour, white, all purpose, per lb. (453.6 gm)",
            "count": 1
           },
           {
            "name": "Rice, white, long grain, precooked (cost per pound/453.6 grams)",
            "count": 1
           },
           {
            "name": "3 others",
            "count": 3
           }
          ]
         }
        },
        {
         "name": "_deepnote_index_column",
         "dtype": "int64"
        }
       ],
       "rows": [
        {
         "FullCode": "APU0000701111",
         "item_name": "Flour, white, all purpose, per lb. (453.6 gm)",
         "_deepnote_index_column": 0
        },
        {
         "FullCode": "APU0000701311",
         "item_name": "Rice, white, long grain, precooked (cost per pound/453.6 grams)",
         "_deepnote_index_column": 1
        },
        {
         "FullCode": "APU0000701312",
         "item_name": "Rice, white, long grain, uncooked, per lb. (453.6 gm)",
         "_deepnote_index_column": 2
        },
        {
         "FullCode": "APU0000701321",
         "item_name": "Spaghetti (cost per pound/453.6 grams)",
         "_deepnote_index_column": 3
        },
        {
         "FullCode": "APU0000701322",
         "item_name": "Spaghetti and macaroni, per lb. (453.6 gm)",
         "_deepnote_index_column": 4
        }
       ]
      },
      "text/plain": "        FullCode                                          item_name\n0  APU0000701111      Flour, white, all purpose, per lb. (453.6 gm)\n1  APU0000701311  Rice, white, long grain, precooked (cost per p...\n2  APU0000701312  Rice, white, long grain, uncooked, per lb. (45...\n3  APU0000701321             Spaghetti (cost per pound/453.6 grams)\n4  APU0000701322         Spaghetti and macaroni, per lb. (453.6 gm)",
      "text/html": "<div>\n<style scoped>\n    .dataframe tbody tr th:only-of-type {\n        vertical-align: middle;\n    }\n\n    .dataframe tbody tr th {\n        vertical-align: top;\n    }\n\n    .dataframe thead th {\n        text-align: right;\n    }\n</style>\n<table border=\"1\" class=\"dataframe\">\n  <thead>\n    <tr style=\"text-align: right;\">\n      <th></th>\n      <th>FullCode</th>\n      <th>item_name</th>\n    </tr>\n  </thead>\n  <tbody>\n    <tr>\n      <th>0</th>\n      <td>APU0000701111</td>\n      <td>Flour, white, all purpose, per lb. (453.6 gm)</td>\n    </tr>\n    <tr>\n      <th>1</th>\n      <td>APU0000701311</td>\n      <td>Rice, white, long grain, precooked (cost per p...</td>\n    </tr>\n    <tr>\n      <th>2</th>\n      <td>APU0000701312</td>\n      <td>Rice, white, long grain, uncooked, per lb. (45...</td>\n    </tr>\n    <tr>\n      <th>3</th>\n      <td>APU0000701321</td>\n      <td>Spaghetti (cost per pound/453.6 grams)</td>\n    </tr>\n    <tr>\n      <th>4</th>\n      <td>APU0000701322</td>\n      <td>Spaghetti and macaroni, per lb. (453.6 gm)</td>\n    </tr>\n  </tbody>\n</table>\n</div>"
     },
     "metadata": {},
     "output_type": "display_data"
    }
   ]
  },
  {
   "cell_type": "markdown",
   "source": "<h1 style=\"background-color:red;\">Narrow down item dataset </h1>",
   "metadata": {
    "cell_id": "826b13f99c0c44cb8b0190829db46c13",
    "tags": [],
    "deepnote_cell_type": "markdown",
    "deepnote_cell_height": 82.15625
   }
  },
  {
   "cell_type": "code",
   "metadata": {
    "cell_id": "b599ec5c7bbc4ef8a3440ec06c0d8d5d",
    "tags": [],
    "deepnote_to_be_reexecuted": false,
    "source_hash": "a9bbeef9",
    "execution_start": 1649177962048,
    "execution_millis": 2189,
    "deepnote_cell_type": "code",
    "deepnote_cell_height": 2795.546875,
    "deepnote_output_heights": [
     48.765625,
     611,
     33.15625,
     33.15625,
     208.859375,
     48.765625,
     501.984375
    ]
   },
   "source": "\n\n\nsize_prices = {}\n\nfor column in pricing.columns:\n    temp_series = pricing[column].dropna()\n    item_datapoints = len(temp_series)\n    size_prices[column] = item_datapoints\n\ndf_sizes = pd.DataFrame(size_prices, index=['DataPoints']).T\ndf_sizes.reset_index(inplace = True)\ndf_sizes.rename(columns = {'index': 'ItemNames'},inplace = True)\n\nfig = px.bar(df_sizes, x='ItemNames', y='DataPoints')\nfig.update_layout(height=700,width=1100,)\ndisplay(Markdown('<h2>Number of Data Points per Item</h2>'))\nfig.show()\n\n\nitem_most_data = max(size_prices, key=size_prices.get)\nsize_most_data = size_prices[item_most_data]\ndisplay(Markdown(f'Item with the most data: **{item_most_data} ({size_most_data} points)**'))\n\npct_of_max = 0.6\nmin_num_points = int(pct_of_max*size_most_data)\ndisplay(Markdown(f'Removing Variables with < **{min_num_points} points**'))\n\n\nideal_data_keys = []\nfor key in size_prices.keys():\n    if size_prices[key] >= min_num_points:\n        ideal_data_keys.append(key)\n\n\npricing_filtered = pricing.copy()\npricing_filtered =  pricing_filtered[ideal_data_keys]\npricing_filtered.reset_index(inplace = True)\npricing_filtered = pricing_filtered.rename_axis(None, axis=1)\ndisplay(pricing_filtered.head())\n\nitem_counts = {}\n\nfor column in pricing_filtered.columns:\n    temp_series = pricing_filtered[column].dropna()\n    item_datapoints = len(temp_series)\n    item_counts[column] = item_datapoints\n\ndf_item_counts = pd.DataFrame(item_counts, index=['DataPoints']).T\ndf_item_counts.reset_index(inplace = True)\ndf_item_counts.rename(columns = {'index': 'ItemNames'},inplace = True)\n\nfig = px.bar(df_item_counts, x='ItemNames', y='DataPoints')\nfig.update_layout(height=500,width=1100,)\ndisplay(Markdown('<h2>Number of Data Points per Item (After Filtering)</h2>'))\nfig.show()\n\n",
   "execution_count": 8,
   "outputs": [
    {
     "data": {
      "text/plain": "<IPython.core.display.Markdown object>",
      "text/markdown": "<h2>Number of Data Points per Item</h2>"
     },
     "metadata": {},
     "output_type": "display_data"
    },
    {
     "data": {
      "text/html": "<html>\n<head><meta charset=\"utf-8\" /></head>\n<body>\n    <div>            <script src=\"https://cdnjs.cloudflare.com/ajax/libs/mathjax/2.7.5/MathJax.js?config=TeX-AMS-MML_SVG\"></script><script type=\"text/javascript\">if (window.MathJax) {MathJax.Hub.Config({SVG: {font: \"STIX-Web\"}});}</script>                <script type=\"text/javascript\">window.PlotlyConfig = {MathJaxConfig: 'local'};</script>\n        <script src=\"https://cdn.plot.ly/plotly-2.9.0.min.js\"></script>                <div id=\"a85cf405-a2b3-4e2d-b639-e17b2f362333\" class=\"plotly-graph-div\" style=\"height:700px; width:1100px;\"></div>            <script type=\"text/javascript\">                                    window.PLOTLYENV=window.PLOTLYENV || {};                                    if (document.getElementById(\"a85cf405-a2b3-4e2d-b639-e17b2f362333\")) {                    Plotly.newPlot(                        \"a85cf405-a2b3-4e2d-b639-e17b2f362333\",                        [{\"alignmentgroup\":\"True\",\"hovertemplate\":\"ItemNames=%{x}<br>DataPoints=%{y}<extra></extra>\",\"legendgroup\":\"\",\"marker\":{\"color\":\"#636efa\",\"pattern\":{\"shape\":\"\"}},\"name\":\"\",\"offsetgroup\":\"\",\"orientation\":\"v\",\"showlegend\":false,\"textposition\":\"auto\",\"x\":[\"APU0000701111\",\"APU0000701311\",\"APU0000701312\",\"APU0000701321\",\"APU0000701322\",\"APU0000702111\",\"APU0000702112\",\"APU0000702211\",\"APU0000702212\",\"APU0000702213\",\"APU0000702221\",\"APU0000702411\",\"APU0000702421\",\"APU0000702611\",\"APU0000703111\",\"APU0000703112\",\"APU0000703113\",\"APU0000703211\",\"APU0000703212\",\"APU0000703213\",\"APU0000703311\",\"APU0000703312\",\"APU0000703411\",\"APU0000703421\",\"APU0000703422\",\"APU0000703423\",\"APU0000703425\",\"APU0000703431\",\"APU0000703432\",\"APU0000703511\",\"APU0000703512\",\"APU0000703611\",\"APU0000703612\",\"APU0000703613\",\"APU0000704111\",\"APU0000704211\",\"APU0000704212\",\"APU0000704311\",\"APU0000704312\",\"APU0000704313\",\"APU0000704314\",\"APU0000704321\",\"APU0000704411\",\"APU0000704412\",\"APU0000704413\",\"APU0000704421\",\"APU0000705111\",\"APU0000705121\",\"APU0000705141\",\"APU0000705142\",\"APU0000706111\",\"APU0000706211\",\"APU0000706212\",\"APU0000706311\",\"APU0000707111\",\"APU0000708111\",\"APU0000708112\",\"APU0000709111\",\"APU0000709112\",\"APU0000709211\",\"APU0000709212\",\"APU0000709213\",\"APU0000710111\",\"APU0000710122\",\"APU0000710211\",\"APU0000710212\",\"APU0000710411\",\"APU0000711111\",\"APU0000711211\",\"APU0000711311\",\"APU0000711312\",\"APU0000711411\",\"APU0000711412\",\"APU0000711413\",\"APU0000711414\",\"APU0000711415\",\"APU0000711416\",\"APU0000711417\",\"APU0000711418\",\"APU0000712111\",\"APU0000712112\",\"APU0000712211\",\"APU0000712311\",\"APU0000712401\",\"APU0000712402\",\"APU0000712403\",\"APU0000712404\",\"APU0000712405\",\"APU0000712406\",\"APU0000712407\",\"APU0000712408\",\"APU0000712409\",\"APU0000712410\",\"APU0000712411\",\"APU0000712412\",\"APU0000713111\",\"APU0000713311\",\"APU0000713312\",\"APU0000714111\",\"APU0000714221\",\"APU0000714231\",\"APU0000714232\",\"APU0000714233\",\"APU0000715111\",\"APU0000715211\",\"APU0000715212\",\"APU0000715311\",\"APU0000716111\",\"APU0000716113\",\"APU0000716114\",\"APU0000716116\",\"APU0000716121\",\"APU0000716141\",\"APU0000717111\",\"APU0000717112\",\"APU0000717113\",\"APU0000717114\",\"APU0000717311\",\"APU0000717312\",\"APU0000717324\",\"APU0000717325\",\"APU0000717326\",\"APU0000717327\",\"APU0000717411\",\"APU0000717412\",\"APU0000717413\",\"APU0000718311\",\"APU0000718631\",\"APU0000720111\",\"APU0000720211\",\"APU0000720221\",\"APU0000720222\",\"APU0000720311\",\"APU000072511\",\"APU000072601\",\"APU000072610\",\"APU000072611\",\"APU000072620\",\"APU000072621\",\"APU000074712\",\"APU000074713\",\"APU000074714\",\"APU000074715\",\"APU000074716\",\"APU000074717\",\"APU00007471A\",\"APU0000FC1101\",\"APU0000FC2101\",\"APU0000FC3101\",\"APU0000FC4101\",\"APU0000FD2101\",\"APU0000FD3101\",\"APU0000FD4101\",\"APU0000FF1101\",\"APU0000FJ1101\",\"APU0000FJ4101\",\"APU0000FL2101\",\"APU0000FN1101\",\"APU0000FN1102\",\"APU0000FS1101\"],\"xaxis\":\"x\",\"y\":[505,24,481,14,458,506,157,11,463,24,57,84,506,176,506,457,374,200,324,398,506,260,216,88,268,81,130,104,363,506,336,172,284,398,506,506,320,319,373,34,31,149,24,91,208,273,293,477,106,17,505,348,505,481,318,506,135,216,320,77,130,84,384,224,438,443,505,450,504,363,142,479,488,247,184,401,28,415,52,74,428,479,501,325,269,272,213,91,379,57,110,231,105,67,297,506,30,30,301,69,98,30,318,73,506,482,24,24,10,285,365,304,408,79,24,118,167,466,103,45,9,23,99,36,20,45,506,73,320,13,13,91,320,519,415,519,415,519,415,211,123,554,339,486,290,530,290,290,290,289,284,290,289,194,47,47,173,47,47,47],\"yaxis\":\"y\",\"type\":\"bar\"}],                        {\"template\":{\"data\":{\"bar\":[{\"error_x\":{\"color\":\"#2a3f5f\"},\"error_y\":{\"color\":\"#2a3f5f\"},\"marker\":{\"line\":{\"color\":\"#E5ECF6\",\"width\":0.5},\"pattern\":{\"fillmode\":\"overlay\",\"size\":10,\"solidity\":0.2}},\"type\":\"bar\"}],\"barpolar\":[{\"marker\":{\"line\":{\"color\":\"#E5ECF6\",\"width\":0.5},\"pattern\":{\"fillmode\":\"overlay\",\"size\":10,\"solidity\":0.2}},\"type\":\"barpolar\"}],\"carpet\":[{\"aaxis\":{\"endlinecolor\":\"#2a3f5f\",\"gridcolor\":\"white\",\"linecolor\":\"white\",\"minorgridcolor\":\"white\",\"startlinecolor\":\"#2a3f5f\"},\"baxis\":{\"endlinecolor\":\"#2a3f5f\",\"gridcolor\":\"white\",\"linecolor\":\"white\",\"minorgridcolor\":\"white\",\"startlinecolor\":\"#2a3f5f\"},\"type\":\"carpet\"}],\"choropleth\":[{\"colorbar\":{\"outlinewidth\":0,\"ticks\":\"\"},\"type\":\"choropleth\"}],\"contour\":[{\"colorbar\":{\"outlinewidth\":0,\"ticks\":\"\"},\"colorscale\":[[0.0,\"#0d0887\"],[0.1111111111111111,\"#46039f\"],[0.2222222222222222,\"#7201a8\"],[0.3333333333333333,\"#9c179e\"],[0.4444444444444444,\"#bd3786\"],[0.5555555555555556,\"#d8576b\"],[0.6666666666666666,\"#ed7953\"],[0.7777777777777778,\"#fb9f3a\"],[0.8888888888888888,\"#fdca26\"],[1.0,\"#f0f921\"]],\"type\":\"contour\"}],\"contourcarpet\":[{\"colorbar\":{\"outlinewidth\":0,\"ticks\":\"\"},\"type\":\"contourcarpet\"}],\"heatmap\":[{\"colorbar\":{\"outlinewidth\":0,\"ticks\":\"\"},\"colorscale\":[[0.0,\"#0d0887\"],[0.1111111111111111,\"#46039f\"],[0.2222222222222222,\"#7201a8\"],[0.3333333333333333,\"#9c179e\"],[0.4444444444444444,\"#bd3786\"],[0.5555555555555556,\"#d8576b\"],[0.6666666666666666,\"#ed7953\"],[0.7777777777777778,\"#fb9f3a\"],[0.8888888888888888,\"#fdca26\"],[1.0,\"#f0f921\"]],\"type\":\"heatmap\"}],\"heatmapgl\":[{\"colorbar\":{\"outlinewidth\":0,\"ticks\":\"\"},\"colorscale\":[[0.0,\"#0d0887\"],[0.1111111111111111,\"#46039f\"],[0.2222222222222222,\"#7201a8\"],[0.3333333333333333,\"#9c179e\"],[0.4444444444444444,\"#bd3786\"],[0.5555555555555556,\"#d8576b\"],[0.6666666666666666,\"#ed7953\"],[0.7777777777777778,\"#fb9f3a\"],[0.8888888888888888,\"#fdca26\"],[1.0,\"#f0f921\"]],\"type\":\"heatmapgl\"}],\"histogram\":[{\"marker\":{\"pattern\":{\"fillmode\":\"overlay\",\"size\":10,\"solidity\":0.2}},\"type\":\"histogram\"}],\"histogram2d\":[{\"colorbar\":{\"outlinewidth\":0,\"ticks\":\"\"},\"colorscale\":[[0.0,\"#0d0887\"],[0.1111111111111111,\"#46039f\"],[0.2222222222222222,\"#7201a8\"],[0.3333333333333333,\"#9c179e\"],[0.4444444444444444,\"#bd3786\"],[0.5555555555555556,\"#d8576b\"],[0.6666666666666666,\"#ed7953\"],[0.7777777777777778,\"#fb9f3a\"],[0.8888888888888888,\"#fdca26\"],[1.0,\"#f0f921\"]],\"type\":\"histogram2d\"}],\"histogram2dcontour\":[{\"colorbar\":{\"outlinewidth\":0,\"ticks\":\"\"},\"colorscale\":[[0.0,\"#0d0887\"],[0.1111111111111111,\"#46039f\"],[0.2222222222222222,\"#7201a8\"],[0.3333333333333333,\"#9c179e\"],[0.4444444444444444,\"#bd3786\"],[0.5555555555555556,\"#d8576b\"],[0.6666666666666666,\"#ed7953\"],[0.7777777777777778,\"#fb9f3a\"],[0.8888888888888888,\"#fdca26\"],[1.0,\"#f0f921\"]],\"type\":\"histogram2dcontour\"}],\"mesh3d\":[{\"colorbar\":{\"outlinewidth\":0,\"ticks\":\"\"},\"type\":\"mesh3d\"}],\"parcoords\":[{\"line\":{\"colorbar\":{\"outlinewidth\":0,\"ticks\":\"\"}},\"type\":\"parcoords\"}],\"pie\":[{\"automargin\":true,\"type\":\"pie\"}],\"scatter\":[{\"marker\":{\"colorbar\":{\"outlinewidth\":0,\"ticks\":\"\"}},\"type\":\"scatter\"}],\"scatter3d\":[{\"line\":{\"colorbar\":{\"outlinewidth\":0,\"ticks\":\"\"}},\"marker\":{\"colorbar\":{\"outlinewidth\":0,\"ticks\":\"\"}},\"type\":\"scatter3d\"}],\"scattercarpet\":[{\"marker\":{\"colorbar\":{\"outlinewidth\":0,\"ticks\":\"\"}},\"type\":\"scattercarpet\"}],\"scattergeo\":[{\"marker\":{\"colorbar\":{\"outlinewidth\":0,\"ticks\":\"\"}},\"type\":\"scattergeo\"}],\"scattergl\":[{\"marker\":{\"colorbar\":{\"outlinewidth\":0,\"ticks\":\"\"}},\"type\":\"scattergl\"}],\"scattermapbox\":[{\"marker\":{\"colorbar\":{\"outlinewidth\":0,\"ticks\":\"\"}},\"type\":\"scattermapbox\"}],\"scatterpolar\":[{\"marker\":{\"colorbar\":{\"outlinewidth\":0,\"ticks\":\"\"}},\"type\":\"scatterpolar\"}],\"scatterpolargl\":[{\"marker\":{\"colorbar\":{\"outlinewidth\":0,\"ticks\":\"\"}},\"type\":\"scatterpolargl\"}],\"scatterternary\":[{\"marker\":{\"colorbar\":{\"outlinewidth\":0,\"ticks\":\"\"}},\"type\":\"scatterternary\"}],\"surface\":[{\"colorbar\":{\"outlinewidth\":0,\"ticks\":\"\"},\"colorscale\":[[0.0,\"#0d0887\"],[0.1111111111111111,\"#46039f\"],[0.2222222222222222,\"#7201a8\"],[0.3333333333333333,\"#9c179e\"],[0.4444444444444444,\"#bd3786\"],[0.5555555555555556,\"#d8576b\"],[0.6666666666666666,\"#ed7953\"],[0.7777777777777778,\"#fb9f3a\"],[0.8888888888888888,\"#fdca26\"],[1.0,\"#f0f921\"]],\"type\":\"surface\"}],\"table\":[{\"cells\":{\"fill\":{\"color\":\"#EBF0F8\"},\"line\":{\"color\":\"white\"}},\"header\":{\"fill\":{\"color\":\"#C8D4E3\"},\"line\":{\"color\":\"white\"}},\"type\":\"table\"}]},\"layout\":{\"annotationdefaults\":{\"arrowcolor\":\"#2a3f5f\",\"arrowhead\":0,\"arrowwidth\":1},\"autotypenumbers\":\"strict\",\"coloraxis\":{\"colorbar\":{\"outlinewidth\":0,\"ticks\":\"\"}},\"colorscale\":{\"diverging\":[[0,\"#8e0152\"],[0.1,\"#c51b7d\"],[0.2,\"#de77ae\"],[0.3,\"#f1b6da\"],[0.4,\"#fde0ef\"],[0.5,\"#f7f7f7\"],[0.6,\"#e6f5d0\"],[0.7,\"#b8e186\"],[0.8,\"#7fbc41\"],[0.9,\"#4d9221\"],[1,\"#276419\"]],\"sequential\":[[0.0,\"#0d0887\"],[0.1111111111111111,\"#46039f\"],[0.2222222222222222,\"#7201a8\"],[0.3333333333333333,\"#9c179e\"],[0.4444444444444444,\"#bd3786\"],[0.5555555555555556,\"#d8576b\"],[0.6666666666666666,\"#ed7953\"],[0.7777777777777778,\"#fb9f3a\"],[0.8888888888888888,\"#fdca26\"],[1.0,\"#f0f921\"]],\"sequentialminus\":[[0.0,\"#0d0887\"],[0.1111111111111111,\"#46039f\"],[0.2222222222222222,\"#7201a8\"],[0.3333333333333333,\"#9c179e\"],[0.4444444444444444,\"#bd3786\"],[0.5555555555555556,\"#d8576b\"],[0.6666666666666666,\"#ed7953\"],[0.7777777777777778,\"#fb9f3a\"],[0.8888888888888888,\"#fdca26\"],[1.0,\"#f0f921\"]]},\"colorway\":[\"#636efa\",\"#EF553B\",\"#00cc96\",\"#ab63fa\",\"#FFA15A\",\"#19d3f3\",\"#FF6692\",\"#B6E880\",\"#FF97FF\",\"#FECB52\"],\"font\":{\"color\":\"#2a3f5f\"},\"geo\":{\"bgcolor\":\"white\",\"lakecolor\":\"white\",\"landcolor\":\"#E5ECF6\",\"showlakes\":true,\"showland\":true,\"subunitcolor\":\"white\"},\"hoverlabel\":{\"align\":\"left\"},\"hovermode\":\"closest\",\"mapbox\":{\"style\":\"light\"},\"paper_bgcolor\":\"white\",\"plot_bgcolor\":\"#E5ECF6\",\"polar\":{\"angularaxis\":{\"gridcolor\":\"white\",\"linecolor\":\"white\",\"ticks\":\"\"},\"bgcolor\":\"#E5ECF6\",\"radialaxis\":{\"gridcolor\":\"white\",\"linecolor\":\"white\",\"ticks\":\"\"}},\"scene\":{\"xaxis\":{\"backgroundcolor\":\"#E5ECF6\",\"gridcolor\":\"white\",\"gridwidth\":2,\"linecolor\":\"white\",\"showbackground\":true,\"ticks\":\"\",\"zerolinecolor\":\"white\"},\"yaxis\":{\"backgroundcolor\":\"#E5ECF6\",\"gridcolor\":\"white\",\"gridwidth\":2,\"linecolor\":\"white\",\"showbackground\":true,\"ticks\":\"\",\"zerolinecolor\":\"white\"},\"zaxis\":{\"backgroundcolor\":\"#E5ECF6\",\"gridcolor\":\"white\",\"gridwidth\":2,\"linecolor\":\"white\",\"showbackground\":true,\"ticks\":\"\",\"zerolinecolor\":\"white\"}},\"shapedefaults\":{\"line\":{\"color\":\"#2a3f5f\"}},\"ternary\":{\"aaxis\":{\"gridcolor\":\"white\",\"linecolor\":\"white\",\"ticks\":\"\"},\"baxis\":{\"gridcolor\":\"white\",\"linecolor\":\"white\",\"ticks\":\"\"},\"bgcolor\":\"#E5ECF6\",\"caxis\":{\"gridcolor\":\"white\",\"linecolor\":\"white\",\"ticks\":\"\"}},\"title\":{\"x\":0.05},\"xaxis\":{\"automargin\":true,\"gridcolor\":\"white\",\"linecolor\":\"white\",\"ticks\":\"\",\"title\":{\"standoff\":15},\"zerolinecolor\":\"white\",\"zerolinewidth\":2},\"yaxis\":{\"automargin\":true,\"gridcolor\":\"white\",\"linecolor\":\"white\",\"ticks\":\"\",\"title\":{\"standoff\":15},\"zerolinecolor\":\"white\",\"zerolinewidth\":2}}},\"xaxis\":{\"anchor\":\"y\",\"domain\":[0.0,1.0],\"title\":{\"text\":\"ItemNames\"}},\"yaxis\":{\"anchor\":\"x\",\"domain\":[0.0,1.0],\"title\":{\"text\":\"DataPoints\"}},\"legend\":{\"tracegroupgap\":0},\"margin\":{\"t\":60},\"barmode\":\"relative\",\"height\":700,\"width\":1100},                        {\"responsive\": true}                    ).then(function(){\n                            \nvar gd = document.getElementById('a85cf405-a2b3-4e2d-b639-e17b2f362333');\nvar x = new MutationObserver(function (mutations, observer) {{\n        var display = window.getComputedStyle(gd).display;\n        if (!display || display === 'none') {{\n            console.log([gd, 'removed!']);\n            Plotly.purge(gd);\n            observer.disconnect();\n        }}\n}});\n\n// Listen for the removal of the full notebook cells\nvar notebookContainer = gd.closest('#notebook-container');\nif (notebookContainer) {{\n    x.observe(notebookContainer, {childList: true});\n}}\n\n// Listen for the clearing of the current output cell\nvar outputEl = gd.closest('.output');\nif (outputEl) {{\n    x.observe(outputEl, {childList: true});\n}}\n\n                        })                };                            </script>        </div>\n</body>\n</html>"
     },
     "metadata": {},
     "output_type": "display_data"
    },
    {
     "data": {
      "text/plain": "<IPython.core.display.Markdown object>",
      "text/markdown": "Item with the most data: **APU000074714 (554 points)**"
     },
     "metadata": {},
     "output_type": "display_data"
    },
    {
     "data": {
      "text/plain": "<IPython.core.display.Markdown object>",
      "text/markdown": "Removing Variables with < **332 points**"
     },
     "metadata": {},
     "output_type": "display_data"
    },
    {
     "data": {
      "text/plain": "        Date  APU0000701111  APU0000701312  APU0000701322  APU0000702111  \\\n0 1973-01-01            NaN            NaN            NaN            NaN   \n1 1973-02-01            NaN            NaN            NaN            NaN   \n2 1973-03-01            NaN            NaN            NaN            NaN   \n3 1973-04-01            NaN            NaN            NaN            NaN   \n4 1973-05-01            NaN            NaN            NaN            NaN   \n\n   APU0000702212  APU0000702421  APU0000703111  APU0000703112  APU0000703113  \\\n0            NaN            NaN            NaN            NaN            NaN   \n1            NaN            NaN            NaN            NaN            NaN   \n2            NaN            NaN            NaN            NaN            NaN   \n3            NaN            NaN            NaN            NaN            NaN   \n4            NaN            NaN            NaN            NaN            NaN   \n\n   ...  APU000072511  APU000072601  APU000072610  APU000072611  APU000072620  \\\n0  ...           NaN           NaN           NaN           NaN           NaN   \n1  ...           NaN           NaN           NaN           NaN           NaN   \n2  ...           NaN           NaN           NaN           NaN           NaN   \n3  ...           NaN           NaN           NaN           NaN           NaN   \n4  ...           NaN           NaN           NaN           NaN           NaN   \n\n   APU000072621  APU000074714  APU000074715  APU000074716  APU00007471A  \n0           NaN           NaN           NaN           NaN           NaN  \n1           NaN           NaN           NaN           NaN           NaN  \n2           NaN           NaN           NaN           NaN           NaN  \n3           NaN           NaN           NaN           NaN           NaN  \n4           NaN           NaN           NaN           NaN           NaN  \n\n[5 rows x 57 columns]",
      "text/html": "<div>\n<style scoped>\n    .dataframe tbody tr th:only-of-type {\n        vertical-align: middle;\n    }\n\n    .dataframe tbody tr th {\n        vertical-align: top;\n    }\n\n    .dataframe thead th {\n        text-align: right;\n    }\n</style>\n<table border=\"1\" class=\"dataframe\">\n  <thead>\n    <tr style=\"text-align: right;\">\n      <th></th>\n      <th>Date</th>\n      <th>APU0000701111</th>\n      <th>APU0000701312</th>\n      <th>APU0000701322</th>\n      <th>APU0000702111</th>\n      <th>APU0000702212</th>\n      <th>APU0000702421</th>\n      <th>APU0000703111</th>\n      <th>APU0000703112</th>\n      <th>APU0000703113</th>\n      <th>...</th>\n      <th>APU000072511</th>\n      <th>APU000072601</th>\n      <th>APU000072610</th>\n      <th>APU000072611</th>\n      <th>APU000072620</th>\n      <th>APU000072621</th>\n      <th>APU000074714</th>\n      <th>APU000074715</th>\n      <th>APU000074716</th>\n      <th>APU00007471A</th>\n    </tr>\n  </thead>\n  <tbody>\n    <tr>\n      <th>0</th>\n      <td>1973-01-01</td>\n      <td>NaN</td>\n      <td>NaN</td>\n      <td>NaN</td>\n      <td>NaN</td>\n      <td>NaN</td>\n      <td>NaN</td>\n      <td>NaN</td>\n      <td>NaN</td>\n      <td>NaN</td>\n      <td>...</td>\n      <td>NaN</td>\n      <td>NaN</td>\n      <td>NaN</td>\n      <td>NaN</td>\n      <td>NaN</td>\n      <td>NaN</td>\n      <td>NaN</td>\n      <td>NaN</td>\n      <td>NaN</td>\n      <td>NaN</td>\n    </tr>\n    <tr>\n      <th>1</th>\n      <td>1973-02-01</td>\n      <td>NaN</td>\n      <td>NaN</td>\n      <td>NaN</td>\n      <td>NaN</td>\n      <td>NaN</td>\n      <td>NaN</td>\n      <td>NaN</td>\n      <td>NaN</td>\n      <td>NaN</td>\n      <td>...</td>\n      <td>NaN</td>\n      <td>NaN</td>\n      <td>NaN</td>\n      <td>NaN</td>\n      <td>NaN</td>\n      <td>NaN</td>\n      <td>NaN</td>\n      <td>NaN</td>\n      <td>NaN</td>\n      <td>NaN</td>\n    </tr>\n    <tr>\n      <th>2</th>\n      <td>1973-03-01</td>\n      <td>NaN</td>\n      <td>NaN</td>\n      <td>NaN</td>\n      <td>NaN</td>\n      <td>NaN</td>\n      <td>NaN</td>\n      <td>NaN</td>\n      <td>NaN</td>\n      <td>NaN</td>\n      <td>...</td>\n      <td>NaN</td>\n      <td>NaN</td>\n      <td>NaN</td>\n      <td>NaN</td>\n      <td>NaN</td>\n      <td>NaN</td>\n      <td>NaN</td>\n      <td>NaN</td>\n      <td>NaN</td>\n      <td>NaN</td>\n    </tr>\n    <tr>\n      <th>3</th>\n      <td>1973-04-01</td>\n      <td>NaN</td>\n      <td>NaN</td>\n      <td>NaN</td>\n      <td>NaN</td>\n      <td>NaN</td>\n      <td>NaN</td>\n      <td>NaN</td>\n      <td>NaN</td>\n      <td>NaN</td>\n      <td>...</td>\n      <td>NaN</td>\n      <td>NaN</td>\n      <td>NaN</td>\n      <td>NaN</td>\n      <td>NaN</td>\n      <td>NaN</td>\n      <td>NaN</td>\n      <td>NaN</td>\n      <td>NaN</td>\n      <td>NaN</td>\n    </tr>\n    <tr>\n      <th>4</th>\n      <td>1973-05-01</td>\n      <td>NaN</td>\n      <td>NaN</td>\n      <td>NaN</td>\n      <td>NaN</td>\n      <td>NaN</td>\n      <td>NaN</td>\n      <td>NaN</td>\n      <td>NaN</td>\n      <td>NaN</td>\n      <td>...</td>\n      <td>NaN</td>\n      <td>NaN</td>\n      <td>NaN</td>\n      <td>NaN</td>\n      <td>NaN</td>\n      <td>NaN</td>\n      <td>NaN</td>\n      <td>NaN</td>\n      <td>NaN</td>\n      <td>NaN</td>\n    </tr>\n  </tbody>\n</table>\n<p>5 rows × 57 columns</p>\n</div>"
     },
     "metadata": {},
     "output_type": "display_data"
    },
    {
     "data": {
      "text/plain": "<IPython.core.display.Markdown object>",
      "text/markdown": "<h2>Number of Data Points per Item (After Filtering)</h2>"
     },
     "metadata": {},
     "output_type": "display_data"
    },
    {
     "data": {
      "text/html": "<html>\n<head><meta charset=\"utf-8\" /></head>\n<body>\n    <div>            <script src=\"https://cdnjs.cloudflare.com/ajax/libs/mathjax/2.7.5/MathJax.js?config=TeX-AMS-MML_SVG\"></script><script type=\"text/javascript\">if (window.MathJax) {MathJax.Hub.Config({SVG: {font: \"STIX-Web\"}});}</script>                <script type=\"text/javascript\">window.PlotlyConfig = {MathJaxConfig: 'local'};</script>\n        <script src=\"https://cdn.plot.ly/plotly-2.9.0.min.js\"></script>                <div id=\"5fe1b8d8-a951-4f2c-8dd6-754299e74843\" class=\"plotly-graph-div\" style=\"height:500px; width:1100px;\"></div>            <script type=\"text/javascript\">                                    window.PLOTLYENV=window.PLOTLYENV || {};                                    if (document.getElementById(\"5fe1b8d8-a951-4f2c-8dd6-754299e74843\")) {                    Plotly.newPlot(                        \"5fe1b8d8-a951-4f2c-8dd6-754299e74843\",                        [{\"alignmentgroup\":\"True\",\"hovertemplate\":\"ItemNames=%{x}<br>DataPoints=%{y}<extra></extra>\",\"legendgroup\":\"\",\"marker\":{\"color\":\"#636efa\",\"pattern\":{\"shape\":\"\"}},\"name\":\"\",\"offsetgroup\":\"\",\"orientation\":\"v\",\"showlegend\":false,\"textposition\":\"auto\",\"x\":[\"Date\",\"APU0000701111\",\"APU0000701312\",\"APU0000701322\",\"APU0000702111\",\"APU0000702212\",\"APU0000702421\",\"APU0000703111\",\"APU0000703112\",\"APU0000703113\",\"APU0000703213\",\"APU0000703311\",\"APU0000703432\",\"APU0000703511\",\"APU0000703512\",\"APU0000703613\",\"APU0000704111\",\"APU0000704211\",\"APU0000704312\",\"APU0000705121\",\"APU0000706111\",\"APU0000706211\",\"APU0000706212\",\"APU0000706311\",\"APU0000708111\",\"APU0000710111\",\"APU0000710211\",\"APU0000710212\",\"APU0000710411\",\"APU0000711111\",\"APU0000711211\",\"APU0000711311\",\"APU0000711411\",\"APU0000711412\",\"APU0000711415\",\"APU0000711417\",\"APU0000712112\",\"APU0000712211\",\"APU0000712311\",\"APU0000712406\",\"APU0000713111\",\"APU0000715211\",\"APU0000715212\",\"APU0000716116\",\"APU0000716141\",\"APU0000717311\",\"APU0000718311\",\"APU000072511\",\"APU000072601\",\"APU000072610\",\"APU000072611\",\"APU000072620\",\"APU000072621\",\"APU000074714\",\"APU000074715\",\"APU000074716\",\"APU00007471A\"],\"xaxis\":\"x\",\"y\":[600,505,481,458,506,463,506,506,457,374,398,506,363,506,336,398,506,506,373,477,505,348,505,481,506,384,438,443,505,450,504,363,479,488,401,415,428,479,501,379,506,506,482,365,408,466,506,519,415,519,415,519,415,554,339,486,530],\"yaxis\":\"y\",\"type\":\"bar\"}],                        {\"template\":{\"data\":{\"bar\":[{\"error_x\":{\"color\":\"#2a3f5f\"},\"error_y\":{\"color\":\"#2a3f5f\"},\"marker\":{\"line\":{\"color\":\"#E5ECF6\",\"width\":0.5},\"pattern\":{\"fillmode\":\"overlay\",\"size\":10,\"solidity\":0.2}},\"type\":\"bar\"}],\"barpolar\":[{\"marker\":{\"line\":{\"color\":\"#E5ECF6\",\"width\":0.5},\"pattern\":{\"fillmode\":\"overlay\",\"size\":10,\"solidity\":0.2}},\"type\":\"barpolar\"}],\"carpet\":[{\"aaxis\":{\"endlinecolor\":\"#2a3f5f\",\"gridcolor\":\"white\",\"linecolor\":\"white\",\"minorgridcolor\":\"white\",\"startlinecolor\":\"#2a3f5f\"},\"baxis\":{\"endlinecolor\":\"#2a3f5f\",\"gridcolor\":\"white\",\"linecolor\":\"white\",\"minorgridcolor\":\"white\",\"startlinecolor\":\"#2a3f5f\"},\"type\":\"carpet\"}],\"choropleth\":[{\"colorbar\":{\"outlinewidth\":0,\"ticks\":\"\"},\"type\":\"choropleth\"}],\"contour\":[{\"colorbar\":{\"outlinewidth\":0,\"ticks\":\"\"},\"colorscale\":[[0.0,\"#0d0887\"],[0.1111111111111111,\"#46039f\"],[0.2222222222222222,\"#7201a8\"],[0.3333333333333333,\"#9c179e\"],[0.4444444444444444,\"#bd3786\"],[0.5555555555555556,\"#d8576b\"],[0.6666666666666666,\"#ed7953\"],[0.7777777777777778,\"#fb9f3a\"],[0.8888888888888888,\"#fdca26\"],[1.0,\"#f0f921\"]],\"type\":\"contour\"}],\"contourcarpet\":[{\"colorbar\":{\"outlinewidth\":0,\"ticks\":\"\"},\"type\":\"contourcarpet\"}],\"heatmap\":[{\"colorbar\":{\"outlinewidth\":0,\"ticks\":\"\"},\"colorscale\":[[0.0,\"#0d0887\"],[0.1111111111111111,\"#46039f\"],[0.2222222222222222,\"#7201a8\"],[0.3333333333333333,\"#9c179e\"],[0.4444444444444444,\"#bd3786\"],[0.5555555555555556,\"#d8576b\"],[0.6666666666666666,\"#ed7953\"],[0.7777777777777778,\"#fb9f3a\"],[0.8888888888888888,\"#fdca26\"],[1.0,\"#f0f921\"]],\"type\":\"heatmap\"}],\"heatmapgl\":[{\"colorbar\":{\"outlinewidth\":0,\"ticks\":\"\"},\"colorscale\":[[0.0,\"#0d0887\"],[0.1111111111111111,\"#46039f\"],[0.2222222222222222,\"#7201a8\"],[0.3333333333333333,\"#9c179e\"],[0.4444444444444444,\"#bd3786\"],[0.5555555555555556,\"#d8576b\"],[0.6666666666666666,\"#ed7953\"],[0.7777777777777778,\"#fb9f3a\"],[0.8888888888888888,\"#fdca26\"],[1.0,\"#f0f921\"]],\"type\":\"heatmapgl\"}],\"histogram\":[{\"marker\":{\"pattern\":{\"fillmode\":\"overlay\",\"size\":10,\"solidity\":0.2}},\"type\":\"histogram\"}],\"histogram2d\":[{\"colorbar\":{\"outlinewidth\":0,\"ticks\":\"\"},\"colorscale\":[[0.0,\"#0d0887\"],[0.1111111111111111,\"#46039f\"],[0.2222222222222222,\"#7201a8\"],[0.3333333333333333,\"#9c179e\"],[0.4444444444444444,\"#bd3786\"],[0.5555555555555556,\"#d8576b\"],[0.6666666666666666,\"#ed7953\"],[0.7777777777777778,\"#fb9f3a\"],[0.8888888888888888,\"#fdca26\"],[1.0,\"#f0f921\"]],\"type\":\"histogram2d\"}],\"histogram2dcontour\":[{\"colorbar\":{\"outlinewidth\":0,\"ticks\":\"\"},\"colorscale\":[[0.0,\"#0d0887\"],[0.1111111111111111,\"#46039f\"],[0.2222222222222222,\"#7201a8\"],[0.3333333333333333,\"#9c179e\"],[0.4444444444444444,\"#bd3786\"],[0.5555555555555556,\"#d8576b\"],[0.6666666666666666,\"#ed7953\"],[0.7777777777777778,\"#fb9f3a\"],[0.8888888888888888,\"#fdca26\"],[1.0,\"#f0f921\"]],\"type\":\"histogram2dcontour\"}],\"mesh3d\":[{\"colorbar\":{\"outlinewidth\":0,\"ticks\":\"\"},\"type\":\"mesh3d\"}],\"parcoords\":[{\"line\":{\"colorbar\":{\"outlinewidth\":0,\"ticks\":\"\"}},\"type\":\"parcoords\"}],\"pie\":[{\"automargin\":true,\"type\":\"pie\"}],\"scatter\":[{\"marker\":{\"colorbar\":{\"outlinewidth\":0,\"ticks\":\"\"}},\"type\":\"scatter\"}],\"scatter3d\":[{\"line\":{\"colorbar\":{\"outlinewidth\":0,\"ticks\":\"\"}},\"marker\":{\"colorbar\":{\"outlinewidth\":0,\"ticks\":\"\"}},\"type\":\"scatter3d\"}],\"scattercarpet\":[{\"marker\":{\"colorbar\":{\"outlinewidth\":0,\"ticks\":\"\"}},\"type\":\"scattercarpet\"}],\"scattergeo\":[{\"marker\":{\"colorbar\":{\"outlinewidth\":0,\"ticks\":\"\"}},\"type\":\"scattergeo\"}],\"scattergl\":[{\"marker\":{\"colorbar\":{\"outlinewidth\":0,\"ticks\":\"\"}},\"type\":\"scattergl\"}],\"scattermapbox\":[{\"marker\":{\"colorbar\":{\"outlinewidth\":0,\"ticks\":\"\"}},\"type\":\"scattermapbox\"}],\"scatterpolar\":[{\"marker\":{\"colorbar\":{\"outlinewidth\":0,\"ticks\":\"\"}},\"type\":\"scatterpolar\"}],\"scatterpolargl\":[{\"marker\":{\"colorbar\":{\"outlinewidth\":0,\"ticks\":\"\"}},\"type\":\"scatterpolargl\"}],\"scatterternary\":[{\"marker\":{\"colorbar\":{\"outlinewidth\":0,\"ticks\":\"\"}},\"type\":\"scatterternary\"}],\"surface\":[{\"colorbar\":{\"outlinewidth\":0,\"ticks\":\"\"},\"colorscale\":[[0.0,\"#0d0887\"],[0.1111111111111111,\"#46039f\"],[0.2222222222222222,\"#7201a8\"],[0.3333333333333333,\"#9c179e\"],[0.4444444444444444,\"#bd3786\"],[0.5555555555555556,\"#d8576b\"],[0.6666666666666666,\"#ed7953\"],[0.7777777777777778,\"#fb9f3a\"],[0.8888888888888888,\"#fdca26\"],[1.0,\"#f0f921\"]],\"type\":\"surface\"}],\"table\":[{\"cells\":{\"fill\":{\"color\":\"#EBF0F8\"},\"line\":{\"color\":\"white\"}},\"header\":{\"fill\":{\"color\":\"#C8D4E3\"},\"line\":{\"color\":\"white\"}},\"type\":\"table\"}]},\"layout\":{\"annotationdefaults\":{\"arrowcolor\":\"#2a3f5f\",\"arrowhead\":0,\"arrowwidth\":1},\"autotypenumbers\":\"strict\",\"coloraxis\":{\"colorbar\":{\"outlinewidth\":0,\"ticks\":\"\"}},\"colorscale\":{\"diverging\":[[0,\"#8e0152\"],[0.1,\"#c51b7d\"],[0.2,\"#de77ae\"],[0.3,\"#f1b6da\"],[0.4,\"#fde0ef\"],[0.5,\"#f7f7f7\"],[0.6,\"#e6f5d0\"],[0.7,\"#b8e186\"],[0.8,\"#7fbc41\"],[0.9,\"#4d9221\"],[1,\"#276419\"]],\"sequential\":[[0.0,\"#0d0887\"],[0.1111111111111111,\"#46039f\"],[0.2222222222222222,\"#7201a8\"],[0.3333333333333333,\"#9c179e\"],[0.4444444444444444,\"#bd3786\"],[0.5555555555555556,\"#d8576b\"],[0.6666666666666666,\"#ed7953\"],[0.7777777777777778,\"#fb9f3a\"],[0.8888888888888888,\"#fdca26\"],[1.0,\"#f0f921\"]],\"sequentialminus\":[[0.0,\"#0d0887\"],[0.1111111111111111,\"#46039f\"],[0.2222222222222222,\"#7201a8\"],[0.3333333333333333,\"#9c179e\"],[0.4444444444444444,\"#bd3786\"],[0.5555555555555556,\"#d8576b\"],[0.6666666666666666,\"#ed7953\"],[0.7777777777777778,\"#fb9f3a\"],[0.8888888888888888,\"#fdca26\"],[1.0,\"#f0f921\"]]},\"colorway\":[\"#636efa\",\"#EF553B\",\"#00cc96\",\"#ab63fa\",\"#FFA15A\",\"#19d3f3\",\"#FF6692\",\"#B6E880\",\"#FF97FF\",\"#FECB52\"],\"font\":{\"color\":\"#2a3f5f\"},\"geo\":{\"bgcolor\":\"white\",\"lakecolor\":\"white\",\"landcolor\":\"#E5ECF6\",\"showlakes\":true,\"showland\":true,\"subunitcolor\":\"white\"},\"hoverlabel\":{\"align\":\"left\"},\"hovermode\":\"closest\",\"mapbox\":{\"style\":\"light\"},\"paper_bgcolor\":\"white\",\"plot_bgcolor\":\"#E5ECF6\",\"polar\":{\"angularaxis\":{\"gridcolor\":\"white\",\"linecolor\":\"white\",\"ticks\":\"\"},\"bgcolor\":\"#E5ECF6\",\"radialaxis\":{\"gridcolor\":\"white\",\"linecolor\":\"white\",\"ticks\":\"\"}},\"scene\":{\"xaxis\":{\"backgroundcolor\":\"#E5ECF6\",\"gridcolor\":\"white\",\"gridwidth\":2,\"linecolor\":\"white\",\"showbackground\":true,\"ticks\":\"\",\"zerolinecolor\":\"white\"},\"yaxis\":{\"backgroundcolor\":\"#E5ECF6\",\"gridcolor\":\"white\",\"gridwidth\":2,\"linecolor\":\"white\",\"showbackground\":true,\"ticks\":\"\",\"zerolinecolor\":\"white\"},\"zaxis\":{\"backgroundcolor\":\"#E5ECF6\",\"gridcolor\":\"white\",\"gridwidth\":2,\"linecolor\":\"white\",\"showbackground\":true,\"ticks\":\"\",\"zerolinecolor\":\"white\"}},\"shapedefaults\":{\"line\":{\"color\":\"#2a3f5f\"}},\"ternary\":{\"aaxis\":{\"gridcolor\":\"white\",\"linecolor\":\"white\",\"ticks\":\"\"},\"baxis\":{\"gridcolor\":\"white\",\"linecolor\":\"white\",\"ticks\":\"\"},\"bgcolor\":\"#E5ECF6\",\"caxis\":{\"gridcolor\":\"white\",\"linecolor\":\"white\",\"ticks\":\"\"}},\"title\":{\"x\":0.05},\"xaxis\":{\"automargin\":true,\"gridcolor\":\"white\",\"linecolor\":\"white\",\"ticks\":\"\",\"title\":{\"standoff\":15},\"zerolinecolor\":\"white\",\"zerolinewidth\":2},\"yaxis\":{\"automargin\":true,\"gridcolor\":\"white\",\"linecolor\":\"white\",\"ticks\":\"\",\"title\":{\"standoff\":15},\"zerolinecolor\":\"white\",\"zerolinewidth\":2}}},\"xaxis\":{\"anchor\":\"y\",\"domain\":[0.0,1.0],\"title\":{\"text\":\"ItemNames\"}},\"yaxis\":{\"anchor\":\"x\",\"domain\":[0.0,1.0],\"title\":{\"text\":\"DataPoints\"}},\"legend\":{\"tracegroupgap\":0},\"margin\":{\"t\":60},\"barmode\":\"relative\",\"height\":500,\"width\":1100},                        {\"responsive\": true}                    ).then(function(){\n                            \nvar gd = document.getElementById('5fe1b8d8-a951-4f2c-8dd6-754299e74843');\nvar x = new MutationObserver(function (mutations, observer) {{\n        var display = window.getComputedStyle(gd).display;\n        if (!display || display === 'none') {{\n            console.log([gd, 'removed!']);\n            Plotly.purge(gd);\n            observer.disconnect();\n        }}\n}});\n\n// Listen for the removal of the full notebook cells\nvar notebookContainer = gd.closest('#notebook-container');\nif (notebookContainer) {{\n    x.observe(notebookContainer, {childList: true});\n}}\n\n// Listen for the clearing of the current output cell\nvar outputEl = gd.closest('.output');\nif (outputEl) {{\n    x.observe(outputEl, {childList: true});\n}}\n\n                        })                };                            </script>        </div>\n</body>\n</html>"
     },
     "metadata": {},
     "output_type": "display_data"
    }
   ]
  },
  {
   "cell_type": "markdown",
   "source": "<h1 style=\"background-color:red;\">Data investigation into historical above/below </h1>",
   "metadata": {
    "cell_id": "6b01c467c12c4820a5daa9617cfa3236",
    "tags": [],
    "deepnote_cell_type": "markdown",
    "deepnote_cell_height": 82.15625
   }
  },
  {
   "cell_type": "code",
   "source": "\n'''\nJoin Filtered Data and unajusted CPI\n'''\ncpi_unadj_filt = cpi_unadj[cpi_unadj.Date >= min(pricing_filtered.Date)]\ncpi_unadj_filt['Date'] = pd.to_datetime(cpi_unadj_filt['Date'], errors='coerce')\nprice_compare = cpi_unadj_filt.set_index('Date').join(pricing_filtered.set_index('Date'),on = 'Date')\n'''\nCalculate Inflation for each item \n'''\n\n\nfor column in price_compare.columns:\n    inf_colname =  f'Inflation_{column}'\n    price_compare[inf_colname] = (price_compare[column].diff()/ price_compare[column].shift(1))*100\n\n#inflation_compare\n\ninflation_compare = price_compare[[col for col in price_compare.columns if 'Inflation_' in col]]\ninflation_compare\n",
   "metadata": {
    "cell_id": "cfa25720ec3a4942bf15be6ca65f8276",
    "tags": [],
    "deepnote_to_be_reexecuted": false,
    "source_hash": "e2ce6226",
    "execution_start": 1649179266818,
    "execution_millis": 648,
    "deepnote_table_state": {
     "pageSize": 10,
     "pageIndex": 11,
     "filters": [],
     "sortBy": []
    },
    "deepnote_table_loading": false,
    "deepnote_table_invalid": false,
    "deepnote_cell_type": "code",
    "deepnote_cell_height": 979.125,
    "deepnote_output_heights": [
     500.765625,
     21.171875
    ]
   },
   "outputs": [
    {
     "output_type": "execute_result",
     "execution_count": 44,
     "data": {
      "application/vnd.deepnote.dataframe.v3+json": {
       "column_count": 57,
       "row_count": 600,
       "columns": [
        {
         "name": "Inflation_CPI",
         "dtype": "float64",
         "stats": {
          "unique_count": 568,
          "nan_count": 11,
          "min": "-1.9152895328595883",
          "max": "1.8058690744921093",
          "histogram": [
           {
            "bin_start": -1.9152895328595883,
            "bin_end": -1.5431736721244185,
            "count": 1
           },
           {
            "bin_start": -1.5431736721244185,
            "bin_end": -1.1710578113892487,
            "count": 0
           },
           {
            "bin_start": -1.1710578113892487,
            "bin_end": -0.7989419506540789,
            "count": 3
           },
           {
            "bin_start": -0.7989419506540789,
            "bin_end": -0.42682608991890914,
            "count": 8
           },
           {
            "bin_start": -0.42682608991890914,
            "bin_end": -0.054710229183739356,
            "count": 62
           },
           {
            "bin_start": -0.054710229183739356,
            "bin_end": 0.3174056315514304,
            "count": 239
           },
           {
            "bin_start": 0.3174056315514304,
            "bin_end": 0.6895214922866002,
            "count": 188
           },
           {
            "bin_start": 0.6895214922866002,
            "bin_end": 1.06163735302177,
            "count": 66
           },
           {
            "bin_start": 1.06163735302177,
            "bin_end": 1.4337532137569398,
            "count": 19
           },
           {
            "bin_start": 1.4337532137569398,
            "bin_end": 1.8058690744921093,
            "count": 3
           }
          ]
         }
        },
        {
         "name": "Inflation_APU0000701111",
         "dtype": "float64",
         "stats": {
          "unique_count": 436,
          "nan_count": 97,
          "min": "-18.906605922551257",
          "max": "14.035087719298259",
          "histogram": [
           {
            "bin_start": -18.906605922551257,
            "bin_end": -15.612436558366305,
            "count": 1
           },
           {
            "bin_start": -15.612436558366305,
            "bin_end": -12.318267194181354,
            "count": 1
           },
           {
            "bin_start": -12.318267194181354,
            "bin_end": -9.024097829996403,
            "count": 3
           },
           {
            "bin_start": -9.024097829996403,
            "bin_end": -5.729928465811451,
            "count": 7
           },
           {
            "bin_start": -5.729928465811451,
            "bin_end": -2.4357591016264983,
            "count": 54
           },
           {
            "bin_start": -2.4357591016264983,
            "bin_end": 0.8584102625584507,
            "count": 263
           },
           {
            "bin_start": 0.8584102625584507,
            "bin_end": 4.152579626743403,
            "count": 126
           },
           {
            "bin_start": 4.152579626743403,
            "bin_end": 7.446748990928356,
            "count": 33
           },
           {
            "bin_start": 7.446748990928356,
            "bin_end": 10.740918355113308,
            "count": 12
           },
           {
            "bin_start": 10.740918355113308,
            "bin_end": 14.035087719298259,
            "count": 3
           }
          ]
         }
        },
        {
         "name": "Inflation_APU0000701312",
         "dtype": "float64",
         "stats": {
          "unique_count": 447,
          "nan_count": 122,
          "min": "-6.727037516170769",
          "max": "15.789473684210522",
          "histogram": [
           {
            "bin_start": -6.727037516170769,
            "bin_end": -4.47538639613264,
            "count": 9
           },
           {
            "bin_start": -4.47538639613264,
            "bin_end": -2.2237352760945113,
            "count": 40
           },
           {
            "bin_start": -2.2237352760945113,
            "bin_end": 0.027915843943617347,
            "count": 203
           },
           {
            "bin_start": 0.027915843943617347,
            "bin_end": 2.279566963981747,
            "count": 169
           },
           {
            "bin_start": 2.279566963981747,
            "bin_end": 4.531218084019876,
            "count": 40
           },
           {
            "bin_start": 4.531218084019876,
            "bin_end": 6.782869204058004,
            "count": 13
           },
           {
            "bin_start": 6.782869204058004,
            "bin_end": 9.034520324096134,
            "count": 3
           },
           {
            "bin_start": 9.034520324096134,
            "bin_end": 11.286171444134263,
            "count": 0
           },
           {
            "bin_start": 11.286171444134263,
            "bin_end": 13.537822564172393,
            "count": 0
           },
           {
            "bin_start": 13.537822564172393,
            "bin_end": 15.789473684210522,
            "count": 1
           }
          ]
         }
        },
        {
         "name": "Inflation_APU0000701322",
         "dtype": "float64",
         "stats": {
          "unique_count": 448,
          "nan_count": 143,
          "min": "-19.685628742514975",
          "max": "20.212765957446802",
          "histogram": [
           {
            "bin_start": -19.685628742514975,
            "bin_end": -15.695789272518798,
            "count": 1
           },
           {
            "bin_start": -15.695789272518798,
            "bin_end": -11.70594980252262,
            "count": 0
           },
           {
            "bin_start": -11.70594980252262,
            "bin_end": -7.716110332526441,
            "count": 1
           },
           {
            "bin_start": -7.716110332526441,
            "bin_end": -3.7262708625302636,
            "count": 24
           },
           {
            "bin_start": -3.7262708625302636,
            "bin_end": 0.2635686074659134,
            "count": 221
           },
           {
            "bin_start": 0.2635686074659134,
            "bin_end": 4.253408077462094,
            "count": 185
           },
           {
            "bin_start": 4.253408077462094,
            "bin_end": 8.243247547458271,
            "count": 22
           },
           {
            "bin_start": 8.243247547458271,
            "bin_end": 12.233087017454448,
            "count": 2
           },
           {
            "bin_start": 12.233087017454448,
            "bin_end": 16.222926487450625,
            "count": 0
           },
           {
            "bin_start": 16.222926487450625,
            "bin_end": 20.212765957446802,
            "count": 1
           }
          ]
         }
        },
        {
         "name": "Inflation_APU0000702111",
         "dtype": "float64",
         "stats": {
          "unique_count": 474,
          "nan_count": 95,
          "min": "-4.393505253104111",
          "max": "8.167330677290844",
          "histogram": [
           {
            "bin_start": -4.393505253104111,
            "bin_end": -3.1374216600646156,
            "count": 11
           },
           {
            "bin_start": -3.1374216600646156,
            "bin_end": -1.88133806702512,
            "count": 22
           },
           {
            "bin_start": -1.88133806702512,
            "bin_end": -0.6252544739856245,
            "count": 93
           },
           {
            "bin_start": -0.6252544739856245,
            "bin_end": 0.6308291190538711,
            "count": 194
           },
           {
            "bin_start": 0.6308291190538711,
            "bin_end": 1.8869127120933662,
            "count": 134
           },
           {
            "bin_start": 1.8869127120933662,
            "bin_end": 3.142996305132862,
            "count": 36
           },
           {
            "bin_start": 3.142996305132862,
            "bin_end": 4.399079898172358,
            "count": 12
           },
           {
            "bin_start": 4.399079898172358,
            "bin_end": 5.655163491211853,
            "count": 1
           },
           {
            "bin_start": 5.655163491211853,
            "bin_end": 6.9112470842513485,
            "count": 0
           },
           {
            "bin_start": 6.9112470842513485,
            "bin_end": 8.167330677290844,
            "count": 2
           }
          ]
         }
        },
        {
         "name": "Inflation_APU0000702212",
         "dtype": "float64",
         "stats": {
          "unique_count": 452,
          "nan_count": 142,
          "min": "-9.09737029140015",
          "max": "11.702873160476527",
          "histogram": [
           {
            "bin_start": -9.09737029140015,
            "bin_end": -7.017345946212482,
            "count": 1
           },
           {
            "bin_start": -7.017345946212482,
            "bin_end": -4.937321601024815,
            "count": 2
           },
           {
            "bin_start": -4.937321601024815,
            "bin_end": -2.857297255837147,
            "count": 33
           },
           {
            "bin_start": -2.857297255837147,
            "bin_end": -0.7772729106494793,
            "count": 82
           },
           {
            "bin_start": -0.7772729106494793,
            "bin_end": 1.3027514345381874,
            "count": 213
           },
           {
            "bin_start": 1.3027514345381874,
            "bin_end": 3.382775779725856,
            "count": 99
           },
           {
            "bin_start": 3.382775779725856,
            "bin_end": 5.4628001249135245,
            "count": 22
           },
           {
            "bin_start": 5.4628001249135245,
            "bin_end": 7.542824470101191,
            "count": 3
           },
           {
            "bin_start": 7.542824470101191,
            "bin_end": 9.622848815288858,
            "count": 2
           },
           {
            "bin_start": 9.622848815288858,
            "bin_end": 11.702873160476527,
            "count": 1
           }
          ]
         }
        },
        {
         "name": "Inflation_APU0000702421",
         "dtype": "float64",
         "stats": {
          "unique_count": 502,
          "nan_count": 95,
          "min": "-8.697363242817792",
          "max": "10.500758725341429",
          "histogram": [
           {
            "bin_start": -8.697363242817792,
            "bin_end": -6.77755104600187,
            "count": 8
           },
           {
            "bin_start": -6.77755104600187,
            "bin_end": -4.857738849185948,
            "count": 15
           },
           {
            "bin_start": -4.857738849185948,
            "bin_end": -2.9379266523700256,
            "count": 40
           },
           {
            "bin_start": -2.9379266523700256,
            "bin_end": -1.0181144555541035,
            "count": 97
           },
           {
            "bin_start": -1.0181144555541035,
            "bin_end": 0.9016977412618186,
            "count": 142
           },
           {
            "bin_start": 0.9016977412618186,
            "bin_end": 2.8215099380777406,
            "count": 122
           },
           {
            "bin_start": 2.8215099380777406,
            "bin_end": 4.741322134893663,
            "count": 58
           },
           {
            "bin_start": 4.741322134893663,
            "bin_end": 6.661134331709585,
            "count": 12
           },
           {
            "bin_start": 6.661134331709585,
            "bin_end": 8.580946528525507,
            "count": 8
           },
           {
            "bin_start": 8.580946528525507,
            "bin_end": 10.500758725341429,
            "count": 3
           }
          ]
         }
        },
        {
         "name": "Inflation_APU0000703111",
         "dtype": "float64",
         "stats": {
          "unique_count": 500,
          "nan_count": 95,
          "min": "-11.219512195121949",
          "max": "11.296721653789945",
          "histogram": [
           {
            "bin_start": -11.219512195121949,
            "bin_end": -8.96788881023076,
            "count": 2
           },
           {
            "bin_start": -8.96788881023076,
            "bin_end": -6.71626542533957,
            "count": 0
           },
           {
            "bin_start": -6.71626542533957,
            "bin_end": -4.46464204044838,
            "count": 2
           },
           {
            "bin_start": -4.46464204044838,
            "bin_end": -2.2130186555571907,
            "count": 28
           },
           {
            "bin_start": -2.2130186555571907,
            "bin_end": 0.03860472933399883,
            "count": 211
           },
           {
            "bin_start": 0.03860472933399883,
            "bin_end": 2.2902281142251883,
            "count": 203
           },
           {
            "bin_start": 2.2902281142251883,
            "bin_end": 4.541851499116378,
            "count": 52
           },
           {
            "bin_start": 4.541851499116378,
            "bin_end": 6.793474884007567,
            "count": 5
           },
           {
            "bin_start": 6.793474884007567,
            "bin_end": 9.045098268898757,
            "count": 0
           },
           {
            "bin_start": 9.045098268898757,
            "bin_end": 11.296721653789945,
            "count": 2
           }
          ]
         }
        },
        {
         "name": "Inflation_APU0000703112",
         "dtype": "float64",
         "stats": {
          "unique_count": 453,
          "nan_count": 145,
          "min": "-9.985222714798393",
          "max": "12.238805970149254",
          "histogram": [
           {
            "bin_start": -9.985222714798393,
            "bin_end": -7.762819846303628,
            "count": 1
           },
           {
            "bin_start": -7.762819846303628,
            "bin_end": -5.540416977808864,
            "count": 3
           },
           {
            "bin_start": -5.540416977808864,
            "bin_end": -3.318014109314099,
            "count": 18
           },
           {
            "bin_start": -3.318014109314099,
            "bin_end": -1.0956112408193341,
            "count": 87
           },
           {
            "bin_start": -1.0956112408193341,
            "bin_end": 1.1267916276754306,
            "count": 195
           },
           {
            "bin_start": 1.1267916276754306,
            "bin_end": 3.3491944961701954,
            "count": 109
           },
           {
            "bin_start": 3.3491944961701954,
            "bin_end": 5.57159736466496,
            "count": 34
           },
           {
            "bin_start": 5.57159736466496,
            "bin_end": 7.794000233159725,
            "count": 5
           },
           {
            "bin_start": 7.794000233159725,
            "bin_end": 10.01640310165449,
            "count": 0
           },
           {
            "bin_start": 10.01640310165449,
            "bin_end": 12.238805970149254,
            "count": 3
           }
          ]
         }
        },
        {
         "name": "Inflation_APU0000703113",
         "dtype": "float64",
         "stats": {
          "unique_count": 366,
          "nan_count": 227,
          "min": "-6.98198198198199",
          "max": "11.773083313553277",
          "histogram": [
           {
            "bin_start": -6.98198198198199,
            "bin_end": -5.106475452428463,
            "count": 1
           },
           {
            "bin_start": -5.106475452428463,
            "bin_end": -3.2309689228749368,
            "count": 7
           },
           {
            "bin_start": -3.2309689228749368,
            "bin_end": -1.3554623933214103,
            "count": 47
           },
           {
            "bin_start": -1.3554623933214103,
            "bin_end": 0.5200441362321166,
            "count": 162
           },
           {
            "bin_start": 0.5200441362321166,
            "bin_end": 2.3955506657856436,
            "count": 124
           },
           {
            "bin_start": 2.3955506657856436,
            "bin_end": 4.27105719533917,
            "count": 25
           },
           {
            "bin_start": 4.27105719533917,
            "bin_end": 6.146563724892697,
            "count": 5
           },
           {
            "bin_start": 6.146563724892697,
            "bin_end": 8.022070254446223,
            "count": 1
           },
           {
            "bin_start": 8.022070254446223,
            "bin_end": 9.897576783999751,
            "count": 0
           },
           {
            "bin_start": 9.897576783999751,
            "bin_end": 11.773083313553277,
            "count": 1
           }
          ]
         }
        },
        {
         "name": "Inflation_APU0000703213",
         "dtype": "float64",
         "stats": {
          "unique_count": 395,
          "nan_count": 203,
          "min": "-9.616189811584091",
          "max": "21.828551676460435",
          "histogram": [
           {
            "bin_start": -9.616189811584091,
            "bin_end": -6.471715662779638,
            "count": 5
           },
           {
            "bin_start": -6.471715662779638,
            "bin_end": -3.327241513975185,
            "count": 29
           },
           {
            "bin_start": -3.327241513975185,
            "bin_end": -0.1827673651707311,
            "count": 143
           },
           {
            "bin_start": -0.1827673651707311,
            "bin_end": 2.961706783633721,
            "count": 161
           },
           {
            "bin_start": 2.961706783633721,
            "bin_end": 6.106180932438173,
            "count": 45
           },
           {
            "bin_start": 6.106180932438173,
            "bin_end": 9.250655081242629,
            "count": 10
           },
           {
            "bin_start": 9.250655081242629,
            "bin_end": 12.39512923004708,
            "count": 3
           },
           {
            "bin_start": 12.39512923004708,
            "bin_end": 15.539603378851533,
            "count": 0
           },
           {
            "bin_start": 15.539603378851533,
            "bin_end": 18.684077527655987,
            "count": 0
           },
           {
            "bin_start": 18.684077527655987,
            "bin_end": 21.828551676460435,
            "count": 1
           }
          ]
         }
        },
        {
         "name": "Inflation_APU0000703311",
         "dtype": "float64",
         "stats": {
          "unique_count": 502,
          "nan_count": 95,
          "min": "-10.1130461350443",
          "max": "24.927641099855286",
          "histogram": [
           {
            "bin_start": -10.1130461350443,
            "bin_end": -6.608977411554341,
            "count": 1
           },
           {
            "bin_start": -6.608977411554341,
            "bin_end": -3.1049086880643824,
            "count": 28
           },
           {
            "bin_start": -3.1049086880643824,
            "bin_end": 0.3991600354255773,
            "count": 255
           },
           {
            "bin_start": 0.3991600354255773,
            "bin_end": 3.9032287589155352,
            "count": 189
           },
           {
            "bin_start": 3.9032287589155352,
            "bin_end": 7.407297482405493,
            "count": 26
           },
           {
            "bin_start": 7.407297482405493,
            "bin_end": 10.911366205895455,
            "count": 5
           },
           {
            "bin_start": 10.911366205895455,
            "bin_end": 14.415434929385412,
            "count": 0
           },
           {
            "bin_start": 14.415434929385412,
            "bin_end": 17.91950365287537,
            "count": 0
           },
           {
            "bin_start": 17.91950365287537,
            "bin_end": 21.42357237636533,
            "count": 0
           },
           {
            "bin_start": 21.42357237636533,
            "bin_end": 24.927641099855286,
            "count": 1
           }
          ]
         }
        },
        {
         "name": "Inflation_APU0000703432",
         "dtype": "float64",
         "stats": {
          "unique_count": 358,
          "nan_count": 240,
          "min": "-7.564851283444253",
          "max": "13.535288430551077",
          "histogram": [
           {
            "bin_start": -7.564851283444253,
            "bin_end": -5.45483731204472,
            "count": 2
           },
           {
            "bin_start": -5.45483731204472,
            "bin_end": -3.3448233406451875,
            "count": 11
           },
           {
            "bin_start": -3.3448233406451875,
            "bin_end": -1.2348093692456548,
            "count": 67
           },
           {
            "bin_start": -1.2348093692456548,
            "bin_end": 0.875204602153878,
            "count": 153
           },
           {
            "bin_start": 0.875204602153878,
            "bin_end": 2.98521857355341,
            "count": 93
           },
           {
            "bin_start": 2.98521857355341,
            "bin_end": 5.095232544952943,
            "count": 24
           },
           {
            "bin_start": 5.095232544952943,
            "bin_end": 7.205246516352477,
            "count": 7
           },
           {
            "bin_start": 7.205246516352477,
            "bin_end": 9.31526048775201,
            "count": 1
           },
           {
            "bin_start": 9.31526048775201,
            "bin_end": 11.425274459151542,
            "count": 1
           },
           {
            "bin_start": 11.425274459151542,
            "bin_end": 13.535288430551077,
            "count": 1
           }
          ]
         }
        },
        {
         "name": "Inflation_APU0000703511",
         "dtype": "float64",
         "stats": {
          "unique_count": 502,
          "nan_count": 95,
          "min": "-6.097163351809595",
          "max": "13.90015600624025",
          "histogram": [
           {
            "bin_start": -6.097163351809595,
            "bin_end": -4.097431416004611,
            "count": 13
           },
           {
            "bin_start": -4.097431416004611,
            "bin_end": -2.0976994801996263,
            "count": 59
           },
           {
            "bin_start": -2.0976994801996263,
            "bin_end": -0.09796754439464195,
            "count": 144
           },
           {
            "bin_start": -0.09796754439464195,
            "bin_end": 1.9017643914103424,
            "count": 186
           },
           {
            "bin_start": 1.9017643914103424,
            "bin_end": 3.9014963272153267,
            "count": 77
           },
           {
            "bin_start": 3.9014963272153267,
            "bin_end": 5.901228263020311,
            "count": 19
           },
           {
            "bin_start": 5.901228263020311,
            "bin_end": 7.900960198825295,
            "count": 3
           },
           {
            "bin_start": 7.900960198825295,
            "bin_end": 9.90069213463028,
            "count": 2
           },
           {
            "bin_start": 9.90069213463028,
            "bin_end": 11.900424070435264,
            "count": 1
           },
           {
            "bin_start": 11.900424070435264,
            "bin_end": 13.90015600624025,
            "count": 1
           }
          ]
         }
        },
        {
         "name": "Inflation_APU0000703512",
         "dtype": "float64",
         "stats": {
          "unique_count": 333,
          "nan_count": 267,
          "min": "-7.422029214370301",
          "max": "9.071406680968442",
          "histogram": [
           {
            "bin_start": -7.422029214370301,
            "bin_end": -5.772685624836427,
            "count": 2
           },
           {
            "bin_start": -5.772685624836427,
            "bin_end": -4.123342035302553,
            "count": 7
           },
           {
            "bin_start": -4.123342035302553,
            "bin_end": -2.4739984457686788,
            "count": 28
           },
           {
            "bin_start": -2.4739984457686788,
            "bin_end": -0.8246548562348046,
            "count": 74
           },
           {
            "bin_start": -0.8246548562348046,
            "bin_end": 0.8246887332990696,
            "count": 89
           },
           {
            "bin_start": 0.8246887332990696,
            "bin_end": 2.4740323228329437,
            "count": 90
           },
           {
            "bin_start": 2.4740323228329437,
            "bin_end": 4.123375912366818,
            "count": 26
           },
           {
            "bin_start": 4.123375912366818,
            "bin_end": 5.772719501900692,
            "count": 9
           },
           {
            "bin_start": 5.772719501900692,
            "bin_end": 7.422063091434566,
            "count": 4
           },
           {
            "bin_start": 7.422063091434566,
            "bin_end": 9.071406680968442,
            "count": 4
           }
          ]
         }
        },
        {
         "name": "Inflation_APU0000703613",
         "dtype": "float64",
         "stats": {
          "unique_count": 397,
          "nan_count": 203,
          "min": "-10.484106153397484",
          "max": "15.358306188925091",
          "histogram": [
           {
            "bin_start": -10.484106153397484,
            "bin_end": -7.899864919165227,
            "count": 3
           },
           {
            "bin_start": -7.899864919165227,
            "bin_end": -5.3156236849329686,
            "count": 10
           },
           {
            "bin_start": -5.3156236849329686,
            "bin_end": -2.7313824507007105,
            "count": 28
           },
           {
            "bin_start": -2.7313824507007105,
            "bin_end": -0.14714121646845335,
            "count": 140
           },
           {
            "bin_start": -0.14714121646845335,
            "bin_end": 2.437100017763804,
            "count": 139
           },
           {
            "bin_start": 2.437100017763804,
            "bin_end": 5.021341251996063,
            "count": 56
           },
           {
            "bin_start": 5.021341251996063,
            "bin_end": 7.605582486228318,
            "count": 16
           },
           {
            "bin_start": 7.605582486228318,
            "bin_end": 10.189823720460577,
            "count": 3
           },
           {
            "bin_start": 10.189823720460577,
            "bin_end": 12.774064954692836,
            "count": 1
           },
           {
            "bin_start": 12.774064954692836,
            "bin_end": 15.358306188925091,
            "count": 1
           }
          ]
         }
        },
        {
         "name": "Inflation_APU0000704111",
         "dtype": "float64",
         "stats": {
          "unique_count": 504,
          "nan_count": 95,
          "min": "-11.432829465616349",
          "max": "10.445468509984636",
          "histogram": [
           {
            "bin_start": -11.432829465616349,
            "bin_end": -9.24499966805625,
            "count": 1
           },
           {
            "bin_start": -9.24499966805625,
            "bin_end": -7.057169870496152,
            "count": 0
           },
           {
            "bin_start": -7.057169870496152,
            "bin_end": -4.869340072936053,
            "count": 7
           },
           {
            "bin_start": -4.869340072936053,
            "bin_end": -2.6815102753759543,
            "count": 46
           },
           {
            "bin_start": -2.6815102753759543,
            "bin_end": -0.49368047781585567,
            "count": 138
           },
           {
            "bin_start": -0.49368047781585567,
            "bin_end": 1.694149319744243,
            "count": 178
           },
           {
            "bin_start": 1.694149319744243,
            "bin_end": 3.8819791173043416,
            "count": 89
           },
           {
            "bin_start": 3.8819791173043416,
            "bin_end": 6.06980891486444,
            "count": 31
           },
           {
            "bin_start": 6.06980891486444,
            "bin_end": 8.257638712424539,
            "count": 13
           },
           {
            "bin_start": 8.257638712424539,
            "bin_end": 10.445468509984636,
            "count": 2
           }
          ]
         }
        },
        {
         "name": "Inflation_APU0000704211",
         "dtype": "float64",
         "stats": {
          "unique_count": 505,
          "nan_count": 95,
          "min": "-10.344827586206897",
          "max": "11.818778726198303",
          "histogram": [
           {
            "bin_start": -10.344827586206897,
            "bin_end": -8.128466954966378,
            "count": 3
           },
           {
            "bin_start": -8.128466954966378,
            "bin_end": -5.912106323725856,
            "count": 6
           },
           {
            "bin_start": -5.912106323725856,
            "bin_end": -3.6957456924853362,
            "count": 22
           },
           {
            "bin_start": -3.6957456924853362,
            "bin_end": -1.479385061244816,
            "count": 97
           },
           {
            "bin_start": -1.479385061244816,
            "bin_end": 0.7369755699957032,
            "count": 191
           },
           {
            "bin_start": 0.7369755699957032,
            "bin_end": 2.9533362012362243,
            "count": 113
           },
           {
            "bin_start": 2.9533362012362243,
            "bin_end": 5.169696832476745,
            "count": 48
           },
           {
            "bin_start": 5.169696832476745,
            "bin_end": 7.386057463717265,
            "count": 17
           },
           {
            "bin_start": 7.386057463717265,
            "bin_end": 9.602418094957784,
            "count": 5
           },
           {
            "bin_start": 9.602418094957784,
            "bin_end": 11.818778726198303,
            "count": 3
           }
          ]
         }
        },
        {
         "name": "Inflation_APU0000704312",
         "dtype": "float64",
         "stats": {
          "unique_count": 371,
          "nan_count": 229,
          "min": "-7.812499999999996",
          "max": "9.839650145772579",
          "histogram": [
           {
            "bin_start": -7.812499999999996,
            "bin_end": -6.047284985422738,
            "count": 1
           },
           {
            "bin_start": -6.047284985422738,
            "bin_end": -4.28206997084548,
            "count": 14
           },
           {
            "bin_start": -4.28206997084548,
            "bin_end": -2.516854956268223,
            "count": 38
           },
           {
            "bin_start": -2.516854956268223,
            "bin_end": -0.751639941690966,
            "count": 71
           },
           {
            "bin_start": -0.751639941690966,
            "bin_end": 1.0135750728862911,
            "count": 119
           },
           {
            "bin_start": 1.0135750728862911,
            "bin_end": 2.778790087463549,
            "count": 87
           },
           {
            "bin_start": 2.778790087463549,
            "bin_end": 4.544005102040805,
            "count": 28
           },
           {
            "bin_start": 4.544005102040805,
            "bin_end": 6.3092201166180635,
            "count": 8
           },
           {
            "bin_start": 6.3092201166180635,
            "bin_end": 8.074435131195322,
            "count": 4
           },
           {
            "bin_start": 8.074435131195322,
            "bin_end": 9.839650145772579,
            "count": 1
           }
          ]
         }
        },
        {
         "name": "Inflation_APU0000705121",
         "dtype": "float64",
         "stats": {
          "unique_count": 472,
          "nan_count": 124,
          "min": "-15.06000774293458",
          "max": "12.835959221501398",
          "histogram": [
           {
            "bin_start": -15.06000774293458,
            "bin_end": -12.270411046490983,
            "count": 1
           },
           {
            "bin_start": -12.270411046490983,
            "bin_end": -9.480814350047385,
            "count": 4
           },
           {
            "bin_start": -9.480814350047385,
            "bin_end": -6.691217653603786,
            "count": 4
           },
           {
            "bin_start": -6.691217653603786,
            "bin_end": -3.9016209571601888,
            "count": 17
           },
           {
            "bin_start": -3.9016209571601888,
            "bin_end": -1.1120242607165913,
            "count": 107
           },
           {
            "bin_start": -1.1120242607165913,
            "bin_end": 1.6775724357270079,
            "count": 238
           },
           {
            "bin_start": 1.6775724357270079,
            "bin_end": 4.4671691321706035,
            "count": 79
           },
           {
            "bin_start": 4.4671691321706035,
            "bin_end": 7.256765828614203,
            "count": 19
           },
           {
            "bin_start": 7.256765828614203,
            "bin_end": 10.046362525057802,
            "count": 2
           },
           {
            "bin_start": 10.046362525057802,
            "bin_end": 12.835959221501398,
            "count": 5
           }
          ]
         }
        },
        {
         "name": "Inflation_APU0000706111",
         "dtype": "float64",
         "stats": {
          "unique_count": 494,
          "nan_count": 97,
          "min": "-7.232142857142873",
          "max": "12.214285714285717",
          "histogram": [
           {
            "bin_start": -7.232142857142873,
            "bin_end": -5.287500000000014,
            "count": 4
           },
           {
            "bin_start": -5.287500000000014,
            "bin_end": -3.3428571428571545,
            "count": 22
           },
           {
            "bin_start": -3.3428571428571545,
            "bin_end": -1.3982142857142952,
            "count": 97
           },
           {
            "bin_start": -1.3982142857142952,
            "bin_end": 0.5464285714285637,
            "count": 176
           },
           {
            "bin_start": 0.5464285714285637,
            "bin_end": 2.4910714285714226,
            "count": 142
           },
           {
            "bin_start": 2.4910714285714226,
            "bin_end": 4.435714285714282,
            "count": 44
           },
           {
            "bin_start": 4.435714285714282,
            "bin_end": 6.38035714285714,
            "count": 9
           },
           {
            "bin_start": 6.38035714285714,
            "bin_end": 8.325,
            "count": 5
           },
           {
            "bin_start": 8.325,
            "bin_end": 10.269642857142859,
            "count": 1
           },
           {
            "bin_start": 10.269642857142859,
            "bin_end": 12.214285714285717,
            "count": 3
           }
          ]
         }
        },
        {
         "name": "Inflation_APU0000706211",
         "dtype": "float64",
         "stats": {
          "unique_count": 344,
          "nan_count": 255,
          "min": "-8.739923631735273",
          "max": "10.46025104602511",
          "histogram": [
           {
            "bin_start": -8.739923631735273,
            "bin_end": -6.819906163959235,
            "count": 1
           },
           {
            "bin_start": -6.819906163959235,
            "bin_end": -4.899888696183196,
            "count": 6
           },
           {
            "bin_start": -4.899888696183196,
            "bin_end": -2.9798712284071573,
            "count": 27
           },
           {
            "bin_start": -2.9798712284071573,
            "bin_end": -1.0598537606311194,
            "count": 85
           },
           {
            "bin_start": -1.0598537606311194,
            "bin_end": 0.8601637071449186,
            "count": 100
           },
           {
            "bin_start": 0.8601637071449186,
            "bin_end": 2.7801811749209584,
            "count": 66
           },
           {
            "bin_start": 2.7801811749209584,
            "bin_end": 4.700198642696996,
            "count": 42
           },
           {
            "bin_start": 4.700198642696996,
            "bin_end": 6.620216110473034,
            "count": 12
           },
           {
            "bin_start": 6.620216110473034,
            "bin_end": 8.540233578249072,
            "count": 2
           },
           {
            "bin_start": 8.540233578249072,
            "bin_end": 10.46025104602511,
            "count": 4
           }
          ]
         }
        },
        {
         "name": "Inflation_APU0000706212",
         "dtype": "float64",
         "stats": {
          "unique_count": 501,
          "nan_count": 97,
          "min": "-9.171800136892546",
          "max": "11.29597197898424",
          "histogram": [
           {
            "bin_start": -9.171800136892546,
            "bin_end": -7.125022925304868,
            "count": 4
           },
           {
            "bin_start": -7.125022925304868,
            "bin_end": -5.078245713717189,
            "count": 14
           },
           {
            "bin_start": -5.078245713717189,
            "bin_end": -3.0314685021295107,
            "count": 43
           },
           {
            "bin_start": -3.0314685021295107,
            "bin_end": -0.9846912905418321,
            "count": 113
           },
           {
            "bin_start": -0.9846912905418321,
            "bin_end": 1.0620859210458455,
            "count": 157
           },
           {
            "bin_start": 1.0620859210458455,
            "bin_end": 3.108863132633525,
            "count": 106
           },
           {
            "bin_start": 3.108863132633525,
            "bin_end": 5.155640344221204,
            "count": 44
           },
           {
            "bin_start": 5.155640344221204,
            "bin_end": 7.202417555808882,
            "count": 11
           },
           {
            "bin_start": 7.202417555808882,
            "bin_end": 9.24919476739656,
            "count": 7
           },
           {
            "bin_start": 9.24919476739656,
            "bin_end": 11.29597197898424,
            "count": 4
           }
          ]
         }
        },
        {
         "name": "Inflation_APU0000706311",
         "dtype": "float64",
         "stats": {
          "unique_count": 473,
          "nan_count": 121,
          "min": "-16.100178890876567",
          "max": "19.50495049504951",
          "histogram": [
           {
            "bin_start": -16.100178890876567,
            "bin_end": -12.53966595228396,
            "count": 5
           },
           {
            "bin_start": -12.53966595228396,
            "bin_end": -8.979153013691352,
            "count": 15
           },
           {
            "bin_start": -8.979153013691352,
            "bin_end": -5.418640075098743,
            "count": 22
           },
           {
            "bin_start": -5.418640075098743,
            "bin_end": -1.8581271365061358,
            "count": 52
           },
           {
            "bin_start": -1.8581271365061358,
            "bin_end": 1.7023858020864715,
            "count": 217
           },
           {
            "bin_start": 1.7023858020864715,
            "bin_end": 5.262898740679081,
            "count": 140
           },
           {
            "bin_start": 5.262898740679081,
            "bin_end": 8.823411679271686,
            "count": 21
           },
           {
            "bin_start": 8.823411679271686,
            "bin_end": 12.383924617864295,
            "count": 5
           },
           {
            "bin_start": 12.383924617864295,
            "bin_end": 15.9444375564569,
            "count": 1
           },
           {
            "bin_start": 15.9444375564569,
            "bin_end": 19.50495049504951,
            "count": 1
           }
          ]
         }
        },
        {
         "name": "Inflation_APU0000708111",
         "dtype": "float64",
         "stats": {
          "unique_count": 501,
          "nan_count": 95,
          "min": "-18.77166914314018",
          "max": "32.393442622950836",
          "histogram": [
           {
            "bin_start": -18.77166914314018,
            "bin_end": -13.655157966531078,
            "count": 12
           },
           {
            "bin_start": -13.655157966531078,
            "bin_end": -8.538646789921977,
            "count": 19
           },
           {
            "bin_start": -8.538646789921977,
            "bin_end": -3.422135613312875,
            "count": 105
           },
           {
            "bin_start": -3.422135613312875,
            "bin_end": 1.6943755632962265,
            "count": 172
           },
           {
            "bin_start": 1.6943755632962265,
            "bin_end": 6.810886739905328,
            "count": 125
           },
           {
            "bin_start": 6.810886739905328,
            "bin_end": 11.92739791651443,
            "count": 44
           },
           {
            "bin_start": 11.92739791651443,
            "bin_end": 17.04390909312353,
            "count": 24
           },
           {
            "bin_start": 17.04390909312353,
            "bin_end": 22.160420269732633,
            "count": 2
           },
           {
            "bin_start": 22.160420269732633,
            "bin_end": 27.276931446341734,
            "count": 0
           },
           {
            "bin_start": 27.276931446341734,
            "bin_end": 32.393442622950836,
            "count": 2
           }
          ]
         }
        },
        {
         "name": "Inflation_APU0000710111",
         "dtype": "float64",
         "stats": {
          "unique_count": 377,
          "nan_count": 218,
          "min": "-14.262472885032542",
          "max": "24.363114459992836",
          "histogram": [
           {
            "bin_start": -14.262472885032542,
            "bin_end": -10.399914150530005,
            "count": 3
           },
           {
            "bin_start": -10.399914150530005,
            "bin_end": -6.5373554160274665,
            "count": 14
           },
           {
            "bin_start": -6.5373554160274665,
            "bin_end": -2.6747966815249296,
            "count": 43
           },
           {
            "bin_start": -2.6747966815249296,
            "bin_end": 1.1877620529776092,
            "count": 209
           },
           {
            "bin_start": 1.1877620529776092,
            "bin_end": 5.050320787480148,
            "count": 87
           },
           {
            "bin_start": 5.050320787480148,
            "bin_end": 8.912879521982683,
            "count": 16
           },
           {
            "bin_start": 8.912879521982683,
            "bin_end": 12.775438256485222,
            "count": 5
           },
           {
            "bin_start": 12.775438256485222,
            "bin_end": 16.63799699098776,
            "count": 3
           },
           {
            "bin_start": 16.63799699098776,
            "bin_end": 20.500555725490294,
            "count": 1
           },
           {
            "bin_start": 20.500555725490294,
            "bin_end": 24.363114459992836,
            "count": 1
           }
          ]
         }
        },
        {
         "name": "Inflation_APU0000710211",
         "dtype": "float64",
         "stats": {
          "unique_count": 433,
          "nan_count": 166,
          "min": "-6.998381877022656",
          "max": "8.535770002228661",
          "histogram": [
           {
            "bin_start": -6.998381877022656,
            "bin_end": -5.444966689097524,
            "count": 2
           },
           {
            "bin_start": -5.444966689097524,
            "bin_end": -3.8915515011723922,
            "count": 8
           },
           {
            "bin_start": -3.8915515011723922,
            "bin_end": -2.3381363132472606,
            "count": 36
           },
           {
            "bin_start": -2.3381363132472606,
            "bin_end": -0.7847211253221289,
            "count": 91
           },
           {
            "bin_start": -0.7847211253221289,
            "bin_end": 0.7686940626030028,
            "count": 145
           },
           {
            "bin_start": 0.7686940626030028,
            "bin_end": 2.3221092505281344,
            "count": 104
           },
           {
            "bin_start": 2.3221092505281344,
            "bin_end": 3.875524438453265,
            "count": 29
           },
           {
            "bin_start": 3.875524438453265,
            "bin_end": 5.428939626378398,
            "count": 15
           },
           {
            "bin_start": 5.428939626378398,
            "bin_end": 6.98235481430353,
            "count": 3
           },
           {
            "bin_start": 6.98235481430353,
            "bin_end": 8.535770002228661,
            "count": 1
           }
          ]
         }
        },
        {
         "name": "Inflation_APU0000710212",
         "dtype": "float64",
         "stats": {
          "unique_count": 439,
          "nan_count": 160,
          "min": "-13.922991071428575",
          "max": "16.81877444589309",
          "histogram": [
           {
            "bin_start": -13.922991071428575,
            "bin_end": -10.848814519696408,
            "count": 3
           },
           {
            "bin_start": -10.848814519696408,
            "bin_end": -7.7746379679642414,
            "count": 2
           },
           {
            "bin_start": -7.7746379679642414,
            "bin_end": -4.700461416232075,
            "count": 3
           },
           {
            "bin_start": -4.700461416232075,
            "bin_end": -1.6262848644999082,
            "count": 52
           },
           {
            "bin_start": -1.6262848644999082,
            "bin_end": 1.447891687232259,
            "count": 285
           },
           {
            "bin_start": 1.447891687232259,
            "bin_end": 4.522068238964424,
            "count": 85
           },
           {
            "bin_start": 4.522068238964424,
            "bin_end": 7.596244790696593,
            "count": 4
           },
           {
            "bin_start": 7.596244790696593,
            "bin_end": 10.670421342428758,
            "count": 4
           },
           {
            "bin_start": 10.670421342428758,
            "bin_end": 13.744597894160924,
            "count": 1
           },
           {
            "bin_start": 13.744597894160924,
            "bin_end": 16.81877444589309,
            "count": 1
           }
          ]
         }
        },
        {
         "name": "Inflation_APU0000710411",
         "dtype": "float64",
         "stats": {
          "unique_count": 503,
          "nan_count": 97,
          "min": "-14.434060228452752",
          "max": "14.388489208633093",
          "histogram": [
           {
            "bin_start": -14.434060228452752,
            "bin_end": -11.551805284744168,
            "count": 2
           },
           {
            "bin_start": -11.551805284744168,
            "bin_end": -8.669550341035583,
            "count": 2
           },
           {
            "bin_start": -8.669550341035583,
            "bin_end": -5.787295397326998,
            "count": 4
           },
           {
            "bin_start": -5.787295397326998,
            "bin_end": -2.9050404536184136,
            "count": 35
           },
           {
            "bin_start": -2.9050404536184136,
            "bin_end": -0.02278550990982886,
            "count": 181
           },
           {
            "bin_start": -0.02278550990982886,
            "bin_end": 2.859469433798756,
            "count": 205
           },
           {
            "bin_start": 2.859469433798756,
            "bin_end": 5.7417243775073405,
            "count": 63
           },
           {
            "bin_start": 5.7417243775073405,
            "bin_end": 8.623979321215925,
            "count": 5
           },
           {
            "bin_start": 8.623979321215925,
            "bin_end": 11.50623426492451,
            "count": 4
           },
           {
            "bin_start": 11.50623426492451,
            "bin_end": 14.388489208633093,
            "count": 2
           }
          ]
         }
        },
        {
         "name": "Inflation_APU0000711111",
         "dtype": "float64",
         "stats": {
          "unique_count": 436,
          "nan_count": 154,
          "min": "-25.297297297297305",
          "max": "26.22333751568381",
          "histogram": [
           {
            "bin_start": -25.297297297297305,
            "bin_end": -20.145233815999195,
            "count": 1
           },
           {
            "bin_start": -20.145233815999195,
            "bin_end": -14.993170334701082,
            "count": 5
           },
           {
            "bin_start": -14.993170334701082,
            "bin_end": -9.84110685340297,
            "count": 11
           },
           {
            "bin_start": -9.84110685340297,
            "bin_end": -4.689043372104859,
            "count": 39
           },
           {
            "bin_start": -4.689043372104859,
            "bin_end": 0.463020109193252,
            "count": 141
           },
           {
            "bin_start": 0.463020109193252,
            "bin_end": 5.615083590491366,
            "count": 210
           },
           {
            "bin_start": 5.615083590491366,
            "bin_end": 10.767147071789474,
            "count": 32
           },
           {
            "bin_start": 10.767147071789474,
            "bin_end": 15.919210553087588,
            "count": 5
           },
           {
            "bin_start": 15.919210553087588,
            "bin_end": 21.071274034385702,
            "count": 1
           },
           {
            "bin_start": 21.071274034385702,
            "bin_end": 26.22333751568381,
            "count": 1
           }
          ]
         }
        },
        {
         "name": "Inflation_APU0000711211",
         "dtype": "float64",
         "stats": {
          "unique_count": 464,
          "nan_count": 98,
          "min": "-19.379844961240316",
          "max": "18.969072164948447",
          "histogram": [
           {
            "bin_start": -19.379844961240316,
            "bin_end": -15.54495324862144,
            "count": 2
           },
           {
            "bin_start": -15.54495324862144,
            "bin_end": -11.710061536002563,
            "count": 5
           },
           {
            "bin_start": -11.710061536002563,
            "bin_end": -7.875169823383686,
            "count": 12
           },
           {
            "bin_start": -7.875169823383686,
            "bin_end": -4.04027811076481,
            "count": 34
           },
           {
            "bin_start": -4.04027811076481,
            "bin_end": -0.20538639814593296,
            "count": 175
           },
           {
            "bin_start": -0.20538639814593296,
            "bin_end": 3.6295053144729437,
            "count": 209
           },
           {
            "bin_start": 3.6295053144729437,
            "bin_end": 7.46439702709182,
            "count": 33
           },
           {
            "bin_start": 7.46439702709182,
            "bin_end": 11.299288739710697,
            "count": 20
           },
           {
            "bin_start": 11.299288739710697,
            "bin_end": 15.134180452329574,
            "count": 3
           },
           {
            "bin_start": 15.134180452329574,
            "bin_end": 18.969072164948447,
            "count": 9
           }
          ]
         }
        },
        {
         "name": "Inflation_APU0000711311",
         "dtype": "float64",
         "stats": {
          "unique_count": 325,
          "nan_count": 271,
          "min": "-30.025940337224387",
          "max": "46.181172291296626",
          "histogram": [
           {
            "bin_start": -30.025940337224387,
            "bin_end": -22.405229074372286,
            "count": 6
           },
           {
            "bin_start": -22.405229074372286,
            "bin_end": -14.784517811520184,
            "count": 13
           },
           {
            "bin_start": -14.784517811520184,
            "bin_end": -7.163806548668081,
            "count": 31
           },
           {
            "bin_start": -7.163806548668081,
            "bin_end": 0.4569047141840201,
            "count": 121
           },
           {
            "bin_start": 0.4569047141840201,
            "bin_end": 8.077615977036121,
            "count": 106
           },
           {
            "bin_start": 8.077615977036121,
            "bin_end": 15.698327239888226,
            "count": 43
           },
           {
            "bin_start": 15.698327239888226,
            "bin_end": 23.319038502740323,
            "count": 6
           },
           {
            "bin_start": 23.319038502740323,
            "bin_end": 30.939749765592428,
            "count": 1
           },
           {
            "bin_start": 30.939749765592428,
            "bin_end": 38.560461028444536,
            "count": 1
           },
           {
            "bin_start": 38.560461028444536,
            "bin_end": 46.181172291296626,
            "count": 1
           }
          ]
         }
        },
        {
         "name": "Inflation_APU0000711411",
         "dtype": "float64",
         "stats": {
          "unique_count": 470,
          "nan_count": 124,
          "min": "-24.897400820793425",
          "max": "21.53518123667377",
          "histogram": [
           {
            "bin_start": -24.897400820793425,
            "bin_end": -20.254142615046707,
            "count": 4
           },
           {
            "bin_start": -20.254142615046707,
            "bin_end": -15.610884409299986,
            "count": 10
           },
           {
            "bin_start": -15.610884409299986,
            "bin_end": -10.967626203553266,
            "count": 23
           },
           {
            "bin_start": -10.967626203553266,
            "bin_end": -6.324367997806547,
            "count": 29
           },
           {
            "bin_start": -6.324367997806547,
            "bin_end": -1.6811097920598286,
            "count": 102
           },
           {
            "bin_start": -1.6811097920598286,
            "bin_end": 2.9621484136868936,
            "count": 134
           },
           {
            "bin_start": 2.9621484136868936,
            "bin_end": 7.605406619433612,
            "count": 104
           },
           {
            "bin_start": 7.605406619433612,
            "bin_end": 12.248664825180331,
            "count": 42
           },
           {
            "bin_start": 12.248664825180331,
            "bin_end": 16.89192303092705,
            "count": 19
           },
           {
            "bin_start": 16.89192303092705,
            "bin_end": 21.53518123667377,
            "count": 9
           }
          ]
         }
        },
        {
         "name": "Inflation_APU0000711412",
         "dtype": "float64",
         "stats": {
          "unique_count": 482,
          "nan_count": 117,
          "min": "-21.327014218009488",
          "max": "23.607176581680832",
          "histogram": [
           {
            "bin_start": -21.327014218009488,
            "bin_end": -16.833595138040458,
            "count": 2
           },
           {
            "bin_start": -16.833595138040458,
            "bin_end": -12.340176058071425,
            "count": 8
           },
           {
            "bin_start": -12.340176058071425,
            "bin_end": -7.846756978102393,
            "count": 34
           },
           {
            "bin_start": -7.846756978102393,
            "bin_end": -3.3533378981333613,
            "count": 75
           },
           {
            "bin_start": -3.3533378981333613,
            "bin_end": 1.1400811818356686,
            "count": 169
           },
           {
            "bin_start": 1.1400811818356686,
            "bin_end": 5.633500261804702,
            "count": 104
           },
           {
            "bin_start": 5.633500261804702,
            "bin_end": 10.126919341773736,
            "count": 57
           },
           {
            "bin_start": 10.126919341773736,
            "bin_end": 14.620338421742765,
            "count": 18
           },
           {
            "bin_start": 14.620338421742765,
            "bin_end": 19.113757501711795,
            "count": 9
           },
           {
            "bin_start": 19.113757501711795,
            "bin_end": 23.607176581680832,
            "count": 7
           }
          ]
         }
        },
        {
         "name": "Inflation_APU0000711415",
         "dtype": "float64",
         "stats": {
          "unique_count": 372,
          "nan_count": 228,
          "min": "-41.32091447925488",
          "max": "42.82490974729241",
          "histogram": [
           {
            "bin_start": -41.32091447925488,
            "bin_end": -32.90633205660015,
            "count": 2
           },
           {
            "bin_start": -32.90633205660015,
            "bin_end": -24.491749633945425,
            "count": 11
           },
           {
            "bin_start": -24.491749633945425,
            "bin_end": -16.077167211290696,
            "count": 29
           },
           {
            "bin_start": -16.077167211290696,
            "bin_end": -7.662584788635968,
            "count": 59
           },
           {
            "bin_start": -7.662584788635968,
            "bin_end": 0.751997634018764,
            "count": 79
           },
           {
            "bin_start": 0.751997634018764,
            "bin_end": 9.166580056673489,
            "count": 93
           },
           {
            "bin_start": 9.166580056673489,
            "bin_end": 17.581162479328214,
            "count": 60
           },
           {
            "bin_start": 17.581162479328214,
            "bin_end": 25.995744901982945,
            "count": 28
           },
           {
            "bin_start": 25.995744901982945,
            "bin_end": 34.41032732463768,
            "count": 9
           },
           {
            "bin_start": 34.41032732463768,
            "bin_end": 42.82490974729241,
            "count": 2
           }
          ]
         }
        },
        {
         "name": "Inflation_APU0000711417",
         "dtype": "float64",
         "stats": {
          "unique_count": 385,
          "nan_count": 215,
          "min": "-34.945763705658166",
          "max": "46.16822429906543",
          "histogram": [
           {
            "bin_start": -34.945763705658166,
            "bin_end": -26.834364905185808,
            "count": 9
           },
           {
            "bin_start": -26.834364905185808,
            "bin_end": -18.722966104713446,
            "count": 38
           },
           {
            "bin_start": -18.722966104713446,
            "bin_end": -10.611567304241085,
            "count": 53
           },
           {
            "bin_start": -10.611567304241085,
            "bin_end": -2.5001685037687267,
            "count": 71
           },
           {
            "bin_start": -2.5001685037687267,
            "bin_end": 5.611230296703631,
            "count": 63
           },
           {
            "bin_start": 5.611230296703631,
            "bin_end": 13.722629097175997,
            "count": 61
           },
           {
            "bin_start": 13.722629097175997,
            "bin_end": 21.834027897648355,
            "count": 43
           },
           {
            "bin_start": 21.834027897648355,
            "bin_end": 29.945426698120713,
            "count": 32
           },
           {
            "bin_start": 29.945426698120713,
            "bin_end": 38.05682549859307,
            "count": 12
           },
           {
            "bin_start": 38.05682549859307,
            "bin_end": 46.16822429906543,
            "count": 3
           }
          ]
         }
        },
        {
         "name": "Inflation_APU0000712112",
         "dtype": "float64",
         "stats": {
          "unique_count": 403,
          "nan_count": 175,
          "min": "-12.78772378516624",
          "max": "13.777777777777779",
          "histogram": [
           {
            "bin_start": -12.78772378516624,
            "bin_end": -10.131173628871839,
            "count": 4
           },
           {
            "bin_start": -10.131173628871839,
            "bin_end": -7.474623472577436,
            "count": 8
           },
           {
            "bin_start": -7.474623472577436,
            "bin_end": -4.8180733162830345,
            "count": 18
           },
           {
            "bin_start": -4.8180733162830345,
            "bin_end": -2.161523159988633,
            "count": 54
           },
           {
            "bin_start": -2.161523159988633,
            "bin_end": 0.49502699630576785,
            "count": 137
           },
           {
            "bin_start": 0.49502699630576785,
            "bin_end": 3.1515771526001704,
            "count": 132
           },
           {
            "bin_start": 3.1515771526001704,
            "bin_end": 5.808127308894573,
            "count": 42
           },
           {
            "bin_start": 5.808127308894573,
            "bin_end": 8.464677465188974,
            "count": 19
           },
           {
            "bin_start": 8.464677465188974,
            "bin_end": 11.121227621483374,
            "count": 5
           },
           {
            "bin_start": 11.121227621483374,
            "bin_end": 13.777777777777779,
            "count": 6
           }
          ]
         }
        },
        {
         "name": "Inflation_APU0000712211",
         "dtype": "float64",
         "stats": {
          "unique_count": 473,
          "nan_count": 124,
          "min": "-40.26745913818722",
          "max": "121.25205930807248",
          "histogram": [
           {
            "bin_start": -40.26745913818722,
            "bin_end": -24.11550729356125,
            "count": 20
           },
           {
            "bin_start": -24.11550729356125,
            "bin_end": -7.963555448935281,
            "count": 77
           },
           {
            "bin_start": -7.963555448935281,
            "bin_end": 8.188396395690688,
            "count": 263
           },
           {
            "bin_start": 8.188396395690688,
            "bin_end": 24.340348240316658,
            "count": 89
           },
           {
            "bin_start": 24.340348240316658,
            "bin_end": 40.49230008494263,
            "count": 15
           },
           {
            "bin_start": 40.49230008494263,
            "bin_end": 56.6442519295686,
            "count": 9
           },
           {
            "bin_start": 56.6442519295686,
            "bin_end": 72.79620377419457,
            "count": 2
           },
           {
            "bin_start": 72.79620377419457,
            "bin_end": 88.94815561882054,
            "count": 0
           },
           {
            "bin_start": 88.94815561882054,
            "bin_end": 105.10010746344649,
            "count": 0
           },
           {
            "bin_start": 105.10010746344649,
            "bin_end": 121.25205930807248,
            "count": 1
           }
          ]
         }
        },
        {
         "name": "Inflation_APU0000712311",
         "dtype": "float64",
         "stats": {
          "unique_count": 497,
          "nan_count": 103,
          "min": "-58.52691218130312",
          "max": "93.20712694877507",
          "histogram": [
           {
            "bin_start": -58.52691218130312,
            "bin_end": -43.3535082682953,
            "count": 3
           },
           {
            "bin_start": -43.3535082682953,
            "bin_end": -28.180104355287476,
            "count": 9
           },
           {
            "bin_start": -28.180104355287476,
            "bin_end": -13.006700442279651,
            "count": 37
           },
           {
            "bin_start": -13.006700442279651,
            "bin_end": 2.166703470728166,
            "count": 246
           },
           {
            "bin_start": 2.166703470728166,
            "bin_end": 17.340107383735983,
            "count": 157
           },
           {
            "bin_start": 17.340107383735983,
            "bin_end": 32.513511296743815,
            "count": 36
           },
           {
            "bin_start": 32.513511296743815,
            "bin_end": 47.68691520975163,
            "count": 6
           },
           {
            "bin_start": 47.68691520975163,
            "bin_end": 62.86031912275945,
            "count": 2
           },
           {
            "bin_start": 62.86031912275945,
            "bin_end": 78.03372303576728,
            "count": 0
           },
           {
            "bin_start": 78.03372303576728,
            "bin_end": 93.20712694877507,
            "count": 1
           }
          ]
         }
        },
        {
         "name": "Inflation_APU0000712406",
         "dtype": "float64",
         "stats": {
          "unique_count": 371,
          "nan_count": 227,
          "min": "-52.194543297746144",
          "max": "68.03900325027085",
          "histogram": [
           {
            "bin_start": -52.194543297746144,
            "bin_end": -40.17118864294444,
            "count": 3
           },
           {
            "bin_start": -40.17118864294444,
            "bin_end": -28.147833988142747,
            "count": 5
           },
           {
            "bin_start": -28.147833988142747,
            "bin_end": -16.12447933334105,
            "count": 17
           },
           {
            "bin_start": -16.12447933334105,
            "bin_end": -4.10112467853935,
            "count": 105
           },
           {
            "bin_start": -4.10112467853935,
            "bin_end": 7.922229976262351,
            "count": 151
           },
           {
            "bin_start": 7.922229976262351,
            "bin_end": 19.945584631064044,
            "count": 64
           },
           {
            "bin_start": 19.945584631064044,
            "bin_end": 31.96893928586575,
            "count": 19
           },
           {
            "bin_start": 31.96893928586575,
            "bin_end": 43.992293940667444,
            "count": 2
           },
           {
            "bin_start": 43.992293940667444,
            "bin_end": 56.01564859546914,
            "count": 6
           },
           {
            "bin_start": 56.01564859546914,
            "bin_end": 68.03900325027085,
            "count": 1
           }
          ]
         }
        },
        {
         "name": "Inflation_APU0000713111",
         "dtype": "float64",
         "stats": {
          "unique_count": 496,
          "nan_count": 95,
          "min": "-9.252669039145916",
          "max": "9.488768396591794",
          "histogram": [
           {
            "bin_start": -9.252669039145916,
            "bin_end": -7.378525295572145,
            "count": 3
           },
           {
            "bin_start": -7.378525295572145,
            "bin_end": -5.5043815519983745,
            "count": 2
           },
           {
            "bin_start": -5.5043815519983745,
            "bin_end": -3.630237808424603,
            "count": 16
           },
           {
            "bin_start": -3.630237808424603,
            "bin_end": -1.7560940648508323,
            "count": 79
           },
           {
            "bin_start": -1.7560940648508323,
            "bin_end": 0.11804967872293837,
            "count": 155
           },
           {
            "bin_start": 0.11804967872293837,
            "bin_end": 1.99219342229671,
            "count": 155
           },
           {
            "bin_start": 1.99219342229671,
            "bin_end": 3.8663371658704797,
            "count": 63
           },
           {
            "bin_start": 3.8663371658704797,
            "bin_end": 5.740480909444251,
            "count": 17
           },
           {
            "bin_start": 5.740480909444251,
            "bin_end": 7.614624653018021,
            "count": 8
           },
           {
            "bin_start": 7.614624653018021,
            "bin_end": 9.488768396591794,
            "count": 7
           }
          ]
         }
        },
        {
         "name": "Inflation_APU0000715211",
         "dtype": "float64",
         "stats": {
          "unique_count": 427,
          "nan_count": 95,
          "min": "-11.434977578475333",
          "max": "17.940199335548172",
          "histogram": [
           {
            "bin_start": -11.434977578475333,
            "bin_end": -8.497459887072983,
            "count": 2
           },
           {
            "bin_start": -8.497459887072983,
            "bin_end": -5.559942195670632,
            "count": 3
           },
           {
            "bin_start": -5.559942195670632,
            "bin_end": -2.622424504268281,
            "count": 23
           },
           {
            "bin_start": -2.622424504268281,
            "bin_end": 0.3150931871340692,
            "count": 269
           },
           {
            "bin_start": 0.3150931871340692,
            "bin_end": 3.2526108785364194,
            "count": 182
           },
           {
            "bin_start": 3.2526108785364194,
            "bin_end": 6.190128569938771,
            "count": 20
           },
           {
            "bin_start": 6.190128569938771,
            "bin_end": 9.12764626134112,
            "count": 2
           },
           {
            "bin_start": 9.12764626134112,
            "bin_end": 12.065163952743472,
            "count": 2
           },
           {
            "bin_start": 12.065163952743472,
            "bin_end": 15.002681644145824,
            "count": 1
           },
           {
            "bin_start": 15.002681644145824,
            "bin_end": 17.940199335548172,
            "count": 1
           }
          ]
         }
        },
        {
         "name": "Inflation_APU0000715212",
         "dtype": "float64",
         "stats": {
          "unique_count": 422,
          "nan_count": 121,
          "min": "-11.97183098591549",
          "max": "17.74744027303754",
          "histogram": [
           {
            "bin_start": -11.97183098591549,
            "bin_end": -8.999903860020186,
            "count": 2
           },
           {
            "bin_start": -8.999903860020186,
            "bin_end": -6.027976734124884,
            "count": 3
           },
           {
            "bin_start": -6.027976734124884,
            "bin_end": -3.0560496082295803,
            "count": 27
           },
           {
            "bin_start": -3.0560496082295803,
            "bin_end": -0.0841224823342781,
            "count": 181
           },
           {
            "bin_start": -0.0841224823342781,
            "bin_end": 2.887804643561024,
            "count": 230
           },
           {
            "bin_start": 2.887804643561024,
            "bin_end": 5.85973176945633,
            "count": 27
           },
           {
            "bin_start": 5.85973176945633,
            "bin_end": 8.831658895351632,
            "count": 3
           },
           {
            "bin_start": 8.831658895351632,
            "bin_end": 11.803586021246934,
            "count": 4
           },
           {
            "bin_start": 11.803586021246934,
            "bin_end": 14.775513147142236,
            "count": 1
           },
           {
            "bin_start": 14.775513147142236,
            "bin_end": 17.74744027303754,
            "count": 1
           }
          ]
         }
        },
        {
         "name": "Inflation_APU0000716116",
         "dtype": "float64",
         "stats": {
          "unique_count": 356,
          "nan_count": 240,
          "min": "-14.096499526963097",
          "max": "11.674008810572685",
          "histogram": [
           {
            "bin_start": -14.096499526963097,
            "bin_end": -11.519448693209519,
            "count": 1
           },
           {
            "bin_start": -11.519448693209519,
            "bin_end": -8.94239785945594,
            "count": 1
           },
           {
            "bin_start": -8.94239785945594,
            "bin_end": -6.365347025702363,
            "count": 1
           },
           {
            "bin_start": -6.365347025702363,
            "bin_end": -3.7882961919487848,
            "count": 15
           },
           {
            "bin_start": -3.7882961919487848,
            "bin_end": -1.2112453581952067,
            "count": 56
           },
           {
            "bin_start": -1.2112453581952067,
            "bin_end": 1.3658054755583713,
            "count": 186
           },
           {
            "bin_start": 1.3658054755583713,
            "bin_end": 3.9428563093119493,
            "count": 76
           },
           {
            "bin_start": 3.9428563093119493,
            "bin_end": 6.519907143065527,
            "count": 20
           },
           {
            "bin_start": 6.519907143065527,
            "bin_end": 9.096957976819105,
            "count": 3
           },
           {
            "bin_start": 9.096957976819105,
            "bin_end": 11.674008810572685,
            "count": 1
           }
          ]
         }
        },
        {
         "name": "Inflation_APU0000716141",
         "dtype": "float64",
         "stats": {
          "unique_count": 402,
          "nan_count": 193,
          "min": "-9.893507385778076",
          "max": "8.579088471849873",
          "histogram": [
           {
            "bin_start": -9.893507385778076,
            "bin_end": -8.04624780001528,
            "count": 2
           },
           {
            "bin_start": -8.04624780001528,
            "bin_end": -6.198988214252486,
            "count": 1
           },
           {
            "bin_start": -6.198988214252486,
            "bin_end": -4.35172862848969,
            "count": 3
           },
           {
            "bin_start": -4.35172862848969,
            "bin_end": -2.504469042726895,
            "count": 21
           },
           {
            "bin_start": -2.504469042726895,
            "bin_end": -0.6572094569641003,
            "count": 111
           },
           {
            "bin_start": -0.6572094569641003,
            "bin_end": 1.1900501287986955,
            "count": 164
           },
           {
            "bin_start": 1.1900501287986955,
            "bin_end": 3.0373097145614896,
            "count": 69
           },
           {
            "bin_start": 3.0373097145614896,
            "bin_end": 4.884569300324285,
            "count": 29
           },
           {
            "bin_start": 4.884569300324285,
            "bin_end": 6.731828886087079,
            "count": 4
           },
           {
            "bin_start": 6.731828886087079,
            "bin_end": 8.579088471849873,
            "count": 3
           }
          ]
         }
        },
        {
         "name": "Inflation_APU0000717311",
         "dtype": "float64",
         "stats": {
          "unique_count": 458,
          "nan_count": 139,
          "min": "-9.373180671453516",
          "max": "34.09158934450764",
          "histogram": [
           {
            "bin_start": -9.373180671453516,
            "bin_end": -5.026703669857401,
            "count": 7
           },
           {
            "bin_start": -5.026703669857401,
            "bin_end": -0.6802266682612856,
            "count": 176
           },
           {
            "bin_start": -0.6802266682612856,
            "bin_end": 3.6662503333348297,
            "count": 243
           },
           {
            "bin_start": 3.6662503333348297,
            "bin_end": 8.012727334930945,
            "count": 26
           },
           {
            "bin_start": 8.012727334930945,
            "bin_end": 12.359204336527059,
            "count": 6
           },
           {
            "bin_start": 12.359204336527059,
            "bin_end": 16.705681338123178,
            "count": 0
           },
           {
            "bin_start": 16.705681338123178,
            "bin_end": 21.05215833971929,
            "count": 0
           },
           {
            "bin_start": 21.05215833971929,
            "bin_end": 25.398635341315405,
            "count": 0
           },
           {
            "bin_start": 25.398635341315405,
            "bin_end": 29.74511234291152,
            "count": 1
           },
           {
            "bin_start": 29.74511234291152,
            "bin_end": 34.09158934450764,
            "count": 2
           }
          ]
         }
        },
        {
         "name": "Inflation_APU0000718311",
         "dtype": "float64",
         "stats": {
          "unique_count": 501,
          "nan_count": 95,
          "min": "-6.851311953352779",
          "max": "8.475648323845675",
          "histogram": [
           {
            "bin_start": -6.851311953352779,
            "bin_end": -5.318615925632933,
            "count": 6
           },
           {
            "bin_start": -5.318615925632933,
            "bin_end": -3.785919897913088,
            "count": 12
           },
           {
            "bin_start": -3.785919897913088,
            "bin_end": -2.253223870193243,
            "count": 38
           },
           {
            "bin_start": -2.253223870193243,
            "bin_end": -0.7205278424733974,
            "count": 106
           },
           {
            "bin_start": -0.7205278424733974,
            "bin_end": 0.8121681852464482,
            "count": 155
           },
           {
            "bin_start": 0.8121681852464482,
            "bin_end": 2.344864212966293,
            "count": 117
           },
           {
            "bin_start": 2.344864212966293,
            "bin_end": 3.8775602406861385,
            "count": 44
           },
           {
            "bin_start": 3.8775602406861385,
            "bin_end": 5.410256268405984,
            "count": 19
           },
           {
            "bin_start": 5.410256268405984,
            "bin_end": 6.94295229612583,
            "count": 6
           },
           {
            "bin_start": 6.94295229612583,
            "bin_end": 8.475648323845675,
            "count": 2
           }
          ]
         }
        },
        {
         "name": "Inflation_APU000072511",
         "dtype": "float64",
         "stats": {
          "unique_count": 506,
          "nan_count": 83,
          "min": "-18.7450357426529",
          "max": "35.74432296047099",
          "histogram": [
           {
            "bin_start": -18.7450357426529,
            "bin_end": -13.29609987234051,
            "count": 6
           },
           {
            "bin_start": -13.29609987234051,
            "bin_end": -7.847164002028123,
            "count": 11
           },
           {
            "bin_start": -7.847164002028123,
            "bin_end": -2.3982281317157366,
            "count": 76
           },
           {
            "bin_start": -2.3982281317157366,
            "bin_end": 3.0507077385966532,
            "count": 316
           },
           {
            "bin_start": 3.0507077385966532,
            "bin_end": 8.499643608909043,
            "count": 84
           },
           {
            "bin_start": 8.499643608909043,
            "bin_end": 13.948579479221426,
            "count": 18
           },
           {
            "bin_start": 13.948579479221426,
            "bin_end": 19.397515349533816,
            "count": 4
           },
           {
            "bin_start": 19.397515349533816,
            "bin_end": 24.846451219846205,
            "count": 0
           },
           {
            "bin_start": 24.846451219846205,
            "bin_end": 30.295387090158595,
            "count": 1
           },
           {
            "bin_start": 30.295387090158595,
            "bin_end": 35.74432296047099,
            "count": 1
           }
          ]
         }
        },
        {
         "name": "Inflation_APU000072601",
         "dtype": "float64",
         "stats": {
          "unique_count": 413,
          "nan_count": 187,
          "min": "-8.410920445755856",
          "max": "16.2688486265342",
          "histogram": [
           {
            "bin_start": -8.410920445755856,
            "bin_end": -5.94294353852685,
            "count": 6
           },
           {
            "bin_start": -5.94294353852685,
            "bin_end": -3.4749666312978444,
            "count": 20
           },
           {
            "bin_start": -3.4749666312978444,
            "bin_end": -1.0069897240688386,
            "count": 66
           },
           {
            "bin_start": -1.0069897240688386,
            "bin_end": 1.4609871831601673,
            "count": 217
           },
           {
            "bin_start": 1.4609871831601673,
            "bin_end": 3.9289640903891723,
            "count": 75
           },
           {
            "bin_start": 3.9289640903891723,
            "bin_end": 6.396940997618179,
            "count": 20
           },
           {
            "bin_start": 6.396940997618179,
            "bin_end": 8.864917904847186,
            "count": 5
           },
           {
            "bin_start": 8.864917904847186,
            "bin_end": 11.33289481207619,
            "count": 1
           },
           {
            "bin_start": 11.33289481207619,
            "bin_end": 13.800871719305196,
            "count": 2
           },
           {
            "bin_start": 13.800871719305196,
            "bin_end": 16.2688486265342,
            "count": 1
           }
          ]
         }
        },
        {
         "name": "Inflation_APU000072610",
         "dtype": "float64",
         "stats": {
          "unique_count": 231,
          "nan_count": 83,
          "min": "-7.500000000000007",
          "max": "10.526315789473694",
          "histogram": [
           {
            "bin_start": -7.500000000000007,
            "bin_end": -5.697368421052637,
            "count": 5
           },
           {
            "bin_start": -5.697368421052637,
            "bin_end": -3.8947368421052673,
            "count": 14
           },
           {
            "bin_start": -3.8947368421052673,
            "bin_end": -2.0921052631578974,
            "count": 48
           },
           {
            "bin_start": -2.0921052631578974,
            "bin_end": -0.28947368421052744,
            "count": 74
           },
           {
            "bin_start": -0.28947368421052744,
            "bin_end": 1.5131578947368425,
            "count": 278
           },
           {
            "bin_start": 1.5131578947368425,
            "bin_end": 3.3157894736842124,
            "count": 54
           },
           {
            "bin_start": 3.3157894736842124,
            "bin_end": 5.118421052631582,
            "count": 15
           },
           {
            "bin_start": 5.118421052631582,
            "bin_end": 6.921052631578952,
            "count": 20
           },
           {
            "bin_start": 6.921052631578952,
            "bin_end": 8.723684210526322,
            "count": 7
           },
           {
            "bin_start": 8.723684210526322,
            "bin_end": 10.526315789473694,
            "count": 2
           }
          ]
         }
        },
        {
         "name": "Inflation_APU000072611",
         "dtype": "float64",
         "stats": {
          "unique_count": 413,
          "nan_count": 187,
          "min": "-9.063903281519854",
          "max": "17.41035312411351",
          "histogram": [
           {
            "bin_start": -9.063903281519854,
            "bin_end": -6.4164776409565185,
            "count": 5
           },
           {
            "bin_start": -6.4164776409565185,
            "bin_end": -3.769052000393182,
            "count": 21
           },
           {
            "bin_start": -3.769052000393182,
            "bin_end": -1.121626359829845,
            "count": 69
           },
           {
            "bin_start": -1.121626359829845,
            "bin_end": 1.5257992807334908,
            "count": 219
           },
           {
            "bin_start": 1.5257992807334908,
            "bin_end": 4.173224921296827,
            "count": 64
           },
           {
            "bin_start": 4.173224921296827,
            "bin_end": 6.820650561860164,
            "count": 23
           },
           {
            "bin_start": 6.820650561860164,
            "bin_end": 9.468076202423498,
            "count": 8
           },
           {
            "bin_start": 9.468076202423498,
            "bin_end": 12.115501842986836,
            "count": 1
           },
           {
            "bin_start": 12.115501842986836,
            "bin_end": 14.762927483550174,
            "count": 2
           },
           {
            "bin_start": 14.762927483550174,
            "bin_end": 17.41035312411351,
            "count": 1
           }
          ]
         }
        },
        {
         "name": "Inflation_APU000072620",
         "dtype": "float64",
         "stats": {
          "unique_count": 493,
          "nan_count": 83,
          "min": "-9.273182957393491",
          "max": "17.70726714431934",
          "histogram": [
           {
            "bin_start": -9.273182957393491,
            "bin_end": -6.575137947222208,
            "count": 6
           },
           {
            "bin_start": -6.575137947222208,
            "bin_end": -3.877092937050925,
            "count": 20
           },
           {
            "bin_start": -3.877092937050925,
            "bin_end": -1.179047926879642,
            "count": 92
           },
           {
            "bin_start": -1.179047926879642,
            "bin_end": 1.5189970832916408,
            "count": 272
           },
           {
            "bin_start": 1.5189970832916408,
            "bin_end": 4.217042093462924,
            "count": 94
           },
           {
            "bin_start": 4.217042093462924,
            "bin_end": 6.915087103634207,
            "count": 24
           },
           {
            "bin_start": 6.915087103634207,
            "bin_end": 9.613132113805488,
            "count": 4
           },
           {
            "bin_start": 9.613132113805488,
            "bin_end": 12.311177123976773,
            "count": 2
           },
           {
            "bin_start": 12.311177123976773,
            "bin_end": 15.009222134148057,
            "count": 2
           },
           {
            "bin_start": 15.009222134148057,
            "bin_end": 17.70726714431934,
            "count": 1
           }
          ]
         }
        },
        {
         "name": "Inflation_APU000072621",
         "dtype": "float64",
         "stats": {
          "unique_count": 413,
          "nan_count": 187,
          "min": "-5.880046136101498",
          "max": "6.805939226519338",
          "histogram": [
           {
            "bin_start": -5.880046136101498,
            "bin_end": -4.611447599839415,
            "count": 2
           },
           {
            "bin_start": -4.611447599839415,
            "bin_end": -3.3428490635773307,
            "count": 4
           },
           {
            "bin_start": -3.3428490635773307,
            "bin_end": -2.0742505273152467,
            "count": 9
           },
           {
            "bin_start": -2.0742505273152467,
            "bin_end": -0.8056519910531632,
            "count": 50
           },
           {
            "bin_start": -0.8056519910531632,
            "bin_end": 0.4629465452089203,
            "count": 208
           },
           {
            "bin_start": 0.4629465452089203,
            "bin_end": 1.7315450814710047,
            "count": 90
           },
           {
            "bin_start": 1.7315450814710047,
            "bin_end": 3.0001436177330874,
            "count": 30
           },
           {
            "bin_start": 3.0001436177330874,
            "bin_end": 4.268742153995172,
            "count": 11
           },
           {
            "bin_start": 4.268742153995172,
            "bin_end": 5.537340690257256,
            "count": 5
           },
           {
            "bin_start": 5.537340690257256,
            "bin_end": 6.805939226519338,
            "count": 4
           }
          ]
         }
        },
        {
         "name": "Inflation_APU000074714",
         "dtype": "float64",
         "stats": {
          "unique_count": 543,
          "nan_count": 47,
          "min": "-32.209265679167984",
          "max": "18.768920282542894",
          "histogram": [
           {
            "bin_start": -32.209265679167984,
            "bin_end": -27.111447082996897,
            "count": 1
           },
           {
            "bin_start": -27.111447082996897,
            "bin_end": -22.01362848682581,
            "count": 0
           },
           {
            "bin_start": -22.01362848682581,
            "bin_end": -16.91580989065472,
            "count": 3
           },
           {
            "bin_start": -16.91580989065472,
            "bin_end": -11.817991294483633,
            "count": 5
           },
           {
            "bin_start": -11.817991294483633,
            "bin_end": -6.720172698312545,
            "count": 19
           },
           {
            "bin_start": -6.720172698312545,
            "bin_end": -1.6223541021414576,
            "count": 116
           },
           {
            "bin_start": -1.6223541021414576,
            "bin_end": 3.47546449402963,
            "count": 289
           },
           {
            "bin_start": 3.47546449402963,
            "bin_end": 8.573283090200718,
            "count": 89
           },
           {
            "bin_start": 8.573283090200718,
            "bin_end": 13.671101686371806,
            "count": 27
           },
           {
            "bin_start": 13.671101686371806,
            "bin_end": 18.768920282542894,
            "count": 4
           }
          ]
         }
        },
        {
         "name": "Inflation_APU000074715",
         "dtype": "float64",
         "stats": {
          "unique_count": 338,
          "nan_count": 262,
          "min": "-30.71081409477521",
          "max": "16.19396157365051",
          "histogram": [
           {
            "bin_start": -30.71081409477521,
            "bin_end": -26.02033652793264,
            "count": 1
           },
           {
            "bin_start": -26.02033652793264,
            "bin_end": -21.329858961090068,
            "count": 0
           },
           {
            "bin_start": -21.329858961090068,
            "bin_end": -16.639381394247494,
            "count": 1
           },
           {
            "bin_start": -16.639381394247494,
            "bin_end": -11.948903827404923,
            "count": 6
           },
           {
            "bin_start": -11.948903827404923,
            "bin_end": -7.258426260562352,
            "count": 10
           },
           {
            "bin_start": -7.258426260562352,
            "bin_end": -2.567948693719778,
            "count": 50
           },
           {
            "bin_start": -2.567948693719778,
            "bin_end": 2.122528873122789,
            "count": 155
           },
           {
            "bin_start": 2.122528873122789,
            "bin_end": 6.813006439965363,
            "count": 75
           },
           {
            "bin_start": 6.813006439965363,
            "bin_end": 11.503484006807938,
            "count": 32
           },
           {
            "bin_start": 11.503484006807938,
            "bin_end": 16.19396157365051,
            "count": 8
           }
          ]
         }
        },
        {
         "name": "Inflation_APU000074716",
         "dtype": "float64",
         "stats": {
          "unique_count": 482,
          "nan_count": 115,
          "min": "-29.10839160839161",
          "max": "15.88300629396519",
          "histogram": [
           {
            "bin_start": -29.10839160839161,
            "bin_end": -24.60925181815593,
            "count": 1
           },
           {
            "bin_start": -24.60925181815593,
            "bin_end": -20.110112027920252,
            "count": 0
           },
           {
            "bin_start": -20.110112027920252,
            "bin_end": -15.610972237684571,
            "count": 1
           },
           {
            "bin_start": -15.610972237684571,
            "bin_end": -11.11183244744889,
            "count": 6
           },
           {
            "bin_start": -11.11183244744889,
            "bin_end": -6.612692657213209,
            "count": 15
           },
           {
            "bin_start": -6.612692657213209,
            "bin_end": -2.113552866977532,
            "count": 73
           },
           {
            "bin_start": -2.113552866977532,
            "bin_end": 2.385586923258149,
            "count": 272
           },
           {
            "bin_start": 2.385586923258149,
            "bin_end": 6.88472671349383,
            "count": 79
           },
           {
            "bin_start": 6.88472671349383,
            "bin_end": 11.38386650372951,
            "count": 32
           },
           {
            "bin_start": 11.38386650372951,
            "bin_end": 15.88300629396519,
            "count": 6
           }
          ]
         }
        },
        {
         "name": "Inflation_APU00007471A",
         "dtype": "float64",
         "stats": {
          "unique_count": 522,
          "nan_count": 71,
          "min": "-31.534883720930228",
          "max": "17.55725190839694",
          "histogram": [
           {
            "bin_start": -31.534883720930228,
            "bin_end": -26.62567015799751,
            "count": 1
           },
           {
            "bin_start": -26.62567015799751,
            "bin_end": -21.716456595064795,
            "count": 0
           },
           {
            "bin_start": -21.716456595064795,
            "bin_end": -16.807243032132078,
            "count": 2
           },
           {
            "bin_start": -16.807243032132078,
            "bin_end": -11.898029469199361,
            "count": 6
           },
           {
            "bin_start": -11.898029469199361,
            "bin_end": -6.988815906266645,
            "count": 17
           },
           {
            "bin_start": -6.988815906266645,
            "bin_end": -2.079602343333928,
            "count": 84
           },
           {
            "bin_start": -2.079602343333928,
            "bin_end": 2.8296112195987853,
            "count": 289
           },
           {
            "bin_start": 2.8296112195987853,
            "bin_end": 7.7388247825315055,
            "count": 96
           },
           {
            "bin_start": 7.7388247825315055,
            "bin_end": 12.648038345464226,
            "count": 27
           },
           {
            "bin_start": 12.648038345464226,
            "bin_end": 17.55725190839694,
            "count": 7
           }
          ]
         }
        },
        {
         "name": "_deepnote_index_column",
         "dtype": "datetime64[ns]"
        }
       ],
       "rows": [
        {
         "Inflation_CPI": -0.10570824524312296,
         "Inflation_APU0000701111": -1.3274336283185852,
         "Inflation_APU0000701312": -5.6672760511883045,
         "Inflation_APU0000701322": "nan",
         "Inflation_APU0000702111": -1.4981273408239713,
         "Inflation_APU0000702212": 1.849568434032047,
         "Inflation_APU0000702421": -3.619153674832959,
         "Inflation_APU0000703111": -1.7787659811006131,
         "Inflation_APU0000703112": "nan",
         "Inflation_APU0000703113": "nan",
         "Inflation_APU0000703213": "nan",
         "Inflation_APU0000703311": -0.5337399923751518,
         "Inflation_APU0000703432": "nan",
         "Inflation_APU0000703511": 2.2551092318534196,
         "Inflation_APU0000703512": "nan",
         "Inflation_APU0000703613": "nan",
         "Inflation_APU0000704111": 0.7178354500276158,
         "Inflation_APU0000704211": -1.358080579447725,
         "Inflation_APU0000704312": "nan",
         "Inflation_APU0000705121": 2.483285577841454,
         "Inflation_APU0000706111": -1.5151515151515165,
         "Inflation_APU0000706211": -1.9016393442622896,
         "Inflation_APU0000706212": -3.366696997270239,
         "Inflation_APU0000706311": -0.10869565217391314,
         "Inflation_APU0000708111": -5.461767626613699,
         "Inflation_APU0000710111": 0.5421389847215438,
         "Inflation_APU0000710211": "nan",
         "Inflation_APU0000710212": "nan",
         "Inflation_APU0000710411": -0.6746987951807342,
         "Inflation_APU0000711111": 0.4651162790697679,
         "Inflation_APU0000711211": 3.8997214484679703,
         "Inflation_APU0000711311": 1.8823529411764721,
         "Inflation_APU0000711411": -5.63002680965148,
         "Inflation_APU0000711412": -4.761904761904765,
         "Inflation_APU0000711415": "nan",
         "Inflation_APU0000711417": "nan",
         "Inflation_APU0000712112": "nan",
         "Inflation_APU0000712211": -29.478138222849083,
         "Inflation_APU0000712311": -13.65149833518313,
         "Inflation_APU0000712406": 14.609053497942401,
         "Inflation_APU0000713111": 0.9759271307742438,
         "Inflation_APU0000715211": 1.1799410029498536,
         "Inflation_APU0000715212": 1.2232415902140683,
         "Inflation_APU0000716116": "nan",
         "Inflation_APU0000716141": "nan",
         "Inflation_APU0000717311": 0.47021943573667746,
         "Inflation_APU0000718311": -0.9117281392457438,
         "Inflation_APU000072511": -3.2051282051282084,
         "Inflation_APU000072601": 3.333018154311641,
         "Inflation_APU000072610": 2.739726027397263,
         "Inflation_APU000072611": 3.9606044025421903,
         "Inflation_APU000072620": 2.9644268774703586,
         "Inflation_APU000072621": 1.8151083522695814,
         "Inflation_APU000074714": -3.748125937031487,
         "Inflation_APU000074715": "nan",
         "Inflation_APU000074716": -2.762430939226522,
         "Inflation_APU00007471A": -3.7936267071320215,
         "_deepnote_index_column": "1982-03-01T00:00:00.000000"
        },
        {
         "Inflation_CPI": 0.4232804232804293,
         "Inflation_APU0000701111": -1.345291479820629,
         "Inflation_APU0000701312": -2.325581395348839,
         "Inflation_APU0000701322": "nan",
         "Inflation_APU0000702111": 0,
         "Inflation_APU0000702212": -0.4842615012106542,
         "Inflation_APU0000702421": 3.235124205661457,
         "Inflation_APU0000703111": 0.11318619128466338,
         "Inflation_APU0000703112": "nan",
         "Inflation_APU0000703113": "nan",
         "Inflation_APU0000703213": "nan",
         "Inflation_APU0000703311": 1.3798390187811433,
         "Inflation_APU0000703432": "nan",
         "Inflation_APU0000703511": 1.6195727084769025,
         "Inflation_APU0000703512": "nan",
         "Inflation_APU0000703613": "nan",
         "Inflation_APU0000704111": 3.837719298245605,
         "Inflation_APU0000704211": 3.1206975676916047,
         "Inflation_APU0000704312": "nan",
         "Inflation_APU0000705121": 0.7455731593662634,
         "Inflation_APU0000706111": -0.41958041958042,
         "Inflation_APU0000706211": 0.6684491978609631,
         "Inflation_APU0000706212": -3.1073446327683745,
         "Inflation_APU0000706311": -2.0674646354733426,
         "Inflation_APU0000708111": -5.882352941176464,
         "Inflation_APU0000710111": 0.49019607843136215,
         "Inflation_APU0000710211": "nan",
         "Inflation_APU0000710212": "nan",
         "Inflation_APU0000710411": 1.3585638039786523,
         "Inflation_APU0000711111": -2.77777777777778,
         "Inflation_APU0000711211": 1.8766756032171599,
         "Inflation_APU0000711311": 3.233256351039264,
         "Inflation_APU0000711411": -5.965909090909081,
         "Inflation_APU0000711412": 7.419354838709684,
         "Inflation_APU0000711415": -10.039370078740156,
         "Inflation_APU0000711417": "nan",
         "Inflation_APU0000712112": "nan",
         "Inflation_APU0000712211": 39.99999999999999,
         "Inflation_APU0000712311": -14.652956298200511,
         "Inflation_APU0000712406": -15.61938958707362,
         "Inflation_APU0000713111": -2.641752577319597,
         "Inflation_APU0000715211": -1.4577259475218671,
         "Inflation_APU0000715212": -1.5105740181268894,
         "Inflation_APU0000716116": "nan",
         "Inflation_APU0000716141": "nan",
         "Inflation_APU0000717311": 0.8190327613104488,
         "Inflation_APU0000718311": -0.46005855290673864,
         "Inflation_APU000072511": -3.8079470198675534,
         "Inflation_APU000072601": 2.095438532277998,
         "Inflation_APU000072610": 0,
         "Inflation_APU000072611": 2.338056680161946,
         "Inflation_APU000072620": 1.919385796545107,
         "Inflation_APU000072621": 0.1578617892817284,
         "Inflation_APU000074714": -4.595015576323983,
         "Inflation_APU000074715": "nan",
         "Inflation_APU000074716": -4.048295454545451,
         "Inflation_APU00007471A": -4.574132492113569,
         "_deepnote_index_column": "1982-04-01T00:00:00.000000"
        },
        {
         "Inflation_CPI": 0.9483667017913503,
         "Inflation_APU0000701111": 3.63636363636364,
         "Inflation_APU0000701312": 0.7936507936507943,
         "Inflation_APU0000701322": "nan",
         "Inflation_APU0000702111": 0.5703422053231944,
         "Inflation_APU0000702212": -0.4866180048661805,
         "Inflation_APU0000702421": -1.5668718522663696,
         "Inflation_APU0000703111": 0.9044657998869425,
         "Inflation_APU0000703112": "nan",
         "Inflation_APU0000703113": "nan",
         "Inflation_APU0000703213": "nan",
         "Inflation_APU0000703311": 2.7599243856332683,
         "Inflation_APU0000703432": "nan",
         "Inflation_APU0000703511": 1.4581213970837623,
         "Inflation_APU0000703512": "nan",
         "Inflation_APU0000703613": "nan",
         "Inflation_APU0000704111": 4.6462513199577655,
         "Inflation_APU0000704211": 3.5157988429016545,
         "Inflation_APU0000704312": "nan",
         "Inflation_APU0000705121": 0.9713228492136868,
         "Inflation_APU0000706111": 1.1235955056179785,
         "Inflation_APU0000706211": -1.394422310756966,
         "Inflation_APU0000706212": 4.373177842565613,
         "Inflation_APU0000706311": 2.77777777777778,
         "Inflation_APU0000708111": -6.026785714285719,
         "Inflation_APU0000710111": 0.1951219512195124,
         "Inflation_APU0000710211": "nan",
         "Inflation_APU0000710212": "nan",
         "Inflation_APU0000710411": -2.2020105313547065,
         "Inflation_APU0000711111": 5.873015873015879,
         "Inflation_APU0000711211": -2.1052631578947385,
         "Inflation_APU0000711311": "nan",
         "Inflation_APU0000711411": 2.4169184290030232,
         "Inflation_APU0000711412": 10.060060060060051,
         "Inflation_APU0000711415": -20.131291028446395,
         "Inflation_APU0000711417": "nan",
         "Inflation_APU0000712112": "nan",
         "Inflation_APU0000712211": -25.999999999999996,
         "Inflation_APU0000712311": 4.518072289156613,
         "Inflation_APU0000712406": 12.978723404255332,
         "Inflation_APU0000713111": -1.4559894109860887,
         "Inflation_APU0000715211": -0.8875739644970422,
         "Inflation_APU0000715212": -0.9202453987730069,
         "Inflation_APU0000716116": "nan",
         "Inflation_APU0000716141": "nan",
         "Inflation_APU0000717311": -0.6963249516440926,
         "Inflation_APU0000718311": 0.8403361344537823,
         "Inflation_APU000072511": 0.7745266781411463,
         "Inflation_APU000072601": 5.0056016132646075,
         "Inflation_APU000072610": 0,
         "Inflation_APU000072611": 8.56888537236673,
         "Inflation_APU000072620": 6.5913370998116605,
         "Inflation_APU000072621": -0.981004918611911,
         "Inflation_APU000074714": 0.9795918367346947,
         "Inflation_APU000074715": "nan",
         "Inflation_APU000074716": 0.2960769800148041,
         "Inflation_APU00007471A": 1.1570247933884308,
         "_deepnote_index_column": "1982-05-01T00:00:00.000000"
        },
        {
         "Inflation_CPI": 1.2526096033402954,
         "Inflation_APU0000701111": -0.4385964912280706,
         "Inflation_APU0000701312": -1.7716535433070884,
         "Inflation_APU0000701322": "nan",
         "Inflation_APU0000702111": -0.7561436672967871,
         "Inflation_APU0000702212": -0.7334963325183246,
         "Inflation_APU0000702421": 0.5116543490619738,
         "Inflation_APU0000703111": 1.7927170868347355,
         "Inflation_APU0000703112": "nan",
         "Inflation_APU0000703113": "nan",
         "Inflation_APU0000703213": "nan",
         "Inflation_APU0000703311": 1.9499632082413516,
         "Inflation_APU0000703432": "nan",
         "Inflation_APU0000703511": 4.846256684491979,
         "Inflation_APU0000703512": "nan",
         "Inflation_APU0000703613": "nan",
         "Inflation_APU0000704111": 4.439959636730568,
         "Inflation_APU0000704211": 4.342218400687875,
         "Inflation_APU0000704312": "nan",
         "Inflation_APU0000705121": 3.0233623453962566,
         "Inflation_APU0000706111": 1.6666666666666683,
         "Inflation_APU0000706211": -0.8080808080808087,
         "Inflation_APU0000706212": -0.18621973929236513,
         "Inflation_APU0000706311": -1.1891891891891901,
         "Inflation_APU0000708111": -7.007125890736335,
         "Inflation_APU0000710111": -0.09737098344692209,
         "Inflation_APU0000710211": "nan",
         "Inflation_APU0000710212": "nan",
         "Inflation_APU0000710411": 0.8321096426823252,
         "Inflation_APU0000711111": 8.245877061469256,
         "Inflation_APU0000711211": 2.4193548387096793,
         "Inflation_APU0000711311": "nan",
         "Inflation_APU0000711411": 6.7846607669616406,
         "Inflation_APU0000711412": 15.416098226466573,
         "Inflation_APU0000711415": 6.575342465753431,
         "Inflation_APU0000711417": "nan",
         "Inflation_APU0000712112": "nan",
         "Inflation_APU0000712211": -2.8957528957528984,
         "Inflation_APU0000712311": 25.21613832853027,
         "Inflation_APU0000712406": -0.37664783427495324,
         "Inflation_APU0000713111": -0.4029550033579587,
         "Inflation_APU0000715211": 1.7910447761194044,
         "Inflation_APU0000715212": 2.1671826625387016,
         "Inflation_APU0000716116": "nan",
         "Inflation_APU0000716141": "nan",
         "Inflation_APU0000717311": -1.5582391897156227,
         "Inflation_APU0000718311": -0.6250000000000052,
         "Inflation_APU000072511": 1.96413321947053,
         "Inflation_APU000072601": -0.31580744281323864,
         "Inflation_APU000072610": 5.333333333333338,
         "Inflation_APU000072611": -0.15850747900231985,
         "Inflation_APU000072620": 0.17667844522968215,
         "Inflation_APU000072621": 4.415719852900803,
         "Inflation_APU000074714": 5.820533548908637,
         "Inflation_APU000074715": "nan",
         "Inflation_APU000074716": 4.64944649446494,
         "Inflation_APU00007471A": 5.882352941176476,
         "_deepnote_index_column": "1982-06-01T00:00:00.000000"
        },
        {
         "Inflation_CPI": 0.5154639175257731,
         "Inflation_APU0000701111": 2.2026431718061694,
         "Inflation_APU0000701312": -0.6012024048096197,
         "Inflation_APU0000701322": "nan",
         "Inflation_APU0000702111": 1.7142857142857157,
         "Inflation_APU0000702212": -0.24630541871921205,
         "Inflation_APU0000702421": -1.018099547511313,
         "Inflation_APU0000703111": -1.7061089708310355,
         "Inflation_APU0000703112": "nan",
         "Inflation_APU0000703113": "nan",
         "Inflation_APU0000703213": "nan",
         "Inflation_APU0000703311": -2.0570191266690707,
         "Inflation_APU0000703432": "nan",
         "Inflation_APU0000703511": -3.793433216448843,
         "Inflation_APU0000703512": "nan",
         "Inflation_APU0000703613": "nan",
         "Inflation_APU0000704111": 1.4975845410628086,
         "Inflation_APU0000704211": 3.131437989287188,
         "Inflation_APU0000704312": "nan",
         "Inflation_APU0000705121": 1.7785682525566935,
         "Inflation_APU0000706111": 1.092896174863389,
         "Inflation_APU0000706211": 0.47522063815342125,
         "Inflation_APU0000706212": 2.7985074626865694,
         "Inflation_APU0000706311": 2.954048140043754,
         "Inflation_APU0000708111": 8.684546615581091,
         "Inflation_APU0000710111": 0.24366471734892264,
         "Inflation_APU0000710211": "nan",
         "Inflation_APU0000710212": "nan",
         "Inflation_APU0000710411": 1.5533980582524285,
         "Inflation_APU0000711111": 1.5235457063711926,
         "Inflation_APU0000711211": -9.711286089238854,
         "Inflation_APU0000711311": "nan",
         "Inflation_APU0000711411": 9.392265193370175,
         "Inflation_APU0000711412": 4.3735224586288455,
         "Inflation_APU0000711415": -0.3856041131105402,
         "Inflation_APU0000711417": "nan",
         "Inflation_APU0000712112": "nan",
         "Inflation_APU0000712211": -3.1809145129224685,
         "Inflation_APU0000712311": -3.682393555811281,
         "Inflation_APU0000712406": -23.913043478260867,
         "Inflation_APU0000713111": -2.7646662171274543,
         "Inflation_APU0000715211": 2.052785923753651,
         "Inflation_APU0000715212": 2.121212121212123,
         "Inflation_APU0000716116": "nan",
         "Inflation_APU0000716141": "nan",
         "Inflation_APU0000717311": -0.9893153937475406,
         "Inflation_APU0000718311": 0.37735849056605203,
         "Inflation_APU000072511": 0.5025125628140708,
         "Inflation_APU000072601": -0.5779604418186556,
         "Inflation_APU000072610": 0,
         "Inflation_APU000072611": -0.390510948905107,
         "Inflation_APU000072620": -0.3527336860670197,
         "Inflation_APU000072621": 0.9356848108917961,
         "Inflation_APU000074714": 1.6806722689075646,
         "Inflation_APU000074715": "nan",
         "Inflation_APU000074716": 1.7630465444287824,
         "Inflation_APU00007471A": 1.6975308641975322,
         "_deepnote_index_column": "1982-07-01T00:00:00.000000"
        },
        {
         "Inflation_CPI": 0.20512820512820804,
         "Inflation_APU0000701111": -2.1551724137931054,
         "Inflation_APU0000701312": -0.4032258064516132,
         "Inflation_APU0000701322": "nan",
         "Inflation_APU0000702111": 0,
         "Inflation_APU0000702212": -0.7407407407407414,
         "Inflation_APU0000702421": -1.0285714285714296,
         "Inflation_APU0000703111": -1.399776035834274,
         "Inflation_APU0000703112": "nan",
         "Inflation_APU0000703113": "nan",
         "Inflation_APU0000703213": "nan",
         "Inflation_APU0000703311": -3.3898305084745792,
         "Inflation_APU0000703432": "nan",
         "Inflation_APU0000703511": -1.988071570576528,
         "Inflation_APU0000703512": "nan",
         "Inflation_APU0000703613": "nan",
         "Inflation_APU0000704111": 4.712041884816764,
         "Inflation_APU0000704211": 0.23971234518576837,
         "Inflation_APU0000704312": "nan",
         "Inflation_APU0000705121": -0.3494975972040195,
         "Inflation_APU0000706111": -3.108108108108111,
         "Inflation_APU0000706211": 0.40540540540540576,
         "Inflation_APU0000706212": -1.814882032667878,
         "Inflation_APU0000706311": 2.6567481402763042,
         "Inflation_APU0000708111": -8.578143360752051,
         "Inflation_APU0000710111": 0,
         "Inflation_APU0000710211": "nan",
         "Inflation_APU0000710212": "nan",
         "Inflation_APU0000710411": 0.1434034416826058,
         "Inflation_APU0000711111": -6.821282401091396,
         "Inflation_APU0000711211": -3.4883720930232434,
         "Inflation_APU0000711311": "nan",
         "Inflation_APU0000711411": 3.787878787878777,
         "Inflation_APU0000711412": 1.132502831257079,
         "Inflation_APU0000711415": "nan",
         "Inflation_APU0000711417": -15.871710526315793,
         "Inflation_APU0000712112": "nan",
         "Inflation_APU0000712211": -2.874743326488709,
         "Inflation_APU0000712311": -30.22700119474313,
         "Inflation_APU0000712406": -19.1304347826087,
         "Inflation_APU0000713111": 0.8321775312066583,
         "Inflation_APU0000715211": 1.1494252873563229,
         "Inflation_APU0000715212": 1.4836795252225532,
         "Inflation_APU0000716116": "nan",
         "Inflation_APU0000716141": "nan",
         "Inflation_APU0000717311": 0.5195843325339866,
         "Inflation_APU0000718311": 1.2531328320801922,
         "Inflation_APU000072511": -0.4166666666666578,
         "Inflation_APU000072601": -0.5124230288937681,
         "Inflation_APU000072610": 0,
         "Inflation_APU000072611": -0.5605832997471831,
         "Inflation_APU000072620": -0.5309734513274146,
         "Inflation_APU000072621": 0.17706949977865752,
         "Inflation_APU000074714": -0.6010518407212627,
         "Inflation_APU000074715": "nan",
         "Inflation_APU000074716": -0.2772002772002774,
         "Inflation_APU00007471A": -0.6069802731411235,
         "_deepnote_index_column": "1982-08-01T00:00:00.000000"
        },
        {
         "Inflation_CPI": 0.20470829068577567,
         "Inflation_APU0000701111": -1.7621145374449354,
         "Inflation_APU0000701312": -0.6072874493927131,
         "Inflation_APU0000701322": "nan",
         "Inflation_APU0000702111": 0.3745318352059928,
         "Inflation_APU0000702212": 1.2437810945273504,
         "Inflation_APU0000702421": 1.6743648960738982,
         "Inflation_APU0000703111": 0.4542873367404888,
         "Inflation_APU0000703112": "nan",
         "Inflation_APU0000703113": "nan",
         "Inflation_APU0000703213": "nan",
         "Inflation_APU0000703311": -0.1525553012967202,
         "Inflation_APU0000703432": "nan",
         "Inflation_APU0000703511": 1.352265043948615,
         "Inflation_APU0000703512": "nan",
         "Inflation_APU0000703613": "nan",
         "Inflation_APU0000704111": 7.272727272727258,
         "Inflation_APU0000704211": 1.3152650458349908,
         "Inflation_APU0000704312": "nan",
         "Inflation_APU0000705121": -2.3235423060061344,
         "Inflation_APU0000706111": -0.557880055788006,
         "Inflation_APU0000706211": 0.4037685060565279,
         "Inflation_APU0000706212": -1.8484288354898353,
         "Inflation_APU0000706311": -0.9316770186335412,
         "Inflation_APU0000708111": 9.51156812339331,
         "Inflation_APU0000710111": 0.1458434613514883,
         "Inflation_APU0000710211": "nan",
         "Inflation_APU0000710212": "nan",
         "Inflation_APU0000710411": 0.47732696897373683,
         "Inflation_APU0000711111": -8.199121522694004,
         "Inflation_APU0000711211": 3.313253012048196,
         "Inflation_APU0000711311": "nan",
         "Inflation_APU0000711411": -6.812652068126514,
         "Inflation_APU0000711412": -1.4557670772676385,
         "Inflation_APU0000711415": "nan",
         "Inflation_APU0000711417": -16.520039100684254,
         "Inflation_APU0000712112": "nan",
         "Inflation_APU0000712211": -7.610993657505281,
         "Inflation_APU0000712311": -6.164383561643823,
         "Inflation_APU0000712406": -4.147465437788022,
         "Inflation_APU0000713111": -1.719394773039884,
         "Inflation_APU0000715211": 1.1363636363636374,
         "Inflation_APU0000715212": 0.8771929824561249,
         "Inflation_APU0000716116": "nan",
         "Inflation_APU0000716141": "nan",
         "Inflation_APU0000717311": 0.07952286282305288,
         "Inflation_APU0000718311": -0.990099009900991,
         "Inflation_APU000072511": -0.3347280334728036,
         "Inflation_APU000072601": 2.9388850415512557,
         "Inflation_APU000072610": 0,
         "Inflation_APU000072611": 4.649963154016214,
         "Inflation_APU000072620": 2.6690391459074556,
         "Inflation_APU000072621": -0.5354682748043876,
         "Inflation_APU000074714": -1.2093726379440677,
         "Inflation_APU000074715": "nan",
         "Inflation_APU000074716": -0.6949270326615712,
         "Inflation_APU00007471A": -1.3740458015267187,
         "_deepnote_index_column": "1982-09-01T00:00:00.000000"
        },
        {
         "Inflation_CPI": 0.3064351378958091,
         "Inflation_APU0000701111": -0.896860986547086,
         "Inflation_APU0000701312": -0.6109979633401228,
         "Inflation_APU0000701322": "nan",
         "Inflation_APU0000702111": -0.37313432835820926,
         "Inflation_APU0000702212": 0.8599508599508608,
         "Inflation_APU0000702421": 1.590005678591711,
         "Inflation_APU0000703111": -0.8479366873940025,
         "Inflation_APU0000703112": "nan",
         "Inflation_APU0000703113": "nan",
         "Inflation_APU0000703213": "nan",
         "Inflation_APU0000703311": -2.215431627196327,
         "Inflation_APU0000703432": "nan",
         "Inflation_APU0000703511": -2.26817878585724,
         "Inflation_APU0000703512": "nan",
         "Inflation_APU0000703613": "nan",
         "Inflation_APU0000704111": -1.101694915254229,
         "Inflation_APU0000704211": -0.43273013375293773,
         "Inflation_APU0000704312": "nan",
         "Inflation_APU0000705121": 1.750448833034098,
         "Inflation_APU0000706111": -1.8232819074333817,
         "Inflation_APU0000706211": -1.6085790884718514,
         "Inflation_APU0000706212": -0.09416195856874876,
         "Inflation_APU0000706311": 0.8359456635318712,
         "Inflation_APU0000708111": 0.2347417840375589,
         "Inflation_APU0000710111": -0.19417475728155356,
         "Inflation_APU0000710211": "nan",
         "Inflation_APU0000710212": "nan",
         "Inflation_APU0000710411": 1.4726840855106953,
         "Inflation_APU0000711111": -7.49601275917066,
         "Inflation_APU0000711211": -7.580174927113709,
         "Inflation_APU0000711311": "nan",
         "Inflation_APU0000711411": -10.182767624020897,
         "Inflation_APU0000711412": -2.500000000000002,
         "Inflation_APU0000711415": "nan",
         "Inflation_APU0000711417": 12.646370023419202,
         "Inflation_APU0000712112": "nan",
         "Inflation_APU0000712211": 8.009153318077798,
         "Inflation_APU0000712311": 15.510948905109482,
         "Inflation_APU0000712406": 9.455128205128213,
         "Inflation_APU0000713111": 0.4198740377886637,
         "Inflation_APU0000715211": -0.2808988764044946,
         "Inflation_APU0000715212": -0.2898550724637684,
         "Inflation_APU0000716116": "nan",
         "Inflation_APU0000716141": "nan",
         "Inflation_APU0000717311": -0.6754072308303498,
         "Inflation_APU0000718311": 1.2916666666666725,
         "Inflation_APU000072511": 1.931150293870689,
         "Inflation_APU000072601": 4.696632048101574,
         "Inflation_APU000072610": -2.5316455696202556,
         "Inflation_APU000072611": 4.8887402295613,
         "Inflation_APU000072620": 4.332755632582327,
         "Inflation_APU000072621": -2.2919116686266885,
         "Inflation_APU000074714": -0.91813312930375,
         "Inflation_APU000074715": "nan",
         "Inflation_APU000074716": -0.559832050384885,
         "Inflation_APU00007471A": -0.9287925696594436,
         "_deepnote_index_column": "1982-10-01T00:00:00.000000"
        },
        {
         "Inflation_CPI": -0.20366598778004363,
         "Inflation_APU0000701111": -2.2624434389140293,
         "Inflation_APU0000701312": -0.20491803278688542,
         "Inflation_APU0000701322": "nan",
         "Inflation_APU0000702111": 0,
         "Inflation_APU0000702212": -0.3654080389768578,
         "Inflation_APU0000702421": 1.7328116266070508,
         "Inflation_APU0000703111": -0.5701254275940713,
         "Inflation_APU0000703112": "nan",
         "Inflation_APU0000703113": "nan",
         "Inflation_APU0000703213": "nan",
         "Inflation_APU0000703311": 0.742187500000005,
         "Inflation_APU0000703432": "nan",
         "Inflation_APU0000703511": 0.37542662116039854,
         "Inflation_APU0000703512": "nan",
         "Inflation_APU0000703613": "nan",
         "Inflation_APU0000704111": -6.341045415595549,
         "Inflation_APU0000704211": -0.39510075069143547,
         "Inflation_APU0000704312": "nan",
         "Inflation_APU0000705121": 1.235112483458316,
         "Inflation_APU0000706111": -0.8571428571428579,
         "Inflation_APU0000706211": -0.4768392370572136,
         "Inflation_APU0000706212": -2.5447690857681353,
         "Inflation_APU0000706311": -3.7305699481865204,
         "Inflation_APU0000708111": -0.5854800936768155,
         "Inflation_APU0000710111": -0.29182879377433013,
         "Inflation_APU0000710211": "nan",
         "Inflation_APU0000710212": "nan",
         "Inflation_APU0000710411": 2.3876404494381887,
         "Inflation_APU0000711111": -7.413793103448264,
         "Inflation_APU0000711211": 8.517350157728696,
         "Inflation_APU0000711311": "nan",
         "Inflation_APU0000711411": -10.755813953488365,
         "Inflation_APU0000711412": -8.508158508158504,
         "Inflation_APU0000711415": "nan",
         "Inflation_APU0000711417": "nan",
         "Inflation_APU0000712112": "nan",
         "Inflation_APU0000712211": 0.8474576271186449,
         "Inflation_APU0000712311": 17.53554502369668,
         "Inflation_APU0000712406": 19.76573938506587,
         "Inflation_APU0000713111": -0.06968641114983358,
         "Inflation_APU0000715211": 0,
         "Inflation_APU0000715212": -0.5813953488371938,
         "Inflation_APU0000716116": "nan",
         "Inflation_APU0000716141": "nan",
         "Inflation_APU0000717311": -0.7600000000000051,
         "Inflation_APU0000718311": -1.7688194158782458,
         "Inflation_APU000072511": 1.8945634266886435,
         "Inflation_APU000072601": 0.7751004016064313,
         "Inflation_APU000072610": -3.8961038961038996,
         "Inflation_APU000072611": -2.71227404709555,
         "Inflation_APU000072620": -0.33222591362126275,
         "Inflation_APU000072621": -1.96052209265004,
         "Inflation_APU000074714": -0.9266409266409275,
         "Inflation_APU000074715": "nan",
         "Inflation_APU000074716": -0.6333567909922674,
         "Inflation_APU00007471A": -0.9375000000000009,
         "_deepnote_index_column": "1982-11-01T00:00:00.000000"
        },
        {
         "Inflation_CPI": -0.40816326530612823,
         "Inflation_APU0000701111": 0,
         "Inflation_APU0000701312": -1.026694045174539,
         "Inflation_APU0000701322": "nan",
         "Inflation_APU0000702111": 0.5617977528089892,
         "Inflation_APU0000702212": 1.4669926650366762,
         "Inflation_APU0000702421": -1.2637362637362708,
         "Inflation_APU0000703111": 0.5733944954128446,
         "Inflation_APU0000703112": "nan",
         "Inflation_APU0000703113": "nan",
         "Inflation_APU0000703213": "nan",
         "Inflation_APU0000703311": 0.581620783249309,
         "Inflation_APU0000703432": "nan",
         "Inflation_APU0000703511": -1.4280856851411023,
         "Inflation_APU0000703512": "nan",
         "Inflation_APU0000703613": "nan",
         "Inflation_APU0000704111": -2.653247941445555,
         "Inflation_APU0000704211": -3.5700119000396615,
         "Inflation_APU0000704312": "nan",
         "Inflation_APU0000705121": -2.614379084967323,
         "Inflation_APU0000706111": -1.7291066282420604,
         "Inflation_APU0000706211": -1.5058179329226569,
         "Inflation_APU0000706212": 0.773694390715668,
         "Inflation_APU0000706311": -3.8751345532831034,
         "Inflation_APU0000708111": -4.240282685512371,
         "Inflation_APU0000710111": -1.1707317073170744,
         "Inflation_APU0000710211": "nan",
         "Inflation_APU0000710212": "nan",
         "Inflation_APU0000710411": -1.0973936899862837,
         "Inflation_APU0000711111": 3.538175046554938,
         "Inflation_APU0000711211": -2.0348837209302184,
         "Inflation_APU0000711311": "nan",
         "Inflation_APU0000711411": 0.9771986970684049,
         "Inflation_APU0000711412": -3.9490445859872643,
         "Inflation_APU0000711415": "nan",
         "Inflation_APU0000711417": "nan",
         "Inflation_APU0000712112": "nan",
         "Inflation_APU0000712211": 33.19327731092438,
         "Inflation_APU0000712311": 14.11290322580645,
         "Inflation_APU0000712406": -5.378973105134466,
         "Inflation_APU0000713111": -1.6736401673640184,
         "Inflation_APU0000715211": -0.845070422535212,
         "Inflation_APU0000715212": -0.2923976608187137,
         "Inflation_APU0000716116": "nan",
         "Inflation_APU0000716141": "nan",
         "Inflation_APU0000717311": 0.8061265618702143,
         "Inflation_APU0000718311": 0.2931323283082126,
         "Inflation_APU000072511": -0.6467259498787393,
         "Inflation_APU000072601": 2.56645279560036,
         "Inflation_APU000072610": 1.3513513513513526,
         "Inflation_APU000072611": 2.054688173898034,
         "Inflation_APU000072620": 2.1666666666666687,
         "Inflation_APU000072621": 1.1430909834947398,
         "Inflation_APU000074714": -1.7926734216679587,
         "Inflation_APU000074715": "nan",
         "Inflation_APU000074716": -1.274787535410766,
         "Inflation_APU00007471A": -1.89274447949527,
         "_deepnote_index_column": "1982-12-01T00:00:00.000000"
        }
       ]
      },
      "text/plain": "            Inflation_CPI  Inflation_APU0000701111  Inflation_APU0000701312  \\\nDate                                                                          \n1973-01-01            NaN                      NaN                      NaN   \n1973-02-01       0.704225                      NaN                      NaN   \n1973-03-01       0.932401                      NaN                      NaN   \n1973-04-01       0.692841                      NaN                      NaN   \n1973-05-01       0.688073                      NaN                      NaN   \n...                   ...                      ...                      ...   \n2022-08-01            NaN                      NaN                      NaN   \n2022-09-01            NaN                      NaN                      NaN   \n2022-10-01            NaN                      NaN                      NaN   \n2022-11-01            NaN                      NaN                      NaN   \n2022-12-01            NaN                      NaN                      NaN   \n\n            Inflation_APU0000701322  Inflation_APU0000702111  \\\nDate                                                           \n1973-01-01                      NaN                      NaN   \n1973-02-01                      NaN                      NaN   \n1973-03-01                      NaN                      NaN   \n1973-04-01                      NaN                      NaN   \n1973-05-01                      NaN                      NaN   \n...                             ...                      ...   \n2022-08-01                      NaN                      NaN   \n2022-09-01                      NaN                      NaN   \n2022-10-01                      NaN                      NaN   \n2022-11-01                      NaN                      NaN   \n2022-12-01                      NaN                      NaN   \n\n            Inflation_APU0000702212  Inflation_APU0000702421  \\\nDate                                                           \n1973-01-01                      NaN                      NaN   \n1973-02-01                      NaN                      NaN   \n1973-03-01                      NaN                      NaN   \n1973-04-01                      NaN                      NaN   \n1973-05-01                      NaN                      NaN   \n...                             ...                      ...   \n2022-08-01                      NaN                      NaN   \n2022-09-01                      NaN                      NaN   \n2022-10-01                      NaN                      NaN   \n2022-11-01                      NaN                      NaN   \n2022-12-01                      NaN                      NaN   \n\n            Inflation_APU0000703111  Inflation_APU0000703112  \\\nDate                                                           \n1973-01-01                      NaN                      NaN   \n1973-02-01                      NaN                      NaN   \n1973-03-01                      NaN                      NaN   \n1973-04-01                      NaN                      NaN   \n1973-05-01                      NaN                      NaN   \n...                             ...                      ...   \n2022-08-01                      NaN                      NaN   \n2022-09-01                      NaN                      NaN   \n2022-10-01                      NaN                      NaN   \n2022-11-01                      NaN                      NaN   \n2022-12-01                      NaN                      NaN   \n\n            Inflation_APU0000703113  ...  Inflation_APU000072511  \\\nDate                                 ...                           \n1973-01-01                      NaN  ...                     NaN   \n1973-02-01                      NaN  ...                     NaN   \n1973-03-01                      NaN  ...                     NaN   \n1973-04-01                      NaN  ...                     NaN   \n1973-05-01                      NaN  ...                     NaN   \n...                             ...  ...                     ...   \n2022-08-01                      NaN  ...                     NaN   \n2022-09-01                      NaN  ...                     NaN   \n2022-10-01                      NaN  ...                     NaN   \n2022-11-01                      NaN  ...                     NaN   \n2022-12-01                      NaN  ...                     NaN   \n\n            Inflation_APU000072601  Inflation_APU000072610  \\\nDate                                                         \n1973-01-01                     NaN                     NaN   \n1973-02-01                     NaN                     NaN   \n1973-03-01                     NaN                     NaN   \n1973-04-01                     NaN                     NaN   \n1973-05-01                     NaN                     NaN   \n...                            ...                     ...   \n2022-08-01                     NaN                     NaN   \n2022-09-01                     NaN                     NaN   \n2022-10-01                     NaN                     NaN   \n2022-11-01                     NaN                     NaN   \n2022-12-01                     NaN                     NaN   \n\n            Inflation_APU000072611  Inflation_APU000072620  \\\nDate                                                         \n1973-01-01                     NaN                     NaN   \n1973-02-01                     NaN                     NaN   \n1973-03-01                     NaN                     NaN   \n1973-04-01                     NaN                     NaN   \n1973-05-01                     NaN                     NaN   \n...                            ...                     ...   \n2022-08-01                     NaN                     NaN   \n2022-09-01                     NaN                     NaN   \n2022-10-01                     NaN                     NaN   \n2022-11-01                     NaN                     NaN   \n2022-12-01                     NaN                     NaN   \n\n            Inflation_APU000072621  Inflation_APU000074714  \\\nDate                                                         \n1973-01-01                     NaN                     NaN   \n1973-02-01                     NaN                     NaN   \n1973-03-01                     NaN                     NaN   \n1973-04-01                     NaN                     NaN   \n1973-05-01                     NaN                     NaN   \n...                            ...                     ...   \n2022-08-01                     NaN                     NaN   \n2022-09-01                     NaN                     NaN   \n2022-10-01                     NaN                     NaN   \n2022-11-01                     NaN                     NaN   \n2022-12-01                     NaN                     NaN   \n\n            Inflation_APU000074715  Inflation_APU000074716  \\\nDate                                                         \n1973-01-01                     NaN                     NaN   \n1973-02-01                     NaN                     NaN   \n1973-03-01                     NaN                     NaN   \n1973-04-01                     NaN                     NaN   \n1973-05-01                     NaN                     NaN   \n...                            ...                     ...   \n2022-08-01                     NaN                     NaN   \n2022-09-01                     NaN                     NaN   \n2022-10-01                     NaN                     NaN   \n2022-11-01                     NaN                     NaN   \n2022-12-01                     NaN                     NaN   \n\n            Inflation_APU00007471A  \nDate                                \n1973-01-01                     NaN  \n1973-02-01                     NaN  \n1973-03-01                     NaN  \n1973-04-01                     NaN  \n1973-05-01                     NaN  \n...                            ...  \n2022-08-01                     NaN  \n2022-09-01                     NaN  \n2022-10-01                     NaN  \n2022-11-01                     NaN  \n2022-12-01                     NaN  \n\n[600 rows x 57 columns]",
      "text/html": "<div>\n<style scoped>\n    .dataframe tbody tr th:only-of-type {\n        vertical-align: middle;\n    }\n\n    .dataframe tbody tr th {\n        vertical-align: top;\n    }\n\n    .dataframe thead th {\n        text-align: right;\n    }\n</style>\n<table border=\"1\" class=\"dataframe\">\n  <thead>\n    <tr style=\"text-align: right;\">\n      <th></th>\n      <th>Inflation_CPI</th>\n      <th>Inflation_APU0000701111</th>\n      <th>Inflation_APU0000701312</th>\n      <th>Inflation_APU0000701322</th>\n      <th>Inflation_APU0000702111</th>\n      <th>Inflation_APU0000702212</th>\n      <th>Inflation_APU0000702421</th>\n      <th>Inflation_APU0000703111</th>\n      <th>Inflation_APU0000703112</th>\n      <th>Inflation_APU0000703113</th>\n      <th>...</th>\n      <th>Inflation_APU000072511</th>\n      <th>Inflation_APU000072601</th>\n      <th>Inflation_APU000072610</th>\n      <th>Inflation_APU000072611</th>\n      <th>Inflation_APU000072620</th>\n      <th>Inflation_APU000072621</th>\n      <th>Inflation_APU000074714</th>\n      <th>Inflation_APU000074715</th>\n      <th>Inflation_APU000074716</th>\n      <th>Inflation_APU00007471A</th>\n    </tr>\n    <tr>\n      <th>Date</th>\n      <th></th>\n      <th></th>\n      <th></th>\n      <th></th>\n      <th></th>\n      <th></th>\n      <th></th>\n      <th></th>\n      <th></th>\n      <th></th>\n      <th></th>\n      <th></th>\n      <th></th>\n      <th></th>\n      <th></th>\n      <th></th>\n      <th></th>\n      <th></th>\n      <th></th>\n      <th></th>\n      <th></th>\n    </tr>\n  </thead>\n  <tbody>\n    <tr>\n      <th>1973-01-01</th>\n      <td>NaN</td>\n      <td>NaN</td>\n      <td>NaN</td>\n      <td>NaN</td>\n      <td>NaN</td>\n      <td>NaN</td>\n      <td>NaN</td>\n      <td>NaN</td>\n      <td>NaN</td>\n      <td>NaN</td>\n      <td>...</td>\n      <td>NaN</td>\n      <td>NaN</td>\n      <td>NaN</td>\n      <td>NaN</td>\n      <td>NaN</td>\n      <td>NaN</td>\n      <td>NaN</td>\n      <td>NaN</td>\n      <td>NaN</td>\n      <td>NaN</td>\n    </tr>\n    <tr>\n      <th>1973-02-01</th>\n      <td>0.704225</td>\n      <td>NaN</td>\n      <td>NaN</td>\n      <td>NaN</td>\n      <td>NaN</td>\n      <td>NaN</td>\n      <td>NaN</td>\n      <td>NaN</td>\n      <td>NaN</td>\n      <td>NaN</td>\n      <td>...</td>\n      <td>NaN</td>\n      <td>NaN</td>\n      <td>NaN</td>\n      <td>NaN</td>\n      <td>NaN</td>\n      <td>NaN</td>\n      <td>NaN</td>\n      <td>NaN</td>\n      <td>NaN</td>\n      <td>NaN</td>\n    </tr>\n    <tr>\n      <th>1973-03-01</th>\n      <td>0.932401</td>\n      <td>NaN</td>\n      <td>NaN</td>\n      <td>NaN</td>\n      <td>NaN</td>\n      <td>NaN</td>\n      <td>NaN</td>\n      <td>NaN</td>\n      <td>NaN</td>\n      <td>NaN</td>\n      <td>...</td>\n      <td>NaN</td>\n      <td>NaN</td>\n      <td>NaN</td>\n      <td>NaN</td>\n      <td>NaN</td>\n      <td>NaN</td>\n      <td>NaN</td>\n      <td>NaN</td>\n      <td>NaN</td>\n      <td>NaN</td>\n    </tr>\n    <tr>\n      <th>1973-04-01</th>\n      <td>0.692841</td>\n      <td>NaN</td>\n      <td>NaN</td>\n      <td>NaN</td>\n      <td>NaN</td>\n      <td>NaN</td>\n      <td>NaN</td>\n      <td>NaN</td>\n      <td>NaN</td>\n      <td>NaN</td>\n      <td>...</td>\n      <td>NaN</td>\n      <td>NaN</td>\n      <td>NaN</td>\n      <td>NaN</td>\n      <td>NaN</td>\n      <td>NaN</td>\n      <td>NaN</td>\n      <td>NaN</td>\n      <td>NaN</td>\n      <td>NaN</td>\n    </tr>\n    <tr>\n      <th>1973-05-01</th>\n      <td>0.688073</td>\n      <td>NaN</td>\n      <td>NaN</td>\n      <td>NaN</td>\n      <td>NaN</td>\n      <td>NaN</td>\n      <td>NaN</td>\n      <td>NaN</td>\n      <td>NaN</td>\n      <td>NaN</td>\n      <td>...</td>\n      <td>NaN</td>\n      <td>NaN</td>\n      <td>NaN</td>\n      <td>NaN</td>\n      <td>NaN</td>\n      <td>NaN</td>\n      <td>NaN</td>\n      <td>NaN</td>\n      <td>NaN</td>\n      <td>NaN</td>\n    </tr>\n    <tr>\n      <th>...</th>\n      <td>...</td>\n      <td>...</td>\n      <td>...</td>\n      <td>...</td>\n      <td>...</td>\n      <td>...</td>\n      <td>...</td>\n      <td>...</td>\n      <td>...</td>\n      <td>...</td>\n      <td>...</td>\n      <td>...</td>\n      <td>...</td>\n      <td>...</td>\n      <td>...</td>\n      <td>...</td>\n      <td>...</td>\n      <td>...</td>\n      <td>...</td>\n      <td>...</td>\n      <td>...</td>\n    </tr>\n    <tr>\n      <th>2022-08-01</th>\n      <td>NaN</td>\n      <td>NaN</td>\n      <td>NaN</td>\n      <td>NaN</td>\n      <td>NaN</td>\n      <td>NaN</td>\n      <td>NaN</td>\n      <td>NaN</td>\n      <td>NaN</td>\n      <td>NaN</td>\n      <td>...</td>\n      <td>NaN</td>\n      <td>NaN</td>\n      <td>NaN</td>\n      <td>NaN</td>\n      <td>NaN</td>\n      <td>NaN</td>\n      <td>NaN</td>\n      <td>NaN</td>\n      <td>NaN</td>\n      <td>NaN</td>\n    </tr>\n    <tr>\n      <th>2022-09-01</th>\n      <td>NaN</td>\n      <td>NaN</td>\n      <td>NaN</td>\n      <td>NaN</td>\n      <td>NaN</td>\n      <td>NaN</td>\n      <td>NaN</td>\n      <td>NaN</td>\n      <td>NaN</td>\n      <td>NaN</td>\n      <td>...</td>\n      <td>NaN</td>\n      <td>NaN</td>\n      <td>NaN</td>\n      <td>NaN</td>\n      <td>NaN</td>\n      <td>NaN</td>\n      <td>NaN</td>\n      <td>NaN</td>\n      <td>NaN</td>\n      <td>NaN</td>\n    </tr>\n    <tr>\n      <th>2022-10-01</th>\n      <td>NaN</td>\n      <td>NaN</td>\n      <td>NaN</td>\n      <td>NaN</td>\n      <td>NaN</td>\n      <td>NaN</td>\n      <td>NaN</td>\n      <td>NaN</td>\n      <td>NaN</td>\n      <td>NaN</td>\n      <td>...</td>\n      <td>NaN</td>\n      <td>NaN</td>\n      <td>NaN</td>\n      <td>NaN</td>\n      <td>NaN</td>\n      <td>NaN</td>\n      <td>NaN</td>\n      <td>NaN</td>\n      <td>NaN</td>\n      <td>NaN</td>\n    </tr>\n    <tr>\n      <th>2022-11-01</th>\n      <td>NaN</td>\n      <td>NaN</td>\n      <td>NaN</td>\n      <td>NaN</td>\n      <td>NaN</td>\n      <td>NaN</td>\n      <td>NaN</td>\n      <td>NaN</td>\n      <td>NaN</td>\n      <td>NaN</td>\n      <td>...</td>\n      <td>NaN</td>\n      <td>NaN</td>\n      <td>NaN</td>\n      <td>NaN</td>\n      <td>NaN</td>\n      <td>NaN</td>\n      <td>NaN</td>\n      <td>NaN</td>\n      <td>NaN</td>\n      <td>NaN</td>\n    </tr>\n    <tr>\n      <th>2022-12-01</th>\n      <td>NaN</td>\n      <td>NaN</td>\n      <td>NaN</td>\n      <td>NaN</td>\n      <td>NaN</td>\n      <td>NaN</td>\n      <td>NaN</td>\n      <td>NaN</td>\n      <td>NaN</td>\n      <td>NaN</td>\n      <td>...</td>\n      <td>NaN</td>\n      <td>NaN</td>\n      <td>NaN</td>\n      <td>NaN</td>\n      <td>NaN</td>\n      <td>NaN</td>\n      <td>NaN</td>\n      <td>NaN</td>\n      <td>NaN</td>\n      <td>NaN</td>\n    </tr>\n  </tbody>\n</table>\n<p>600 rows × 57 columns</p>\n</div>"
     },
     "metadata": {}
    }
   ],
   "execution_count": 43
  },
  {
   "cell_type": "code",
   "source": "above_or_below = {}\n\nfor column in inflation_compare.columns:\n    if column == 'Inflation_CPI':\n        continue\n    else:\n        temp_compare = inflation_compare[['Inflation_CPI',column]].dropna()\n        #https://www.geeksforgeeks.org/how-to-compare-two-columns-in-pandas/\n        temp_compare['temp_greater_less'] = np.where((temp_compare['Inflation_CPI'] >= temp_compare[column]), 'below', 'above')\n        count_above = sum(temp_compare['temp_greater_less'] == 'above')\n        count_below = sum(temp_compare['temp_greater_less'] == 'below')\n        pct_above = round(count_above/(count_above+count_below)*100,2)\n        pct_below = round(count_below/(count_below+count_above)*100,2)\n        \n        actual_name = column.split('_')[1]\n        above_or_below[actual_name] = {'CountAbove': count_above, 'CountBelow': count_below, 'PercentAbove': pct_above,'PercentBelow': pct_below}\n\n\nitem_results = pd.DataFrame(above_or_below).T\nitem_results.reset_index(inplace = True)\nitem_results.rename(columns = {'index': 'ItemName'},inplace = True)\nitem_results",
   "metadata": {
    "cell_id": "fd730aa992764a3bb9bf85f0763fec85",
    "tags": [],
    "deepnote_to_be_reexecuted": false,
    "source_hash": "ee2b5162",
    "execution_start": 1649181373121,
    "execution_millis": 876,
    "deepnote_cell_type": "code",
    "deepnote_cell_height": 978.234375,
    "deepnote_output_heights": [
     611
    ]
   },
   "outputs": [
    {
     "output_type": "execute_result",
     "execution_count": 77,
     "data": {
      "application/vnd.deepnote.dataframe.v3+json": {
       "column_count": 5,
       "row_count": 56,
       "columns": [
        {
         "name": "ItemName",
         "dtype": "object",
         "stats": {
          "unique_count": 56,
          "nan_count": 0,
          "categories": [
           {
            "name": "APU0000701111",
            "count": 1
           },
           {
            "name": "APU0000701312",
            "count": 1
           },
           {
            "name": "54 others",
            "count": 54
           }
          ]
         }
        },
        {
         "name": "CountAbove",
         "dtype": "float64",
         "stats": {
          "unique_count": 45,
          "nan_count": 0,
          "min": "162.0",
          "max": "268.0",
          "histogram": [
           {
            "bin_start": 162,
            "bin_end": 172.6,
            "count": 4
           },
           {
            "bin_start": 172.6,
            "bin_end": 183.2,
            "count": 6
           },
           {
            "bin_start": 183.2,
            "bin_end": 193.8,
            "count": 7
           },
           {
            "bin_start": 193.8,
            "bin_end": 204.4,
            "count": 4
           },
           {
            "bin_start": 204.4,
            "bin_end": 215,
            "count": 2
           },
           {
            "bin_start": 215,
            "bin_end": 225.6,
            "count": 6
           },
           {
            "bin_start": 225.6,
            "bin_end": 236.2,
            "count": 9
           },
           {
            "bin_start": 236.2,
            "bin_end": 246.8,
            "count": 9
           },
           {
            "bin_start": 246.8,
            "bin_end": 257.4,
            "count": 7
           },
           {
            "bin_start": 257.4,
            "bin_end": 268,
            "count": 2
           }
          ]
         }
        },
        {
         "name": "CountBelow",
         "dtype": "float64",
         "stats": {
          "unique_count": 43,
          "nan_count": 0,
          "min": "166.0",
          "max": "313.0",
          "histogram": [
           {
            "bin_start": 166,
            "bin_end": 180.7,
            "count": 6
           },
           {
            "bin_start": 180.7,
            "bin_end": 195.4,
            "count": 6
           },
           {
            "bin_start": 195.4,
            "bin_end": 210.1,
            "count": 4
           },
           {
            "bin_start": 210.1,
            "bin_end": 224.8,
            "count": 3
           },
           {
            "bin_start": 224.8,
            "bin_end": 239.5,
            "count": 8
           },
           {
            "bin_start": 239.5,
            "bin_end": 254.2,
            "count": 7
           },
           {
            "bin_start": 254.2,
            "bin_end": 268.9,
            "count": 10
           },
           {
            "bin_start": 268.9,
            "bin_end": 283.6,
            "count": 8
           },
           {
            "bin_start": 283.6,
            "bin_end": 298.29999999999995,
            "count": 2
           },
           {
            "bin_start": 298.29999999999995,
            "bin_end": 313,
            "count": 2
           }
          ]
         }
        },
        {
         "name": "PercentAbove",
         "dtype": "float64",
         "stats": {
          "unique_count": 49,
          "nan_count": 0,
          "min": "38.83",
          "max": "58.74",
          "histogram": [
           {
            "bin_start": 38.83,
            "bin_end": 40.821,
            "count": 2
           },
           {
            "bin_start": 40.821,
            "bin_end": 42.812,
            "count": 1
           },
           {
            "bin_start": 42.812,
            "bin_end": 44.803,
            "count": 3
           },
           {
            "bin_start": 44.803,
            "bin_end": 46.794,
            "count": 11
           },
           {
            "bin_start": 46.794,
            "bin_end": 48.785,
            "count": 20
           },
           {
            "bin_start": 48.785,
            "bin_end": 50.775999999999996,
            "count": 11
           },
           {
            "bin_start": 50.775999999999996,
            "bin_end": 52.767,
            "count": 5
           },
           {
            "bin_start": 52.767,
            "bin_end": 54.758,
            "count": 1
           },
           {
            "bin_start": 54.758,
            "bin_end": 56.749,
            "count": 1
           },
           {
            "bin_start": 56.749,
            "bin_end": 58.74,
            "count": 1
           }
          ]
         }
        },
        {
         "name": "PercentBelow",
         "dtype": "float64",
         "stats": {
          "unique_count": 49,
          "nan_count": 0,
          "min": "41.26",
          "max": "61.17",
          "histogram": [
           {
            "bin_start": 41.26,
            "bin_end": 43.251,
            "count": 1
           },
           {
            "bin_start": 43.251,
            "bin_end": 45.242,
            "count": 1
           },
           {
            "bin_start": 45.242,
            "bin_end": 47.233,
            "count": 1
           },
           {
            "bin_start": 47.233,
            "bin_end": 49.224,
            "count": 5
           },
           {
            "bin_start": 49.224,
            "bin_end": 51.215,
            "count": 11
           },
           {
            "bin_start": 51.215,
            "bin_end": 53.206,
            "count": 20
           },
           {
            "bin_start": 53.206,
            "bin_end": 55.197,
            "count": 11
           },
           {
            "bin_start": 55.197,
            "bin_end": 57.188,
            "count": 3
           },
           {
            "bin_start": 57.188,
            "bin_end": 59.179,
            "count": 1
           },
           {
            "bin_start": 59.179,
            "bin_end": 61.17,
            "count": 2
           }
          ]
         }
        },
        {
         "name": "_deepnote_index_column",
         "dtype": "int64"
        }
       ],
       "rows": [
        {
         "ItemName": "APU0000701111",
         "CountAbove": 217,
         "CountBelow": 286,
         "PercentAbove": 43.14,
         "PercentBelow": 56.86,
         "_deepnote_index_column": 0
        },
        {
         "ItemName": "APU0000701312",
         "CountAbove": 209,
         "CountBelow": 269,
         "PercentAbove": 43.72,
         "PercentBelow": 56.28,
         "_deepnote_index_column": 1
        },
        {
         "ItemName": "APU0000701322",
         "CountAbove": 218,
         "CountBelow": 239,
         "PercentAbove": 47.7,
         "PercentBelow": 52.3,
         "_deepnote_index_column": 2
        },
        {
         "ItemName": "APU0000702111",
         "CountAbove": 240,
         "CountBelow": 265,
         "PercentAbove": 47.52,
         "PercentBelow": 52.48,
         "_deepnote_index_column": 3
        },
        {
         "ItemName": "APU0000702212",
         "CountAbove": 222,
         "CountBelow": 236,
         "PercentAbove": 48.47,
         "PercentBelow": 51.53,
         "_deepnote_index_column": 4
        },
        {
         "ItemName": "APU0000702421",
         "CountAbove": 255,
         "CountBelow": 250,
         "PercentAbove": 50.5,
         "PercentBelow": 49.5,
         "_deepnote_index_column": 5
        },
        {
         "ItemName": "APU0000703111",
         "CountAbove": 238,
         "CountBelow": 267,
         "PercentAbove": 47.13,
         "PercentBelow": 52.87,
         "_deepnote_index_column": 6
        },
        {
         "ItemName": "APU0000703112",
         "CountAbove": 226,
         "CountBelow": 229,
         "PercentAbove": 49.67,
         "PercentBelow": 50.33,
         "_deepnote_index_column": 7
        },
        {
         "ItemName": "APU0000703113",
         "CountAbove": 190,
         "CountBelow": 183,
         "PercentAbove": 50.94,
         "PercentBelow": 49.06,
         "_deepnote_index_column": 8
        },
        {
         "ItemName": "APU0000703213",
         "CountAbove": 190,
         "CountBelow": 207,
         "PercentAbove": 47.86,
         "PercentBelow": 52.14,
         "_deepnote_index_column": 9
        }
       ]
      },
      "text/plain": "         ItemName  CountAbove  CountBelow  PercentAbove  PercentBelow\n0   APU0000701111       217.0       286.0         43.14         56.86\n1   APU0000701312       209.0       269.0         43.72         56.28\n2   APU0000701322       218.0       239.0         47.70         52.30\n3   APU0000702111       240.0       265.0         47.52         52.48\n4   APU0000702212       222.0       236.0         48.47         51.53\n5   APU0000702421       255.0       250.0         50.50         49.50\n6   APU0000703111       238.0       267.0         47.13         52.87\n7   APU0000703112       226.0       229.0         49.67         50.33\n8   APU0000703113       190.0       183.0         50.94         49.06\n9   APU0000703213       190.0       207.0         47.86         52.14\n10  APU0000703311       233.0       272.0         46.14         53.86\n11  APU0000703432       183.0       177.0         50.83         49.17\n12  APU0000703511       241.0       264.0         47.72         52.28\n13  APU0000703512       167.0       166.0         50.15         49.85\n14  APU0000703613       190.0       207.0         47.86         52.14\n15  APU0000704111       253.0       252.0         50.10         49.90\n16  APU0000704211       232.0       273.0         45.94         54.06\n17  APU0000704312       187.0       184.0         50.40         49.60\n18  APU0000705121       225.0       251.0         47.27         52.73\n19  APU0000706111       238.0       265.0         47.32         52.68\n20  APU0000706211       162.0       183.0         46.96         53.04\n21  APU0000706212       238.0       265.0         47.32         52.68\n22  APU0000706311       268.0       211.0         55.95         44.05\n23  APU0000708111       250.0       255.0         49.50         50.50\n24  APU0000710111       180.0       202.0         47.12         52.88\n25  APU0000710211       197.0       237.0         45.39         54.61\n26  APU0000710212       207.0       233.0         47.05         52.95\n27  APU0000710411       248.0       255.0         49.30         50.70\n28  APU0000711111       262.0       184.0         58.74         41.26\n29  APU0000711211       229.0       273.0         45.62         54.38\n30  APU0000711311       162.0       167.0         49.24         50.76\n31  APU0000711411       256.0       220.0         53.78         46.22\n32  APU0000711412       230.0       253.0         47.62         52.38\n33  APU0000711415       196.0       176.0         52.69         47.31\n34  APU0000711417       193.0       192.0         50.13         49.87\n35  APU0000712112       217.0       208.0         51.06         48.94\n36  APU0000712211       230.0       246.0         48.32         51.68\n37  APU0000712311       251.0       246.0         50.50         49.50\n38  APU0000712406       178.0       195.0         47.72         52.28\n39  APU0000713111       244.0       261.0         48.32         51.68\n40  APU0000715211       234.0       271.0         46.34         53.66\n41  APU0000715212       228.0       251.0         47.60         52.40\n42  APU0000716116       184.0       176.0         51.11         48.89\n43  APU0000716141       194.0       213.0         47.67         52.33\n44  APU0000717311       179.0       282.0         38.83         61.17\n45  APU0000718311       240.0       265.0         47.52         52.48\n46   APU000072511       236.0       281.0         45.65         54.35\n47   APU000072601       188.0       225.0         45.52         54.48\n48   APU000072610       204.0       313.0         39.46         60.54\n49   APU000072611       183.0       230.0         44.31         55.69\n50   APU000072620       240.0       277.0         46.42         53.58\n51   APU000072621       175.0       238.0         42.37         57.63\n52   APU000074714       253.0       300.0         45.75         54.25\n53   APU000074715       168.0       170.0         49.70         50.30\n54   APU000074716       224.0       261.0         46.19         53.81\n55   APU00007471A       243.0       286.0         45.94         54.06",
      "text/html": "<div>\n<style scoped>\n    .dataframe tbody tr th:only-of-type {\n        vertical-align: middle;\n    }\n\n    .dataframe tbody tr th {\n        vertical-align: top;\n    }\n\n    .dataframe thead th {\n        text-align: right;\n    }\n</style>\n<table border=\"1\" class=\"dataframe\">\n  <thead>\n    <tr style=\"text-align: right;\">\n      <th></th>\n      <th>ItemName</th>\n      <th>CountAbove</th>\n      <th>CountBelow</th>\n      <th>PercentAbove</th>\n      <th>PercentBelow</th>\n    </tr>\n  </thead>\n  <tbody>\n    <tr>\n      <th>0</th>\n      <td>APU0000701111</td>\n      <td>217.0</td>\n      <td>286.0</td>\n      <td>43.14</td>\n      <td>56.86</td>\n    </tr>\n    <tr>\n      <th>1</th>\n      <td>APU0000701312</td>\n      <td>209.0</td>\n      <td>269.0</td>\n      <td>43.72</td>\n      <td>56.28</td>\n    </tr>\n    <tr>\n      <th>2</th>\n      <td>APU0000701322</td>\n      <td>218.0</td>\n      <td>239.0</td>\n      <td>47.70</td>\n      <td>52.30</td>\n    </tr>\n    <tr>\n      <th>3</th>\n      <td>APU0000702111</td>\n      <td>240.0</td>\n      <td>265.0</td>\n      <td>47.52</td>\n      <td>52.48</td>\n    </tr>\n    <tr>\n      <th>4</th>\n      <td>APU0000702212</td>\n      <td>222.0</td>\n      <td>236.0</td>\n      <td>48.47</td>\n      <td>51.53</td>\n    </tr>\n    <tr>\n      <th>5</th>\n      <td>APU0000702421</td>\n      <td>255.0</td>\n      <td>250.0</td>\n      <td>50.50</td>\n      <td>49.50</td>\n    </tr>\n    <tr>\n      <th>6</th>\n      <td>APU0000703111</td>\n      <td>238.0</td>\n      <td>267.0</td>\n      <td>47.13</td>\n      <td>52.87</td>\n    </tr>\n    <tr>\n      <th>7</th>\n      <td>APU0000703112</td>\n      <td>226.0</td>\n      <td>229.0</td>\n      <td>49.67</td>\n      <td>50.33</td>\n    </tr>\n    <tr>\n      <th>8</th>\n      <td>APU0000703113</td>\n      <td>190.0</td>\n      <td>183.0</td>\n      <td>50.94</td>\n      <td>49.06</td>\n    </tr>\n    <tr>\n      <th>9</th>\n      <td>APU0000703213</td>\n      <td>190.0</td>\n      <td>207.0</td>\n      <td>47.86</td>\n      <td>52.14</td>\n    </tr>\n    <tr>\n      <th>10</th>\n      <td>APU0000703311</td>\n      <td>233.0</td>\n      <td>272.0</td>\n      <td>46.14</td>\n      <td>53.86</td>\n    </tr>\n    <tr>\n      <th>11</th>\n      <td>APU0000703432</td>\n      <td>183.0</td>\n      <td>177.0</td>\n      <td>50.83</td>\n      <td>49.17</td>\n    </tr>\n    <tr>\n      <th>12</th>\n      <td>APU0000703511</td>\n      <td>241.0</td>\n      <td>264.0</td>\n      <td>47.72</td>\n      <td>52.28</td>\n    </tr>\n    <tr>\n      <th>13</th>\n      <td>APU0000703512</td>\n      <td>167.0</td>\n      <td>166.0</td>\n      <td>50.15</td>\n      <td>49.85</td>\n    </tr>\n    <tr>\n      <th>14</th>\n      <td>APU0000703613</td>\n      <td>190.0</td>\n      <td>207.0</td>\n      <td>47.86</td>\n      <td>52.14</td>\n    </tr>\n    <tr>\n      <th>15</th>\n      <td>APU0000704111</td>\n      <td>253.0</td>\n      <td>252.0</td>\n      <td>50.10</td>\n      <td>49.90</td>\n    </tr>\n    <tr>\n      <th>16</th>\n      <td>APU0000704211</td>\n      <td>232.0</td>\n      <td>273.0</td>\n      <td>45.94</td>\n      <td>54.06</td>\n    </tr>\n    <tr>\n      <th>17</th>\n      <td>APU0000704312</td>\n      <td>187.0</td>\n      <td>184.0</td>\n      <td>50.40</td>\n      <td>49.60</td>\n    </tr>\n    <tr>\n      <th>18</th>\n      <td>APU0000705121</td>\n      <td>225.0</td>\n      <td>251.0</td>\n      <td>47.27</td>\n      <td>52.73</td>\n    </tr>\n    <tr>\n      <th>19</th>\n      <td>APU0000706111</td>\n      <td>238.0</td>\n      <td>265.0</td>\n      <td>47.32</td>\n      <td>52.68</td>\n    </tr>\n    <tr>\n      <th>20</th>\n      <td>APU0000706211</td>\n      <td>162.0</td>\n      <td>183.0</td>\n      <td>46.96</td>\n      <td>53.04</td>\n    </tr>\n    <tr>\n      <th>21</th>\n      <td>APU0000706212</td>\n      <td>238.0</td>\n      <td>265.0</td>\n      <td>47.32</td>\n      <td>52.68</td>\n    </tr>\n    <tr>\n      <th>22</th>\n      <td>APU0000706311</td>\n      <td>268.0</td>\n      <td>211.0</td>\n      <td>55.95</td>\n      <td>44.05</td>\n    </tr>\n    <tr>\n      <th>23</th>\n      <td>APU0000708111</td>\n      <td>250.0</td>\n      <td>255.0</td>\n      <td>49.50</td>\n      <td>50.50</td>\n    </tr>\n    <tr>\n      <th>24</th>\n      <td>APU0000710111</td>\n      <td>180.0</td>\n      <td>202.0</td>\n      <td>47.12</td>\n      <td>52.88</td>\n    </tr>\n    <tr>\n      <th>25</th>\n      <td>APU0000710211</td>\n      <td>197.0</td>\n      <td>237.0</td>\n      <td>45.39</td>\n      <td>54.61</td>\n    </tr>\n    <tr>\n      <th>26</th>\n      <td>APU0000710212</td>\n      <td>207.0</td>\n      <td>233.0</td>\n      <td>47.05</td>\n      <td>52.95</td>\n    </tr>\n    <tr>\n      <th>27</th>\n      <td>APU0000710411</td>\n      <td>248.0</td>\n      <td>255.0</td>\n      <td>49.30</td>\n      <td>50.70</td>\n    </tr>\n    <tr>\n      <th>28</th>\n      <td>APU0000711111</td>\n      <td>262.0</td>\n      <td>184.0</td>\n      <td>58.74</td>\n      <td>41.26</td>\n    </tr>\n    <tr>\n      <th>29</th>\n      <td>APU0000711211</td>\n      <td>229.0</td>\n      <td>273.0</td>\n      <td>45.62</td>\n      <td>54.38</td>\n    </tr>\n    <tr>\n      <th>30</th>\n      <td>APU0000711311</td>\n      <td>162.0</td>\n      <td>167.0</td>\n      <td>49.24</td>\n      <td>50.76</td>\n    </tr>\n    <tr>\n      <th>31</th>\n      <td>APU0000711411</td>\n      <td>256.0</td>\n      <td>220.0</td>\n      <td>53.78</td>\n      <td>46.22</td>\n    </tr>\n    <tr>\n      <th>32</th>\n      <td>APU0000711412</td>\n      <td>230.0</td>\n      <td>253.0</td>\n      <td>47.62</td>\n      <td>52.38</td>\n    </tr>\n    <tr>\n      <th>33</th>\n      <td>APU0000711415</td>\n      <td>196.0</td>\n      <td>176.0</td>\n      <td>52.69</td>\n      <td>47.31</td>\n    </tr>\n    <tr>\n      <th>34</th>\n      <td>APU0000711417</td>\n      <td>193.0</td>\n      <td>192.0</td>\n      <td>50.13</td>\n      <td>49.87</td>\n    </tr>\n    <tr>\n      <th>35</th>\n      <td>APU0000712112</td>\n      <td>217.0</td>\n      <td>208.0</td>\n      <td>51.06</td>\n      <td>48.94</td>\n    </tr>\n    <tr>\n      <th>36</th>\n      <td>APU0000712211</td>\n      <td>230.0</td>\n      <td>246.0</td>\n      <td>48.32</td>\n      <td>51.68</td>\n    </tr>\n    <tr>\n      <th>37</th>\n      <td>APU0000712311</td>\n      <td>251.0</td>\n      <td>246.0</td>\n      <td>50.50</td>\n      <td>49.50</td>\n    </tr>\n    <tr>\n      <th>38</th>\n      <td>APU0000712406</td>\n      <td>178.0</td>\n      <td>195.0</td>\n      <td>47.72</td>\n      <td>52.28</td>\n    </tr>\n    <tr>\n      <th>39</th>\n      <td>APU0000713111</td>\n      <td>244.0</td>\n      <td>261.0</td>\n      <td>48.32</td>\n      <td>51.68</td>\n    </tr>\n    <tr>\n      <th>40</th>\n      <td>APU0000715211</td>\n      <td>234.0</td>\n      <td>271.0</td>\n      <td>46.34</td>\n      <td>53.66</td>\n    </tr>\n    <tr>\n      <th>41</th>\n      <td>APU0000715212</td>\n      <td>228.0</td>\n      <td>251.0</td>\n      <td>47.60</td>\n      <td>52.40</td>\n    </tr>\n    <tr>\n      <th>42</th>\n      <td>APU0000716116</td>\n      <td>184.0</td>\n      <td>176.0</td>\n      <td>51.11</td>\n      <td>48.89</td>\n    </tr>\n    <tr>\n      <th>43</th>\n      <td>APU0000716141</td>\n      <td>194.0</td>\n      <td>213.0</td>\n      <td>47.67</td>\n      <td>52.33</td>\n    </tr>\n    <tr>\n      <th>44</th>\n      <td>APU0000717311</td>\n      <td>179.0</td>\n      <td>282.0</td>\n      <td>38.83</td>\n      <td>61.17</td>\n    </tr>\n    <tr>\n      <th>45</th>\n      <td>APU0000718311</td>\n      <td>240.0</td>\n      <td>265.0</td>\n      <td>47.52</td>\n      <td>52.48</td>\n    </tr>\n    <tr>\n      <th>46</th>\n      <td>APU000072511</td>\n      <td>236.0</td>\n      <td>281.0</td>\n      <td>45.65</td>\n      <td>54.35</td>\n    </tr>\n    <tr>\n      <th>47</th>\n      <td>APU000072601</td>\n      <td>188.0</td>\n      <td>225.0</td>\n      <td>45.52</td>\n      <td>54.48</td>\n    </tr>\n    <tr>\n      <th>48</th>\n      <td>APU000072610</td>\n      <td>204.0</td>\n      <td>313.0</td>\n      <td>39.46</td>\n      <td>60.54</td>\n    </tr>\n    <tr>\n      <th>49</th>\n      <td>APU000072611</td>\n      <td>183.0</td>\n      <td>230.0</td>\n      <td>44.31</td>\n      <td>55.69</td>\n    </tr>\n    <tr>\n      <th>50</th>\n      <td>APU000072620</td>\n      <td>240.0</td>\n      <td>277.0</td>\n      <td>46.42</td>\n      <td>53.58</td>\n    </tr>\n    <tr>\n      <th>51</th>\n      <td>APU000072621</td>\n      <td>175.0</td>\n      <td>238.0</td>\n      <td>42.37</td>\n      <td>57.63</td>\n    </tr>\n    <tr>\n      <th>52</th>\n      <td>APU000074714</td>\n      <td>253.0</td>\n      <td>300.0</td>\n      <td>45.75</td>\n      <td>54.25</td>\n    </tr>\n    <tr>\n      <th>53</th>\n      <td>APU000074715</td>\n      <td>168.0</td>\n      <td>170.0</td>\n      <td>49.70</td>\n      <td>50.30</td>\n    </tr>\n    <tr>\n      <th>54</th>\n      <td>APU000074716</td>\n      <td>224.0</td>\n      <td>261.0</td>\n      <td>46.19</td>\n      <td>53.81</td>\n    </tr>\n    <tr>\n      <th>55</th>\n      <td>APU00007471A</td>\n      <td>243.0</td>\n      <td>286.0</td>\n      <td>45.94</td>\n      <td>54.06</td>\n    </tr>\n  </tbody>\n</table>\n</div>"
     },
     "metadata": {}
    }
   ],
   "execution_count": 77
  },
  {
   "cell_type": "code",
   "source": "'''\nAbove Inflation\n'''\n\nfig = go.Figure()\n\nmed_point = 50\nrange_point = 2\nx_name = 'ItemName'\ny_name = 'PercentAbove'\n\nlow_thresh = med_point - range_point\nhigh_thresh = med_point + range_point\n\nitems_sorted = item_results.sort_values(by = y_name)\n\nx1 = items_sorted[items_sorted[y_name] < low_thresh][x_name]\ny1 = items_sorted[items_sorted[y_name] < low_thresh][y_name]\n\nx2 = item_results[(items_sorted[y_name] >= low_thresh) & (items_sorted[y_name] <= high_thresh)].sort_values(by = y_name)[x_name]\ny2 = item_results[(items_sorted[y_name] >= low_thresh) & (items_sorted[y_name] <= high_thresh)].sort_values(by = y_name)[y_name]\n\nx3 = items_sorted[items_sorted[y_name] > high_thresh][x_name]\ny3 = items_sorted[items_sorted[y_name] > high_thresh][y_name]\n\nfig.add_trace(go.Bar(x=x1, y=y1,name = f'{y_name}<{low_thresh}',marker_color = 'red'))\nfig.add_trace(go.Bar(x=x2, y=y2,name = f'{low_thresh}<={y_name}<={high_thresh}',marker_color = 'orange'))\nfig.add_trace(go.Bar(x=x3, y=y3,name = f'{y_name} > {high_thresh}',marker_color = 'green'))\n\n\ny_min = min(items_sorted[y_name]) - 0.1*min(items_sorted[y_name])\ny_max = max(items_sorted[y_name]) + 0.1*max(items_sorted[y_name])\nfig.update_layout(yaxis_range=[y_min,y_max])\nfig.update_layout(height=600,width=1100,)\nfig.update_layout(legend=legend_config)\ndisplay(Markdown(f'<h2>% of Data Above Inflation</h2>'))\nfig.show()\n\n'''\nBelow Inflation\n'''\n\nfig = go.Figure()\n\ny_name = 'PercentBelow'\n\nlow_thresh = med_point - range_point\nhigh_thresh = med_point + range_point\n\nitems_sorted = item_results.sort_values(by = y_name)\n\nx1 = items_sorted[items_sorted[y_name] < low_thresh][x_name]\ny1 = items_sorted[items_sorted[y_name] < low_thresh][y_name]\n\nx2 = item_results[(items_sorted[y_name] >= low_thresh) & (items_sorted[y_name] <= high_thresh)].sort_values(by = y_name)[x_name]\ny2 = item_results[(items_sorted[y_name] >= low_thresh) & (items_sorted[y_name] <= high_thresh)].sort_values(by = y_name)[y_name]\n\nx3 = items_sorted[items_sorted[y_name] > high_thresh][x_name]\ny3 = items_sorted[items_sorted[y_name] > high_thresh][y_name]\n\nfig.add_trace(go.Bar(x=x1, y=y1,name = f'{y_name}<{low_thresh}',marker_color = 'red'))\nfig.add_trace(go.Bar(x=x2, y=y2,name = f'{low_thresh}<={y_name}<={high_thresh}',marker_color = 'orange'))\nfig.add_trace(go.Bar(x=x3, y=y3,name = f'{y_name} > {high_thresh}',marker_color = 'green'))\n\n\ny_min = min(items_sorted[y_name]) - 0.1*min(items_sorted[y_name])\ny_max = max(items_sorted[y_name]) + 0.1*max(items_sorted[y_name])\nfig.update_layout(yaxis_range=[y_min,y_max])\nfig.update_layout(height=600,width=1100,)\nfig.update_layout(legend=legend_config)\ndisplay(Markdown(f'<h2>% of Data Below Inflation</h2>'))\nfig.show()\n\n",
   "metadata": {
    "cell_id": "1eebc05d2e9f44ff985c02be69434477",
    "tags": [],
    "deepnote_to_be_reexecuted": false,
    "source_hash": "9b759a26",
    "execution_start": 1649183893054,
    "execution_millis": 77,
    "deepnote_cell_type": "code",
    "deepnote_cell_height": 2706.0625,
    "deepnote_output_heights": [
     48.765625,
     501.984375,
     48.765625,
     601.984375
    ]
   },
   "outputs": [
    {
     "data": {
      "text/plain": "<IPython.core.display.Markdown object>",
      "text/markdown": "<h2>% of Data Above Inflation</h2>"
     },
     "metadata": {},
     "output_type": "display_data"
    },
    {
     "data": {
      "text/html": "<html>\n<head><meta charset=\"utf-8\" /></head>\n<body>\n    <div>            <script src=\"https://cdnjs.cloudflare.com/ajax/libs/mathjax/2.7.5/MathJax.js?config=TeX-AMS-MML_SVG\"></script><script type=\"text/javascript\">if (window.MathJax) {MathJax.Hub.Config({SVG: {font: \"STIX-Web\"}});}</script>                <script type=\"text/javascript\">window.PlotlyConfig = {MathJaxConfig: 'local'};</script>\n        <script src=\"https://cdn.plot.ly/plotly-2.9.0.min.js\"></script>                <div id=\"5333b208-6bdd-453e-8301-55d7cd8bd4f9\" class=\"plotly-graph-div\" style=\"height:600px; width:1100px;\"></div>            <script type=\"text/javascript\">                                    window.PLOTLYENV=window.PLOTLYENV || {};                                    if (document.getElementById(\"5333b208-6bdd-453e-8301-55d7cd8bd4f9\")) {                    Plotly.newPlot(                        \"5333b208-6bdd-453e-8301-55d7cd8bd4f9\",                        [{\"marker\":{\"color\":\"red\"},\"name\":\"PercentAbove<48\",\"x\":[\"APU0000717311\",\"APU000072610\",\"APU000072621\",\"APU0000701111\",\"APU0000701312\",\"APU000072611\",\"APU0000710211\",\"APU000072601\",\"APU0000711211\",\"APU000072511\",\"APU000074714\",\"APU0000704211\",\"APU00007471A\",\"APU0000703311\",\"APU000074716\",\"APU0000715211\",\"APU000072620\",\"APU0000706211\",\"APU0000710212\",\"APU0000710111\",\"APU0000703111\",\"APU0000705121\",\"APU0000706111\",\"APU0000706212\",\"APU0000718311\",\"APU0000702111\",\"APU0000715212\",\"APU0000711412\",\"APU0000716141\",\"APU0000701322\",\"APU0000703511\",\"APU0000712406\",\"APU0000703213\",\"APU0000703613\"],\"y\":[38.83,39.46,42.37,43.14,43.72,44.31,45.39,45.52,45.62,45.65,45.75,45.94,45.94,46.14,46.19,46.34,46.42,46.96,47.05,47.12,47.13,47.27,47.32,47.32,47.52,47.52,47.6,47.62,47.67,47.7,47.72,47.72,47.86,47.86],\"type\":\"bar\"},{\"marker\":{\"color\":\"orange\"},\"name\":\"48<=PercentAbove<=52\",\"x\":[\"APU0000713111\",\"APU0000712211\",\"APU0000702212\",\"APU0000711311\",\"APU0000710411\",\"APU0000708111\",\"APU0000703112\",\"APU000074715\",\"APU0000704111\",\"APU0000711417\",\"APU0000703512\",\"APU0000704312\",\"APU0000712311\",\"APU0000702421\",\"APU0000703432\",\"APU0000703113\",\"APU0000712112\",\"APU0000716116\"],\"y\":[48.32,48.32,48.47,49.24,49.3,49.5,49.67,49.7,50.1,50.13,50.15,50.4,50.5,50.5,50.83,50.94,51.06,51.11],\"type\":\"bar\"},{\"marker\":{\"color\":\"green\"},\"name\":\"PercentAbove > 52\",\"x\":[\"APU0000711415\",\"APU0000711411\",\"APU0000706311\",\"APU0000711111\"],\"y\":[52.69,53.78,55.95,58.74],\"type\":\"bar\"}],                        {\"template\":{\"data\":{\"bar\":[{\"error_x\":{\"color\":\"#2a3f5f\"},\"error_y\":{\"color\":\"#2a3f5f\"},\"marker\":{\"line\":{\"color\":\"#E5ECF6\",\"width\":0.5},\"pattern\":{\"fillmode\":\"overlay\",\"size\":10,\"solidity\":0.2}},\"type\":\"bar\"}],\"barpolar\":[{\"marker\":{\"line\":{\"color\":\"#E5ECF6\",\"width\":0.5},\"pattern\":{\"fillmode\":\"overlay\",\"size\":10,\"solidity\":0.2}},\"type\":\"barpolar\"}],\"carpet\":[{\"aaxis\":{\"endlinecolor\":\"#2a3f5f\",\"gridcolor\":\"white\",\"linecolor\":\"white\",\"minorgridcolor\":\"white\",\"startlinecolor\":\"#2a3f5f\"},\"baxis\":{\"endlinecolor\":\"#2a3f5f\",\"gridcolor\":\"white\",\"linecolor\":\"white\",\"minorgridcolor\":\"white\",\"startlinecolor\":\"#2a3f5f\"},\"type\":\"carpet\"}],\"choropleth\":[{\"colorbar\":{\"outlinewidth\":0,\"ticks\":\"\"},\"type\":\"choropleth\"}],\"contour\":[{\"colorbar\":{\"outlinewidth\":0,\"ticks\":\"\"},\"colorscale\":[[0.0,\"#0d0887\"],[0.1111111111111111,\"#46039f\"],[0.2222222222222222,\"#7201a8\"],[0.3333333333333333,\"#9c179e\"],[0.4444444444444444,\"#bd3786\"],[0.5555555555555556,\"#d8576b\"],[0.6666666666666666,\"#ed7953\"],[0.7777777777777778,\"#fb9f3a\"],[0.8888888888888888,\"#fdca26\"],[1.0,\"#f0f921\"]],\"type\":\"contour\"}],\"contourcarpet\":[{\"colorbar\":{\"outlinewidth\":0,\"ticks\":\"\"},\"type\":\"contourcarpet\"}],\"heatmap\":[{\"colorbar\":{\"outlinewidth\":0,\"ticks\":\"\"},\"colorscale\":[[0.0,\"#0d0887\"],[0.1111111111111111,\"#46039f\"],[0.2222222222222222,\"#7201a8\"],[0.3333333333333333,\"#9c179e\"],[0.4444444444444444,\"#bd3786\"],[0.5555555555555556,\"#d8576b\"],[0.6666666666666666,\"#ed7953\"],[0.7777777777777778,\"#fb9f3a\"],[0.8888888888888888,\"#fdca26\"],[1.0,\"#f0f921\"]],\"type\":\"heatmap\"}],\"heatmapgl\":[{\"colorbar\":{\"outlinewidth\":0,\"ticks\":\"\"},\"colorscale\":[[0.0,\"#0d0887\"],[0.1111111111111111,\"#46039f\"],[0.2222222222222222,\"#7201a8\"],[0.3333333333333333,\"#9c179e\"],[0.4444444444444444,\"#bd3786\"],[0.5555555555555556,\"#d8576b\"],[0.6666666666666666,\"#ed7953\"],[0.7777777777777778,\"#fb9f3a\"],[0.8888888888888888,\"#fdca26\"],[1.0,\"#f0f921\"]],\"type\":\"heatmapgl\"}],\"histogram\":[{\"marker\":{\"pattern\":{\"fillmode\":\"overlay\",\"size\":10,\"solidity\":0.2}},\"type\":\"histogram\"}],\"histogram2d\":[{\"colorbar\":{\"outlinewidth\":0,\"ticks\":\"\"},\"colorscale\":[[0.0,\"#0d0887\"],[0.1111111111111111,\"#46039f\"],[0.2222222222222222,\"#7201a8\"],[0.3333333333333333,\"#9c179e\"],[0.4444444444444444,\"#bd3786\"],[0.5555555555555556,\"#d8576b\"],[0.6666666666666666,\"#ed7953\"],[0.7777777777777778,\"#fb9f3a\"],[0.8888888888888888,\"#fdca26\"],[1.0,\"#f0f921\"]],\"type\":\"histogram2d\"}],\"histogram2dcontour\":[{\"colorbar\":{\"outlinewidth\":0,\"ticks\":\"\"},\"colorscale\":[[0.0,\"#0d0887\"],[0.1111111111111111,\"#46039f\"],[0.2222222222222222,\"#7201a8\"],[0.3333333333333333,\"#9c179e\"],[0.4444444444444444,\"#bd3786\"],[0.5555555555555556,\"#d8576b\"],[0.6666666666666666,\"#ed7953\"],[0.7777777777777778,\"#fb9f3a\"],[0.8888888888888888,\"#fdca26\"],[1.0,\"#f0f921\"]],\"type\":\"histogram2dcontour\"}],\"mesh3d\":[{\"colorbar\":{\"outlinewidth\":0,\"ticks\":\"\"},\"type\":\"mesh3d\"}],\"parcoords\":[{\"line\":{\"colorbar\":{\"outlinewidth\":0,\"ticks\":\"\"}},\"type\":\"parcoords\"}],\"pie\":[{\"automargin\":true,\"type\":\"pie\"}],\"scatter\":[{\"marker\":{\"colorbar\":{\"outlinewidth\":0,\"ticks\":\"\"}},\"type\":\"scatter\"}],\"scatter3d\":[{\"line\":{\"colorbar\":{\"outlinewidth\":0,\"ticks\":\"\"}},\"marker\":{\"colorbar\":{\"outlinewidth\":0,\"ticks\":\"\"}},\"type\":\"scatter3d\"}],\"scattercarpet\":[{\"marker\":{\"colorbar\":{\"outlinewidth\":0,\"ticks\":\"\"}},\"type\":\"scattercarpet\"}],\"scattergeo\":[{\"marker\":{\"colorbar\":{\"outlinewidth\":0,\"ticks\":\"\"}},\"type\":\"scattergeo\"}],\"scattergl\":[{\"marker\":{\"colorbar\":{\"outlinewidth\":0,\"ticks\":\"\"}},\"type\":\"scattergl\"}],\"scattermapbox\":[{\"marker\":{\"colorbar\":{\"outlinewidth\":0,\"ticks\":\"\"}},\"type\":\"scattermapbox\"}],\"scatterpolar\":[{\"marker\":{\"colorbar\":{\"outlinewidth\":0,\"ticks\":\"\"}},\"type\":\"scatterpolar\"}],\"scatterpolargl\":[{\"marker\":{\"colorbar\":{\"outlinewidth\":0,\"ticks\":\"\"}},\"type\":\"scatterpolargl\"}],\"scatterternary\":[{\"marker\":{\"colorbar\":{\"outlinewidth\":0,\"ticks\":\"\"}},\"type\":\"scatterternary\"}],\"surface\":[{\"colorbar\":{\"outlinewidth\":0,\"ticks\":\"\"},\"colorscale\":[[0.0,\"#0d0887\"],[0.1111111111111111,\"#46039f\"],[0.2222222222222222,\"#7201a8\"],[0.3333333333333333,\"#9c179e\"],[0.4444444444444444,\"#bd3786\"],[0.5555555555555556,\"#d8576b\"],[0.6666666666666666,\"#ed7953\"],[0.7777777777777778,\"#fb9f3a\"],[0.8888888888888888,\"#fdca26\"],[1.0,\"#f0f921\"]],\"type\":\"surface\"}],\"table\":[{\"cells\":{\"fill\":{\"color\":\"#EBF0F8\"},\"line\":{\"color\":\"white\"}},\"header\":{\"fill\":{\"color\":\"#C8D4E3\"},\"line\":{\"color\":\"white\"}},\"type\":\"table\"}]},\"layout\":{\"annotationdefaults\":{\"arrowcolor\":\"#2a3f5f\",\"arrowhead\":0,\"arrowwidth\":1},\"autotypenumbers\":\"strict\",\"coloraxis\":{\"colorbar\":{\"outlinewidth\":0,\"ticks\":\"\"}},\"colorscale\":{\"diverging\":[[0,\"#8e0152\"],[0.1,\"#c51b7d\"],[0.2,\"#de77ae\"],[0.3,\"#f1b6da\"],[0.4,\"#fde0ef\"],[0.5,\"#f7f7f7\"],[0.6,\"#e6f5d0\"],[0.7,\"#b8e186\"],[0.8,\"#7fbc41\"],[0.9,\"#4d9221\"],[1,\"#276419\"]],\"sequential\":[[0.0,\"#0d0887\"],[0.1111111111111111,\"#46039f\"],[0.2222222222222222,\"#7201a8\"],[0.3333333333333333,\"#9c179e\"],[0.4444444444444444,\"#bd3786\"],[0.5555555555555556,\"#d8576b\"],[0.6666666666666666,\"#ed7953\"],[0.7777777777777778,\"#fb9f3a\"],[0.8888888888888888,\"#fdca26\"],[1.0,\"#f0f921\"]],\"sequentialminus\":[[0.0,\"#0d0887\"],[0.1111111111111111,\"#46039f\"],[0.2222222222222222,\"#7201a8\"],[0.3333333333333333,\"#9c179e\"],[0.4444444444444444,\"#bd3786\"],[0.5555555555555556,\"#d8576b\"],[0.6666666666666666,\"#ed7953\"],[0.7777777777777778,\"#fb9f3a\"],[0.8888888888888888,\"#fdca26\"],[1.0,\"#f0f921\"]]},\"colorway\":[\"#636efa\",\"#EF553B\",\"#00cc96\",\"#ab63fa\",\"#FFA15A\",\"#19d3f3\",\"#FF6692\",\"#B6E880\",\"#FF97FF\",\"#FECB52\"],\"font\":{\"color\":\"#2a3f5f\"},\"geo\":{\"bgcolor\":\"white\",\"lakecolor\":\"white\",\"landcolor\":\"#E5ECF6\",\"showlakes\":true,\"showland\":true,\"subunitcolor\":\"white\"},\"hoverlabel\":{\"align\":\"left\"},\"hovermode\":\"closest\",\"mapbox\":{\"style\":\"light\"},\"paper_bgcolor\":\"white\",\"plot_bgcolor\":\"#E5ECF6\",\"polar\":{\"angularaxis\":{\"gridcolor\":\"white\",\"linecolor\":\"white\",\"ticks\":\"\"},\"bgcolor\":\"#E5ECF6\",\"radialaxis\":{\"gridcolor\":\"white\",\"linecolor\":\"white\",\"ticks\":\"\"}},\"scene\":{\"xaxis\":{\"backgroundcolor\":\"#E5ECF6\",\"gridcolor\":\"white\",\"gridwidth\":2,\"linecolor\":\"white\",\"showbackground\":true,\"ticks\":\"\",\"zerolinecolor\":\"white\"},\"yaxis\":{\"backgroundcolor\":\"#E5ECF6\",\"gridcolor\":\"white\",\"gridwidth\":2,\"linecolor\":\"white\",\"showbackground\":true,\"ticks\":\"\",\"zerolinecolor\":\"white\"},\"zaxis\":{\"backgroundcolor\":\"#E5ECF6\",\"gridcolor\":\"white\",\"gridwidth\":2,\"linecolor\":\"white\",\"showbackground\":true,\"ticks\":\"\",\"zerolinecolor\":\"white\"}},\"shapedefaults\":{\"line\":{\"color\":\"#2a3f5f\"}},\"ternary\":{\"aaxis\":{\"gridcolor\":\"white\",\"linecolor\":\"white\",\"ticks\":\"\"},\"baxis\":{\"gridcolor\":\"white\",\"linecolor\":\"white\",\"ticks\":\"\"},\"bgcolor\":\"#E5ECF6\",\"caxis\":{\"gridcolor\":\"white\",\"linecolor\":\"white\",\"ticks\":\"\"}},\"title\":{\"x\":0.05},\"xaxis\":{\"automargin\":true,\"gridcolor\":\"white\",\"linecolor\":\"white\",\"ticks\":\"\",\"title\":{\"standoff\":15},\"zerolinecolor\":\"white\",\"zerolinewidth\":2},\"yaxis\":{\"automargin\":true,\"gridcolor\":\"white\",\"linecolor\":\"white\",\"ticks\":\"\",\"title\":{\"standoff\":15},\"zerolinecolor\":\"white\",\"zerolinewidth\":2}}},\"yaxis\":{\"range\":[34.946999999999996,64.614]},\"height\":600,\"width\":1100,\"legend\":{\"orientation\":\"h\",\"yanchor\":\"bottom\",\"y\":1.05,\"xanchor\":\"left\",\"x\":0.01}},                        {\"responsive\": true}                    ).then(function(){\n                            \nvar gd = document.getElementById('5333b208-6bdd-453e-8301-55d7cd8bd4f9');\nvar x = new MutationObserver(function (mutations, observer) {{\n        var display = window.getComputedStyle(gd).display;\n        if (!display || display === 'none') {{\n            console.log([gd, 'removed!']);\n            Plotly.purge(gd);\n            observer.disconnect();\n        }}\n}});\n\n// Listen for the removal of the full notebook cells\nvar notebookContainer = gd.closest('#notebook-container');\nif (notebookContainer) {{\n    x.observe(notebookContainer, {childList: true});\n}}\n\n// Listen for the clearing of the current output cell\nvar outputEl = gd.closest('.output');\nif (outputEl) {{\n    x.observe(outputEl, {childList: true});\n}}\n\n                        })                };                            </script>        </div>\n</body>\n</html>"
     },
     "metadata": {},
     "output_type": "display_data"
    },
    {
     "data": {
      "text/plain": "<IPython.core.display.Markdown object>",
      "text/markdown": "<h2>% of Data Below Inflation</h2>"
     },
     "metadata": {},
     "output_type": "display_data"
    },
    {
     "data": {
      "text/html": "<html>\n<head><meta charset=\"utf-8\" /></head>\n<body>\n    <div>            <script src=\"https://cdnjs.cloudflare.com/ajax/libs/mathjax/2.7.5/MathJax.js?config=TeX-AMS-MML_SVG\"></script><script type=\"text/javascript\">if (window.MathJax) {MathJax.Hub.Config({SVG: {font: \"STIX-Web\"}});}</script>                <script type=\"text/javascript\">window.PlotlyConfig = {MathJaxConfig: 'local'};</script>\n        <script src=\"https://cdn.plot.ly/plotly-2.9.0.min.js\"></script>                <div id=\"fcd18e71-d191-4d8c-a7c8-669fbda52b66\" class=\"plotly-graph-div\" style=\"height:600px; width:1100px;\"></div>            <script type=\"text/javascript\">                                    window.PLOTLYENV=window.PLOTLYENV || {};                                    if (document.getElementById(\"fcd18e71-d191-4d8c-a7c8-669fbda52b66\")) {                    Plotly.newPlot(                        \"fcd18e71-d191-4d8c-a7c8-669fbda52b66\",                        [{\"marker\":{\"color\":\"red\"},\"name\":\"PercentBelow<48\",\"x\":[\"APU0000711111\",\"APU0000706311\",\"APU0000711411\",\"APU0000711415\"],\"y\":[41.26,44.05,46.22,47.31],\"type\":\"bar\"},{\"marker\":{\"color\":\"orange\"},\"name\":\"48<=PercentBelow<=52\",\"x\":[\"APU0000716116\",\"APU0000712112\",\"APU0000703113\",\"APU0000703432\",\"APU0000702421\",\"APU0000712311\",\"APU0000704312\",\"APU0000703512\",\"APU0000711417\",\"APU0000704111\",\"APU000074715\",\"APU0000703112\",\"APU0000708111\",\"APU0000710411\",\"APU0000711311\",\"APU0000702212\",\"APU0000712211\",\"APU0000713111\"],\"y\":[48.89,48.94,49.06,49.17,49.5,49.5,49.6,49.85,49.87,49.9,50.3,50.33,50.5,50.7,50.76,51.53,51.68,51.68],\"type\":\"bar\"},{\"marker\":{\"color\":\"green\"},\"name\":\"PercentBelow > 52\",\"x\":[\"APU0000703613\",\"APU0000703213\",\"APU0000712406\",\"APU0000703511\",\"APU0000701322\",\"APU0000716141\",\"APU0000711412\",\"APU0000715212\",\"APU0000718311\",\"APU0000702111\",\"APU0000706212\",\"APU0000706111\",\"APU0000705121\",\"APU0000703111\",\"APU0000710111\",\"APU0000710212\",\"APU0000706211\",\"APU000072620\",\"APU0000715211\",\"APU000074716\",\"APU0000703311\",\"APU00007471A\",\"APU0000704211\",\"APU000074714\",\"APU000072511\",\"APU0000711211\",\"APU000072601\",\"APU0000710211\",\"APU000072611\",\"APU0000701312\",\"APU0000701111\",\"APU000072621\",\"APU000072610\",\"APU0000717311\"],\"y\":[52.14,52.14,52.28,52.28,52.3,52.33,52.38,52.4,52.48,52.48,52.68,52.68,52.73,52.87,52.88,52.95,53.04,53.58,53.66,53.81,53.86,54.06,54.06,54.25,54.35,54.38,54.48,54.61,55.69,56.28,56.86,57.63,60.54,61.17],\"type\":\"bar\"}],                        {\"template\":{\"data\":{\"bar\":[{\"error_x\":{\"color\":\"#2a3f5f\"},\"error_y\":{\"color\":\"#2a3f5f\"},\"marker\":{\"line\":{\"color\":\"#E5ECF6\",\"width\":0.5},\"pattern\":{\"fillmode\":\"overlay\",\"size\":10,\"solidity\":0.2}},\"type\":\"bar\"}],\"barpolar\":[{\"marker\":{\"line\":{\"color\":\"#E5ECF6\",\"width\":0.5},\"pattern\":{\"fillmode\":\"overlay\",\"size\":10,\"solidity\":0.2}},\"type\":\"barpolar\"}],\"carpet\":[{\"aaxis\":{\"endlinecolor\":\"#2a3f5f\",\"gridcolor\":\"white\",\"linecolor\":\"white\",\"minorgridcolor\":\"white\",\"startlinecolor\":\"#2a3f5f\"},\"baxis\":{\"endlinecolor\":\"#2a3f5f\",\"gridcolor\":\"white\",\"linecolor\":\"white\",\"minorgridcolor\":\"white\",\"startlinecolor\":\"#2a3f5f\"},\"type\":\"carpet\"}],\"choropleth\":[{\"colorbar\":{\"outlinewidth\":0,\"ticks\":\"\"},\"type\":\"choropleth\"}],\"contour\":[{\"colorbar\":{\"outlinewidth\":0,\"ticks\":\"\"},\"colorscale\":[[0.0,\"#0d0887\"],[0.1111111111111111,\"#46039f\"],[0.2222222222222222,\"#7201a8\"],[0.3333333333333333,\"#9c179e\"],[0.4444444444444444,\"#bd3786\"],[0.5555555555555556,\"#d8576b\"],[0.6666666666666666,\"#ed7953\"],[0.7777777777777778,\"#fb9f3a\"],[0.8888888888888888,\"#fdca26\"],[1.0,\"#f0f921\"]],\"type\":\"contour\"}],\"contourcarpet\":[{\"colorbar\":{\"outlinewidth\":0,\"ticks\":\"\"},\"type\":\"contourcarpet\"}],\"heatmap\":[{\"colorbar\":{\"outlinewidth\":0,\"ticks\":\"\"},\"colorscale\":[[0.0,\"#0d0887\"],[0.1111111111111111,\"#46039f\"],[0.2222222222222222,\"#7201a8\"],[0.3333333333333333,\"#9c179e\"],[0.4444444444444444,\"#bd3786\"],[0.5555555555555556,\"#d8576b\"],[0.6666666666666666,\"#ed7953\"],[0.7777777777777778,\"#fb9f3a\"],[0.8888888888888888,\"#fdca26\"],[1.0,\"#f0f921\"]],\"type\":\"heatmap\"}],\"heatmapgl\":[{\"colorbar\":{\"outlinewidth\":0,\"ticks\":\"\"},\"colorscale\":[[0.0,\"#0d0887\"],[0.1111111111111111,\"#46039f\"],[0.2222222222222222,\"#7201a8\"],[0.3333333333333333,\"#9c179e\"],[0.4444444444444444,\"#bd3786\"],[0.5555555555555556,\"#d8576b\"],[0.6666666666666666,\"#ed7953\"],[0.7777777777777778,\"#fb9f3a\"],[0.8888888888888888,\"#fdca26\"],[1.0,\"#f0f921\"]],\"type\":\"heatmapgl\"}],\"histogram\":[{\"marker\":{\"pattern\":{\"fillmode\":\"overlay\",\"size\":10,\"solidity\":0.2}},\"type\":\"histogram\"}],\"histogram2d\":[{\"colorbar\":{\"outlinewidth\":0,\"ticks\":\"\"},\"colorscale\":[[0.0,\"#0d0887\"],[0.1111111111111111,\"#46039f\"],[0.2222222222222222,\"#7201a8\"],[0.3333333333333333,\"#9c179e\"],[0.4444444444444444,\"#bd3786\"],[0.5555555555555556,\"#d8576b\"],[0.6666666666666666,\"#ed7953\"],[0.7777777777777778,\"#fb9f3a\"],[0.8888888888888888,\"#fdca26\"],[1.0,\"#f0f921\"]],\"type\":\"histogram2d\"}],\"histogram2dcontour\":[{\"colorbar\":{\"outlinewidth\":0,\"ticks\":\"\"},\"colorscale\":[[0.0,\"#0d0887\"],[0.1111111111111111,\"#46039f\"],[0.2222222222222222,\"#7201a8\"],[0.3333333333333333,\"#9c179e\"],[0.4444444444444444,\"#bd3786\"],[0.5555555555555556,\"#d8576b\"],[0.6666666666666666,\"#ed7953\"],[0.7777777777777778,\"#fb9f3a\"],[0.8888888888888888,\"#fdca26\"],[1.0,\"#f0f921\"]],\"type\":\"histogram2dcontour\"}],\"mesh3d\":[{\"colorbar\":{\"outlinewidth\":0,\"ticks\":\"\"},\"type\":\"mesh3d\"}],\"parcoords\":[{\"line\":{\"colorbar\":{\"outlinewidth\":0,\"ticks\":\"\"}},\"type\":\"parcoords\"}],\"pie\":[{\"automargin\":true,\"type\":\"pie\"}],\"scatter\":[{\"marker\":{\"colorbar\":{\"outlinewidth\":0,\"ticks\":\"\"}},\"type\":\"scatter\"}],\"scatter3d\":[{\"line\":{\"colorbar\":{\"outlinewidth\":0,\"ticks\":\"\"}},\"marker\":{\"colorbar\":{\"outlinewidth\":0,\"ticks\":\"\"}},\"type\":\"scatter3d\"}],\"scattercarpet\":[{\"marker\":{\"colorbar\":{\"outlinewidth\":0,\"ticks\":\"\"}},\"type\":\"scattercarpet\"}],\"scattergeo\":[{\"marker\":{\"colorbar\":{\"outlinewidth\":0,\"ticks\":\"\"}},\"type\":\"scattergeo\"}],\"scattergl\":[{\"marker\":{\"colorbar\":{\"outlinewidth\":0,\"ticks\":\"\"}},\"type\":\"scattergl\"}],\"scattermapbox\":[{\"marker\":{\"colorbar\":{\"outlinewidth\":0,\"ticks\":\"\"}},\"type\":\"scattermapbox\"}],\"scatterpolar\":[{\"marker\":{\"colorbar\":{\"outlinewidth\":0,\"ticks\":\"\"}},\"type\":\"scatterpolar\"}],\"scatterpolargl\":[{\"marker\":{\"colorbar\":{\"outlinewidth\":0,\"ticks\":\"\"}},\"type\":\"scatterpolargl\"}],\"scatterternary\":[{\"marker\":{\"colorbar\":{\"outlinewidth\":0,\"ticks\":\"\"}},\"type\":\"scatterternary\"}],\"surface\":[{\"colorbar\":{\"outlinewidth\":0,\"ticks\":\"\"},\"colorscale\":[[0.0,\"#0d0887\"],[0.1111111111111111,\"#46039f\"],[0.2222222222222222,\"#7201a8\"],[0.3333333333333333,\"#9c179e\"],[0.4444444444444444,\"#bd3786\"],[0.5555555555555556,\"#d8576b\"],[0.6666666666666666,\"#ed7953\"],[0.7777777777777778,\"#fb9f3a\"],[0.8888888888888888,\"#fdca26\"],[1.0,\"#f0f921\"]],\"type\":\"surface\"}],\"table\":[{\"cells\":{\"fill\":{\"color\":\"#EBF0F8\"},\"line\":{\"color\":\"white\"}},\"header\":{\"fill\":{\"color\":\"#C8D4E3\"},\"line\":{\"color\":\"white\"}},\"type\":\"table\"}]},\"layout\":{\"annotationdefaults\":{\"arrowcolor\":\"#2a3f5f\",\"arrowhead\":0,\"arrowwidth\":1},\"autotypenumbers\":\"strict\",\"coloraxis\":{\"colorbar\":{\"outlinewidth\":0,\"ticks\":\"\"}},\"colorscale\":{\"diverging\":[[0,\"#8e0152\"],[0.1,\"#c51b7d\"],[0.2,\"#de77ae\"],[0.3,\"#f1b6da\"],[0.4,\"#fde0ef\"],[0.5,\"#f7f7f7\"],[0.6,\"#e6f5d0\"],[0.7,\"#b8e186\"],[0.8,\"#7fbc41\"],[0.9,\"#4d9221\"],[1,\"#276419\"]],\"sequential\":[[0.0,\"#0d0887\"],[0.1111111111111111,\"#46039f\"],[0.2222222222222222,\"#7201a8\"],[0.3333333333333333,\"#9c179e\"],[0.4444444444444444,\"#bd3786\"],[0.5555555555555556,\"#d8576b\"],[0.6666666666666666,\"#ed7953\"],[0.7777777777777778,\"#fb9f3a\"],[0.8888888888888888,\"#fdca26\"],[1.0,\"#f0f921\"]],\"sequentialminus\":[[0.0,\"#0d0887\"],[0.1111111111111111,\"#46039f\"],[0.2222222222222222,\"#7201a8\"],[0.3333333333333333,\"#9c179e\"],[0.4444444444444444,\"#bd3786\"],[0.5555555555555556,\"#d8576b\"],[0.6666666666666666,\"#ed7953\"],[0.7777777777777778,\"#fb9f3a\"],[0.8888888888888888,\"#fdca26\"],[1.0,\"#f0f921\"]]},\"colorway\":[\"#636efa\",\"#EF553B\",\"#00cc96\",\"#ab63fa\",\"#FFA15A\",\"#19d3f3\",\"#FF6692\",\"#B6E880\",\"#FF97FF\",\"#FECB52\"],\"font\":{\"color\":\"#2a3f5f\"},\"geo\":{\"bgcolor\":\"white\",\"lakecolor\":\"white\",\"landcolor\":\"#E5ECF6\",\"showlakes\":true,\"showland\":true,\"subunitcolor\":\"white\"},\"hoverlabel\":{\"align\":\"left\"},\"hovermode\":\"closest\",\"mapbox\":{\"style\":\"light\"},\"paper_bgcolor\":\"white\",\"plot_bgcolor\":\"#E5ECF6\",\"polar\":{\"angularaxis\":{\"gridcolor\":\"white\",\"linecolor\":\"white\",\"ticks\":\"\"},\"bgcolor\":\"#E5ECF6\",\"radialaxis\":{\"gridcolor\":\"white\",\"linecolor\":\"white\",\"ticks\":\"\"}},\"scene\":{\"xaxis\":{\"backgroundcolor\":\"#E5ECF6\",\"gridcolor\":\"white\",\"gridwidth\":2,\"linecolor\":\"white\",\"showbackground\":true,\"ticks\":\"\",\"zerolinecolor\":\"white\"},\"yaxis\":{\"backgroundcolor\":\"#E5ECF6\",\"gridcolor\":\"white\",\"gridwidth\":2,\"linecolor\":\"white\",\"showbackground\":true,\"ticks\":\"\",\"zerolinecolor\":\"white\"},\"zaxis\":{\"backgroundcolor\":\"#E5ECF6\",\"gridcolor\":\"white\",\"gridwidth\":2,\"linecolor\":\"white\",\"showbackground\":true,\"ticks\":\"\",\"zerolinecolor\":\"white\"}},\"shapedefaults\":{\"line\":{\"color\":\"#2a3f5f\"}},\"ternary\":{\"aaxis\":{\"gridcolor\":\"white\",\"linecolor\":\"white\",\"ticks\":\"\"},\"baxis\":{\"gridcolor\":\"white\",\"linecolor\":\"white\",\"ticks\":\"\"},\"bgcolor\":\"#E5ECF6\",\"caxis\":{\"gridcolor\":\"white\",\"linecolor\":\"white\",\"ticks\":\"\"}},\"title\":{\"x\":0.05},\"xaxis\":{\"automargin\":true,\"gridcolor\":\"white\",\"linecolor\":\"white\",\"ticks\":\"\",\"title\":{\"standoff\":15},\"zerolinecolor\":\"white\",\"zerolinewidth\":2},\"yaxis\":{\"automargin\":true,\"gridcolor\":\"white\",\"linecolor\":\"white\",\"ticks\":\"\",\"title\":{\"standoff\":15},\"zerolinecolor\":\"white\",\"zerolinewidth\":2}}},\"yaxis\":{\"range\":[37.134,67.287]},\"height\":600,\"width\":1100,\"legend\":{\"orientation\":\"h\",\"yanchor\":\"bottom\",\"y\":1.05,\"xanchor\":\"left\",\"x\":0.01}},                        {\"responsive\": true}                    ).then(function(){\n                            \nvar gd = document.getElementById('fcd18e71-d191-4d8c-a7c8-669fbda52b66');\nvar x = new MutationObserver(function (mutations, observer) {{\n        var display = window.getComputedStyle(gd).display;\n        if (!display || display === 'none') {{\n            console.log([gd, 'removed!']);\n            Plotly.purge(gd);\n            observer.disconnect();\n        }}\n}});\n\n// Listen for the removal of the full notebook cells\nvar notebookContainer = gd.closest('#notebook-container');\nif (notebookContainer) {{\n    x.observe(notebookContainer, {childList: true});\n}}\n\n// Listen for the clearing of the current output cell\nvar outputEl = gd.closest('.output');\nif (outputEl) {{\n    x.observe(outputEl, {childList: true});\n}}\n\n                        })                };                            </script>        </div>\n</body>\n</html>"
     },
     "metadata": {},
     "output_type": "display_data"
    }
   ],
   "execution_count": 110
  },
  {
   "cell_type": "markdown",
   "source": "<a style='text-decoration:none;line-height:16px;display:flex;color:#5B5B62;padding:10px;justify-content:end;' href='https://deepnote.com?utm_source=created-in-deepnote-cell&projectId=c5ceaca9-e365-4132-a867-b543164c96b0' target=\"_blank\">\n<img alt='Created in deepnote.com' style='display:inline;max-height:16px;margin:0px;margin-right:7.5px;' src='data:image/svg+xml;base64,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' > </img>\nCreated in <span style='font-weight:600;margin-left:4px;'>Deepnote</span></a>",
   "metadata": {
    "tags": [],
    "created_in_deepnote_cell": true,
    "deepnote_cell_type": "markdown"
   }
  }
 ],
 "nbformat": 4,
 "nbformat_minor": 2,
 "metadata": {
  "orig_nbformat": 2,
  "deepnote": {
   "is_reactive": false
  },
  "deepnote_notebook_id": "d7942de4-27d6-4677-b121-f637072e7e30",
  "deepnote_execution_queue": []
 }
}