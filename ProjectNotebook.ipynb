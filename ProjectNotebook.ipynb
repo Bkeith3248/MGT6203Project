{
 "cells": [
  {
   "cell_type": "markdown",
   "source": "## Library Import",
   "metadata": {
    "cell_id": "8be1e445-88bb-435f-adcf-f3e2a6ab142e",
    "tags": [],
    "deepnote_cell_type": "markdown",
    "deepnote_cell_height": 70
   }
  },
  {
   "cell_type": "code",
   "metadata": {
    "tags": [],
    "cell_id": "1f9b91b7-656d-4a6c-bef0-a6df52b203cd",
    "deepnote_to_be_reexecuted": false,
    "source_hash": "ab7911e6",
    "execution_start": 1647971573721,
    "execution_millis": 1888,
    "deepnote_cell_type": "code",
    "deepnote_cell_height": 495
   },
   "source": "import pandas as pd\nfrom matplotlib import pyplot\nfrom pandas.plotting import lag_plot\nfrom IPython.display import display,Markdown\nimport plotly\nimport plotly.graph_objects as go\nimport numpy as np\nimport warnings\nwarnings.simplefilter('ignore')\n\nimport fbprophet\nfrom fbprophet import Prophet\n\nbuttons_to_remove = ['zoom2d','zoomIn2d','zoomOut2d','toImage',\n                     'sendDataToCloud',\n                     'editInChartStudio',\n                     'select2d',\n                     'lasso2d',]\n\nscatter_config = {'displayModeBar': 'Always',\n                 \"displaylogo\": False,\n                 'modeBarButtons': 'toggleHover ',\n                 'modeBarButtonsToRemove': buttons_to_remove,}\n",
   "outputs": [],
   "execution_count": null
  },
  {
   "cell_type": "code",
   "metadata": {
    "cell_id": "9d3b4dd3-e802-4ab5-8837-da79c34be81c",
    "tags": [],
    "deepnote_to_be_reexecuted": false,
    "source_hash": "b2aa2fd6",
    "execution_start": 1647972592873,
    "execution_millis": 168,
    "deepnote_cell_type": "code",
    "deepnote_cell_height": 572
   },
   "source": "df_cpi = pd.read_excel('CPIRawData.xlsx',engine='openpyxl',sheet_name = 'BLS Data Series',skiprows=11)\ndf_cpi['RollingAvg5Yr'] = df_cpi.Annual.rolling(5).mean()\ndf_cpi['RollingSD5Yr'] = df_cpi.Annual.rolling(5).std()\ndf_cpi['RollingAvg5Yr_low'] = df_cpi['RollingAvg5Yr'] - df_cpi['RollingSD5Yr']\ndf_cpi['RollingAvg5Yr_high'] = df_cpi['RollingAvg5Yr'] + df_cpi['RollingSD5Yr']\n\n\ndf_cpi['inflation'] = (df_cpi.Annual.diff()/ df_cpi['Annual'].shift(1))*100\n\ndf_cpi.head()",
   "outputs": [
    {
     "output_type": "execute_result",
     "execution_count": 25,
     "data": {
      "application/vnd.deepnote.dataframe.v3+json": {
       "column_count": 21,
       "row_count": 5,
       "columns": [
        {
         "name": "Year",
         "dtype": "float64",
         "stats": {
          "unique_count": 5,
          "nan_count": 0,
          "min": "1913.0",
          "max": "1917.0",
          "histogram": [
           {
            "bin_start": 1913,
            "bin_end": 1913.4,
            "count": 1
           },
           {
            "bin_start": 1913.4,
            "bin_end": 1913.8,
            "count": 0
           },
           {
            "bin_start": 1913.8,
            "bin_end": 1914.2,
            "count": 1
           },
           {
            "bin_start": 1914.2,
            "bin_end": 1914.6,
            "count": 0
           },
           {
            "bin_start": 1914.6,
            "bin_end": 1915,
            "count": 0
           },
           {
            "bin_start": 1915,
            "bin_end": 1915.4,
            "count": 1
           },
           {
            "bin_start": 1915.4,
            "bin_end": 1915.8,
            "count": 0
           },
           {
            "bin_start": 1915.8,
            "bin_end": 1916.2,
            "count": 1
           },
           {
            "bin_start": 1916.2,
            "bin_end": 1916.6,
            "count": 0
           },
           {
            "bin_start": 1916.6,
            "bin_end": 1917,
            "count": 1
           }
          ]
         }
        },
        {
         "name": "Jan",
         "dtype": "float64",
         "stats": {
          "unique_count": 5,
          "nan_count": 0,
          "min": "9.8",
          "max": "11.7",
          "histogram": [
           {
            "bin_start": 9.8,
            "bin_end": 9.99,
            "count": 1
           },
           {
            "bin_start": 9.99,
            "bin_end": 10.18,
            "count": 2
           },
           {
            "bin_start": 10.18,
            "bin_end": 10.370000000000001,
            "count": 0
           },
           {
            "bin_start": 10.370000000000001,
            "bin_end": 10.56,
            "count": 1
           },
           {
            "bin_start": 10.56,
            "bin_end": 10.75,
            "count": 0
           },
           {
            "bin_start": 10.75,
            "bin_end": 10.94,
            "count": 0
           },
           {
            "bin_start": 10.94,
            "bin_end": 11.129999999999999,
            "count": 0
           },
           {
            "bin_start": 11.129999999999999,
            "bin_end": 11.32,
            "count": 0
           },
           {
            "bin_start": 11.32,
            "bin_end": 11.51,
            "count": 0
           },
           {
            "bin_start": 11.51,
            "bin_end": 11.7,
            "count": 1
           }
          ]
         }
        },
        {
         "name": "Feb",
         "dtype": "float64",
         "stats": {
          "unique_count": 5,
          "nan_count": 0,
          "min": "9.8",
          "max": "12.0",
          "histogram": [
           {
            "bin_start": 9.8,
            "bin_end": 10.020000000000001,
            "count": 3
           },
           {
            "bin_start": 10.020000000000001,
            "bin_end": 10.24,
            "count": 0
           },
           {
            "bin_start": 10.24,
            "bin_end": 10.46,
            "count": 1
           },
           {
            "bin_start": 10.46,
            "bin_end": 10.68,
            "count": 0
           },
           {
            "bin_start": 10.68,
            "bin_end": 10.9,
            "count": 0
           },
           {
            "bin_start": 10.9,
            "bin_end": 11.120000000000001,
            "count": 0
           },
           {
            "bin_start": 11.120000000000001,
            "bin_end": 11.34,
            "count": 0
           },
           {
            "bin_start": 11.34,
            "bin_end": 11.56,
            "count": 0
           },
           {
            "bin_start": 11.56,
            "bin_end": 11.78,
            "count": 0
           },
           {
            "bin_start": 11.78,
            "bin_end": 12,
            "count": 1
           }
          ]
         }
        },
        {
         "name": "Mar",
         "dtype": "float64",
         "stats": {
          "unique_count": 4,
          "nan_count": 0,
          "min": "9.8",
          "max": "12.0",
          "histogram": [
           {
            "bin_start": 9.8,
            "bin_end": 10.020000000000001,
            "count": 3
           },
           {
            "bin_start": 10.020000000000001,
            "bin_end": 10.24,
            "count": 0
           },
           {
            "bin_start": 10.24,
            "bin_end": 10.46,
            "count": 0
           },
           {
            "bin_start": 10.46,
            "bin_end": 10.68,
            "count": 1
           },
           {
            "bin_start": 10.68,
            "bin_end": 10.9,
            "count": 0
           },
           {
            "bin_start": 10.9,
            "bin_end": 11.120000000000001,
            "count": 0
           },
           {
            "bin_start": 11.120000000000001,
            "bin_end": 11.34,
            "count": 0
           },
           {
            "bin_start": 11.34,
            "bin_end": 11.56,
            "count": 0
           },
           {
            "bin_start": 11.56,
            "bin_end": 11.78,
            "count": 0
           },
           {
            "bin_start": 11.78,
            "bin_end": 12,
            "count": 1
           }
          ]
         }
        },
        {
         "name": "Apr",
         "dtype": "float64",
         "stats": {
          "unique_count": 4,
          "nan_count": 0,
          "min": "9.8",
          "max": "12.6",
          "histogram": [
           {
            "bin_start": 9.8,
            "bin_end": 10.08,
            "count": 3
           },
           {
            "bin_start": 10.08,
            "bin_end": 10.360000000000001,
            "count": 0
           },
           {
            "bin_start": 10.360000000000001,
            "bin_end": 10.64,
            "count": 1
           },
           {
            "bin_start": 10.64,
            "bin_end": 10.92,
            "count": 0
           },
           {
            "bin_start": 10.92,
            "bin_end": 11.2,
            "count": 0
           },
           {
            "bin_start": 11.2,
            "bin_end": 11.48,
            "count": 0
           },
           {
            "bin_start": 11.48,
            "bin_end": 11.76,
            "count": 0
           },
           {
            "bin_start": 11.76,
            "bin_end": 12.04,
            "count": 0
           },
           {
            "bin_start": 12.04,
            "bin_end": 12.32,
            "count": 0
           },
           {
            "bin_start": 12.32,
            "bin_end": 12.6,
            "count": 1
           }
          ]
         }
        },
        {
         "name": "May",
         "dtype": "float64",
         "stats": {
          "unique_count": 5,
          "nan_count": 0,
          "min": "9.7",
          "max": "12.8",
          "histogram": [
           {
            "bin_start": 9.7,
            "bin_end": 10.01,
            "count": 2
           },
           {
            "bin_start": 10.01,
            "bin_end": 10.32,
            "count": 1
           },
           {
            "bin_start": 10.32,
            "bin_end": 10.629999999999999,
            "count": 0
           },
           {
            "bin_start": 10.629999999999999,
            "bin_end": 10.94,
            "count": 1
           },
           {
            "bin_start": 10.94,
            "bin_end": 11.25,
            "count": 0
           },
           {
            "bin_start": 11.25,
            "bin_end": 11.56,
            "count": 0
           },
           {
            "bin_start": 11.56,
            "bin_end": 11.870000000000001,
            "count": 0
           },
           {
            "bin_start": 11.870000000000001,
            "bin_end": 12.18,
            "count": 0
           },
           {
            "bin_start": 12.18,
            "bin_end": 12.49,
            "count": 0
           },
           {
            "bin_start": 12.49,
            "bin_end": 12.8,
            "count": 1
           }
          ]
         }
        },
        {
         "name": "Jun",
         "dtype": "float64",
         "stats": {
          "unique_count": 5,
          "nan_count": 0,
          "min": "9.8",
          "max": "13.0",
          "histogram": [
           {
            "bin_start": 9.8,
            "bin_end": 10.120000000000001,
            "count": 3
           },
           {
            "bin_start": 10.120000000000001,
            "bin_end": 10.440000000000001,
            "count": 0
           },
           {
            "bin_start": 10.440000000000001,
            "bin_end": 10.76,
            "count": 0
           },
           {
            "bin_start": 10.76,
            "bin_end": 11.08,
            "count": 1
           },
           {
            "bin_start": 11.08,
            "bin_end": 11.4,
            "count": 0
           },
           {
            "bin_start": 11.4,
            "bin_end": 11.72,
            "count": 0
           },
           {
            "bin_start": 11.72,
            "bin_end": 12.040000000000001,
            "count": 0
           },
           {
            "bin_start": 12.040000000000001,
            "bin_end": 12.36,
            "count": 0
           },
           {
            "bin_start": 12.36,
            "bin_end": 12.68,
            "count": 0
           },
           {
            "bin_start": 12.68,
            "bin_end": 13,
            "count": 1
           }
          ]
         }
        },
        {
         "name": "Jul",
         "dtype": "float64",
         "stats": {
          "unique_count": 5,
          "nan_count": 0,
          "min": "9.9",
          "max": "12.8",
          "histogram": [
           {
            "bin_start": 9.9,
            "bin_end": 10.190000000000001,
            "count": 3
           },
           {
            "bin_start": 10.190000000000001,
            "bin_end": 10.48,
            "count": 0
           },
           {
            "bin_start": 10.48,
            "bin_end": 10.77,
            "count": 0
           },
           {
            "bin_start": 10.77,
            "bin_end": 11.06,
            "count": 1
           },
           {
            "bin_start": 11.06,
            "bin_end": 11.350000000000001,
            "count": 0
           },
           {
            "bin_start": 11.350000000000001,
            "bin_end": 11.64,
            "count": 0
           },
           {
            "bin_start": 11.64,
            "bin_end": 11.93,
            "count": 0
           },
           {
            "bin_start": 11.93,
            "bin_end": 12.22,
            "count": 0
           },
           {
            "bin_start": 12.22,
            "bin_end": 12.510000000000002,
            "count": 0
           },
           {
            "bin_start": 12.510000000000002,
            "bin_end": 12.8,
            "count": 1
           }
          ]
         }
        },
        {
         "name": "Aug",
         "dtype": "float64",
         "stats": {
          "unique_count": 5,
          "nan_count": 0,
          "min": "9.9",
          "max": "13.0",
          "histogram": [
           {
            "bin_start": 9.9,
            "bin_end": 10.21,
            "count": 3
           },
           {
            "bin_start": 10.21,
            "bin_end": 10.52,
            "count": 0
           },
           {
            "bin_start": 10.52,
            "bin_end": 10.83,
            "count": 0
           },
           {
            "bin_start": 10.83,
            "bin_end": 11.14,
            "count": 1
           },
           {
            "bin_start": 11.14,
            "bin_end": 11.45,
            "count": 0
           },
           {
            "bin_start": 11.45,
            "bin_end": 11.76,
            "count": 0
           },
           {
            "bin_start": 11.76,
            "bin_end": 12.07,
            "count": 0
           },
           {
            "bin_start": 12.07,
            "bin_end": 12.379999999999999,
            "count": 0
           },
           {
            "bin_start": 12.379999999999999,
            "bin_end": 12.69,
            "count": 0
           },
           {
            "bin_start": 12.69,
            "bin_end": 13,
            "count": 1
           }
          ]
         }
        },
        {
         "name": "Sep",
         "dtype": "float64",
         "stats": {
          "unique_count": 5,
          "nan_count": 0,
          "min": "10.0",
          "max": "13.3",
          "histogram": [
           {
            "bin_start": 10,
            "bin_end": 10.33,
            "count": 3
           },
           {
            "bin_start": 10.33,
            "bin_end": 10.66,
            "count": 0
           },
           {
            "bin_start": 10.66,
            "bin_end": 10.99,
            "count": 0
           },
           {
            "bin_start": 10.99,
            "bin_end": 11.32,
            "count": 1
           },
           {
            "bin_start": 11.32,
            "bin_end": 11.65,
            "count": 0
           },
           {
            "bin_start": 11.65,
            "bin_end": 11.98,
            "count": 0
           },
           {
            "bin_start": 11.98,
            "bin_end": 12.31,
            "count": 0
           },
           {
            "bin_start": 12.31,
            "bin_end": 12.64,
            "count": 0
           },
           {
            "bin_start": 12.64,
            "bin_end": 12.97,
            "count": 0
           },
           {
            "bin_start": 12.97,
            "bin_end": 13.3,
            "count": 1
           }
          ]
         }
        },
        {
         "name": "Oct",
         "dtype": "float64",
         "stats": {
          "unique_count": 5,
          "nan_count": 0,
          "min": "10.0",
          "max": "13.5",
          "histogram": [
           {
            "bin_start": 10,
            "bin_end": 10.35,
            "count": 3
           },
           {
            "bin_start": 10.35,
            "bin_end": 10.7,
            "count": 0
           },
           {
            "bin_start": 10.7,
            "bin_end": 11.05,
            "count": 0
           },
           {
            "bin_start": 11.05,
            "bin_end": 11.4,
            "count": 1
           },
           {
            "bin_start": 11.4,
            "bin_end": 11.75,
            "count": 0
           },
           {
            "bin_start": 11.75,
            "bin_end": 12.1,
            "count": 0
           },
           {
            "bin_start": 12.1,
            "bin_end": 12.45,
            "count": 0
           },
           {
            "bin_start": 12.45,
            "bin_end": 12.8,
            "count": 0
           },
           {
            "bin_start": 12.8,
            "bin_end": 13.15,
            "count": 0
           },
           {
            "bin_start": 13.15,
            "bin_end": 13.5,
            "count": 1
           }
          ]
         }
        },
        {
         "name": "Nov",
         "dtype": "float64",
         "stats": {
          "unique_count": 5,
          "nan_count": 0,
          "min": "10.1",
          "max": "13.5",
          "histogram": [
           {
            "bin_start": 10.1,
            "bin_end": 10.44,
            "count": 3
           },
           {
            "bin_start": 10.44,
            "bin_end": 10.78,
            "count": 0
           },
           {
            "bin_start": 10.78,
            "bin_end": 11.12,
            "count": 0
           },
           {
            "bin_start": 11.12,
            "bin_end": 11.459999999999999,
            "count": 0
           },
           {
            "bin_start": 11.459999999999999,
            "bin_end": 11.8,
            "count": 1
           },
           {
            "bin_start": 11.8,
            "bin_end": 12.14,
            "count": 0
           },
           {
            "bin_start": 12.14,
            "bin_end": 12.48,
            "count": 0
           },
           {
            "bin_start": 12.48,
            "bin_end": 12.82,
            "count": 0
           },
           {
            "bin_start": 12.82,
            "bin_end": 13.16,
            "count": 0
           },
           {
            "bin_start": 13.16,
            "bin_end": 13.5,
            "count": 1
           }
          ]
         }
        },
        {
         "name": "Dec",
         "dtype": "float64",
         "stats": {
          "unique_count": 5,
          "nan_count": 0,
          "min": "10.0",
          "max": "13.7",
          "histogram": [
           {
            "bin_start": 10,
            "bin_end": 10.37,
            "count": 3
           },
           {
            "bin_start": 10.37,
            "bin_end": 10.74,
            "count": 0
           },
           {
            "bin_start": 10.74,
            "bin_end": 11.11,
            "count": 0
           },
           {
            "bin_start": 11.11,
            "bin_end": 11.48,
            "count": 0
           },
           {
            "bin_start": 11.48,
            "bin_end": 11.85,
            "count": 1
           },
           {
            "bin_start": 11.85,
            "bin_end": 12.219999999999999,
            "count": 0
           },
           {
            "bin_start": 12.219999999999999,
            "bin_end": 12.59,
            "count": 0
           },
           {
            "bin_start": 12.59,
            "bin_end": 12.959999999999999,
            "count": 0
           },
           {
            "bin_start": 12.959999999999999,
            "bin_end": 13.33,
            "count": 0
           },
           {
            "bin_start": 13.33,
            "bin_end": 13.7,
            "count": 1
           }
          ]
         }
        },
        {
         "name": "Annual",
         "dtype": "float64",
         "stats": {
          "unique_count": 5,
          "nan_count": 0,
          "min": "9.9",
          "max": "12.8",
          "histogram": [
           {
            "bin_start": 9.9,
            "bin_end": 10.190000000000001,
            "count": 3
           },
           {
            "bin_start": 10.190000000000001,
            "bin_end": 10.48,
            "count": 0
           },
           {
            "bin_start": 10.48,
            "bin_end": 10.77,
            "count": 0
           },
           {
            "bin_start": 10.77,
            "bin_end": 11.06,
            "count": 1
           },
           {
            "bin_start": 11.06,
            "bin_end": 11.350000000000001,
            "count": 0
           },
           {
            "bin_start": 11.350000000000001,
            "bin_end": 11.64,
            "count": 0
           },
           {
            "bin_start": 11.64,
            "bin_end": 11.93,
            "count": 0
           },
           {
            "bin_start": 11.93,
            "bin_end": 12.22,
            "count": 0
           },
           {
            "bin_start": 12.22,
            "bin_end": 12.510000000000002,
            "count": 0
           },
           {
            "bin_start": 12.510000000000002,
            "bin_end": 12.8,
            "count": 1
           }
          ]
         }
        },
        {
         "name": "HALF1",
         "dtype": "float64",
         "stats": {
          "unique_count": 0,
          "nan_count": 5,
          "min": null,
          "max": null,
          "histogram": [
           {
            "bin_start": 0,
            "bin_end": 0.1,
            "count": 0
           },
           {
            "bin_start": 0.1,
            "bin_end": 0.2,
            "count": 0
           },
           {
            "bin_start": 0.2,
            "bin_end": 0.30000000000000004,
            "count": 0
           },
           {
            "bin_start": 0.30000000000000004,
            "bin_end": 0.4,
            "count": 0
           },
           {
            "bin_start": 0.4,
            "bin_end": 0.5,
            "count": 0
           },
           {
            "bin_start": 0.5,
            "bin_end": 0.6000000000000001,
            "count": 0
           },
           {
            "bin_start": 0.6000000000000001,
            "bin_end": 0.7000000000000001,
            "count": 0
           },
           {
            "bin_start": 0.7000000000000001,
            "bin_end": 0.8,
            "count": 0
           },
           {
            "bin_start": 0.8,
            "bin_end": 0.9,
            "count": 0
           },
           {
            "bin_start": 0.9,
            "bin_end": 1,
            "count": 0
           }
          ]
         }
        },
        {
         "name": "HALF2",
         "dtype": "float64",
         "stats": {
          "unique_count": 0,
          "nan_count": 5,
          "min": null,
          "max": null,
          "histogram": [
           {
            "bin_start": 0,
            "bin_end": 0.1,
            "count": 0
           },
           {
            "bin_start": 0.1,
            "bin_end": 0.2,
            "count": 0
           },
           {
            "bin_start": 0.2,
            "bin_end": 0.30000000000000004,
            "count": 0
           },
           {
            "bin_start": 0.30000000000000004,
            "bin_end": 0.4,
            "count": 0
           },
           {
            "bin_start": 0.4,
            "bin_end": 0.5,
            "count": 0
           },
           {
            "bin_start": 0.5,
            "bin_end": 0.6000000000000001,
            "count": 0
           },
           {
            "bin_start": 0.6000000000000001,
            "bin_end": 0.7000000000000001,
            "count": 0
           },
           {
            "bin_start": 0.7000000000000001,
            "bin_end": 0.8,
            "count": 0
           },
           {
            "bin_start": 0.8,
            "bin_end": 0.9,
            "count": 0
           },
           {
            "bin_start": 0.9,
            "bin_end": 1,
            "count": 0
           }
          ]
         }
        },
        {
         "name": "RollingAvg5Yr",
         "dtype": "float64",
         "stats": {
          "unique_count": 1,
          "nan_count": 4,
          "min": "10.74",
          "max": "10.74",
          "histogram": [
           {
            "bin_start": 10.24,
            "bin_end": 10.34,
            "count": 0
           },
           {
            "bin_start": 10.34,
            "bin_end": 10.44,
            "count": 0
           },
           {
            "bin_start": 10.44,
            "bin_end": 10.540000000000001,
            "count": 0
           },
           {
            "bin_start": 10.540000000000001,
            "bin_end": 10.64,
            "count": 0
           },
           {
            "bin_start": 10.64,
            "bin_end": 10.74,
            "count": 0
           },
           {
            "bin_start": 10.74,
            "bin_end": 10.84,
            "count": 1
           },
           {
            "bin_start": 10.84,
            "bin_end": 10.94,
            "count": 0
           },
           {
            "bin_start": 10.94,
            "bin_end": 11.040000000000001,
            "count": 0
           },
           {
            "bin_start": 11.040000000000001,
            "bin_end": 11.14,
            "count": 0
           },
           {
            "bin_start": 11.14,
            "bin_end": 11.24,
            "count": 0
           }
          ]
         }
        },
        {
         "name": "RollingSD5Yr",
         "dtype": "float64",
         "stats": {
          "unique_count": 1,
          "nan_count": 4,
          "min": "1.2177848742696722",
          "max": "1.2177848742696722",
          "histogram": [
           {
            "bin_start": 0.7177848742696722,
            "bin_end": 0.8177848742696722,
            "count": 0
           },
           {
            "bin_start": 0.8177848742696722,
            "bin_end": 0.9177848742696721,
            "count": 0
           },
           {
            "bin_start": 0.9177848742696721,
            "bin_end": 1.0177848742696722,
            "count": 0
           },
           {
            "bin_start": 1.0177848742696722,
            "bin_end": 1.117784874269672,
            "count": 0
           },
           {
            "bin_start": 1.117784874269672,
            "bin_end": 1.2177848742696722,
            "count": 0
           },
           {
            "bin_start": 1.2177848742696722,
            "bin_end": 1.3177848742696723,
            "count": 1
           },
           {
            "bin_start": 1.3177848742696723,
            "bin_end": 1.4177848742696724,
            "count": 0
           },
           {
            "bin_start": 1.4177848742696724,
            "bin_end": 1.5177848742696722,
            "count": 0
           },
           {
            "bin_start": 1.5177848742696722,
            "bin_end": 1.617784874269672,
            "count": 0
           },
           {
            "bin_start": 1.617784874269672,
            "bin_end": 1.7177848742696722,
            "count": 0
           }
          ]
         }
        },
        {
         "name": "RollingAvg5Yr_low",
         "dtype": "float64",
         "stats": {
          "unique_count": 1,
          "nan_count": 4,
          "min": "9.522215125730328",
          "max": "9.522215125730328",
          "histogram": [
           {
            "bin_start": 9.022215125730328,
            "bin_end": 9.122215125730328,
            "count": 0
           },
           {
            "bin_start": 9.122215125730328,
            "bin_end": 9.222215125730328,
            "count": 0
           },
           {
            "bin_start": 9.222215125730328,
            "bin_end": 9.32221512573033,
            "count": 0
           },
           {
            "bin_start": 9.32221512573033,
            "bin_end": 9.422215125730329,
            "count": 0
           },
           {
            "bin_start": 9.422215125730329,
            "bin_end": 9.522215125730328,
            "count": 0
           },
           {
            "bin_start": 9.522215125730328,
            "bin_end": 9.622215125730328,
            "count": 1
           },
           {
            "bin_start": 9.622215125730328,
            "bin_end": 9.722215125730328,
            "count": 0
           },
           {
            "bin_start": 9.722215125730328,
            "bin_end": 9.82221512573033,
            "count": 0
           },
           {
            "bin_start": 9.82221512573033,
            "bin_end": 9.922215125730329,
            "count": 0
           },
           {
            "bin_start": 9.922215125730329,
            "bin_end": 10.022215125730328,
            "count": 0
           }
          ]
         }
        },
        {
         "name": "RollingAvg5Yr_high",
         "dtype": "float64",
         "stats": {
          "unique_count": 1,
          "nan_count": 4,
          "min": "11.957784874269672",
          "max": "11.957784874269672",
          "histogram": [
           {
            "bin_start": 11.457784874269672,
            "bin_end": 11.557784874269672,
            "count": 0
           },
           {
            "bin_start": 11.557784874269672,
            "bin_end": 11.657784874269671,
            "count": 0
           },
           {
            "bin_start": 11.657784874269671,
            "bin_end": 11.757784874269673,
            "count": 0
           },
           {
            "bin_start": 11.757784874269673,
            "bin_end": 11.857784874269672,
            "count": 0
           },
           {
            "bin_start": 11.857784874269672,
            "bin_end": 11.957784874269672,
            "count": 0
           },
           {
            "bin_start": 11.957784874269672,
            "bin_end": 12.057784874269672,
            "count": 1
           },
           {
            "bin_start": 12.057784874269672,
            "bin_end": 12.157784874269671,
            "count": 0
           },
           {
            "bin_start": 12.157784874269671,
            "bin_end": 12.257784874269673,
            "count": 0
           },
           {
            "bin_start": 12.257784874269673,
            "bin_end": 12.357784874269672,
            "count": 0
           },
           {
            "bin_start": 12.357784874269672,
            "bin_end": 12.457784874269672,
            "count": 0
           }
          ]
         }
        },
        {
         "name": "inflation",
         "dtype": "float64",
         "stats": {
          "unique_count": 4,
          "nan_count": 1,
          "min": "0.9999999999999963",
          "max": "17.43119266055046",
          "histogram": [
           {
            "bin_start": 0.9999999999999963,
            "bin_end": 2.643119266055043,
            "count": 2
           },
           {
            "bin_start": 2.643119266055043,
            "bin_end": 4.286238532110089,
            "count": 0
           },
           {
            "bin_start": 4.286238532110089,
            "bin_end": 5.929357798165135,
            "count": 0
           },
           {
            "bin_start": 5.929357798165135,
            "bin_end": 7.572477064220182,
            "count": 0
           },
           {
            "bin_start": 7.572477064220182,
            "bin_end": 9.215596330275229,
            "count": 1
           },
           {
            "bin_start": 9.215596330275229,
            "bin_end": 10.858715596330274,
            "count": 0
           },
           {
            "bin_start": 10.858715596330274,
            "bin_end": 12.501834862385321,
            "count": 0
           },
           {
            "bin_start": 12.501834862385321,
            "bin_end": 14.144954128440368,
            "count": 0
           },
           {
            "bin_start": 14.144954128440368,
            "bin_end": 15.788073394495415,
            "count": 0
           },
           {
            "bin_start": 15.788073394495415,
            "bin_end": 17.43119266055046,
            "count": 1
           }
          ]
         }
        },
        {
         "name": "_deepnote_index_column",
         "dtype": "int64"
        }
       ],
       "rows": [
        {
         "Year": 1913,
         "Jan": 9.8,
         "Feb": 9.8,
         "Mar": 9.8,
         "Apr": 9.8,
         "May": 9.7,
         "Jun": 9.8,
         "Jul": 9.9,
         "Aug": 9.9,
         "Sep": 10,
         "Oct": 10,
         "Nov": 10.1,
         "Dec": 10,
         "Annual": 9.9,
         "HALF1": "nan",
         "HALF2": "nan",
         "RollingAvg5Yr": "nan",
         "RollingSD5Yr": "nan",
         "RollingAvg5Yr_low": "nan",
         "RollingAvg5Yr_high": "nan",
         "inflation": "nan",
         "_deepnote_index_column": 0
        },
        {
         "Year": 1914,
         "Jan": 10,
         "Feb": 9.9,
         "Mar": 9.9,
         "Apr": 9.8,
         "May": 9.9,
         "Jun": 9.9,
         "Jul": 10,
         "Aug": 10.2,
         "Sep": 10.2,
         "Oct": 10.1,
         "Nov": 10.2,
         "Dec": 10.1,
         "Annual": 10,
         "HALF1": "nan",
         "HALF2": "nan",
         "RollingAvg5Yr": "nan",
         "RollingSD5Yr": "nan",
         "RollingAvg5Yr_low": "nan",
         "RollingAvg5Yr_high": "nan",
         "inflation": 1.0101010101010066,
         "_deepnote_index_column": 1
        },
        {
         "Year": 1915,
         "Jan": 10.1,
         "Feb": 10,
         "Mar": 9.9,
         "Apr": 10,
         "May": 10.1,
         "Jun": 10.1,
         "Jul": 10.1,
         "Aug": 10.1,
         "Sep": 10.1,
         "Oct": 10.2,
         "Nov": 10.3,
         "Dec": 10.3,
         "Annual": 10.1,
         "HALF1": "nan",
         "HALF2": "nan",
         "RollingAvg5Yr": "nan",
         "RollingSD5Yr": "nan",
         "RollingAvg5Yr_low": "nan",
         "RollingAvg5Yr_high": "nan",
         "inflation": 0.9999999999999963,
         "_deepnote_index_column": 2
        },
        {
         "Year": 1916,
         "Jan": 10.4,
         "Feb": 10.4,
         "Mar": 10.5,
         "Apr": 10.6,
         "May": 10.7,
         "Jun": 10.8,
         "Jul": 10.8,
         "Aug": 10.9,
         "Sep": 11.1,
         "Oct": 11.3,
         "Nov": 11.5,
         "Dec": 11.6,
         "Annual": 10.9,
         "HALF1": "nan",
         "HALF2": "nan",
         "RollingAvg5Yr": "nan",
         "RollingSD5Yr": "nan",
         "RollingAvg5Yr_low": "nan",
         "RollingAvg5Yr_high": "nan",
         "inflation": 7.920792079207928,
         "_deepnote_index_column": 3
        },
        {
         "Year": 1917,
         "Jan": 11.7,
         "Feb": 12,
         "Mar": 12,
         "Apr": 12.6,
         "May": 12.8,
         "Jun": 13,
         "Jul": 12.8,
         "Aug": 13,
         "Sep": 13.3,
         "Oct": 13.5,
         "Nov": 13.5,
         "Dec": 13.7,
         "Annual": 12.8,
         "HALF1": "nan",
         "HALF2": "nan",
         "RollingAvg5Yr": 10.74,
         "RollingSD5Yr": 1.2177848742696722,
         "RollingAvg5Yr_low": 9.522215125730328,
         "RollingAvg5Yr_high": 11.957784874269672,
         "inflation": 17.43119266055046,
         "_deepnote_index_column": 4
        }
       ]
      },
      "text/plain": "     Year   Jan   Feb   Mar   Apr   May   Jun   Jul   Aug   Sep  ...   Nov  \\\n0  1913.0   9.8   9.8   9.8   9.8   9.7   9.8   9.9   9.9  10.0  ...  10.1   \n1  1914.0  10.0   9.9   9.9   9.8   9.9   9.9  10.0  10.2  10.2  ...  10.2   \n2  1915.0  10.1  10.0   9.9  10.0  10.1  10.1  10.1  10.1  10.1  ...  10.3   \n3  1916.0  10.4  10.4  10.5  10.6  10.7  10.8  10.8  10.9  11.1  ...  11.5   \n4  1917.0  11.7  12.0  12.0  12.6  12.8  13.0  12.8  13.0  13.3  ...  13.5   \n\n    Dec  Annual  HALF1  HALF2  RollingAvg5Yr  RollingSD5Yr  RollingAvg5Yr_low  \\\n0  10.0     9.9    NaN    NaN            NaN           NaN                NaN   \n1  10.1    10.0    NaN    NaN            NaN           NaN                NaN   \n2  10.3    10.1    NaN    NaN            NaN           NaN                NaN   \n3  11.6    10.9    NaN    NaN            NaN           NaN                NaN   \n4  13.7    12.8    NaN    NaN          10.74      1.217785           9.522215   \n\n   RollingAvg5Yr_high  inflation  \n0                 NaN        NaN  \n1                 NaN   1.010101  \n2                 NaN   1.000000  \n3                 NaN   7.920792  \n4           11.957785  17.431193  \n\n[5 rows x 21 columns]",
      "text/html": "<div>\n<style scoped>\n    .dataframe tbody tr th:only-of-type {\n        vertical-align: middle;\n    }\n\n    .dataframe tbody tr th {\n        vertical-align: top;\n    }\n\n    .dataframe thead th {\n        text-align: right;\n    }\n</style>\n<table border=\"1\" class=\"dataframe\">\n  <thead>\n    <tr style=\"text-align: right;\">\n      <th></th>\n      <th>Year</th>\n      <th>Jan</th>\n      <th>Feb</th>\n      <th>Mar</th>\n      <th>Apr</th>\n      <th>May</th>\n      <th>Jun</th>\n      <th>Jul</th>\n      <th>Aug</th>\n      <th>Sep</th>\n      <th>...</th>\n      <th>Nov</th>\n      <th>Dec</th>\n      <th>Annual</th>\n      <th>HALF1</th>\n      <th>HALF2</th>\n      <th>RollingAvg5Yr</th>\n      <th>RollingSD5Yr</th>\n      <th>RollingAvg5Yr_low</th>\n      <th>RollingAvg5Yr_high</th>\n      <th>inflation</th>\n    </tr>\n  </thead>\n  <tbody>\n    <tr>\n      <th>0</th>\n      <td>1913.0</td>\n      <td>9.8</td>\n      <td>9.8</td>\n      <td>9.8</td>\n      <td>9.8</td>\n      <td>9.7</td>\n      <td>9.8</td>\n      <td>9.9</td>\n      <td>9.9</td>\n      <td>10.0</td>\n      <td>...</td>\n      <td>10.1</td>\n      <td>10.0</td>\n      <td>9.9</td>\n      <td>NaN</td>\n      <td>NaN</td>\n      <td>NaN</td>\n      <td>NaN</td>\n      <td>NaN</td>\n      <td>NaN</td>\n      <td>NaN</td>\n    </tr>\n    <tr>\n      <th>1</th>\n      <td>1914.0</td>\n      <td>10.0</td>\n      <td>9.9</td>\n      <td>9.9</td>\n      <td>9.8</td>\n      <td>9.9</td>\n      <td>9.9</td>\n      <td>10.0</td>\n      <td>10.2</td>\n      <td>10.2</td>\n      <td>...</td>\n      <td>10.2</td>\n      <td>10.1</td>\n      <td>10.0</td>\n      <td>NaN</td>\n      <td>NaN</td>\n      <td>NaN</td>\n      <td>NaN</td>\n      <td>NaN</td>\n      <td>NaN</td>\n      <td>1.010101</td>\n    </tr>\n    <tr>\n      <th>2</th>\n      <td>1915.0</td>\n      <td>10.1</td>\n      <td>10.0</td>\n      <td>9.9</td>\n      <td>10.0</td>\n      <td>10.1</td>\n      <td>10.1</td>\n      <td>10.1</td>\n      <td>10.1</td>\n      <td>10.1</td>\n      <td>...</td>\n      <td>10.3</td>\n      <td>10.3</td>\n      <td>10.1</td>\n      <td>NaN</td>\n      <td>NaN</td>\n      <td>NaN</td>\n      <td>NaN</td>\n      <td>NaN</td>\n      <td>NaN</td>\n      <td>1.000000</td>\n    </tr>\n    <tr>\n      <th>3</th>\n      <td>1916.0</td>\n      <td>10.4</td>\n      <td>10.4</td>\n      <td>10.5</td>\n      <td>10.6</td>\n      <td>10.7</td>\n      <td>10.8</td>\n      <td>10.8</td>\n      <td>10.9</td>\n      <td>11.1</td>\n      <td>...</td>\n      <td>11.5</td>\n      <td>11.6</td>\n      <td>10.9</td>\n      <td>NaN</td>\n      <td>NaN</td>\n      <td>NaN</td>\n      <td>NaN</td>\n      <td>NaN</td>\n      <td>NaN</td>\n      <td>7.920792</td>\n    </tr>\n    <tr>\n      <th>4</th>\n      <td>1917.0</td>\n      <td>11.7</td>\n      <td>12.0</td>\n      <td>12.0</td>\n      <td>12.6</td>\n      <td>12.8</td>\n      <td>13.0</td>\n      <td>12.8</td>\n      <td>13.0</td>\n      <td>13.3</td>\n      <td>...</td>\n      <td>13.5</td>\n      <td>13.7</td>\n      <td>12.8</td>\n      <td>NaN</td>\n      <td>NaN</td>\n      <td>10.74</td>\n      <td>1.217785</td>\n      <td>9.522215</td>\n      <td>11.957785</td>\n      <td>17.431193</td>\n    </tr>\n  </tbody>\n</table>\n<p>5 rows × 21 columns</p>\n</div>"
     },
     "metadata": {}
    }
   ],
   "execution_count": null
  },
  {
   "cell_type": "code",
   "source": "fig = go.Figure()\n\ny = df_cpi['inflation']\nx = df_cpi['Year']\n\n\nfig.add_trace(go.Scatter(x=x, y=y,\n                         marker=dict(color='#005100',size = 5),\n                         line = dict(color='#005100',width = 1),\n                         mode='markers+lines',\n                         name='Yearly CPI'))\n\nfig.update_xaxes(tickangle=-45, tickfont = dict(family = 'Arial', size = 14,color = 'black'))\nfig.update_layout(hovermode=\"x unified\",clickmode ='select',height=500,width=1100,)\n\nfig.show(config=scatter_config)\n",
   "metadata": {
    "cell_id": "b7394df6c392492b8518714075f82775",
    "tags": [],
    "deepnote_to_be_reexecuted": false,
    "source_hash": "28b0f96c",
    "execution_start": 1647972224922,
    "execution_millis": 9,
    "deepnote_cell_type": "code",
    "deepnote_cell_height": 887,
    "deepnote_output_heights": [
     502
    ]
   },
   "outputs": [
    {
     "data": {
      "text/html": "<html>\n<head><meta charset=\"utf-8\" /></head>\n<body>\n    <div>            <script src=\"https://cdnjs.cloudflare.com/ajax/libs/mathjax/2.7.5/MathJax.js?config=TeX-AMS-MML_SVG\"></script><script type=\"text/javascript\">if (window.MathJax) {MathJax.Hub.Config({SVG: {font: \"STIX-Web\"}});}</script>                <script type=\"text/javascript\">window.PlotlyConfig = {MathJaxConfig: 'local'};</script>\n        <script src=\"https://cdn.plot.ly/plotly-2.9.0.min.js\"></script>                <div id=\"98c1a6ac-16d1-48c3-8dd3-e1cc6809cb5f\" class=\"plotly-graph-div\" style=\"height:500px; width:1100px;\"></div>            <script type=\"text/javascript\">                                    window.PLOTLYENV=window.PLOTLYENV || {};                                    if (document.getElementById(\"98c1a6ac-16d1-48c3-8dd3-e1cc6809cb5f\")) {                    Plotly.newPlot(                        \"98c1a6ac-16d1-48c3-8dd3-e1cc6809cb5f\",                        [{\"line\":{\"color\":\"#005100\",\"width\":1},\"marker\":{\"color\":\"#005100\",\"size\":5},\"mode\":\"markers+lines\",\"name\":\"Yearly CPI\",\"x\":[1913.0,1914.0,1915.0,1916.0,1917.0,1918.0,1919.0,1920.0,1921.0,1922.0,1923.0,1924.0,1925.0,1926.0,1927.0,1928.0,1929.0,1930.0,1931.0,1932.0,1933.0,1934.0,1935.0,1936.0,1937.0,1938.0,1939.0,1940.0,1941.0,1942.0,1943.0,1944.0,1945.0,1946.0,1947.0,1948.0,1949.0,1950.0,1951.0,1952.0,1953.0,1954.0,1955.0,1956.0,1957.0,1958.0,1959.0,1960.0,1961.0,1962.0,1963.0,1964.0,1965.0,1966.0,1967.0,1968.0,1969.0,1970.0,1971.0,1972.0,1973.0,1974.0,1975.0,1976.0,1977.0,1978.0,1979.0,1980.0,1981.0,1982.0,1983.0,1984.0,1985.0,1986.0,1987.0,1988.0,1989.0,1990.0,1991.0,1992.0,1993.0,1994.0,1995.0,1996.0,1997.0,1998.0,1999.0,2000.0,2001.0,2002.0,2003.0,2004.0,2005.0,2006.0,2007.0,2008.0,2009.0,2010.0,2011.0,2012.0,2013.0,2014.0,2015.0,2016.0,2017.0,2018.0,2019.0,2020.0,2021.0,2022.0],\"y\":[null,1.0101010101010066,0.9999999999999963,7.920792079207928,17.43119266055046,17.968749999999993,14.569536423841068,15.606936416184967,-10.500000000000007,-6.1452513966480335,1.7857142857142898,0.0,2.339181286549699,1.1428571428571388,-1.6949152542372923,-1.7241379310344664,0.0,-2.33918128654972,-8.982035928143713,-9.868421052631579,-5.109489051094886,3.0769230769230793,2.2388059701492455,1.4598540145985481,3.597122302158273,-2.083333333333338,-1.4184397163120517,0.7194244604316521,4.999999999999995,10.884353741496609,6.134969325153374,1.7341040462427786,2.2727272727272645,8.333333333333332,14.358974358974363,8.071748878923769,-1.2448132780083017,1.2605042016806753,7.883817427385886,1.9230769230769231,0.7547169811320728,0.7490636704119823,-0.3717472118959029,1.4925373134328304,3.3088235294117725,2.8469750889679615,0.6920415224913594,1.7182130584192439,1.0135135135135038,1.0033444816053536,1.3245033112582854,1.3071895424836555,1.6129032258064515,2.8571428571428523,3.08641975308642,4.191616766467062,5.459770114942546,5.722070844686632,4.38144329896908,3.20987654320987,6.220095693779908,11.036036036036032,9.127789046653144,5.762081784386621,6.502636203866438,7.5907590759075925,11.349693251533727,13.498622589531697,10.315533980582524,6.160616061606154,3.2124352331606163,4.317269076305232,3.561116458132809,1.858736059479554,3.649635036496351,4.137323943661975,4.818258664412513,5.403225806451604,4.208110175975517,3.0102790014684455,2.9935851746257933,2.5605536332179852,2.8340080971660035,2.952755905511811,2.2944550669216026,1.557632398753894,2.2085889570552113,3.3613445378151225,2.845528455284556,1.5810276679841961,2.279043913285155,2.6630434782608727,3.3880359978824806,3.225806451612894,2.848214285714295,3.8395501152684854,-0.35577767146764844,1.6402765024214963,3.1565285981582627,2.069449939761447,1.4647595320435203,1.6221877857286953,0.11869762097864538,1.261512887261255,2.1303545313261694,2.442477154046995,1.811976567757972,1.2336841940568684,4.69802288156224,null],\"type\":\"scatter\"}],                        {\"template\":{\"data\":{\"bar\":[{\"error_x\":{\"color\":\"#2a3f5f\"},\"error_y\":{\"color\":\"#2a3f5f\"},\"marker\":{\"line\":{\"color\":\"#E5ECF6\",\"width\":0.5},\"pattern\":{\"fillmode\":\"overlay\",\"size\":10,\"solidity\":0.2}},\"type\":\"bar\"}],\"barpolar\":[{\"marker\":{\"line\":{\"color\":\"#E5ECF6\",\"width\":0.5},\"pattern\":{\"fillmode\":\"overlay\",\"size\":10,\"solidity\":0.2}},\"type\":\"barpolar\"}],\"carpet\":[{\"aaxis\":{\"endlinecolor\":\"#2a3f5f\",\"gridcolor\":\"white\",\"linecolor\":\"white\",\"minorgridcolor\":\"white\",\"startlinecolor\":\"#2a3f5f\"},\"baxis\":{\"endlinecolor\":\"#2a3f5f\",\"gridcolor\":\"white\",\"linecolor\":\"white\",\"minorgridcolor\":\"white\",\"startlinecolor\":\"#2a3f5f\"},\"type\":\"carpet\"}],\"choropleth\":[{\"colorbar\":{\"outlinewidth\":0,\"ticks\":\"\"},\"type\":\"choropleth\"}],\"contour\":[{\"colorbar\":{\"outlinewidth\":0,\"ticks\":\"\"},\"colorscale\":[[0.0,\"#0d0887\"],[0.1111111111111111,\"#46039f\"],[0.2222222222222222,\"#7201a8\"],[0.3333333333333333,\"#9c179e\"],[0.4444444444444444,\"#bd3786\"],[0.5555555555555556,\"#d8576b\"],[0.6666666666666666,\"#ed7953\"],[0.7777777777777778,\"#fb9f3a\"],[0.8888888888888888,\"#fdca26\"],[1.0,\"#f0f921\"]],\"type\":\"contour\"}],\"contourcarpet\":[{\"colorbar\":{\"outlinewidth\":0,\"ticks\":\"\"},\"type\":\"contourcarpet\"}],\"heatmap\":[{\"colorbar\":{\"outlinewidth\":0,\"ticks\":\"\"},\"colorscale\":[[0.0,\"#0d0887\"],[0.1111111111111111,\"#46039f\"],[0.2222222222222222,\"#7201a8\"],[0.3333333333333333,\"#9c179e\"],[0.4444444444444444,\"#bd3786\"],[0.5555555555555556,\"#d8576b\"],[0.6666666666666666,\"#ed7953\"],[0.7777777777777778,\"#fb9f3a\"],[0.8888888888888888,\"#fdca26\"],[1.0,\"#f0f921\"]],\"type\":\"heatmap\"}],\"heatmapgl\":[{\"colorbar\":{\"outlinewidth\":0,\"ticks\":\"\"},\"colorscale\":[[0.0,\"#0d0887\"],[0.1111111111111111,\"#46039f\"],[0.2222222222222222,\"#7201a8\"],[0.3333333333333333,\"#9c179e\"],[0.4444444444444444,\"#bd3786\"],[0.5555555555555556,\"#d8576b\"],[0.6666666666666666,\"#ed7953\"],[0.7777777777777778,\"#fb9f3a\"],[0.8888888888888888,\"#fdca26\"],[1.0,\"#f0f921\"]],\"type\":\"heatmapgl\"}],\"histogram\":[{\"marker\":{\"pattern\":{\"fillmode\":\"overlay\",\"size\":10,\"solidity\":0.2}},\"type\":\"histogram\"}],\"histogram2d\":[{\"colorbar\":{\"outlinewidth\":0,\"ticks\":\"\"},\"colorscale\":[[0.0,\"#0d0887\"],[0.1111111111111111,\"#46039f\"],[0.2222222222222222,\"#7201a8\"],[0.3333333333333333,\"#9c179e\"],[0.4444444444444444,\"#bd3786\"],[0.5555555555555556,\"#d8576b\"],[0.6666666666666666,\"#ed7953\"],[0.7777777777777778,\"#fb9f3a\"],[0.8888888888888888,\"#fdca26\"],[1.0,\"#f0f921\"]],\"type\":\"histogram2d\"}],\"histogram2dcontour\":[{\"colorbar\":{\"outlinewidth\":0,\"ticks\":\"\"},\"colorscale\":[[0.0,\"#0d0887\"],[0.1111111111111111,\"#46039f\"],[0.2222222222222222,\"#7201a8\"],[0.3333333333333333,\"#9c179e\"],[0.4444444444444444,\"#bd3786\"],[0.5555555555555556,\"#d8576b\"],[0.6666666666666666,\"#ed7953\"],[0.7777777777777778,\"#fb9f3a\"],[0.8888888888888888,\"#fdca26\"],[1.0,\"#f0f921\"]],\"type\":\"histogram2dcontour\"}],\"mesh3d\":[{\"colorbar\":{\"outlinewidth\":0,\"ticks\":\"\"},\"type\":\"mesh3d\"}],\"parcoords\":[{\"line\":{\"colorbar\":{\"outlinewidth\":0,\"ticks\":\"\"}},\"type\":\"parcoords\"}],\"pie\":[{\"automargin\":true,\"type\":\"pie\"}],\"scatter\":[{\"marker\":{\"colorbar\":{\"outlinewidth\":0,\"ticks\":\"\"}},\"type\":\"scatter\"}],\"scatter3d\":[{\"line\":{\"colorbar\":{\"outlinewidth\":0,\"ticks\":\"\"}},\"marker\":{\"colorbar\":{\"outlinewidth\":0,\"ticks\":\"\"}},\"type\":\"scatter3d\"}],\"scattercarpet\":[{\"marker\":{\"colorbar\":{\"outlinewidth\":0,\"ticks\":\"\"}},\"type\":\"scattercarpet\"}],\"scattergeo\":[{\"marker\":{\"colorbar\":{\"outlinewidth\":0,\"ticks\":\"\"}},\"type\":\"scattergeo\"}],\"scattergl\":[{\"marker\":{\"colorbar\":{\"outlinewidth\":0,\"ticks\":\"\"}},\"type\":\"scattergl\"}],\"scattermapbox\":[{\"marker\":{\"colorbar\":{\"outlinewidth\":0,\"ticks\":\"\"}},\"type\":\"scattermapbox\"}],\"scatterpolar\":[{\"marker\":{\"colorbar\":{\"outlinewidth\":0,\"ticks\":\"\"}},\"type\":\"scatterpolar\"}],\"scatterpolargl\":[{\"marker\":{\"colorbar\":{\"outlinewidth\":0,\"ticks\":\"\"}},\"type\":\"scatterpolargl\"}],\"scatterternary\":[{\"marker\":{\"colorbar\":{\"outlinewidth\":0,\"ticks\":\"\"}},\"type\":\"scatterternary\"}],\"surface\":[{\"colorbar\":{\"outlinewidth\":0,\"ticks\":\"\"},\"colorscale\":[[0.0,\"#0d0887\"],[0.1111111111111111,\"#46039f\"],[0.2222222222222222,\"#7201a8\"],[0.3333333333333333,\"#9c179e\"],[0.4444444444444444,\"#bd3786\"],[0.5555555555555556,\"#d8576b\"],[0.6666666666666666,\"#ed7953\"],[0.7777777777777778,\"#fb9f3a\"],[0.8888888888888888,\"#fdca26\"],[1.0,\"#f0f921\"]],\"type\":\"surface\"}],\"table\":[{\"cells\":{\"fill\":{\"color\":\"#EBF0F8\"},\"line\":{\"color\":\"white\"}},\"header\":{\"fill\":{\"color\":\"#C8D4E3\"},\"line\":{\"color\":\"white\"}},\"type\":\"table\"}]},\"layout\":{\"annotationdefaults\":{\"arrowcolor\":\"#2a3f5f\",\"arrowhead\":0,\"arrowwidth\":1},\"autotypenumbers\":\"strict\",\"coloraxis\":{\"colorbar\":{\"outlinewidth\":0,\"ticks\":\"\"}},\"colorscale\":{\"diverging\":[[0,\"#8e0152\"],[0.1,\"#c51b7d\"],[0.2,\"#de77ae\"],[0.3,\"#f1b6da\"],[0.4,\"#fde0ef\"],[0.5,\"#f7f7f7\"],[0.6,\"#e6f5d0\"],[0.7,\"#b8e186\"],[0.8,\"#7fbc41\"],[0.9,\"#4d9221\"],[1,\"#276419\"]],\"sequential\":[[0.0,\"#0d0887\"],[0.1111111111111111,\"#46039f\"],[0.2222222222222222,\"#7201a8\"],[0.3333333333333333,\"#9c179e\"],[0.4444444444444444,\"#bd3786\"],[0.5555555555555556,\"#d8576b\"],[0.6666666666666666,\"#ed7953\"],[0.7777777777777778,\"#fb9f3a\"],[0.8888888888888888,\"#fdca26\"],[1.0,\"#f0f921\"]],\"sequentialminus\":[[0.0,\"#0d0887\"],[0.1111111111111111,\"#46039f\"],[0.2222222222222222,\"#7201a8\"],[0.3333333333333333,\"#9c179e\"],[0.4444444444444444,\"#bd3786\"],[0.5555555555555556,\"#d8576b\"],[0.6666666666666666,\"#ed7953\"],[0.7777777777777778,\"#fb9f3a\"],[0.8888888888888888,\"#fdca26\"],[1.0,\"#f0f921\"]]},\"colorway\":[\"#636efa\",\"#EF553B\",\"#00cc96\",\"#ab63fa\",\"#FFA15A\",\"#19d3f3\",\"#FF6692\",\"#B6E880\",\"#FF97FF\",\"#FECB52\"],\"font\":{\"color\":\"#2a3f5f\"},\"geo\":{\"bgcolor\":\"white\",\"lakecolor\":\"white\",\"landcolor\":\"#E5ECF6\",\"showlakes\":true,\"showland\":true,\"subunitcolor\":\"white\"},\"hoverlabel\":{\"align\":\"left\"},\"hovermode\":\"closest\",\"mapbox\":{\"style\":\"light\"},\"paper_bgcolor\":\"white\",\"plot_bgcolor\":\"#E5ECF6\",\"polar\":{\"angularaxis\":{\"gridcolor\":\"white\",\"linecolor\":\"white\",\"ticks\":\"\"},\"bgcolor\":\"#E5ECF6\",\"radialaxis\":{\"gridcolor\":\"white\",\"linecolor\":\"white\",\"ticks\":\"\"}},\"scene\":{\"xaxis\":{\"backgroundcolor\":\"#E5ECF6\",\"gridcolor\":\"white\",\"gridwidth\":2,\"linecolor\":\"white\",\"showbackground\":true,\"ticks\":\"\",\"zerolinecolor\":\"white\"},\"yaxis\":{\"backgroundcolor\":\"#E5ECF6\",\"gridcolor\":\"white\",\"gridwidth\":2,\"linecolor\":\"white\",\"showbackground\":true,\"ticks\":\"\",\"zerolinecolor\":\"white\"},\"zaxis\":{\"backgroundcolor\":\"#E5ECF6\",\"gridcolor\":\"white\",\"gridwidth\":2,\"linecolor\":\"white\",\"showbackground\":true,\"ticks\":\"\",\"zerolinecolor\":\"white\"}},\"shapedefaults\":{\"line\":{\"color\":\"#2a3f5f\"}},\"ternary\":{\"aaxis\":{\"gridcolor\":\"white\",\"linecolor\":\"white\",\"ticks\":\"\"},\"baxis\":{\"gridcolor\":\"white\",\"linecolor\":\"white\",\"ticks\":\"\"},\"bgcolor\":\"#E5ECF6\",\"caxis\":{\"gridcolor\":\"white\",\"linecolor\":\"white\",\"ticks\":\"\"}},\"title\":{\"x\":0.05},\"xaxis\":{\"automargin\":true,\"gridcolor\":\"white\",\"linecolor\":\"white\",\"ticks\":\"\",\"title\":{\"standoff\":15},\"zerolinecolor\":\"white\",\"zerolinewidth\":2},\"yaxis\":{\"automargin\":true,\"gridcolor\":\"white\",\"linecolor\":\"white\",\"ticks\":\"\",\"title\":{\"standoff\":15},\"zerolinecolor\":\"white\",\"zerolinewidth\":2}}},\"xaxis\":{\"tickfont\":{\"family\":\"Arial\",\"size\":14,\"color\":\"black\"},\"tickangle\":-45},\"hovermode\":\"x unified\",\"clickmode\":\"select\",\"height\":500,\"width\":1100},                        {\"displayModeBar\": \"Always\", \"displaylogo\": false, \"modeBarButtons\": \"toggleHover \", \"modeBarButtonsToRemove\": [\"zoom2d\", \"zoomIn2d\", \"zoomOut2d\", \"toImage\", \"sendDataToCloud\", \"editInChartStudio\", \"select2d\", \"lasso2d\"], \"responsive\": true}                    ).then(function(){\n                            \nvar gd = document.getElementById('98c1a6ac-16d1-48c3-8dd3-e1cc6809cb5f');\nvar x = new MutationObserver(function (mutations, observer) {{\n        var display = window.getComputedStyle(gd).display;\n        if (!display || display === 'none') {{\n            console.log([gd, 'removed!']);\n            Plotly.purge(gd);\n            observer.disconnect();\n        }}\n}});\n\n// Listen for the removal of the full notebook cells\nvar notebookContainer = gd.closest('#notebook-container');\nif (notebookContainer) {{\n    x.observe(notebookContainer, {childList: true});\n}}\n\n// Listen for the clearing of the current output cell\nvar outputEl = gd.closest('.output');\nif (outputEl) {{\n    x.observe(outputEl, {childList: true});\n}}\n\n                        })                };                            </script>        </div>\n</body>\n</html>"
     },
     "metadata": {},
     "output_type": "display_data"
    }
   ],
   "execution_count": null
  },
  {
   "cell_type": "code",
   "metadata": {
    "cell_id": "218d2e5990f042c1836253db160e2264",
    "tags": [],
    "deepnote_to_be_reexecuted": false,
    "source_hash": "83ab63f5",
    "execution_start": 1647967523461,
    "execution_millis": 44,
    "deepnote_cell_type": "code",
    "deepnote_cell_height": 1211,
    "deepnote_output_heights": [
     502
    ]
   },
   "source": "fig = go.Figure()\n\ny = df_cpi['Annual']\nx = df_cpi['Year']\ny_roll = df_cpi['RollingAvg5Yr']\ny_rollmin = df_cpi['RollingAvg5Yr_low']\ny_rollmax = df_cpi['RollingAvg5Yr_high']\n\nfig.add_trace(go.Scatter(x=x, y=y,\n                         marker=dict(color='#005100',size = 5),\n                         line = dict(color='#005100',width = 1),\n                         mode='markers+lines',\n                         name='Yearly CPI'))\n\nfig.add_trace(go.Scatter(x=x, y=y_roll,\n                         line = dict(color='#FF3333',width = 1),\n                         mode='lines',\n                         name='5 Year Rolling Avg'))\n\nfig.add_trace(go.Scatter(x=x, y=y_rollmin,\n                         line = dict(color='#bf9fa2',width = 1),\n                         mode='lines',\n                         name='5 Year Rolling Low'))\n\nfig.add_trace(go.Scatter(x=x, y=y_rollmax,\n                         line = dict(color='#bf9fa2',width = 1),\n                         mode='lines',\n                         fill='tonexty',\n                         name='5 Year Rolling High'))\n\nfig.update_xaxes(tickangle=-45, tickfont = dict(family = 'Arial', size = 14,color = 'black'))\nfig.update_layout(hovermode=\"x unified\",clickmode ='select',height=500,width=1100,)\n\nfig.show(config=scatter_config)\n",
   "outputs": [
    {
     "data": {
      "text/html": "<html>\n<head><meta charset=\"utf-8\" /></head>\n<body>\n    <div>            <script src=\"https://cdnjs.cloudflare.com/ajax/libs/mathjax/2.7.5/MathJax.js?config=TeX-AMS-MML_SVG\"></script><script type=\"text/javascript\">if (window.MathJax) {MathJax.Hub.Config({SVG: {font: \"STIX-Web\"}});}</script>                <script type=\"text/javascript\">window.PlotlyConfig = {MathJaxConfig: 'local'};</script>\n        <script src=\"https://cdn.plot.ly/plotly-2.9.0.min.js\"></script>                <div id=\"fc2e0d54-ef3b-424a-998b-417e86ec7bce\" class=\"plotly-graph-div\" style=\"height:500px; width:1100px;\"></div>            <script type=\"text/javascript\">                                    window.PLOTLYENV=window.PLOTLYENV || {};                                    if (document.getElementById(\"fc2e0d54-ef3b-424a-998b-417e86ec7bce\")) {                    Plotly.newPlot(                        \"fc2e0d54-ef3b-424a-998b-417e86ec7bce\",                        [{\"line\":{\"color\":\"#005100\",\"width\":1},\"marker\":{\"color\":\"#005100\",\"size\":5},\"mode\":\"markers+lines\",\"name\":\"Yearly CPI\",\"x\":[1913.0,1914.0,1915.0,1916.0,1917.0,1918.0,1919.0,1920.0,1921.0,1922.0,1923.0,1924.0,1925.0,1926.0,1927.0,1928.0,1929.0,1930.0,1931.0,1932.0,1933.0,1934.0,1935.0,1936.0,1937.0,1938.0,1939.0,1940.0,1941.0,1942.0,1943.0,1944.0,1945.0,1946.0,1947.0,1948.0,1949.0,1950.0,1951.0,1952.0,1953.0,1954.0,1955.0,1956.0,1957.0,1958.0,1959.0,1960.0,1961.0,1962.0,1963.0,1964.0,1965.0,1966.0,1967.0,1968.0,1969.0,1970.0,1971.0,1972.0,1973.0,1974.0,1975.0,1976.0,1977.0,1978.0,1979.0,1980.0,1981.0,1982.0,1983.0,1984.0,1985.0,1986.0,1987.0,1988.0,1989.0,1990.0,1991.0,1992.0,1993.0,1994.0,1995.0,1996.0,1997.0,1998.0,1999.0,2000.0,2001.0,2002.0,2003.0,2004.0,2005.0,2006.0,2007.0,2008.0,2009.0,2010.0,2011.0,2012.0,2013.0,2014.0,2015.0,2016.0,2017.0,2018.0,2019.0,2020.0,2021.0,2022.0],\"y\":[9.9,10.0,10.1,10.9,12.8,15.1,17.3,20.0,17.9,16.8,17.1,17.1,17.5,17.7,17.4,17.1,17.1,16.7,15.2,13.7,13.0,13.4,13.7,13.9,14.4,14.1,13.9,14.0,14.7,16.3,17.3,17.6,18.0,19.5,22.3,24.1,23.8,24.1,26.0,26.5,26.7,26.9,26.8,27.2,28.1,28.9,29.1,29.6,29.9,30.2,30.6,31.0,31.5,32.4,33.4,34.8,36.7,38.8,40.5,41.8,44.4,49.3,53.8,56.9,60.6,65.2,72.6,82.4,90.9,96.5,99.6,103.9,107.6,109.6,113.6,118.3,124.0,130.7,136.2,140.3,144.5,148.2,152.4,156.9,160.5,163.0,166.6,172.2,177.1,179.9,184.0,188.9,195.3,201.6,207.342,215.303,214.537,218.056,224.939,229.594,232.957,236.736,237.017,240.007,245.12,251.107,255.657,258.811,270.97,null],\"type\":\"scatter\"},{\"line\":{\"color\":\"#FF3333\",\"width\":1},\"mode\":\"lines\",\"name\":\"5 Year Rolling Avg\",\"x\":[1913.0,1914.0,1915.0,1916.0,1917.0,1918.0,1919.0,1920.0,1921.0,1922.0,1923.0,1924.0,1925.0,1926.0,1927.0,1928.0,1929.0,1930.0,1931.0,1932.0,1933.0,1934.0,1935.0,1936.0,1937.0,1938.0,1939.0,1940.0,1941.0,1942.0,1943.0,1944.0,1945.0,1946.0,1947.0,1948.0,1949.0,1950.0,1951.0,1952.0,1953.0,1954.0,1955.0,1956.0,1957.0,1958.0,1959.0,1960.0,1961.0,1962.0,1963.0,1964.0,1965.0,1966.0,1967.0,1968.0,1969.0,1970.0,1971.0,1972.0,1973.0,1974.0,1975.0,1976.0,1977.0,1978.0,1979.0,1980.0,1981.0,1982.0,1983.0,1984.0,1985.0,1986.0,1987.0,1988.0,1989.0,1990.0,1991.0,1992.0,1993.0,1994.0,1995.0,1996.0,1997.0,1998.0,1999.0,2000.0,2001.0,2002.0,2003.0,2004.0,2005.0,2006.0,2007.0,2008.0,2009.0,2010.0,2011.0,2012.0,2013.0,2014.0,2015.0,2016.0,2017.0,2018.0,2019.0,2020.0,2021.0,2022.0],\"y\":[null,null,null,null,10.74,11.780000000000001,13.24,15.219999999999999,16.619999999999997,17.419999999999998,17.82,17.78,17.28,17.240000000000002,17.360000000000003,17.36,17.360000000000003,17.2,16.7,15.959999999999999,15.14,14.4,13.8,13.540000000000001,13.679999999999998,13.9,14.0,14.059999999999999,14.219999999999999,14.6,15.24,15.98,16.78,17.740000000000002,18.94,20.3,21.54,22.759999999999998,24.06,24.9,25.42,26.04,26.580000000000002,26.82,27.139999999999997,27.580000000000002,28.02,28.580000000000002,29.120000000000005,29.54,29.880000000000003,30.26,30.640000000000004,31.139999999999997,31.78,32.62,33.760000000000005,35.22,36.839999999999996,38.519999999999996,40.44,42.959999999999994,45.96,49.239999999999995,53.0,57.160000000000004,61.82000000000001,67.53999999999999,74.34,81.52000000000001,88.4,94.66,99.7,103.44000000000001,106.85999999999999,110.6,114.62,119.24000000000001,124.55999999999999,129.9,135.14000000000001,139.98000000000002,144.32,148.46,152.5,156.2,159.88,163.83999999999997,167.88,171.76,175.95999999999998,180.42,185.04000000000002,189.94,195.4284,201.68900000000002,206.81640000000002,211.36759999999998,216.03539999999998,220.4858,224.0166,228.45639999999997,232.24859999999998,235.26219999999998,238.3674,241.99740000000003,245.78160000000003,250.1404,256.33299999999997,null],\"type\":\"scatter\"},{\"line\":{\"color\":\"#bf9fa2\",\"width\":1},\"mode\":\"lines\",\"name\":\"5 Year Rolling Low\",\"x\":[1913.0,1914.0,1915.0,1916.0,1917.0,1918.0,1919.0,1920.0,1921.0,1922.0,1923.0,1924.0,1925.0,1926.0,1927.0,1928.0,1929.0,1930.0,1931.0,1932.0,1933.0,1934.0,1935.0,1936.0,1937.0,1938.0,1939.0,1940.0,1941.0,1942.0,1943.0,1944.0,1945.0,1946.0,1947.0,1948.0,1949.0,1950.0,1951.0,1952.0,1953.0,1954.0,1955.0,1956.0,1957.0,1958.0,1959.0,1960.0,1961.0,1962.0,1963.0,1964.0,1965.0,1966.0,1967.0,1968.0,1969.0,1970.0,1971.0,1972.0,1973.0,1974.0,1975.0,1976.0,1977.0,1978.0,1979.0,1980.0,1981.0,1982.0,1983.0,1984.0,1985.0,1986.0,1987.0,1988.0,1989.0,1990.0,1991.0,1992.0,1993.0,1994.0,1995.0,1996.0,1997.0,1998.0,1999.0,2000.0,2001.0,2002.0,2003.0,2004.0,2005.0,2006.0,2007.0,2008.0,2009.0,2010.0,2011.0,2012.0,2013.0,2014.0,2015.0,2016.0,2017.0,2018.0,2019.0,2020.0,2021.0,2022.0],\"y\":[null,null,null,null,9.522215125730328,9.610437832188255,10.262081263701106,11.624586254685003,13.861920958348,15.640393301878191,16.536645021827557,16.473477899153636,16.853385419845974,16.88222912360004,17.0992319037919,17.099231903791896,17.0992319037919,16.82583426132261,15.825357215773206,14.474065950319464,13.341945495820553,12.868660716888648,12.966333399973353,13.189286441665011,13.153692105322376,13.519211344706818,13.73542486889356,13.852635586466745,13.89289145532409,13.600000000000003,13.740666814880697,14.396649122904215,15.458258724258037,16.572524090184306,16.880145636216,17.486639020672964,18.85057626990465,20.790736178162007,22.743565421298893,23.64900039968034,24.04996350413577,24.90509912327114,26.223629406375995,26.561156417889254,26.571669110464757,26.681668212741027,27.00658991518739,27.638193225762375,28.42573780169171,28.99870525589116,29.308160861780305,29.705022522979682,30.005177190075983,30.286770839692043,30.65217022561035,31.09618898809603,31.709878052407674,32.64861904806002,33.95677264163927,35.695641665793836,37.51544875237246,38.868178889540765,40.43342782549619,42.95008744098936,46.65059057864436,51.044200788122644,54.44355098980549,57.37545377304034,61.944920331034595,68.68384013810987,77.41205205691257,86.32915370445478,93.2242761022416,98.00005514733843,101.49921647517834,105.05067571681026,107.96703073808399,110.87919860300465,115.43843215231067,120.98568566854411,127.09059008373907,133.1150892212644,137.9468532105403,141.95823100994812,146.06066773648072,150.20708751941092,154.4003102277592,157.9762980976178,161.10526753295744,164.71848027766728,169.1922086320572,174.02492376902347,177.78203885378267,181.25305577317312,186.03069640816432,191.42153721701408,198.27613365169438,204.62448074404713,209.67706426649218,213.94852490252993,216.31464354076172,221.19964912236867,227.1531760431537,231.22465821074218,233.83851025746893,235.89035797459988,238.09256002091266,242.48473694576336,246.66498994104757,null],\"type\":\"scatter\"},{\"fill\":\"tonexty\",\"line\":{\"color\":\"#bf9fa2\",\"width\":1},\"mode\":\"lines\",\"name\":\"5 Year Rolling High\",\"x\":[1913.0,1914.0,1915.0,1916.0,1917.0,1918.0,1919.0,1920.0,1921.0,1922.0,1923.0,1924.0,1925.0,1926.0,1927.0,1928.0,1929.0,1930.0,1931.0,1932.0,1933.0,1934.0,1935.0,1936.0,1937.0,1938.0,1939.0,1940.0,1941.0,1942.0,1943.0,1944.0,1945.0,1946.0,1947.0,1948.0,1949.0,1950.0,1951.0,1952.0,1953.0,1954.0,1955.0,1956.0,1957.0,1958.0,1959.0,1960.0,1961.0,1962.0,1963.0,1964.0,1965.0,1966.0,1967.0,1968.0,1969.0,1970.0,1971.0,1972.0,1973.0,1974.0,1975.0,1976.0,1977.0,1978.0,1979.0,1980.0,1981.0,1982.0,1983.0,1984.0,1985.0,1986.0,1987.0,1988.0,1989.0,1990.0,1991.0,1992.0,1993.0,1994.0,1995.0,1996.0,1997.0,1998.0,1999.0,2000.0,2001.0,2002.0,2003.0,2004.0,2005.0,2006.0,2007.0,2008.0,2009.0,2010.0,2011.0,2012.0,2013.0,2014.0,2015.0,2016.0,2017.0,2018.0,2019.0,2020.0,2021.0,2022.0],\"y\":[null,null,null,null,11.957784874269672,13.949562167811747,16.217918736298895,18.815413745314995,19.378079041651993,19.199606698121805,19.103354978172444,19.086522100846366,17.706614580154028,17.597770876399963,17.620768096208106,17.620768096208103,17.620768096208106,17.57416573867739,17.574642784226793,17.445934049680535,16.938054504179448,15.931339283111353,14.633666600026649,13.89071355833499,14.20630789467762,14.280788655293183,14.26457513110644,14.267364413533253,14.547108544675908,15.599999999999996,16.739333185119303,17.563350877095786,18.101741275741965,18.907475909815698,20.999854363784003,23.113360979327037,24.22942373009535,24.72926382183799,25.376434578701105,26.150999600319658,26.790036495864232,27.17490087672886,26.93637059362401,27.078843582110746,27.708330889535237,28.478331787258977,29.03341008481261,29.52180677423763,29.8142621983083,30.08129474410884,30.4518391382197,30.81497747702032,31.274822809924025,31.99322916030795,32.90782977438965,34.14381101190396,35.810121947592336,37.79138095193998,39.723227358360724,41.344358334206156,43.36455124762754,47.05182111045922,51.48657217450381,55.52991255901063,59.34940942135564,63.27579921187736,69.19644901019453,77.70454622695965,86.73507966896541,94.35615986189015,99.38794794308744,102.99084629554521,106.1757238977584,108.8799448526616,112.22078352482163,116.14932428318973,121.27296926191602,127.60080139699537,133.6815678476893,138.8143143314559,143.18940991626096,146.84491077873562,150.6931467894597,154.9617689900519,158.93933226351928,162.19291248058906,165.35968977224078,169.70370190238214,174.65473246704255,178.8015197223327,182.72779136794276,186.8150762309765,192.29796114621738,198.62694422682688,204.8261035918357,211.95646278298597,215.35666634830565,218.11071925595283,222.39373573350778,227.0230750974701,231.7185564592383,235.71315087763128,237.34402395684626,239.29974178925778,242.89628974253108,248.10444202540017,253.4706399790874,257.79606305423664,266.0010100589524,null],\"type\":\"scatter\"}],                        {\"template\":{\"data\":{\"bar\":[{\"error_x\":{\"color\":\"#2a3f5f\"},\"error_y\":{\"color\":\"#2a3f5f\"},\"marker\":{\"line\":{\"color\":\"#E5ECF6\",\"width\":0.5},\"pattern\":{\"fillmode\":\"overlay\",\"size\":10,\"solidity\":0.2}},\"type\":\"bar\"}],\"barpolar\":[{\"marker\":{\"line\":{\"color\":\"#E5ECF6\",\"width\":0.5},\"pattern\":{\"fillmode\":\"overlay\",\"size\":10,\"solidity\":0.2}},\"type\":\"barpolar\"}],\"carpet\":[{\"aaxis\":{\"endlinecolor\":\"#2a3f5f\",\"gridcolor\":\"white\",\"linecolor\":\"white\",\"minorgridcolor\":\"white\",\"startlinecolor\":\"#2a3f5f\"},\"baxis\":{\"endlinecolor\":\"#2a3f5f\",\"gridcolor\":\"white\",\"linecolor\":\"white\",\"minorgridcolor\":\"white\",\"startlinecolor\":\"#2a3f5f\"},\"type\":\"carpet\"}],\"choropleth\":[{\"colorbar\":{\"outlinewidth\":0,\"ticks\":\"\"},\"type\":\"choropleth\"}],\"contour\":[{\"colorbar\":{\"outlinewidth\":0,\"ticks\":\"\"},\"colorscale\":[[0.0,\"#0d0887\"],[0.1111111111111111,\"#46039f\"],[0.2222222222222222,\"#7201a8\"],[0.3333333333333333,\"#9c179e\"],[0.4444444444444444,\"#bd3786\"],[0.5555555555555556,\"#d8576b\"],[0.6666666666666666,\"#ed7953\"],[0.7777777777777778,\"#fb9f3a\"],[0.8888888888888888,\"#fdca26\"],[1.0,\"#f0f921\"]],\"type\":\"contour\"}],\"contourcarpet\":[{\"colorbar\":{\"outlinewidth\":0,\"ticks\":\"\"},\"type\":\"contourcarpet\"}],\"heatmap\":[{\"colorbar\":{\"outlinewidth\":0,\"ticks\":\"\"},\"colorscale\":[[0.0,\"#0d0887\"],[0.1111111111111111,\"#46039f\"],[0.2222222222222222,\"#7201a8\"],[0.3333333333333333,\"#9c179e\"],[0.4444444444444444,\"#bd3786\"],[0.5555555555555556,\"#d8576b\"],[0.6666666666666666,\"#ed7953\"],[0.7777777777777778,\"#fb9f3a\"],[0.8888888888888888,\"#fdca26\"],[1.0,\"#f0f921\"]],\"type\":\"heatmap\"}],\"heatmapgl\":[{\"colorbar\":{\"outlinewidth\":0,\"ticks\":\"\"},\"colorscale\":[[0.0,\"#0d0887\"],[0.1111111111111111,\"#46039f\"],[0.2222222222222222,\"#7201a8\"],[0.3333333333333333,\"#9c179e\"],[0.4444444444444444,\"#bd3786\"],[0.5555555555555556,\"#d8576b\"],[0.6666666666666666,\"#ed7953\"],[0.7777777777777778,\"#fb9f3a\"],[0.8888888888888888,\"#fdca26\"],[1.0,\"#f0f921\"]],\"type\":\"heatmapgl\"}],\"histogram\":[{\"marker\":{\"pattern\":{\"fillmode\":\"overlay\",\"size\":10,\"solidity\":0.2}},\"type\":\"histogram\"}],\"histogram2d\":[{\"colorbar\":{\"outlinewidth\":0,\"ticks\":\"\"},\"colorscale\":[[0.0,\"#0d0887\"],[0.1111111111111111,\"#46039f\"],[0.2222222222222222,\"#7201a8\"],[0.3333333333333333,\"#9c179e\"],[0.4444444444444444,\"#bd3786\"],[0.5555555555555556,\"#d8576b\"],[0.6666666666666666,\"#ed7953\"],[0.7777777777777778,\"#fb9f3a\"],[0.8888888888888888,\"#fdca26\"],[1.0,\"#f0f921\"]],\"type\":\"histogram2d\"}],\"histogram2dcontour\":[{\"colorbar\":{\"outlinewidth\":0,\"ticks\":\"\"},\"colorscale\":[[0.0,\"#0d0887\"],[0.1111111111111111,\"#46039f\"],[0.2222222222222222,\"#7201a8\"],[0.3333333333333333,\"#9c179e\"],[0.4444444444444444,\"#bd3786\"],[0.5555555555555556,\"#d8576b\"],[0.6666666666666666,\"#ed7953\"],[0.7777777777777778,\"#fb9f3a\"],[0.8888888888888888,\"#fdca26\"],[1.0,\"#f0f921\"]],\"type\":\"histogram2dcontour\"}],\"mesh3d\":[{\"colorbar\":{\"outlinewidth\":0,\"ticks\":\"\"},\"type\":\"mesh3d\"}],\"parcoords\":[{\"line\":{\"colorbar\":{\"outlinewidth\":0,\"ticks\":\"\"}},\"type\":\"parcoords\"}],\"pie\":[{\"automargin\":true,\"type\":\"pie\"}],\"scatter\":[{\"marker\":{\"colorbar\":{\"outlinewidth\":0,\"ticks\":\"\"}},\"type\":\"scatter\"}],\"scatter3d\":[{\"line\":{\"colorbar\":{\"outlinewidth\":0,\"ticks\":\"\"}},\"marker\":{\"colorbar\":{\"outlinewidth\":0,\"ticks\":\"\"}},\"type\":\"scatter3d\"}],\"scattercarpet\":[{\"marker\":{\"colorbar\":{\"outlinewidth\":0,\"ticks\":\"\"}},\"type\":\"scattercarpet\"}],\"scattergeo\":[{\"marker\":{\"colorbar\":{\"outlinewidth\":0,\"ticks\":\"\"}},\"type\":\"scattergeo\"}],\"scattergl\":[{\"marker\":{\"colorbar\":{\"outlinewidth\":0,\"ticks\":\"\"}},\"type\":\"scattergl\"}],\"scattermapbox\":[{\"marker\":{\"colorbar\":{\"outlinewidth\":0,\"ticks\":\"\"}},\"type\":\"scattermapbox\"}],\"scatterpolar\":[{\"marker\":{\"colorbar\":{\"outlinewidth\":0,\"ticks\":\"\"}},\"type\":\"scatterpolar\"}],\"scatterpolargl\":[{\"marker\":{\"colorbar\":{\"outlinewidth\":0,\"ticks\":\"\"}},\"type\":\"scatterpolargl\"}],\"scatterternary\":[{\"marker\":{\"colorbar\":{\"outlinewidth\":0,\"ticks\":\"\"}},\"type\":\"scatterternary\"}],\"surface\":[{\"colorbar\":{\"outlinewidth\":0,\"ticks\":\"\"},\"colorscale\":[[0.0,\"#0d0887\"],[0.1111111111111111,\"#46039f\"],[0.2222222222222222,\"#7201a8\"],[0.3333333333333333,\"#9c179e\"],[0.4444444444444444,\"#bd3786\"],[0.5555555555555556,\"#d8576b\"],[0.6666666666666666,\"#ed7953\"],[0.7777777777777778,\"#fb9f3a\"],[0.8888888888888888,\"#fdca26\"],[1.0,\"#f0f921\"]],\"type\":\"surface\"}],\"table\":[{\"cells\":{\"fill\":{\"color\":\"#EBF0F8\"},\"line\":{\"color\":\"white\"}},\"header\":{\"fill\":{\"color\":\"#C8D4E3\"},\"line\":{\"color\":\"white\"}},\"type\":\"table\"}]},\"layout\":{\"annotationdefaults\":{\"arrowcolor\":\"#2a3f5f\",\"arrowhead\":0,\"arrowwidth\":1},\"autotypenumbers\":\"strict\",\"coloraxis\":{\"colorbar\":{\"outlinewidth\":0,\"ticks\":\"\"}},\"colorscale\":{\"diverging\":[[0,\"#8e0152\"],[0.1,\"#c51b7d\"],[0.2,\"#de77ae\"],[0.3,\"#f1b6da\"],[0.4,\"#fde0ef\"],[0.5,\"#f7f7f7\"],[0.6,\"#e6f5d0\"],[0.7,\"#b8e186\"],[0.8,\"#7fbc41\"],[0.9,\"#4d9221\"],[1,\"#276419\"]],\"sequential\":[[0.0,\"#0d0887\"],[0.1111111111111111,\"#46039f\"],[0.2222222222222222,\"#7201a8\"],[0.3333333333333333,\"#9c179e\"],[0.4444444444444444,\"#bd3786\"],[0.5555555555555556,\"#d8576b\"],[0.6666666666666666,\"#ed7953\"],[0.7777777777777778,\"#fb9f3a\"],[0.8888888888888888,\"#fdca26\"],[1.0,\"#f0f921\"]],\"sequentialminus\":[[0.0,\"#0d0887\"],[0.1111111111111111,\"#46039f\"],[0.2222222222222222,\"#7201a8\"],[0.3333333333333333,\"#9c179e\"],[0.4444444444444444,\"#bd3786\"],[0.5555555555555556,\"#d8576b\"],[0.6666666666666666,\"#ed7953\"],[0.7777777777777778,\"#fb9f3a\"],[0.8888888888888888,\"#fdca26\"],[1.0,\"#f0f921\"]]},\"colorway\":[\"#636efa\",\"#EF553B\",\"#00cc96\",\"#ab63fa\",\"#FFA15A\",\"#19d3f3\",\"#FF6692\",\"#B6E880\",\"#FF97FF\",\"#FECB52\"],\"font\":{\"color\":\"#2a3f5f\"},\"geo\":{\"bgcolor\":\"white\",\"lakecolor\":\"white\",\"landcolor\":\"#E5ECF6\",\"showlakes\":true,\"showland\":true,\"subunitcolor\":\"white\"},\"hoverlabel\":{\"align\":\"left\"},\"hovermode\":\"closest\",\"mapbox\":{\"style\":\"light\"},\"paper_bgcolor\":\"white\",\"plot_bgcolor\":\"#E5ECF6\",\"polar\":{\"angularaxis\":{\"gridcolor\":\"white\",\"linecolor\":\"white\",\"ticks\":\"\"},\"bgcolor\":\"#E5ECF6\",\"radialaxis\":{\"gridcolor\":\"white\",\"linecolor\":\"white\",\"ticks\":\"\"}},\"scene\":{\"xaxis\":{\"backgroundcolor\":\"#E5ECF6\",\"gridcolor\":\"white\",\"gridwidth\":2,\"linecolor\":\"white\",\"showbackground\":true,\"ticks\":\"\",\"zerolinecolor\":\"white\"},\"yaxis\":{\"backgroundcolor\":\"#E5ECF6\",\"gridcolor\":\"white\",\"gridwidth\":2,\"linecolor\":\"white\",\"showbackground\":true,\"ticks\":\"\",\"zerolinecolor\":\"white\"},\"zaxis\":{\"backgroundcolor\":\"#E5ECF6\",\"gridcolor\":\"white\",\"gridwidth\":2,\"linecolor\":\"white\",\"showbackground\":true,\"ticks\":\"\",\"zerolinecolor\":\"white\"}},\"shapedefaults\":{\"line\":{\"color\":\"#2a3f5f\"}},\"ternary\":{\"aaxis\":{\"gridcolor\":\"white\",\"linecolor\":\"white\",\"ticks\":\"\"},\"baxis\":{\"gridcolor\":\"white\",\"linecolor\":\"white\",\"ticks\":\"\"},\"bgcolor\":\"#E5ECF6\",\"caxis\":{\"gridcolor\":\"white\",\"linecolor\":\"white\",\"ticks\":\"\"}},\"title\":{\"x\":0.05},\"xaxis\":{\"automargin\":true,\"gridcolor\":\"white\",\"linecolor\":\"white\",\"ticks\":\"\",\"title\":{\"standoff\":15},\"zerolinecolor\":\"white\",\"zerolinewidth\":2},\"yaxis\":{\"automargin\":true,\"gridcolor\":\"white\",\"linecolor\":\"white\",\"ticks\":\"\",\"title\":{\"standoff\":15},\"zerolinecolor\":\"white\",\"zerolinewidth\":2}}},\"xaxis\":{\"tickfont\":{\"family\":\"Arial\",\"size\":14,\"color\":\"black\"},\"tickangle\":-45},\"hovermode\":\"x unified\",\"clickmode\":\"select\",\"height\":500,\"width\":1100},                        {\"displayModeBar\": \"Always\", \"displaylogo\": false, \"modeBarButtons\": \"toggleHover \", \"modeBarButtonsToRemove\": [\"zoom2d\", \"zoomIn2d\", \"zoomOut2d\", \"toImage\", \"sendDataToCloud\", \"editInChartStudio\", \"select2d\", \"lasso2d\"], \"responsive\": true}                    ).then(function(){\n                            \nvar gd = document.getElementById('fc2e0d54-ef3b-424a-998b-417e86ec7bce');\nvar x = new MutationObserver(function (mutations, observer) {{\n        var display = window.getComputedStyle(gd).display;\n        if (!display || display === 'none') {{\n            console.log([gd, 'removed!']);\n            Plotly.purge(gd);\n            observer.disconnect();\n        }}\n}});\n\n// Listen for the removal of the full notebook cells\nvar notebookContainer = gd.closest('#notebook-container');\nif (notebookContainer) {{\n    x.observe(notebookContainer, {childList: true});\n}}\n\n// Listen for the clearing of the current output cell\nvar outputEl = gd.closest('.output');\nif (outputEl) {{\n    x.observe(outputEl, {childList: true});\n}}\n\n                        })                };                            </script>        </div>\n</body>\n</html>"
     },
     "metadata": {},
     "output_type": "display_data"
    }
   ],
   "execution_count": null
  },
  {
   "cell_type": "code",
   "metadata": {
    "cell_id": "6ca4af93bbd949788f717b64e795cf47",
    "tags": [],
    "deepnote_to_be_reexecuted": false,
    "source_hash": "16dbf4e6",
    "execution_start": 1647967374349,
    "execution_millis": 4979,
    "deepnote_cell_type": "code",
    "deepnote_cell_height": 3539.875,
    "deepnote_output_heights": [
     264,
     null,
     21.1875,
     97.9375,
     21.1875,
     500.875,
     21.1875,
     97.9375,
     21.1875,
     611,
     426,
     426
    ]
   },
   "source": "#https://machinelearningmastery.com/time-series-forecasting-with-prophet-in-python/\nseries = df_cpi['Annual']\nlag_plot(series)\npyplot.show()\n\ndf_model = df_cpi.copy()\ndf_model = df_model[['Year', 'Annual']]\ndf_model.rename(columns={\"Year\": \"ds\", \"Annual\": \"y\"},inplace=True)\ndf_model['ds']= pd.to_datetime(df_model['ds'],format='%Y')\n# define the model\nmodel = Prophet()\n# fit the model\nmodel.fit(df_model)\n\ndisplay('Model change points data')\ndisplay(model.changepoints_t)\n\ndisplay('Model change points times')\ndisplay(model.changepoints)\n\ndisplay('Model Component Modes')\ndisplay(model.component_modes)\n\ndisplay('Model Parameters')\ndisplay(model.params)\n\n#https://medium.com/analytics-vidhya/time-series-analysis-a-quick-tour-of-fbprophet-cbbfbffdf9d8#:~:text=Prophet%20is%20a%20procedure%20for,several%20seasons%20of%20historical%20data.\nfuture = model.make_future_dataframe(periods= 80, freq= 'Y')\nforcast = model.predict(future)\nfig = model.plot(forcast)\nfig.show()\nfig = model.plot_components(forcast)",
   "outputs": [
    {
     "data": {
      "text/plain": "<Figure size 432x288 with 1 Axes>",
      "image/png": "[encoded data removed]"
     },
     "metadata": {
      "needs_background": "light",
      "image/png": {
       "width": 389,
       "height": 262
      }
     },
     "output_type": "display_data"
    },
    {
     "name": "stderr",
     "text": "INFO:fbprophet:Disabling weekly seasonality. Run prophet with weekly_seasonality=True to override this.\nINFO:fbprophet:Disabling daily seasonality. Run prophet with daily_seasonality=True to override this.\n",
     "output_type": "stream"
    },
    {
     "data": {
      "text/plain": "'Model change points data'"
     },
     "metadata": {},
     "output_type": "display_data"
    },
    {
     "data": {
      "text/plain": "array([0.02775876, 0.0647958 , 0.09257992, 0.12961695, 0.15740107,\n       0.19443811, 0.22222222, 0.25925926, 0.28701802, 0.31480214,\n       0.35183918, 0.37962329, 0.41666033, 0.44444444, 0.48148148,\n       0.50924025, 0.53702436, 0.5740614 , 0.60184551, 0.63888255,\n       0.66666667, 0.7037037 , 0.73146247, 0.76849951, 0.79628362])"
     },
     "metadata": {},
     "output_type": "display_data"
    },
    {
     "data": {
      "text/plain": "'Model change points times'"
     },
     "metadata": {},
     "output_type": "display_data"
    },
    {
     "data": {
      "text/plain": "3    1916-01-01\n7    1920-01-01\n10   1923-01-01\n14   1927-01-01\n17   1930-01-01\n21   1934-01-01\n24   1937-01-01\n28   1941-01-01\n31   1944-01-01\n34   1947-01-01\n38   1951-01-01\n41   1954-01-01\n45   1958-01-01\n48   1961-01-01\n52   1965-01-01\n55   1968-01-01\n58   1971-01-01\n62   1975-01-01\n65   1978-01-01\n69   1982-01-01\n72   1985-01-01\n76   1989-01-01\n79   1992-01-01\n83   1996-01-01\n86   1999-01-01\nName: ds, dtype: datetime64[ns]"
     },
     "metadata": {},
     "output_type": "display_data"
    },
    {
     "data": {
      "text/plain": "'Model Component Modes'"
     },
     "metadata": {},
     "output_type": "display_data"
    },
    {
     "data": {
      "text/plain": "{'additive': ['yearly',\n  'additive_terms',\n  'extra_regressors_additive',\n  'holidays'],\n 'multiplicative': ['multiplicative_terms', 'extra_regressors_multiplicative']}"
     },
     "metadata": {},
     "output_type": "display_data"
    },
    {
     "data": {
      "text/plain": "'Model Parameters'"
     },
     "metadata": {},
     "output_type": "display_data"
    },
    {
     "data": {
      "text/plain": "{'k': array([[0.29218001]]),\n 'm': array([[0.04380505]]),\n 'delta': array([[-1.65067518e-07, -2.19460125e-01, -1.31572714e-01,\n         -3.39040689e-03, -8.67785608e-08,  3.21573101e-06,\n          2.43063836e-01,  1.17014313e-01, -9.07994150e-08,\n         -8.87744565e-06, -2.40236831e-02, -2.56771896e-02,\n          5.91018375e-08, -2.21160800e-09,  5.04350471e-03,\n          4.21683191e-01,  7.52535284e-01,  6.79430204e-01,\n          6.33837189e-03, -7.10190031e-02, -1.95070521e-01,\n         -3.88214193e-02, -5.60604076e-02, -3.17645330e-07,\n          8.22775857e-08]]),\n 'sigma_obs': array([[0.00754207]]),\n 'beta': array([[ 8.93104200e-07,  7.19378384e-03,  4.11624918e-06,\n          6.59144731e-03,  1.19992593e-05,  5.58759888e-03,\n          2.68715317e-05,  4.18230721e-03,  5.10618108e-05,\n          2.37566842e-03,  8.68979846e-05,  1.67806104e-04,\n          1.36706863e-04, -2.44112873e-03,  2.02813965e-04,\n         -5.45095762e-03,  2.87543294e-04, -8.86147469e-03,\n          3.93217142e-04, -1.26724467e-02]]),\n 'trend': array([[0.04380505, 0.04650857, 0.04921209, 0.05191561, 0.05462653,\n         0.05733005, 0.06003357, 0.06273708, 0.0634118 , 0.06408467,\n         0.06475754, 0.06421297, 0.06366692, 0.06312236, 0.0625778 ,\n         0.06200186, 0.06142435, 0.06084842, 0.06027248, 0.05969655,\n         0.05911904, 0.0585431 , 0.0579672 , 0.05739129, 0.05681381,\n         0.05848696, 0.0601601 , 0.06183325, 0.06351098, 0.06626685,\n         0.06902272, 0.07177859, 0.07454201, 0.07729788, 0.08005375,\n         0.08280954, 0.08557288, 0.08832867, 0.09108445, 0.09361795,\n         0.09615839, 0.09869189, 0.1009878 , 0.10328371, 0.10558591,\n         0.10788182, 0.11017773, 0.11247364, 0.11477584, 0.11707175,\n         0.11936766, 0.12166356, 0.12396576, 0.12630834, 0.12865092,\n         0.1309935 , 0.13725498, 0.14349936, 0.14974374, 0.16295127,\n         0.17619498, 0.18940251, 0.20261004, 0.22210428, 0.24165193,\n         0.26114618, 0.28069907, 0.30025196, 0.31985842, 0.33941131,\n         0.35830707, 0.37720283, 0.39615035, 0.41324114, 0.43033193,\n         0.44742271, 0.46456032, 0.4812919 , 0.49802347, 0.51475505,\n         0.53101232, 0.54722517, 0.56343802, 0.57965087, 0.59590814,\n         0.61212099, 0.62833384, 0.64454669, 0.66080395, 0.6770168 ,\n         0.69322965, 0.7094425 , 0.72569977, 0.74191262, 0.75812547,\n         0.77433832, 0.79059559, 0.80680844, 0.82302129, 0.83923414,\n         0.85549141, 0.87170426, 0.88791711, 0.90412995, 0.92038722,\n         0.93660007, 0.95281292, 0.96902577, 0.98528304]])}"
     },
     "metadata": {},
     "output_type": "display_data"
    },
    {
     "data": {
      "text/plain": "<Figure size 720x432 with 1 Axes>",
      "image/png": "[encoded data removed]"
     },
     "metadata": {
      "image/png": {
       "width": 712,
       "height": 424
      }
     },
     "output_type": "display_data"
    },
    {
     "data": {
      "text/plain": "<Figure size 648x432 with 2 Axes>",
      "image/png": "[encoded data removed]"
     },
     "metadata": {
      "image/png": {
       "width": 638,
       "height": 424
      }
     },
     "output_type": "display_data"
    }
   ],
   "execution_count": null
  },
  {
   "cell_type": "code",
   "metadata": {
    "cell_id": "15b6c426-ac2f-4681-b2c2-369a5a215ee4",
    "tags": [],
    "deepnote_to_be_reexecuted": false,
    "source_hash": "926480f",
    "execution_start": 1647967379331,
    "execution_millis": 218,
    "deepnote_cell_type": "code",
    "deepnote_cell_height": 500
   },
   "source": "df_inflation = pd.read_excel('CPIPctChangeData.xlsx',engine='openpyxl',sheet_name = 'BLS Data Series',skiprows=11)\ndf_inflation['RollingAvg5Yr'] = df_inflation.Annual.rolling(5).mean()\ndf_inflation['RollingSD5Yr'] = df_inflation.Annual.rolling(5).std()\ndf_inflation['RollingAvg5Yr_low'] = df_inflation['RollingAvg5Yr'] - df_inflation['RollingSD5Yr']\ndf_inflation['RollingAvg5Yr_high'] = df_inflation['RollingAvg5Yr'] + df_inflation['RollingSD5Yr']\ndf_inflation.head() ",
   "outputs": [
    {
     "output_type": "execute_result",
     "execution_count": 5,
     "data": {
      "application/vnd.deepnote.dataframe.v3+json": {
       "column_count": 20,
       "row_count": 5,
       "columns": [
        {
         "name": "Year",
         "dtype": "float64",
         "stats": {
          "unique_count": 5,
          "nan_count": 0,
          "min": "1914.0",
          "max": "1918.0",
          "histogram": [
           {
            "bin_start": 1914,
            "bin_end": 1914.4,
            "count": 1
           },
           {
            "bin_start": 1914.4,
            "bin_end": 1914.8,
            "count": 0
           },
           {
            "bin_start": 1914.8,
            "bin_end": 1915.2,
            "count": 1
           },
           {
            "bin_start": 1915.2,
            "bin_end": 1915.6,
            "count": 0
           },
           {
            "bin_start": 1915.6,
            "bin_end": 1916,
            "count": 0
           },
           {
            "bin_start": 1916,
            "bin_end": 1916.4,
            "count": 1
           },
           {
            "bin_start": 1916.4,
            "bin_end": 1916.8,
            "count": 0
           },
           {
            "bin_start": 1916.8,
            "bin_end": 1917.2,
            "count": 1
           },
           {
            "bin_start": 1917.2,
            "bin_end": 1917.6,
            "count": 0
           },
           {
            "bin_start": 1917.6,
            "bin_end": 1918,
            "count": 1
           }
          ]
         }
        },
        {
         "name": "Jan",
         "dtype": "float64",
         "stats": {
          "unique_count": 5,
          "nan_count": 0,
          "min": "1.0",
          "max": "19.7",
          "histogram": [
           {
            "bin_start": 1,
            "bin_end": 2.87,
            "count": 2
           },
           {
            "bin_start": 2.87,
            "bin_end": 4.74,
            "count": 1
           },
           {
            "bin_start": 4.74,
            "bin_end": 6.609999999999999,
            "count": 0
           },
           {
            "bin_start": 6.609999999999999,
            "bin_end": 8.48,
            "count": 0
           },
           {
            "bin_start": 8.48,
            "bin_end": 10.35,
            "count": 0
           },
           {
            "bin_start": 10.35,
            "bin_end": 12.219999999999999,
            "count": 0
           },
           {
            "bin_start": 12.219999999999999,
            "bin_end": 14.09,
            "count": 1
           },
           {
            "bin_start": 14.09,
            "bin_end": 15.959999999999999,
            "count": 0
           },
           {
            "bin_start": 15.959999999999999,
            "bin_end": 17.83,
            "count": 0
           },
           {
            "bin_start": 17.83,
            "bin_end": 19.7,
            "count": 1
           }
          ]
         }
        },
        {
         "name": "Feb",
         "dtype": "float64",
         "stats": {
          "unique_count": 4,
          "nan_count": 0,
          "min": "1.0",
          "max": "17.5",
          "histogram": [
           {
            "bin_start": 1,
            "bin_end": 2.65,
            "count": 2
           },
           {
            "bin_start": 2.65,
            "bin_end": 4.3,
            "count": 1
           },
           {
            "bin_start": 4.3,
            "bin_end": 5.949999999999999,
            "count": 0
           },
           {
            "bin_start": 5.949999999999999,
            "bin_end": 7.6,
            "count": 0
           },
           {
            "bin_start": 7.6,
            "bin_end": 9.25,
            "count": 0
           },
           {
            "bin_start": 9.25,
            "bin_end": 10.899999999999999,
            "count": 0
           },
           {
            "bin_start": 10.899999999999999,
            "bin_end": 12.549999999999999,
            "count": 0
           },
           {
            "bin_start": 12.549999999999999,
            "bin_end": 14.2,
            "count": 0
           },
           {
            "bin_start": 14.2,
            "bin_end": 15.85,
            "count": 1
           },
           {
            "bin_start": 15.85,
            "bin_end": 17.5,
            "count": 1
           }
          ]
         }
        },
        {
         "name": "Mar",
         "dtype": "float64",
         "stats": {
          "unique_count": 5,
          "nan_count": 0,
          "min": "0.0",
          "max": "16.7",
          "histogram": [
           {
            "bin_start": 0,
            "bin_end": 1.67,
            "count": 2
           },
           {
            "bin_start": 1.67,
            "bin_end": 3.34,
            "count": 0
           },
           {
            "bin_start": 3.34,
            "bin_end": 5.01,
            "count": 0
           },
           {
            "bin_start": 5.01,
            "bin_end": 6.68,
            "count": 1
           },
           {
            "bin_start": 6.68,
            "bin_end": 8.35,
            "count": 0
           },
           {
            "bin_start": 8.35,
            "bin_end": 10.02,
            "count": 0
           },
           {
            "bin_start": 10.02,
            "bin_end": 11.69,
            "count": 0
           },
           {
            "bin_start": 11.69,
            "bin_end": 13.36,
            "count": 0
           },
           {
            "bin_start": 13.36,
            "bin_end": 15.03,
            "count": 1
           },
           {
            "bin_start": 15.03,
            "bin_end": 16.7,
            "count": 1
           }
          ]
         }
        },
        {
         "name": "Apr",
         "dtype": "float64",
         "stats": {
          "unique_count": 5,
          "nan_count": 0,
          "min": "0.0",
          "max": "18.9",
          "histogram": [
           {
            "bin_start": 0,
            "bin_end": 1.89,
            "count": 1
           },
           {
            "bin_start": 1.89,
            "bin_end": 3.78,
            "count": 1
           },
           {
            "bin_start": 3.78,
            "bin_end": 5.67,
            "count": 0
           },
           {
            "bin_start": 5.67,
            "bin_end": 7.56,
            "count": 1
           },
           {
            "bin_start": 7.56,
            "bin_end": 9.45,
            "count": 0
           },
           {
            "bin_start": 9.45,
            "bin_end": 11.34,
            "count": 0
           },
           {
            "bin_start": 11.34,
            "bin_end": 13.229999999999999,
            "count": 1
           },
           {
            "bin_start": 13.229999999999999,
            "bin_end": 15.12,
            "count": 0
           },
           {
            "bin_start": 15.12,
            "bin_end": 17.009999999999998,
            "count": 0
           },
           {
            "bin_start": 17.009999999999998,
            "bin_end": 18.9,
            "count": 1
           }
          ]
         }
        },
        {
         "name": "May",
         "dtype": "float64",
         "stats": {
          "unique_count": 5,
          "nan_count": 0,
          "min": "2.0",
          "max": "19.6",
          "histogram": [
           {
            "bin_start": 2,
            "bin_end": 3.7600000000000002,
            "count": 2
           },
           {
            "bin_start": 3.7600000000000002,
            "bin_end": 5.5200000000000005,
            "count": 0
           },
           {
            "bin_start": 5.5200000000000005,
            "bin_end": 7.280000000000001,
            "count": 1
           },
           {
            "bin_start": 7.280000000000001,
            "bin_end": 9.040000000000001,
            "count": 0
           },
           {
            "bin_start": 9.040000000000001,
            "bin_end": 10.8,
            "count": 0
           },
           {
            "bin_start": 10.8,
            "bin_end": 12.560000000000002,
            "count": 0
           },
           {
            "bin_start": 12.560000000000002,
            "bin_end": 14.320000000000002,
            "count": 1
           },
           {
            "bin_start": 14.320000000000002,
            "bin_end": 16.080000000000002,
            "count": 0
           },
           {
            "bin_start": 16.080000000000002,
            "bin_end": 17.840000000000003,
            "count": 0
           },
           {
            "bin_start": 17.840000000000003,
            "bin_end": 19.6,
            "count": 1
           }
          ]
         }
        },
        {
         "name": "Jun",
         "dtype": "float64",
         "stats": {
          "unique_count": 5,
          "nan_count": 0,
          "min": "1.0",
          "max": "20.4",
          "histogram": [
           {
            "bin_start": 1,
            "bin_end": 2.94,
            "count": 2
           },
           {
            "bin_start": 2.94,
            "bin_end": 4.88,
            "count": 0
           },
           {
            "bin_start": 4.88,
            "bin_end": 6.82,
            "count": 0
           },
           {
            "bin_start": 6.82,
            "bin_end": 8.76,
            "count": 1
           },
           {
            "bin_start": 8.76,
            "bin_end": 10.7,
            "count": 0
           },
           {
            "bin_start": 10.7,
            "bin_end": 12.64,
            "count": 0
           },
           {
            "bin_start": 12.64,
            "bin_end": 14.58,
            "count": 1
           },
           {
            "bin_start": 14.58,
            "bin_end": 16.52,
            "count": 0
           },
           {
            "bin_start": 16.52,
            "bin_end": 18.46,
            "count": 0
           },
           {
            "bin_start": 18.46,
            "bin_end": 20.4,
            "count": 1
           }
          ]
         }
        },
        {
         "name": "Jul",
         "dtype": "float64",
         "stats": {
          "unique_count": 4,
          "nan_count": 0,
          "min": "1.0",
          "max": "18.5",
          "histogram": [
           {
            "bin_start": 1,
            "bin_end": 2.75,
            "count": 2
           },
           {
            "bin_start": 2.75,
            "bin_end": 4.5,
            "count": 0
           },
           {
            "bin_start": 4.5,
            "bin_end": 6.25,
            "count": 0
           },
           {
            "bin_start": 6.25,
            "bin_end": 8,
            "count": 1
           },
           {
            "bin_start": 8,
            "bin_end": 9.75,
            "count": 0
           },
           {
            "bin_start": 9.75,
            "bin_end": 11.5,
            "count": 0
           },
           {
            "bin_start": 11.5,
            "bin_end": 13.25,
            "count": 0
           },
           {
            "bin_start": 13.25,
            "bin_end": 15,
            "count": 0
           },
           {
            "bin_start": 15,
            "bin_end": 16.75,
            "count": 0
           },
           {
            "bin_start": 16.75,
            "bin_end": 18.5,
            "count": 2
           }
          ]
         }
        },
        {
         "name": "Aug",
         "dtype": "float64",
         "stats": {
          "unique_count": 5,
          "nan_count": 0,
          "min": "-1.0",
          "max": "19.3",
          "histogram": [
           {
            "bin_start": -1,
            "bin_end": 1.0300000000000002,
            "count": 1
           },
           {
            "bin_start": 1.0300000000000002,
            "bin_end": 3.0600000000000005,
            "count": 1
           },
           {
            "bin_start": 3.0600000000000005,
            "bin_end": 5.090000000000001,
            "count": 0
           },
           {
            "bin_start": 5.090000000000001,
            "bin_end": 7.120000000000001,
            "count": 0
           },
           {
            "bin_start": 7.120000000000001,
            "bin_end": 9.150000000000002,
            "count": 1
           },
           {
            "bin_start": 9.150000000000002,
            "bin_end": 11.180000000000001,
            "count": 0
           },
           {
            "bin_start": 11.180000000000001,
            "bin_end": 13.21,
            "count": 0
           },
           {
            "bin_start": 13.21,
            "bin_end": 15.240000000000002,
            "count": 0
           },
           {
            "bin_start": 15.240000000000002,
            "bin_end": 17.270000000000003,
            "count": 0
           },
           {
            "bin_start": 17.270000000000003,
            "bin_end": 19.3,
            "count": 2
           }
          ]
         }
        },
        {
         "name": "Sep",
         "dtype": "float64",
         "stats": {
          "unique_count": 5,
          "nan_count": 0,
          "min": "-1.0",
          "max": "19.8",
          "histogram": [
           {
            "bin_start": -1,
            "bin_end": 1.08,
            "count": 1
           },
           {
            "bin_start": 1.08,
            "bin_end": 3.16,
            "count": 1
           },
           {
            "bin_start": 3.16,
            "bin_end": 5.24,
            "count": 0
           },
           {
            "bin_start": 5.24,
            "bin_end": 7.32,
            "count": 0
           },
           {
            "bin_start": 7.32,
            "bin_end": 9.4,
            "count": 0
           },
           {
            "bin_start": 9.4,
            "bin_end": 11.48,
            "count": 1
           },
           {
            "bin_start": 11.48,
            "bin_end": 13.56,
            "count": 0
           },
           {
            "bin_start": 13.56,
            "bin_end": 15.64,
            "count": 0
           },
           {
            "bin_start": 15.64,
            "bin_end": 17.72,
            "count": 0
           },
           {
            "bin_start": 17.72,
            "bin_end": 19.8,
            "count": 2
           }
          ]
         }
        },
        {
         "name": "Oct",
         "dtype": "float64",
         "stats": {
          "unique_count": 4,
          "nan_count": 0,
          "min": "1.0",
          "max": "19.5",
          "histogram": [
           {
            "bin_start": 1,
            "bin_end": 2.85,
            "count": 2
           },
           {
            "bin_start": 2.85,
            "bin_end": 4.7,
            "count": 0
           },
           {
            "bin_start": 4.7,
            "bin_end": 6.550000000000001,
            "count": 0
           },
           {
            "bin_start": 6.550000000000001,
            "bin_end": 8.4,
            "count": 0
           },
           {
            "bin_start": 8.4,
            "bin_end": 10.25,
            "count": 0
           },
           {
            "bin_start": 10.25,
            "bin_end": 12.100000000000001,
            "count": 1
           },
           {
            "bin_start": 12.100000000000001,
            "bin_end": 13.950000000000001,
            "count": 0
           },
           {
            "bin_start": 13.950000000000001,
            "bin_end": 15.8,
            "count": 0
           },
           {
            "bin_start": 15.8,
            "bin_end": 17.650000000000002,
            "count": 0
           },
           {
            "bin_start": 17.650000000000002,
            "bin_end": 19.5,
            "count": 2
           }
          ]
         }
        },
        {
         "name": "Nov",
         "dtype": "float64",
         "stats": {
          "unique_count": 4,
          "nan_count": 0,
          "min": "1.0",
          "max": "20.7",
          "histogram": [
           {
            "bin_start": 1,
            "bin_end": 2.9699999999999998,
            "count": 2
           },
           {
            "bin_start": 2.9699999999999998,
            "bin_end": 4.9399999999999995,
            "count": 0
           },
           {
            "bin_start": 4.9399999999999995,
            "bin_end": 6.91,
            "count": 0
           },
           {
            "bin_start": 6.91,
            "bin_end": 8.879999999999999,
            "count": 0
           },
           {
            "bin_start": 8.879999999999999,
            "bin_end": 10.85,
            "count": 0
           },
           {
            "bin_start": 10.85,
            "bin_end": 12.82,
            "count": 1
           },
           {
            "bin_start": 12.82,
            "bin_end": 14.79,
            "count": 0
           },
           {
            "bin_start": 14.79,
            "bin_end": 16.759999999999998,
            "count": 0
           },
           {
            "bin_start": 16.759999999999998,
            "bin_end": 18.73,
            "count": 1
           },
           {
            "bin_start": 18.73,
            "bin_end": 20.7,
            "count": 1
           }
          ]
         }
        },
        {
         "name": "Dec",
         "dtype": "float64",
         "stats": {
          "unique_count": 5,
          "nan_count": 0,
          "min": "1.0",
          "max": "20.4",
          "histogram": [
           {
            "bin_start": 1,
            "bin_end": 2.94,
            "count": 2
           },
           {
            "bin_start": 2.94,
            "bin_end": 4.88,
            "count": 0
           },
           {
            "bin_start": 4.88,
            "bin_end": 6.82,
            "count": 0
           },
           {
            "bin_start": 6.82,
            "bin_end": 8.76,
            "count": 0
           },
           {
            "bin_start": 8.76,
            "bin_end": 10.7,
            "count": 0
           },
           {
            "bin_start": 10.7,
            "bin_end": 12.64,
            "count": 1
           },
           {
            "bin_start": 12.64,
            "bin_end": 14.58,
            "count": 0
           },
           {
            "bin_start": 14.58,
            "bin_end": 16.52,
            "count": 0
           },
           {
            "bin_start": 16.52,
            "bin_end": 18.46,
            "count": 1
           },
           {
            "bin_start": 18.46,
            "bin_end": 20.4,
            "count": 1
           }
          ]
         }
        },
        {
         "name": "Annual",
         "dtype": "float64",
         "stats": {
          "unique_count": 4,
          "nan_count": 0,
          "min": "1.0",
          "max": "18.0",
          "histogram": [
           {
            "bin_start": 1,
            "bin_end": 2.7,
            "count": 2
           },
           {
            "bin_start": 2.7,
            "bin_end": 4.4,
            "count": 0
           },
           {
            "bin_start": 4.4,
            "bin_end": 6.1,
            "count": 0
           },
           {
            "bin_start": 6.1,
            "bin_end": 7.8,
            "count": 0
           },
           {
            "bin_start": 7.8,
            "bin_end": 9.5,
            "count": 1
           },
           {
            "bin_start": 9.5,
            "bin_end": 11.2,
            "count": 0
           },
           {
            "bin_start": 11.2,
            "bin_end": 12.9,
            "count": 0
           },
           {
            "bin_start": 12.9,
            "bin_end": 14.6,
            "count": 0
           },
           {
            "bin_start": 14.6,
            "bin_end": 16.299999999999997,
            "count": 0
           },
           {
            "bin_start": 16.299999999999997,
            "bin_end": 18,
            "count": 2
           }
          ]
         }
        },
        {
         "name": "HALF1",
         "dtype": "float64",
         "stats": {
          "unique_count": 0,
          "nan_count": 5,
          "min": null,
          "max": null,
          "histogram": [
           {
            "bin_start": 0,
            "bin_end": 0.1,
            "count": 0
           },
           {
            "bin_start": 0.1,
            "bin_end": 0.2,
            "count": 0
           },
           {
            "bin_start": 0.2,
            "bin_end": 0.30000000000000004,
            "count": 0
           },
           {
            "bin_start": 0.30000000000000004,
            "bin_end": 0.4,
            "count": 0
           },
           {
            "bin_start": 0.4,
            "bin_end": 0.5,
            "count": 0
           },
           {
            "bin_start": 0.5,
            "bin_end": 0.6000000000000001,
            "count": 0
           },
           {
            "bin_start": 0.6000000000000001,
            "bin_end": 0.7000000000000001,
            "count": 0
           },
           {
            "bin_start": 0.7000000000000001,
            "bin_end": 0.8,
            "count": 0
           },
           {
            "bin_start": 0.8,
            "bin_end": 0.9,
            "count": 0
           },
           {
            "bin_start": 0.9,
            "bin_end": 1,
            "count": 0
           }
          ]
         }
        },
        {
         "name": "HALF2",
         "dtype": "float64",
         "stats": {
          "unique_count": 0,
          "nan_count": 5,
          "min": null,
          "max": null,
          "histogram": [
           {
            "bin_start": 0,
            "bin_end": 0.1,
            "count": 0
           },
           {
            "bin_start": 0.1,
            "bin_end": 0.2,
            "count": 0
           },
           {
            "bin_start": 0.2,
            "bin_end": 0.30000000000000004,
            "count": 0
           },
           {
            "bin_start": 0.30000000000000004,
            "bin_end": 0.4,
            "count": 0
           },
           {
            "bin_start": 0.4,
            "bin_end": 0.5,
            "count": 0
           },
           {
            "bin_start": 0.5,
            "bin_end": 0.6000000000000001,
            "count": 0
           },
           {
            "bin_start": 0.6000000000000001,
            "bin_end": 0.7000000000000001,
            "count": 0
           },
           {
            "bin_start": 0.7000000000000001,
            "bin_end": 0.8,
            "count": 0
           },
           {
            "bin_start": 0.8,
            "bin_end": 0.9,
            "count": 0
           },
           {
            "bin_start": 0.9,
            "bin_end": 1,
            "count": 0
           }
          ]
         }
        },
        {
         "name": "RollingAvg5Yr",
         "dtype": "float64",
         "stats": {
          "unique_count": 1,
          "nan_count": 4,
          "min": "9.059999999999999",
          "max": "9.059999999999999",
          "histogram": [
           {
            "bin_start": 8.559999999999999,
            "bin_end": 8.659999999999998,
            "count": 0
           },
           {
            "bin_start": 8.659999999999998,
            "bin_end": 8.759999999999998,
            "count": 0
           },
           {
            "bin_start": 8.759999999999998,
            "bin_end": 8.86,
            "count": 0
           },
           {
            "bin_start": 8.86,
            "bin_end": 8.959999999999999,
            "count": 0
           },
           {
            "bin_start": 8.959999999999999,
            "bin_end": 9.059999999999999,
            "count": 0
           },
           {
            "bin_start": 9.059999999999999,
            "bin_end": 9.159999999999998,
            "count": 1
           },
           {
            "bin_start": 9.159999999999998,
            "bin_end": 9.259999999999998,
            "count": 0
           },
           {
            "bin_start": 9.259999999999998,
            "bin_end": 9.36,
            "count": 0
           },
           {
            "bin_start": 9.36,
            "bin_end": 9.459999999999999,
            "count": 0
           },
           {
            "bin_start": 9.459999999999999,
            "bin_end": 9.559999999999999,
            "count": 0
           }
          ]
         }
        },
        {
         "name": "RollingSD5Yr",
         "dtype": "float64",
         "stats": {
          "unique_count": 1,
          "nan_count": 4,
          "min": "8.37782788078151",
          "max": "8.37782788078151",
          "histogram": [
           {
            "bin_start": 7.87782788078151,
            "bin_end": 7.9778278807815095,
            "count": 0
           },
           {
            "bin_start": 7.9778278807815095,
            "bin_end": 8.07782788078151,
            "count": 0
           },
           {
            "bin_start": 8.07782788078151,
            "bin_end": 8.17782788078151,
            "count": 0
           },
           {
            "bin_start": 8.17782788078151,
            "bin_end": 8.27782788078151,
            "count": 0
           },
           {
            "bin_start": 8.27782788078151,
            "bin_end": 8.37782788078151,
            "count": 0
           },
           {
            "bin_start": 8.37782788078151,
            "bin_end": 8.47782788078151,
            "count": 1
           },
           {
            "bin_start": 8.47782788078151,
            "bin_end": 8.57782788078151,
            "count": 0
           },
           {
            "bin_start": 8.57782788078151,
            "bin_end": 8.67782788078151,
            "count": 0
           },
           {
            "bin_start": 8.67782788078151,
            "bin_end": 8.77782788078151,
            "count": 0
           },
           {
            "bin_start": 8.77782788078151,
            "bin_end": 8.87782788078151,
            "count": 0
           }
          ]
         }
        },
        {
         "name": "RollingAvg5Yr_low",
         "dtype": "float64",
         "stats": {
          "unique_count": 1,
          "nan_count": 4,
          "min": "0.6821721192184889",
          "max": "0.6821721192184889",
          "histogram": [
           {
            "bin_start": 0.18217211921848886,
            "bin_end": 0.28217211921848884,
            "count": 0
           },
           {
            "bin_start": 0.28217211921848884,
            "bin_end": 0.38217211921848887,
            "count": 0
           },
           {
            "bin_start": 0.38217211921848887,
            "bin_end": 0.4821721192184889,
            "count": 0
           },
           {
            "bin_start": 0.4821721192184889,
            "bin_end": 0.5821721192184889,
            "count": 0
           },
           {
            "bin_start": 0.5821721192184889,
            "bin_end": 0.6821721192184889,
            "count": 0
           },
           {
            "bin_start": 0.6821721192184889,
            "bin_end": 0.782172119218489,
            "count": 1
           },
           {
            "bin_start": 0.782172119218489,
            "bin_end": 0.8821721192184889,
            "count": 0
           },
           {
            "bin_start": 0.8821721192184889,
            "bin_end": 0.9821721192184889,
            "count": 0
           },
           {
            "bin_start": 0.9821721192184889,
            "bin_end": 1.0821721192184888,
            "count": 0
           },
           {
            "bin_start": 1.0821721192184888,
            "bin_end": 1.1821721192184889,
            "count": 0
           }
          ]
         }
        },
        {
         "name": "RollingAvg5Yr_high",
         "dtype": "float64",
         "stats": {
          "unique_count": 1,
          "nan_count": 4,
          "min": "17.43782788078151",
          "max": "17.43782788078151",
          "histogram": [
           {
            "bin_start": 16.93782788078151,
            "bin_end": 17.03782788078151,
            "count": 0
           },
           {
            "bin_start": 17.03782788078151,
            "bin_end": 17.137827880781508,
            "count": 0
           },
           {
            "bin_start": 17.137827880781508,
            "bin_end": 17.23782788078151,
            "count": 0
           },
           {
            "bin_start": 17.23782788078151,
            "bin_end": 17.337827880781507,
            "count": 0
           },
           {
            "bin_start": 17.337827880781507,
            "bin_end": 17.43782788078151,
            "count": 0
           },
           {
            "bin_start": 17.43782788078151,
            "bin_end": 17.53782788078151,
            "count": 1
           },
           {
            "bin_start": 17.53782788078151,
            "bin_end": 17.637827880781508,
            "count": 0
           },
           {
            "bin_start": 17.637827880781508,
            "bin_end": 17.73782788078151,
            "count": 0
           },
           {
            "bin_start": 17.73782788078151,
            "bin_end": 17.837827880781507,
            "count": 0
           },
           {
            "bin_start": 17.837827880781507,
            "bin_end": 17.93782788078151,
            "count": 0
           }
          ]
         }
        },
        {
         "name": "_deepnote_index_column",
         "dtype": "int64"
        }
       ],
       "rows": [
        {
         "Year": 1914,
         "Jan": 2,
         "Feb": 1,
         "Mar": 1,
         "Apr": 0,
         "May": 2.1,
         "Jun": 1,
         "Jul": 1,
         "Aug": 3,
         "Sep": 2,
         "Oct": 1,
         "Nov": 1,
         "Dec": 1,
         "Annual": 1,
         "HALF1": "nan",
         "HALF2": "nan",
         "RollingAvg5Yr": "nan",
         "RollingSD5Yr": "nan",
         "RollingAvg5Yr_low": "nan",
         "RollingAvg5Yr_high": "nan",
         "_deepnote_index_column": 0
        },
        {
         "Year": 1915,
         "Jan": 1,
         "Feb": 1,
         "Mar": 0,
         "Apr": 2,
         "May": 2,
         "Jun": 2,
         "Jul": 1,
         "Aug": -1,
         "Sep": -1,
         "Oct": 1,
         "Nov": 1,
         "Dec": 2,
         "Annual": 1,
         "HALF1": "nan",
         "HALF2": "nan",
         "RollingAvg5Yr": "nan",
         "RollingSD5Yr": "nan",
         "RollingAvg5Yr_low": "nan",
         "RollingAvg5Yr_high": "nan",
         "_deepnote_index_column": 1
        },
        {
         "Year": 1916,
         "Jan": 3,
         "Feb": 4,
         "Mar": 6.1,
         "Apr": 6,
         "May": 5.9,
         "Jun": 6.9,
         "Jul": 6.9,
         "Aug": 7.9,
         "Sep": 9.9,
         "Oct": 10.8,
         "Nov": 11.7,
         "Dec": 12.6,
         "Annual": 7.9,
         "HALF1": "nan",
         "HALF2": "nan",
         "RollingAvg5Yr": "nan",
         "RollingSD5Yr": "nan",
         "RollingAvg5Yr_low": "nan",
         "RollingAvg5Yr_high": "nan",
         "_deepnote_index_column": 2
        },
        {
         "Year": 1917,
         "Jan": 12.5,
         "Feb": 15.4,
         "Mar": 14.3,
         "Apr": 18.9,
         "May": 19.6,
         "Jun": 20.4,
         "Jul": 18.5,
         "Aug": 19.3,
         "Sep": 19.8,
         "Oct": 19.5,
         "Nov": 17.4,
         "Dec": 18.1,
         "Annual": 17.4,
         "HALF1": "nan",
         "HALF2": "nan",
         "RollingAvg5Yr": "nan",
         "RollingSD5Yr": "nan",
         "RollingAvg5Yr_low": "nan",
         "RollingAvg5Yr_high": "nan",
         "_deepnote_index_column": 3
        },
        {
         "Year": 1918,
         "Jan": 19.7,
         "Feb": 17.5,
         "Mar": 16.7,
         "Apr": 12.7,
         "May": 13.3,
         "Jun": 13.1,
         "Jul": 18,
         "Aug": 18.5,
         "Sep": 18,
         "Oct": 18.5,
         "Nov": 20.7,
         "Dec": 20.4,
         "Annual": 18,
         "HALF1": "nan",
         "HALF2": "nan",
         "RollingAvg5Yr": 9.059999999999999,
         "RollingSD5Yr": 8.37782788078151,
         "RollingAvg5Yr_low": 0.6821721192184889,
         "RollingAvg5Yr_high": 17.43782788078151,
         "_deepnote_index_column": 4
        }
       ]
      },
      "text/plain": "     Year   Jan   Feb   Mar   Apr   May   Jun   Jul   Aug   Sep   Oct   Nov  \\\n0  1914.0   2.0   1.0   1.0   0.0   2.1   1.0   1.0   3.0   2.0   1.0   1.0   \n1  1915.0   1.0   1.0   0.0   2.0   2.0   2.0   1.0  -1.0  -1.0   1.0   1.0   \n2  1916.0   3.0   4.0   6.1   6.0   5.9   6.9   6.9   7.9   9.9  10.8  11.7   \n3  1917.0  12.5  15.4  14.3  18.9  19.6  20.4  18.5  19.3  19.8  19.5  17.4   \n4  1918.0  19.7  17.5  16.7  12.7  13.3  13.1  18.0  18.5  18.0  18.5  20.7   \n\n    Dec  Annual  HALF1  HALF2  RollingAvg5Yr  RollingSD5Yr  RollingAvg5Yr_low  \\\n0   1.0     1.0    NaN    NaN            NaN           NaN                NaN   \n1   2.0     1.0    NaN    NaN            NaN           NaN                NaN   \n2  12.6     7.9    NaN    NaN            NaN           NaN                NaN   \n3  18.1    17.4    NaN    NaN            NaN           NaN                NaN   \n4  20.4    18.0    NaN    NaN           9.06      8.377828           0.682172   \n\n   RollingAvg5Yr_high  \n0                 NaN  \n1                 NaN  \n2                 NaN  \n3                 NaN  \n4           17.437828  ",
      "text/html": "<div>\n<style scoped>\n    .dataframe tbody tr th:only-of-type {\n        vertical-align: middle;\n    }\n\n    .dataframe tbody tr th {\n        vertical-align: top;\n    }\n\n    .dataframe thead th {\n        text-align: right;\n    }\n</style>\n<table border=\"1\" class=\"dataframe\">\n  <thead>\n    <tr style=\"text-align: right;\">\n      <th></th>\n      <th>Year</th>\n      <th>Jan</th>\n      <th>Feb</th>\n      <th>Mar</th>\n      <th>Apr</th>\n      <th>May</th>\n      <th>Jun</th>\n      <th>Jul</th>\n      <th>Aug</th>\n      <th>Sep</th>\n      <th>Oct</th>\n      <th>Nov</th>\n      <th>Dec</th>\n      <th>Annual</th>\n      <th>HALF1</th>\n      <th>HALF2</th>\n      <th>RollingAvg5Yr</th>\n      <th>RollingSD5Yr</th>\n      <th>RollingAvg5Yr_low</th>\n      <th>RollingAvg5Yr_high</th>\n    </tr>\n  </thead>\n  <tbody>\n    <tr>\n      <th>0</th>\n      <td>1914.0</td>\n      <td>2.0</td>\n      <td>1.0</td>\n      <td>1.0</td>\n      <td>0.0</td>\n      <td>2.1</td>\n      <td>1.0</td>\n      <td>1.0</td>\n      <td>3.0</td>\n      <td>2.0</td>\n      <td>1.0</td>\n      <td>1.0</td>\n      <td>1.0</td>\n      <td>1.0</td>\n      <td>NaN</td>\n      <td>NaN</td>\n      <td>NaN</td>\n      <td>NaN</td>\n      <td>NaN</td>\n      <td>NaN</td>\n    </tr>\n    <tr>\n      <th>1</th>\n      <td>1915.0</td>\n      <td>1.0</td>\n      <td>1.0</td>\n      <td>0.0</td>\n      <td>2.0</td>\n      <td>2.0</td>\n      <td>2.0</td>\n      <td>1.0</td>\n      <td>-1.0</td>\n      <td>-1.0</td>\n      <td>1.0</td>\n      <td>1.0</td>\n      <td>2.0</td>\n      <td>1.0</td>\n      <td>NaN</td>\n      <td>NaN</td>\n      <td>NaN</td>\n      <td>NaN</td>\n      <td>NaN</td>\n      <td>NaN</td>\n    </tr>\n    <tr>\n      <th>2</th>\n      <td>1916.0</td>\n      <td>3.0</td>\n      <td>4.0</td>\n      <td>6.1</td>\n      <td>6.0</td>\n      <td>5.9</td>\n      <td>6.9</td>\n      <td>6.9</td>\n      <td>7.9</td>\n      <td>9.9</td>\n      <td>10.8</td>\n      <td>11.7</td>\n      <td>12.6</td>\n      <td>7.9</td>\n      <td>NaN</td>\n      <td>NaN</td>\n      <td>NaN</td>\n      <td>NaN</td>\n      <td>NaN</td>\n      <td>NaN</td>\n    </tr>\n    <tr>\n      <th>3</th>\n      <td>1917.0</td>\n      <td>12.5</td>\n      <td>15.4</td>\n      <td>14.3</td>\n      <td>18.9</td>\n      <td>19.6</td>\n      <td>20.4</td>\n      <td>18.5</td>\n      <td>19.3</td>\n      <td>19.8</td>\n      <td>19.5</td>\n      <td>17.4</td>\n      <td>18.1</td>\n      <td>17.4</td>\n      <td>NaN</td>\n      <td>NaN</td>\n      <td>NaN</td>\n      <td>NaN</td>\n      <td>NaN</td>\n      <td>NaN</td>\n    </tr>\n    <tr>\n      <th>4</th>\n      <td>1918.0</td>\n      <td>19.7</td>\n      <td>17.5</td>\n      <td>16.7</td>\n      <td>12.7</td>\n      <td>13.3</td>\n      <td>13.1</td>\n      <td>18.0</td>\n      <td>18.5</td>\n      <td>18.0</td>\n      <td>18.5</td>\n      <td>20.7</td>\n      <td>20.4</td>\n      <td>18.0</td>\n      <td>NaN</td>\n      <td>NaN</td>\n      <td>9.06</td>\n      <td>8.377828</td>\n      <td>0.682172</td>\n      <td>17.437828</td>\n    </tr>\n  </tbody>\n</table>\n</div>"
     },
     "metadata": {}
    }
   ],
   "execution_count": null
  },
  {
   "cell_type": "code",
   "metadata": {
    "cell_id": "2dd9ebe2-c4e9-4eb6-a3bb-decc397137e6",
    "tags": [],
    "deepnote_to_be_reexecuted": false,
    "source_hash": "18d42778",
    "execution_start": 1647967442028,
    "execution_millis": 18,
    "deepnote_cell_type": "code",
    "deepnote_cell_height": 1247,
    "deepnote_output_heights": [
     502
    ]
   },
   "source": "fig = go.Figure()\n\ny = df_inflation['Annual']\nx = df_inflation['Year']\ny_roll = df_inflation['RollingAvg5Yr']\ny_rollmin = df_inflation['RollingAvg5Yr_low']\ny_rollmax = df_inflation['RollingAvg5Yr_high']\n\nfig.add_trace(go.Scatter(x=x, y=y,\n                         marker=dict(color='#005100',size = 5),\n                         line = dict(color='#005100',width = 1),\n                         mode='markers+lines',\n                         name='Yearly Inflation Rate'))\n\nfig.add_trace(go.Scatter(x=x, y=y_roll,\n                         line = dict(color='#FF3333',width = 1),\n                         mode='lines',\n                         name='5 Year Rolling Avg'))\n\nfig.add_trace(go.Scatter(x=x, y=y_rollmin,\n                         line = dict(color='#bf9fa2',width = 1),\n                         mode='lines',\n                         name='5 Year Rolling Low'))\n\nfig.add_trace(go.Scatter(x=x, y=y_rollmax,\n                         line = dict(color='#bf9fa2',width = 1),\n                         mode='lines',\n                         fill='tonexty',\n                         name='5 Year Rolling High'))\n\n\n\nfig.update_xaxes(tickangle=-45, tickfont = dict(family = 'Arial', size = 14,color = 'black'))\nfig.update_layout(hovermode=\"x unified\",clickmode ='select',height=500,width=1100,)\n\nfig.show(config=scatter_config)\n",
   "outputs": [
    {
     "data": {
      "text/html": "<html>\n<head><meta charset=\"utf-8\" /></head>\n<body>\n    <div>            <script src=\"https://cdnjs.cloudflare.com/ajax/libs/mathjax/2.7.5/MathJax.js?config=TeX-AMS-MML_SVG\"></script><script type=\"text/javascript\">if (window.MathJax) {MathJax.Hub.Config({SVG: {font: \"STIX-Web\"}});}</script>                <script type=\"text/javascript\">window.PlotlyConfig = {MathJaxConfig: 'local'};</script>\n        <script src=\"https://cdn.plot.ly/plotly-2.9.0.min.js\"></script>                <div id=\"6744e523-ca18-4427-97ca-7b14b736d81e\" class=\"plotly-graph-div\" style=\"height:500px; width:1100px;\"></div>            <script type=\"text/javascript\">                                    window.PLOTLYENV=window.PLOTLYENV || {};                                    if (document.getElementById(\"6744e523-ca18-4427-97ca-7b14b736d81e\")) {                    Plotly.newPlot(                        \"6744e523-ca18-4427-97ca-7b14b736d81e\",                        [{\"line\":{\"color\":\"#005100\",\"width\":1},\"marker\":{\"color\":\"#005100\",\"size\":5},\"mode\":\"markers+lines\",\"name\":\"Yearly Inflation Rate\",\"x\":[1914.0,1915.0,1916.0,1917.0,1918.0,1919.0,1920.0,1921.0,1922.0,1923.0,1924.0,1925.0,1926.0,1927.0,1928.0,1929.0,1930.0,1931.0,1932.0,1933.0,1934.0,1935.0,1936.0,1937.0,1938.0,1939.0,1940.0,1941.0,1942.0,1943.0,1944.0,1945.0,1946.0,1947.0,1948.0,1949.0,1950.0,1951.0,1952.0,1953.0,1954.0,1955.0,1956.0,1957.0,1958.0,1959.0,1960.0,1961.0,1962.0,1963.0,1964.0,1965.0,1966.0,1967.0,1968.0,1969.0,1970.0,1971.0,1972.0,1973.0,1974.0,1975.0,1976.0,1977.0,1978.0,1979.0,1980.0,1981.0,1982.0,1983.0,1984.0,1985.0,1986.0,1987.0,1988.0,1989.0,1990.0,1991.0,1992.0,1993.0,1994.0,1995.0,1996.0,1997.0,1998.0,1999.0,2000.0,2001.0,2002.0,2003.0,2004.0,2005.0,2006.0,2007.0,2008.0,2009.0,2010.0,2011.0,2012.0,2013.0,2014.0,2015.0,2016.0,2017.0,2018.0,2019.0,2020.0,2021.0,2022.0],\"y\":[1.0,1.0,7.9,17.4,18.0,14.6,15.6,-10.5,-6.1,1.8,0.0,2.3,1.1,-1.7,-1.7,0.0,-2.3,-9.0,-9.9,-5.1,3.1,2.2,1.5,3.6,-2.1,-1.4,0.7,5.0,10.9,6.1,1.7,2.3,8.3,14.4,8.1,-1.2,1.3,7.9,1.9,0.8,0.7,-0.4,1.5,3.3,2.8,0.7,1.7,1.0,1.0,1.3,1.3,1.6,2.9,3.1,4.2,5.5,5.7,4.4,3.2,6.2,11.0,9.1,5.8,6.5,7.6,11.3,13.5,10.3,6.2,3.2,4.3,3.6,1.9,3.6,4.1,4.8,5.4,4.2,3.0,3.0,2.6,2.8,3.0,2.3,1.6,2.2,3.4,2.8,1.6,2.3,2.7,3.4,3.2,2.8,3.8,-0.4,1.6,3.2,2.1,1.5,1.6,0.1,1.3,2.1,2.4,1.8,1.2,4.7,null],\"type\":\"scatter\"},{\"line\":{\"color\":\"#FF3333\",\"width\":1},\"mode\":\"lines\",\"name\":\"5 Year Rolling Avg\",\"x\":[1914.0,1915.0,1916.0,1917.0,1918.0,1919.0,1920.0,1921.0,1922.0,1923.0,1924.0,1925.0,1926.0,1927.0,1928.0,1929.0,1930.0,1931.0,1932.0,1933.0,1934.0,1935.0,1936.0,1937.0,1938.0,1939.0,1940.0,1941.0,1942.0,1943.0,1944.0,1945.0,1946.0,1947.0,1948.0,1949.0,1950.0,1951.0,1952.0,1953.0,1954.0,1955.0,1956.0,1957.0,1958.0,1959.0,1960.0,1961.0,1962.0,1963.0,1964.0,1965.0,1966.0,1967.0,1968.0,1969.0,1970.0,1971.0,1972.0,1973.0,1974.0,1975.0,1976.0,1977.0,1978.0,1979.0,1980.0,1981.0,1982.0,1983.0,1984.0,1985.0,1986.0,1987.0,1988.0,1989.0,1990.0,1991.0,1992.0,1993.0,1994.0,1995.0,1996.0,1997.0,1998.0,1999.0,2000.0,2001.0,2002.0,2003.0,2004.0,2005.0,2006.0,2007.0,2008.0,2009.0,2010.0,2011.0,2012.0,2013.0,2014.0,2015.0,2016.0,2017.0,2018.0,2019.0,2020.0,2021.0,2022.0],\"y\":[null,null,null,null,9.059999999999999,11.78,14.7,11.02,6.32,3.08,0.16,-2.5,-0.1799999999999998,0.7000000000000002,2.220446049250313e-16,2.220446049250313e-16,-0.9199999999999997,-2.94,-4.58,-5.26,-4.64,-3.7399999999999998,-1.6399999999999995,1.0600000000000005,1.6600000000000006,0.7600000000000005,0.4600000000000003,1.1600000000000004,2.62,4.26,4.880000000000001,5.2,5.86,6.5600000000000005,6.959999999999999,6.380000000000001,6.180000000000001,6.1,3.6,2.14,2.5200000000000005,2.1800000000000006,0.9000000000000004,1.1800000000000004,1.5800000000000005,1.5800000000000003,2.0,1.9,1.4400000000000004,1.1400000000000003,1.2600000000000005,1.2400000000000004,1.6200000000000003,2.0400000000000005,2.62,3.460000000000001,4.28,4.58,4.6,5.000000000000001,6.1000000000000005,6.780000000000001,7.0600000000000005,7.7200000000000015,8.0,8.06,8.940000000000001,9.84,9.780000000000001,8.900000000000002,7.5,5.520000000000001,3.8400000000000007,3.320000000000001,3.500000000000001,3.6000000000000005,3.960000000000001,4.420000000000001,4.300000000000001,4.080000000000001,3.6400000000000015,3.1200000000000006,2.880000000000001,2.7400000000000007,2.460000000000001,2.380000000000001,2.500000000000001,2.4600000000000004,2.320000000000001,2.4600000000000004,2.560000000000001,2.5600000000000005,2.640000000000001,2.880000000000001,3.1800000000000006,2.5600000000000005,2.2000000000000006,2.2000000000000006,2.060000000000001,1.6000000000000008,2.000000000000001,1.7000000000000006,1.3200000000000007,1.3200000000000007,1.5000000000000007,1.540000000000001,1.760000000000001,2.4400000000000004,null],\"type\":\"scatter\"},{\"line\":{\"color\":\"#bf9fa2\",\"width\":1},\"mode\":\"lines\",\"name\":\"5 Year Rolling Low\",\"x\":[1914.0,1915.0,1916.0,1917.0,1918.0,1919.0,1920.0,1921.0,1922.0,1923.0,1924.0,1925.0,1926.0,1927.0,1928.0,1929.0,1930.0,1931.0,1932.0,1933.0,1934.0,1935.0,1936.0,1937.0,1938.0,1939.0,1940.0,1941.0,1942.0,1943.0,1944.0,1945.0,1946.0,1947.0,1948.0,1949.0,1950.0,1951.0,1952.0,1953.0,1954.0,1955.0,1956.0,1957.0,1958.0,1959.0,1960.0,1961.0,1962.0,1963.0,1964.0,1965.0,1966.0,1967.0,1968.0,1969.0,1970.0,1971.0,1972.0,1973.0,1974.0,1975.0,1976.0,1977.0,1978.0,1979.0,1980.0,1981.0,1982.0,1983.0,1984.0,1985.0,1986.0,1987.0,1988.0,1989.0,1990.0,1991.0,1992.0,1993.0,1994.0,1995.0,1996.0,1997.0,1998.0,1999.0,2000.0,2001.0,2002.0,2003.0,2004.0,2005.0,2006.0,2007.0,2008.0,2009.0,2010.0,2011.0,2012.0,2013.0,2014.0,2015.0,2016.0,2017.0,2018.0,2019.0,2020.0,2021.0,2022.0],\"y\":[null,null,null,null,0.6821721192184889,4.543149856463793,10.661435898738263,-1.087105351817172,-7.173220519950009,-8.749919695416365,-9.763860136055929,-8.084353140695885,-3.6000877181733215,-0.8953056133543813,-1.7521415467935226,-1.7521415467935226,-2.3384498581197706,-6.4347102884216305,-9.116187826799063,-9.50181564898806,-9.93792412176694,-9.854163883966475,-7.280744631695358,-2.4773719058080377,-0.5923321247098503,-1.665489641288948,-1.8319424076533841,-1.9259358386071457,-2.7732365051052588,-0.5548727916737306,0.838713076259002,1.5257653858252351,1.9423476417629928,1.4007364866678902,1.767890602077033,0.35779110292577254,-0.02540087343275399,-0.07373468817700246,-0.5821047332652962,-1.2838866803677957,-0.5249958949069211,-1.1195454232363589,0.01965915691704445,-0.18638208419168278,0.06771695770930353,0.0677169577093033,0.9559693491089429,0.7752778120797985,0.5956067266966143,0.7618465919762085,0.9719027941822282,0.989001992039762,0.8736756737181848,1.1523063591531124,1.4380524546326088,1.9926895352380276,2.9753927794159676,3.5231177927507753,3.5777475849869598,3.797918471982874,3.1217454776329165,3.539321058790307,4.022237665649273,5.47567382049757,5.910741758422387,5.861591484732654,5.624430667291065,7.015464639980591,6.865038593737481,4.756933502826686,3.191287895437899,2.610189009574682,2.2579127710521223,2.432869795351339,2.553955603578788,2.5299532720483766,2.62097050069837,3.7257378016916274,3.4055728090000983,3.0066873708001127,2.4876111767289766,2.493900966300077,2.7011145618000767,2.443352060516209,1.9141062374417719,1.8304547334386552,1.7928932188134676,1.78324302737247,1.5376957113756957,1.7832430273724698,1.8944175483082666,1.8944175483082661,1.9168126107294334,2.447565033791232,2.730555898915141,0.8664829495986828,0.5386752274163913,0.5386752274163913,0.43273235145536715,0.2942435142799473,1.2893664798224185,0.579732174879604,0.5770329751597422,0.5770329751597422,0.608372274993659,0.6383348736920216,1.2471647438016937,1.1009705006983679,null],\"type\":\"scatter\"},{\"fill\":\"tonexty\",\"line\":{\"color\":\"#bf9fa2\",\"width\":1},\"mode\":\"lines\",\"name\":\"5 Year Rolling High\",\"x\":[1914.0,1915.0,1916.0,1917.0,1918.0,1919.0,1920.0,1921.0,1922.0,1923.0,1924.0,1925.0,1926.0,1927.0,1928.0,1929.0,1930.0,1931.0,1932.0,1933.0,1934.0,1935.0,1936.0,1937.0,1938.0,1939.0,1940.0,1941.0,1942.0,1943.0,1944.0,1945.0,1946.0,1947.0,1948.0,1949.0,1950.0,1951.0,1952.0,1953.0,1954.0,1955.0,1956.0,1957.0,1958.0,1959.0,1960.0,1961.0,1962.0,1963.0,1964.0,1965.0,1966.0,1967.0,1968.0,1969.0,1970.0,1971.0,1972.0,1973.0,1974.0,1975.0,1976.0,1977.0,1978.0,1979.0,1980.0,1981.0,1982.0,1983.0,1984.0,1985.0,1986.0,1987.0,1988.0,1989.0,1990.0,1991.0,1992.0,1993.0,1994.0,1995.0,1996.0,1997.0,1998.0,1999.0,2000.0,2001.0,2002.0,2003.0,2004.0,2005.0,2006.0,2007.0,2008.0,2009.0,2010.0,2011.0,2012.0,2013.0,2014.0,2015.0,2016.0,2017.0,2018.0,2019.0,2020.0,2021.0,2022.0],\"y\":[null,null,null,null,17.43782788078151,19.016850143536207,18.738564101261737,23.12710535181717,19.813220519950008,14.909919695416365,10.083860136055929,3.0843531406958853,3.240087718173322,2.2953056133543814,1.752141546793523,1.752141546793523,0.49844985811977116,0.5547102884216311,-0.04381217320093711,-1.0181843510119393,0.65792412176694,2.374163883966475,4.000744631695358,4.597371905808039,3.9123321247098515,3.1854896412889486,2.751942407653385,4.245935838607147,8.013236505105258,9.07487279167373,8.921286923741,8.874234614174766,9.777652358237008,11.71926351333211,12.152109397922965,12.402208897074228,12.385400873432754,12.273734688177,7.782104733265296,5.563886680367796,5.564995894906922,5.47954542323636,1.7803408430829561,2.5463820841916833,3.0922830422906973,3.0922830422906973,3.044030650891057,3.0247221879202013,2.2843932733033867,1.5181534080237922,1.5480972058177727,1.490998007960239,2.366324326281816,2.9276936408468885,3.8019475453673914,4.927310464761974,5.584607220584033,5.636882207249225,5.6222524150130395,6.202081528017128,9.078254522367084,10.020678941209695,10.097762334350728,9.964326179502432,10.089258241577614,10.258408515267348,12.255569332708937,12.664535360019409,12.694961406262522,13.043066497173317,11.808712104562101,8.42981099042532,5.422087228947879,4.207130204648664,4.446044396421214,4.6700467279516245,5.299029499301632,5.114262198308374,5.194427190999903,5.153312629199889,4.792388823271026,3.7460990336999243,3.058885438199925,3.0366479394837924,3.00589376255823,2.9295452665613464,3.207106781186534,3.1367569726275306,3.102304288624307,3.136756972627531,3.2255824516917353,3.225582451691735,3.3631873892705686,3.3124349662087695,3.6294441010848604,4.253517050401318,3.86132477258361,3.86132477258361,3.6872676485446347,2.905756485720054,2.7106335201775833,2.820267825120397,2.062967024840259,2.062967024840259,2.3916277250063422,2.4416651263079805,2.272835256198308,3.779029499301633,null],\"type\":\"scatter\"}],                        {\"template\":{\"data\":{\"bar\":[{\"error_x\":{\"color\":\"#2a3f5f\"},\"error_y\":{\"color\":\"#2a3f5f\"},\"marker\":{\"line\":{\"color\":\"#E5ECF6\",\"width\":0.5},\"pattern\":{\"fillmode\":\"overlay\",\"size\":10,\"solidity\":0.2}},\"type\":\"bar\"}],\"barpolar\":[{\"marker\":{\"line\":{\"color\":\"#E5ECF6\",\"width\":0.5},\"pattern\":{\"fillmode\":\"overlay\",\"size\":10,\"solidity\":0.2}},\"type\":\"barpolar\"}],\"carpet\":[{\"aaxis\":{\"endlinecolor\":\"#2a3f5f\",\"gridcolor\":\"white\",\"linecolor\":\"white\",\"minorgridcolor\":\"white\",\"startlinecolor\":\"#2a3f5f\"},\"baxis\":{\"endlinecolor\":\"#2a3f5f\",\"gridcolor\":\"white\",\"linecolor\":\"white\",\"minorgridcolor\":\"white\",\"startlinecolor\":\"#2a3f5f\"},\"type\":\"carpet\"}],\"choropleth\":[{\"colorbar\":{\"outlinewidth\":0,\"ticks\":\"\"},\"type\":\"choropleth\"}],\"contour\":[{\"colorbar\":{\"outlinewidth\":0,\"ticks\":\"\"},\"colorscale\":[[0.0,\"#0d0887\"],[0.1111111111111111,\"#46039f\"],[0.2222222222222222,\"#7201a8\"],[0.3333333333333333,\"#9c179e\"],[0.4444444444444444,\"#bd3786\"],[0.5555555555555556,\"#d8576b\"],[0.6666666666666666,\"#ed7953\"],[0.7777777777777778,\"#fb9f3a\"],[0.8888888888888888,\"#fdca26\"],[1.0,\"#f0f921\"]],\"type\":\"contour\"}],\"contourcarpet\":[{\"colorbar\":{\"outlinewidth\":0,\"ticks\":\"\"},\"type\":\"contourcarpet\"}],\"heatmap\":[{\"colorbar\":{\"outlinewidth\":0,\"ticks\":\"\"},\"colorscale\":[[0.0,\"#0d0887\"],[0.1111111111111111,\"#46039f\"],[0.2222222222222222,\"#7201a8\"],[0.3333333333333333,\"#9c179e\"],[0.4444444444444444,\"#bd3786\"],[0.5555555555555556,\"#d8576b\"],[0.6666666666666666,\"#ed7953\"],[0.7777777777777778,\"#fb9f3a\"],[0.8888888888888888,\"#fdca26\"],[1.0,\"#f0f921\"]],\"type\":\"heatmap\"}],\"heatmapgl\":[{\"colorbar\":{\"outlinewidth\":0,\"ticks\":\"\"},\"colorscale\":[[0.0,\"#0d0887\"],[0.1111111111111111,\"#46039f\"],[0.2222222222222222,\"#7201a8\"],[0.3333333333333333,\"#9c179e\"],[0.4444444444444444,\"#bd3786\"],[0.5555555555555556,\"#d8576b\"],[0.6666666666666666,\"#ed7953\"],[0.7777777777777778,\"#fb9f3a\"],[0.8888888888888888,\"#fdca26\"],[1.0,\"#f0f921\"]],\"type\":\"heatmapgl\"}],\"histogram\":[{\"marker\":{\"pattern\":{\"fillmode\":\"overlay\",\"size\":10,\"solidity\":0.2}},\"type\":\"histogram\"}],\"histogram2d\":[{\"colorbar\":{\"outlinewidth\":0,\"ticks\":\"\"},\"colorscale\":[[0.0,\"#0d0887\"],[0.1111111111111111,\"#46039f\"],[0.2222222222222222,\"#7201a8\"],[0.3333333333333333,\"#9c179e\"],[0.4444444444444444,\"#bd3786\"],[0.5555555555555556,\"#d8576b\"],[0.6666666666666666,\"#ed7953\"],[0.7777777777777778,\"#fb9f3a\"],[0.8888888888888888,\"#fdca26\"],[1.0,\"#f0f921\"]],\"type\":\"histogram2d\"}],\"histogram2dcontour\":[{\"colorbar\":{\"outlinewidth\":0,\"ticks\":\"\"},\"colorscale\":[[0.0,\"#0d0887\"],[0.1111111111111111,\"#46039f\"],[0.2222222222222222,\"#7201a8\"],[0.3333333333333333,\"#9c179e\"],[0.4444444444444444,\"#bd3786\"],[0.5555555555555556,\"#d8576b\"],[0.6666666666666666,\"#ed7953\"],[0.7777777777777778,\"#fb9f3a\"],[0.8888888888888888,\"#fdca26\"],[1.0,\"#f0f921\"]],\"type\":\"histogram2dcontour\"}],\"mesh3d\":[{\"colorbar\":{\"outlinewidth\":0,\"ticks\":\"\"},\"type\":\"mesh3d\"}],\"parcoords\":[{\"line\":{\"colorbar\":{\"outlinewidth\":0,\"ticks\":\"\"}},\"type\":\"parcoords\"}],\"pie\":[{\"automargin\":true,\"type\":\"pie\"}],\"scatter\":[{\"marker\":{\"colorbar\":{\"outlinewidth\":0,\"ticks\":\"\"}},\"type\":\"scatter\"}],\"scatter3d\":[{\"line\":{\"colorbar\":{\"outlinewidth\":0,\"ticks\":\"\"}},\"marker\":{\"colorbar\":{\"outlinewidth\":0,\"ticks\":\"\"}},\"type\":\"scatter3d\"}],\"scattercarpet\":[{\"marker\":{\"colorbar\":{\"outlinewidth\":0,\"ticks\":\"\"}},\"type\":\"scattercarpet\"}],\"scattergeo\":[{\"marker\":{\"colorbar\":{\"outlinewidth\":0,\"ticks\":\"\"}},\"type\":\"scattergeo\"}],\"scattergl\":[{\"marker\":{\"colorbar\":{\"outlinewidth\":0,\"ticks\":\"\"}},\"type\":\"scattergl\"}],\"scattermapbox\":[{\"marker\":{\"colorbar\":{\"outlinewidth\":0,\"ticks\":\"\"}},\"type\":\"scattermapbox\"}],\"scatterpolar\":[{\"marker\":{\"colorbar\":{\"outlinewidth\":0,\"ticks\":\"\"}},\"type\":\"scatterpolar\"}],\"scatterpolargl\":[{\"marker\":{\"colorbar\":{\"outlinewidth\":0,\"ticks\":\"\"}},\"type\":\"scatterpolargl\"}],\"scatterternary\":[{\"marker\":{\"colorbar\":{\"outlinewidth\":0,\"ticks\":\"\"}},\"type\":\"scatterternary\"}],\"surface\":[{\"colorbar\":{\"outlinewidth\":0,\"ticks\":\"\"},\"colorscale\":[[0.0,\"#0d0887\"],[0.1111111111111111,\"#46039f\"],[0.2222222222222222,\"#7201a8\"],[0.3333333333333333,\"#9c179e\"],[0.4444444444444444,\"#bd3786\"],[0.5555555555555556,\"#d8576b\"],[0.6666666666666666,\"#ed7953\"],[0.7777777777777778,\"#fb9f3a\"],[0.8888888888888888,\"#fdca26\"],[1.0,\"#f0f921\"]],\"type\":\"surface\"}],\"table\":[{\"cells\":{\"fill\":{\"color\":\"#EBF0F8\"},\"line\":{\"color\":\"white\"}},\"header\":{\"fill\":{\"color\":\"#C8D4E3\"},\"line\":{\"color\":\"white\"}},\"type\":\"table\"}]},\"layout\":{\"annotationdefaults\":{\"arrowcolor\":\"#2a3f5f\",\"arrowhead\":0,\"arrowwidth\":1},\"autotypenumbers\":\"strict\",\"coloraxis\":{\"colorbar\":{\"outlinewidth\":0,\"ticks\":\"\"}},\"colorscale\":{\"diverging\":[[0,\"#8e0152\"],[0.1,\"#c51b7d\"],[0.2,\"#de77ae\"],[0.3,\"#f1b6da\"],[0.4,\"#fde0ef\"],[0.5,\"#f7f7f7\"],[0.6,\"#e6f5d0\"],[0.7,\"#b8e186\"],[0.8,\"#7fbc41\"],[0.9,\"#4d9221\"],[1,\"#276419\"]],\"sequential\":[[0.0,\"#0d0887\"],[0.1111111111111111,\"#46039f\"],[0.2222222222222222,\"#7201a8\"],[0.3333333333333333,\"#9c179e\"],[0.4444444444444444,\"#bd3786\"],[0.5555555555555556,\"#d8576b\"],[0.6666666666666666,\"#ed7953\"],[0.7777777777777778,\"#fb9f3a\"],[0.8888888888888888,\"#fdca26\"],[1.0,\"#f0f921\"]],\"sequentialminus\":[[0.0,\"#0d0887\"],[0.1111111111111111,\"#46039f\"],[0.2222222222222222,\"#7201a8\"],[0.3333333333333333,\"#9c179e\"],[0.4444444444444444,\"#bd3786\"],[0.5555555555555556,\"#d8576b\"],[0.6666666666666666,\"#ed7953\"],[0.7777777777777778,\"#fb9f3a\"],[0.8888888888888888,\"#fdca26\"],[1.0,\"#f0f921\"]]},\"colorway\":[\"#636efa\",\"#EF553B\",\"#00cc96\",\"#ab63fa\",\"#FFA15A\",\"#19d3f3\",\"#FF6692\",\"#B6E880\",\"#FF97FF\",\"#FECB52\"],\"font\":{\"color\":\"#2a3f5f\"},\"geo\":{\"bgcolor\":\"white\",\"lakecolor\":\"white\",\"landcolor\":\"#E5ECF6\",\"showlakes\":true,\"showland\":true,\"subunitcolor\":\"white\"},\"hoverlabel\":{\"align\":\"left\"},\"hovermode\":\"closest\",\"mapbox\":{\"style\":\"light\"},\"paper_bgcolor\":\"white\",\"plot_bgcolor\":\"#E5ECF6\",\"polar\":{\"angularaxis\":{\"gridcolor\":\"white\",\"linecolor\":\"white\",\"ticks\":\"\"},\"bgcolor\":\"#E5ECF6\",\"radialaxis\":{\"gridcolor\":\"white\",\"linecolor\":\"white\",\"ticks\":\"\"}},\"scene\":{\"xaxis\":{\"backgroundcolor\":\"#E5ECF6\",\"gridcolor\":\"white\",\"gridwidth\":2,\"linecolor\":\"white\",\"showbackground\":true,\"ticks\":\"\",\"zerolinecolor\":\"white\"},\"yaxis\":{\"backgroundcolor\":\"#E5ECF6\",\"gridcolor\":\"white\",\"gridwidth\":2,\"linecolor\":\"white\",\"showbackground\":true,\"ticks\":\"\",\"zerolinecolor\":\"white\"},\"zaxis\":{\"backgroundcolor\":\"#E5ECF6\",\"gridcolor\":\"white\",\"gridwidth\":2,\"linecolor\":\"white\",\"showbackground\":true,\"ticks\":\"\",\"zerolinecolor\":\"white\"}},\"shapedefaults\":{\"line\":{\"color\":\"#2a3f5f\"}},\"ternary\":{\"aaxis\":{\"gridcolor\":\"white\",\"linecolor\":\"white\",\"ticks\":\"\"},\"baxis\":{\"gridcolor\":\"white\",\"linecolor\":\"white\",\"ticks\":\"\"},\"bgcolor\":\"#E5ECF6\",\"caxis\":{\"gridcolor\":\"white\",\"linecolor\":\"white\",\"ticks\":\"\"}},\"title\":{\"x\":0.05},\"xaxis\":{\"automargin\":true,\"gridcolor\":\"white\",\"linecolor\":\"white\",\"ticks\":\"\",\"title\":{\"standoff\":15},\"zerolinecolor\":\"white\",\"zerolinewidth\":2},\"yaxis\":{\"automargin\":true,\"gridcolor\":\"white\",\"linecolor\":\"white\",\"ticks\":\"\",\"title\":{\"standoff\":15},\"zerolinecolor\":\"white\",\"zerolinewidth\":2}}},\"xaxis\":{\"tickfont\":{\"family\":\"Arial\",\"size\":14,\"color\":\"black\"},\"tickangle\":-45},\"hovermode\":\"x unified\",\"clickmode\":\"select\",\"height\":500,\"width\":1100},                        {\"displayModeBar\": \"Always\", \"displaylogo\": false, \"modeBarButtons\": \"toggleHover \", \"modeBarButtonsToRemove\": [\"zoom2d\", \"zoomIn2d\", \"zoomOut2d\", \"toImage\", \"sendDataToCloud\", \"editInChartStudio\", \"select2d\", \"lasso2d\"], \"responsive\": true}                    ).then(function(){\n                            \nvar gd = document.getElementById('6744e523-ca18-4427-97ca-7b14b736d81e');\nvar x = new MutationObserver(function (mutations, observer) {{\n        var display = window.getComputedStyle(gd).display;\n        if (!display || display === 'none') {{\n            console.log([gd, 'removed!']);\n            Plotly.purge(gd);\n            observer.disconnect();\n        }}\n}});\n\n// Listen for the removal of the full notebook cells\nvar notebookContainer = gd.closest('#notebook-container');\nif (notebookContainer) {{\n    x.observe(notebookContainer, {childList: true});\n}}\n\n// Listen for the clearing of the current output cell\nvar outputEl = gd.closest('.output');\nif (outputEl) {{\n    x.observe(outputEl, {childList: true});\n}}\n\n                        })                };                            </script>        </div>\n</body>\n</html>"
     },
     "metadata": {},
     "output_type": "display_data"
    }
   ],
   "execution_count": null
  },
  {
   "cell_type": "code",
   "metadata": {
    "cell_id": "116a624c40854e49ba08a97c50b08c23",
    "tags": [],
    "deepnote_to_be_reexecuted": false,
    "source_hash": "1c08218e",
    "execution_start": 1647967379599,
    "execution_millis": 3124,
    "deepnote_cell_type": "code",
    "deepnote_cell_height": 3539.875,
    "deepnote_output_heights": [
     264,
     null,
     21.1875,
     97.9375,
     21.1875,
     500.875,
     21.1875,
     97.9375,
     21.1875,
     611,
     426,
     426
    ]
   },
   "source": "#https://machinelearningmastery.com/time-series-forecasting-with-prophet-in-python/\nseries = df_inflation['Annual']\nlag_plot(series)\npyplot.show()\n\ndf_model = df_inflation.copy()\ndf_model = df_model[['Year', 'Annual']]\ndf_model.rename(columns={\"Year\": \"ds\", \"Annual\": \"y\"},inplace=True)\ndf_model['ds']= pd.to_datetime(df_model['ds'],format='%Y')\n# define the model\nmodel = Prophet()\n# fit the model\nmodel.fit(df_model)\n\ndisplay('Model change points data')\ndisplay(model.changepoints_t)\n\ndisplay('Model change points times')\ndisplay(model.changepoints)\n\ndisplay('Model Component Modes')\ndisplay(model.component_modes)\n\ndisplay('Model Parameters')\ndisplay(model.params)\n\n#https://medium.com/analytics-vidhya/time-series-analysis-a-quick-tour-of-fbprophet-cbbfbffdf9d8#:~:text=Prophet%20is%20a%20procedure%20for,several%20seasons%20of%20historical%20data.\nfuture = model.make_future_dataframe(periods= 80, freq= 'Y')\nforcast = model.predict(future)\nfig = model.plot(forcast)\nfig.show()\nfig = model.plot_components(forcast)",
   "outputs": [
    {
     "data": {
      "text/plain": "<Figure size 432x288 with 1 Axes>",
      "image/png": "[encoded data removed]"
     },
     "metadata": {
      "needs_background": "light",
      "image/png": {
       "width": 391,
       "height": 262
      }
     },
     "output_type": "display_data"
    },
    {
     "name": "stderr",
     "text": "INFO:fbprophet:Disabling weekly seasonality. Run prophet with weekly_seasonality=True to override this.\nINFO:fbprophet:Disabling daily seasonality. Run prophet with daily_seasonality=True to override this.\n",
     "output_type": "stream"
    },
    {
     "data": {
      "text/plain": "'Model change points data'"
     },
     "metadata": {},
     "output_type": "display_data"
    },
    {
     "data": {
      "text/plain": "array([0.0280436 , 0.06542654, 0.09344455, 0.13082749, 0.15887109,\n       0.18691469, 0.22429763, 0.25234123, 0.28972417, 0.31774218,\n       0.34578578, 0.38316872, 0.41121232, 0.44859526, 0.47663886,\n       0.50465688, 0.54203981, 0.57008341, 0.60746635, 0.63550995,\n       0.66355355, 0.70093649, 0.72895451, 0.76633744, 0.79438104])"
     },
     "metadata": {},
     "output_type": "display_data"
    },
    {
     "data": {
      "text/plain": "'Model change points times'"
     },
     "metadata": {},
     "output_type": "display_data"
    },
    {
     "data": {
      "text/plain": "3    1917-01-01\n7    1921-01-01\n10   1924-01-01\n14   1928-01-01\n17   1931-01-01\n20   1934-01-01\n24   1938-01-01\n27   1941-01-01\n31   1945-01-01\n34   1948-01-01\n37   1951-01-01\n41   1955-01-01\n44   1958-01-01\n48   1962-01-01\n51   1965-01-01\n54   1968-01-01\n58   1972-01-01\n61   1975-01-01\n65   1979-01-01\n68   1982-01-01\n71   1985-01-01\n75   1989-01-01\n78   1992-01-01\n82   1996-01-01\n85   1999-01-01\nName: ds, dtype: datetime64[ns]"
     },
     "metadata": {},
     "output_type": "display_data"
    },
    {
     "data": {
      "text/plain": "'Model Component Modes'"
     },
     "metadata": {},
     "output_type": "display_data"
    },
    {
     "data": {
      "text/plain": "{'additive': ['yearly',\n  'additive_terms',\n  'extra_regressors_additive',\n  'holidays'],\n 'multiplicative': ['multiplicative_terms', 'extra_regressors_multiplicative']}"
     },
     "metadata": {},
     "output_type": "display_data"
    },
    {
     "data": {
      "text/plain": "'Model Parameters'"
     },
     "metadata": {},
     "output_type": "display_data"
    },
    {
     "data": {
      "text/plain": "{'k': array([[0.02666669]]),\n 'm': array([[0.06549084]]),\n 'delta': array([[ 5.46334195e-09,  4.65034686e-09, -4.59690339e-10,\n          3.18511121e-09,  2.74154631e-09, -5.51679622e-10,\n          2.01116117e-09, -1.19098645e-09, -2.43049492e-09,\n          6.88021915e-09,  3.68777883e-10,  2.44428875e-09,\n         -8.61282226e-09,  6.33983104e-09, -1.12736635e-08,\n         -2.52950594e-09,  3.50619518e-09, -8.91894537e-10,\n          1.12290521e-10, -6.40776731e-09, -8.94260237e-05,\n         -2.50461405e-09,  6.18158918e-09, -2.93032994e-09,\n         -2.12565670e-09]]),\n 'sigma_obs': array([[0.26050421]]),\n 'beta': array([[-0.00050512,  0.00998756, -0.00101024,  0.00998982, -0.00151535,\n          0.00999359, -0.00202044,  0.00999886, -0.00252551,  0.01000563,\n         -0.00303056,  0.01001391, -0.00353558,  0.0100237 , -0.00404056,\n          0.01003499, -0.0045455 ,  0.01004778, -0.0050504 ,  0.01006208]]),\n 'trend': array([[0.06549084, 0.06573989, 0.06598893, 0.06623867, 0.06648772,\n         0.06673676, 0.06698581, 0.06723555, 0.06748459, 0.06773364,\n         0.06798269, 0.06823243, 0.06848147, 0.06873052, 0.06897957,\n         0.06922931, 0.06947835, 0.0697274 , 0.06997645, 0.07022618,\n         0.07047523, 0.07072428, 0.07097333, 0.07122306, 0.07147211,\n         0.07172116, 0.07197021, 0.07221994, 0.07246899, 0.07271804,\n         0.07296709, 0.07321682, 0.07346587, 0.07371492, 0.07396397,\n         0.0742137 , 0.07446275, 0.0747118 , 0.07496085, 0.07521058,\n         0.07545963, 0.07570868, 0.07595773, 0.07620746, 0.07645651,\n         0.07670556, 0.07695461, 0.07720434, 0.07745339, 0.07770244,\n         0.07795149, 0.07820122, 0.07845027, 0.07869932, 0.07894837,\n         0.0791981 , 0.07944715, 0.0796962 , 0.07994525, 0.08019498,\n         0.08044403, 0.08069308, 0.08094213, 0.08119186, 0.08144091,\n         0.08168996, 0.08193901, 0.08218874, 0.08243779, 0.08268684,\n         0.08293589, 0.08318562, 0.08343384, 0.08368205, 0.08393027,\n         0.08417916, 0.08442737, 0.08467559, 0.0849238 , 0.0851727 ,\n         0.08542091, 0.08566912, 0.08591734, 0.08616623, 0.08641445,\n         0.08666266, 0.08691087, 0.08715977, 0.08740798, 0.0876562 ,\n         0.08790441, 0.08815331, 0.08840152, 0.08864973, 0.08889795,\n         0.08914684, 0.08939506, 0.08964327, 0.08989148, 0.09014038,\n         0.09038859, 0.09063681, 0.09088502, 0.09113391, 0.09138213,\n         0.09163034, 0.09187856, 0.09212745]])}"
     },
     "metadata": {},
     "output_type": "display_data"
    },
    {
     "data": {
      "text/plain": "<Figure size 720x432 with 1 Axes>",
      "image/png": "[encoded data removed]"
     },
     "metadata": {
      "image/png": {
       "width": 712,
       "height": 424
      }
     },
     "output_type": "display_data"
    },
    {
     "data": {
      "text/plain": "<Figure size 648x432 with 2 Axes>",
      "image/png": "[encoded data removed]"
     },
     "metadata": {
      "image/png": {
       "width": 638,
       "height": 424
      }
     },
     "output_type": "display_data"
    }
   ],
   "execution_count": null
  },
  {
   "cell_type": "markdown",
   "source": "<a style='text-decoration:none;line-height:16px;display:flex;color:#5B5B62;padding:10px;justify-content:end;' href='https://deepnote.com?utm_source=created-in-deepnote-cell&projectId=c5ceaca9-e365-4132-a867-b543164c96b0' target=\"_blank\">\n<img alt='Created in deepnote.com' style='display:inline;max-height:16px;margin:0px;margin-right:7.5px;' src='data:image/svg+xml;base64,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' > </img>\nCreated in <span style='font-weight:600;margin-left:4px;'>Deepnote</span></a>",
   "metadata": {
    "tags": [],
    "created_in_deepnote_cell": true,
    "deepnote_cell_type": "markdown"
   }
  }
 ],
 "nbformat": 4,
 "nbformat_minor": 2,
 "metadata": {
  "orig_nbformat": 2,
  "deepnote": {
   "is_reactive": false
  },
  "deepnote_notebook_id": "d7942de4-27d6-4677-b121-f637072e7e30",
  "deepnote_execution_queue": []
 }
}