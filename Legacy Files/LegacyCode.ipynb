{
 "cells": [
  {
   "cell_type": "markdown",
   "source": "# Inflation Data",
   "metadata": {
    "cell_id": "bd218c2a00cd4d61b8ba0ab29a36f1a5",
    "tags": [],
    "deepnote_cell_type": "markdown",
    "deepnote_cell_height": 82
   }
  },
  {
   "cell_type": "code",
   "metadata": {
    "tags": [],
    "cell_id": "f2c2406f-a0af-4078-90c6-5bc7a2e697b2",
    "deepnote_to_be_reexecuted": false,
    "source_hash": "d92c7c24",
    "execution_start": 1648501719441,
    "execution_millis": 83,
    "deepnote_cell_type": "code",
    "deepnote_cell_height": 342.1875
   },
   "source": "df_inflation = pd.read_excel('CPIPctChangeData.xlsx',engine='openpyxl',sheet_name = 'BLS Data Series',skiprows=11)\n\nwindow = 3\ndf_inflation['RollingAvg5Yr'] = df_inflation.Annual.rolling(window).mean()\ndf_inflation['RollingSD5Yr'] = df_inflation.Annual.rolling(window).std()\n\ndf_inflation['RollingAvg5Yr_low'] = df_inflation.Annual.rolling(window).min()\ndf_inflation['RollingAvg5Yr_high'] = df_inflation.Annual.rolling(window).max()\n\n#df_inflation['RollingAvg5Yr_low'] = df_inflation['RollingAvg5Yr'] - df_inflation['RollingSD5Yr']\n#df_inflation['RollingAvg5Yr_high'] = df_inflation['RollingAvg5Yr'] + df_inflation['RollingSD5Yr']\ndf_inflation.head() ",
   "execution_count": null,
   "outputs": [
    {
     "output_type": "error",
     "ename": "NameError",
     "evalue": "name 'pd' is not defined",
     "traceback": [
      "\u001b[0;31m---------------------------------------------------------------------------\u001b[0m",
      "\u001b[0;31mNameError\u001b[0m                                 Traceback (most recent call last)",
      "\u001b[0;32m<ipython-input-1-7ce6ef58b081>\u001b[0m in \u001b[0;36m<module>\u001b[0;34m\u001b[0m\n\u001b[0;32m----> 1\u001b[0;31m \u001b[0mdf_inflation\u001b[0m \u001b[0;34m=\u001b[0m \u001b[0mpd\u001b[0m\u001b[0;34m.\u001b[0m\u001b[0mread_excel\u001b[0m\u001b[0;34m(\u001b[0m\u001b[0;34m'CPIPctChangeData.xlsx'\u001b[0m\u001b[0;34m,\u001b[0m\u001b[0mengine\u001b[0m\u001b[0;34m=\u001b[0m\u001b[0;34m'openpyxl'\u001b[0m\u001b[0;34m,\u001b[0m\u001b[0msheet_name\u001b[0m \u001b[0;34m=\u001b[0m \u001b[0;34m'BLS Data Series'\u001b[0m\u001b[0;34m,\u001b[0m\u001b[0mskiprows\u001b[0m\u001b[0;34m=\u001b[0m\u001b[0;36m11\u001b[0m\u001b[0;34m)\u001b[0m\u001b[0;34m\u001b[0m\u001b[0;34m\u001b[0m\u001b[0m\n\u001b[0m\u001b[1;32m      2\u001b[0m \u001b[0;34m\u001b[0m\u001b[0m\n\u001b[1;32m      3\u001b[0m \u001b[0mwindow\u001b[0m \u001b[0;34m=\u001b[0m \u001b[0;36m3\u001b[0m\u001b[0;34m\u001b[0m\u001b[0;34m\u001b[0m\u001b[0m\n\u001b[1;32m      4\u001b[0m \u001b[0mdf_inflation\u001b[0m\u001b[0;34m[\u001b[0m\u001b[0;34m'RollingAvg5Yr'\u001b[0m\u001b[0;34m]\u001b[0m \u001b[0;34m=\u001b[0m \u001b[0mdf_inflation\u001b[0m\u001b[0;34m.\u001b[0m\u001b[0mAnnual\u001b[0m\u001b[0;34m.\u001b[0m\u001b[0mrolling\u001b[0m\u001b[0;34m(\u001b[0m\u001b[0mwindow\u001b[0m\u001b[0;34m)\u001b[0m\u001b[0;34m.\u001b[0m\u001b[0mmean\u001b[0m\u001b[0;34m(\u001b[0m\u001b[0;34m)\u001b[0m\u001b[0;34m\u001b[0m\u001b[0;34m\u001b[0m\u001b[0m\n\u001b[1;32m      5\u001b[0m \u001b[0mdf_inflation\u001b[0m\u001b[0;34m[\u001b[0m\u001b[0;34m'RollingSD5Yr'\u001b[0m\u001b[0;34m]\u001b[0m \u001b[0;34m=\u001b[0m \u001b[0mdf_inflation\u001b[0m\u001b[0;34m.\u001b[0m\u001b[0mAnnual\u001b[0m\u001b[0;34m.\u001b[0m\u001b[0mrolling\u001b[0m\u001b[0;34m(\u001b[0m\u001b[0mwindow\u001b[0m\u001b[0;34m)\u001b[0m\u001b[0;34m.\u001b[0m\u001b[0mstd\u001b[0m\u001b[0;34m(\u001b[0m\u001b[0;34m)\u001b[0m\u001b[0;34m\u001b[0m\u001b[0;34m\u001b[0m\u001b[0m\n",
      "\u001b[0;31mNameError\u001b[0m: name 'pd' is not defined"
     ]
    }
   ]
  },
  {
   "cell_type": "code",
   "metadata": {
    "cell_id": "bfc9c51fbc8f45efadd962b7d9280c65",
    "tags": [],
    "deepnote_to_be_reexecuted": true,
    "source_hash": "18d42778",
    "deepnote_cell_type": "code",
    "deepnote_cell_height": 729
   },
   "source": "fig = go.Figure()\n\ny = df_inflation['Annual']\nx = df_inflation['Year']\ny_roll = df_inflation['RollingAvg5Yr']\ny_rollmin = df_inflation['RollingAvg5Yr_low']\ny_rollmax = df_inflation['RollingAvg5Yr_high']\n\nfig.add_trace(go.Scatter(x=x, y=y,\n                         marker=dict(color='#005100',size = 5),\n                         line = dict(color='#005100',width = 1),\n                         mode='markers+lines',\n                         name='Yearly Inflation Rate'))\n\nfig.add_trace(go.Scatter(x=x, y=y_roll,\n                         line = dict(color='#FF3333',width = 1),\n                         mode='lines',\n                         name='5 Year Rolling Avg'))\n\nfig.add_trace(go.Scatter(x=x, y=y_rollmin,\n                         line = dict(color='#bf9fa2',width = 1),\n                         mode='lines',\n                         name='5 Year Rolling Low'))\n\nfig.add_trace(go.Scatter(x=x, y=y_rollmax,\n                         line = dict(color='#bf9fa2',width = 1),\n                         mode='lines',\n                         fill='tonexty',\n                         name='5 Year Rolling High'))\n\n\n\nfig.update_xaxes(tickangle=-45, tickfont = dict(family = 'Arial', size = 14,color = 'black'))\nfig.update_layout(hovermode=\"x unified\",clickmode ='select',height=500,width=1100,)\n\nfig.show(config=scatter_config)\n",
   "execution_count": null,
   "outputs": []
  },
  {
   "cell_type": "code",
   "metadata": {
    "cell_id": "45998df0b3f84724804566759edf988d",
    "tags": [],
    "deepnote_to_be_reexecuted": true,
    "source_hash": "b623e53d",
    "deepnote_cell_type": "code",
    "deepnote_cell_height": 81
   },
   "source": "",
   "execution_count": null,
   "outputs": []
  },
  {
   "cell_type": "code",
   "metadata": {
    "cell_id": "962d9e6458044c4d821f61a27a3b7746",
    "tags": [],
    "deepnote_to_be_reexecuted": true,
    "source_hash": "8c5894fd",
    "execution_start": 1648501191133,
    "execution_millis": 191,
    "deepnote_cell_type": "code",
    "deepnote_cell_height": 702.1875
   },
   "source": "#https://machinelearningmastery.com/time-series-forecasting-with-prophet-in-python/\nseries = df_inflation['Annual']\nlag_plot(series)\npyplot.show()\n\ndf_model = df_inflation.copy()\ndf_model = df_model[['Year', 'Annual']]\ndf_model.rename(columns={\"Year\": \"ds\", \"Annual\": \"y\"},inplace=True)\ndf_model['ds']= pd.to_datetime(df_model['ds'],format='%Y')\n# define the model\nmodel = Prophet()\n# fit the model\nmodel.fit(df_model)\n\ndisplay('Model change points data')\ndisplay(model.changepoints_t)\n\ndisplay('Model change points times')\ndisplay(model.changepoints)\n\ndisplay('Model Component Modes')\ndisplay(model.component_modes)\n\ndisplay('Model Parameters')\ndisplay(model.params)\n\n#https://medium.com/analytics-vidhya/time-series-analysis-a-quick-tour-of-fbprophet-cbbfbffdf9d8#:~:text=Prophet%20is%20a%20procedure%20for,several%20seasons%20of%20historical%20data.\nfuture = model.make_future_dataframe(periods= 5, freq= 'Y')\nforcast = model.predict(future)\nfig = model.plot(forcast)\nfig.show()\nfig = model.plot_components(forcast)",
   "execution_count": null,
   "outputs": [
    {
     "output_type": "error",
     "ename": "NameError",
     "evalue": "name 'df_inflation' is not defined",
     "traceback": [
      "\u001b[0;31m---------------------------------------------------------------------------\u001b[0m",
      "\u001b[0;31mNameError\u001b[0m                                 Traceback (most recent call last)",
      "\u001b[0;32m<ipython-input-1-694aab50a0b8>\u001b[0m in \u001b[0;36m<module>\u001b[0;34m\u001b[0m\n\u001b[1;32m      1\u001b[0m \u001b[0;31m#https://machinelearningmastery.com/time-series-forecasting-with-prophet-in-python/\u001b[0m\u001b[0;34m\u001b[0m\u001b[0;34m\u001b[0m\u001b[0;34m\u001b[0m\u001b[0m\n\u001b[0;32m----> 2\u001b[0;31m \u001b[0mseries\u001b[0m \u001b[0;34m=\u001b[0m \u001b[0mdf_inflation\u001b[0m\u001b[0;34m[\u001b[0m\u001b[0;34m'Annual'\u001b[0m\u001b[0;34m]\u001b[0m\u001b[0;34m\u001b[0m\u001b[0;34m\u001b[0m\u001b[0m\n\u001b[0m\u001b[1;32m      3\u001b[0m \u001b[0mlag_plot\u001b[0m\u001b[0;34m(\u001b[0m\u001b[0mseries\u001b[0m\u001b[0;34m)\u001b[0m\u001b[0;34m\u001b[0m\u001b[0;34m\u001b[0m\u001b[0m\n\u001b[1;32m      4\u001b[0m \u001b[0mpyplot\u001b[0m\u001b[0;34m.\u001b[0m\u001b[0mshow\u001b[0m\u001b[0;34m(\u001b[0m\u001b[0;34m)\u001b[0m\u001b[0;34m\u001b[0m\u001b[0;34m\u001b[0m\u001b[0m\n\u001b[1;32m      5\u001b[0m \u001b[0;34m\u001b[0m\u001b[0m\n",
      "\u001b[0;31mNameError\u001b[0m: name 'df_inflation' is not defined"
     ]
    }
   ]
  },
  {
   "cell_type": "code",
   "metadata": {
    "cell_id": "c9cf507898464dd8b04ce22db8610539",
    "tags": [],
    "deepnote_cell_type": "code",
    "deepnote_cell_height": 66
   },
   "source": "",
   "execution_count": null,
   "outputs": []
  },
  {
   "cell_type": "code",
   "source": "#don't run causes memory error attempt at autoarima\n\n'''import pmdarima as pm\n\nmodel_data = cpi_monthly.copy()\nmodel_data.set_index('Date',inplace = True)\nmodel_data = model_data[['Inflation']].dropna()\n\ndisplay(model_data.head())\n# Seasonal - fit stepwise auto-ARIMA\nsmodel = pm.auto_arima(model_data, start_p=1, start_q=1,\n                       test='adf',\n                       max_p=3, max_q=3, m=12,\n                       start_P=0, seasonal=True,\n                       d=None, D=1, trace=True,\n                       error_action='ignore',  \n                       suppress_warnings=True,\n                       stepwise=True)\n\nsmodel.summary()'''",
   "metadata": {
    "cell_id": "baf5fadc72b847edae4349424f04ed45",
    "tags": [],
    "deepnote_cell_type": "code"
   },
   "outputs": [],
   "execution_count": null
  },
  {
   "cell_type": "markdown",
   "source": "# Prophet Modeling",
   "metadata": {
    "cell_id": "99fe8d6ec2f84fe4aee192cdeb634847",
    "tags": [],
    "deepnote_cell_type": "markdown",
    "deepnote_cell_height": 82
   }
  },
  {
   "cell_type": "code",
   "metadata": {
    "cell_id": "794c5ece0a1b401bab1ee65ff26a2adf",
    "tags": [],
    "deepnote_cell_type": "code",
    "deepnote_cell_height": 462
   },
   "source": "def build_model_prophet(model_data = None,fourier_order  = None):\n    model = Prophet(seasonality_mode='multiplicative',\n                        growth= 'linear',\n                        weekly_seasonality=False,\n                        daily_seasonality=False,\n                        yearly_seasonality = False,\n                        mcmc_samples=0,\n                        changepoint_range=1,\n                        changepoint_prior_scale=0.25,\n                        #n_changepoints = 2\n                        #).add_seasonality(\n                        #    name ='monthly',period =30.5,fourier_order = 55\n                        #).add_seasonality(\n                        #name ='yearly',period =365.25,fourier_order = fourier_order\n                        )\n\n    model.fit(model_data)\n\n    future = model.make_future_dataframe(periods= 24, freq= 'M')\n\n    forcast = model.predict(future)\n    \n    return {'model': model, 'forcast': forcast}",
   "execution_count": null,
   "outputs": []
  },
  {
   "cell_type": "code",
   "metadata": {
    "cell_id": "dae65811c3714789af33266c1c94260c",
    "tags": [],
    "deepnote_cell_type": "code",
    "deepnote_cell_height": 714
   },
   "source": "df_model_cpi = df_cpi.copy()\ndf_model_cpi = df_model_cpi[['Year', 'CPI']]\ndisplay(df_model_cpi.head())\ndf_model_cpi.rename(columns={\"Year\": \"ds\", \"Annual\": \"y\"},inplace=True)\ndf_model_cpi['ds']= pd.to_datetime(df_model_cpi['ds'],format='%Y')\n\nfourier_orders = list(range(0,10,1))\n\nmodel_dict = {}\ndisplay(Markdown('<h2>Model Building in Progress...</h2>'))\ncounter = 1\n'''\nfor i in fourier_orders:\n    if i == 0:\n        pass\n    else:\n        display(Markdown(f'Building {counter}/{len(fourier_orders)-1}'))\n        #display(Markdown(f'Order: {i}'))\n        temp_model = build_model_prophet(model_data = df_model_cpi,fourier_order = i)\n        model = temp_model['model']\n        forcast = temp_model['forcast']\n        plot_model(model_data = df_model_cpi,model =  model,forcast = forcast,fourier_order = i)\n        plot_model_components(model = model,forcast = forcast)\n        \n        model_dict[f'Order {i}'] = temp_model\n        counter += 1\n\n'''\ntemp_model = build_model_prophet(model_data = df_model_cpi,fourier_order = None)\nmodel = temp_model['model']\nforcast = temp_model['forcast']\nplot_model(model_data = df_model_cpi,model =  model,forcast = forcast,fourier_order = i)\nplot_model_components(model = model,forcast = forcast)\n\nmodel_dict[f'Order {i}'] = temp_model\n        \ndisplay(Markdown('<h1>Model Building Completed.</h1>'))",
   "execution_count": null,
   "outputs": []
  },
  {
   "cell_type": "code",
   "metadata": {
    "cell_id": "6f5c2a76db9c4598b9403b5b89ac0709",
    "tags": [],
    "deepnote_cell_type": "code",
    "deepnote_cell_height": 462
   },
   "source": "def build_model_prophet(model_data = None,fourier_order  = None):\n    model = Prophet(seasonality_mode='multiplicative',\n                        growth= 'linear',\n                        weekly_seasonality=False,\n                        daily_seasonality=False,\n                        yearly_seasonality = False,\n                        mcmc_samples=0,\n                        changepoint_range=1,\n                        changepoint_prior_scale=0.25,\n                        #n_changepoints = 5\n                        #).add_seasonality(\n                        #    name ='monthly',period =30.5,fourier_order = 55\n                        ).add_seasonality(\n                        name ='yearly',period =365.25,fourier_order = fourier_order\n                        )\n\n    model.fit(model_data)\n\n    future = model.make_future_dataframe(periods= 24, freq= 'M')\n\n    forcast = model.predict(future)\n    \n    return {'model': model, 'forcast': forcast}",
   "execution_count": null,
   "outputs": []
  },
  {
   "cell_type": "code",
   "metadata": {
    "cell_id": "9d24442cc4b640a78430e5a7c959c4e2",
    "tags": [],
    "deepnote_cell_type": "code",
    "deepnote_cell_height": 642
   },
   "source": "df_model_cpi = df_cpi.copy()\ndf_model_cpi = df_model_cpi[['Year', 'Inflation']]\ndf_model_cpi.rename(columns={\"Year\": \"ds\", \"Inflation\": \"y\"},inplace=True)\ndf_model_cpi['ds']= pd.to_datetime(df_model_cpi['ds'],format='%Y')\n\nfourier_orders = list(range(0,6,1))\n\nmodel_dict = {}\ndisplay(Markdown('<h2>Model Building in Progress...</h2>'))\ncounter = 1\nfor i in fourier_orders:\n    if i == 0:\n        pass\n    else:\n        display(Markdown(f'Building {counter}/{len(fourier_orders)-1}'))\n        #display(Markdown(f'Order: {i}'))\n        temp_model = build_model_prophet(model_data = df_model_cpi,fourier_order = i)\n        model = temp_model['model']\n        forcast = temp_model['forcast']\n        #plot_model(model_data = df_model_cpi,model =  model,forcast = forcast,fourier_order = i)\n        #plot_model_components(model = model,forcast = forcast)\n\n        fig = model.plot(forcast, xlabel='Date', ylabel='Inflation Rate (Order: {})'.format(i))\n    \n        a = add_changepoints_to_plot(fig.gca(), model, forcast)\n        fig.show()\n        fig = model.plot_components(forcast)\n        fig.show()\n            \n        model_dict[f'Order {i}'] = temp_model\n        counter += 1\n        \ndisplay(Markdown('<h1>Model Building Completed.</h1>'))",
   "execution_count": null,
   "outputs": []
  },
  {
   "cell_type": "markdown",
   "source": "## Import item price data",
   "metadata": {
    "cell_id": "509a1605574143a3a7eb372afcc3110c",
    "tags": [],
    "deepnote_cell_type": "markdown",
    "deepnote_cell_height": 70
   }
  },
  {
   "cell_type": "code",
   "metadata": {
    "cell_id": "82d3a514ae044d359d8df3c798e36491",
    "tags": [],
    "deepnote_cell_type": "code",
    "deepnote_cell_height": 498
   },
   "source": "pricing = pd.read_excel('IndividualPricingData.xls',engine='xlrd',sheet_name = 'Monthly')\npricing['DATE'] = pricing['DATE'].dt.date\nrename_map = pd.read_excel('IndividualPricingData.xls',engine='xlrd',sheet_name = 'MatchedMap')\n\nfor column in pricing.columns:\n    if column == 'DATE':\n        #skip column if it's the date column\n        continue\n    else:\n        temp_real_col = rename_map['StripName2'][rename_map['SourceID'] == column].values[0]\n        temp_real_col = temp_real_col.split(' (')\n        #print(temp_real_col)\n        pricing.rename(columns = {column: temp_real_col[0]},inplace = True)\n\npricing.set_index('DATE',inplace = True)\n\ndisplay(Markdown('<h2>Pricing Data</h2>'))\ndisplay(pricing.head())\n'''\nfor column in pricing.columns:\n    print(column)\n    inflation_name = column + ' INFLATION'\n    pricing[inflation_name] = (pricing[column].diff()/ pricing[column].shift(1))*100\n'''\n",
   "execution_count": null,
   "outputs": []
  },
  {
   "cell_type": "code",
   "metadata": {
    "cell_id": "d5ade34eb00041eebe04b306565afb8e",
    "tags": [],
    "deepnote_cell_type": "code",
    "deepnote_cell_height": 102
   },
   "source": "print(len(list(pricing.columns.values)))\n\nprint(len(list(set(pricing.columns.values))))",
   "execution_count": null,
   "outputs": []
  },
  {
   "cell_type": "code",
   "metadata": {
    "cell_id": "6e060c104b73442fbc452248828c3606",
    "tags": [],
    "deepnote_cell_type": "code",
    "deepnote_cell_height": 156
   },
   "source": "import collections\ndupe_columns = [item for item, count in collections.Counter(list(pricing.columns.values)).items() if count > 1]\ndisplay('The following column names are dupliated:')\ndisplay(dupe_columns)\n\n",
   "execution_count": null,
   "outputs": []
  },
  {
   "cell_type": "code",
   "metadata": {
    "cell_id": "f6af338e190c44ebbcece67ef2ec9db6",
    "tags": [],
    "deepnote_cell_type": "code",
    "deepnote_cell_height": 804
   },
   "source": "size_prices = {}\n\nfor column in pricing.columns:\n    temp_series = pricing[column].dropna()\n    item_datapoints = len(temp_series)\n    size_prices[column] = item_datapoints\n\ndf_sizes = pd.DataFrame(size_prices, index=['DataPoints']).T\ndf_sizes.reset_index(inplace = True)\ndf_sizes.rename(columns = {'index': 'ItemNames'},inplace = True)\n\nfig = px.bar(df_sizes, x='ItemNames', y='DataPoints')\nfig.update_layout(height=700,width=1100,)\ndisplay(Markdown('<h2>Number of Data Points per Item</h2>'))\nfig.show()\n\n\n'''item_most_data = max(size_prices, key=size_prices.get)\nsize_most_data = size_prices[item_most_data]\ndisplay(Markdown(f'Item with the most data: **{item_most_data} ({size_most_data} points)**'))\n\npct_of_max = 0.6\nmin_num_points = int(pct_of_max*size_most_data)\ndisplay(Markdown(f'Removing Variables with < **{min_num_points} points**'))'''\n\nmode_data = stats.mode(df_sizes['DataPoints'])\ndisplay(Markdown(f'Mode of data points: **{mode_data} points**'))\ndisplay(Markdown(f'Keeping variables with only data points = **{mode_data} points**'))\n\n\nideal_data_keys = []\nfor key in size_prices.keys():\n    if size_prices[key] == 506 or size_prices[key] == 505:\n        ideal_data_keys.append(key)\n\n\npricing_filtered = pricing.copy()\npricing_filtered =  pricing_filtered[ideal_data_keys]\npricing_filtered = pricing_filtered.dropna()\npricing_filtered\n\n",
   "execution_count": null,
   "outputs": []
  },
  {
   "cell_type": "code",
   "metadata": {
    "cell_id": "65c9b814c04e47a3bb712167db751dfa",
    "tags": [],
    "deepnote_cell_type": "code",
    "deepnote_cell_height": 210
   },
   "source": "fig = go.Figure()\n\n# Loop df columns and plot columns to the figure\nfor i in pricing_filtered.columns:\n    fig.add_trace(go.Scatter(x=pricing_filtered.index.values, y=pricing_filtered[i],\n                        mode='lines', # 'lines' or 'markers'\n                        name=i))\ndisplay(Markdown('<h2>Price of Goods with the Same Time Period</h2>'))\nfig.show()",
   "execution_count": null,
   "outputs": []
  },
  {
   "cell_type": "code",
   "metadata": {
    "cell_id": "e3e2ba011be74f3aa7f9e1c111c69bab",
    "tags": [],
    "deepnote_cell_type": "code",
    "deepnote_cell_height": 336
   },
   "source": "pricing_filtered_inf = pricing_filtered.copy()\n\nfor column in pricing_filtered_inf.columns:\n    inflation_name = column + ' INFLATION'\n    pricing_filtered_inf[inflation_name] = (pricing_filtered_inf[column].diff()/ pricing_filtered_inf[column].shift(1))*100\n\nfig = go.Figure()\n\n# Loop df columns and plot columns to the figure\nfor i in pricing_filtered_inf.columns:\n    if 'INFLATION' in i:\n        fig.add_trace(go.Scatter(x=pricing_filtered_inf.index.values, y=pricing_filtered_inf[i],\n                            mode='lines', # 'lines' or 'markers'\n                            name=i))\ndisplay(Markdown('<h2>Inflation Rate of Goods with the Same Time Period</h2>'))\nfig.show()",
   "execution_count": null,
   "outputs": []
  },
  {
   "cell_type": "code",
   "metadata": {
    "cell_id": "ed3cfa9f6ad7436c909bc15dde000e53",
    "tags": [],
    "deepnote_cell_type": "code",
    "deepnote_cell_height": 66
   },
   "source": "",
   "execution_count": null,
   "outputs": []
  },
  {
   "cell_type": "code",
   "metadata": {
    "cell_id": "2bbebc85d8384038aaeeb18c31555b50",
    "tags": [],
    "deepnote_cell_type": "code",
    "deepnote_cell_height": 66
   },
   "source": "",
   "execution_count": null,
   "outputs": []
  },
  {
   "cell_type": "code",
   "metadata": {
    "cell_id": "c3ff3c471022484c822186482be0a73e",
    "tags": [],
    "deepnote_cell_type": "code",
    "deepnote_cell_height": 66
   },
   "source": "",
   "execution_count": null,
   "outputs": []
  },
  {
   "cell_type": "markdown",
   "source": "",
   "metadata": {
    "cell_id": "fe8bf95ca256426aa446f71f5c03b090",
    "tags": [],
    "deepnote_cell_type": "markdown",
    "deepnote_cell_height": 46
   }
  },
  {
   "cell_type": "markdown",
   "source": "<a style='text-decoration:none;line-height:16px;display:flex;color:#5B5B62;padding:10px;justify-content:end;' href='https://deepnote.com?utm_source=created-in-deepnote-cell&projectId=c5ceaca9-e365-4132-a867-b543164c96b0' target=\"_blank\">\n<img alt='Created in deepnote.com' style='display:inline;max-height:16px;margin:0px;margin-right:7.5px;' src='data:image/svg+xml;base64,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' > </img>\nCreated in <span style='font-weight:600;margin-left:4px;'>Deepnote</span></a>",
   "metadata": {
    "tags": [],
    "created_in_deepnote_cell": true,
    "deepnote_cell_type": "markdown"
   }
  }
 ],
 "nbformat": 4,
 "nbformat_minor": 2,
 "metadata": {
  "orig_nbformat": 2,
  "deepnote": {
   "is_reactive": false
  },
  "deepnote_notebook_id": "789dd172-6ca7-4f6f-a18a-54cbab7b790b",
  "deepnote_execution_queue": []
 }
}